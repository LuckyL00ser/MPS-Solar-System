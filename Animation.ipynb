{
 "cells": [
  {
   "cell_type": "code",
   "execution_count": 71,
   "id": "documentary-fitting",
   "metadata": {},
   "outputs": [
    {
     "data": {
      "text/html": [
       "        <script type=\"text/javascript\">\n",
       "        window.PlotlyConfig = {MathJaxConfig: 'local'};\n",
       "        if (window.MathJax) {MathJax.Hub.Config({SVG: {font: \"STIX-Web\"}});}\n",
       "        if (typeof require !== 'undefined') {\n",
       "        require.undef(\"plotly\");\n",
       "        requirejs.config({\n",
       "            paths: {\n",
       "                'plotly': ['https://cdn.plot.ly/plotly-latest.min']\n",
       "            }\n",
       "        });\n",
       "        require(['plotly'], function(Plotly) {\n",
       "            window._Plotly = Plotly;\n",
       "        });\n",
       "        }\n",
       "        </script>\n",
       "        "
      ]
     },
     "metadata": {},
     "output_type": "display_data"
    },
    {
     "data": {
      "text/html": [
       "        <script type=\"text/javascript\">\n",
       "        window.PlotlyConfig = {MathJaxConfig: 'local'};\n",
       "        if (window.MathJax) {MathJax.Hub.Config({SVG: {font: \"STIX-Web\"}});}\n",
       "        if (typeof require !== 'undefined') {\n",
       "        require.undef(\"plotly\");\n",
       "        requirejs.config({\n",
       "            paths: {\n",
       "                'plotly': ['https://cdn.plot.ly/plotly-latest.min']\n",
       "            }\n",
       "        });\n",
       "        require(['plotly'], function(Plotly) {\n",
       "            window._Plotly = Plotly;\n",
       "        });\n",
       "        }\n",
       "        </script>\n",
       "        "
      ]
     },
     "metadata": {},
     "output_type": "display_data"
    }
   ],
   "source": [
    "import numpy as np\n",
    "import pandas as pd\n",
    "import seaborn as sns\n",
    "import cufflinks as cf\n",
    "import plotly.express as px\n",
    "import chart_studio.plotly as py\n",
    "%matplotlib inline\n",
    "\n",
    "from plotly.offline import download_plotlyjs, init_notebook_mode, plot, iplot\n",
    "init_notebook_mode(connected=True)\n",
    "cf.go_offline()\n",
    "\n",
    "\n",
    "def scale_axis(data: pd.DataFrame, scale: list) -> pd.DataFrame:\n",
    "    data[\"x\"] = data[\"x\"] / scale\n",
    "    data[\"y\"] = data[\"y\"] / scale\n",
    "    data[\"z\"] = data[\"z\"] / scale\n",
    "    return data"
   ]
  },
  {
   "cell_type": "markdown",
   "id": "jewish-brave",
   "metadata": {},
   "source": [
    "positions = np.load(\"positions.npy\")  \n",
    "positions.shape"
   ]
  },
  {
   "cell_type": "code",
   "execution_count": 134,
   "id": "beginning-chess",
   "metadata": {},
   "outputs": [
    {
     "data": {
      "text/html": [
       "<div>\n",
       "<style scoped>\n",
       "    .dataframe tbody tr th:only-of-type {\n",
       "        vertical-align: middle;\n",
       "    }\n",
       "\n",
       "    .dataframe tbody tr th {\n",
       "        vertical-align: top;\n",
       "    }\n",
       "\n",
       "    .dataframe thead th {\n",
       "        text-align: right;\n",
       "    }\n",
       "</style>\n",
       "<table border=\"1\" class=\"dataframe\">\n",
       "  <thead>\n",
       "    <tr style=\"text-align: right;\">\n",
       "      <th></th>\n",
       "      <th>name</th>\n",
       "      <th>mass</th>\n",
       "      <th>color</th>\n",
       "      <th>radius</th>\n",
       "    </tr>\n",
       "  </thead>\n",
       "  <tbody>\n",
       "    <tr>\n",
       "      <th>0</th>\n",
       "      <td>Sun</td>\n",
       "      <td>1.988470e+30</td>\n",
       "      <td>yellow</td>\n",
       "      <td>696340000.0</td>\n",
       "    </tr>\n",
       "    <tr>\n",
       "      <th>1</th>\n",
       "      <td>Mercury</td>\n",
       "      <td>3.285000e+23</td>\n",
       "      <td>orange</td>\n",
       "      <td>2439.7</td>\n",
       "    </tr>\n",
       "    <tr>\n",
       "      <th>3</th>\n",
       "      <td>Earth</td>\n",
       "      <td>6.046000e+24</td>\n",
       "      <td>blue</td>\n",
       "      <td>6371.0</td>\n",
       "    </tr>\n",
       "    <tr>\n",
       "      <th>4</th>\n",
       "      <td>Mars</td>\n",
       "      <td>6.390000e+23</td>\n",
       "      <td>red</td>\n",
       "      <td>3389.5</td>\n",
       "    </tr>\n",
       "    <tr>\n",
       "      <th>5</th>\n",
       "      <td>Jupiter</td>\n",
       "      <td>1.898000e+27</td>\n",
       "      <td>orange</td>\n",
       "      <td>69911.0</td>\n",
       "    </tr>\n",
       "    <tr>\n",
       "      <th>6</th>\n",
       "      <td>Saturn</td>\n",
       "      <td>5.683000e+26</td>\n",
       "      <td>brown</td>\n",
       "      <td>58232.0</td>\n",
       "    </tr>\n",
       "    <tr>\n",
       "      <th>7</th>\n",
       "      <td>Uranus</td>\n",
       "      <td>8.681000e+25</td>\n",
       "      <td>purple</td>\n",
       "      <td>25362.0</td>\n",
       "    </tr>\n",
       "    <tr>\n",
       "      <th>8</th>\n",
       "      <td>Neptune</td>\n",
       "      <td>1.024000e+26</td>\n",
       "      <td>cyan</td>\n",
       "      <td>25622.0</td>\n",
       "    </tr>\n",
       "  </tbody>\n",
       "</table>\n",
       "</div>"
      ],
      "text/plain": [
       "      name          mass   color       radius\n",
       "0      Sun  1.988470e+30  yellow  696340000.0\n",
       "1  Mercury  3.285000e+23  orange       2439.7\n",
       "3    Earth  6.046000e+24    blue       6371.0\n",
       "4     Mars  6.390000e+23     red       3389.5\n",
       "5  Jupiter  1.898000e+27  orange      69911.0\n",
       "6   Saturn  5.683000e+26   brown      58232.0\n",
       "7   Uranus  8.681000e+25  purple      25362.0\n",
       "8  Neptune  1.024000e+26    cyan      25622.0"
      ]
     },
     "execution_count": 134,
     "metadata": {},
     "output_type": "execute_result"
    }
   ],
   "source": [
    "planets_data = pd.read_csv(\"planets_data.csv\", index_col=0)\n",
    "planets_data = planets_data[planets_data.name != \"Venus\"]\n",
    "number_of_planets = planets_data.shape[0]\n",
    "planets_data"
   ]
  },
  {
   "cell_type": "code",
   "execution_count": 178,
   "id": "identified-electron",
   "metadata": {
    "scrolled": true
   },
   "outputs": [
    {
     "data": {
      "text/html": [
       "<div>\n",
       "<style scoped>\n",
       "    .dataframe tbody tr th:only-of-type {\n",
       "        vertical-align: middle;\n",
       "    }\n",
       "\n",
       "    .dataframe tbody tr th {\n",
       "        vertical-align: top;\n",
       "    }\n",
       "\n",
       "    .dataframe thead th {\n",
       "        text-align: right;\n",
       "    }\n",
       "</style>\n",
       "<table border=\"1\" class=\"dataframe\">\n",
       "  <thead>\n",
       "    <tr style=\"text-align: right;\">\n",
       "      <th></th>\n",
       "      <th>index</th>\n",
       "      <th>time</th>\n",
       "      <th>x</th>\n",
       "      <th>y</th>\n",
       "      <th>z</th>\n",
       "      <th>name</th>\n",
       "      <th>radius</th>\n",
       "      <th>mass</th>\n",
       "    </tr>\n",
       "  </thead>\n",
       "  <tbody>\n",
       "    <tr>\n",
       "      <th>0</th>\n",
       "      <td>0</td>\n",
       "      <td>2021:05:18</td>\n",
       "      <td>0.000000e+00</td>\n",
       "      <td>0.000000e+00</td>\n",
       "      <td>0.000000e+00</td>\n",
       "      <td>Sun</td>\n",
       "      <td>20.361349</td>\n",
       "      <td>1.988470e+30</td>\n",
       "    </tr>\n",
       "    <tr>\n",
       "      <th>1</th>\n",
       "      <td>0</td>\n",
       "      <td>2021:05:18</td>\n",
       "      <td>1.799662e+11</td>\n",
       "      <td>1.087726e+11</td>\n",
       "      <td>4.502896e+10</td>\n",
       "      <td>Mars</td>\n",
       "      <td>8.128438</td>\n",
       "      <td>6.390000e+23</td>\n",
       "    </tr>\n",
       "    <tr>\n",
       "      <th>2</th>\n",
       "      <td>0</td>\n",
       "      <td>2021:05:18</td>\n",
       "      <td>-3.744435e+10</td>\n",
       "      <td>2.801968e+10</td>\n",
       "      <td>1.884933e+10</td>\n",
       "      <td>Mercury</td>\n",
       "      <td>7.799630</td>\n",
       "      <td>3.285000e+23</td>\n",
       "    </tr>\n",
       "    <tr>\n",
       "      <th>3</th>\n",
       "      <td>0</td>\n",
       "      <td>2021:05:18</td>\n",
       "      <td>2.535684e+12</td>\n",
       "      <td>-3.424295e+12</td>\n",
       "      <td>-1.464563e+12</td>\n",
       "      <td>Neptune</td>\n",
       "      <td>10.151207</td>\n",
       "      <td>1.024000e+26</td>\n",
       "    </tr>\n",
       "    <tr>\n",
       "      <th>4</th>\n",
       "      <td>0</td>\n",
       "      <td>2021:05:18</td>\n",
       "      <td>9.221213e+11</td>\n",
       "      <td>9.524896e+11</td>\n",
       "      <td>3.537990e+11</td>\n",
       "      <td>Saturn</td>\n",
       "      <td>10.972190</td>\n",
       "      <td>5.683000e+26</td>\n",
       "    </tr>\n",
       "    <tr>\n",
       "      <th>5</th>\n",
       "      <td>0</td>\n",
       "      <td>2021:05:18</td>\n",
       "      <td>2.181137e+12</td>\n",
       "      <td>-1.850526e+12</td>\n",
       "      <td>-8.413384e+11</td>\n",
       "      <td>Uranus</td>\n",
       "      <td>10.141007</td>\n",
       "      <td>8.681000e+25</td>\n",
       "    </tr>\n",
       "    <tr>\n",
       "      <th>6</th>\n",
       "      <td>0</td>\n",
       "      <td>2021:05:18</td>\n",
       "      <td>5.584489e+11</td>\n",
       "      <td>4.565727e+11</td>\n",
       "      <td>1.820606e+11</td>\n",
       "      <td>Jupiter</td>\n",
       "      <td>11.154978</td>\n",
       "      <td>1.898000e+27</td>\n",
       "    </tr>\n",
       "    <tr>\n",
       "      <th>7</th>\n",
       "      <td>0</td>\n",
       "      <td>2021:05:18</td>\n",
       "      <td>-1.360144e+11</td>\n",
       "      <td>5.375051e+10</td>\n",
       "      <td>2.330735e+10</td>\n",
       "      <td>Earth</td>\n",
       "      <td>8.759512</td>\n",
       "      <td>6.046000e+24</td>\n",
       "    </tr>\n",
       "  </tbody>\n",
       "</table>\n",
       "</div>"
      ],
      "text/plain": [
       "   index        time             x             y             z     name  \\\n",
       "0      0  2021:05:18  0.000000e+00  0.000000e+00  0.000000e+00      Sun   \n",
       "1      0  2021:05:18  1.799662e+11  1.087726e+11  4.502896e+10     Mars   \n",
       "2      0  2021:05:18 -3.744435e+10  2.801968e+10  1.884933e+10  Mercury   \n",
       "3      0  2021:05:18  2.535684e+12 -3.424295e+12 -1.464563e+12  Neptune   \n",
       "4      0  2021:05:18  9.221213e+11  9.524896e+11  3.537990e+11   Saturn   \n",
       "5      0  2021:05:18  2.181137e+12 -1.850526e+12 -8.413384e+11   Uranus   \n",
       "6      0  2021:05:18  5.584489e+11  4.565727e+11  1.820606e+11  Jupiter   \n",
       "7      0  2021:05:18 -1.360144e+11  5.375051e+10  2.330735e+10    Earth   \n",
       "\n",
       "      radius          mass  \n",
       "0  20.361349  1.988470e+30  \n",
       "1   8.128438  6.390000e+23  \n",
       "2   7.799630  3.285000e+23  \n",
       "3  10.151207  1.024000e+26  \n",
       "4  10.972190  5.683000e+26  \n",
       "5  10.141007  8.681000e+25  \n",
       "6  11.154978  1.898000e+27  \n",
       "7   8.759512  6.046000e+24  "
      ]
     },
     "execution_count": 178,
     "metadata": {},
     "output_type": "execute_result"
    }
   ],
   "source": [
    "import datetime\n",
    "\n",
    "position_history = pd.read_csv(\"position_history.csv\", index_col=0)\n",
    "position_history[\"time\"] = pd.to_datetime(position_history[\"time\"]).astype(\"datetime64[D]\")\n",
    "position_history = position_history[position_history.name != \"Venus\"]\n",
    "position_history[\"radius\"] = np.log(position_history[\"radius\"])\n",
    "# position_history = scale_axis(position_history, scale=10e8)\n",
    "position_history = position_history.sort_values(\"time\")\n",
    "\n",
    "start_time = min(position_history[\"time\"])\n",
    "end_time = max(position_history[\"time\"])\n",
    "\n",
    "position_history[\"time\"] = position_history[\"time\"].dt.strftime(\"%Y:%m:%d\")\n",
    "\n",
    "position_history = position_history.reset_index()\n",
    "position_history.head(number_of_planets)"
   ]
  },
  {
   "cell_type": "code",
   "execution_count": 186,
   "id": "molecular-catholic",
   "metadata": {
    "scrolled": false
   },
   "outputs": [
    {
     "data": {
      "text/html": [
       "<div>\n",
       "<style scoped>\n",
       "    .dataframe tbody tr th:only-of-type {\n",
       "        vertical-align: middle;\n",
       "    }\n",
       "\n",
       "    .dataframe tbody tr th {\n",
       "        vertical-align: top;\n",
       "    }\n",
       "\n",
       "    .dataframe thead th {\n",
       "        text-align: right;\n",
       "    }\n",
       "</style>\n",
       "<table border=\"1\" class=\"dataframe\">\n",
       "  <thead>\n",
       "    <tr style=\"text-align: right;\">\n",
       "      <th></th>\n",
       "      <th>index</th>\n",
       "      <th>time</th>\n",
       "      <th>x</th>\n",
       "      <th>y</th>\n",
       "      <th>z</th>\n",
       "      <th>name</th>\n",
       "      <th>radius</th>\n",
       "      <th>mass</th>\n",
       "    </tr>\n",
       "  </thead>\n",
       "  <tbody>\n",
       "    <tr>\n",
       "      <th>0</th>\n",
       "      <td>0</td>\n",
       "      <td>2021:05:18</td>\n",
       "      <td>0.000000e+00</td>\n",
       "      <td>0.000000e+00</td>\n",
       "      <td>0.000000e+00</td>\n",
       "      <td>Sun</td>\n",
       "      <td>20.361349</td>\n",
       "      <td>1.988470e+30</td>\n",
       "    </tr>\n",
       "    <tr>\n",
       "      <th>1</th>\n",
       "      <td>0</td>\n",
       "      <td>2021:05:18</td>\n",
       "      <td>1.799662e+11</td>\n",
       "      <td>1.087726e+11</td>\n",
       "      <td>4.502896e+10</td>\n",
       "      <td>Mars</td>\n",
       "      <td>8.128438</td>\n",
       "      <td>6.390000e+23</td>\n",
       "    </tr>\n",
       "    <tr>\n",
       "      <th>2</th>\n",
       "      <td>0</td>\n",
       "      <td>2021:05:18</td>\n",
       "      <td>-3.744435e+10</td>\n",
       "      <td>2.801968e+10</td>\n",
       "      <td>1.884933e+10</td>\n",
       "      <td>Mercury</td>\n",
       "      <td>7.799630</td>\n",
       "      <td>3.285000e+23</td>\n",
       "    </tr>\n",
       "    <tr>\n",
       "      <th>3</th>\n",
       "      <td>0</td>\n",
       "      <td>2021:05:18</td>\n",
       "      <td>2.535684e+12</td>\n",
       "      <td>-3.424295e+12</td>\n",
       "      <td>-1.464563e+12</td>\n",
       "      <td>Neptune</td>\n",
       "      <td>10.151207</td>\n",
       "      <td>1.024000e+26</td>\n",
       "    </tr>\n",
       "    <tr>\n",
       "      <th>4</th>\n",
       "      <td>0</td>\n",
       "      <td>2021:05:18</td>\n",
       "      <td>9.221213e+11</td>\n",
       "      <td>9.524896e+11</td>\n",
       "      <td>3.537990e+11</td>\n",
       "      <td>Saturn</td>\n",
       "      <td>10.972190</td>\n",
       "      <td>5.683000e+26</td>\n",
       "    </tr>\n",
       "    <tr>\n",
       "      <th>5</th>\n",
       "      <td>0</td>\n",
       "      <td>2021:05:18</td>\n",
       "      <td>2.181137e+12</td>\n",
       "      <td>-1.850526e+12</td>\n",
       "      <td>-8.413384e+11</td>\n",
       "      <td>Uranus</td>\n",
       "      <td>10.141007</td>\n",
       "      <td>8.681000e+25</td>\n",
       "    </tr>\n",
       "    <tr>\n",
       "      <th>6</th>\n",
       "      <td>0</td>\n",
       "      <td>2021:05:18</td>\n",
       "      <td>5.584489e+11</td>\n",
       "      <td>4.565727e+11</td>\n",
       "      <td>1.820606e+11</td>\n",
       "      <td>Jupiter</td>\n",
       "      <td>11.154978</td>\n",
       "      <td>1.898000e+27</td>\n",
       "    </tr>\n",
       "    <tr>\n",
       "      <th>7</th>\n",
       "      <td>0</td>\n",
       "      <td>2021:05:18</td>\n",
       "      <td>-1.360144e+11</td>\n",
       "      <td>5.375051e+10</td>\n",
       "      <td>2.330735e+10</td>\n",
       "      <td>Earth</td>\n",
       "      <td>8.759512</td>\n",
       "      <td>6.046000e+24</td>\n",
       "    </tr>\n",
       "    <tr>\n",
       "      <th>56</th>\n",
       "      <td>7</td>\n",
       "      <td>2021:05:25</td>\n",
       "      <td>5.530890e+11</td>\n",
       "      <td>4.622989e+11</td>\n",
       "      <td>1.846458e+11</td>\n",
       "      <td>Jupiter</td>\n",
       "      <td>11.154978</td>\n",
       "      <td>1.898000e+27</td>\n",
       "    </tr>\n",
       "    <tr>\n",
       "      <th>57</th>\n",
       "      <td>7</td>\n",
       "      <td>2021:05:25</td>\n",
       "      <td>9.174767e+11</td>\n",
       "      <td>9.560348e+11</td>\n",
       "      <td>3.554627e+11</td>\n",
       "      <td>Saturn</td>\n",
       "      <td>10.972190</td>\n",
       "      <td>5.683000e+26</td>\n",
       "    </tr>\n",
       "    <tr>\n",
       "      <th>58</th>\n",
       "      <td>7</td>\n",
       "      <td>2021:05:25</td>\n",
       "      <td>2.183908e+12</td>\n",
       "      <td>-1.847919e+12</td>\n",
       "      <td>-8.402360e+11</td>\n",
       "      <td>Uranus</td>\n",
       "      <td>10.141007</td>\n",
       "      <td>8.681000e+25</td>\n",
       "    </tr>\n",
       "    <tr>\n",
       "      <th>59</th>\n",
       "      <td>7</td>\n",
       "      <td>2021:05:25</td>\n",
       "      <td>2.979546e+04</td>\n",
       "      <td>2.736945e+04</td>\n",
       "      <td>1.094750e+04</td>\n",
       "      <td>Sun</td>\n",
       "      <td>20.361349</td>\n",
       "      <td>1.988470e+30</td>\n",
       "    </tr>\n",
       "    <tr>\n",
       "      <th>60</th>\n",
       "      <td>7</td>\n",
       "      <td>2021:05:25</td>\n",
       "      <td>2.538373e+12</td>\n",
       "      <td>-3.422533e+12</td>\n",
       "      <td>-1.463909e+12</td>\n",
       "      <td>Neptune</td>\n",
       "      <td>10.151207</td>\n",
       "      <td>1.024000e+26</td>\n",
       "    </tr>\n",
       "    <tr>\n",
       "      <th>61</th>\n",
       "      <td>7</td>\n",
       "      <td>2021:05:25</td>\n",
       "      <td>1.720753e+11</td>\n",
       "      <td>1.207092e+11</td>\n",
       "      <td>5.071862e+10</td>\n",
       "      <td>Mars</td>\n",
       "      <td>8.128438</td>\n",
       "      <td>6.390000e+23</td>\n",
       "    </tr>\n",
       "    <tr>\n",
       "      <th>62</th>\n",
       "      <td>7</td>\n",
       "      <td>2021:05:25</td>\n",
       "      <td>-5.544239e+10</td>\n",
       "      <td>4.995930e+09</td>\n",
       "      <td>8.417185e+09</td>\n",
       "      <td>Mercury</td>\n",
       "      <td>7.799630</td>\n",
       "      <td>3.285000e+23</td>\n",
       "    </tr>\n",
       "    <tr>\n",
       "      <th>63</th>\n",
       "      <td>7</td>\n",
       "      <td>2021:05:25</td>\n",
       "      <td>-1.424031e+11</td>\n",
       "      <td>3.814007e+10</td>\n",
       "      <td>1.654097e+10</td>\n",
       "      <td>Earth</td>\n",
       "      <td>8.759512</td>\n",
       "      <td>6.046000e+24</td>\n",
       "    </tr>\n",
       "    <tr>\n",
       "      <th>112</th>\n",
       "      <td>14</td>\n",
       "      <td>2021:06:01</td>\n",
       "      <td>5.476640e+11</td>\n",
       "      <td>4.679707e+11</td>\n",
       "      <td>1.872093e+11</td>\n",
       "      <td>Jupiter</td>\n",
       "      <td>11.154978</td>\n",
       "      <td>1.898000e+27</td>\n",
       "    </tr>\n",
       "    <tr>\n",
       "      <th>113</th>\n",
       "      <td>14</td>\n",
       "      <td>2021:06:01</td>\n",
       "      <td>1.633584e+11</td>\n",
       "      <td>1.320667e+11</td>\n",
       "      <td>5.616494e+10</td>\n",
       "      <td>Mars</td>\n",
       "      <td>8.128438</td>\n",
       "      <td>6.390000e+23</td>\n",
       "    </tr>\n",
       "    <tr>\n",
       "      <th>114</th>\n",
       "      <td>14</td>\n",
       "      <td>2021:06:01</td>\n",
       "      <td>2.541062e+12</td>\n",
       "      <td>-3.420769e+12</td>\n",
       "      <td>-1.463253e+12</td>\n",
       "      <td>Neptune</td>\n",
       "      <td>10.151207</td>\n",
       "      <td>1.024000e+26</td>\n",
       "    </tr>\n",
       "    <tr>\n",
       "      <th>115</th>\n",
       "      <td>14</td>\n",
       "      <td>2021:06:01</td>\n",
       "      <td>-1.466770e+11</td>\n",
       "      <td>2.196302e+10</td>\n",
       "      <td>9.528851e+09</td>\n",
       "      <td>Earth</td>\n",
       "      <td>8.759512</td>\n",
       "      <td>6.046000e+24</td>\n",
       "    </tr>\n",
       "  </tbody>\n",
       "</table>\n",
       "</div>"
      ],
      "text/plain": [
       "     index        time             x             y             z     name  \\\n",
       "0        0  2021:05:18  0.000000e+00  0.000000e+00  0.000000e+00      Sun   \n",
       "1        0  2021:05:18  1.799662e+11  1.087726e+11  4.502896e+10     Mars   \n",
       "2        0  2021:05:18 -3.744435e+10  2.801968e+10  1.884933e+10  Mercury   \n",
       "3        0  2021:05:18  2.535684e+12 -3.424295e+12 -1.464563e+12  Neptune   \n",
       "4        0  2021:05:18  9.221213e+11  9.524896e+11  3.537990e+11   Saturn   \n",
       "5        0  2021:05:18  2.181137e+12 -1.850526e+12 -8.413384e+11   Uranus   \n",
       "6        0  2021:05:18  5.584489e+11  4.565727e+11  1.820606e+11  Jupiter   \n",
       "7        0  2021:05:18 -1.360144e+11  5.375051e+10  2.330735e+10    Earth   \n",
       "56       7  2021:05:25  5.530890e+11  4.622989e+11  1.846458e+11  Jupiter   \n",
       "57       7  2021:05:25  9.174767e+11  9.560348e+11  3.554627e+11   Saturn   \n",
       "58       7  2021:05:25  2.183908e+12 -1.847919e+12 -8.402360e+11   Uranus   \n",
       "59       7  2021:05:25  2.979546e+04  2.736945e+04  1.094750e+04      Sun   \n",
       "60       7  2021:05:25  2.538373e+12 -3.422533e+12 -1.463909e+12  Neptune   \n",
       "61       7  2021:05:25  1.720753e+11  1.207092e+11  5.071862e+10     Mars   \n",
       "62       7  2021:05:25 -5.544239e+10  4.995930e+09  8.417185e+09  Mercury   \n",
       "63       7  2021:05:25 -1.424031e+11  3.814007e+10  1.654097e+10    Earth   \n",
       "112     14  2021:06:01  5.476640e+11  4.679707e+11  1.872093e+11  Jupiter   \n",
       "113     14  2021:06:01  1.633584e+11  1.320667e+11  5.616494e+10     Mars   \n",
       "114     14  2021:06:01  2.541062e+12 -3.420769e+12 -1.463253e+12  Neptune   \n",
       "115     14  2021:06:01 -1.466770e+11  2.196302e+10  9.528851e+09    Earth   \n",
       "\n",
       "        radius          mass  \n",
       "0    20.361349  1.988470e+30  \n",
       "1     8.128438  6.390000e+23  \n",
       "2     7.799630  3.285000e+23  \n",
       "3    10.151207  1.024000e+26  \n",
       "4    10.972190  5.683000e+26  \n",
       "5    10.141007  8.681000e+25  \n",
       "6    11.154978  1.898000e+27  \n",
       "7     8.759512  6.046000e+24  \n",
       "56   11.154978  1.898000e+27  \n",
       "57   10.972190  5.683000e+26  \n",
       "58   10.141007  8.681000e+25  \n",
       "59   20.361349  1.988470e+30  \n",
       "60   10.151207  1.024000e+26  \n",
       "61    8.128438  6.390000e+23  \n",
       "62    7.799630  3.285000e+23  \n",
       "63    8.759512  6.046000e+24  \n",
       "112  11.154978  1.898000e+27  \n",
       "113   8.128438  6.390000e+23  \n",
       "114  10.151207  1.024000e+26  \n",
       "115   8.759512  6.046000e+24  "
      ]
     },
     "execution_count": 186,
     "metadata": {},
     "output_type": "execute_result"
    }
   ],
   "source": [
    "steps = 50\n",
    "time_step = ((end_time - start_time) / steps).days\n",
    "\n",
    "downsampled_position_history = position_history[0:number_of_planets]\n",
    "for index in range(number_of_planets*time_step, position_history.shape[0], number_of_planets*time_step):\n",
    "    downsampled_position_history = downsampled_position_history.append(position_history[index:index+number_of_planets])\n",
    "\n",
    "pd.options.display.max_rows = 300\n",
    "downsampled_position_history.head(20)"
   ]
  },
  {
   "cell_type": "code",
   "execution_count": 191,
   "id": "oriented-commercial",
   "metadata": {
    "scrolled": true
   },
   "outputs": [],
   "source": [
    "steps = []\n",
    "slider_range = int(downsampled_position_history.shape[0]/8)\n",
    "for i in range(slider_range):\n",
    "    step = dict(\n",
    "        method=\"update\",\n",
    "        visible=False,\n",
    "    )\n",
    "    steps.append(step)\n",
    "\n",
    "for step in steps[::3]:\n",
    "    step[\"visible\"]=True\n",
    "    \n",
    "\n",
    "sliders = [dict(\n",
    "    steps=steps\n",
    ")]"
   ]
  },
  {
   "cell_type": "code",
   "execution_count": 201,
   "id": "breathing-equivalent",
   "metadata": {},
   "outputs": [
    {
     "data": {
      "application/vnd.plotly.v1+json": {
       "config": {
        "plotlyServerURL": "https://plot.ly"
       },
       "data": [
        {
         "hovertemplate": "name=Sun<br>index=0<br>x=%{x}<br>y=%{y}<br>z=%{z}<br>radius=%{marker.size}<extra></extra>",
         "ids": [
          "Sun"
         ],
         "legendgroup": "Sun",
         "marker": {
          "color": "orange",
          "size": [
           20.36134860476573
          ],
          "sizemode": "area",
          "sizeref": 0.050903371511914326,
          "symbol": "circle"
         },
         "mode": "markers",
         "name": "Sun",
         "scene": "scene",
         "showlegend": true,
         "type": "scatter3d",
         "x": [
          0
         ],
         "y": [
          0
         ],
         "z": [
          0
         ]
        },
        {
         "hovertemplate": "name=Mars<br>index=0<br>x=%{x}<br>y=%{y}<br>z=%{z}<br>radius=%{marker.size}<extra></extra>",
         "ids": [
          "Mars"
         ],
         "legendgroup": "Mars",
         "marker": {
          "color": "crimson",
          "size": [
           8.12843769687102
          ],
          "sizemode": "area",
          "sizeref": 0.050903371511914326,
          "symbol": "circle"
         },
         "mode": "markers",
         "name": "Mars",
         "scene": "scene",
         "showlegend": true,
         "type": "scatter3d",
         "x": [
          179966238452.1
         ],
         "y": [
          108772611785.97
         ],
         "z": [
          45028959080.7
         ]
        },
        {
         "hovertemplate": "name=Mercury<br>index=0<br>x=%{x}<br>y=%{y}<br>z=%{z}<br>radius=%{marker.size}<extra></extra>",
         "ids": [
          "Mercury"
         ],
         "legendgroup": "Mercury",
         "marker": {
          "color": "cornflowerblue",
          "size": [
           7.7996303599085035
          ],
          "sizemode": "area",
          "sizeref": 0.050903371511914326,
          "symbol": "circle"
         },
         "mode": "markers",
         "name": "Mercury",
         "scene": "scene",
         "showlegend": true,
         "type": "scatter3d",
         "x": [
          -37444347036.21001
         ],
         "y": [
          28019681182.11
         ],
         "z": [
          18849331708.2
         ]
        },
        {
         "hovertemplate": "name=Neptune<br>index=0<br>x=%{x}<br>y=%{y}<br>z=%{z}<br>radius=%{marker.size}<extra></extra>",
         "ids": [
          "Neptune"
         ],
         "legendgroup": "Neptune",
         "marker": {
          "color": "cyan",
          "size": [
           10.15120663641638
          ],
          "sizemode": "area",
          "sizeref": 0.050903371511914326,
          "symbol": "circle"
         },
         "mode": "markers",
         "name": "Neptune",
         "scene": "scene",
         "showlegend": true,
         "type": "scatter3d",
         "x": [
          2535683908365
         ],
         "y": [
          -3424295260323
         ],
         "z": [
          -1464563154152.9998
         ]
        },
        {
         "hovertemplate": "name=Saturn<br>index=0<br>x=%{x}<br>y=%{y}<br>z=%{z}<br>radius=%{marker.size}<extra></extra>",
         "ids": [
          "Saturn"
         ],
         "legendgroup": "Saturn",
         "marker": {
          "color": "khaki",
          "size": [
           10.972190310798094
          ],
          "sizemode": "area",
          "sizeref": 0.050903371511914326,
          "symbol": "circle"
         },
         "mode": "markers",
         "name": "Saturn",
         "scene": "scene",
         "showlegend": true,
         "type": "scatter3d",
         "x": [
          922121274994.8
         ],
         "y": [
          952489642746.9
         ],
         "z": [
          353798964205.50006
         ]
        },
        {
         "hovertemplate": "name=Uranus<br>index=0<br>x=%{x}<br>y=%{y}<br>z=%{z}<br>radius=%{marker.size}<extra></extra>",
         "ids": [
          "Uranus"
         ],
         "legendgroup": "Uranus",
         "marker": {
          "color": "lightcyan",
          "size": [
           10.141007269794844
          ],
          "sizemode": "area",
          "sizeref": 0.050903371511914326,
          "symbol": "circle"
         },
         "mode": "markers",
         "name": "Uranus",
         "scene": "scene",
         "showlegend": true,
         "type": "scatter3d",
         "x": [
          2181136954806
         ],
         "y": [
          -1850525660559
         ],
         "z": [
          -841338424816.7999
         ]
        },
        {
         "hovertemplate": "name=Jupiter<br>index=0<br>x=%{x}<br>y=%{y}<br>z=%{z}<br>radius=%{marker.size}<extra></extra>",
         "ids": [
          "Jupiter"
         ],
         "legendgroup": "Jupiter",
         "marker": {
          "color": "chocolate",
          "size": [
           11.154978283509006
          ],
          "sizemode": "area",
          "sizeref": 0.050903371511914326,
          "symbol": "circle"
         },
         "mode": "markers",
         "name": "Jupiter",
         "scene": "scene",
         "showlegend": true,
         "type": "scatter3d",
         "x": [
          558448851323.1
         ],
         "y": [
          456572701376.4
         ],
         "z": [
          182060608641.9
         ]
        },
        {
         "hovertemplate": "name=Earth<br>index=0<br>x=%{x}<br>y=%{y}<br>z=%{z}<br>radius=%{marker.size}<extra></extra>",
         "ids": [
          "Earth"
         ],
         "legendgroup": "Earth",
         "marker": {
          "color": "green",
          "size": [
           8.759511722116487
          ],
          "sizemode": "area",
          "sizeref": 0.050903371511914326,
          "symbol": "circle"
         },
         "mode": "markers",
         "name": "Earth",
         "scene": "scene",
         "showlegend": true,
         "type": "scatter3d",
         "x": [
          -136014384040.44
         ],
         "y": [
          53750514942.51
         ],
         "z": [
          23307348255.06
         ]
        }
       ],
       "frames": [
        {
         "data": [
          {
           "hovertemplate": "name=Sun<br>index=0<br>x=%{x}<br>y=%{y}<br>z=%{z}<br>radius=%{marker.size}<extra></extra>",
           "ids": [
            "Sun"
           ],
           "legendgroup": "Sun",
           "marker": {
            "color": "orange",
            "size": [
             20.36134860476573
            ],
            "sizemode": "area",
            "sizeref": 0.050903371511914326,
            "symbol": "circle"
           },
           "mode": "markers",
           "name": "Sun",
           "scene": "scene",
           "showlegend": true,
           "type": "scatter3d",
           "x": [
            0
           ],
           "y": [
            0
           ],
           "z": [
            0
           ]
          },
          {
           "hovertemplate": "name=Mars<br>index=0<br>x=%{x}<br>y=%{y}<br>z=%{z}<br>radius=%{marker.size}<extra></extra>",
           "ids": [
            "Mars"
           ],
           "legendgroup": "Mars",
           "marker": {
            "color": "crimson",
            "size": [
             8.12843769687102
            ],
            "sizemode": "area",
            "sizeref": 0.050903371511914326,
            "symbol": "circle"
           },
           "mode": "markers",
           "name": "Mars",
           "scene": "scene",
           "showlegend": true,
           "type": "scatter3d",
           "x": [
            179966238452.1
           ],
           "y": [
            108772611785.97
           ],
           "z": [
            45028959080.7
           ]
          },
          {
           "hovertemplate": "name=Mercury<br>index=0<br>x=%{x}<br>y=%{y}<br>z=%{z}<br>radius=%{marker.size}<extra></extra>",
           "ids": [
            "Mercury"
           ],
           "legendgroup": "Mercury",
           "marker": {
            "color": "cornflowerblue",
            "size": [
             7.7996303599085035
            ],
            "sizemode": "area",
            "sizeref": 0.050903371511914326,
            "symbol": "circle"
           },
           "mode": "markers",
           "name": "Mercury",
           "scene": "scene",
           "showlegend": true,
           "type": "scatter3d",
           "x": [
            -37444347036.21001
           ],
           "y": [
            28019681182.11
           ],
           "z": [
            18849331708.2
           ]
          },
          {
           "hovertemplate": "name=Neptune<br>index=0<br>x=%{x}<br>y=%{y}<br>z=%{z}<br>radius=%{marker.size}<extra></extra>",
           "ids": [
            "Neptune"
           ],
           "legendgroup": "Neptune",
           "marker": {
            "color": "cyan",
            "size": [
             10.15120663641638
            ],
            "sizemode": "area",
            "sizeref": 0.050903371511914326,
            "symbol": "circle"
           },
           "mode": "markers",
           "name": "Neptune",
           "scene": "scene",
           "showlegend": true,
           "type": "scatter3d",
           "x": [
            2535683908365
           ],
           "y": [
            -3424295260323
           ],
           "z": [
            -1464563154152.9998
           ]
          },
          {
           "hovertemplate": "name=Saturn<br>index=0<br>x=%{x}<br>y=%{y}<br>z=%{z}<br>radius=%{marker.size}<extra></extra>",
           "ids": [
            "Saturn"
           ],
           "legendgroup": "Saturn",
           "marker": {
            "color": "khaki",
            "size": [
             10.972190310798094
            ],
            "sizemode": "area",
            "sizeref": 0.050903371511914326,
            "symbol": "circle"
           },
           "mode": "markers",
           "name": "Saturn",
           "scene": "scene",
           "showlegend": true,
           "type": "scatter3d",
           "x": [
            922121274994.8
           ],
           "y": [
            952489642746.9
           ],
           "z": [
            353798964205.50006
           ]
          },
          {
           "hovertemplate": "name=Uranus<br>index=0<br>x=%{x}<br>y=%{y}<br>z=%{z}<br>radius=%{marker.size}<extra></extra>",
           "ids": [
            "Uranus"
           ],
           "legendgroup": "Uranus",
           "marker": {
            "color": "lightcyan",
            "size": [
             10.141007269794844
            ],
            "sizemode": "area",
            "sizeref": 0.050903371511914326,
            "symbol": "circle"
           },
           "mode": "markers",
           "name": "Uranus",
           "scene": "scene",
           "showlegend": true,
           "type": "scatter3d",
           "x": [
            2181136954806
           ],
           "y": [
            -1850525660559
           ],
           "z": [
            -841338424816.7999
           ]
          },
          {
           "hovertemplate": "name=Jupiter<br>index=0<br>x=%{x}<br>y=%{y}<br>z=%{z}<br>radius=%{marker.size}<extra></extra>",
           "ids": [
            "Jupiter"
           ],
           "legendgroup": "Jupiter",
           "marker": {
            "color": "chocolate",
            "size": [
             11.154978283509006
            ],
            "sizemode": "area",
            "sizeref": 0.050903371511914326,
            "symbol": "circle"
           },
           "mode": "markers",
           "name": "Jupiter",
           "scene": "scene",
           "showlegend": true,
           "type": "scatter3d",
           "x": [
            558448851323.1
           ],
           "y": [
            456572701376.4
           ],
           "z": [
            182060608641.9
           ]
          },
          {
           "hovertemplate": "name=Earth<br>index=0<br>x=%{x}<br>y=%{y}<br>z=%{z}<br>radius=%{marker.size}<extra></extra>",
           "ids": [
            "Earth"
           ],
           "legendgroup": "Earth",
           "marker": {
            "color": "green",
            "size": [
             8.759511722116487
            ],
            "sizemode": "area",
            "sizeref": 0.050903371511914326,
            "symbol": "circle"
           },
           "mode": "markers",
           "name": "Earth",
           "scene": "scene",
           "showlegend": true,
           "type": "scatter3d",
           "x": [
            -136014384040.44
           ],
           "y": [
            53750514942.51
           ],
           "z": [
            23307348255.06
           ]
          }
         ],
         "name": "0"
        },
        {
         "data": [
          {
           "hovertemplate": "name=Sun<br>index=7<br>x=%{x}<br>y=%{y}<br>z=%{z}<br>radius=%{marker.size}<extra></extra>",
           "ids": [
            "Sun"
           ],
           "legendgroup": "Sun",
           "marker": {
            "color": "orange",
            "size": [
             20.36134860476573
            ],
            "sizemode": "area",
            "sizeref": 0.050903371511914326,
            "symbol": "circle"
           },
           "mode": "markers",
           "name": "Sun",
           "scene": "scene",
           "showlegend": true,
           "type": "scatter3d",
           "x": [
            29795.455389006314
           ],
           "y": [
            27369.44651650392
           ],
           "z": [
            10947.503514489004
           ]
          },
          {
           "hovertemplate": "name=Mars<br>index=7<br>x=%{x}<br>y=%{y}<br>z=%{z}<br>radius=%{marker.size}<extra></extra>",
           "ids": [
            "Mars"
           ],
           "legendgroup": "Mars",
           "marker": {
            "color": "crimson",
            "size": [
             8.12843769687102
            ],
            "sizemode": "area",
            "sizeref": 0.050903371511914326,
            "symbol": "circle"
           },
           "mode": "markers",
           "name": "Mars",
           "scene": "scene",
           "showlegend": true,
           "type": "scatter3d",
           "x": [
            172075309017.45978
           ],
           "y": [
            120709228483.07416
           ],
           "z": [
            50718618615.28614
           ]
          },
          {
           "hovertemplate": "name=Mercury<br>index=7<br>x=%{x}<br>y=%{y}<br>z=%{z}<br>radius=%{marker.size}<extra></extra>",
           "ids": [
            "Mercury"
           ],
           "legendgroup": "Mercury",
           "marker": {
            "color": "cornflowerblue",
            "size": [
             7.7996303599085035
            ],
            "sizemode": "area",
            "sizeref": 0.050903371511914326,
            "symbol": "circle"
           },
           "mode": "markers",
           "name": "Mercury",
           "scene": "scene",
           "showlegend": true,
           "type": "scatter3d",
           "x": [
            -55442390530.64009
           ],
           "y": [
            4995929800.923401
           ],
           "z": [
            8417185335.719978
           ]
          },
          {
           "hovertemplate": "name=Neptune<br>index=7<br>x=%{x}<br>y=%{y}<br>z=%{z}<br>radius=%{marker.size}<extra></extra>",
           "ids": [
            "Neptune"
           ],
           "legendgroup": "Neptune",
           "marker": {
            "color": "cyan",
            "size": [
             10.15120663641638
            ],
            "sizemode": "area",
            "sizeref": 0.050903371511914326,
            "symbol": "circle"
           },
           "mode": "markers",
           "name": "Neptune",
           "scene": "scene",
           "showlegend": true,
           "type": "scatter3d",
           "x": [
            2538373453108.908
           ],
           "y": [
            -3422532984957.804
           ],
           "z": [
            -1463908693130.188
           ]
          },
          {
           "hovertemplate": "name=Saturn<br>index=7<br>x=%{x}<br>y=%{y}<br>z=%{z}<br>radius=%{marker.size}<extra></extra>",
           "ids": [
            "Saturn"
           ],
           "legendgroup": "Saturn",
           "marker": {
            "color": "khaki",
            "size": [
             10.972190310798094
            ],
            "sizemode": "area",
            "sizeref": 0.050903371511914326,
            "symbol": "circle"
           },
           "mode": "markers",
           "name": "Saturn",
           "scene": "scene",
           "showlegend": true,
           "type": "scatter3d",
           "x": [
            917476702814.0804
           ],
           "y": [
            956034782784.691
           ],
           "z": [
            355462737608.9362
           ]
          },
          {
           "hovertemplate": "name=Uranus<br>index=7<br>x=%{x}<br>y=%{y}<br>z=%{z}<br>radius=%{marker.size}<extra></extra>",
           "ids": [
            "Uranus"
           ],
           "legendgroup": "Uranus",
           "marker": {
            "color": "lightcyan",
            "size": [
             10.141007269794844
            ],
            "sizemode": "area",
            "sizeref": 0.050903371511914326,
            "symbol": "circle"
           },
           "mode": "markers",
           "name": "Uranus",
           "scene": "scene",
           "showlegend": true,
           "type": "scatter3d",
           "x": [
            2183907901174.6992
           ],
           "y": [
            -1847918568059.572
           ],
           "z": [
            -840236015011.0205
           ]
          },
          {
           "hovertemplate": "name=Jupiter<br>index=7<br>x=%{x}<br>y=%{y}<br>z=%{z}<br>radius=%{marker.size}<extra></extra>",
           "ids": [
            "Jupiter"
           ],
           "legendgroup": "Jupiter",
           "marker": {
            "color": "chocolate",
            "size": [
             11.154978283509006
            ],
            "sizemode": "area",
            "sizeref": 0.050903371511914326,
            "symbol": "circle"
           },
           "mode": "markers",
           "name": "Jupiter",
           "scene": "scene",
           "showlegend": true,
           "type": "scatter3d",
           "x": [
            553089020450.5596
           ],
           "y": [
            462298930216.8565
           ],
           "z": [
            184645805179.54028
           ]
          },
          {
           "hovertemplate": "name=Earth<br>index=7<br>x=%{x}<br>y=%{y}<br>z=%{z}<br>radius=%{marker.size}<extra></extra>",
           "ids": [
            "Earth"
           ],
           "legendgroup": "Earth",
           "marker": {
            "color": "green",
            "size": [
             8.759511722116487
            ],
            "sizemode": "area",
            "sizeref": 0.050903371511914326,
            "symbol": "circle"
           },
           "mode": "markers",
           "name": "Earth",
           "scene": "scene",
           "showlegend": true,
           "type": "scatter3d",
           "x": [
            -142403114657.8015
           ],
           "y": [
            38140071048.92567
           ],
           "z": [
            16540965536.626448
           ]
          }
         ],
         "name": "7"
        },
        {
         "data": [
          {
           "hovertemplate": "name=Sun<br>index=14<br>x=%{x}<br>y=%{y}<br>z=%{z}<br>radius=%{marker.size}<extra></extra>",
           "ids": [
            "Sun"
           ],
           "legendgroup": "Sun",
           "marker": {
            "color": "orange",
            "size": [
             20.36134860476573
            ],
            "sizemode": "area",
            "sizeref": 0.050903371511914326,
            "symbol": "circle"
           },
           "mode": "markers",
           "name": "Sun",
           "scene": "scene",
           "showlegend": true,
           "type": "scatter3d",
           "x": [
            118672.12464054782
           ],
           "y": [
            108291.42688839955
           ],
           "z": [
            43132.33285742795
           ]
          },
          {
           "hovertemplate": "name=Mars<br>index=14<br>x=%{x}<br>y=%{y}<br>z=%{z}<br>radius=%{marker.size}<extra></extra>",
           "ids": [
            "Mars"
           ],
           "legendgroup": "Mars",
           "marker": {
            "color": "crimson",
            "size": [
             8.12843769687102
            ],
            "sizemode": "area",
            "sizeref": 0.050903371511914326,
            "symbol": "circle"
           },
           "mode": "markers",
           "name": "Mars",
           "scene": "scene",
           "showlegend": true,
           "type": "scatter3d",
           "x": [
            163358409755.5907
           ],
           "y": [
            132066688375.58987
           ],
           "z": [
            56164938118.18676
           ]
          },
          {
           "hovertemplate": "name=Mercury<br>index=14<br>x=%{x}<br>y=%{y}<br>z=%{z}<br>radius=%{marker.size}<extra></extra>",
           "ids": [
            "Mercury"
           ],
           "legendgroup": "Mercury",
           "marker": {
            "color": "cornflowerblue",
            "size": [
             7.7996303599085035
            ],
            "sizemode": "area",
            "sizeref": 0.050903371511914326,
            "symbol": "circle"
           },
           "mode": "markers",
           "name": "Mercury",
           "scene": "scene",
           "showlegend": true,
           "type": "scatter3d",
           "x": [
            -58669426785.04186
           ],
           "y": [
            -19723439553.48106
           ],
           "z": [
            -4452230808.482105
           ]
          },
          {
           "hovertemplate": "name=Neptune<br>index=14<br>x=%{x}<br>y=%{y}<br>z=%{z}<br>radius=%{marker.size}<extra></extra>",
           "ids": [
            "Neptune"
           ],
           "legendgroup": "Neptune",
           "marker": {
            "color": "cyan",
            "size": [
             10.15120663641638
            ],
            "sizemode": "area",
            "sizeref": 0.050903371511914326,
            "symbol": "circle"
           },
           "mode": "markers",
           "name": "Neptune",
           "scene": "scene",
           "showlegend": true,
           "type": "scatter3d",
           "x": [
            2541061649339.6406
           ],
           "y": [
            -3420768890126.83
           ],
           "z": [
            -1463253453905.5708
           ]
          },
          {
           "hovertemplate": "name=Saturn<br>index=14<br>x=%{x}<br>y=%{y}<br>z=%{z}<br>radius=%{marker.size}<extra></extra>",
           "ids": [
            "Saturn"
           ],
           "legendgroup": "Saturn",
           "marker": {
            "color": "khaki",
            "size": [
             10.972190310798094
            ],
            "sizemode": "area",
            "sizeref": 0.050903371511914326,
            "symbol": "circle"
           },
           "mode": "markers",
           "name": "Saturn",
           "scene": "scene",
           "showlegend": true,
           "type": "scatter3d",
           "x": [
            912814816018.8271
           ],
           "y": [
            959561859726.2258
           ],
           "z": [
            357119797257.2271
           ]
          },
          {
           "hovertemplate": "name=Uranus<br>index=14<br>x=%{x}<br>y=%{y}<br>z=%{z}<br>radius=%{marker.size}<extra></extra>",
           "ids": [
            "Uranus"
           ],
           "legendgroup": "Uranus",
           "marker": {
            "color": "lightcyan",
            "size": [
             10.141007269794844
            ],
            "sizemode": "area",
            "sizeref": 0.050903371511914326,
            "symbol": "circle"
           },
           "mode": "markers",
           "name": "Uranus",
           "scene": "scene",
           "showlegend": true,
           "type": "scatter3d",
           "x": [
            2186674844877.1135
           ],
           "y": [
            -1845308087058.0864
           ],
           "z": [
            -839132064505.9503
           ]
          },
          {
           "hovertemplate": "name=Jupiter<br>index=14<br>x=%{x}<br>y=%{y}<br>z=%{z}<br>radius=%{marker.size}<extra></extra>",
           "ids": [
            "Jupiter"
           ],
           "legendgroup": "Jupiter",
           "marker": {
            "color": "chocolate",
            "size": [
             11.154978283509006
            ],
            "sizemode": "area",
            "sizeref": 0.050903371511914326,
            "symbol": "circle"
           },
           "mode": "markers",
           "name": "Jupiter",
           "scene": "scene",
           "showlegend": true,
           "type": "scatter3d",
           "x": [
            547664045941.8596
           ],
           "y": [
            467970718678.1047
           ],
           "z": [
            187209256380.2036
           ]
          },
          {
           "hovertemplate": "name=Earth<br>index=14<br>x=%{x}<br>y=%{y}<br>z=%{z}<br>radius=%{marker.size}<extra></extra>",
           "ids": [
            "Earth"
           ],
           "legendgroup": "Earth",
           "marker": {
            "color": "green",
            "size": [
             8.759511722116487
            ],
            "sizemode": "area",
            "sizeref": 0.050903371511914326,
            "symbol": "circle"
           },
           "mode": "markers",
           "name": "Earth",
           "scene": "scene",
           "showlegend": true,
           "type": "scatter3d",
           "x": [
            -146676952285.09784
           ],
           "y": [
            21963023259.12585
           ],
           "z": [
            9528850916.49874
           ]
          }
         ],
         "name": "14"
        },
        {
         "data": [
          {
           "hovertemplate": "name=Sun<br>index=21<br>x=%{x}<br>y=%{y}<br>z=%{z}<br>radius=%{marker.size}<extra></extra>",
           "ids": [
            "Sun"
           ],
           "legendgroup": "Sun",
           "marker": {
            "color": "orange",
            "size": [
             20.36134860476573
            ],
            "sizemode": "area",
            "sizeref": 0.050903371511914326,
            "symbol": "circle"
           },
           "mode": "markers",
           "name": "Sun",
           "scene": "scene",
           "showlegend": true,
           "type": "scatter3d",
           "x": [
            266413.602263311
           ],
           "y": [
            241004.6015973277
           ],
           "z": [
            95543.06010181014
           ]
          },
          {
           "hovertemplate": "name=Mars<br>index=21<br>x=%{x}<br>y=%{y}<br>z=%{z}<br>radius=%{marker.size}<extra></extra>",
           "ids": [
            "Mars"
           ],
           "legendgroup": "Mars",
           "marker": {
            "color": "crimson",
            "size": [
             8.12843769687102
            ],
            "sizemode": "area",
            "sizeref": 0.050903371511914326,
            "symbol": "circle"
           },
           "mode": "markers",
           "name": "Mars",
           "scene": "scene",
           "showlegend": true,
           "type": "scatter3d",
           "x": [
            153870485027.29742
           ],
           "y": [
            142801067240.79514
           ],
           "z": [
            61346279433.98575
           ]
          },
          {
           "hovertemplate": "name=Mercury<br>index=21<br>x=%{x}<br>y=%{y}<br>z=%{z}<br>radius=%{marker.size}<extra></extra>",
           "ids": [
            "Mercury"
           ],
           "legendgroup": "Mercury",
           "marker": {
            "color": "cornflowerblue",
            "size": [
             7.7996303599085035
            ],
            "sizemode": "area",
            "sizeref": 0.050903371511914326,
            "symbol": "circle"
           },
           "mode": "markers",
           "name": "Mercury",
           "scene": "scene",
           "showlegend": true,
           "type": "scatter3d",
           "x": [
            -50008981063.02939
           ],
           "y": [
            -40652316777.7222
           ],
           "z": [
            -16529494759.06392
           ]
          },
          {
           "hovertemplate": "name=Neptune<br>index=21<br>x=%{x}<br>y=%{y}<br>z=%{z}<br>radius=%{marker.size}<extra></extra>",
           "ids": [
            "Neptune"
           ],
           "legendgroup": "Neptune",
           "marker": {
            "color": "cyan",
            "size": [
             10.15120663641638
            ],
            "sizemode": "area",
            "sizeref": 0.050903371511914326,
            "symbol": "circle"
           },
           "mode": "markers",
           "name": "Neptune",
           "scene": "scene",
           "showlegend": true,
           "type": "scatter3d",
           "x": [
            2543748495597.491
           ],
           "y": [
            -3419002976729.68
           ],
           "z": [
            -1462597436810.9758
           ]
          },
          {
           "hovertemplate": "name=Saturn<br>index=21<br>x=%{x}<br>y=%{y}<br>z=%{z}<br>radius=%{marker.size}<extra></extra>",
           "ids": [
            "Saturn"
           ],
           "legendgroup": "Saturn",
           "marker": {
            "color": "khaki",
            "size": [
             10.972190310798094
            ],
            "sizemode": "area",
            "sizeref": 0.050903371511914326,
            "symbol": "circle"
           },
           "mode": "markers",
           "name": "Saturn",
           "scene": "scene",
           "showlegend": true,
           "type": "scatter3d",
           "x": [
            908135693517.9294
           ],
           "y": [
            963070798466.932
           ],
           "z": [
            358770108759.5228
           ]
          },
          {
           "hovertemplate": "name=Uranus<br>index=21<br>x=%{x}<br>y=%{y}<br>z=%{z}<br>radius=%{marker.size}<extra></extra>",
           "ids": [
            "Uranus"
           ],
           "legendgroup": "Uranus",
           "marker": {
            "color": "lightcyan",
            "size": [
             10.141007269794844
            ],
            "sizemode": "area",
            "sizeref": 0.050903371511914326,
            "symbol": "circle"
           },
           "mode": "markers",
           "name": "Uranus",
           "scene": "scene",
           "showlegend": true,
           "type": "scatter3d",
           "x": [
            2189437781254.8567
           ],
           "y": [
            -1842694222702.1128
           ],
           "z": [
            -838026575489.6571
           ]
          },
          {
           "hovertemplate": "name=Jupiter<br>index=21<br>x=%{x}<br>y=%{y}<br>z=%{z}<br>radius=%{marker.size}<extra></extra>",
           "ids": [
            "Jupiter"
           ],
           "legendgroup": "Jupiter",
           "marker": {
            "color": "chocolate",
            "size": [
             11.154978283509006
            ],
            "sizemode": "area",
            "sizeref": 0.050903371511914326,
            "symbol": "circle"
           },
           "mode": "markers",
           "name": "Jupiter",
           "scene": "scene",
           "showlegend": true,
           "type": "scatter3d",
           "x": [
            542174612171.6496
           ],
           "y": [
            473587437085.6209
           ],
           "z": [
            189750675638.2237
           ]
          },
          {
           "hovertemplate": "name=Earth<br>index=21<br>x=%{x}<br>y=%{y}<br>z=%{z}<br>radius=%{marker.size}<extra></extra>",
           "ids": [
            "Earth"
           ],
           "legendgroup": "Earth",
           "marker": {
            "color": "green",
            "size": [
             8.759511722116487
            ],
            "sizemode": "area",
            "sizeref": 0.050903371511914326,
            "symbol": "circle"
           },
           "mode": "markers",
           "name": "Earth",
           "scene": "scene",
           "showlegend": true,
           "type": "scatter3d",
           "x": [
            -148784254889.3202
           ],
           "y": [
            5461383564.582896
           ],
           "z": [
            2375907779.44652
           ]
          }
         ],
         "name": "21"
        },
        {
         "data": [
          {
           "hovertemplate": "name=Sun<br>index=28<br>x=%{x}<br>y=%{y}<br>z=%{z}<br>radius=%{marker.size}<extra></extra>",
           "ids": [
            "Sun"
           ],
           "legendgroup": "Sun",
           "marker": {
            "color": "orange",
            "size": [
             20.36134860476573
            ],
            "sizemode": "area",
            "sizeref": 0.050903371511914326,
            "symbol": "circle"
           },
           "mode": "markers",
           "name": "Sun",
           "scene": "scene",
           "showlegend": true,
           "type": "scatter3d",
           "x": [
            473223.0315440952
           ],
           "y": [
            423197.8287541257
           ],
           "z": [
            166846.92935553496
           ]
          },
          {
           "hovertemplate": "name=Mars<br>index=28<br>x=%{x}<br>y=%{y}<br>z=%{z}<br>radius=%{marker.size}<extra></extra>",
           "ids": [
            "Mars"
           ],
           "legendgroup": "Mars",
           "marker": {
            "color": "crimson",
            "size": [
             8.12843769687102
            ],
            "sizemode": "area",
            "sizeref": 0.050903371511914326,
            "symbol": "circle"
           },
           "mode": "markers",
           "name": "Mars",
           "scene": "scene",
           "showlegend": true,
           "type": "scatter3d",
           "x": [
            143668775991.52783
           ],
           "y": [
            152873261980.89273
           ],
           "z": [
            66243154012.32623
           ]
          },
          {
           "hovertemplate": "name=Mercury<br>index=28<br>x=%{x}<br>y=%{y}<br>z=%{z}<br>radius=%{marker.size}<extra></extra>",
           "ids": [
            "Mercury"
           ],
           "legendgroup": "Mercury",
           "marker": {
            "color": "cornflowerblue",
            "size": [
             7.7996303599085035
            ],
            "sizemode": "area",
            "sizeref": 0.050903371511914326,
            "symbol": "circle"
           },
           "mode": "markers",
           "name": "Mercury",
           "scene": "scene",
           "showlegend": true,
           "type": "scatter3d",
           "x": [
            -33080301904.11444
           ],
           "y": [
            -54987475003.30035
           ],
           "z": [
            -25941979304.678425
           ]
          },
          {
           "hovertemplate": "name=Neptune<br>index=28<br>x=%{x}<br>y=%{y}<br>z=%{z}<br>radius=%{marker.size}<extra></extra>",
           "ids": [
            "Neptune"
           ],
           "legendgroup": "Neptune",
           "marker": {
            "color": "cyan",
            "size": [
             10.15120663641638
            ],
            "sizemode": "area",
            "sizeref": 0.050903371511914326,
            "symbol": "circle"
           },
           "mode": "markers",
           "name": "Neptune",
           "scene": "scene",
           "showlegend": true,
           "type": "scatter3d",
           "x": [
            2546433990423.4067
           ],
           "y": [
            -3417235245666.9097
           ],
           "z": [
            -1461940642178.638
           ]
          },
          {
           "hovertemplate": "name=Saturn<br>index=28<br>x=%{x}<br>y=%{y}<br>z=%{z}<br>radius=%{marker.size}<extra></extra>",
           "ids": [
            "Saturn"
           ],
           "legendgroup": "Saturn",
           "marker": {
            "color": "khaki",
            "size": [
             10.972190310798094
            ],
            "sizemode": "area",
            "sizeref": 0.050903371511914326,
            "symbol": "circle"
           },
           "mode": "markers",
           "name": "Saturn",
           "scene": "scene",
           "showlegend": true,
           "type": "scatter3d",
           "x": [
            903439414662.8792
           ],
           "y": [
            966561524231.8552
           ],
           "z": [
            360413637840.8878
           ]
          },
          {
           "hovertemplate": "name=Uranus<br>index=28<br>x=%{x}<br>y=%{y}<br>z=%{z}<br>radius=%{marker.size}<extra></extra>",
           "ids": [
            "Uranus"
           ],
           "legendgroup": "Uranus",
           "marker": {
            "color": "lightcyan",
            "size": [
             10.141007269794844
            ],
            "sizemode": "area",
            "sizeref": 0.050903371511914326,
            "symbol": "circle"
           },
           "mode": "markers",
           "name": "Uranus",
           "scene": "scene",
           "showlegend": true,
           "type": "scatter3d",
           "x": [
            2192196705656.984
           ],
           "y": [
            -1840076980143.4175
           ],
           "z": [
            -836919550152.1533
           ]
          },
          {
           "hovertemplate": "name=Jupiter<br>index=28<br>x=%{x}<br>y=%{y}<br>z=%{z}<br>radius=%{marker.size}<extra></extra>",
           "ids": [
            "Jupiter"
           ],
           "legendgroup": "Jupiter",
           "marker": {
            "color": "chocolate",
            "size": [
             11.154978283509006
            ],
            "sizemode": "area",
            "sizeref": 0.050903371511914326,
            "symbol": "circle"
           },
           "mode": "markers",
           "name": "Jupiter",
           "scene": "scene",
           "showlegend": true,
           "type": "scatter3d",
           "x": [
            536621411158.1625
           ],
           "y": [
            479148464004.23816
           ],
           "z": [
            192269779693.49185
           ]
          },
          {
           "hovertemplate": "name=Earth<br>index=28<br>x=%{x}<br>y=%{y}<br>z=%{z}<br>radius=%{marker.size}<extra></extra>",
           "ids": [
            "Earth"
           ],
           "legendgroup": "Earth",
           "marker": {
            "color": "green",
            "size": [
             8.759511722116487
            ],
            "sizemode": "area",
            "sizeref": 0.050903371511914326,
            "symbol": "circle"
           },
           "mode": "markers",
           "name": "Earth",
           "scene": "scene",
           "showlegend": true,
           "type": "scatter3d",
           "x": [
            -148706456961.9362
           ],
           "y": [
            -11120654592.421894
           ],
           "z": [
            -4812013014.50484
           ]
          }
         ],
         "name": "28"
        },
        {
         "data": [
          {
           "hovertemplate": "name=Sun<br>index=35<br>x=%{x}<br>y=%{y}<br>z=%{z}<br>radius=%{marker.size}<extra></extra>",
           "ids": [
            "Sun"
           ],
           "legendgroup": "Sun",
           "marker": {
            "color": "orange",
            "size": [
             20.36134860476573
            ],
            "sizemode": "area",
            "sizeref": 0.050903371511914326,
            "symbol": "circle"
           },
           "mode": "markers",
           "name": "Sun",
           "scene": "scene",
           "showlegend": true,
           "type": "scatter3d",
           "x": [
            740098.8979291745
           ],
           "y": [
            649742.6571521815
           ],
           "z": [
            254052.93655932744
           ]
          },
          {
           "hovertemplate": "name=Mars<br>index=35<br>x=%{x}<br>y=%{y}<br>z=%{z}<br>radius=%{marker.size}<extra></extra>",
           "ids": [
            "Mars"
           ],
           "legendgroup": "Mars",
           "marker": {
            "color": "crimson",
            "size": [
             8.12843769687102
            ],
            "sizemode": "area",
            "sizeref": 0.050903371511914326,
            "symbol": "circle"
           },
           "mode": "markers",
           "name": "Mars",
           "scene": "scene",
           "showlegend": true,
           "type": "scatter3d",
           "x": [
            132812274664.26164
           ],
           "y": [
            162248961384.062
           ],
           "z": [
            70838224272.05582
           ]
          },
          {
           "hovertemplate": "name=Mercury<br>index=35<br>x=%{x}<br>y=%{y}<br>z=%{z}<br>radius=%{marker.size}<extra></extra>",
           "ids": [
            "Mercury"
           ],
           "legendgroup": "Mercury",
           "marker": {
            "color": "cornflowerblue",
            "size": [
             7.7996303599085035
            ],
            "sizemode": "area",
            "sizeref": 0.050903371511914326,
            "symbol": "circle"
           },
           "mode": "markers",
           "name": "Mercury",
           "scene": "scene",
           "showlegend": true,
           "type": "scatter3d",
           "x": [
            -11294816802.857077
           ],
           "y": [
            -61326828267.38712
           ],
           "z": [
            -31587034017.80284
           ]
          },
          {
           "hovertemplate": "name=Neptune<br>index=35<br>x=%{x}<br>y=%{y}<br>z=%{z}<br>radius=%{marker.size}<extra></extra>",
           "ids": [
            "Neptune"
           ],
           "legendgroup": "Neptune",
           "marker": {
            "color": "cyan",
            "size": [
             10.15120663641638
            ],
            "sizemode": "area",
            "sizeref": 0.050903371511914326,
            "symbol": "circle"
           },
           "mode": "markers",
           "name": "Neptune",
           "scene": "scene",
           "showlegend": true,
           "type": "scatter3d",
           "x": [
            2549118132358.9907
           ],
           "y": [
            -3415465697840.026
           ],
           "z": [
            -1461283070341.1985
           ]
          },
          {
           "hovertemplate": "name=Saturn<br>index=35<br>x=%{x}<br>y=%{y}<br>z=%{z}<br>radius=%{marker.size}<extra></extra>",
           "ids": [
            "Saturn"
           ],
           "legendgroup": "Saturn",
           "marker": {
            "color": "khaki",
            "size": [
             10.972190310798094
            ],
            "sizemode": "area",
            "sizeref": 0.050903371511914326,
            "symbol": "circle"
           },
           "mode": "markers",
           "name": "Saturn",
           "scene": "scene",
           "showlegend": true,
           "type": "scatter3d",
           "x": [
            898726059247.1709
           ],
           "y": [
            970033962578.4044
           ],
           "z": [
            362050350343.42377
           ]
          },
          {
           "hovertemplate": "name=Uranus<br>index=35<br>x=%{x}<br>y=%{y}<br>z=%{z}<br>radius=%{marker.size}<extra></extra>",
           "ids": [
            "Uranus"
           ],
           "legendgroup": "Uranus",
           "marker": {
            "color": "lightcyan",
            "size": [
             10.141007269794844
            ],
            "sizemode": "area",
            "sizeref": 0.050903371511914326,
            "symbol": "circle"
           },
           "mode": "markers",
           "name": "Uranus",
           "scene": "scene",
           "showlegend": true,
           "type": "scatter3d",
           "x": [
            2194951613440
           ],
           "y": [
            -1837456364537.9563
           ],
           "z": [
            -835810990685.3945
           ]
          },
          {
           "hovertemplate": "name=Jupiter<br>index=35<br>x=%{x}<br>y=%{y}<br>z=%{z}<br>radius=%{marker.size}<extra></extra>",
           "ids": [
            "Jupiter"
           ],
           "legendgroup": "Jupiter",
           "marker": {
            "color": "chocolate",
            "size": [
             11.154978283509006
            ],
            "sizemode": "area",
            "sizeref": 0.050903371511914326,
            "symbol": "circle"
           },
           "mode": "markers",
           "name": "Jupiter",
           "scene": "scene",
           "showlegend": true,
           "type": "scatter3d",
           "x": [
            531005142428.0838
           ],
           "y": [
            484653186319.0293
           ],
           "z": [
            194766288669.42065
           ]
          },
          {
           "hovertemplate": "name=Earth<br>index=35<br>x=%{x}<br>y=%{y}<br>z=%{z}<br>radius=%{marker.size}<extra></extra>",
           "ids": [
            "Earth"
           ],
           "legendgroup": "Earth",
           "marker": {
            "color": "green",
            "size": [
             8.759511722116487
            ],
            "sizemode": "area",
            "sizeref": 0.050903371511914326,
            "symbol": "circle"
           },
           "mode": "markers",
           "name": "Earth",
           "scene": "scene",
           "showlegend": true,
           "type": "scatter3d",
           "x": [
            -146457616278.39688
           ],
           "y": [
            -27540535754.120163
           ],
           "z": [
            -11929768776.299446
           ]
          }
         ],
         "name": "35"
        },
        {
         "data": [
          {
           "hovertemplate": "name=Sun<br>index=42<br>x=%{x}<br>y=%{y}<br>z=%{z}<br>radius=%{marker.size}<extra></extra>",
           "ids": [
            "Sun"
           ],
           "legendgroup": "Sun",
           "marker": {
            "color": "orange",
            "size": [
             20.36134860476573
            ],
            "sizemode": "area",
            "sizeref": 0.050903371511914326,
            "symbol": "circle"
           },
           "mode": "markers",
           "name": "Sun",
           "scene": "scene",
           "showlegend": true,
           "type": "scatter3d",
           "x": [
            1268109.6605760988
           ],
           "y": [
            1079895.0260018096
           ],
           "z": [
            300380.96406704
           ]
          },
          {
           "hovertemplate": "name=Mars<br>index=42<br>x=%{x}<br>y=%{y}<br>z=%{z}<br>radius=%{marker.size}<extra></extra>",
           "ids": [
            "Mars"
           ],
           "legendgroup": "Mars",
           "marker": {
            "color": "crimson",
            "size": [
             8.12843769687102
            ],
            "sizemode": "area",
            "sizeref": 0.050903371511914326,
            "symbol": "circle"
           },
           "mode": "markers",
           "name": "Mars",
           "scene": "scene",
           "showlegend": true,
           "type": "scatter3d",
           "x": [
            121361214319.31528
           ],
           "y": [
            170898567020.31357
           ],
           "z": [
            75116281102.31192
           ]
          },
          {
           "hovertemplate": "name=Mercury<br>index=42<br>x=%{x}<br>y=%{y}<br>z=%{z}<br>radius=%{marker.size}<extra></extra>",
           "ids": [
            "Mercury"
           ],
           "legendgroup": "Mercury",
           "marker": {
            "color": "cornflowerblue",
            "size": [
             7.7996303599085035
            ],
            "sizemode": "area",
            "sizeref": 0.050903371511914326,
            "symbol": "circle"
           },
           "mode": "markers",
           "name": "Mercury",
           "scene": "scene",
           "showlegend": true,
           "type": "scatter3d",
           "x": [
            12081061805.064651
           ],
           "y": [
            -58988700856.75575
           ],
           "z": [
            -32761858898.16833
           ]
          },
          {
           "hovertemplate": "name=Neptune<br>index=42<br>x=%{x}<br>y=%{y}<br>z=%{z}<br>radius=%{marker.size}<extra></extra>",
           "ids": [
            "Neptune"
           ],
           "legendgroup": "Neptune",
           "marker": {
            "color": "cyan",
            "size": [
             10.15120663641638
            ],
            "sizemode": "area",
            "sizeref": 0.050903371511914326,
            "symbol": "circle"
           },
           "mode": "markers",
           "name": "Neptune",
           "scene": "scene",
           "showlegend": true,
           "type": "scatter3d",
           "x": [
            2551800919946.499
           ],
           "y": [
            -3413694334151.49
           ],
           "z": [
            -1460624721631.7043
           ]
          },
          {
           "hovertemplate": "name=Saturn<br>index=42<br>x=%{x}<br>y=%{y}<br>z=%{z}<br>radius=%{marker.size}<extra></extra>",
           "ids": [
            "Saturn"
           ],
           "legendgroup": "Saturn",
           "marker": {
            "color": "khaki",
            "size": [
             10.972190310798094
            ],
            "sizemode": "area",
            "sizeref": 0.050903371511914326,
            "symbol": "circle"
           },
           "mode": "markers",
           "name": "Saturn",
           "scene": "scene",
           "showlegend": true,
           "type": "scatter3d",
           "x": [
            893995707505.6895
           ],
           "y": [
            973488039399.085
           ],
           "z": [
            363680212227.4024
           ]
          },
          {
           "hovertemplate": "name=Uranus<br>index=42<br>x=%{x}<br>y=%{y}<br>z=%{z}<br>radius=%{marker.size}<extra></extra>",
           "ids": [
            "Uranus"
           ],
           "legendgroup": "Uranus",
           "marker": {
            "color": "lightcyan",
            "size": [
             10.141007269794844
            ],
            "sizemode": "area",
            "sizeref": 0.050903371511914326,
            "symbol": "circle"
           },
           "mode": "markers",
           "name": "Uranus",
           "scene": "scene",
           "showlegend": true,
           "type": "scatter3d",
           "x": [
            2197702499967.8635
           ],
           "y": [
            -1834832381045.8704
           ],
           "z": [
            -834700899283.2751
           ]
          },
          {
           "hovertemplate": "name=Jupiter<br>index=42<br>x=%{x}<br>y=%{y}<br>z=%{z}<br>radius=%{marker.size}<extra></extra>",
           "ids": [
            "Jupiter"
           ],
           "legendgroup": "Jupiter",
           "marker": {
            "color": "chocolate",
            "size": [
             11.154978283509006
            ],
            "sizemode": "area",
            "sizeref": 0.050903371511914326,
            "symbol": "circle"
           },
           "mode": "markers",
           "name": "Jupiter",
           "scene": "scene",
           "showlegend": true,
           "type": "scatter3d",
           "x": [
            525326512880.2227
           ],
           "y": [
            490100999314.0365
           ],
           "z": [
            197239926110.06085
           ]
          },
          {
           "hovertemplate": "name=Earth<br>index=42<br>x=%{x}<br>y=%{y}<br>z=%{z}<br>radius=%{marker.size}<extra></extra>",
           "ids": [
            "Earth"
           ],
           "legendgroup": "Earth",
           "marker": {
            "color": "green",
            "size": [
             8.759511722116487
            ],
            "sizemode": "area",
            "sizeref": 0.050903371511914326,
            "symbol": "circle"
           },
           "mode": "markers",
           "name": "Earth",
           "scene": "scene",
           "showlegend": true,
           "type": "scatter3d",
           "x": [
            -142083444459.25894
           ],
           "y": [
            -43560967718.42485
           ],
           "z": [
            -18874496339.78319
           ]
          }
         ],
         "name": "42"
        },
        {
         "data": [
          {
           "hovertemplate": "name=Sun<br>index=49<br>x=%{x}<br>y=%{y}<br>z=%{z}<br>radius=%{marker.size}<extra></extra>",
           "ids": [
            "Sun"
           ],
           "legendgroup": "Sun",
           "marker": {
            "color": "orange",
            "size": [
             20.36134860476573
            ],
            "sizemode": "area",
            "sizeref": 0.050903371511914326,
            "symbol": "circle"
           },
           "mode": "markers",
           "name": "Sun",
           "scene": "scene",
           "showlegend": true,
           "type": "scatter3d",
           "x": [
            2555618.1501899264
           ],
           "y": [
            2239344.299163051
           ],
           "z": [
            222259.5111779292
           ]
          },
          {
           "hovertemplate": "name=Mars<br>index=49<br>x=%{x}<br>y=%{y}<br>z=%{z}<br>radius=%{marker.size}<extra></extra>",
           "ids": [
            "Mars"
           ],
           "legendgroup": "Mars",
           "marker": {
            "color": "crimson",
            "size": [
             8.12843769687102
            ],
            "sizemode": "area",
            "sizeref": 0.050903371511914326,
            "symbol": "circle"
           },
           "mode": "markers",
           "name": "Mars",
           "scene": "scene",
           "showlegend": true,
           "type": "scatter3d",
           "x": [
            109376599951.45088
           ],
           "y": [
            178797070942.88812
           ],
           "z": [
            79064199800.2071
           ]
          },
          {
           "hovertemplate": "name=Mercury<br>index=49<br>x=%{x}<br>y=%{y}<br>z=%{z}<br>radius=%{marker.size}<extra></extra>",
           "ids": [
            "Mercury"
           ],
           "legendgroup": "Mercury",
           "marker": {
            "color": "cornflowerblue",
            "size": [
             7.7996303599085035
            ],
            "sizemode": "area",
            "sizeref": 0.050903371511914326,
            "symbol": "circle"
           },
           "mode": "markers",
           "name": "Mercury",
           "scene": "scene",
           "showlegend": true,
           "type": "scatter3d",
           "x": [
            33585510206.31866
           ],
           "y": [
            -47815657795.19416
           ],
           "z": [
            -29023442434.101444
           ]
          },
          {
           "hovertemplate": "name=Neptune<br>index=49<br>x=%{x}<br>y=%{y}<br>z=%{z}<br>radius=%{marker.size}<extra></extra>",
           "ids": [
            "Neptune"
           ],
           "legendgroup": "Neptune",
           "marker": {
            "color": "cyan",
            "size": [
             10.15120663641638
            ],
            "sizemode": "area",
            "sizeref": 0.050903371511914326,
            "symbol": "circle"
           },
           "mode": "markers",
           "name": "Neptune",
           "scene": "scene",
           "showlegend": true,
           "type": "scatter3d",
           "x": [
            2554482351728.846
           ],
           "y": [
            -3411921155504.7603
           ],
           "z": [
            -1459965596383.617
           ]
          },
          {
           "hovertemplate": "name=Saturn<br>index=49<br>x=%{x}<br>y=%{y}<br>z=%{z}<br>radius=%{marker.size}<extra></extra>",
           "ids": [
            "Saturn"
           ],
           "legendgroup": "Saturn",
           "marker": {
            "color": "khaki",
            "size": [
             10.972190310798094
            ],
            "sizemode": "area",
            "sizeref": 0.050903371511914326,
            "symbol": "circle"
           },
           "mode": "markers",
           "name": "Saturn",
           "scene": "scene",
           "showlegend": true,
           "type": "scatter3d",
           "x": [
            889248440112.983
           ],
           "y": [
            976923680922.35
           ],
           "z": [
            365303189570.2086
           ]
          },
          {
           "hovertemplate": "name=Uranus<br>index=49<br>x=%{x}<br>y=%{y}<br>z=%{z}<br>radius=%{marker.size}<extra></extra>",
           "ids": [
            "Uranus"
           ],
           "legendgroup": "Uranus",
           "marker": {
            "color": "lightcyan",
            "size": [
             10.141007269794844
            ],
            "sizemode": "area",
            "sizeref": 0.050903371511914326,
            "symbol": "circle"
           },
           "mode": "markers",
           "name": "Uranus",
           "scene": "scene",
           "showlegend": true,
           "type": "scatter3d",
           "x": [
            2200449360612.1147
           ],
           "y": [
            -1832205034831.5825
           ],
           "z": [
            -833589278141.6771
           ]
          },
          {
           "hovertemplate": "name=Jupiter<br>index=49<br>x=%{x}<br>y=%{y}<br>z=%{z}<br>radius=%{marker.size}<extra></extra>",
           "ids": [
            "Jupiter"
           ],
           "legendgroup": "Jupiter",
           "marker": {
            "color": "chocolate",
            "size": [
             11.154978283509006
            ],
            "sizemode": "area",
            "sizeref": 0.050903371511914326,
            "symbol": "circle"
           },
           "mode": "markers",
           "name": "Jupiter",
           "scene": "scene",
           "showlegend": true,
           "type": "scatter3d",
           "x": [
            519586236631.0024
           ],
           "y": [
            495491306730.7198
           ],
           "z": [
            199690418995.76825
           ]
          },
          {
           "hovertemplate": "name=Earth<br>index=49<br>x=%{x}<br>y=%{y}<br>z=%{z}<br>radius=%{marker.size}<extra></extra>",
           "ids": [
            "Earth"
           ],
           "legendgroup": "Earth",
           "marker": {
            "color": "green",
            "size": [
             8.759511722116487
            ],
            "sizemode": "area",
            "sizeref": 0.050903371511914326,
            "symbol": "circle"
           },
           "mode": "markers",
           "name": "Earth",
           "scene": "scene",
           "showlegend": true,
           "type": "scatter3d",
           "x": [
            -135659892509.16684
           ],
           "y": [
            -58953301655.80373
           ],
           "z": [
            -25547078501.33969
           ]
          }
         ],
         "name": "49"
        },
        {
         "data": [
          {
           "hovertemplate": "name=Sun<br>index=56<br>x=%{x}<br>y=%{y}<br>z=%{z}<br>radius=%{marker.size}<extra></extra>",
           "ids": [
            "Sun"
           ],
           "legendgroup": "Sun",
           "marker": {
            "color": "orange",
            "size": [
             20.36134860476573
            ],
            "sizemode": "area",
            "sizeref": 0.050903371511914326,
            "symbol": "circle"
           },
           "mode": "markers",
           "name": "Sun",
           "scene": "scene",
           "showlegend": true,
           "type": "scatter3d",
           "x": [
            3901448.8247181727
           ],
           "y": [
            3455529.505825166
           ],
           "z": [
            166545.40253150364
           ]
          },
          {
           "hovertemplate": "name=Mars<br>index=56<br>x=%{x}<br>y=%{y}<br>z=%{z}<br>radius=%{marker.size}<extra></extra>",
           "ids": [
            "Mars"
           ],
           "legendgroup": "Mars",
           "marker": {
            "color": "crimson",
            "size": [
             8.12843769687102
            ],
            "sizemode": "area",
            "sizeref": 0.050903371511914326,
            "symbol": "circle"
           },
           "mode": "markers",
           "name": "Mars",
           "scene": "scene",
           "showlegend": true,
           "type": "scatter3d",
           "x": [
            96919781703.56744
           ],
           "y": [
            185923897832.2465
           ],
           "z": [
            82670878310.74135
           ]
          },
          {
           "hovertemplate": "name=Mercury<br>index=56<br>x=%{x}<br>y=%{y}<br>z=%{z}<br>radius=%{marker.size}<extra></extra>",
           "ids": [
            "Mercury"
           ],
           "legendgroup": "Mercury",
           "marker": {
            "color": "cornflowerblue",
            "size": [
             7.7996303599085035
            ],
            "sizemode": "area",
            "sizeref": 0.050903371511914326,
            "symbol": "circle"
           },
           "mode": "markers",
           "name": "Mercury",
           "scene": "scene",
           "showlegend": true,
           "type": "scatter3d",
           "x": [
            49137131413.033485
           ],
           "y": [
            -28404273733.96446
           ],
           "z": [
            -20267356688.889538
           ]
          },
          {
           "hovertemplate": "name=Neptune<br>index=56<br>x=%{x}<br>y=%{y}<br>z=%{z}<br>radius=%{marker.size}<extra></extra>",
           "ids": [
            "Neptune"
           ],
           "legendgroup": "Neptune",
           "marker": {
            "color": "cyan",
            "size": [
             10.15120663641638
            ],
            "sizemode": "area",
            "sizeref": 0.050903371511914326,
            "symbol": "circle"
           },
           "mode": "markers",
           "name": "Neptune",
           "scene": "scene",
           "showlegend": true,
           "type": "scatter3d",
           "x": [
            2557162426249.793
           ],
           "y": [
            -3410146162804.354
           ],
           "z": [
            -1459305694930.8909
           ]
          },
          {
           "hovertemplate": "name=Saturn<br>index=56<br>x=%{x}<br>y=%{y}<br>z=%{z}<br>radius=%{marker.size}<extra></extra>",
           "ids": [
            "Saturn"
           ],
           "legendgroup": "Saturn",
           "marker": {
            "color": "khaki",
            "size": [
             10.972190310798094
            ],
            "sizemode": "area",
            "sizeref": 0.050903371511914326,
            "symbol": "circle"
           },
           "mode": "markers",
           "name": "Saturn",
           "scene": "scene",
           "showlegend": true,
           "type": "scatter3d",
           "x": [
            884484338173.3715
           ],
           "y": [
            980340813702.9336
           ],
           "z": [
            366919248557.65375
           ]
          },
          {
           "hovertemplate": "name=Uranus<br>index=56<br>x=%{x}<br>y=%{y}<br>z=%{z}<br>radius=%{marker.size}<extra></extra>",
           "ids": [
            "Uranus"
           ],
           "legendgroup": "Uranus",
           "marker": {
            "color": "lightcyan",
            "size": [
             10.141007269794844
            ],
            "sizemode": "area",
            "sizeref": 0.050903371511914326,
            "symbol": "circle"
           },
           "mode": "markers",
           "name": "Uranus",
           "scene": "scene",
           "showlegend": true,
           "type": "scatter3d",
           "x": [
            2203192190752.6367
           ],
           "y": [
            -1829574331063.3943
           ],
           "z": [
            -832476129458.6725
           ]
          },
          {
           "hovertemplate": "name=Jupiter<br>index=56<br>x=%{x}<br>y=%{y}<br>z=%{z}<br>radius=%{marker.size}<extra></extra>",
           "ids": [
            "Jupiter"
           ],
           "legendgroup": "Jupiter",
           "marker": {
            "color": "chocolate",
            "size": [
             11.154978283509006
            ],
            "sizemode": "area",
            "sizeref": 0.050903371511914326,
            "symbol": "circle"
           },
           "mode": "markers",
           "name": "Jupiter",
           "scene": "scene",
           "showlegend": true,
           "type": "scatter3d",
           "x": [
            513785034801.6614
           ],
           "y": [
            500823520764.6999
           ],
           "z": [
            202117497715.7758
           ]
          },
          {
           "hovertemplate": "name=Earth<br>index=56<br>x=%{x}<br>y=%{y}<br>z=%{z}<br>radius=%{marker.size}<extra></extra>",
           "ids": [
            "Earth"
           ],
           "legendgroup": "Earth",
           "marker": {
            "color": "green",
            "size": [
             8.759511722116487
            ],
            "sizemode": "area",
            "sizeref": 0.050903371511914326,
            "symbol": "circle"
           },
           "mode": "markers",
           "name": "Earth",
           "scene": "scene",
           "showlegend": true,
           "type": "scatter3d",
           "x": [
            -127291342683.53072
           ],
           "y": [
            -73500623269.49686
           ],
           "z": [
            -31853491288.372364
           ]
          }
         ],
         "name": "56"
        },
        {
         "data": [
          {
           "hovertemplate": "name=Sun<br>index=63<br>x=%{x}<br>y=%{y}<br>z=%{z}<br>radius=%{marker.size}<extra></extra>",
           "ids": [
            "Sun"
           ],
           "legendgroup": "Sun",
           "marker": {
            "color": "orange",
            "size": [
             20.36134860476573
            ],
            "sizemode": "area",
            "sizeref": 0.050903371511914326,
            "symbol": "circle"
           },
           "mode": "markers",
           "name": "Sun",
           "scene": "scene",
           "showlegend": true,
           "type": "scatter3d",
           "x": [
            5306138.196181959
           ],
           "y": [
            4728808.950693163
           ],
           "z": [
            133316.77733415132
           ]
          },
          {
           "hovertemplate": "name=Mars<br>index=63<br>x=%{x}<br>y=%{y}<br>z=%{z}<br>radius=%{marker.size}<extra></extra>",
           "ids": [
            "Mars"
           ],
           "legendgroup": "Mars",
           "marker": {
            "color": "crimson",
            "size": [
             8.12843769687102
            ],
            "sizemode": "area",
            "sizeref": 0.050903371511914326,
            "symbol": "circle"
           },
           "mode": "markers",
           "name": "Mars",
           "scene": "scene",
           "showlegend": true,
           "type": "scatter3d",
           "x": [
            84052075572.97733
           ],
           "y": [
            192262727372.9155
           ],
           "z": [
            85927167473.94388
           ]
          },
          {
           "hovertemplate": "name=Mercury<br>index=63<br>x=%{x}<br>y=%{y}<br>z=%{z}<br>radius=%{marker.size}<extra></extra>",
           "ids": [
            "Mercury"
           ],
           "legendgroup": "Mercury",
           "marker": {
            "color": "cornflowerblue",
            "size": [
             7.7996303599085035
            ],
            "sizemode": "area",
            "sizeref": 0.050903371511914326,
            "symbol": "circle"
           },
           "mode": "markers",
           "name": "Mercury",
           "scene": "scene",
           "showlegend": true,
           "type": "scatter3d",
           "x": [
            53745843243.86572
           ],
           "y": [
            -2961587636.508121
           ],
           "z": [
            -7155228028.074396
           ]
          },
          {
           "hovertemplate": "name=Neptune<br>index=63<br>x=%{x}<br>y=%{y}<br>z=%{z}<br>radius=%{marker.size}<extra></extra>",
           "ids": [
            "Neptune"
           ],
           "legendgroup": "Neptune",
           "marker": {
            "color": "cyan",
            "size": [
             10.15120663641638
            ],
            "sizemode": "area",
            "sizeref": 0.050903371511914326,
            "symbol": "circle"
           },
           "mode": "markers",
           "name": "Neptune",
           "scene": "scene",
           "showlegend": true,
           "type": "scatter3d",
           "x": [
            2559841142054.0376
           ],
           "y": [
            -3408369356955.782
           ],
           "z": [
            -1458645017607.997
           ]
          },
          {
           "hovertemplate": "name=Saturn<br>index=63<br>x=%{x}<br>y=%{y}<br>z=%{z}<br>radius=%{marker.size}<extra></extra>",
           "ids": [
            "Saturn"
           ],
           "legendgroup": "Saturn",
           "marker": {
            "color": "khaki",
            "size": [
             10.972190310798094
            ],
            "sizemode": "area",
            "sizeref": 0.050903371511914326,
            "symbol": "circle"
           },
           "mode": "markers",
           "name": "Saturn",
           "scene": "scene",
           "showlegend": true,
           "type": "scatter3d",
           "x": [
            879703483223.7784
           ],
           "y": [
            983739364629.5905
           ],
           "z": [
            368528355491.3394
           ]
          },
          {
           "hovertemplate": "name=Uranus<br>index=63<br>x=%{x}<br>y=%{y}<br>z=%{z}<br>radius=%{marker.size}<extra></extra>",
           "ids": [
            "Uranus"
           ],
           "legendgroup": "Uranus",
           "marker": {
            "color": "lightcyan",
            "size": [
             10.141007269794844
            ],
            "sizemode": "area",
            "sizeref": 0.050903371511914326,
            "symbol": "circle"
           },
           "mode": "markers",
           "name": "Uranus",
           "scene": "scene",
           "showlegend": true,
           "type": "scatter3d",
           "x": [
            2205930985777.4194
           ],
           "y": [
            -1826940274913.016
           ],
           "z": [
            -831361455434.4073
           ]
          },
          {
           "hovertemplate": "name=Jupiter<br>index=63<br>x=%{x}<br>y=%{y}<br>z=%{z}<br>radius=%{marker.size}<extra></extra>",
           "ids": [
            "Jupiter"
           ],
           "legendgroup": "Jupiter",
           "marker": {
            "color": "chocolate",
            "size": [
             11.154978283509006
            ],
            "sizemode": "area",
            "sizeref": 0.050903371511914326,
            "symbol": "circle"
           },
           "mode": "markers",
           "name": "Jupiter",
           "scene": "scene",
           "showlegend": true,
           "type": "scatter3d",
           "x": [
            507923635434.58325
           ],
           "y": [
            506097062188.10114
           ],
           "z": [
            204520896158.8378
           ]
          },
          {
           "hovertemplate": "name=Earth<br>index=63<br>x=%{x}<br>y=%{y}<br>z=%{z}<br>radius=%{marker.size}<extra></extra>",
           "ids": [
            "Earth"
           ],
           "legendgroup": "Earth",
           "marker": {
            "color": "green",
            "size": [
             8.759511722116487
            ],
            "sizemode": "area",
            "sizeref": 0.050903371511914326,
            "symbol": "circle"
           },
           "mode": "markers",
           "name": "Earth",
           "scene": "scene",
           "showlegend": true,
           "type": "scatter3d",
           "x": [
            -117108444851.3109
           ],
           "y": [
            -87000533317.38794
           ],
           "z": [
            -37706000022.74196
           ]
          }
         ],
         "name": "63"
        },
        {
         "data": [
          {
           "hovertemplate": "name=Sun<br>index=70<br>x=%{x}<br>y=%{y}<br>z=%{z}<br>radius=%{marker.size}<extra></extra>",
           "ids": [
            "Sun"
           ],
           "legendgroup": "Sun",
           "marker": {
            "color": "orange",
            "size": [
             20.36134860476573
            ],
            "sizemode": "area",
            "sizeref": 0.050903371511914326,
            "symbol": "circle"
           },
           "mode": "markers",
           "name": "Sun",
           "scene": "scene",
           "showlegend": true,
           "type": "scatter3d",
           "x": [
            6770264.584579054
           ],
           "y": [
            6060063.841441857
           ],
           "z": [
            122965.31856276037
           ]
          },
          {
           "hovertemplate": "name=Mars<br>index=70<br>x=%{x}<br>y=%{y}<br>z=%{z}<br>radius=%{marker.size}<extra></extra>",
           "ids": [
            "Mars"
           ],
           "legendgroup": "Mars",
           "marker": {
            "color": "crimson",
            "size": [
             8.12843769687102
            ],
            "sizemode": "area",
            "sizeref": 0.050903371511914326,
            "symbol": "circle"
           },
           "mode": "markers",
           "name": "Mars",
           "scene": "scene",
           "showlegend": true,
           "type": "scatter3d",
           "x": [
            70834426246.2569
           ],
           "y": [
            197801294540.56845
           ],
           "z": [
            88825788733.7416
           ]
          },
          {
           "hovertemplate": "name=Mercury<br>index=70<br>x=%{x}<br>y=%{y}<br>z=%{z}<br>radius=%{marker.size}<extra></extra>",
           "ids": [
            "Mercury"
           ],
           "legendgroup": "Mercury",
           "marker": {
            "color": "cornflowerblue",
            "size": [
             7.7996303599085035
            ],
            "sizemode": "area",
            "sizeref": 0.050903371511914326,
            "symbol": "circle"
           },
           "mode": "markers",
           "name": "Mercury",
           "scene": "scene",
           "showlegend": true,
           "type": "scatter3d",
           "x": [
            42353272661.18469
           ],
           "y": [
            22937259767.49136
           ],
           "z": [
            7859293542.370502
           ]
          },
          {
           "hovertemplate": "name=Neptune<br>index=70<br>x=%{x}<br>y=%{y}<br>z=%{z}<br>radius=%{marker.size}<extra></extra>",
           "ids": [
            "Neptune"
           ],
           "legendgroup": "Neptune",
           "marker": {
            "color": "cyan",
            "size": [
             10.15120663641638
            ],
            "sizemode": "area",
            "sizeref": 0.050903371511914326,
            "symbol": "circle"
           },
           "mode": "markers",
           "name": "Neptune",
           "scene": "scene",
           "showlegend": true,
           "type": "scatter3d",
           "x": [
            2562518497687.135
           ],
           "y": [
            -3406590738865.419
           ],
           "z": [
            -1457983564749.8726
           ]
          },
          {
           "hovertemplate": "name=Saturn<br>index=70<br>x=%{x}<br>y=%{y}<br>z=%{z}<br>radius=%{marker.size}<extra></extra>",
           "ids": [
            "Saturn"
           ],
           "legendgroup": "Saturn",
           "marker": {
            "color": "khaki",
            "size": [
             10.972190310798094
            ],
            "sizemode": "area",
            "sizeref": 0.050903371511914326,
            "symbol": "circle"
           },
           "mode": "markers",
           "name": "Saturn",
           "scene": "scene",
           "showlegend": true,
           "type": "scatter3d",
           "x": [
            874905957238.1211
           ],
           "y": [
            987119260933.9652
           ],
           "z": [
            370130476794.3889
           ]
          },
          {
           "hovertemplate": "name=Uranus<br>index=70<br>x=%{x}<br>y=%{y}<br>z=%{z}<br>radius=%{marker.size}<extra></extra>",
           "ids": [
            "Uranus"
           ],
           "legendgroup": "Uranus",
           "marker": {
            "color": "lightcyan",
            "size": [
             10.141007269794844
            ],
            "sizemode": "area",
            "sizeref": 0.050903371511914326,
            "symbol": "circle"
           },
           "mode": "markers",
           "name": "Uranus",
           "scene": "scene",
           "showlegend": true,
           "type": "scatter3d",
           "x": [
            2208665741081.917
           ],
           "y": [
            -1824302871555.64
           ],
           "z": [
            -830245258270.9009
           ]
          },
          {
           "hovertemplate": "name=Jupiter<br>index=70<br>x=%{x}<br>y=%{y}<br>z=%{z}<br>radius=%{marker.size}<extra></extra>",
           "ids": [
            "Jupiter"
           ],
           "legendgroup": "Jupiter",
           "marker": {
            "color": "chocolate",
            "size": [
             11.154978283509006
            ],
            "sizemode": "area",
            "sizeref": 0.050903371511914326,
            "symbol": "circle"
           },
           "mode": "markers",
           "name": "Jupiter",
           "scene": "scene",
           "showlegend": true,
           "type": "scatter3d",
           "x": [
            502002773389.7069
           ],
           "y": [
            511311360453.45154
           ],
           "z": [
            206900351770.00067
           ]
          },
          {
           "hovertemplate": "name=Earth<br>index=70<br>x=%{x}<br>y=%{y}<br>z=%{z}<br>radius=%{marker.size}<extra></extra>",
           "ids": [
            "Earth"
           ],
           "legendgroup": "Earth",
           "marker": {
            "color": "green",
            "size": [
             8.759511722116487
            ],
            "sizemode": "area",
            "sizeref": 0.050903371511914326,
            "symbol": "circle"
           },
           "mode": "markers",
           "name": "Earth",
           "scene": "scene",
           "showlegend": true,
           "type": "scatter3d",
           "x": [
            -105265709228.5714
           ],
           "y": [
            -99267589990.74583
           ],
           "z": [
            -43024218906.03825
           ]
          }
         ],
         "name": "70"
        },
        {
         "data": [
          {
           "hovertemplate": "name=Sun<br>index=77<br>x=%{x}<br>y=%{y}<br>z=%{z}<br>radius=%{marker.size}<extra></extra>",
           "ids": [
            "Sun"
           ],
           "legendgroup": "Sun",
           "marker": {
            "color": "orange",
            "size": [
             20.36134860476573
            ],
            "sizemode": "area",
            "sizeref": 0.050903371511914326,
            "symbol": "circle"
           },
           "mode": "markers",
           "name": "Sun",
           "scene": "scene",
           "showlegend": true,
           "type": "scatter3d",
           "x": [
            8293807.546991354
           ],
           "y": [
            7450964.353130808
           ],
           "z": [
            136371.34864454367
           ]
          },
          {
           "hovertemplate": "name=Mars<br>index=77<br>x=%{x}<br>y=%{y}<br>z=%{z}<br>radius=%{marker.size}<extra></extra>",
           "ids": [
            "Mars"
           ],
           "legendgroup": "Mars",
           "marker": {
            "color": "crimson",
            "size": [
             8.12843769687102
            ],
            "sizemode": "area",
            "sizeref": 0.050903371511914326,
            "symbol": "circle"
           },
           "mode": "markers",
           "name": "Mars",
           "scene": "scene",
           "showlegend": true,
           "type": "scatter3d",
           "x": [
            57327112239.83233
           ],
           "y": [
            202531175551.34576
           ],
           "z": [
            91361243915.7727
           ]
          },
          {
           "hovertemplate": "name=Mercury<br>index=77<br>x=%{x}<br>y=%{y}<br>z=%{z}<br>radius=%{marker.size}<extra></extra>",
           "ids": [
            "Mercury"
           ],
           "legendgroup": "Mercury",
           "marker": {
            "color": "cornflowerblue",
            "size": [
             7.7996303599085035
            ],
            "sizemode": "area",
            "sizeref": 0.050903371511914326,
            "symbol": "circle"
           },
           "mode": "markers",
           "name": "Mercury",
           "scene": "scene",
           "showlegend": true,
           "type": "scatter3d",
           "x": [
            14313885181.058052
           ],
           "y": [
            39242406557.10999
           ],
           "z": [
            19474898602.12788
           ]
          },
          {
           "hovertemplate": "name=Neptune<br>index=77<br>x=%{x}<br>y=%{y}<br>z=%{z}<br>radius=%{marker.size}<extra></extra>",
           "ids": [
            "Neptune"
           ],
           "legendgroup": "Neptune",
           "marker": {
            "color": "cyan",
            "size": [
             10.15120663641638
            ],
            "sizemode": "area",
            "sizeref": 0.050903371511914326,
            "symbol": "circle"
           },
           "mode": "markers",
           "name": "Neptune",
           "scene": "scene",
           "showlegend": true,
           "type": "scatter3d",
           "x": [
            2565194491695.396
           ],
           "y": [
            -3404810309440.448
           ],
           "z": [
            -1457321336691.8765
           ]
          },
          {
           "hovertemplate": "name=Saturn<br>index=77<br>x=%{x}<br>y=%{y}<br>z=%{z}<br>radius=%{marker.size}<extra></extra>",
           "ids": [
            "Saturn"
           ],
           "legendgroup": "Saturn",
           "marker": {
            "color": "khaki",
            "size": [
             10.972190310798094
            ],
            "sizemode": "area",
            "sizeref": 0.050903371511914326,
            "symbol": "circle"
           },
           "mode": "markers",
           "name": "Saturn",
           "scene": "scene",
           "showlegend": true,
           "type": "scatter3d",
           "x": [
            870091842627.9706
           ],
           "y": [
            990480430194.6438
           ],
           "z": [
            371725579013.1568
           ]
          },
          {
           "hovertemplate": "name=Uranus<br>index=77<br>x=%{x}<br>y=%{y}<br>z=%{z}<br>radius=%{marker.size}<extra></extra>",
           "ids": [
            "Uranus"
           ],
           "legendgroup": "Uranus",
           "marker": {
            "color": "lightcyan",
            "size": [
             10.141007269794844
            ],
            "sizemode": "area",
            "sizeref": 0.050903371511914326,
            "symbol": "circle"
           },
           "mode": "markers",
           "name": "Uranus",
           "scene": "scene",
           "showlegend": true,
           "type": "scatter3d",
           "x": [
            2211396452068.83
           ],
           "y": [
            -1821662126170.1987
           ],
           "z": [
            -829127540171.9935
           ]
          },
          {
           "hovertemplate": "name=Jupiter<br>index=77<br>x=%{x}<br>y=%{y}<br>z=%{z}<br>radius=%{marker.size}<extra></extra>",
           "ids": [
            "Jupiter"
           ],
           "legendgroup": "Jupiter",
           "marker": {
            "color": "chocolate",
            "size": [
             11.154978283509006
            ],
            "sizemode": "area",
            "sizeref": 0.050903371511914326,
            "symbol": "circle"
           },
           "mode": "markers",
           "name": "Jupiter",
           "scene": "scene",
           "showlegend": true,
           "type": "scatter3d",
           "x": [
            496023190208.44775
           ],
           "y": [
            516465853765.5848
           ],
           "z": [
            209255605584.08105
           ]
          },
          {
           "hovertemplate": "name=Earth<br>index=77<br>x=%{x}<br>y=%{y}<br>z=%{z}<br>radius=%{marker.size}<extra></extra>",
           "ids": [
            "Earth"
           ],
           "legendgroup": "Earth",
           "marker": {
            "color": "green",
            "size": [
             8.759511722116487
            ],
            "sizemode": "area",
            "sizeref": 0.050903371511914326,
            "symbol": "circle"
           },
           "mode": "markers",
           "name": "Earth",
           "scene": "scene",
           "showlegend": true,
           "type": "scatter3d",
           "x": [
            -91938897487.38808
           ],
           "y": [
            -110135416332.84377
           ],
           "z": [
            -47736024647.32001
           ]
          }
         ],
         "name": "77"
        },
        {
         "data": [
          {
           "hovertemplate": "name=Sun<br>index=84<br>x=%{x}<br>y=%{y}<br>z=%{z}<br>radius=%{marker.size}<extra></extra>",
           "ids": [
            "Sun"
           ],
           "legendgroup": "Sun",
           "marker": {
            "color": "orange",
            "size": [
             20.36134860476573
            ],
            "sizemode": "area",
            "sizeref": 0.050903371511914326,
            "symbol": "circle"
           },
           "mode": "markers",
           "name": "Sun",
           "scene": "scene",
           "showlegend": true,
           "type": "scatter3d",
           "x": [
            9875067.754233014
           ],
           "y": [
            8903129.005639944
           ],
           "z": [
            174562.72733859887
           ]
          },
          {
           "hovertemplate": "name=Mars<br>index=84<br>x=%{x}<br>y=%{y}<br>z=%{z}<br>radius=%{marker.size}<extra></extra>",
           "ids": [
            "Mars"
           ],
           "legendgroup": "Mars",
           "marker": {
            "color": "crimson",
            "size": [
             8.12843769687102
            ],
            "sizemode": "area",
            "sizeref": 0.050903371511914326,
            "symbol": "circle"
           },
           "mode": "markers",
           "name": "Mars",
           "scene": "scene",
           "showlegend": true,
           "type": "scatter3d",
           "x": [
            43589492046.45109
           ],
           "y": [
            206447565869.9487
           ],
           "z": [
            93529720256.45834
           ]
          },
          {
           "hovertemplate": "name=Mercury<br>index=84<br>x=%{x}<br>y=%{y}<br>z=%{z}<br>radius=%{marker.size}<extra></extra>",
           "ids": [
            "Mercury"
           ],
           "legendgroup": "Mercury",
           "marker": {
            "color": "cornflowerblue",
            "size": [
             7.7996303599085035
            ],
            "sizemode": "area",
            "sizeref": 0.050903371511914326,
            "symbol": "circle"
           },
           "mode": "markers",
           "name": "Mercury",
           "scene": "scene",
           "showlegend": true,
           "type": "scatter3d",
           "x": [
            -20304975781.14208
           ],
           "y": [
            37243542316.76793
           ],
           "z": [
            21995288675.95785
           ]
          },
          {
           "hovertemplate": "name=Neptune<br>index=84<br>x=%{x}<br>y=%{y}<br>z=%{z}<br>radius=%{marker.size}<extra></extra>",
           "ids": [
            "Neptune"
           ],
           "legendgroup": "Neptune",
           "marker": {
            "color": "cyan",
            "size": [
             10.15120663641638
            ],
            "sizemode": "area",
            "sizeref": 0.050903371511914326,
            "symbol": "circle"
           },
           "mode": "markers",
           "name": "Neptune",
           "scene": "scene",
           "showlegend": true,
           "type": "scatter3d",
           "x": [
            2567869122625.811
           ],
           "y": [
            -3403028069588.871
           ],
           "z": [
            -1456658333769.7595
           ]
          },
          {
           "hovertemplate": "name=Saturn<br>index=84<br>x=%{x}<br>y=%{y}<br>z=%{z}<br>radius=%{marker.size}<extra></extra>",
           "ids": [
            "Saturn"
           ],
           "legendgroup": "Saturn",
           "marker": {
            "color": "khaki",
            "size": [
             10.972190310798094
            ],
            "sizemode": "area",
            "sizeref": 0.050903371511914326,
            "symbol": "circle"
           },
           "mode": "markers",
           "name": "Saturn",
           "scene": "scene",
           "showlegend": true,
           "type": "scatter3d",
           "x": [
            865261222242.3015
           ],
           "y": [
            993822800340.1394
           ],
           "z": [
            373313628818.40015
           ]
          },
          {
           "hovertemplate": "name=Uranus<br>index=84<br>x=%{x}<br>y=%{y}<br>z=%{z}<br>radius=%{marker.size}<extra></extra>",
           "ids": [
            "Uranus"
           ],
           "legendgroup": "Uranus",
           "marker": {
            "color": "lightcyan",
            "size": [
             10.141007269794844
            ],
            "sizemode": "area",
            "sizeref": 0.050903371511914326,
            "symbol": "circle"
           },
           "mode": "markers",
           "name": "Uranus",
           "scene": "scene",
           "showlegend": true,
           "type": "scatter3d",
           "x": [
            2214123114148.1025
           ],
           "y": [
            -1819018043939.5613
           ],
           "z": [
            -828008303343.3568
           ]
          },
          {
           "hovertemplate": "name=Jupiter<br>index=84<br>x=%{x}<br>y=%{y}<br>z=%{z}<br>radius=%{marker.size}<extra></extra>",
           "ids": [
            "Jupiter"
           ],
           "legendgroup": "Jupiter",
           "marker": {
            "color": "chocolate",
            "size": [
             11.154978283509006
            ],
            "sizemode": "area",
            "sizeref": 0.050903371511914326,
            "symbol": "circle"
           },
           "mode": "markers",
           "name": "Jupiter",
           "scene": "scene",
           "showlegend": true,
           "type": "scatter3d",
           "x": [
            489985633973.2472
           ],
           "y": [
            521559989147.7736
           ],
           "z": [
            211586402257.1174
           ]
          },
          {
           "hovertemplate": "name=Earth<br>index=84<br>x=%{x}<br>y=%{y}<br>z=%{z}<br>radius=%{marker.size}<extra></extra>",
           "ids": [
            "Earth"
           ],
           "legendgroup": "Earth",
           "marker": {
            "color": "green",
            "size": [
             8.759511722116487
            ],
            "sizemode": "area",
            "sizeref": 0.050903371511914326,
            "symbol": "circle"
           },
           "mode": "markers",
           "name": "Earth",
           "scene": "scene",
           "showlegend": true,
           "type": "scatter3d",
           "x": [
            -77322265392.2581
           ],
           "y": [
            -119458475533.24573
           ],
           "z": [
            -51778326084.6994
           ]
          }
         ],
         "name": "84"
        },
        {
         "data": [
          {
           "hovertemplate": "name=Sun<br>index=91<br>x=%{x}<br>y=%{y}<br>z=%{z}<br>radius=%{marker.size}<extra></extra>",
           "ids": [
            "Sun"
           ],
           "legendgroup": "Sun",
           "marker": {
            "color": "orange",
            "size": [
             20.36134860476573
            ],
            "sizemode": "area",
            "sizeref": 0.050903371511914326,
            "symbol": "circle"
           },
           "mode": "markers",
           "name": "Sun",
           "scene": "scene",
           "showlegend": true,
           "type": "scatter3d",
           "x": [
            11511466.341188272
           ],
           "y": [
            10416476.760246117
           ],
           "z": [
            237749.7817046826
           ]
          },
          {
           "hovertemplate": "name=Mars<br>index=91<br>x=%{x}<br>y=%{y}<br>z=%{z}<br>radius=%{marker.size}<extra></extra>",
           "ids": [
            "Mars"
           ],
           "legendgroup": "Mars",
           "marker": {
            "color": "crimson",
            "size": [
             8.12843769687102
            ],
            "sizemode": "area",
            "sizeref": 0.050903371511914326,
            "symbol": "circle"
           },
           "mode": "markers",
           "name": "Mars",
           "scene": "scene",
           "showlegend": true,
           "type": "scatter3d",
           "x": [
            29679788842.274128
           ],
           "y": [
            209549054991.0484
           ],
           "z": [
            95328992904.44006
           ]
          },
          {
           "hovertemplate": "name=Mercury<br>index=91<br>x=%{x}<br>y=%{y}<br>z=%{z}<br>radius=%{marker.size}<extra></extra>",
           "ids": [
            "Mercury"
           ],
           "legendgroup": "Mercury",
           "marker": {
            "color": "cornflowerblue",
            "size": [
             7.7996303599085035
            ],
            "sizemode": "area",
            "sizeref": 0.050903371511914326,
            "symbol": "circle"
           },
           "mode": "markers",
           "name": "Mercury",
           "scene": "scene",
           "showlegend": true,
           "type": "scatter3d",
           "x": [
            -46795211892.15041
           ],
           "y": [
            19276143193.75964
           ],
           "z": [
            15143302789.629025
           ]
          },
          {
           "hovertemplate": "name=Neptune<br>index=91<br>x=%{x}<br>y=%{y}<br>z=%{z}<br>radius=%{marker.size}<extra></extra>",
           "ids": [
            "Neptune"
           ],
           "legendgroup": "Neptune",
           "marker": {
            "color": "cyan",
            "size": [
             10.15120663641638
            ],
            "sizemode": "area",
            "sizeref": 0.050903371511914326,
            "symbol": "circle"
           },
           "mode": "markers",
           "name": "Neptune",
           "scene": "scene",
           "showlegend": true,
           "type": "scatter3d",
           "x": [
            2570542389026.009
           ],
           "y": [
            -3401244020219.5435
           ],
           "z": [
            -1455994556319.6533
           ]
          },
          {
           "hovertemplate": "name=Saturn<br>index=91<br>x=%{x}<br>y=%{y}<br>z=%{z}<br>radius=%{marker.size}<extra></extra>",
           "ids": [
            "Saturn"
           ],
           "legendgroup": "Saturn",
           "marker": {
            "color": "khaki",
            "size": [
             10.972190310798094
            ],
            "sizemode": "area",
            "sizeref": 0.050903371511914326,
            "symbol": "circle"
           },
           "mode": "markers",
           "name": "Saturn",
           "scene": "scene",
           "showlegend": true,
           "type": "scatter3d",
           "x": [
            860414179366.927
           ],
           "y": [
            997146299651.5154
           ],
           "z": [
            374894593006.3292
           ]
          },
          {
           "hovertemplate": "name=Uranus<br>index=91<br>x=%{x}<br>y=%{y}<br>z=%{z}<br>radius=%{marker.size}<extra></extra>",
           "ids": [
            "Uranus"
           ],
           "legendgroup": "Uranus",
           "marker": {
            "color": "lightcyan",
            "size": [
             10.141007269794844
            ],
            "sizemode": "area",
            "sizeref": 0.050903371511914326,
            "symbol": "circle"
           },
           "mode": "markers",
           "name": "Uranus",
           "scene": "scene",
           "showlegend": true,
           "type": "scatter3d",
           "x": [
            2216845722736.9795
           ],
           "y": [
            -1816370630050.6284
           ],
           "z": [
            -826887549992.5145
           ]
          },
          {
           "hovertemplate": "name=Jupiter<br>index=91<br>x=%{x}<br>y=%{y}<br>z=%{z}<br>radius=%{marker.size}<extra></extra>",
           "ids": [
            "Jupiter"
           ],
           "legendgroup": "Jupiter",
           "marker": {
            "color": "chocolate",
            "size": [
             11.154978283509006
            ],
            "sizemode": "area",
            "sizeref": 0.050903371511914326,
            "symbol": "circle"
           },
           "mode": "markers",
           "name": "Jupiter",
           "scene": "scene",
           "showlegend": true,
           "type": "scatter3d",
           "x": [
            483890859165.4871
           ],
           "y": [
            526593222504.5887
           ],
           "z": [
            213892490096.64212
           ]
          },
          {
           "hovertemplate": "name=Earth<br>index=91<br>x=%{x}<br>y=%{y}<br>z=%{z}<br>radius=%{marker.size}<extra></extra>",
           "ids": [
            "Earth"
           ],
           "legendgroup": "Earth",
           "marker": {
            "color": "green",
            "size": [
             8.759511722116487
            ],
            "sizemode": "area",
            "sizeref": 0.050903371511914326,
            "symbol": "circle"
           },
           "mode": "markers",
           "name": "Earth",
           "scene": "scene",
           "showlegend": true,
           "type": "scatter3d",
           "x": [
            -61625703667.48444
           ],
           "y": [
            -127113523683.4931
           ],
           "z": [
            -55097694005.06098
           ]
          }
         ],
         "name": "91"
        },
        {
         "data": [
          {
           "hovertemplate": "name=Sun<br>index=98<br>x=%{x}<br>y=%{y}<br>z=%{z}<br>radius=%{marker.size}<extra></extra>",
           "ids": [
            "Sun"
           ],
           "legendgroup": "Sun",
           "marker": {
            "color": "orange",
            "size": [
             20.36134860476573
            ],
            "sizemode": "area",
            "sizeref": 0.050903371511914326,
            "symbol": "circle"
           },
           "mode": "markers",
           "name": "Sun",
           "scene": "scene",
           "showlegend": true,
           "type": "scatter3d",
           "x": [
            13201694.854089811
           ],
           "y": [
            11989711.39843358
           ],
           "z": [
            325359.69701547065
           ]
          },
          {
           "hovertemplate": "name=Mars<br>index=98<br>x=%{x}<br>y=%{y}<br>z=%{z}<br>radius=%{marker.size}<extra></extra>",
           "ids": [
            "Mars"
           ],
           "legendgroup": "Mars",
           "marker": {
            "color": "crimson",
            "size": [
             8.12843769687102
            ],
            "sizemode": "area",
            "sizeref": 0.050903371511914326,
            "symbol": "circle"
           },
           "mode": "markers",
           "name": "Mars",
           "scene": "scene",
           "showlegend": true,
           "type": "scatter3d",
           "x": [
            15654910844.489029
           ],
           "y": [
            211837401932.4858
           ],
           "z": [
            96758326784.37389
           ]
          },
          {
           "hovertemplate": "name=Mercury<br>index=98<br>x=%{x}<br>y=%{y}<br>z=%{z}<br>radius=%{marker.size}<extra></extra>",
           "ids": [
            "Mercury"
           ],
           "legendgroup": "Mercury",
           "marker": {
            "color": "cornflowerblue",
            "size": [
             7.7996303599085035
            ],
            "sizemode": "area",
            "sizeref": 0.050903371511914326,
            "symbol": "circle"
           },
           "mode": "markers",
           "name": "Mercury",
           "scene": "scene",
           "showlegend": true,
           "type": "scatter3d",
           "x": [
            -58518695201.96427
           ],
           "y": [
            -5295231303.821717
           ],
           "z": [
            3232982893.57658
           ]
          },
          {
           "hovertemplate": "name=Neptune<br>index=98<br>x=%{x}<br>y=%{y}<br>z=%{z}<br>radius=%{marker.size}<extra></extra>",
           "ids": [
            "Neptune"
           ],
           "legendgroup": "Neptune",
           "marker": {
            "color": "cyan",
            "size": [
             10.15120663641638
            ],
            "sizemode": "area",
            "sizeref": 0.050903371511914326,
            "symbol": "circle"
           },
           "mode": "markers",
           "name": "Neptune",
           "scene": "scene",
           "showlegend": true,
           "type": "scatter3d",
           "x": [
            2573214289444.245
           ],
           "y": [
            -3399458162242.2056
           ],
           "z": [
            -1455330004678.071
           ]
          },
          {
           "hovertemplate": "name=Saturn<br>index=98<br>x=%{x}<br>y=%{y}<br>z=%{z}<br>radius=%{marker.size}<extra></extra>",
           "ids": [
            "Saturn"
           ],
           "legendgroup": "Saturn",
           "marker": {
            "color": "khaki",
            "size": [
             10.972190310798094
            ],
            "sizemode": "area",
            "sizeref": 0.050903371511914326,
            "symbol": "circle"
           },
           "mode": "markers",
           "name": "Saturn",
           "scene": "scene",
           "showlegend": true,
           "type": "scatter3d",
           "x": [
            855550797723.7767
           ],
           "y": [
            1000450856764.8608
           ],
           "z": [
            376468438499.6229
           ]
          },
          {
           "hovertemplate": "name=Uranus<br>index=98<br>x=%{x}<br>y=%{y}<br>z=%{z}<br>radius=%{marker.size}<extra></extra>",
           "ids": [
            "Uranus"
           ],
           "legendgroup": "Uranus",
           "marker": {
            "color": "lightcyan",
            "size": [
             10.141007269794844
            ],
            "sizemode": "area",
            "sizeref": 0.050903371511914326,
            "symbol": "circle"
           },
           "mode": "markers",
           "name": "Uranus",
           "scene": "scene",
           "showlegend": true,
           "type": "scatter3d",
           "x": [
            2219564273260.065
           ],
           "y": [
            -1813719889694.374
           ],
           "z": [
            -825765282328.8597
           ]
          },
          {
           "hovertemplate": "name=Jupiter<br>index=98<br>x=%{x}<br>y=%{y}<br>z=%{z}<br>radius=%{marker.size}<extra></extra>",
           "ids": [
            "Jupiter"
           ],
           "legendgroup": "Jupiter",
           "marker": {
            "color": "chocolate",
            "size": [
             11.154978283509006
            ],
            "sizemode": "area",
            "sizeref": 0.050903371511914326,
            "symbol": "circle"
           },
           "mode": "markers",
           "name": "Jupiter",
           "scene": "scene",
           "showlegend": true,
           "type": "scatter3d",
           "x": [
            477739626522.2108
           ],
           "y": [
            531565018682.2023
           ],
           "z": [
            216173621090.9876
           ]
          },
          {
           "hovertemplate": "name=Earth<br>index=98<br>x=%{x}<br>y=%{y}<br>z=%{z}<br>radius=%{marker.size}<extra></extra>",
           "ids": [
            "Earth"
           ],
           "legendgroup": "Earth",
           "marker": {
            "color": "green",
            "size": [
             8.759511722116487
            ],
            "sizemode": "area",
            "sizeref": 0.050903371511914326,
            "symbol": "circle"
           },
           "mode": "markers",
           "name": "Earth",
           "scene": "scene",
           "showlegend": true,
           "type": "scatter3d",
           "x": [
            -45071816562.08508
           ],
           "y": [
            -133000753878.8656
           ],
           "z": [
            -57650857184.05628
           ]
          }
         ],
         "name": "98"
        },
        {
         "data": [
          {
           "hovertemplate": "name=Sun<br>index=105<br>x=%{x}<br>y=%{y}<br>z=%{z}<br>radius=%{marker.size}<extra></extra>",
           "ids": [
            "Sun"
           ],
           "legendgroup": "Sun",
           "marker": {
            "color": "orange",
            "size": [
             20.36134860476573
            ],
            "sizemode": "area",
            "sizeref": 0.050903371511914326,
            "symbol": "circle"
           },
           "mode": "markers",
           "name": "Sun",
           "scene": "scene",
           "showlegend": true,
           "type": "scatter3d",
           "x": [
            14945787.668936368
           ],
           "y": [
            13621827.97264413
           ],
           "z": [
            436832.42294372345
           ]
          },
          {
           "hovertemplate": "name=Mars<br>index=105<br>x=%{x}<br>y=%{y}<br>z=%{z}<br>radius=%{marker.size}<extra></extra>",
           "ids": [
            "Mars"
           ],
           "legendgroup": "Mars",
           "marker": {
            "color": "crimson",
            "size": [
             8.12843769687102
            ],
            "sizemode": "area",
            "sizeref": 0.050903371511914326,
            "symbol": "circle"
           },
           "mode": "markers",
           "name": "Mars",
           "scene": "scene",
           "showlegend": true,
           "type": "scatter3d",
           "x": [
            1570304182.9358222
           ],
           "y": [
            213317314766.9937
           ],
           "z": [
            97818379435.51128
           ]
          },
          {
           "hovertemplate": "name=Mercury<br>index=105<br>x=%{x}<br>y=%{y}<br>z=%{z}<br>radius=%{marker.size}<extra></extra>",
           "ids": [
            "Mercury"
           ],
           "legendgroup": "Mercury",
           "marker": {
            "color": "cornflowerblue",
            "size": [
             7.7996303599085035
            ],
            "sizemode": "area",
            "sizeref": 0.050903371511914326,
            "symbol": "circle"
           },
           "mode": "markers",
           "name": "Mercury",
           "scene": "scene",
           "showlegend": true,
           "type": "scatter3d",
           "x": [
            -56460085936.818405
           ],
           "y": [
            -28899217417.58697
           ],
           "z": [
            -9589284355.588348
           ]
          },
          {
           "hovertemplate": "name=Neptune<br>index=105<br>x=%{x}<br>y=%{y}<br>z=%{z}<br>radius=%{marker.size}<extra></extra>",
           "ids": [
            "Neptune"
           ],
           "legendgroup": "Neptune",
           "marker": {
            "color": "cyan",
            "size": [
             10.15120663641638
            ],
            "sizemode": "area",
            "sizeref": 0.050903371511914326,
            "symbol": "circle"
           },
           "mode": "markers",
           "name": "Neptune",
           "scene": "scene",
           "showlegend": true,
           "type": "scatter3d",
           "x": [
            2575884822429.404
           ],
           "y": [
            -3397670496567.508
           ],
           "z": [
            -1454664679181.911
           ]
          },
          {
           "hovertemplate": "name=Saturn<br>index=105<br>x=%{x}<br>y=%{y}<br>z=%{z}<br>radius=%{marker.size}<extra></extra>",
           "ids": [
            "Saturn"
           ],
           "legendgroup": "Saturn",
           "marker": {
            "color": "khaki",
            "size": [
             10.972190310798094
            ],
            "sizemode": "area",
            "sizeref": 0.050903371511914326,
            "symbol": "circle"
           },
           "mode": "markers",
           "name": "Saturn",
           "scene": "scene",
           "showlegend": true,
           "type": "scatter3d",
           "x": [
            850671161470.103
           ],
           "y": [
            1003736400673.702
           ],
           "z": [
            378035132348.434
           ]
          },
          {
           "hovertemplate": "name=Uranus<br>index=105<br>x=%{x}<br>y=%{y}<br>z=%{z}<br>radius=%{marker.size}<extra></extra>",
           "ids": [
            "Uranus"
           ],
           "legendgroup": "Uranus",
           "marker": {
            "color": "lightcyan",
            "size": [
             10.141007269794844
            ],
            "sizemode": "area",
            "sizeref": 0.050903371511914326,
            "symbol": "circle"
           },
           "mode": "markers",
           "name": "Uranus",
           "scene": "scene",
           "showlegend": true,
           "type": "scatter3d",
           "x": [
            2222278761149.3643
           ],
           "y": [
            -1811065828065.869
           ],
           "z": [
            -824641502563.6654
           ]
          },
          {
           "hovertemplate": "name=Jupiter<br>index=105<br>x=%{x}<br>y=%{y}<br>z=%{z}<br>radius=%{marker.size}<extra></extra>",
           "ids": [
            "Jupiter"
           ],
           "legendgroup": "Jupiter",
           "marker": {
            "color": "chocolate",
            "size": [
             11.154978283509006
            ],
            "sizemode": "area",
            "sizeref": 0.050903371511914326,
            "symbol": "circle"
           },
           "mode": "markers",
           "name": "Jupiter",
           "scene": "scene",
           "showlegend": true,
           "type": "scatter3d",
           "x": [
            471532702892.1871
           ],
           "y": [
            536474851526.5244
           ],
           "z": [
            218429550937.72147
           ]
          },
          {
           "hovertemplate": "name=Earth<br>index=105<br>x=%{x}<br>y=%{y}<br>z=%{z}<br>radius=%{marker.size}<extra></extra>",
           "ids": [
            "Earth"
           ],
           "legendgroup": "Earth",
           "marker": {
            "color": "green",
            "size": [
             8.759511722116487
            ],
            "sizemode": "area",
            "sizeref": 0.050903371511914326,
            "symbol": "circle"
           },
           "mode": "markers",
           "name": "Earth",
           "scene": "scene",
           "showlegend": true,
           "type": "scatter3d",
           "x": [
            -27892970391.42378
           ],
           "y": [
            -137044647971.88692
           ],
           "z": [
            -59405071715.53346
           ]
          }
         ],
         "name": "105"
        },
        {
         "data": [
          {
           "hovertemplate": "name=Sun<br>index=112<br>x=%{x}<br>y=%{y}<br>z=%{z}<br>radius=%{marker.size}<extra></extra>",
           "ids": [
            "Sun"
           ],
           "legendgroup": "Sun",
           "marker": {
            "color": "orange",
            "size": [
             20.36134860476573
            ],
            "sizemode": "area",
            "sizeref": 0.050903371511914326,
            "symbol": "circle"
           },
           "mode": "markers",
           "name": "Sun",
           "scene": "scene",
           "showlegend": true,
           "type": "scatter3d",
           "x": [
            16744242.693430183
           ],
           "y": [
            15312454.24363574
           ],
           "z": [
            571893.0628986841
           ]
          },
          {
           "hovertemplate": "name=Mars<br>index=112<br>x=%{x}<br>y=%{y}<br>z=%{z}<br>radius=%{marker.size}<extra></extra>",
           "ids": [
            "Mars"
           ],
           "legendgroup": "Mars",
           "marker": {
            "color": "crimson",
            "size": [
             8.12843769687102
            ],
            "sizemode": "area",
            "sizeref": 0.050903371511914326,
            "symbol": "circle"
           },
           "mode": "markers",
           "name": "Mars",
           "scene": "scene",
           "showlegend": true,
           "type": "scatter3d",
           "x": [
            -12520164916.562168
           ],
           "y": [
            213996236838.09363
           ],
           "z": [
            98511106121.47452
           ]
          },
          {
           "hovertemplate": "name=Mercury<br>index=112<br>x=%{x}<br>y=%{y}<br>z=%{z}<br>radius=%{marker.size}<extra></extra>",
           "ids": [
            "Mercury"
           ],
           "legendgroup": "Mercury",
           "marker": {
            "color": "cornflowerblue",
            "size": [
             7.7996303599085035
            ],
            "sizemode": "area",
            "sizeref": 0.050903371511914326,
            "symbol": "circle"
           },
           "mode": "markers",
           "name": "Mercury",
           "scene": "scene",
           "showlegend": true,
           "type": "scatter3d",
           "x": [
            -44017411948.78164
           ],
           "y": [
            -47352366772.99706
           ],
           "z": [
            -20736623050.421234
           ]
          },
          {
           "hovertemplate": "name=Neptune<br>index=112<br>x=%{x}<br>y=%{y}<br>z=%{z}<br>radius=%{marker.size}<extra></extra>",
           "ids": [
            "Neptune"
           ],
           "legendgroup": "Neptune",
           "marker": {
            "color": "cyan",
            "size": [
             10.15120663641638
            ],
            "sizemode": "area",
            "sizeref": 0.050903371511914326,
            "symbol": "circle"
           },
           "mode": "markers",
           "name": "Neptune",
           "scene": "scene",
           "showlegend": true,
           "type": "scatter3d",
           "x": [
            2578553986531.002
           ],
           "y": [
            -3395881024107.025
           ],
           "z": [
            -1453998580168.4604
           ]
          },
          {
           "hovertemplate": "name=Saturn<br>index=112<br>x=%{x}<br>y=%{y}<br>z=%{z}<br>radius=%{marker.size}<extra></extra>",
           "ids": [
            "Saturn"
           ],
           "legendgroup": "Saturn",
           "marker": {
            "color": "khaki",
            "size": [
             10.972190310798094
            ],
            "sizemode": "area",
            "sizeref": 0.050903371511914326,
            "symbol": "circle"
           },
           "mode": "markers",
           "name": "Saturn",
           "scene": "scene",
           "showlegend": true,
           "type": "scatter3d",
           "x": [
            845775355197.6472
           ],
           "y": [
            1007002860731.3636
           ],
           "z": [
            379594641731.3817
           ]
          },
          {
           "hovertemplate": "name=Uranus<br>index=112<br>x=%{x}<br>y=%{y}<br>z=%{z}<br>radius=%{marker.size}<extra></extra>",
           "ids": [
            "Uranus"
           ],
           "legendgroup": "Uranus",
           "marker": {
            "color": "lightcyan",
            "size": [
             10.141007269794844
            ],
            "sizemode": "area",
            "sizeref": 0.050903371511914326,
            "symbol": "circle"
           },
           "mode": "markers",
           "name": "Uranus",
           "scene": "scene",
           "showlegend": true,
           "type": "scatter3d",
           "x": [
            2224989181844.313
           ],
           "y": [
            -1808408450364.2776
           ],
           "z": [
            -823516212910.0897
           ]
          },
          {
           "hovertemplate": "name=Jupiter<br>index=112<br>x=%{x}<br>y=%{y}<br>z=%{z}<br>radius=%{marker.size}<extra></extra>",
           "ids": [
            "Jupiter"
           ],
           "legendgroup": "Jupiter",
           "marker": {
            "color": "chocolate",
            "size": [
             11.154978283509006
            ],
            "sizemode": "area",
            "sizeref": 0.050903371511914326,
            "symbol": "circle"
           },
           "mode": "markers",
           "name": "Jupiter",
           "scene": "scene",
           "showlegend": true,
           "type": "scatter3d",
           "x": [
            465270861091.5236
           ],
           "y": [
            541322203939.0408
           ],
           "z": [
            220660039071.10883
           ]
          },
          {
           "hovertemplate": "name=Earth<br>index=112<br>x=%{x}<br>y=%{y}<br>z=%{z}<br>radius=%{marker.size}<extra></extra>",
           "ids": [
            "Earth"
           ],
           "legendgroup": "Earth",
           "marker": {
            "color": "green",
            "size": [
             8.759511722116487
            ],
            "sizemode": "area",
            "sizeref": 0.050903371511914326,
            "symbol": "circle"
           },
           "mode": "markers",
           "name": "Earth",
           "scene": "scene",
           "showlegend": true,
           "type": "scatter3d",
           "x": [
            -10328337597.418297
           ],
           "y": [
            -139194553050.5011
           ],
           "z": [
            -60338371028.58321
           ]
          }
         ],
         "name": "112"
        },
        {
         "data": [
          {
           "hovertemplate": "name=Sun<br>index=119<br>x=%{x}<br>y=%{y}<br>z=%{z}<br>radius=%{marker.size}<extra></extra>",
           "ids": [
            "Sun"
           ],
           "legendgroup": "Sun",
           "marker": {
            "color": "orange",
            "size": [
             20.36134860476573
            ],
            "sizemode": "area",
            "sizeref": 0.050903371511914326,
            "symbol": "circle"
           },
           "mode": "markers",
           "name": "Sun",
           "scene": "scene",
           "showlegend": true,
           "type": "scatter3d",
           "x": [
            18597601.39970512
           ],
           "y": [
            17061643.502119526
           ],
           "z": [
            730483.7034266553
           ]
          },
          {
           "hovertemplate": "name=Mars<br>index=119<br>x=%{x}<br>y=%{y}<br>z=%{z}<br>radius=%{marker.size}<extra></extra>",
           "ids": [
            "Mars"
           ],
           "legendgroup": "Mars",
           "marker": {
            "color": "crimson",
            "size": [
             8.12843769687102
            ],
            "sizemode": "area",
            "sizeref": 0.050903371511914326,
            "symbol": "circle"
           },
           "mode": "markers",
           "name": "Mars",
           "scene": "scene",
           "showlegend": true,
           "type": "scatter3d",
           "x": [
            -26564301881.599552
           ],
           "y": [
            213884141681.31683
           ],
           "z": [
            98839668226.7774
           ]
          },
          {
           "hovertemplate": "name=Mercury<br>index=119<br>x=%{x}<br>y=%{y}<br>z=%{z}<br>radius=%{marker.size}<extra></extra>",
           "ids": [
            "Mercury"
           ],
           "legendgroup": "Mercury",
           "marker": {
            "color": "cornflowerblue",
            "size": [
             7.7996303599085035
            ],
            "sizemode": "area",
            "sizeref": 0.050903371511914326,
            "symbol": "circle"
           },
           "mode": "markers",
           "name": "Mercury",
           "scene": "scene",
           "showlegend": true,
           "type": "scatter3d",
           "x": [
            -24727637560.44063
           ],
           "y": [
            -58544138582.738365
           ],
           "z": [
            -28715017428.18727
           ]
          },
          {
           "hovertemplate": "name=Neptune<br>index=119<br>x=%{x}<br>y=%{y}<br>z=%{z}<br>radius=%{marker.size}<extra></extra>",
           "ids": [
            "Neptune"
           ],
           "legendgroup": "Neptune",
           "marker": {
            "color": "cyan",
            "size": [
             10.15120663641638
            ],
            "sizemode": "area",
            "sizeref": 0.050903371511914326,
            "symbol": "circle"
           },
           "mode": "markers",
           "name": "Neptune",
           "scene": "scene",
           "showlegend": true,
           "type": "scatter3d",
           "x": [
            2581221780299.199
           ],
           "y": [
            -3394089745773.271
           ],
           "z": [
            -1453331707975.4006
           ]
          },
          {
           "hovertemplate": "name=Saturn<br>index=119<br>x=%{x}<br>y=%{y}<br>z=%{z}<br>radius=%{marker.size}<extra></extra>",
           "ids": [
            "Saturn"
           ],
           "legendgroup": "Saturn",
           "marker": {
            "color": "khaki",
            "size": [
             10.972190310798094
            ],
            "sizemode": "area",
            "sizeref": 0.050903371511914326,
            "symbol": "circle"
           },
           "mode": "markers",
           "name": "Saturn",
           "scene": "scene",
           "showlegend": true,
           "type": "scatter3d",
           "x": [
            840863463931.7633
           ],
           "y": [
            1010250166653.2688
           ],
           "z": [
            381146933956.52747
           ]
          },
          {
           "hovertemplate": "name=Uranus<br>index=119<br>x=%{x}<br>y=%{y}<br>z=%{z}<br>radius=%{marker.size}<extra></extra>",
           "ids": [
            "Uranus"
           ],
           "legendgroup": "Uranus",
           "marker": {
            "color": "lightcyan",
            "size": [
             10.141007269794844
            ],
            "sizemode": "area",
            "sizeref": 0.050903371511914326,
            "symbol": "circle"
           },
           "mode": "markers",
           "name": "Uranus",
           "scene": "scene",
           "showlegend": true,
           "type": "scatter3d",
           "x": [
            2227695530791.8013
           ],
           "y": [
            -1805747761792.861
           ],
           "z": [
            -822389415583.1799
           ]
          },
          {
           "hovertemplate": "name=Jupiter<br>index=119<br>x=%{x}<br>y=%{y}<br>z=%{z}<br>radius=%{marker.size}<extra></extra>",
           "ids": [
            "Jupiter"
           ],
           "legendgroup": "Jupiter",
           "marker": {
            "color": "chocolate",
            "size": [
             11.154978283509006
            ],
            "sizemode": "area",
            "sizeref": 0.050903371511914326,
            "symbol": "circle"
           },
           "mode": "markers",
           "name": "Jupiter",
           "scene": "scene",
           "showlegend": true,
           "type": "scatter3d",
           "x": [
            458954879758.7629
           ],
           "y": [
            546106567930.23706
           ],
           "z": [
            222864848688.54788
           ]
          },
          {
           "hovertemplate": "name=Earth<br>index=119<br>x=%{x}<br>y=%{y}<br>z=%{z}<br>radius=%{marker.size}<extra></extra>",
           "ids": [
            "Earth"
           ],
           "legendgroup": "Earth",
           "marker": {
            "color": "green",
            "size": [
             8.759511722116487
            ],
            "sizemode": "area",
            "sizeref": 0.050903371511914326,
            "symbol": "circle"
           },
           "mode": "markers",
           "name": "Earth",
           "scene": "scene",
           "showlegend": true,
           "type": "scatter3d",
           "x": [
            7379044112.384518
           ],
           "y": [
            -139424999104.02396
           ],
           "z": [
            -60439703725.81932
           ]
          }
         ],
         "name": "119"
        },
        {
         "data": [
          {
           "hovertemplate": "name=Sun<br>index=126<br>x=%{x}<br>y=%{y}<br>z=%{z}<br>radius=%{marker.size}<extra></extra>",
           "ids": [
            "Sun"
           ],
           "legendgroup": "Sun",
           "marker": {
            "color": "orange",
            "size": [
             20.36134860476573
            ],
            "sizemode": "area",
            "sizeref": 0.050903371511914326,
            "symbol": "circle"
           },
           "mode": "markers",
           "name": "Sun",
           "scene": "scene",
           "showlegend": true,
           "type": "scatter3d",
           "x": [
            20506365.49461289
           ],
           "y": [
            18869697.141275235
           ],
           "z": [
            912676.3321436222
           ]
          },
          {
           "hovertemplate": "name=Mars<br>index=126<br>x=%{x}<br>y=%{y}<br>z=%{z}<br>radius=%{marker.size}<extra></extra>",
           "ids": [
            "Mars"
           ],
           "legendgroup": "Mars",
           "marker": {
            "color": "crimson",
            "size": [
             8.12843769687102
            ],
            "sizemode": "area",
            "sizeref": 0.050903371511914326,
            "symbol": "circle"
           },
           "mode": "markers",
           "name": "Mars",
           "scene": "scene",
           "showlegend": true,
           "type": "scatter3d",
           "x": [
            -40511652657.447365
           ],
           "y": [
            212993338168.8698
           ],
           "z": [
            98808345723.7354
           ]
          },
          {
           "hovertemplate": "name=Mercury<br>index=126<br>x=%{x}<br>y=%{y}<br>z=%{z}<br>radius=%{marker.size}<extra></extra>",
           "ids": [
            "Mercury"
           ],
           "legendgroup": "Mercury",
           "marker": {
            "color": "cornflowerblue",
            "size": [
             7.7996303599085035
            ],
            "sizemode": "area",
            "sizeref": 0.050903371511914326,
            "symbol": "circle"
           },
           "mode": "markers",
           "name": "Mercury",
           "scene": "scene",
           "showlegend": true,
           "type": "scatter3d",
           "x": [
            -1896741421.545874
           ],
           "y": [
            -61405137322.132
           ],
           "z": [
            -32610533552.676765
           ]
          },
          {
           "hovertemplate": "name=Neptune<br>index=126<br>x=%{x}<br>y=%{y}<br>z=%{z}<br>radius=%{marker.size}<extra></extra>",
           "ids": [
            "Neptune"
           ],
           "legendgroup": "Neptune",
           "marker": {
            "color": "cyan",
            "size": [
             10.15120663641638
            ],
            "sizemode": "area",
            "sizeref": 0.050903371511914326,
            "symbol": "circle"
           },
           "mode": "markers",
           "name": "Neptune",
           "scene": "scene",
           "showlegend": true,
           "type": "scatter3d",
           "x": [
            2583888202284.805
           ],
           "y": [
            -3392296662479.7007
           ],
           "z": [
            -1452664062940.8076
           ]
          },
          {
           "hovertemplate": "name=Saturn<br>index=126<br>x=%{x}<br>y=%{y}<br>z=%{z}<br>radius=%{marker.size}<extra></extra>",
           "ids": [
            "Saturn"
           ],
           "legendgroup": "Saturn",
           "marker": {
            "color": "khaki",
            "size": [
             10.972190310798094
            ],
            "sizemode": "area",
            "sizeref": 0.050903371511914326,
            "symbol": "circle"
           },
           "mode": "markers",
           "name": "Saturn",
           "scene": "scene",
           "showlegend": true,
           "type": "scatter3d",
           "x": [
            835935573130.495
           ],
           "y": [
            1013478248519.1917
           ],
           "z": [
            382691976462.3351
           ]
          },
          {
           "hovertemplate": "name=Uranus<br>index=126<br>x=%{x}<br>y=%{y}<br>z=%{z}<br>radius=%{marker.size}<extra></extra>",
           "ids": [
            "Uranus"
           ],
           "legendgroup": "Uranus",
           "marker": {
            "color": "lightcyan",
            "size": [
             10.141007269794844
            ],
            "sizemode": "area",
            "sizeref": 0.050903371511914326,
            "symbol": "circle"
           },
           "mode": "markers",
           "name": "Uranus",
           "scene": "scene",
           "showlegend": true,
           "type": "scatter3d",
           "x": [
            2230397803446.192
           ],
           "y": [
            -1803083767558.9692
           ],
           "z": [
            -821261112799.8728
           ]
          },
          {
           "hovertemplate": "name=Jupiter<br>index=126<br>x=%{x}<br>y=%{y}<br>z=%{z}<br>radius=%{marker.size}<extra></extra>",
           "ids": [
            "Jupiter"
           ],
           "legendgroup": "Jupiter",
           "marker": {
            "color": "chocolate",
            "size": [
             11.154978283509006
            ],
            "sizemode": "area",
            "sizeref": 0.050903371511914326,
            "symbol": "circle"
           },
           "mode": "markers",
           "name": "Jupiter",
           "scene": "scene",
           "showlegend": true,
           "type": "scatter3d",
           "x": [
            452585543209.4562
           ],
           "y": [
            550827444670.6212
           ],
           "z": [
            225043746775.99188
           ]
          },
          {
           "hovertemplate": "name=Earth<br>index=126<br>x=%{x}<br>y=%{y}<br>z=%{z}<br>radius=%{marker.size}<extra></extra>",
           "ids": [
            "Earth"
           ],
           "legendgroup": "Earth",
           "marker": {
            "color": "green",
            "size": [
             8.759511722116487
            ],
            "sizemode": "area",
            "sizeref": 0.050903371511914326,
            "symbol": "circle"
           },
           "mode": "markers",
           "name": "Earth",
           "scene": "scene",
           "showlegend": true,
           "type": "scatter3d",
           "x": [
            24985182967.73178
           ],
           "y": [
            -137735772659.68893
           ],
           "z": [
            -59708965646.12837
           ]
          }
         ],
         "name": "126"
        },
        {
         "data": [
          {
           "hovertemplate": "name=Sun<br>index=133<br>x=%{x}<br>y=%{y}<br>z=%{z}<br>radius=%{marker.size}<extra></extra>",
           "ids": [
            "Sun"
           ],
           "legendgroup": "Sun",
           "marker": {
            "color": "orange",
            "size": [
             20.36134860476573
            ],
            "sizemode": "area",
            "sizeref": 0.050903371511914326,
            "symbol": "circle"
           },
           "mode": "markers",
           "name": "Sun",
           "scene": "scene",
           "showlegend": true,
           "type": "scatter3d",
           "x": [
            22471020.97773197
           ],
           "y": [
            20737083.132422544
           ],
           "z": [
            1118625.939733999
           ]
          },
          {
           "hovertemplate": "name=Mars<br>index=133<br>x=%{x}<br>y=%{y}<br>z=%{z}<br>radius=%{marker.size}<extra></extra>",
           "ids": [
            "Mars"
           ],
           "legendgroup": "Mars",
           "marker": {
            "color": "crimson",
            "size": [
             8.12843769687102
            ],
            "sizemode": "area",
            "sizeref": 0.050903371511914326,
            "symbol": "circle"
           },
           "mode": "markers",
           "name": "Mars",
           "scene": "scene",
           "showlegend": true,
           "type": "scatter3d",
           "x": [
            -54313552734.35025
           ],
           "y": [
            211338286951.1789
           ],
           "z": [
            98422454285.02444
           ]
          },
          {
           "hovertemplate": "name=Mercury<br>index=133<br>x=%{x}<br>y=%{y}<br>z=%{z}<br>radius=%{marker.size}<extra></extra>",
           "ids": [
            "Mercury"
           ],
           "legendgroup": "Mercury",
           "marker": {
            "color": "cornflowerblue",
            "size": [
             7.7996303599085035
            ],
            "sizemode": "area",
            "sizeref": 0.050903371511914326,
            "symbol": "circle"
           },
           "mode": "markers",
           "name": "Mercury",
           "scene": "scene",
           "showlegend": true,
           "type": "scatter3d",
           "x": [
            21180329269.220238
           ],
           "y": [
            -55451966675.79598
           ],
           "z": [
            -31823398376.96417
           ]
          },
          {
           "hovertemplate": "name=Neptune<br>index=133<br>x=%{x}<br>y=%{y}<br>z=%{z}<br>radius=%{marker.size}<extra></extra>",
           "ids": [
            "Neptune"
           ],
           "legendgroup": "Neptune",
           "marker": {
            "color": "cyan",
            "size": [
             10.15120663641638
            ],
            "sizemode": "area",
            "sizeref": 0.050903371511914326,
            "symbol": "circle"
           },
           "mode": "markers",
           "name": "Neptune",
           "scene": "scene",
           "showlegend": true,
           "type": "scatter3d",
           "x": [
            2586553251039.285
           ],
           "y": [
            -3390501775140.718
           ],
           "z": [
            -1451995645403.157
           ]
          },
          {
           "hovertemplate": "name=Saturn<br>index=133<br>x=%{x}<br>y=%{y}<br>z=%{z}<br>radius=%{marker.size}<extra></extra>",
           "ids": [
            "Saturn"
           ],
           "legendgroup": "Saturn",
           "marker": {
            "color": "khaki",
            "size": [
             10.972190310798094
            ],
            "sizemode": "area",
            "sizeref": 0.050903371511914326,
            "symbol": "circle"
           },
           "mode": "markers",
           "name": "Saturn",
           "scene": "scene",
           "showlegend": true,
           "type": "scatter3d",
           "x": [
            830991768683.6064
           ],
           "y": [
            1016687036775.46
           ],
           "z": [
            384229736818.6184
           ]
          },
          {
           "hovertemplate": "name=Uranus<br>index=133<br>x=%{x}<br>y=%{y}<br>z=%{z}<br>radius=%{marker.size}<extra></extra>",
           "ids": [
            "Uranus"
           ],
           "legendgroup": "Uranus",
           "marker": {
            "color": "lightcyan",
            "size": [
             10.141007269794844
            ],
            "sizemode": "area",
            "sizeref": 0.050903371511914326,
            "symbol": "circle"
           },
           "mode": "markers",
           "name": "Uranus",
           "scene": "scene",
           "showlegend": true,
           "type": "scatter3d",
           "x": [
            2233095995269.331
           ],
           "y": [
            -1800416472874.0369
           ],
           "z": [
            -820131306778.9941
           ]
          },
          {
           "hovertemplate": "name=Jupiter<br>index=133<br>x=%{x}<br>y=%{y}<br>z=%{z}<br>radius=%{marker.size}<extra></extra>",
           "ids": [
            "Jupiter"
           ],
           "legendgroup": "Jupiter",
           "marker": {
            "color": "chocolate",
            "size": [
             11.154978283509006
            ],
            "sizemode": "area",
            "sizeref": 0.050903371511914326,
            "symbol": "circle"
           },
           "mode": "markers",
           "name": "Jupiter",
           "scene": "scene",
           "showlegend": true,
           "type": "scatter3d",
           "x": [
            446163641290.2654
           ],
           "y": [
            555484344539.3812
           ],
           "z": [
            227196504132.3704
           ]
          },
          {
           "hovertemplate": "name=Earth<br>index=133<br>x=%{x}<br>y=%{y}<br>z=%{z}<br>radius=%{marker.size}<extra></extra>",
           "ids": [
            "Earth"
           ],
           "legendgroup": "Earth",
           "marker": {
            "color": "green",
            "size": [
             8.759511722116487
            ],
            "sizemode": "area",
            "sizeref": 0.050903371511914326,
            "symbol": "circle"
           },
           "mode": "markers",
           "name": "Earth",
           "scene": "scene",
           "showlegend": true,
           "type": "scatter3d",
           "x": [
            42248003915.06842
           ],
           "y": [
            -134151758692.83496
           ],
           "z": [
            -58156931471.58223
           ]
          }
         ],
         "name": "133"
        },
        {
         "data": [
          {
           "hovertemplate": "name=Sun<br>index=140<br>x=%{x}<br>y=%{y}<br>z=%{z}<br>radius=%{marker.size}<extra></extra>",
           "ids": [
            "Sun"
           ],
           "legendgroup": "Sun",
           "marker": {
            "color": "orange",
            "size": [
             20.36134860476573
            ],
            "sizemode": "area",
            "sizeref": 0.050903371511914326,
            "symbol": "circle"
           },
           "mode": "markers",
           "name": "Sun",
           "scene": "scene",
           "showlegend": true,
           "type": "scatter3d",
           "x": [
            24492092.898577183
           ],
           "y": [
            22664426.18395189
           ],
           "z": [
            1348558.815970987
           ]
          },
          {
           "hovertemplate": "name=Mars<br>index=140<br>x=%{x}<br>y=%{y}<br>z=%{z}<br>radius=%{marker.size}<extra></extra>",
           "ids": [
            "Mars"
           ],
           "legendgroup": "Mars",
           "marker": {
            "color": "crimson",
            "size": [
             8.12843769687102
            ],
            "sizemode": "area",
            "sizeref": 0.050903371511914326,
            "symbol": "circle"
           },
           "mode": "markers",
           "name": "Mars",
           "scene": "scene",
           "showlegend": true,
           "type": "scatter3d",
           "x": [
            -67923159213.90386
           ],
           "y": [
            208935428883.81573
           ],
           "z": [
            97688267435.6762
           ]
          },
          {
           "hovertemplate": "name=Mercury<br>index=140<br>x=%{x}<br>y=%{y}<br>z=%{z}<br>radius=%{marker.size}<extra></extra>",
           "ids": [
            "Mercury"
           ],
           "legendgroup": "Mercury",
           "marker": {
            "color": "cornflowerblue",
            "size": [
             7.7996303599085035
            ],
            "sizemode": "area",
            "sizeref": 0.050903371511914326,
            "symbol": "circle"
           },
           "mode": "markers",
           "name": "Mercury",
           "scene": "scene",
           "showlegend": true,
           "type": "scatter3d",
           "x": [
            40829795462.68427
           ],
           "y": [
            -40763461683.58363
           ],
           "z": [
            -26014890782.68088
           ]
          },
          {
           "hovertemplate": "name=Neptune<br>index=140<br>x=%{x}<br>y=%{y}<br>z=%{z}<br>radius=%{marker.size}<extra></extra>",
           "ids": [
            "Neptune"
           ],
           "legendgroup": "Neptune",
           "marker": {
            "color": "cyan",
            "size": [
             10.15120663641638
            ],
            "sizemode": "area",
            "sizeref": 0.050903371511914326,
            "symbol": "circle"
           },
           "mode": "markers",
           "name": "Neptune",
           "scene": "scene",
           "showlegend": true,
           "type": "scatter3d",
           "x": [
            2589216925114.7646
           ],
           "y": [
            -3388705084671.672
           ],
           "z": [
            -1451326455701.3257
           ]
          },
          {
           "hovertemplate": "name=Saturn<br>index=140<br>x=%{x}<br>y=%{y}<br>z=%{z}<br>radius=%{marker.size}<extra></extra>",
           "ids": [
            "Saturn"
           ],
           "legendgroup": "Saturn",
           "marker": {
            "color": "khaki",
            "size": [
             10.972190310798094
            ],
            "sizemode": "area",
            "sizeref": 0.050903371511914326,
            "symbol": "circle"
           },
           "mode": "markers",
           "name": "Saturn",
           "scene": "scene",
           "showlegend": true,
           "type": "scatter3d",
           "x": [
            826032136911.5625
           ],
           "y": [
            1019876462237.116
           ],
           "z": [
            385760182727.4763
           ]
          },
          {
           "hovertemplate": "name=Uranus<br>index=140<br>x=%{x}<br>y=%{y}<br>z=%{z}<br>radius=%{marker.size}<extra></extra>",
           "ids": [
            "Uranus"
           ],
           "legendgroup": "Uranus",
           "marker": {
            "color": "lightcyan",
            "size": [
             10.141007269794844
            ],
            "sizemode": "area",
            "sizeref": 0.050903371511914326,
            "symbol": "circle"
           },
           "mode": "markers",
           "name": "Uranus",
           "scene": "scene",
           "showlegend": true,
           "type": "scatter3d",
           "x": [
            2235790101730.5635
           ],
           "y": [
            -1797745882953.577
           ],
           "z": [
            -818999999741.2592
           ]
          },
          {
           "hovertemplate": "name=Jupiter<br>index=140<br>x=%{x}<br>y=%{y}<br>z=%{z}<br>radius=%{marker.size}<extra></extra>",
           "ids": [
            "Jupiter"
           ],
           "legendgroup": "Jupiter",
           "marker": {
            "color": "chocolate",
            "size": [
             11.154978283509006
            ],
            "sizemode": "area",
            "sizeref": 0.050903371511914326,
            "symbol": "circle"
           },
           "mode": "markers",
           "name": "Jupiter",
           "scene": "scene",
           "showlegend": true,
           "type": "scatter3d",
           "x": [
            439689969232.652
           ],
           "y": [
            560076787170.6936
           ],
           "z": [
            229322895393.0165
           ]
          },
          {
           "hovertemplate": "name=Earth<br>index=140<br>x=%{x}<br>y=%{y}<br>z=%{z}<br>radius=%{marker.size}<extra></extra>",
           "ids": [
            "Earth"
           ],
           "legendgroup": "Earth",
           "marker": {
            "color": "green",
            "size": [
             8.759511722116487
            ],
            "sizemode": "area",
            "sizeref": 0.050903371511914326,
            "symbol": "circle"
           },
           "mode": "markers",
           "name": "Earth",
           "scene": "scene",
           "showlegend": true,
           "type": "scatter3d",
           "x": [
            58930170741.88935
           ],
           "y": [
            -128722560034.5888
           ],
           "z": [
            -55805089868.13188
           ]
          }
         ],
         "name": "140"
        },
        {
         "data": [
          {
           "hovertemplate": "name=Sun<br>index=147<br>x=%{x}<br>y=%{y}<br>z=%{z}<br>radius=%{marker.size}<extra></extra>",
           "ids": [
            "Sun"
           ],
           "legendgroup": "Sun",
           "marker": {
            "color": "orange",
            "size": [
             20.36134860476573
            ],
            "sizemode": "area",
            "sizeref": 0.050903371511914326,
            "symbol": "circle"
           },
           "mode": "markers",
           "name": "Sun",
           "scene": "scene",
           "showlegend": true,
           "type": "scatter3d",
           "x": [
            26570206.961064853
           ],
           "y": [
            24652574.37720349
           ],
           "z": [
            1602801.0720619543
           ]
          },
          {
           "hovertemplate": "name=Mars<br>index=147<br>x=%{x}<br>y=%{y}<br>z=%{z}<br>radius=%{marker.size}<extra></extra>",
           "ids": [
            "Mars"
           ],
           "legendgroup": "Mars",
           "marker": {
            "color": "crimson",
            "size": [
             8.12843769687102
            ],
            "sizemode": "area",
            "sizeref": 0.050903371511914326,
            "symbol": "circle"
           },
           "mode": "markers",
           "name": "Mars",
           "scene": "scene",
           "showlegend": true,
           "type": "scatter3d",
           "x": [
            -81295468593.0433
           ],
           "y": [
            205803025805.244
           ],
           "z": [
            96612943984.718
           ]
          },
          {
           "hovertemplate": "name=Mercury<br>index=147<br>x=%{x}<br>y=%{y}<br>z=%{z}<br>radius=%{marker.size}<extra></extra>",
           "ids": [
            "Mercury"
           ],
           "legendgroup": "Mercury",
           "marker": {
            "color": "cornflowerblue",
            "size": [
             7.7996303599085035
            ],
            "sizemode": "area",
            "sizeref": 0.050903371511914326,
            "symbol": "circle"
           },
           "mode": "markers",
           "name": "Mercury",
           "scene": "scene",
           "showlegend": true,
           "type": "scatter3d",
           "x": [
            52579830959.50375
           ],
           "y": [
            -18435541846.251404
           ],
           "z": [
            -15306849195.411016
           ]
          },
          {
           "hovertemplate": "name=Neptune<br>index=147<br>x=%{x}<br>y=%{y}<br>z=%{z}<br>radius=%{marker.size}<extra></extra>",
           "ids": [
            "Neptune"
           ],
           "legendgroup": "Neptune",
           "marker": {
            "color": "cyan",
            "size": [
             10.15120663641638
            ],
            "sizemode": "area",
            "sizeref": 0.050903371511914326,
            "symbol": "circle"
           },
           "mode": "markers",
           "name": "Neptune",
           "scene": "scene",
           "showlegend": true,
           "type": "scatter3d",
           "x": [
            2591879223064.0347
           ],
           "y": [
            -3386906591988.867
           ],
           "z": [
            -1450656494174.5923
           ]
          },
          {
           "hovertemplate": "name=Saturn<br>index=147<br>x=%{x}<br>y=%{y}<br>z=%{z}<br>radius=%{marker.size}<extra></extra>",
           "ids": [
            "Saturn"
           ],
           "legendgroup": "Saturn",
           "marker": {
            "color": "khaki",
            "size": [
             10.972190310798094
            ],
            "sizemode": "area",
            "sizeref": 0.050903371511914326,
            "symbol": "circle"
           },
           "mode": "markers",
           "name": "Saturn",
           "scene": "scene",
           "showlegend": true,
           "type": "scatter3d",
           "x": [
            821056764564.4634
           ],
           "y": [
            1023046456090.0376
           ],
           "z": [
            387283282024.219
           ]
          },
          {
           "hovertemplate": "name=Uranus<br>index=147<br>x=%{x}<br>y=%{y}<br>z=%{z}<br>radius=%{marker.size}<extra></extra>",
           "ids": [
            "Uranus"
           ],
           "legendgroup": "Uranus",
           "marker": {
            "color": "lightcyan",
            "size": [
             10.141007269794844
            ],
            "sizemode": "area",
            "sizeref": 0.050903371511914326,
            "symbol": "circle"
           },
           "mode": "markers",
           "name": "Uranus",
           "scene": "scene",
           "showlegend": true,
           "type": "scatter3d",
           "x": [
            2238480118306.742
           ],
           "y": [
            -1795072003017.176
           ],
           "z": [
            -817867193909.2709
           ]
          },
          {
           "hovertemplate": "name=Jupiter<br>index=147<br>x=%{x}<br>y=%{y}<br>z=%{z}<br>radius=%{marker.size}<extra></extra>",
           "ids": [
            "Jupiter"
           ],
           "legendgroup": "Jupiter",
           "marker": {
            "color": "chocolate",
            "size": [
             11.154978283509006
            ],
            "sizemode": "area",
            "sizeref": 0.050903371511914326,
            "symbol": "circle"
           },
           "mode": "markers",
           "name": "Jupiter",
           "scene": "scene",
           "showlegend": true,
           "type": "scatter3d",
           "x": [
            433165327506.2061
           ],
           "y": [
            564604301497.7028
           ],
           "z": [
            231422699052.1085
           ]
          },
          {
           "hovertemplate": "name=Earth<br>index=147<br>x=%{x}<br>y=%{y}<br>z=%{z}<br>radius=%{marker.size}<extra></extra>",
           "ids": [
            "Earth"
           ],
           "legendgroup": "Earth",
           "marker": {
            "color": "green",
            "size": [
             8.759511722116487
            ],
            "sizemode": "area",
            "sizeref": 0.050903371511914326,
            "symbol": "circle"
           },
           "mode": "markers",
           "name": "Earth",
           "scene": "scene",
           "showlegend": true,
           "type": "scatter3d",
           "x": [
            74801852647.18881
           ],
           "y": [
            -121521900046.52316
           ],
           "z": [
            -52685384694.374535
           ]
          }
         ],
         "name": "147"
        },
        {
         "data": [
          {
           "hovertemplate": "name=Sun<br>index=154<br>x=%{x}<br>y=%{y}<br>z=%{z}<br>radius=%{marker.size}<extra></extra>",
           "ids": [
            "Sun"
           ],
           "legendgroup": "Sun",
           "marker": {
            "color": "orange",
            "size": [
             20.36134860476573
            ],
            "sizemode": "area",
            "sizeref": 0.050903371511914326,
            "symbol": "circle"
           },
           "mode": "markers",
           "name": "Sun",
           "scene": "scene",
           "showlegend": true,
           "type": "scatter3d",
           "x": [
            28706095.431791324
           ],
           "y": [
            26702789.818712503
           ],
           "z": [
            1881879.2669790296
           ]
          },
          {
           "hovertemplate": "name=Mars<br>index=154<br>x=%{x}<br>y=%{y}<br>z=%{z}<br>radius=%{marker.size}<extra></extra>",
           "ids": [
            "Mars"
           ],
           "legendgroup": "Mars",
           "marker": {
            "color": "crimson",
            "size": [
             8.12843769687102
            ],
            "sizemode": "area",
            "sizeref": 0.050903371511914326,
            "symbol": "circle"
           },
           "mode": "markers",
           "name": "Mars",
           "scene": "scene",
           "showlegend": true,
           "type": "scatter3d",
           "x": [
            -94387322732.16742
           ],
           "y": [
            201961013764.7824
           ],
           "z": [
            95204460848.90672
           ]
          },
          {
           "hovertemplate": "name=Mercury<br>index=154<br>x=%{x}<br>y=%{y}<br>z=%{z}<br>radius=%{marker.size}<extra></extra>",
           "ids": [
            "Mercury"
           ],
           "legendgroup": "Mercury",
           "marker": {
            "color": "cornflowerblue",
            "size": [
             7.7996303599085035
            ],
            "sizemode": "area",
            "sizeref": 0.050903371511914326,
            "symbol": "circle"
           },
           "mode": "markers",
           "name": "Mercury",
           "scene": "scene",
           "showlegend": true,
           "type": "scatter3d",
           "x": [
            51133609946.74493
           ],
           "y": [
            8183329441.215751
           ],
           "z": [
            -938808992.3472042
           ]
          },
          {
           "hovertemplate": "name=Neptune<br>index=154<br>x=%{x}<br>y=%{y}<br>z=%{z}<br>radius=%{marker.size}<extra></extra>",
           "ids": [
            "Neptune"
           ],
           "legendgroup": "Neptune",
           "marker": {
            "color": "cyan",
            "size": [
             10.15120663641638
            ],
            "sizemode": "area",
            "sizeref": 0.050903371511914326,
            "symbol": "circle"
           },
           "mode": "markers",
           "name": "Neptune",
           "scene": "scene",
           "showlegend": true,
           "type": "scatter3d",
           "x": [
            2594540143440.5566
           ],
           "y": [
            -3385106298009.557
           ],
           "z": [
            -1449985761162.6394
           ]
          },
          {
           "hovertemplate": "name=Saturn<br>index=154<br>x=%{x}<br>y=%{y}<br>z=%{z}<br>radius=%{marker.size}<extra></extra>",
           "ids": [
            "Saturn"
           ],
           "legendgroup": "Saturn",
           "marker": {
            "color": "khaki",
            "size": [
             10.972190310798094
            ],
            "sizemode": "area",
            "sizeref": 0.050903371511914326,
            "symbol": "circle"
           },
           "mode": "markers",
           "name": "Saturn",
           "scene": "scene",
           "showlegend": true,
           "type": "scatter3d",
           "x": [
            816065738820.9285
           ],
           "y": [
            1026196949893.0258
           ],
           "z": [
            388799002678.2832
           ]
          },
          {
           "hovertemplate": "name=Uranus<br>index=154<br>x=%{x}<br>y=%{y}<br>z=%{z}<br>radius=%{marker.size}<extra></extra>",
           "ids": [
            "Uranus"
           ],
           "legendgroup": "Uranus",
           "marker": {
            "color": "lightcyan",
            "size": [
             10.141007269794844
            ],
            "sizemode": "area",
            "sizeref": 0.050903371511914326,
            "symbol": "circle"
           },
           "mode": "markers",
           "name": "Uranus",
           "scene": "scene",
           "showlegend": true,
           "type": "scatter3d",
           "x": [
            2241166040482.232
           ],
           "y": [
            -1792394838288.4883
           ],
           "z": [
            -816732891507.5188
           ]
          },
          {
           "hovertemplate": "name=Jupiter<br>index=154<br>x=%{x}<br>y=%{y}<br>z=%{z}<br>radius=%{marker.size}<extra></extra>",
           "ids": [
            "Jupiter"
           ],
           "legendgroup": "Jupiter",
           "marker": {
            "color": "chocolate",
            "size": [
             11.154978283509006
            ],
            "sizemode": "area",
            "sizeref": 0.050903371511914326,
            "symbol": "circle"
           },
           "mode": "markers",
           "name": "Jupiter",
           "scene": "scene",
           "showlegend": true,
           "type": "scatter3d",
           "x": [
            426590521671.6657
           ],
           "y": [
            569066425794.2024
           ],
           "z": [
            233495697484.13715
           ]
          },
          {
           "hovertemplate": "name=Earth<br>index=154<br>x=%{x}<br>y=%{y}<br>z=%{z}<br>radius=%{marker.size}<extra></extra>",
           "ids": [
            "Earth"
           ],
           "legendgroup": "Earth",
           "marker": {
            "color": "green",
            "size": [
             8.759511722116487
            ],
            "sizemode": "area",
            "sizeref": 0.050903371511914326,
            "symbol": "circle"
           },
           "mode": "markers",
           "name": "Earth",
           "scene": "scene",
           "showlegend": true,
           "type": "scatter3d",
           "x": [
            89643428568.62624
           ],
           "y": [
            -112646811045.2534
           ],
           "z": [
            -48839863381.57346
           ]
          }
         ],
         "name": "154"
        },
        {
         "data": [
          {
           "hovertemplate": "name=Sun<br>index=161<br>x=%{x}<br>y=%{y}<br>z=%{z}<br>radius=%{marker.size}<extra></extra>",
           "ids": [
            "Sun"
           ],
           "legendgroup": "Sun",
           "marker": {
            "color": "orange",
            "size": [
             20.36134860476573
            ],
            "sizemode": "area",
            "sizeref": 0.050903371511914326,
            "symbol": "circle"
           },
           "mode": "markers",
           "name": "Sun",
           "scene": "scene",
           "showlegend": true,
           "type": "scatter3d",
           "x": [
            30900292.02830659
           ],
           "y": [
            28817065.91442121
           ],
           "z": [
            2186720.9991278336
           ]
          },
          {
           "hovertemplate": "name=Mars<br>index=161<br>x=%{x}<br>y=%{y}<br>z=%{z}<br>radius=%{marker.size}<extra></extra>",
           "ids": [
            "Mars"
           ],
           "legendgroup": "Mars",
           "marker": {
            "color": "crimson",
            "size": [
             8.12843769687102
            ],
            "sizemode": "area",
            "sizeref": 0.050903371511914326,
            "symbol": "circle"
           },
           "mode": "markers",
           "name": "Mars",
           "scene": "scene",
           "showlegend": true,
           "type": "scatter3d",
           "x": [
            -107157405257.01608
           ],
           "y": [
            197430868584.61557
           ],
           "z": [
            93471551276.34544
           ]
          },
          {
           "hovertemplate": "name=Mercury<br>index=161<br>x=%{x}<br>y=%{y}<br>z=%{z}<br>radius=%{marker.size}<extra></extra>",
           "ids": [
            "Mercury"
           ],
           "legendgroup": "Mercury",
           "marker": {
            "color": "cornflowerblue",
            "size": [
             7.7996303599085035
            ],
            "sizemode": "area",
            "sizeref": 0.050903371511914326,
            "symbol": "circle"
           },
           "mode": "markers",
           "name": "Mercury",
           "scene": "scene",
           "showlegend": true,
           "type": "scatter3d",
           "x": [
            32402706561.060528
           ],
           "y": [
            31544528383.023342
           ],
           "z": [
            13480874904.644398
           ]
          },
          {
           "hovertemplate": "name=Neptune<br>index=161<br>x=%{x}<br>y=%{y}<br>z=%{z}<br>radius=%{marker.size}<extra></extra>",
           "ids": [
            "Neptune"
           ],
           "legendgroup": "Neptune",
           "marker": {
            "color": "cyan",
            "size": [
             10.15120663641638
            ],
            "sizemode": "area",
            "sizeref": 0.050903371511914326,
            "symbol": "circle"
           },
           "mode": "markers",
           "name": "Neptune",
           "scene": "scene",
           "showlegend": true,
           "type": "scatter3d",
           "x": [
            2597199684798.4634
           ],
           "y": [
            -3383304203651.95
           ],
           "z": [
            -1449314257005.5527
           ]
          },
          {
           "hovertemplate": "name=Saturn<br>index=161<br>x=%{x}<br>y=%{y}<br>z=%{z}<br>radius=%{marker.size}<extra></extra>",
           "ids": [
            "Saturn"
           ],
           "legendgroup": "Saturn",
           "marker": {
            "color": "khaki",
            "size": [
             10.972190310798094
            ],
            "sizemode": "area",
            "sizeref": 0.050903371511914326,
            "symbol": "circle"
           },
           "mode": "markers",
           "name": "Saturn",
           "scene": "scene",
           "showlegend": true,
           "type": "scatter3d",
           "x": [
            811059147286.9379
           ],
           "y": [
            1029327875579.8656
           ],
           "z": [
            390307312794.1429
           ]
          },
          {
           "hovertemplate": "name=Uranus<br>index=161<br>x=%{x}<br>y=%{y}<br>z=%{z}<br>radius=%{marker.size}<extra></extra>",
           "ids": [
            "Uranus"
           ],
           "legendgroup": "Uranus",
           "marker": {
            "color": "lightcyan",
            "size": [
             10.141007269794844
            ],
            "sizemode": "area",
            "sizeref": 0.050903371511914326,
            "symbol": "circle"
           },
           "mode": "markers",
           "name": "Uranus",
           "scene": "scene",
           "showlegend": true,
           "type": "scatter3d",
           "x": [
            2243847863748.9243
           ],
           "y": [
            -1789714393995.2317
           ],
           "z": [
            -815597094762.3776
           ]
          },
          {
           "hovertemplate": "name=Jupiter<br>index=161<br>x=%{x}<br>y=%{y}<br>z=%{z}<br>radius=%{marker.size}<extra></extra>",
           "ids": [
            "Jupiter"
           ],
           "legendgroup": "Jupiter",
           "marker": {
            "color": "chocolate",
            "size": [
             11.154978283509006
            ],
            "sizemode": "area",
            "sizeref": 0.050903371511914326,
            "symbol": "circle"
           },
           "mode": "markers",
           "name": "Jupiter",
           "scene": "scene",
           "showlegend": true,
           "type": "scatter3d",
           "x": [
            419966362233.7088
           ],
           "y": [
            573462707714.0884
           ],
           "z": [
            235541676964.428
           ]
          },
          {
           "hovertemplate": "name=Earth<br>index=161<br>x=%{x}<br>y=%{y}<br>z=%{z}<br>radius=%{marker.size}<extra></extra>",
           "ids": [
            "Earth"
           ],
           "legendgroup": "Earth",
           "marker": {
            "color": "green",
            "size": [
             8.759511722116487
            ],
            "sizemode": "area",
            "sizeref": 0.050903371511914326,
            "symbol": "circle"
           },
           "mode": "markers",
           "name": "Earth",
           "scene": "scene",
           "showlegend": true,
           "type": "scatter3d",
           "x": [
            103248121381.01875
           ],
           "y": [
            -102216608039.1806
           ],
           "z": [
            -44320232258.41022
           ]
          }
         ],
         "name": "161"
        },
        {
         "data": [
          {
           "hovertemplate": "name=Sun<br>index=168<br>x=%{x}<br>y=%{y}<br>z=%{z}<br>radius=%{marker.size}<extra></extra>",
           "ids": [
            "Sun"
           ],
           "legendgroup": "Sun",
           "marker": {
            "color": "orange",
            "size": [
             20.36134860476573
            ],
            "sizemode": "area",
            "sizeref": 0.050903371511914326,
            "symbol": "circle"
           },
           "mode": "markers",
           "name": "Sun",
           "scene": "scene",
           "showlegend": true,
           "type": "scatter3d",
           "x": [
            33152128.841235187
           ],
           "y": [
            30998041.21081462
           ],
           "z": [
            2518712.444792999
           ]
          },
          {
           "hovertemplate": "name=Mars<br>index=168<br>x=%{x}<br>y=%{y}<br>z=%{z}<br>radius=%{marker.size}<extra></extra>",
           "ids": [
            "Mars"
           ],
           "legendgroup": "Mars",
           "marker": {
            "color": "crimson",
            "size": [
             8.12843769687102
            ],
            "sizemode": "area",
            "sizeref": 0.050903371511914326,
            "symbol": "circle"
           },
           "mode": "markers",
           "name": "Mars",
           "scene": "scene",
           "showlegend": true,
           "type": "scatter3d",
           "x": [
            -119566230431.64664
           ],
           "y": [
            192235483468.86652
           ],
           "z": [
            91423648393.79434
           ]
          },
          {
           "hovertemplate": "name=Mercury<br>index=168<br>x=%{x}<br>y=%{y}<br>z=%{z}<br>radius=%{marker.size}<extra></extra>",
           "ids": [
            "Mercury"
           ],
           "legendgroup": "Mercury",
           "marker": {
            "color": "cornflowerblue",
            "size": [
             7.7996303599085035
            ],
            "sizemode": "area",
            "sizeref": 0.050903371511914326,
            "symbol": "circle"
           },
           "mode": "markers",
           "name": "Mercury",
           "scene": "scene",
           "showlegend": true,
           "type": "scatter3d",
           "x": [
            -199723611.925107
           ],
           "y": [
            40828500294.62148
           ],
           "z": [
            21819022284.38965
           ]
          },
          {
           "hovertemplate": "name=Neptune<br>index=168<br>x=%{x}<br>y=%{y}<br>z=%{z}<br>radius=%{marker.size}<extra></extra>",
           "ids": [
            "Neptune"
           ],
           "legendgroup": "Neptune",
           "marker": {
            "color": "cyan",
            "size": [
             10.15120663641638
            ],
            "sizemode": "area",
            "sizeref": 0.050903371511914326,
            "symbol": "circle"
           },
           "mode": "markers",
           "name": "Neptune",
           "scene": "scene",
           "showlegend": true,
           "type": "scatter3d",
           "x": [
            2599857845692.561
           ],
           "y": [
            -3381500309835.2085
           ],
           "z": [
            -1448641982043.8245
           ]
          },
          {
           "hovertemplate": "name=Saturn<br>index=168<br>x=%{x}<br>y=%{y}<br>z=%{z}<br>radius=%{marker.size}<extra></extra>",
           "ids": [
            "Saturn"
           ],
           "legendgroup": "Saturn",
           "marker": {
            "color": "khaki",
            "size": [
             10.972190310798094
            ],
            "sizemode": "area",
            "sizeref": 0.050903371511914326,
            "symbol": "circle"
           },
           "mode": "markers",
           "name": "Saturn",
           "scene": "scene",
           "showlegend": true,
           "type": "scatter3d",
           "x": [
            806037077994.6357
           ],
           "y": [
            1032439165461.36
           ],
           "z": [
            391808180612.2127
           ]
          },
          {
           "hovertemplate": "name=Uranus<br>index=168<br>x=%{x}<br>y=%{y}<br>z=%{z}<br>radius=%{marker.size}<extra></extra>",
           "ids": [
            "Uranus"
           ],
           "legendgroup": "Uranus",
           "marker": {
            "color": "lightcyan",
            "size": [
             10.141007269794844
            ],
            "sizemode": "area",
            "sizeref": 0.050903371511914326,
            "symbol": "circle"
           },
           "mode": "markers",
           "name": "Uranus",
           "scene": "scene",
           "showlegend": true,
           "type": "scatter3d",
           "x": [
            2246525583606.236
           ],
           "y": [
            -1787030675369.1792
           ],
           "z": [
            -814459805902.1047
           ]
          },
          {
           "hovertemplate": "name=Jupiter<br>index=168<br>x=%{x}<br>y=%{y}<br>z=%{z}<br>radius=%{marker.size}<extra></extra>",
           "ids": [
            "Jupiter"
           ],
           "legendgroup": "Jupiter",
           "marker": {
            "color": "chocolate",
            "size": [
             11.154978283509006
            ],
            "sizemode": "area",
            "sizeref": 0.050903371511914326,
            "symbol": "circle"
           },
           "mode": "markers",
           "name": "Jupiter",
           "scene": "scene",
           "showlegend": true,
           "type": "scatter3d",
           "x": [
            413293664493.6809
           ],
           "y": [
            577792704328.6278
           ],
           "z": [
            237560427688.7214
           ]
          },
          {
           "hovertemplate": "name=Earth<br>index=168<br>x=%{x}<br>y=%{y}<br>z=%{z}<br>radius=%{marker.size}<extra></extra>",
           "ids": [
            "Earth"
           ],
           "legendgroup": "Earth",
           "marker": {
            "color": "green",
            "size": [
             8.759511722116487
            ],
            "sizemode": "area",
            "sizeref": 0.050903371511914326,
            "symbol": "circle"
           },
           "mode": "markers",
           "name": "Earth",
           "scene": "scene",
           "showlegend": true,
           "type": "scatter3d",
           "x": [
            115424551631.3333
           ],
           "y": [
            -90371644605.74445
           ],
           "z": [
            -39187317421.42471
           ]
          }
         ],
         "name": "168"
        },
        {
         "data": [
          {
           "hovertemplate": "name=Sun<br>index=175<br>x=%{x}<br>y=%{y}<br>z=%{z}<br>radius=%{marker.size}<extra></extra>",
           "ids": [
            "Sun"
           ],
           "legendgroup": "Sun",
           "marker": {
            "color": "orange",
            "size": [
             20.36134860476573
            ],
            "sizemode": "area",
            "sizeref": 0.050903371511914326,
            "symbol": "circle"
           },
           "mode": "markers",
           "name": "Sun",
           "scene": "scene",
           "showlegend": true,
           "type": "scatter3d",
           "x": [
            35459130.87822802
           ],
           "y": [
            33247535.73810384
           ],
           "z": [
            2878978.9723468088
           ]
          },
          {
           "hovertemplate": "name=Mars<br>index=175<br>x=%{x}<br>y=%{y}<br>z=%{z}<br>radius=%{marker.size}<extra></extra>",
           "ids": [
            "Mars"
           ],
           "legendgroup": "Mars",
           "marker": {
            "color": "crimson",
            "size": [
             8.12843769687102
            ],
            "sizemode": "area",
            "sizeref": 0.050903371511914326,
            "symbol": "circle"
           },
           "mode": "markers",
           "name": "Mars",
           "scene": "scene",
           "showlegend": true,
           "type": "scatter3d",
           "x": [
            -131576126341.29454
           ],
           "y": [
            186399058248.65176
           ],
           "z": [
            89070833938.42522
           ]
          },
          {
           "hovertemplate": "name=Mercury<br>index=175<br>x=%{x}<br>y=%{y}<br>z=%{z}<br>radius=%{marker.size}<extra></extra>",
           "ids": [
            "Mercury"
           ],
           "legendgroup": "Mercury",
           "marker": {
            "color": "cornflowerblue",
            "size": [
             7.7996303599085035
            ],
            "sizemode": "area",
            "sizeref": 0.050903371511914326,
            "symbol": "circle"
           },
           "mode": "markers",
           "name": "Mercury",
           "scene": "scene",
           "showlegend": true,
           "type": "scatter3d",
           "x": [
            -32917768601.293808
           ],
           "y": [
            31292071372.96609
           ],
           "z": [
            20116059778.575863
           ]
          },
          {
           "hovertemplate": "name=Neptune<br>index=175<br>x=%{x}<br>y=%{y}<br>z=%{z}<br>radius=%{marker.size}<extra></extra>",
           "ids": [
            "Neptune"
           ],
           "legendgroup": "Neptune",
           "marker": {
            "color": "cyan",
            "size": [
             10.15120663641638
            ],
            "sizemode": "area",
            "sizeref": 0.050903371511914326,
            "symbol": "circle"
           },
           "mode": "markers",
           "name": "Neptune",
           "scene": "scene",
           "showlegend": true,
           "type": "scatter3d",
           "x": [
            2602514624678.3354
           ],
           "y": [
            -3379694617479.447
           ],
           "z": [
            -1447968936618.3518
           ]
          },
          {
           "hovertemplate": "name=Saturn<br>index=175<br>x=%{x}<br>y=%{y}<br>z=%{z}<br>radius=%{marker.size}<extra></extra>",
           "ids": [
            "Saturn"
           ],
           "legendgroup": "Saturn",
           "marker": {
            "color": "khaki",
            "size": [
             10.972190310798094
            ],
            "sizemode": "area",
            "sizeref": 0.050903371511914326,
            "symbol": "circle"
           },
           "mode": "markers",
           "name": "Saturn",
           "scene": "scene",
           "showlegend": true,
           "type": "scatter3d",
           "x": [
            800999619401.0969
           ],
           "y": [
            1035530752227.3228
           ],
           "z": [
            393301574509.7352
           ]
          },
          {
           "hovertemplate": "name=Uranus<br>index=175<br>x=%{x}<br>y=%{y}<br>z=%{z}<br>radius=%{marker.size}<extra></extra>",
           "ids": [
            "Uranus"
           ],
           "legendgroup": "Uranus",
           "marker": {
            "color": "lightcyan",
            "size": [
             10.141007269794844
            ],
            "sizemode": "area",
            "sizeref": 0.050903371511914326,
            "symbol": "circle"
           },
           "mode": "markers",
           "name": "Uranus",
           "scene": "scene",
           "showlegend": true,
           "type": "scatter3d",
           "x": [
            2249199195561.117
           ],
           "y": [
            -1784343687646.1536
           ],
           "z": [
            -813321027156.839
           ]
          },
          {
           "hovertemplate": "name=Jupiter<br>index=175<br>x=%{x}<br>y=%{y}<br>z=%{z}<br>radius=%{marker.size}<extra></extra>",
           "ids": [
            "Jupiter"
           ],
           "legendgroup": "Jupiter",
           "marker": {
            "color": "chocolate",
            "size": [
             11.154978283509006
            ],
            "sizemode": "area",
            "sizeref": 0.050903371511914326,
            "symbol": "circle"
           },
           "mode": "markers",
           "name": "Jupiter",
           "scene": "scene",
           "showlegend": true,
           "type": "scatter3d",
           "x": [
            406573248402.34247
           ],
           "y": [
            582055982161.3748
           ],
           "z": [
            239551743791.72012
           ]
          },
          {
           "hovertemplate": "name=Earth<br>index=175<br>x=%{x}<br>y=%{y}<br>z=%{z}<br>radius=%{marker.size}<extra></extra>",
           "ids": [
            "Earth"
           ],
           "legendgroup": "Earth",
           "marker": {
            "color": "green",
            "size": [
             8.759511722116487
            ],
            "sizemode": "area",
            "sizeref": 0.050903371511914326,
            "symbol": "circle"
           },
           "mode": "markers",
           "name": "Earth",
           "scene": "scene",
           "showlegend": true,
           "type": "scatter3d",
           "x": [
            125999197121.08498
           ],
           "y": [
            -77271845640.99158
           ],
           "z": [
            -33510428876.123787
           ]
          }
         ],
         "name": "175"
        },
        {
         "data": [
          {
           "hovertemplate": "name=Sun<br>index=182<br>x=%{x}<br>y=%{y}<br>z=%{z}<br>radius=%{marker.size}<extra></extra>",
           "ids": [
            "Sun"
           ],
           "legendgroup": "Sun",
           "marker": {
            "color": "orange",
            "size": [
             20.36134860476573
            ],
            "sizemode": "area",
            "sizeref": 0.050903371511914326,
            "symbol": "circle"
           },
           "mode": "markers",
           "name": "Sun",
           "scene": "scene",
           "showlegend": true,
           "type": "scatter3d",
           "x": [
            37818837.136293285
           ],
           "y": [
            35565523.85130196
           ],
           "z": [
            3267647.4829497766
           ]
          },
          {
           "hovertemplate": "name=Mars<br>index=182<br>x=%{x}<br>y=%{y}<br>z=%{z}<br>radius=%{marker.size}<extra></extra>",
           "ids": [
            "Mars"
           ],
           "legendgroup": "Mars",
           "marker": {
            "color": "crimson",
            "size": [
             8.12843769687102
            ],
            "sizemode": "area",
            "sizeref": 0.050903371511914326,
            "symbol": "circle"
           },
           "mode": "markers",
           "name": "Mars",
           "scene": "scene",
           "showlegend": true,
           "type": "scatter3d",
           "x": [
            -143151214020.0194
           ],
           "y": [
            179946999767.83597
           ],
           "z": [
            86423791988.9019
           ]
          },
          {
           "hovertemplate": "name=Mercury<br>index=182<br>x=%{x}<br>y=%{y}<br>z=%{z}<br>radius=%{marker.size}<extra></extra>",
           "ids": [
            "Mercury"
           ],
           "legendgroup": "Mercury",
           "marker": {
            "color": "cornflowerblue",
            "size": [
             7.7996303599085035
            ],
            "sizemode": "area",
            "sizeref": 0.050903371511914326,
            "symbol": "circle"
           },
           "mode": "markers",
           "name": "Mercury",
           "scene": "scene",
           "showlegend": true,
           "type": "scatter3d",
           "x": [
            -53528352805.27943
           ],
           "y": [
            9493754251.987902
           ],
           "z": [
            10608211708.84338
           ]
          },
          {
           "hovertemplate": "name=Neptune<br>index=182<br>x=%{x}<br>y=%{y}<br>z=%{z}<br>radius=%{marker.size}<extra></extra>",
           "ids": [
            "Neptune"
           ],
           "legendgroup": "Neptune",
           "marker": {
            "color": "cyan",
            "size": [
             10.15120663641638
            ],
            "sizemode": "area",
            "sizeref": 0.050903371511914326,
            "symbol": "circle"
           },
           "mode": "markers",
           "name": "Neptune",
           "scene": "scene",
           "showlegend": true,
           "type": "scatter3d",
           "x": [
            2605170020311.95
           ],
           "y": [
            -3377887127505.7334
           ],
           "z": [
            -1447295121070.437
           ]
          },
          {
           "hovertemplate": "name=Saturn<br>index=182<br>x=%{x}<br>y=%{y}<br>z=%{z}<br>radius=%{marker.size}<extra></extra>",
           "ids": [
            "Saturn"
           ],
           "legendgroup": "Saturn",
           "marker": {
            "color": "khaki",
            "size": [
             10.972190310798094
            ],
            "sizemode": "area",
            "sizeref": 0.050903371511914326,
            "symbol": "circle"
           },
           "mode": "markers",
           "name": "Saturn",
           "scene": "scene",
           "showlegend": true,
           "type": "scatter3d",
           "x": [
            795946860387.0271
           ],
           "y": [
            1038602568948.5176
           ],
           "z": [
            394787463001.65405
           ]
          },
          {
           "hovertemplate": "name=Uranus<br>index=182<br>x=%{x}<br>y=%{y}<br>z=%{z}<br>radius=%{marker.size}<extra></extra>",
           "ids": [
            "Uranus"
           ],
           "legendgroup": "Uranus",
           "marker": {
            "color": "lightcyan",
            "size": [
             10.141007269794844
            ],
            "sizemode": "area",
            "sizeref": 0.050903371511914326,
            "symbol": "circle"
           },
           "mode": "markers",
           "name": "Uranus",
           "scene": "scene",
           "showlegend": true,
           "type": "scatter3d",
           "x": [
            2251868695128.0576
           ],
           "y": [
            -1781653436066.0222
           ],
           "z": [
            -812180760758.5972
           ]
          },
          {
           "hovertemplate": "name=Jupiter<br>index=182<br>x=%{x}<br>y=%{y}<br>z=%{z}<br>radius=%{marker.size}<extra></extra>",
           "ids": [
            "Jupiter"
           ],
           "legendgroup": "Jupiter",
           "marker": {
            "color": "chocolate",
            "size": [
             11.154978283509006
            ],
            "sizemode": "area",
            "sizeref": 0.050903371511914326,
            "symbol": "circle"
           },
           "mode": "markers",
           "name": "Jupiter",
           "scene": "scene",
           "showlegend": true,
           "type": "scatter3d",
           "x": [
            399805938412.3949
           ],
           "y": [
            586252117220.5428
           ],
           "z": [
            241515423364.55423
           ]
          },
          {
           "hovertemplate": "name=Earth<br>index=182<br>x=%{x}<br>y=%{y}<br>z=%{z}<br>radius=%{marker.size}<extra></extra>",
           "ids": [
            "Earth"
           ],
           "legendgroup": "Earth",
           "marker": {
            "color": "green",
            "size": [
             8.759511722116487
            ],
            "sizemode": "area",
            "sizeref": 0.050903371511914326,
            "symbol": "circle"
           },
           "mode": "markers",
           "name": "Earth",
           "scene": "scene",
           "showlegend": true,
           "type": "scatter3d",
           "x": [
            134818740399.53696
           ],
           "y": [
            -63095010622.89036
           ],
           "z": [
            -27366625202.19908
           ]
          }
         ],
         "name": "182"
        },
        {
         "data": [
          {
           "hovertemplate": "name=Sun<br>index=189<br>x=%{x}<br>y=%{y}<br>z=%{z}<br>radius=%{marker.size}<extra></extra>",
           "ids": [
            "Sun"
           ],
           "legendgroup": "Sun",
           "marker": {
            "color": "orange",
            "size": [
             20.36134860476573
            ],
            "sizemode": "area",
            "sizeref": 0.050903371511914326,
            "symbol": "circle"
           },
           "mode": "markers",
           "name": "Sun",
           "scene": "scene",
           "showlegend": true,
           "type": "scatter3d",
           "x": [
            40230262.9398718
           ],
           "y": [
            37951457.89407802
           ],
           "z": [
            3684401.7671786943
           ]
          },
          {
           "hovertemplate": "name=Mars<br>index=189<br>x=%{x}<br>y=%{y}<br>z=%{z}<br>radius=%{marker.size}<extra></extra>",
           "ids": [
            "Mars"
           ],
           "legendgroup": "Mars",
           "marker": {
            "color": "crimson",
            "size": [
             8.12843769687102
            ],
            "sizemode": "area",
            "sizeref": 0.050903371511914326,
            "symbol": "circle"
           },
           "mode": "markers",
           "name": "Mars",
           "scene": "scene",
           "showlegend": true,
           "type": "scatter3d",
           "x": [
            -154257383945.32483
           ],
           "y": [
            172905832806.79355
           ],
           "z": [
            83493767459.45575
           ]
          },
          {
           "hovertemplate": "name=Mercury<br>index=189<br>x=%{x}<br>y=%{y}<br>z=%{z}<br>radius=%{marker.size}<extra></extra>",
           "ids": [
            "Mercury"
           ],
           "legendgroup": "Mercury",
           "marker": {
            "color": "cornflowerblue",
            "size": [
             7.7996303599085035
            ],
            "sizemode": "area",
            "sizeref": 0.050903371511914326,
            "symbol": "circle"
           },
           "mode": "markers",
           "name": "Mercury",
           "scene": "scene",
           "showlegend": true,
           "type": "scatter3d",
           "x": [
            -59250756515.594
           ],
           "y": [
            -15333963975.817644
           ],
           "z": [
            -2061157503.720311
           ]
          },
          {
           "hovertemplate": "name=Neptune<br>index=189<br>x=%{x}<br>y=%{y}<br>z=%{z}<br>radius=%{marker.size}<extra></extra>",
           "ids": [
            "Neptune"
           ],
           "legendgroup": "Neptune",
           "marker": {
            "color": "cyan",
            "size": [
             10.15120663641638
            ],
            "sizemode": "area",
            "sizeref": 0.050903371511914326,
            "symbol": "circle"
           },
           "mode": "markers",
           "name": "Neptune",
           "scene": "scene",
           "showlegend": true,
           "type": "scatter3d",
           "x": [
            2607824031150.249
           ],
           "y": [
            -3376077840836.092
           ],
           "z": [
            -1446620535741.7898
           ]
          },
          {
           "hovertemplate": "name=Saturn<br>index=189<br>x=%{x}<br>y=%{y}<br>z=%{z}<br>radius=%{marker.size}<extra></extra>",
           "ids": [
            "Saturn"
           ],
           "legendgroup": "Saturn",
           "marker": {
            "color": "khaki",
            "size": [
             10.972190310798094
            ],
            "sizemode": "area",
            "sizeref": 0.050903371511914326,
            "symbol": "circle"
           },
           "mode": "markers",
           "name": "Saturn",
           "scene": "scene",
           "showlegend": true,
           "type": "scatter3d",
           "x": [
            790878890255.398
           ],
           "y": [
            1041654549078.5771
           ],
           "z": [
            396265814741.4854
           ]
          },
          {
           "hovertemplate": "name=Uranus<br>index=189<br>x=%{x}<br>y=%{y}<br>z=%{z}<br>radius=%{marker.size}<extra></extra>",
           "ids": [
            "Uranus"
           ],
           "legendgroup": "Uranus",
           "marker": {
            "color": "lightcyan",
            "size": [
             10.141007269794844
            ],
            "sizemode": "area",
            "sizeref": 0.050903371511914326,
            "symbol": "circle"
           },
           "mode": "markers",
           "name": "Uranus",
           "scene": "scene",
           "showlegend": true,
           "type": "scatter3d",
           "x": [
            2254534077829.09
           ],
           "y": [
            -1778959925872.69
           ],
           "z": [
            -811039008941.273
           ]
          },
          {
           "hovertemplate": "name=Jupiter<br>index=189<br>x=%{x}<br>y=%{y}<br>z=%{z}<br>radius=%{marker.size}<extra></extra>",
           "ids": [
            "Jupiter"
           ],
           "legendgroup": "Jupiter",
           "marker": {
            "color": "chocolate",
            "size": [
             11.154978283509006
            ],
            "sizemode": "area",
            "sizeref": 0.050903371511914326,
            "symbol": "circle"
           },
           "mode": "markers",
           "name": "Jupiter",
           "scene": "scene",
           "showlegend": true,
           "type": "scatter3d",
           "x": [
            392992563330.761
           ],
           "y": [
            590380695029.1663
           ],
           "z": [
            243451268471.32925
           ]
          },
          {
           "hovertemplate": "name=Earth<br>index=189<br>x=%{x}<br>y=%{y}<br>z=%{z}<br>radius=%{marker.size}<extra></extra>",
           "ids": [
            "Earth"
           ],
           "legendgroup": "Earth",
           "marker": {
            "color": "green",
            "size": [
             8.759511722116487
            ],
            "sizemode": "area",
            "sizeref": 0.050903371511914326,
            "symbol": "circle"
           },
           "mode": "markers",
           "name": "Earth",
           "scene": "scene",
           "showlegend": true,
           "type": "scatter3d",
           "x": [
            141752281243.88025
           ],
           "y": [
            -48034881065.86394
           ],
           "z": [
            -20839876006.78685
           ]
          }
         ],
         "name": "189"
        },
        {
         "data": [
          {
           "hovertemplate": "name=Sun<br>index=196<br>x=%{x}<br>y=%{y}<br>z=%{z}<br>radius=%{marker.size}<extra></extra>",
           "ids": [
            "Sun"
           ],
           "legendgroup": "Sun",
           "marker": {
            "color": "orange",
            "size": [
             20.36134860476573
            ],
            "sizemode": "area",
            "sizeref": 0.050903371511914326,
            "symbol": "circle"
           },
           "mode": "markers",
           "name": "Sun",
           "scene": "scene",
           "showlegend": true,
           "type": "scatter3d",
           "x": [
            42693275.97102605
           ],
           "y": [
            40405324.24039826
           ],
           "z": [
            4129111.303650566
           ]
          },
          {
           "hovertemplate": "name=Mars<br>index=196<br>x=%{x}<br>y=%{y}<br>z=%{z}<br>radius=%{marker.size}<extra></extra>",
           "ids": [
            "Mars"
           ],
           "legendgroup": "Mars",
           "marker": {
            "color": "crimson",
            "size": [
             8.12843769687102
            ],
            "sizemode": "area",
            "sizeref": 0.050903371511914326,
            "symbol": "circle"
           },
           "mode": "markers",
           "name": "Mars",
           "scene": "scene",
           "showlegend": true,
           "type": "scatter3d",
           "x": [
            -164862271197.73663
           ],
           "y": [
            165303120874.13403
           ],
           "z": [
            80292529088.01575
           ]
          },
          {
           "hovertemplate": "name=Mercury<br>index=196<br>x=%{x}<br>y=%{y}<br>z=%{z}<br>radius=%{marker.size}<extra></extra>",
           "ids": [
            "Mercury"
           ],
           "legendgroup": "Mercury",
           "marker": {
            "color": "cornflowerblue",
            "size": [
             7.7996303599085035
            ],
            "sizemode": "area",
            "sizeref": 0.050903371511914326,
            "symbol": "circle"
           },
           "mode": "markers",
           "name": "Mercury",
           "scene": "scene",
           "showlegend": true,
           "type": "scatter3d",
           "x": [
            -52525558800.85224
           ],
           "y": [
            -37155713994.52579
           ],
           "z": [
            -14415204362.974924
           ]
          },
          {
           "hovertemplate": "name=Neptune<br>index=196<br>x=%{x}<br>y=%{y}<br>z=%{z}<br>radius=%{marker.size}<extra></extra>",
           "ids": [
            "Neptune"
           ],
           "legendgroup": "Neptune",
           "marker": {
            "color": "cyan",
            "size": [
             10.15120663641638
            ],
            "sizemode": "area",
            "sizeref": 0.050903371511914326,
            "symbol": "circle"
           },
           "mode": "markers",
           "name": "Neptune",
           "scene": "scene",
           "showlegend": true,
           "type": "scatter3d",
           "x": [
            2610476655750.76
           ],
           "y": [
            -3374266758393.4995
           ],
           "z": [
            -1445945180974.5266
           ]
          },
          {
           "hovertemplate": "name=Saturn<br>index=196<br>x=%{x}<br>y=%{y}<br>z=%{z}<br>radius=%{marker.size}<extra></extra>",
           "ids": [
            "Saturn"
           ],
           "legendgroup": "Saturn",
           "marker": {
            "color": "khaki",
            "size": [
             10.972190310798094
            ],
            "sizemode": "area",
            "sizeref": 0.050903371511914326,
            "symbol": "circle"
           },
           "mode": "markers",
           "name": "Saturn",
           "scene": "scene",
           "showlegend": true,
           "type": "scatter3d",
           "x": [
            785795798730.0424
           ],
           "y": [
            1044686626455.9176
           ],
           "z": [
            397736598522.19104
           ]
          },
          {
           "hovertemplate": "name=Uranus<br>index=196<br>x=%{x}<br>y=%{y}<br>z=%{z}<br>radius=%{marker.size}<extra></extra>",
           "ids": [
            "Uranus"
           ],
           "legendgroup": "Uranus",
           "marker": {
            "color": "lightcyan",
            "size": [
             10.141007269794844
            ],
            "sizemode": "area",
            "sizeref": 0.050903371511914326,
            "symbol": "circle"
           },
           "mode": "markers",
           "name": "Uranus",
           "scene": "scene",
           "showlegend": true,
           "type": "scatter3d",
           "x": [
            2257195339193.7974
           ],
           "y": [
            -1776263162314.096
           ],
           "z": [
            -809895773940.6344
           ]
          },
          {
           "hovertemplate": "name=Jupiter<br>index=196<br>x=%{x}<br>y=%{y}<br>z=%{z}<br>radius=%{marker.size}<extra></extra>",
           "ids": [
            "Jupiter"
           ],
           "legendgroup": "Jupiter",
           "marker": {
            "color": "chocolate",
            "size": [
             11.154978283509006
            ],
            "sizemode": "area",
            "sizeref": 0.050903371511914326,
            "symbol": "circle"
           },
           "mode": "markers",
           "name": "Jupiter",
           "scene": "scene",
           "showlegend": true,
           "type": "scatter3d",
           "x": [
            386133956170.9812
           ],
           "y": [
            594441310653.2506
           ],
           "z": [
            245359085164.80917
           ]
          },
          {
           "hovertemplate": "name=Earth<br>index=196<br>x=%{x}<br>y=%{y}<br>z=%{z}<br>radius=%{marker.size}<extra></extra>",
           "ids": [
            "Earth"
           ],
           "legendgroup": "Earth",
           "marker": {
            "color": "green",
            "size": [
             8.759511722116487
            ],
            "sizemode": "area",
            "sizeref": 0.050903371511914326,
            "symbol": "circle"
           },
           "mode": "markers",
           "name": "Earth",
           "scene": "scene",
           "showlegend": true,
           "type": "scatter3d",
           "x": [
            146693385776.48935
           ],
           "y": [
            -32298967205.29329
           ],
           "z": [
            -14020120013.876116
           ]
          }
         ],
         "name": "196"
        },
        {
         "data": [
          {
           "hovertemplate": "name=Sun<br>index=203<br>x=%{x}<br>y=%{y}<br>z=%{z}<br>radius=%{marker.size}<extra></extra>",
           "ids": [
            "Sun"
           ],
           "legendgroup": "Sun",
           "marker": {
            "color": "orange",
            "size": [
             20.36134860476573
            ],
            "sizemode": "area",
            "sizeref": 0.050903371511914326,
            "symbol": "circle"
           },
           "mode": "markers",
           "name": "Sun",
           "scene": "scene",
           "showlegend": true,
           "type": "scatter3d",
           "x": [
            45207874.652296655
           ],
           "y": [
            42927625.82314862
           ],
           "z": [
            4601896.888352747
           ]
          },
          {
           "hovertemplate": "name=Mars<br>index=203<br>x=%{x}<br>y=%{y}<br>z=%{z}<br>radius=%{marker.size}<extra></extra>",
           "ids": [
            "Mars"
           ],
           "legendgroup": "Mars",
           "marker": {
            "color": "crimson",
            "size": [
             8.12843769687102
            ],
            "sizemode": "area",
            "sizeref": 0.050903371511914326,
            "symbol": "circle"
           },
           "mode": "markers",
           "name": "Mars",
           "scene": "scene",
           "showlegend": true,
           "type": "scatter3d",
           "x": [
            -174935230449.8272
           ],
           "y": [
            157167396219.26355
           ],
           "z": [
            76832336650.20541
           ]
          },
          {
           "hovertemplate": "name=Mercury<br>index=203<br>x=%{x}<br>y=%{y}<br>z=%{z}<br>radius=%{marker.size}<extra></extra>",
           "ids": [
            "Mercury"
           ],
           "legendgroup": "Mercury",
           "marker": {
            "color": "cornflowerblue",
            "size": [
             7.7996303599085035
            ],
            "sizemode": "area",
            "sizeref": 0.050903371511914326,
            "symbol": "circle"
           },
           "mode": "markers",
           "name": "Mercury",
           "scene": "scene",
           "showlegend": true,
           "type": "scatter3d",
           "x": [
            -36899082756.36458
           ],
           "y": [
            -52813332474.685005
           ],
           "z": [
            -24399348351.63006
           ]
          },
          {
           "hovertemplate": "name=Neptune<br>index=203<br>x=%{x}<br>y=%{y}<br>z=%{z}<br>radius=%{marker.size}<extra></extra>",
           "ids": [
            "Neptune"
           ],
           "legendgroup": "Neptune",
           "marker": {
            "color": "cyan",
            "size": [
             10.15120663641638
            ],
            "sizemode": "area",
            "sizeref": 0.050903371511914326,
            "symbol": "circle"
           },
           "mode": "markers",
           "name": "Neptune",
           "scene": "scene",
           "showlegend": true,
           "type": "scatter3d",
           "x": [
            2613127892671.693
           ],
           "y": [
            -3372453881101.888
           ],
           "z": [
            -1445269057111.17
           ]
          },
          {
           "hovertemplate": "name=Saturn<br>index=203<br>x=%{x}<br>y=%{y}<br>z=%{z}<br>radius=%{marker.size}<extra></extra>",
           "ids": [
            "Saturn"
           ],
           "legendgroup": "Saturn",
           "marker": {
            "color": "khaki",
            "size": [
             10.972190310798094
            ],
            "sizemode": "area",
            "sizeref": 0.050903371511914326,
            "symbol": "circle"
           },
           "mode": "markers",
           "name": "Saturn",
           "scene": "scene",
           "showlegend": true,
           "type": "scatter3d",
           "x": [
            780697675954.2156
           ],
           "y": [
            1047698735305.631
           ],
           "z": [
            399199783277.0451
           ]
          },
          {
           "hovertemplate": "name=Uranus<br>index=203<br>x=%{x}<br>y=%{y}<br>z=%{z}<br>radius=%{marker.size}<extra></extra>",
           "ids": [
            "Uranus"
           ],
           "legendgroup": "Uranus",
           "marker": {
            "color": "lightcyan",
            "size": [
             10.141007269794844
            ],
            "sizemode": "area",
            "sizeref": 0.050903371511914326,
            "symbol": "circle"
           },
           "mode": "markers",
           "name": "Uranus",
           "scene": "scene",
           "showlegend": true,
           "type": "scatter3d",
           "x": [
            2259852474759.313
           ],
           "y": [
            -1773563150642.2046
           ],
           "z": [
            -808751057994.3212
           ]
          },
          {
           "hovertemplate": "name=Jupiter<br>index=203<br>x=%{x}<br>y=%{y}<br>z=%{z}<br>radius=%{marker.size}<extra></extra>",
           "ids": [
            "Jupiter"
           ],
           "legendgroup": "Jupiter",
           "marker": {
            "color": "chocolate",
            "size": [
             11.154978283509006
            ],
            "sizemode": "area",
            "sizeref": 0.050903371511914326,
            "symbol": "circle"
           },
           "mode": "markers",
           "name": "Jupiter",
           "scene": "scene",
           "showlegend": true,
           "type": "scatter3d",
           "x": [
            379230954005.8176
           ],
           "y": [
            598433568727.7515
           ],
           "z": [
            247238683501.1468
           ]
          },
          {
           "hovertemplate": "name=Earth<br>index=203<br>x=%{x}<br>y=%{y}<br>z=%{z}<br>radius=%{marker.size}<extra></extra>",
           "ids": [
            "Earth"
           ],
           "legendgroup": "Earth",
           "marker": {
            "color": "green",
            "size": [
             8.759511722116487
            ],
            "sizemode": "area",
            "sizeref": 0.050903371511914326,
            "symbol": "circle"
           },
           "mode": "markers",
           "name": "Earth",
           "scene": "scene",
           "showlegend": true,
           "type": "scatter3d",
           "x": [
            149561938284.24103
           ],
           "y": [
            -16106131787.059372
           ],
           "z": [
            -7002217864.391783
           ]
          }
         ],
         "name": "203"
        },
        {
         "data": [
          {
           "hovertemplate": "name=Sun<br>index=210<br>x=%{x}<br>y=%{y}<br>z=%{z}<br>radius=%{marker.size}<extra></extra>",
           "ids": [
            "Sun"
           ],
           "legendgroup": "Sun",
           "marker": {
            "color": "orange",
            "size": [
             20.36134860476573
            ],
            "sizemode": "area",
            "sizeref": 0.050903371511914326,
            "symbol": "circle"
           },
           "mode": "markers",
           "name": "Sun",
           "scene": "scene",
           "showlegend": true,
           "type": "scatter3d",
           "x": [
            47773953.33832271
           ],
           "y": [
            45519152.994174205
           ],
           "z": [
            5103032.883089639
           ]
          },
          {
           "hovertemplate": "name=Mars<br>index=210<br>x=%{x}<br>y=%{y}<br>z=%{z}<br>radius=%{marker.size}<extra></extra>",
           "ids": [
            "Mars"
           ],
           "legendgroup": "Mars",
           "marker": {
            "color": "crimson",
            "size": [
             8.12843769687102
            ],
            "sizemode": "area",
            "sizeref": 0.050903371511914326,
            "symbol": "circle"
           },
           "mode": "markers",
           "name": "Mars",
           "scene": "scene",
           "showlegend": true,
           "type": "scatter3d",
           "x": [
            -184447311779.56757
           ],
           "y": [
            148528098387.6104
           ],
           "z": [
            73125912113.7826
           ]
          },
          {
           "hovertemplate": "name=Mercury<br>index=210<br>x=%{x}<br>y=%{y}<br>z=%{z}<br>radius=%{marker.size}<extra></extra>",
           "ids": [
            "Mercury"
           ],
           "legendgroup": "Mercury",
           "marker": {
            "color": "cornflowerblue",
            "size": [
             7.7996303599085035
            ],
            "sizemode": "area",
            "sizeref": 0.050903371511914326,
            "symbol": "circle"
           },
           "mode": "markers",
           "name": "Mercury",
           "scene": "scene",
           "showlegend": true,
           "type": "scatter3d",
           "x": [
            -15785339274.600094
           ],
           "y": [
            -60702432293.13077
           ],
           "z": [
            -30802688786.214317
           ]
          },
          {
           "hovertemplate": "name=Neptune<br>index=210<br>x=%{x}<br>y=%{y}<br>z=%{z}<br>radius=%{marker.size}<extra></extra>",
           "ids": [
            "Neptune"
           ],
           "legendgroup": "Neptune",
           "marker": {
            "color": "cyan",
            "size": [
             10.15120663641638
            ],
            "sizemode": "area",
            "sizeref": 0.050903371511914326,
            "symbol": "circle"
           },
           "mode": "markers",
           "name": "Neptune",
           "scene": "scene",
           "showlegend": true,
           "type": "scatter3d",
           "x": [
            2615777740471.947
           ],
           "y": [
            -3370639209886.144
           ],
           "z": [
            -1444592164494.6497
           ]
          },
          {
           "hovertemplate": "name=Saturn<br>index=210<br>x=%{x}<br>y=%{y}<br>z=%{z}<br>radius=%{marker.size}<extra></extra>",
           "ids": [
            "Saturn"
           ],
           "legendgroup": "Saturn",
           "marker": {
            "color": "khaki",
            "size": [
             10.972190310798094
            ],
            "sizemode": "area",
            "sizeref": 0.050903371511914326,
            "symbol": "circle"
           },
           "mode": "markers",
           "name": "Saturn",
           "scene": "scene",
           "showlegend": true,
           "type": "scatter3d",
           "x": [
            775584612489.1106
           ],
           "y": [
            1050690810241.3484
           ],
           "z": [
            400655338080.4922
           ]
          },
          {
           "hovertemplate": "name=Uranus<br>index=210<br>x=%{x}<br>y=%{y}<br>z=%{z}<br>radius=%{marker.size}<extra></extra>",
           "ids": [
            "Uranus"
           ],
           "legendgroup": "Uranus",
           "marker": {
            "color": "lightcyan",
            "size": [
             10.141007269794844
            ],
            "sizemode": "area",
            "sizeref": 0.050903371511914326,
            "symbol": "circle"
           },
           "mode": "markers",
           "name": "Uranus",
           "scene": "scene",
           "showlegend": true,
           "type": "scatter3d",
           "x": [
            2262505480070.3257
           ],
           "y": [
            -1770859896112.9998
           ],
           "z": [
            -807604863341.8418
           ]
          },
          {
           "hovertemplate": "name=Jupiter<br>index=210<br>x=%{x}<br>y=%{y}<br>z=%{z}<br>radius=%{marker.size}<extra></extra>",
           "ids": [
            "Jupiter"
           ],
           "legendgroup": "Jupiter",
           "marker": {
            "color": "chocolate",
            "size": [
             11.154978283509006
            ],
            "sizemode": "area",
            "sizeref": 0.050903371511914326,
            "symbol": "circle"
           },
           "mode": "markers",
           "name": "Jupiter",
           "scene": "scene",
           "showlegend": true,
           "type": "scatter3d",
           "x": [
            372284397820.011
           ],
           "y": [
            602357083480.2994
           ],
           "z": [
            249089877553.636
           ]
          },
          {
           "hovertemplate": "name=Earth<br>index=210<br>x=%{x}<br>y=%{y}<br>z=%{z}<br>radius=%{marker.size}<extra></extra>",
           "ids": [
            "Earth"
           ],
           "legendgroup": "Earth",
           "marker": {
            "color": "green",
            "size": [
             8.759511722116487
            ],
            "sizemode": "area",
            "sizeref": 0.050903371511914326,
            "symbol": "circle"
           },
           "mode": "markers",
           "name": "Earth",
           "scene": "scene",
           "showlegend": true,
           "type": "scatter3d",
           "x": [
            150305756417.92157
           ],
           "y": [
            316066746.9770713
           ],
           "z": [
            115199383.47246005
           ]
          }
         ],
         "name": "210"
        },
        {
         "data": [
          {
           "hovertemplate": "name=Sun<br>index=217<br>x=%{x}<br>y=%{y}<br>z=%{z}<br>radius=%{marker.size}<extra></extra>",
           "ids": [
            "Sun"
           ],
           "legendgroup": "Sun",
           "marker": {
            "color": "orange",
            "size": [
             20.36134860476573
            ],
            "sizemode": "area",
            "sizeref": 0.050903371511914326,
            "symbol": "circle"
           },
           "mode": "markers",
           "name": "Sun",
           "scene": "scene",
           "showlegend": true,
           "type": "scatter3d",
           "x": [
            50391285.27751126
           ],
           "y": [
            48180841.1322816
           ],
           "z": [
            5632873.385550305
           ]
          },
          {
           "hovertemplate": "name=Mars<br>index=217<br>x=%{x}<br>y=%{y}<br>z=%{z}<br>radius=%{marker.size}<extra></extra>",
           "ids": [
            "Mars"
           ],
           "legendgroup": "Mars",
           "marker": {
            "color": "crimson",
            "size": [
             8.12843769687102
            ],
            "sizemode": "area",
            "sizeref": 0.050903371511914326,
            "symbol": "circle"
           },
           "mode": "markers",
           "name": "Mars",
           "scene": "scene",
           "showlegend": true,
           "type": "scatter3d",
           "x": [
            -193371238186.73328
           ],
           "y": [
            139415520609.73633
           ],
           "z": [
            69186414432.98003
           ]
          },
          {
           "hovertemplate": "name=Mercury<br>index=217<br>x=%{x}<br>y=%{y}<br>z=%{z}<br>radius=%{marker.size}<extra></extra>",
           "ids": [
            "Mercury"
           ],
           "legendgroup": "Mercury",
           "marker": {
            "color": "cornflowerblue",
            "size": [
             7.7996303599085035
            ],
            "sizemode": "area",
            "sizeref": 0.050903371511914326,
            "symbol": "circle"
           },
           "mode": "markers",
           "name": "Mercury",
           "scene": "scene",
           "showlegend": true,
           "type": "scatter3d",
           "x": [
            7565010417.393774
           ],
           "y": [
            -60006437776.57684
           ],
           "z": [
            -32852075044.240788
           ]
          },
          {
           "hovertemplate": "name=Neptune<br>index=217<br>x=%{x}<br>y=%{y}<br>z=%{z}<br>radius=%{marker.size}<extra></extra>",
           "ids": [
            "Neptune"
           ],
           "legendgroup": "Neptune",
           "marker": {
            "color": "cyan",
            "size": [
             10.15120663641638
            ],
            "sizemode": "area",
            "sizeref": 0.050903371511914326,
            "symbol": "circle"
           },
           "mode": "markers",
           "name": "Neptune",
           "scene": "scene",
           "showlegend": true,
           "type": "scatter3d",
           "x": [
            2618426197711.105
           ],
           "y": [
            -3368822745672.1064
           ],
           "z": [
            -1443914503468.3027
           ]
          },
          {
           "hovertemplate": "name=Saturn<br>index=217<br>x=%{x}<br>y=%{y}<br>z=%{z}<br>radius=%{marker.size}<extra></extra>",
           "ids": [
            "Saturn"
           ],
           "legendgroup": "Saturn",
           "marker": {
            "color": "khaki",
            "size": [
             10.972190310798094
            ],
            "sizemode": "area",
            "sizeref": 0.050903371511914326,
            "symbol": "circle"
           },
           "mode": "markers",
           "name": "Saturn",
           "scene": "scene",
           "showlegend": true,
           "type": "scatter3d",
           "x": [
            770456699312.3229
           ],
           "y": [
            1053662786267.0792
           ],
           "z": [
            402103232148.9985
           ]
          },
          {
           "hovertemplate": "name=Uranus<br>index=217<br>x=%{x}<br>y=%{y}<br>z=%{z}<br>radius=%{marker.size}<extra></extra>",
           "ids": [
            "Uranus"
           ],
           "legendgroup": "Uranus",
           "marker": {
            "color": "lightcyan",
            "size": [
             10.141007269794844
            ],
            "sizemode": "area",
            "sizeref": 0.050903371511914326,
            "symbol": "circle"
           },
           "mode": "markers",
           "name": "Uranus",
           "scene": "scene",
           "showlegend": true,
           "type": "scatter3d",
           "x": [
            2265154350679.0835
           ],
           "y": [
            -1768153403986.4775
           ],
           "z": [
            -806457192224.5708
           ]
          },
          {
           "hovertemplate": "name=Jupiter<br>index=217<br>x=%{x}<br>y=%{y}<br>z=%{z}<br>radius=%{marker.size}<extra></extra>",
           "ids": [
            "Jupiter"
           ],
           "legendgroup": "Jupiter",
           "marker": {
            "color": "chocolate",
            "size": [
             11.154978283509006
            ],
            "sizemode": "area",
            "sizeref": 0.050903371511914326,
            "symbol": "circle"
           },
           "mode": "markers",
           "name": "Jupiter",
           "scene": "scene",
           "showlegend": true,
           "type": "scatter3d",
           "x": [
            365295132363.2008
           ],
           "y": [
            606211478752.7058
           ],
           "z": [
            250912485425.50543
           ]
          },
          {
           "hovertemplate": "name=Earth<br>index=217<br>x=%{x}<br>y=%{y}<br>z=%{z}<br>radius=%{marker.size}<extra></extra>",
           "ids": [
            "Earth"
           ],
           "legendgroup": "Earth",
           "marker": {
            "color": "green",
            "size": [
             8.759511722116487
            ],
            "sizemode": "area",
            "sizeref": 0.050903371511914326,
            "symbol": "circle"
           },
           "mode": "markers",
           "name": "Earth",
           "scene": "scene",
           "showlegend": true,
           "type": "scatter3d",
           "x": [
            148901925713.72092
           ],
           "y": [
            16734263311.186638
           ],
           "z": [
            7230982429.712477
           ]
          }
         ],
         "name": "217"
        },
        {
         "data": [
          {
           "hovertemplate": "name=Sun<br>index=224<br>x=%{x}<br>y=%{y}<br>z=%{z}<br>radius=%{marker.size}<extra></extra>",
           "ids": [
            "Sun"
           ],
           "legendgroup": "Sun",
           "marker": {
            "color": "orange",
            "size": [
             20.36134860476573
            ],
            "sizemode": "area",
            "sizeref": 0.050903371511914326,
            "symbol": "circle"
           },
           "mode": "markers",
           "name": "Sun",
           "scene": "scene",
           "showlegend": true,
           "type": "scatter3d",
           "x": [
            53059569.030392975
           ],
           "y": [
            50913712.74995278
           ],
           "z": [
            6191817.126151692
           ]
          },
          {
           "hovertemplate": "name=Mars<br>index=224<br>x=%{x}<br>y=%{y}<br>z=%{z}<br>radius=%{marker.size}<extra></extra>",
           "ids": [
            "Mars"
           ],
           "legendgroup": "Mars",
           "marker": {
            "color": "crimson",
            "size": [
             8.12843769687102
            ],
            "sizemode": "area",
            "sizeref": 0.050903371511914326,
            "symbol": "circle"
           },
           "mode": "markers",
           "name": "Mars",
           "scene": "scene",
           "showlegend": true,
           "type": "scatter3d",
           "x": [
            -201681385595.1249
           ],
           "y": [
            129860763314.81377
           ],
           "z": [
            65027417678.81985
           ]
          },
          {
           "hovertemplate": "name=Mercury<br>index=224<br>x=%{x}<br>y=%{y}<br>z=%{z}<br>radius=%{marker.size}<extra></extra>",
           "ids": [
            "Mercury"
           ],
           "legendgroup": "Mercury",
           "marker": {
            "color": "cornflowerblue",
            "size": [
             7.7996303599085035
            ],
            "sizemode": "area",
            "sizeref": 0.050903371511914326,
            "symbol": "circle"
           },
           "mode": "markers",
           "name": "Mercury",
           "scene": "scene",
           "showlegend": true,
           "type": "scatter3d",
           "x": [
            29751852770.37635
           ],
           "y": [
            -50434115893.604645
           ],
           "z": [
            -30039480824.608395
           ]
          },
          {
           "hovertemplate": "name=Neptune<br>index=224<br>x=%{x}<br>y=%{y}<br>z=%{z}<br>radius=%{marker.size}<extra></extra>",
           "ids": [
            "Neptune"
           ],
           "legendgroup": "Neptune",
           "marker": {
            "color": "cyan",
            "size": [
             10.15120663641638
            ],
            "sizemode": "area",
            "sizeref": 0.050903371511914326,
            "symbol": "circle"
           },
           "mode": "markers",
           "name": "Neptune",
           "scene": "scene",
           "showlegend": true,
           "type": "scatter3d",
           "x": [
            2621073262949.4404
           ],
           "y": [
            -3367004489386.57
           ],
           "z": [
            -1443236074375.8733
           ]
          },
          {
           "hovertemplate": "name=Saturn<br>index=224<br>x=%{x}<br>y=%{y}<br>z=%{z}<br>radius=%{marker.size}<extra></extra>",
           "ids": [
            "Saturn"
           ],
           "legendgroup": "Saturn",
           "marker": {
            "color": "khaki",
            "size": [
             10.972190310798094
            ],
            "sizemode": "area",
            "sizeref": 0.050903371511914326,
            "symbol": "circle"
           },
           "mode": "markers",
           "name": "Saturn",
           "scene": "scene",
           "showlegend": true,
           "type": "scatter3d",
           "x": [
            765314027816.2651
           ],
           "y": [
            1056614598779.0204
           ],
           "z": [
            403543434841.897
           ]
          },
          {
           "hovertemplate": "name=Uranus<br>index=224<br>x=%{x}<br>y=%{y}<br>z=%{z}<br>radius=%{marker.size}<extra></extra>",
           "ids": [
            "Uranus"
           ],
           "legendgroup": "Uranus",
           "marker": {
            "color": "lightcyan",
            "size": [
             10.141007269794844
            ],
            "sizemode": "area",
            "sizeref": 0.050903371511914326,
            "symbol": "circle"
           },
           "mode": "markers",
           "name": "Uranus",
           "scene": "scene",
           "showlegend": true,
           "type": "scatter3d",
           "x": [
            2267799082145.3955
           ],
           "y": [
            -1765443679526.6392
           ],
           "z": [
            -805308046885.7454
           ]
          },
          {
           "hovertemplate": "name=Jupiter<br>index=224<br>x=%{x}<br>y=%{y}<br>z=%{z}<br>radius=%{marker.size}<extra></extra>",
           "ids": [
            "Jupiter"
           ],
           "legendgroup": "Jupiter",
           "marker": {
            "color": "chocolate",
            "size": [
             11.154978283509006
            ],
            "sizemode": "area",
            "sizeref": 0.050903371511914326,
            "symbol": "circle"
           },
           "mode": "markers",
           "name": "Jupiter",
           "scene": "scene",
           "showlegend": true,
           "type": "scatter3d",
           "x": [
            358264006003.0531
           ],
           "y": [
            609996388020.2876
           ],
           "z": [
            252706329261.772
           ]
          },
          {
           "hovertemplate": "name=Earth<br>index=224<br>x=%{x}<br>y=%{y}<br>z=%{z}<br>radius=%{marker.size}<extra></extra>",
           "ids": [
            "Earth"
           ],
           "legendgroup": "Earth",
           "marker": {
            "color": "green",
            "size": [
             8.759511722116487
            ],
            "sizemode": "area",
            "sizeref": 0.050903371511914326,
            "symbol": "circle"
           },
           "mode": "markers",
           "name": "Earth",
           "scene": "scene",
           "showlegend": true,
           "type": "scatter3d",
           "x": [
            145357805783.005
           ],
           "y": [
            32912391384.880497
           ],
           "z": [
            14242809615.693192
           ]
          }
         ],
         "name": "224"
        },
        {
         "data": [
          {
           "hovertemplate": "name=Sun<br>index=231<br>x=%{x}<br>y=%{y}<br>z=%{z}<br>radius=%{marker.size}<extra></extra>",
           "ids": [
            "Sun"
           ],
           "legendgroup": "Sun",
           "marker": {
            "color": "orange",
            "size": [
             20.36134860476573
            ],
            "sizemode": "area",
            "sizeref": 0.050903371511914326,
            "symbol": "circle"
           },
           "mode": "markers",
           "name": "Sun",
           "scene": "scene",
           "showlegend": true,
           "type": "scatter3d",
           "x": [
            55778495.6989652
           ],
           "y": [
            53718888.09599599
           ],
           "z": [
            6780306.972413417
           ]
          },
          {
           "hovertemplate": "name=Mars<br>index=231<br>x=%{x}<br>y=%{y}<br>z=%{z}<br>radius=%{marker.size}<extra></extra>",
           "ids": [
            "Mars"
           ],
           "legendgroup": "Mars",
           "marker": {
            "color": "crimson",
            "size": [
             8.12843769687102
            ],
            "sizemode": "area",
            "sizeref": 0.050903371511914326,
            "symbol": "circle"
           },
           "mode": "markers",
           "name": "Mars",
           "scene": "scene",
           "showlegend": true,
           "type": "scatter3d",
           "x": [
            -209353766034.2923
           ],
           "y": [
            119895694062.85764
           ],
           "z": [
            60662892200.50979
           ]
          },
          {
           "hovertemplate": "name=Mercury<br>index=231<br>x=%{x}<br>y=%{y}<br>z=%{z}<br>radius=%{marker.size}<extra></extra>",
           "ids": [
            "Mercury"
           ],
           "legendgroup": "Mercury",
           "marker": {
            "color": "cornflowerblue",
            "size": [
             7.7996303599085035
            ],
            "sizemode": "area",
            "sizeref": 0.050903371511914326,
            "symbol": "circle"
           },
           "mode": "markers",
           "name": "Mercury",
           "scene": "scene",
           "showlegend": true,
           "type": "scatter3d",
           "x": [
            46802983184.973
           ],
           "y": [
            -32375871287.970444
           ],
           "z": [
            -22161679145.443825
           ]
          },
          {
           "hovertemplate": "name=Neptune<br>index=231<br>x=%{x}<br>y=%{y}<br>z=%{z}<br>radius=%{marker.size}<extra></extra>",
           "ids": [
            "Neptune"
           ],
           "legendgroup": "Neptune",
           "marker": {
            "color": "cyan",
            "size": [
             10.15120663641638
            ],
            "sizemode": "area",
            "sizeref": 0.050903371511914326,
            "symbol": "circle"
           },
           "mode": "markers",
           "name": "Neptune",
           "scene": "scene",
           "showlegend": true,
           "type": "scatter3d",
           "x": [
            2623718934747.916
           ],
           "y": [
            -3365184441957.282
           ],
           "z": [
            -1442556877561.5122
           ]
          },
          {
           "hovertemplate": "name=Saturn<br>index=231<br>x=%{x}<br>y=%{y}<br>z=%{z}<br>radius=%{marker.size}<extra></extra>",
           "ids": [
            "Saturn"
           ],
           "legendgroup": "Saturn",
           "marker": {
            "color": "khaki",
            "size": [
             10.972190310798094
            ],
            "sizemode": "area",
            "sizeref": 0.050903371511914326,
            "symbol": "circle"
           },
           "mode": "markers",
           "name": "Saturn",
           "scene": "scene",
           "showlegend": true,
           "type": "scatter3d",
           "x": [
            760156689806.5327
           ],
           "y": [
            1059546183567.3503
           ],
           "z": [
            404975915662.2288
           ]
          },
          {
           "hovertemplate": "name=Uranus<br>index=231<br>x=%{x}<br>y=%{y}<br>z=%{z}<br>radius=%{marker.size}<extra></extra>",
           "ids": [
            "Uranus"
           ],
           "legendgroup": "Uranus",
           "marker": {
            "color": "lightcyan",
            "size": [
             10.141007269794844
            ],
            "sizemode": "area",
            "sizeref": 0.050903371511914326,
            "symbol": "circle"
           },
           "mode": "markers",
           "name": "Uranus",
           "scene": "scene",
           "showlegend": true,
           "type": "scatter3d",
           "x": [
            2270439670036.637
           ],
           "y": [
            -1762730728001.4832
           ],
           "z": [
            -804157429570.4628
           ]
          },
          {
           "hovertemplate": "name=Jupiter<br>index=231<br>x=%{x}<br>y=%{y}<br>z=%{z}<br>radius=%{marker.size}<extra></extra>",
           "ids": [
            "Jupiter"
           ],
           "legendgroup": "Jupiter",
           "marker": {
            "color": "chocolate",
            "size": [
             11.154978283509006
            ],
            "sizemode": "area",
            "sizeref": 0.050903371511914326,
            "symbol": "circle"
           },
           "mode": "markers",
           "name": "Jupiter",
           "scene": "scene",
           "showlegend": true,
           "type": "scatter3d",
           "x": [
            351191870578.6584
           ],
           "y": [
            613711454409.0487
           ],
           "z": [
            254471235260.16843
           ]
          },
          {
           "hovertemplate": "name=Earth<br>index=231<br>x=%{x}<br>y=%{y}<br>z=%{z}<br>radius=%{marker.size}<extra></extra>",
           "ids": [
            "Earth"
           ],
           "legendgroup": "Earth",
           "marker": {
            "color": "green",
            "size": [
             8.759511722116487
            ],
            "sizemode": "area",
            "sizeref": 0.050903371511914326,
            "symbol": "circle"
           },
           "mode": "markers",
           "name": "Earth",
           "scene": "scene",
           "showlegend": true,
           "type": "scatter3d",
           "x": [
            139711658579.67917
           ],
           "y": [
            48614979084.83488
           ],
           "z": [
            21048615554.47348
           ]
          }
         ],
         "name": "231"
        },
        {
         "data": [
          {
           "hovertemplate": "name=Sun<br>index=238<br>x=%{x}<br>y=%{y}<br>z=%{z}<br>radius=%{marker.size}<extra></extra>",
           "ids": [
            "Sun"
           ],
           "legendgroup": "Sun",
           "marker": {
            "color": "orange",
            "size": [
             20.36134860476573
            ],
            "sizemode": "area",
            "sizeref": 0.050903371511914326,
            "symbol": "circle"
           },
           "mode": "markers",
           "name": "Sun",
           "scene": "scene",
           "showlegend": true,
           "type": "scatter3d",
           "x": [
            58547809.66501448
           ],
           "y": [
            56597688.346968375
           ],
           "z": [
            7398879.745313086
           ]
          },
          {
           "hovertemplate": "name=Mars<br>index=238<br>x=%{x}<br>y=%{y}<br>z=%{z}<br>radius=%{marker.size}<extra></extra>",
           "ids": [
            "Mars"
           ],
           "legendgroup": "Mars",
           "marker": {
            "color": "crimson",
            "size": [
             8.12843769687102
            ],
            "sizemode": "area",
            "sizeref": 0.050903371511914326,
            "symbol": "circle"
           },
           "mode": "markers",
           "name": "Mars",
           "scene": "scene",
           "showlegend": true,
           "type": "scatter3d",
           "x": [
            -216366014616.22925
           ],
           "y": [
            109552913193.592
           ],
           "z": [
            56107188512.45774
           ]
          },
          {
           "hovertemplate": "name=Mercury<br>index=238<br>x=%{x}<br>y=%{y}<br>z=%{z}<br>radius=%{marker.size}<extra></extra>",
           "ids": [
            "Mercury"
           ],
           "legendgroup": "Mercury",
           "marker": {
            "color": "cornflowerblue",
            "size": [
             7.7996303599085035
            ],
            "sizemode": "area",
            "sizeref": 0.050903371511914326,
            "symbol": "circle"
           },
           "mode": "markers",
           "name": "Mercury",
           "scene": "scene",
           "showlegend": true,
           "type": "scatter3d",
           "x": [
            53819777916.59328
           ],
           "y": [
            -7643715101.319735
           ],
           "z": [
            -9678773318.279997
           ]
          },
          {
           "hovertemplate": "name=Neptune<br>index=238<br>x=%{x}<br>y=%{y}<br>z=%{z}<br>radius=%{marker.size}<extra></extra>",
           "ids": [
            "Neptune"
           ],
           "legendgroup": "Neptune",
           "marker": {
            "color": "cyan",
            "size": [
             10.15120663641638
            ],
            "sizemode": "area",
            "sizeref": 0.050903371511914326,
            "symbol": "circle"
           },
           "mode": "markers",
           "name": "Neptune",
           "scene": "scene",
           "showlegend": true,
           "type": "scatter3d",
           "x": [
            2626363211668.1865
           ],
           "y": [
            -3363362604312.9463
           ],
           "z": [
            -1441876913369.7783
           ]
          },
          {
           "hovertemplate": "name=Saturn<br>index=238<br>x=%{x}<br>y=%{y}<br>z=%{z}<br>radius=%{marker.size}<extra></extra>",
           "ids": [
            "Saturn"
           ],
           "legendgroup": "Saturn",
           "marker": {
            "color": "khaki",
            "size": [
             10.972190310798094
            ],
            "sizemode": "area",
            "sizeref": 0.050903371511914326,
            "symbol": "circle"
           },
           "mode": "markers",
           "name": "Saturn",
           "scene": "scene",
           "showlegend": true,
           "type": "scatter3d",
           "x": [
            754984777500.2194
           ],
           "y": [
            1062457476817.9984
           ],
           "z": [
            406400644257.57983
           ]
          },
          {
           "hovertemplate": "name=Uranus<br>index=238<br>x=%{x}<br>y=%{y}<br>z=%{z}<br>radius=%{marker.size}<extra></extra>",
           "ids": [
            "Uranus"
           ],
           "legendgroup": "Uranus",
           "marker": {
            "color": "lightcyan",
            "size": [
             10.141007269794844
            ],
            "sizemode": "area",
            "sizeref": 0.050903371511914326,
            "symbol": "circle"
           },
           "mode": "markers",
           "name": "Uranus",
           "scene": "scene",
           "showlegend": true,
           "type": "scatter3d",
           "x": [
            2273076109927.7544
           ],
           "y": [
            -1760014554682.9993
           ],
           "z": [
            -803005342525.6771
           ]
          },
          {
           "hovertemplate": "name=Jupiter<br>index=238<br>x=%{x}<br>y=%{y}<br>z=%{z}<br>radius=%{marker.size}<extra></extra>",
           "ids": [
            "Jupiter"
           ],
           "legendgroup": "Jupiter",
           "marker": {
            "color": "chocolate",
            "size": [
             11.154978283509006
            ],
            "sizemode": "area",
            "sizeref": 0.050903371511914326,
            "symbol": "circle"
           },
           "mode": "markers",
           "name": "Jupiter",
           "scene": "scene",
           "showlegend": true,
           "type": "scatter3d",
           "x": [
            344079581254.2534
           ],
           "y": [
            617356330710.7402
           ],
           "z": [
            256207033681.1568
           ]
          },
          {
           "hovertemplate": "name=Earth<br>index=238<br>x=%{x}<br>y=%{y}<br>z=%{z}<br>radius=%{marker.size}<extra></extra>",
           "ids": [
            "Earth"
           ],
           "legendgroup": "Earth",
           "marker": {
            "color": "green",
            "size": [
             8.759511722116487
            ],
            "sizemode": "area",
            "sizeref": 0.050903371511914326,
            "symbol": "circle"
           },
           "mode": "markers",
           "name": "Earth",
           "scene": "scene",
           "showlegend": true,
           "type": "scatter3d",
           "x": [
            132032849403.14732
           ],
           "y": [
            63610600378.98007
           ],
           "z": [
            27548087027.67125
           ]
          }
         ],
         "name": "238"
        },
        {
         "data": [
          {
           "hovertemplate": "name=Sun<br>index=245<br>x=%{x}<br>y=%{y}<br>z=%{z}<br>radius=%{marker.size}<extra></extra>",
           "ids": [
            "Sun"
           ],
           "legendgroup": "Sun",
           "marker": {
            "color": "orange",
            "size": [
             20.36134860476573
            ],
            "sizemode": "area",
            "sizeref": 0.050903371511914326,
            "symbol": "circle"
           },
           "mode": "markers",
           "name": "Sun",
           "scene": "scene",
           "showlegend": true,
           "type": "scatter3d",
           "x": [
            61367242.356358536
           ],
           "y": [
            59551886.057110615
           ],
           "z": [
            8048308.039811169
           ]
          },
          {
           "hovertemplate": "name=Mars<br>index=245<br>x=%{x}<br>y=%{y}<br>z=%{z}<br>radius=%{marker.size}<extra></extra>",
           "ids": [
            "Mars"
           ],
           "legendgroup": "Mars",
           "marker": {
            "color": "crimson",
            "size": [
             8.12843769687102
            ],
            "sizemode": "area",
            "sizeref": 0.050903371511914326,
            "symbol": "circle"
           },
           "mode": "markers",
           "name": "Mars",
           "scene": "scene",
           "showlegend": true,
           "type": "scatter3d",
           "x": [
            -222697380855.00272
           ],
           "y": [
            98865724492.75008
           ],
           "z": [
            51375023600.98898
           ]
          },
          {
           "hovertemplate": "name=Mercury<br>index=245<br>x=%{x}<br>y=%{y}<br>z=%{z}<br>radius=%{marker.size}<extra></extra>",
           "ids": [
            "Mercury"
           ],
           "legendgroup": "Mercury",
           "marker": {
            "color": "cornflowerblue",
            "size": [
             7.7996303599085035
            ],
            "sizemode": "area",
            "sizeref": 0.050903371511914326,
            "symbol": "circle"
           },
           "mode": "markers",
           "name": "Mercury",
           "scene": "scene",
           "showlegend": true,
           "type": "scatter3d",
           "x": [
            45498245715.07288
           ],
           "y": [
            18879827291.31377
           ],
           "z": [
            5351010573.305334
           ]
          },
          {
           "hovertemplate": "name=Neptune<br>index=245<br>x=%{x}<br>y=%{y}<br>z=%{z}<br>radius=%{marker.size}<extra></extra>",
           "ids": [
            "Neptune"
           ],
           "legendgroup": "Neptune",
           "marker": {
            "color": "cyan",
            "size": [
             10.15120663641638
            ],
            "sizemode": "area",
            "sizeref": 0.050903371511914326,
            "symbol": "circle"
           },
           "mode": "markers",
           "name": "Neptune",
           "scene": "scene",
           "showlegend": true,
           "type": "scatter3d",
           "x": [
            2629006092272.598
           ],
           "y": [
            -3361538977383.218
           ],
           "z": [
            -1441196182145.6372
           ]
          },
          {
           "hovertemplate": "name=Saturn<br>index=245<br>x=%{x}<br>y=%{y}<br>z=%{z}<br>radius=%{marker.size}<extra></extra>",
           "ids": [
            "Saturn"
           ],
           "legendgroup": "Saturn",
           "marker": {
            "color": "khaki",
            "size": [
             10.972190310798094
            ],
            "sizemode": "area",
            "sizeref": 0.050903371511914326,
            "symbol": "circle"
           },
           "mode": "markers",
           "name": "Saturn",
           "scene": "scene",
           "showlegend": true,
           "type": "scatter3d",
           "x": [
            749798383524.1852
           ],
           "y": [
            1065348415114.4
           ],
           "z": [
            407817590420.9157
           ]
          },
          {
           "hovertemplate": "name=Uranus<br>index=245<br>x=%{x}<br>y=%{y}<br>z=%{z}<br>radius=%{marker.size}<extra></extra>",
           "ids": [
            "Uranus"
           ],
           "legendgroup": "Uranus",
           "marker": {
            "color": "lightcyan",
            "size": [
             10.141007269794844
            ],
            "sizemode": "area",
            "sizeref": 0.050903371511914326,
            "symbol": "circle"
           },
           "mode": "markers",
           "name": "Uranus",
           "scene": "scene",
           "showlegend": true,
           "type": "scatter3d",
           "x": [
            2275708397401.268
           ],
           "y": [
            -1757295164847.1611
           ],
           "z": [
            -801851788000.1967
           ]
          },
          {
           "hovertemplate": "name=Jupiter<br>index=245<br>x=%{x}<br>y=%{y}<br>z=%{z}<br>radius=%{marker.size}<extra></extra>",
           "ids": [
            "Jupiter"
           ],
           "legendgroup": "Jupiter",
           "marker": {
            "color": "chocolate",
            "size": [
             11.154978283509006
            ],
            "sizemode": "area",
            "sizeref": 0.050903371511914326,
            "symbol": "circle"
           },
           "mode": "markers",
           "name": "Jupiter",
           "scene": "scene",
           "showlegend": true,
           "type": "scatter3d",
           "x": [
            336927996373.32324
           ],
           "y": [
            620930679395.8433
           ],
           "z": [
            257913558857.04623
           ]
          },
          {
           "hovertemplate": "name=Earth<br>index=245<br>x=%{x}<br>y=%{y}<br>z=%{z}<br>radius=%{marker.size}<extra></extra>",
           "ids": [
            "Earth"
           ],
           "legendgroup": "Earth",
           "marker": {
            "color": "green",
            "size": [
             8.759511722116487
            ],
            "sizemode": "area",
            "sizeref": 0.050903371511914326,
            "symbol": "circle"
           },
           "mode": "markers",
           "name": "Earth",
           "scene": "scene",
           "showlegend": true,
           "type": "scatter3d",
           "x": [
            122421574228.797
           ],
           "y": [
            77675434508.96957
           ],
           "z": [
            33644205812.95452
           ]
          }
         ],
         "name": "245"
        },
        {
         "data": [
          {
           "hovertemplate": "name=Sun<br>index=252<br>x=%{x}<br>y=%{y}<br>z=%{z}<br>radius=%{marker.size}<extra></extra>",
           "ids": [
            "Sun"
           ],
           "legendgroup": "Sun",
           "marker": {
            "color": "orange",
            "size": [
             20.36134860476573
            ],
            "sizemode": "area",
            "sizeref": 0.050903371511914326,
            "symbol": "circle"
           },
           "mode": "markers",
           "name": "Sun",
           "scene": "scene",
           "showlegend": true,
           "type": "scatter3d",
           "x": [
            64235943.08513135
           ],
           "y": [
            62583970.03261899
           ],
           "z": [
            8729802.062297689
           ]
          },
          {
           "hovertemplate": "name=Mars<br>index=252<br>x=%{x}<br>y=%{y}<br>z=%{z}<br>radius=%{marker.size}<extra></extra>",
           "ids": [
            "Mars"
           ],
           "legendgroup": "Mars",
           "marker": {
            "color": "crimson",
            "size": [
             8.12843769687102
            ],
            "sizemode": "area",
            "sizeref": 0.050903371511914326,
            "symbol": "circle"
           },
           "mode": "markers",
           "name": "Mars",
           "scene": "scene",
           "showlegend": true,
           "type": "scatter3d",
           "x": [
            -228328724818.62308
           ],
           "y": [
            87868110177.68002
           ],
           "z": [
            46481469343.85943
           ]
          },
          {
           "hovertemplate": "name=Mercury<br>index=252<br>x=%{x}<br>y=%{y}<br>z=%{z}<br>radius=%{marker.size}<extra></extra>",
           "ids": [
            "Mercury"
           ],
           "legendgroup": "Mercury",
           "marker": {
            "color": "cornflowerblue",
            "size": [
             7.7996303599085035
            ],
            "sizemode": "area",
            "sizeref": 0.050903371511914326,
            "symbol": "circle"
           },
           "mode": "markers",
           "name": "Mercury",
           "scene": "scene",
           "showlegend": true,
           "type": "scatter3d",
           "x": [
            19909934429.616505
           ],
           "y": [
            37691542216.02029
           ],
           "z": [
            18051348673.052345
           ]
          },
          {
           "hovertemplate": "name=Neptune<br>index=252<br>x=%{x}<br>y=%{y}<br>z=%{z}<br>radius=%{marker.size}<extra></extra>",
           "ids": [
            "Neptune"
           ],
           "legendgroup": "Neptune",
           "marker": {
            "color": "cyan",
            "size": [
             10.15120663641638
            ],
            "sizemode": "area",
            "sizeref": 0.050903371511914326,
            "symbol": "circle"
           },
           "mode": "markers",
           "name": "Neptune",
           "scene": "scene",
           "showlegend": true,
           "type": "scatter3d",
           "x": [
            2631647575124.194
           ],
           "y": [
            -3359713562098.7065
           ],
           "z": [
            -1440514684234.4624
           ]
          },
          {
           "hovertemplate": "name=Saturn<br>index=252<br>x=%{x}<br>y=%{y}<br>z=%{z}<br>radius=%{marker.size}<extra></extra>",
           "ids": [
            "Saturn"
           ],
           "legendgroup": "Saturn",
           "marker": {
            "color": "khaki",
            "size": [
             10.972190310798094
            ],
            "sizemode": "area",
            "sizeref": 0.050903371511914326,
            "symbol": "circle"
           },
           "mode": "markers",
           "name": "Saturn",
           "scene": "scene",
           "showlegend": true,
           "type": "scatter3d",
           "x": [
            744597600913.2823
           ],
           "y": [
            1068218935439.2428
           ],
           "z": [
            409226724091.4152
           ]
          },
          {
           "hovertemplate": "name=Uranus<br>index=252<br>x=%{x}<br>y=%{y}<br>z=%{z}<br>radius=%{marker.size}<extra></extra>",
           "ids": [
            "Uranus"
           ],
           "legendgroup": "Uranus",
           "marker": {
            "color": "lightcyan",
            "size": [
             10.141007269794844
            ],
            "sizemode": "area",
            "sizeref": 0.050903371511914326,
            "symbol": "circle"
           },
           "mode": "markers",
           "name": "Uranus",
           "scene": "scene",
           "showlegend": true,
           "type": "scatter3d",
           "x": [
            2278336528047.275
           ],
           "y": [
            -1754572563773.9192
           ],
           "z": [
            -800696768244.6799
           ]
          },
          {
           "hovertemplate": "name=Jupiter<br>index=252<br>x=%{x}<br>y=%{y}<br>z=%{z}<br>radius=%{marker.size}<extra></extra>",
           "ids": [
            "Jupiter"
           ],
           "legendgroup": "Jupiter",
           "marker": {
            "color": "chocolate",
            "size": [
             11.154978283509006
            ],
            "sizemode": "area",
            "sizeref": 0.050903371511914326,
            "symbol": "circle"
           },
           "mode": "markers",
           "name": "Jupiter",
           "scene": "scene",
           "showlegend": true,
           "type": "scatter3d",
           "x": [
            329737977313.1775
           ],
           "y": [
            624434172624.5515
           ],
           "z": [
            259590649200.24368
           ]
          },
          {
           "hovertemplate": "name=Earth<br>index=252<br>x=%{x}<br>y=%{y}<br>z=%{z}<br>radius=%{marker.size}<extra></extra>",
           "ids": [
            "Earth"
           ],
           "legendgroup": "Earth",
           "marker": {
            "color": "green",
            "size": [
             8.759511722116487
            ],
            "sizemode": "area",
            "sizeref": 0.050903371511914326,
            "symbol": "circle"
           },
           "mode": "markers",
           "name": "Earth",
           "scene": "scene",
           "showlegend": true,
           "type": "scatter3d",
           "x": [
            111008073039.85028
           ],
           "y": [
            90596875291.58542
           ],
           "z": [
            39244813166.83023
           ]
          }
         ],
         "name": "252"
        },
        {
         "data": [
          {
           "hovertemplate": "name=Sun<br>index=259<br>x=%{x}<br>y=%{y}<br>z=%{z}<br>radius=%{marker.size}<extra></extra>",
           "ids": [
            "Sun"
           ],
           "legendgroup": "Sun",
           "marker": {
            "color": "orange",
            "size": [
             20.36134860476573
            ],
            "sizemode": "area",
            "sizeref": 0.050903371511914326,
            "symbol": "circle"
           },
           "mode": "markers",
           "name": "Sun",
           "scene": "scene",
           "showlegend": true,
           "type": "scatter3d",
           "x": [
            67151350.74974295
           ],
           "y": [
            65696519.69959967
           ],
           "z": [
            9444793.923177412
           ]
          },
          {
           "hovertemplate": "name=Mars<br>index=259<br>x=%{x}<br>y=%{y}<br>z=%{z}<br>radius=%{marker.size}<extra></extra>",
           "ids": [
            "Mars"
           ],
           "legendgroup": "Mars",
           "marker": {
            "color": "crimson",
            "size": [
             8.12843769687102
            ],
            "sizemode": "area",
            "sizeref": 0.050903371511914326,
            "symbol": "circle"
           },
           "mode": "markers",
           "name": "Mars",
           "scene": "scene",
           "showlegend": true,
           "type": "scatter3d",
           "x": [
            -233242518551.75052
           ],
           "y": [
            76594709501.22215
           ],
           "z": [
            41441942733.0519
           ]
          },
          {
           "hovertemplate": "name=Mercury<br>index=259<br>x=%{x}<br>y=%{y}<br>z=%{z}<br>radius=%{marker.size}<extra></extra>",
           "ids": [
            "Mercury"
           ],
           "legendgroup": "Mercury",
           "marker": {
            "color": "cornflowerblue",
            "size": [
             7.7996303599085035
            ],
            "sizemode": "area",
            "sizeref": 0.050903371511914326,
            "symbol": "circle"
           },
           "mode": "markers",
           "name": "Mercury",
           "scene": "scene",
           "showlegend": true,
           "type": "scatter3d",
           "x": [
            -14681834028.115343
           ],
           "y": [
            39032585326.30579
           ],
           "z": [
            22352873441.577595
           ]
          },
          {
           "hovertemplate": "name=Neptune<br>index=259<br>x=%{x}<br>y=%{y}<br>z=%{z}<br>radius=%{marker.size}<extra></extra>",
           "ids": [
            "Neptune"
           ],
           "legendgroup": "Neptune",
           "marker": {
            "color": "cyan",
            "size": [
             10.15120663641638
            ],
            "sizemode": "area",
            "sizeref": 0.050903371511914326,
            "symbol": "circle"
           },
           "mode": "markers",
           "name": "Neptune",
           "scene": "scene",
           "showlegend": true,
           "type": "scatter3d",
           "x": [
            2634287658786.7104
           ],
           "y": [
            -3357886359390.977
           ],
           "z": [
            -1439832419982.0342
           ]
          },
          {
           "hovertemplate": "name=Saturn<br>index=259<br>x=%{x}<br>y=%{y}<br>z=%{z}<br>radius=%{marker.size}<extra></extra>",
           "ids": [
            "Saturn"
           ],
           "legendgroup": "Saturn",
           "marker": {
            "color": "khaki",
            "size": [
             10.972190310798094
            ],
            "sizemode": "area",
            "sizeref": 0.050903371511914326,
            "symbol": "circle"
           },
           "mode": "markers",
           "name": "Saturn",
           "scene": "scene",
           "showlegend": true,
           "type": "scatter3d",
           "x": [
            739382523108.5479
           ],
           "y": [
            1071068975176.1934
           ],
           "z": [
            410628015355.299
           ]
          },
          {
           "hovertemplate": "name=Uranus<br>index=259<br>x=%{x}<br>y=%{y}<br>z=%{z}<br>radius=%{marker.size}<extra></extra>",
           "ids": [
            "Uranus"
           ],
           "legendgroup": "Uranus",
           "marker": {
            "color": "lightcyan",
            "size": [
             10.141007269794844
            ],
            "sizemode": "area",
            "sizeref": 0.050903371511914326,
            "symbol": "circle"
           },
           "mode": "markers",
           "name": "Uranus",
           "scene": "scene",
           "showlegend": true,
           "type": "scatter3d",
           "x": [
            2280960497463.4546
           ],
           "y": [
            -1751846756747.1914
           ],
           "z": [
            -799540285511.6334
           ]
          },
          {
           "hovertemplate": "name=Jupiter<br>index=259<br>x=%{x}<br>y=%{y}<br>z=%{z}<br>radius=%{marker.size}<extra></extra>",
           "ids": [
            "Jupiter"
           ],
           "legendgroup": "Jupiter",
           "marker": {
            "color": "chocolate",
            "size": [
             11.154978283509006
            ],
            "sizemode": "area",
            "sizeref": 0.050903371511914326,
            "symbol": "circle"
           },
           "mode": "markers",
           "name": "Jupiter",
           "scene": "scene",
           "showlegend": true,
           "type": "scatter3d",
           "x": [
            322510388340.1832
           ],
           "y": [
            627866492255.7688
           ],
           "z": [
            261238147210.62747
           ]
          },
          {
           "hovertemplate": "name=Earth<br>index=259<br>x=%{x}<br>y=%{y}<br>z=%{z}<br>radius=%{marker.size}<extra></extra>",
           "ids": [
            "Earth"
           ],
           "legendgroup": "Earth",
           "marker": {
            "color": "green",
            "size": [
             8.759511722116487
            ],
            "sizemode": "area",
            "sizeref": 0.050903371511914326,
            "symbol": "circle"
           },
           "mode": "markers",
           "name": "Earth",
           "scene": "scene",
           "showlegend": true,
           "type": "scatter3d",
           "x": [
            97951298228.53165
           ],
           "y": [
            102177120914.46732
           ],
           "z": [
            44264165859.13001
           ]
          }
         ],
         "name": "259"
        },
        {
         "data": [
          {
           "hovertemplate": "name=Sun<br>index=266<br>x=%{x}<br>y=%{y}<br>z=%{z}<br>radius=%{marker.size}<extra></extra>",
           "ids": [
            "Sun"
           ],
           "legendgroup": "Sun",
           "marker": {
            "color": "orange",
            "size": [
             20.36134860476573
            ],
            "sizemode": "area",
            "sizeref": 0.050903371511914326,
            "symbol": "circle"
           },
           "mode": "markers",
           "name": "Sun",
           "scene": "scene",
           "showlegend": true,
           "type": "scatter3d",
           "x": [
            70109579.61659098
           ],
           "y": [
            68890473.89002609
           ],
           "z": [
            10193974.569084791
           ]
          },
          {
           "hovertemplate": "name=Mars<br>index=266<br>x=%{x}<br>y=%{y}<br>z=%{z}<br>radius=%{marker.size}<extra></extra>",
           "ids": [
            "Mars"
           ],
           "legendgroup": "Mars",
           "marker": {
            "color": "crimson",
            "size": [
             8.12843769687102
            ],
            "sizemode": "area",
            "sizeref": 0.050903371511914326,
            "symbol": "circle"
           },
           "mode": "markers",
           "name": "Mars",
           "scene": "scene",
           "showlegend": true,
           "type": "scatter3d",
           "x": [
            -237422853170.4784
           ],
           "y": [
            65080800265.85853
           ],
           "z": [
            36272197586.637054
           ]
          },
          {
           "hovertemplate": "name=Mercury<br>index=266<br>x=%{x}<br>y=%{y}<br>z=%{z}<br>radius=%{marker.size}<extra></extra>",
           "ids": [
            "Mercury"
           ],
           "legendgroup": "Mercury",
           "marker": {
            "color": "cornflowerblue",
            "size": [
             7.7996303599085035
            ],
            "sizemode": "area",
            "sizeref": 0.050903371511914326,
            "symbol": "circle"
           },
           "mode": "markers",
           "name": "Mercury",
           "scene": "scene",
           "showlegend": true,
           "type": "scatter3d",
           "x": [
            -43294318270.87679
           ],
           "y": [
            23265790846.009003
           ],
           "z": [
            16896260396.084272
           ]
          },
          {
           "hovertemplate": "name=Neptune<br>index=266<br>x=%{x}<br>y=%{y}<br>z=%{z}<br>radius=%{marker.size}<extra></extra>",
           "ids": [
            "Neptune"
           ],
           "legendgroup": "Neptune",
           "marker": {
            "color": "cyan",
            "size": [
             10.15120663641638
            ],
            "sizemode": "area",
            "sizeref": 0.050903371511914326,
            "symbol": "circle"
           },
           "mode": "markers",
           "name": "Neptune",
           "scene": "scene",
           "showlegend": true,
           "type": "scatter3d",
           "x": [
            2636926341824.582
           ],
           "y": [
            -3356057370192.55
           ],
           "z": [
            -1439149389734.5415
           ]
          },
          {
           "hovertemplate": "name=Saturn<br>index=266<br>x=%{x}<br>y=%{y}<br>z=%{z}<br>radius=%{marker.size}<extra></extra>",
           "ids": [
            "Saturn"
           ],
           "legendgroup": "Saturn",
           "marker": {
            "color": "khaki",
            "size": [
             10.972190310798094
            ],
            "sizemode": "area",
            "sizeref": 0.050903371511914326,
            "symbol": "circle"
           },
           "mode": "markers",
           "name": "Saturn",
           "scene": "scene",
           "showlegend": true,
           "type": "scatter3d",
           "x": [
            734153243955.3506
           ],
           "y": [
            1073898472111.5836
           ],
           "z": [
            412021434446.6435
           ]
          },
          {
           "hovertemplate": "name=Uranus<br>index=266<br>x=%{x}<br>y=%{y}<br>z=%{z}<br>radius=%{marker.size}<extra></extra>",
           "ids": [
            "Uranus"
           ],
           "legendgroup": "Uranus",
           "marker": {
            "color": "lightcyan",
            "size": [
             10.141007269794844
            ],
            "sizemode": "area",
            "sizeref": 0.050903371511914326,
            "symbol": "circle"
           },
           "mode": "markers",
           "name": "Uranus",
           "scene": "scene",
           "showlegend": true,
           "type": "scatter3d",
           "x": [
            2283580301255.072
           ],
           "y": [
            -1749117749054.8584
           ],
           "z": [
            -798382342055.408
           ]
          },
          {
           "hovertemplate": "name=Jupiter<br>index=266<br>x=%{x}<br>y=%{y}<br>z=%{z}<br>radius=%{marker.size}<extra></extra>",
           "ids": [
            "Jupiter"
           ],
           "legendgroup": "Jupiter",
           "marker": {
            "color": "chocolate",
            "size": [
             11.154978283509006
            ],
            "sizemode": "area",
            "sizeref": 0.050903371511914326,
            "symbol": "circle"
           },
           "mode": "markers",
           "name": "Jupiter",
           "scene": "scene",
           "showlegend": true,
           "type": "scatter3d",
           "x": [
            315246096465.7024
           ],
           "y": [
            631227329853.853
           ],
           "z": [
            262855899481.91977
           ]
          },
          {
           "hovertemplate": "name=Earth<br>index=266<br>x=%{x}<br>y=%{y}<br>z=%{z}<br>radius=%{marker.size}<extra></extra>",
           "ids": [
            "Earth"
           ],
           "legendgroup": "Earth",
           "marker": {
            "color": "green",
            "size": [
             8.759511722116487
            ],
            "sizemode": "area",
            "sizeref": 0.050903371511914326,
            "symbol": "circle"
           },
           "mode": "markers",
           "name": "Earth",
           "scene": "scene",
           "showlegend": true,
           "type": "scatter3d",
           "x": [
            83437019465.16801
           ],
           "y": [
            112236665161.94617
           ],
           "z": [
            48624449483.5258
           ]
          }
         ],
         "name": "266"
        },
        {
         "data": [
          {
           "hovertemplate": "name=Sun<br>index=273<br>x=%{x}<br>y=%{y}<br>z=%{z}<br>radius=%{marker.size}<extra></extra>",
           "ids": [
            "Sun"
           ],
           "legendgroup": "Sun",
           "marker": {
            "color": "orange",
            "size": [
             20.36134860476573
            ],
            "sizemode": "area",
            "sizeref": 0.050903371511914326,
            "symbol": "circle"
           },
           "mode": "markers",
           "name": "Sun",
           "scene": "scene",
           "showlegend": true,
           "type": "scatter3d",
           "x": [
            73107652.52176055
           ],
           "y": [
            72165186.4900094
           ],
           "z": [
            10977093.802145489
           ]
          },
          {
           "hovertemplate": "name=Mars<br>index=273<br>x=%{x}<br>y=%{y}<br>z=%{z}<br>radius=%{marker.size}<extra></extra>",
           "ids": [
            "Mars"
           ],
           "legendgroup": "Mars",
           "marker": {
            "color": "crimson",
            "size": [
             8.12843769687102
            ],
            "sizemode": "area",
            "sizeref": 0.050903371511914326,
            "symbol": "circle"
           },
           "mode": "markers",
           "name": "Mars",
           "scene": "scene",
           "showlegend": true,
           "type": "scatter3d",
           "x": [
            -240855452006.23935
           ],
           "y": [
            53362282537.6725
           ],
           "z": [
            30988317432.460384
           ]
          },
          {
           "hovertemplate": "name=Mercury<br>index=273<br>x=%{x}<br>y=%{y}<br>z=%{z}<br>radius=%{marker.size}<extra></extra>",
           "ids": [
            "Mercury"
           ],
           "legendgroup": "Mercury",
           "marker": {
            "color": "cornflowerblue",
            "size": [
             7.7996303599085035
            ],
            "sizemode": "area",
            "sizeref": 0.050903371511914326,
            "symbol": "circle"
           },
           "mode": "markers",
           "name": "Mercury",
           "scene": "scene",
           "showlegend": true,
           "type": "scatter3d",
           "x": [
            -57667155783.97125
           ],
           "y": [
            -702487279.3132095
           ],
           "z": [
            5582638750.230562
           ]
          },
          {
           "hovertemplate": "name=Neptune<br>index=273<br>x=%{x}<br>y=%{y}<br>z=%{z}<br>radius=%{marker.size}<extra></extra>",
           "ids": [
            "Neptune"
           ],
           "legendgroup": "Neptune",
           "marker": {
            "color": "cyan",
            "size": [
             10.15120663641638
            ],
            "sizemode": "area",
            "sizeref": 0.050903371511914326,
            "symbol": "circle"
           },
           "mode": "markers",
           "name": "Neptune",
           "scene": "scene",
           "showlegend": true,
           "type": "scatter3d",
           "x": [
            2639563622802.9434
           ],
           "y": [
            -3354226595436.8945
           ],
           "z": [
            -1438465593838.5808
           ]
          },
          {
           "hovertemplate": "name=Saturn<br>index=273<br>x=%{x}<br>y=%{y}<br>z=%{z}<br>radius=%{marker.size}<extra></extra>",
           "ids": [
            "Saturn"
           ],
           "legendgroup": "Saturn",
           "marker": {
            "color": "khaki",
            "size": [
             10.972190310798094
            ],
            "sizemode": "area",
            "sizeref": 0.050903371511914326,
            "symbol": "circle"
           },
           "mode": "markers",
           "name": "Saturn",
           "scene": "scene",
           "showlegend": true,
           "type": "scatter3d",
           "x": [
            728909857701.4675
           ],
           "y": [
            1076707364436.0566
           ],
           "z": [
            413406951748.18506
           ]
          },
          {
           "hovertemplate": "name=Uranus<br>index=273<br>x=%{x}<br>y=%{y}<br>z=%{z}<br>radius=%{marker.size}<extra></extra>",
           "ids": [
            "Uranus"
           ],
           "legendgroup": "Uranus",
           "marker": {
            "color": "lightcyan",
            "size": [
             10.141007269794844
            ],
            "sizemode": "area",
            "sizeref": 0.050903371511914326,
            "symbol": "circle"
           },
           "mode": "markers",
           "name": "Uranus",
           "scene": "scene",
           "showlegend": true,
           "type": "scatter3d",
           "x": [
            2286195935034.9834
           ],
           "y": [
            -1746385545988.754
           ],
           "z": [
            -797222940132.1954
           ]
          },
          {
           "hovertemplate": "name=Jupiter<br>index=273<br>x=%{x}<br>y=%{y}<br>z=%{z}<br>radius=%{marker.size}<extra></extra>",
           "ids": [
            "Jupiter"
           ],
           "legendgroup": "Jupiter",
           "marker": {
            "color": "chocolate",
            "size": [
             11.154978283509006
            ],
            "sizemode": "area",
            "sizeref": 0.050903371511914326,
            "symbol": "circle"
           },
           "mode": "markers",
           "name": "Jupiter",
           "scene": "scene",
           "showlegend": true,
           "type": "scatter3d",
           "x": [
            307945971302.46045
           ],
           "y": [
            634516386692.9362
           ],
           "z": [
            264443756707.0281
           ]
          },
          {
           "hovertemplate": "name=Earth<br>index=273<br>x=%{x}<br>y=%{y}<br>z=%{z}<br>radius=%{marker.size}<extra></extra>",
           "ids": [
            "Earth"
           ],
           "legendgroup": "Earth",
           "marker": {
            "color": "green",
            "size": [
             8.759511722116487
            ],
            "sizemode": "area",
            "sizeref": 0.050903371511914326,
            "symbol": "circle"
           },
           "mode": "markers",
           "name": "Earth",
           "scene": "scene",
           "showlegend": true,
           "type": "scatter3d",
           "x": [
            67675362629.23402
           ],
           "y": [
            120617604143.21324
           ],
           "z": [
            52257211862.29582
           ]
          }
         ],
         "name": "273"
        },
        {
         "data": [
          {
           "hovertemplate": "name=Sun<br>index=280<br>x=%{x}<br>y=%{y}<br>z=%{z}<br>radius=%{marker.size}<extra></extra>",
           "ids": [
            "Sun"
           ],
           "legendgroup": "Sun",
           "marker": {
            "color": "orange",
            "size": [
             20.36134860476573
            ],
            "sizemode": "area",
            "sizeref": 0.050903371511914326,
            "symbol": "circle"
           },
           "mode": "markers",
           "name": "Sun",
           "scene": "scene",
           "showlegend": true,
           "type": "scatter3d",
           "x": [
            76143950.21931139
           ],
           "y": [
            75519978.3502955
           ],
           "z": [
            11793744.55087021
           ]
          },
          {
           "hovertemplate": "name=Mars<br>index=280<br>x=%{x}<br>y=%{y}<br>z=%{z}<br>radius=%{marker.size}<extra></extra>",
           "ids": [
            "Mars"
           ],
           "legendgroup": "Mars",
           "marker": {
            "color": "crimson",
            "size": [
             8.12843769687102
            ],
            "sizemode": "area",
            "sizeref": 0.050903371511914326,
            "symbol": "circle"
           },
           "mode": "markers",
           "name": "Mars",
           "scene": "scene",
           "showlegend": true,
           "type": "scatter3d",
           "x": [
            -243527690125.1394
           ],
           "y": [
            41475663846.04869
           ],
           "z": [
            25606709244.945377
           ]
          },
          {
           "hovertemplate": "name=Mercury<br>index=280<br>x=%{x}<br>y=%{y}<br>z=%{z}<br>radius=%{marker.size}<extra></extra>",
           "ids": [
            "Mercury"
           ],
           "legendgroup": "Mercury",
           "marker": {
            "color": "cornflowerblue",
            "size": [
             7.7996303599085035
            ],
            "sizemode": "area",
            "sizeref": 0.050903371511914326,
            "symbol": "circle"
           },
           "mode": "markers",
           "name": "Mercury",
           "scene": "scene",
           "showlegend": true,
           "type": "scatter3d",
           "x": [
            -57888058296.67584
           ],
           "y": [
            -24788206383.09821
           ],
           "z": [
            -7260732419.562451
           ]
          },
          {
           "hovertemplate": "name=Neptune<br>index=280<br>x=%{x}<br>y=%{y}<br>z=%{z}<br>radius=%{marker.size}<extra></extra>",
           "ids": [
            "Neptune"
           ],
           "legendgroup": "Neptune",
           "marker": {
            "color": "cyan",
            "size": [
             10.15120663641638
            ],
            "sizemode": "area",
            "sizeref": 0.050903371511914326,
            "symbol": "circle"
           },
           "mode": "markers",
           "name": "Neptune",
           "scene": "scene",
           "showlegend": true,
           "type": "scatter3d",
           "x": [
            2642199500287.6265
           ],
           "y": [
            -3352394036058.4385
           ],
           "z": [
            -1437781032641.1555
           ]
          },
          {
           "hovertemplate": "name=Saturn<br>index=280<br>x=%{x}<br>y=%{y}<br>z=%{z}<br>radius=%{marker.size}<extra></extra>",
           "ids": [
            "Saturn"
           ],
           "legendgroup": "Saturn",
           "marker": {
            "color": "khaki",
            "size": [
             10.972190310798094
            ],
            "sizemode": "area",
            "sizeref": 0.050903371511914326,
            "symbol": "circle"
           },
           "mode": "markers",
           "name": "Saturn",
           "scene": "scene",
           "showlegend": true,
           "type": "scatter3d",
           "x": [
            723652458995.0951
           ],
           "y": [
            1079495590746.2096
           ],
           "z": [
            414784537792.12775
           ]
          },
          {
           "hovertemplate": "name=Uranus<br>index=280<br>x=%{x}<br>y=%{y}<br>z=%{z}<br>radius=%{marker.size}<extra></extra>",
           "ids": [
            "Uranus"
           ],
           "legendgroup": "Uranus",
           "marker": {
            "color": "lightcyan",
            "size": [
             10.141007269794844
            ],
            "sizemode": "area",
            "sizeref": 0.050903371511914326,
            "symbol": "circle"
           },
           "mode": "markers",
           "name": "Uranus",
           "scene": "scene",
           "showlegend": true,
           "type": "scatter3d",
           "x": [
            2288807394423.646
           ],
           "y": [
            -1743650152844.6614
           ],
           "z": [
            -796062082000.0275
           ]
          },
          {
           "hovertemplate": "name=Jupiter<br>index=280<br>x=%{x}<br>y=%{y}<br>z=%{z}<br>radius=%{marker.size}<extra></extra>",
           "ids": [
            "Jupiter"
           ],
           "legendgroup": "Jupiter",
           "marker": {
            "color": "chocolate",
            "size": [
             11.154978283509006
            ],
            "sizemode": "area",
            "sizeref": 0.050903371511914326,
            "symbol": "circle"
           },
           "mode": "markers",
           "name": "Jupiter",
           "scene": "scene",
           "showlegend": true,
           "type": "scatter3d",
           "x": [
            300610884921.3495
           ],
           "y": [
            637733373759.163
           ],
           "z": [
            266001573682.50928
           ]
          },
          {
           "hovertemplate": "name=Earth<br>index=280<br>x=%{x}<br>y=%{y}<br>z=%{z}<br>radius=%{marker.size}<extra></extra>",
           "ids": [
            "Earth"
           ],
           "legendgroup": "Earth",
           "marker": {
            "color": "green",
            "size": [
             8.759511722116487
            ],
            "sizemode": "area",
            "sizeref": 0.050903371511914326,
            "symbol": "circle"
           },
           "mode": "markers",
           "name": "Earth",
           "scene": "scene",
           "showlegend": true,
           "type": "scatter3d",
           "x": [
            50897799233.76627
           ],
           "y": [
            127186668166.3809
           ],
           "z": [
            55104677347.11776
           ]
          }
         ],
         "name": "280"
        },
        {
         "data": [
          {
           "hovertemplate": "name=Sun<br>index=287<br>x=%{x}<br>y=%{y}<br>z=%{z}<br>radius=%{marker.size}<extra></extra>",
           "ids": [
            "Sun"
           ],
           "legendgroup": "Sun",
           "marker": {
            "color": "orange",
            "size": [
             20.36134860476573
            ],
            "sizemode": "area",
            "sizeref": 0.050903371511914326,
            "symbol": "circle"
           },
           "mode": "markers",
           "name": "Sun",
           "scene": "scene",
           "showlegend": true,
           "type": "scatter3d",
           "x": [
            79217359.76849958
           ],
           "y": [
            78954645.40887561
           ],
           "z": [
            12643724.50400941
           ]
          },
          {
           "hovertemplate": "name=Mars<br>index=287<br>x=%{x}<br>y=%{y}<br>z=%{z}<br>radius=%{marker.size}<extra></extra>",
           "ids": [
            "Mars"
           ],
           "legendgroup": "Mars",
           "marker": {
            "color": "crimson",
            "size": [
             8.12843769687102
            ],
            "sizemode": "area",
            "sizeref": 0.050903371511914326,
            "symbol": "circle"
           },
           "mode": "markers",
           "name": "Mars",
           "scene": "scene",
           "showlegend": true,
           "type": "scatter3d",
           "x": [
            -245428620483.9715
           ],
           "y": [
            29458045114.698368
           ],
           "z": [
            20144097699.01634
           ]
          },
          {
           "hovertemplate": "name=Mercury<br>index=287<br>x=%{x}<br>y=%{y}<br>z=%{z}<br>radius=%{marker.size}<extra></extra>",
           "ids": [
            "Mercury"
           ],
           "legendgroup": "Mercury",
           "marker": {
            "color": "cornflowerblue",
            "size": [
             7.7996303599085035
            ],
            "sizemode": "area",
            "sizeref": 0.050903371511914326,
            "symbol": "circle"
           },
           "mode": "markers",
           "name": "Mercury",
           "scene": "scene",
           "showlegend": true,
           "type": "scatter3d",
           "x": [
            -47120650375.3416
           ],
           "y": [
            -44336471638.60911
           ],
           "z": [
            -18819451229.09384
           ]
          },
          {
           "hovertemplate": "name=Neptune<br>index=287<br>x=%{x}<br>y=%{y}<br>z=%{z}<br>radius=%{marker.size}<extra></extra>",
           "ids": [
            "Neptune"
           ],
           "legendgroup": "Neptune",
           "marker": {
            "color": "cyan",
            "size": [
             10.15120663641638
            ],
            "sizemode": "area",
            "sizeref": 0.050903371511914326,
            "symbol": "circle"
           },
           "mode": "markers",
           "name": "Neptune",
           "scene": "scene",
           "showlegend": true,
           "type": "scatter3d",
           "x": [
            2644833972845.169
           ],
           "y": [
            -3350559692992.565
           ],
           "z": [
            -1437095706489.6775
           ]
          },
          {
           "hovertemplate": "name=Saturn<br>index=287<br>x=%{x}<br>y=%{y}<br>z=%{z}<br>radius=%{marker.size}<extra></extra>",
           "ids": [
            "Saturn"
           ],
           "legendgroup": "Saturn",
           "marker": {
            "color": "khaki",
            "size": [
             10.972190310798094
            ],
            "sizemode": "area",
            "sizeref": 0.050903371511914326,
            "symbol": "circle"
           },
           "mode": "markers",
           "name": "Saturn",
           "scene": "scene",
           "showlegend": true,
           "type": "scatter3d",
           "x": [
            718381142882.8213
           ],
           "y": [
            1082263090046.2302
           ],
           "z": [
            416154163260.9516
           ]
          },
          {
           "hovertemplate": "name=Uranus<br>index=287<br>x=%{x}<br>y=%{y}<br>z=%{z}<br>radius=%{marker.size}<extra></extra>",
           "ids": [
            "Uranus"
           ],
           "legendgroup": "Uranus",
           "marker": {
            "color": "lightcyan",
            "size": [
             10.141007269794844
            ],
            "sizemode": "area",
            "sizeref": 0.050903371511914326,
            "symbol": "circle"
           },
           "mode": "markers",
           "name": "Uranus",
           "scene": "scene",
           "showlegend": true,
           "type": "scatter3d",
           "x": [
            2291414675049.116
           ],
           "y": [
            -1740911574922.3064
           ],
           "z": [
            -794899769918.7715
           ]
          },
          {
           "hovertemplate": "name=Jupiter<br>index=287<br>x=%{x}<br>y=%{y}<br>z=%{z}<br>radius=%{marker.size}<extra></extra>",
           "ids": [
            "Jupiter"
           ],
           "legendgroup": "Jupiter",
           "marker": {
            "color": "chocolate",
            "size": [
             11.154978283509006
            ],
            "sizemode": "area",
            "sizeref": 0.050903371511914326,
            "symbol": "circle"
           },
           "mode": "markers",
           "name": "Jupiter",
           "scene": "scene",
           "showlegend": true,
           "type": "scatter3d",
           "x": [
            293241711708.9223
           ],
           "y": [
            640878011750.9401
           ],
           "z": [
            267529209312.15927
           ]
          },
          {
           "hovertemplate": "name=Earth<br>index=287<br>x=%{x}<br>y=%{y}<br>z=%{z}<br>radius=%{marker.size}<extra></extra>",
           "ids": [
            "Earth"
           ],
           "legendgroup": "Earth",
           "marker": {
            "color": "green",
            "size": [
             8.759511722116487
            ],
            "sizemode": "area",
            "sizeref": 0.050903371511914326,
            "symbol": "circle"
           },
           "mode": "markers",
           "name": "Earth",
           "scene": "scene",
           "showlegend": true,
           "type": "scatter3d",
           "x": [
            33353622701.106216
           ],
           "y": [
            131837887947.0126
           ],
           "z": [
            57120902634.33402
           ]
          }
         ],
         "name": "287"
        },
        {
         "data": [
          {
           "hovertemplate": "name=Sun<br>index=294<br>x=%{x}<br>y=%{y}<br>z=%{z}<br>radius=%{marker.size}<extra></extra>",
           "ids": [
            "Sun"
           ],
           "legendgroup": "Sun",
           "marker": {
            "color": "orange",
            "size": [
             20.36134860476573
            ],
            "sizemode": "area",
            "sizeref": 0.050903371511914326,
            "symbol": "circle"
           },
           "mode": "markers",
           "name": "Sun",
           "scene": "scene",
           "showlegend": true,
           "type": "scatter3d",
           "x": [
            82326798.5487844
           ],
           "y": [
            82469275.73444185
           ],
           "z": [
            13526989.667884093
           ]
          },
          {
           "hovertemplate": "name=Mars<br>index=294<br>x=%{x}<br>y=%{y}<br>z=%{z}<br>radius=%{marker.size}<extra></extra>",
           "ids": [
            "Mars"
           ],
           "legendgroup": "Mars",
           "marker": {
            "color": "crimson",
            "size": [
             8.12843769687102
            ],
            "sizemode": "area",
            "sizeref": 0.050903371511914326,
            "symbol": "circle"
           },
           "mode": "markers",
           "name": "Mars",
           "scene": "scene",
           "showlegend": true,
           "type": "scatter3d",
           "x": [
            -246549006980.78735
           ],
           "y": [
            17347106526.500973
           ],
           "z": [
            14617519582.020767
           ]
          },
          {
           "hovertemplate": "name=Mercury<br>index=294<br>x=%{x}<br>y=%{y}<br>z=%{z}<br>radius=%{marker.size}<extra></extra>",
           "ids": [
            "Mercury"
           ],
           "legendgroup": "Mercury",
           "marker": {
            "color": "cornflowerblue",
            "size": [
             7.7996303599085035
            ],
            "sizemode": "area",
            "sizeref": 0.050903371511914326,
            "symbol": "circle"
           },
           "mode": "markers",
           "name": "Mercury",
           "scene": "scene",
           "showlegend": true,
           "type": "scatter3d",
           "x": [
            -28877299854.25439
           ],
           "y": [
            -56958921412.09698
           ],
           "z": [
            -27453654476.059326
           ]
          },
          {
           "hovertemplate": "name=Neptune<br>index=294<br>x=%{x}<br>y=%{y}<br>z=%{z}<br>radius=%{marker.size}<extra></extra>",
           "ids": [
            "Neptune"
           ],
           "legendgroup": "Neptune",
           "marker": {
            "color": "cyan",
            "size": [
             10.15120663641638
            ],
            "sizemode": "area",
            "sizeref": 0.050903371511914326,
            "symbol": "circle"
           },
           "mode": "markers",
           "name": "Neptune",
           "scene": "scene",
           "showlegend": true,
           "type": "scatter3d",
           "x": [
            2647467039042.809
           ],
           "y": [
            -3348723567175.611
           ],
           "z": [
            -1436409615731.9673
           ]
          },
          {
           "hovertemplate": "name=Saturn<br>index=294<br>x=%{x}<br>y=%{y}<br>z=%{z}<br>radius=%{marker.size}<extra></extra>",
           "ids": [
            "Saturn"
           ],
           "legendgroup": "Saturn",
           "marker": {
            "color": "khaki",
            "size": [
             10.972190310798094
            ],
            "sizemode": "area",
            "sizeref": 0.050903371511914326,
            "symbol": "circle"
           },
           "mode": "markers",
           "name": "Saturn",
           "scene": "scene",
           "showlegend": true,
           "type": "scatter3d",
           "x": [
            713096004807.5507
           ],
           "y": [
            1085009801749.517
           ],
           "z": [
            417515798988.2158
           ]
          },
          {
           "hovertemplate": "name=Uranus<br>index=294<br>x=%{x}<br>y=%{y}<br>z=%{z}<br>radius=%{marker.size}<extra></extra>",
           "ids": [
            "Uranus"
           ],
           "legendgroup": "Uranus",
           "marker": {
            "color": "lightcyan",
            "size": [
             10.141007269794844
            ],
            "sizemode": "area",
            "sizeref": 0.050903371511914326,
            "symbol": "circle"
           },
           "mode": "markers",
           "name": "Uranus",
           "scene": "scene",
           "showlegend": true,
           "type": "scatter3d",
           "x": [
            2294017772547.0576
           ],
           "y": [
            -1738169817525.3508
           ],
           "z": [
            -793736006150.1292
           ]
          },
          {
           "hovertemplate": "name=Jupiter<br>index=294<br>x=%{x}<br>y=%{y}<br>z=%{z}<br>radius=%{marker.size}<extra></extra>",
           "ids": [
            "Jupiter"
           ],
           "legendgroup": "Jupiter",
           "marker": {
            "color": "chocolate",
            "size": [
             11.154978283509006
            ],
            "sizemode": "area",
            "sizeref": 0.050903371511914326,
            "symbol": "circle"
           },
           "mode": "markers",
           "name": "Jupiter",
           "scene": "scene",
           "showlegend": true,
           "type": "scatter3d",
           "x": [
            285839328225.5754
           ],
           "y": [
            643950031077.0352
           ],
           "z": [
            269026526609.65643
           ]
          },
          {
           "hovertemplate": "name=Earth<br>index=294<br>x=%{x}<br>y=%{y}<br>z=%{z}<br>radius=%{marker.size}<extra></extra>",
           "ids": [
            "Earth"
           ],
           "legendgroup": "Earth",
           "marker": {
            "color": "green",
            "size": [
             8.759511722116487
            ],
            "sizemode": "area",
            "sizeref": 0.050903371511914326,
            "symbol": "circle"
           },
           "mode": "markers",
           "name": "Earth",
           "scene": "scene",
           "showlegend": true,
           "type": "scatter3d",
           "x": [
            15305968904.707584
           ],
           "y": [
            134494808649.43948
           ],
           "z": [
            58272736608.015045
           ]
          }
         ],
         "name": "294"
        },
        {
         "data": [
          {
           "hovertemplate": "name=Sun<br>index=301<br>x=%{x}<br>y=%{y}<br>z=%{z}<br>radius=%{marker.size}<extra></extra>",
           "ids": [
            "Sun"
           ],
           "legendgroup": "Sun",
           "marker": {
            "color": "orange",
            "size": [
             20.36134860476573
            ],
            "sizemode": "area",
            "sizeref": 0.050903371511914326,
            "symbol": "circle"
           },
           "mode": "markers",
           "name": "Sun",
           "scene": "scene",
           "showlegend": true,
           "type": "scatter3d",
           "x": [
            85471119.38935253
           ],
           "y": [
            86064053.94008945
           ],
           "z": [
            14443561.63067113
           ]
          },
          {
           "hovertemplate": "name=Mars<br>index=301<br>x=%{x}<br>y=%{y}<br>z=%{z}<br>radius=%{marker.size}<extra></extra>",
           "ids": [
            "Mars"
           ],
           "legendgroup": "Mars",
           "marker": {
            "color": "crimson",
            "size": [
             8.12843769687102
            ],
            "sizemode": "area",
            "sizeref": 0.050903371511914326,
            "symbol": "circle"
           },
           "mode": "markers",
           "name": "Mars",
           "scene": "scene",
           "showlegend": true,
           "type": "scatter3d",
           "x": [
            -246881364646.1963
           ],
           "y": [
            5181092511.959744
           ],
           "z": [
            9044317996.287195
           ]
          },
          {
           "hovertemplate": "name=Mercury<br>index=301<br>x=%{x}<br>y=%{y}<br>z=%{z}<br>radius=%{marker.size}<extra></extra>",
           "ids": [
            "Mercury"
           ],
           "legendgroup": "Mercury",
           "marker": {
            "color": "cornflowerblue",
            "size": [
             7.7996303599085035
            ],
            "sizemode": "area",
            "sizeref": 0.050903371511914326,
            "symbol": "circle"
           },
           "mode": "markers",
           "name": "Mercury",
           "scene": "scene",
           "showlegend": true,
           "type": "scatter3d",
           "x": [
            -6462220103.354061
           ],
           "y": [
            -61421439655.76283
           ],
           "z": [
            -32161607831.953285
           ]
          },
          {
           "hovertemplate": "name=Neptune<br>index=301<br>x=%{x}<br>y=%{y}<br>z=%{z}<br>radius=%{marker.size}<extra></extra>",
           "ids": [
            "Neptune"
           ],
           "legendgroup": "Neptune",
           "marker": {
            "color": "cyan",
            "size": [
             10.15120663641638
            ],
            "sizemode": "area",
            "sizeref": 0.050903371511914326,
            "symbol": "circle"
           },
           "mode": "markers",
           "name": "Neptune",
           "scene": "scene",
           "showlegend": true,
           "type": "scatter3d",
           "x": [
            2650098697448.491
           ],
           "y": [
            -3346885659544.8687
           ],
           "z": [
            -1435722760716.254
           ]
          },
          {
           "hovertemplate": "name=Saturn<br>index=301<br>x=%{x}<br>y=%{y}<br>z=%{z}<br>radius=%{marker.size}<extra></extra>",
           "ids": [
            "Saturn"
           ],
           "legendgroup": "Saturn",
           "marker": {
            "color": "khaki",
            "size": [
             10.972190310798094
            ],
            "sizemode": "area",
            "sizeref": 0.050903371511914326,
            "symbol": "circle"
           },
           "mode": "markers",
           "name": "Saturn",
           "scene": "scene",
           "showlegend": true,
           "type": "scatter3d",
           "x": [
            707797140606.3733
           ],
           "y": [
            1087735665680.28
           ],
           "z": [
            418869415959.35614
           ]
          },
          {
           "hovertemplate": "name=Uranus<br>index=301<br>x=%{x}<br>y=%{y}<br>z=%{z}<br>radius=%{marker.size}<extra></extra>",
           "ids": [
            "Uranus"
           ],
           "legendgroup": "Uranus",
           "marker": {
            "color": "lightcyan",
            "size": [
             10.141007269794844
            ],
            "sizemode": "area",
            "sizeref": 0.050903371511914326,
            "symbol": "circle"
           },
           "mode": "markers",
           "name": "Uranus",
           "scene": "scene",
           "showlegend": true,
           "type": "scatter3d",
           "x": [
            2296616682560.748
           ],
           "y": [
            -1735424885961.387
           ],
           "z": [
            -792570792957.6329
           ]
          },
          {
           "hovertemplate": "name=Jupiter<br>index=301<br>x=%{x}<br>y=%{y}<br>z=%{z}<br>radius=%{marker.size}<extra></extra>",
           "ids": [
            "Jupiter"
           ],
           "legendgroup": "Jupiter",
           "marker": {
            "color": "chocolate",
            "size": [
             11.154978283509006
            ],
            "sizemode": "area",
            "sizeref": 0.050903371511914326,
            "symbol": "circle"
           },
           "mode": "markers",
           "name": "Jupiter",
           "scene": "scene",
           "showlegend": true,
           "type": "scatter3d",
           "x": [
            278404613064.34
           ],
           "y": [
            646949171852.4966
           ],
           "z": [
            270493392700.25165
           ]
          },
          {
           "hovertemplate": "name=Earth<br>index=301<br>x=%{x}<br>y=%{y}<br>z=%{z}<br>radius=%{marker.size}<extra></extra>",
           "ids": [
            "Earth"
           ],
           "legendgroup": "Earth",
           "marker": {
            "color": "green",
            "size": [
             8.759511722116487
            ],
            "sizemode": "area",
            "sizeref": 0.050903371511914326,
            "symbol": "circle"
           },
           "mode": "markers",
           "name": "Earth",
           "scene": "scene",
           "showlegend": true,
           "type": "scatter3d",
           "x": [
            -2972541154.1917224
           ],
           "y": [
            135112174187.07314
           ],
           "z": [
            58540550586.85172
           ]
          }
         ],
         "name": "301"
        },
        {
         "data": [
          {
           "hovertemplate": "name=Sun<br>index=308<br>x=%{x}<br>y=%{y}<br>z=%{z}<br>radius=%{marker.size}<extra></extra>",
           "ids": [
            "Sun"
           ],
           "legendgroup": "Sun",
           "marker": {
            "color": "orange",
            "size": [
             20.36134860476573
            ],
            "sizemode": "area",
            "sizeref": 0.050903371511914326,
            "symbol": "circle"
           },
           "mode": "markers",
           "name": "Sun",
           "scene": "scene",
           "showlegend": true,
           "type": "scatter3d",
           "x": [
            88649147.25105524
           ],
           "y": [
            89739163.96087687
           ],
           "z": [
            15393473.642113758
           ]
          },
          {
           "hovertemplate": "name=Mars<br>index=308<br>x=%{x}<br>y=%{y}<br>z=%{z}<br>radius=%{marker.size}<extra></extra>",
           "ids": [
            "Mars"
           ],
           "legendgroup": "Mars",
           "marker": {
            "color": "crimson",
            "size": [
             8.12843769687102
            ],
            "sizemode": "area",
            "sizeref": 0.050903371511914326,
            "symbol": "circle"
           },
           "mode": "markers",
           "name": "Mars",
           "scene": "scene",
           "showlegend": true,
           "type": "scatter3d",
           "x": [
            -246420007162.9914
           ],
           "y": [
            -7001204984.342936
           ],
           "z": [
            3442135969.3583198
           ]
          },
          {
           "hovertemplate": "name=Mercury<br>index=308<br>x=%{x}<br>y=%{y}<br>z=%{z}<br>radius=%{marker.size}<extra></extra>",
           "ids": [
            "Mercury"
           ],
           "legendgroup": "Mercury",
           "marker": {
            "color": "cornflowerblue",
            "size": [
             7.7996303599085035
            ],
            "sizemode": "area",
            "sizeref": 0.050903371511914326,
            "symbol": "circle"
           },
           "mode": "markers",
           "name": "Mercury",
           "scene": "scene",
           "showlegend": true,
           "type": "scatter3d",
           "x": [
            16864690879.725117
           ],
           "y": [
            -57113878194.325485
           ],
           "z": [
            -32279469290.40325
           ]
          },
          {
           "hovertemplate": "name=Neptune<br>index=308<br>x=%{x}<br>y=%{y}<br>z=%{z}<br>radius=%{marker.size}<extra></extra>",
           "ids": [
            "Neptune"
           ],
           "legendgroup": "Neptune",
           "marker": {
            "color": "cyan",
            "size": [
             10.15120663641638
            ],
            "sizemode": "area",
            "sizeref": 0.050903371511914326,
            "symbol": "circle"
           },
           "mode": "markers",
           "name": "Neptune",
           "scene": "scene",
           "showlegend": true,
           "type": "scatter3d",
           "x": [
            2652728946630.8647
           ],
           "y": [
            -3345045971038.5874
           ],
           "z": [
            -1435035141791.174
           ]
          },
          {
           "hovertemplate": "name=Saturn<br>index=308<br>x=%{x}<br>y=%{y}<br>z=%{z}<br>radius=%{marker.size}<extra></extra>",
           "ids": [
            "Saturn"
           ],
           "legendgroup": "Saturn",
           "marker": {
            "color": "khaki",
            "size": [
             10.972190310798094
            ],
            "sizemode": "area",
            "sizeref": 0.050903371511914326,
            "symbol": "circle"
           },
           "mode": "markers",
           "name": "Saturn",
           "scene": "scene",
           "showlegend": true,
           "type": "scatter3d",
           "x": [
            702484646508.3771
           ],
           "y": [
            1090440622075.126
           ],
           "z": [
            420214985312.4798
           ]
          },
          {
           "hovertemplate": "name=Uranus<br>index=308<br>x=%{x}<br>y=%{y}<br>z=%{z}<br>radius=%{marker.size}<extra></extra>",
           "ids": [
            "Uranus"
           ],
           "legendgroup": "Uranus",
           "marker": {
            "color": "lightcyan",
            "size": [
             10.141007269794844
            ],
            "sizemode": "area",
            "sizeref": 0.050903371511914326,
            "symbol": "circle"
           },
           "mode": "markers",
           "name": "Uranus",
           "scene": "scene",
           "showlegend": true,
           "type": "scatter3d",
           "x": [
            2299211400741.079
           ],
           "y": [
            -1732676785541.931
           ],
           "z": [
            -791404132606.6442
           ]
          },
          {
           "hovertemplate": "name=Jupiter<br>index=308<br>x=%{x}<br>y=%{y}<br>z=%{z}<br>radius=%{marker.size}<extra></extra>",
           "ids": [
            "Jupiter"
           ],
           "legendgroup": "Jupiter",
           "marker": {
            "color": "chocolate",
            "size": [
             11.154978283509006
            ],
            "sizemode": "area",
            "sizeref": 0.050903371511914326,
            "symbol": "circle"
           },
           "mode": "markers",
           "name": "Jupiter",
           "scene": "scene",
           "showlegend": true,
           "type": "scatter3d",
           "x": [
            270938446710.25745
           ],
           "y": [
            649875183892.4595
           ],
           "z": [
            271929678821.5388
           ]
          },
          {
           "hovertemplate": "name=Earth<br>index=308<br>x=%{x}<br>y=%{y}<br>z=%{z}<br>radius=%{marker.size}<extra></extra>",
           "ids": [
            "Earth"
           ],
           "legendgroup": "Earth",
           "marker": {
            "color": "green",
            "size": [
             8.759511722116487
            ],
            "sizemode": "area",
            "sizeref": 0.050903371511914326,
            "symbol": "circle"
           },
           "mode": "markers",
           "name": "Earth",
           "scene": "scene",
           "showlegend": true,
           "type": "scatter3d",
           "x": [
            -21204440339.12894
           ],
           "y": [
            133677017740.47292
           ],
           "z": [
            57918711212.85784
           ]
          }
         ],
         "name": "308"
        },
        {
         "data": [
          {
           "hovertemplate": "name=Sun<br>index=315<br>x=%{x}<br>y=%{y}<br>z=%{z}<br>radius=%{marker.size}<extra></extra>",
           "ids": [
            "Sun"
           ],
           "legendgroup": "Sun",
           "marker": {
            "color": "orange",
            "size": [
             20.36134860476573
            ],
            "sizemode": "area",
            "sizeref": 0.050903371511914326,
            "symbol": "circle"
           },
           "mode": "markers",
           "name": "Sun",
           "scene": "scene",
           "showlegend": true,
           "type": "scatter3d",
           "x": [
            91859754.09420364
           ],
           "y": [
            93494768.14832942
           ],
           "z": [
            16376753.361288754
           ]
          },
          {
           "hovertemplate": "name=Mars<br>index=315<br>x=%{x}<br>y=%{y}<br>z=%{z}<br>radius=%{marker.size}<extra></extra>",
           "ids": [
            "Mars"
           ],
           "legendgroup": "Mars",
           "marker": {
            "color": "crimson",
            "size": [
             8.12843769687102
            ],
            "sizemode": "area",
            "sizeref": 0.050903371511914326,
            "symbol": "circle"
           },
           "mode": "markers",
           "name": "Mars",
           "scene": "scene",
           "showlegend": true,
           "type": "scatter3d",
           "x": [
            -245161101847.02524
           ],
           "y": [
            -19160465862.18389
           ],
           "z": [
            -2171090938.062871
           ]
          },
          {
           "hovertemplate": "name=Mercury<br>index=315<br>x=%{x}<br>y=%{y}<br>z=%{z}<br>radius=%{marker.size}<extra></extra>",
           "ids": [
            "Mercury"
           ],
           "legendgroup": "Mercury",
           "marker": {
            "color": "cornflowerblue",
            "size": [
             7.7996303599085035
            ],
            "sizemode": "area",
            "sizeref": 0.050903371511914326,
            "symbol": "circle"
           },
           "mode": "markers",
           "name": "Mercury",
           "scene": "scene",
           "showlegend": true,
           "type": "scatter3d",
           "x": [
            37514850420.852325
           ],
           "y": [
            -43961610874.50676
           ],
           "z": [
            -27395379279.0522
           ]
          },
          {
           "hovertemplate": "name=Neptune<br>index=315<br>x=%{x}<br>y=%{y}<br>z=%{z}<br>radius=%{marker.size}<extra></extra>",
           "ids": [
            "Neptune"
           ],
           "legendgroup": "Neptune",
           "marker": {
            "color": "cyan",
            "size": [
             10.15120663641638
            ],
            "sizemode": "area",
            "sizeref": 0.050903371511914326,
            "symbol": "circle"
           },
           "mode": "markers",
           "name": "Neptune",
           "scene": "scene",
           "showlegend": true,
           "type": "scatter3d",
           "x": [
            2655357785159.2866
           ],
           "y": [
            -3343204502595.971
           ],
           "z": [
            -1434346759305.7742
           ]
          },
          {
           "hovertemplate": "name=Saturn<br>index=315<br>x=%{x}<br>y=%{y}<br>z=%{z}<br>radius=%{marker.size}<extra></extra>",
           "ids": [
            "Saturn"
           ],
           "legendgroup": "Saturn",
           "marker": {
            "color": "khaki",
            "size": [
             10.972190310798094
            ],
            "sizemode": "area",
            "sizeref": 0.050903371511914326,
            "symbol": "circle"
           },
           "mode": "markers",
           "name": "Saturn",
           "scene": "scene",
           "showlegend": true,
           "type": "scatter3d",
           "x": [
            697158619132.4
           ],
           "y": [
            1093124611584.636
           ],
           "z": [
            421552478339.16016
           ]
          },
          {
           "hovertemplate": "name=Uranus<br>index=315<br>x=%{x}<br>y=%{y}<br>z=%{z}<br>radius=%{marker.size}<extra></extra>",
           "ids": [
            "Uranus"
           ],
           "legendgroup": "Uranus",
           "marker": {
            "color": "lightcyan",
            "size": [
             10.141007269794844
            ],
            "sizemode": "area",
            "sizeref": 0.050903371511914326,
            "symbol": "circle"
           },
           "mode": "markers",
           "name": "Uranus",
           "scene": "scene",
           "showlegend": true,
           "type": "scatter3d",
           "x": [
            2301801922746.5684
           ],
           "y": [
            -1729925521582.4175
           ],
           "z": [
            -790236027364.3506
           ]
          },
          {
           "hovertemplate": "name=Jupiter<br>index=315<br>x=%{x}<br>y=%{y}<br>z=%{z}<br>radius=%{marker.size}<extra></extra>",
           "ids": [
            "Jupiter"
           ],
           "legendgroup": "Jupiter",
           "marker": {
            "color": "chocolate",
            "size": [
             11.154978283509006
            ],
            "sizemode": "area",
            "sizeref": 0.050903371511914326,
            "symbol": "circle"
           },
           "mode": "markers",
           "name": "Jupiter",
           "scene": "scene",
           "showlegend": true,
           "type": "scatter3d",
           "x": [
            263441711400.3613
           ],
           "y": [
            652727826703.9271
           ],
           "z": [
            273335260323.34244
           ]
          },
          {
           "hovertemplate": "name=Earth<br>index=315<br>x=%{x}<br>y=%{y}<br>z=%{z}<br>radius=%{marker.size}<extra></extra>",
           "ids": [
            "Earth"
           ],
           "legendgroup": "Earth",
           "marker": {
            "color": "green",
            "size": [
             8.759511722116487
            ],
            "sizemode": "area",
            "sizeref": 0.050903371511914326,
            "symbol": "circle"
           },
           "mode": "markers",
           "name": "Earth",
           "scene": "scene",
           "showlegend": true,
           "type": "scatter3d",
           "x": [
            -39112224971.58142
           ],
           "y": [
            130209112118.0162
           ],
           "z": [
            56415775876.17179
           ]
          }
         ],
         "name": "315"
        },
        {
         "data": [
          {
           "hovertemplate": "name=Sun<br>index=322<br>x=%{x}<br>y=%{y}<br>z=%{z}<br>radius=%{marker.size}<extra></extra>",
           "ids": [
            "Sun"
           ],
           "legendgroup": "Sun",
           "marker": {
            "color": "orange",
            "size": [
             20.36134860476573
            ],
            "sizemode": "area",
            "sizeref": 0.050903371511914326,
            "symbol": "circle"
           },
           "mode": "markers",
           "name": "Sun",
           "scene": "scene",
           "showlegend": true,
           "type": "scatter3d",
           "x": [
            95101945.55004974
           ],
           "y": [
            97331062.03195226
           ],
           "z": [
            17393444.613747347
           ]
          },
          {
           "hovertemplate": "name=Mars<br>index=322<br>x=%{x}<br>y=%{y}<br>z=%{z}<br>radius=%{marker.size}<extra></extra>",
           "ids": [
            "Mars"
           ],
           "legendgroup": "Mars",
           "marker": {
            "color": "crimson",
            "size": [
             8.12843769687102
            ],
            "sizemode": "area",
            "sizeref": 0.050903371511914326,
            "symbol": "circle"
           },
           "mode": "markers",
           "name": "Mars",
           "scene": "scene",
           "showlegend": true,
           "type": "scatter3d",
           "x": [
            -243102732170.68945
           ],
           "y": [
            -31256864810.82976
           ],
           "z": [
            -7777143465.242598
           ]
          },
          {
           "hovertemplate": "name=Mercury<br>index=322<br>x=%{x}<br>y=%{y}<br>z=%{z}<br>radius=%{marker.size}<extra></extra>",
           "ids": [
            "Mercury"
           ],
           "legendgroup": "Mercury",
           "marker": {
            "color": "cornflowerblue",
            "size": [
             7.7996303599085035
            ],
            "sizemode": "area",
            "sizeref": 0.050903371511914326,
            "symbol": "circle"
           },
           "mode": "markers",
           "name": "Mercury",
           "scene": "scene",
           "showlegend": true,
           "type": "scatter3d",
           "x": [
            51136987340.85475
           ],
           "y": [
            -22791807816.72431
           ],
           "z": [
            -17500120006.763237
           ]
          },
          {
           "hovertemplate": "name=Neptune<br>index=322<br>x=%{x}<br>y=%{y}<br>z=%{z}<br>radius=%{marker.size}<extra></extra>",
           "ids": [
            "Neptune"
           ],
           "legendgroup": "Neptune",
           "marker": {
            "color": "cyan",
            "size": [
             10.15120663641638
            ],
            "sizemode": "area",
            "sizeref": 0.050903371511914326,
            "symbol": "circle"
           },
           "mode": "markers",
           "name": "Neptune",
           "scene": "scene",
           "showlegend": true,
           "type": "scatter3d",
           "x": [
            2657985211603.824
           ],
           "y": [
            -3341361255157.181
           ],
           "z": [
            -1433657613609.509
           ]
          },
          {
           "hovertemplate": "name=Saturn<br>index=322<br>x=%{x}<br>y=%{y}<br>z=%{z}<br>radius=%{marker.size}<extra></extra>",
           "ids": [
            "Saturn"
           ],
           "legendgroup": "Saturn",
           "marker": {
            "color": "khaki",
            "size": [
             10.972190310798094
            ],
            "sizemode": "area",
            "sizeref": 0.050903371511914326,
            "symbol": "circle"
           },
           "mode": "markers",
           "name": "Saturn",
           "scene": "scene",
           "showlegend": true,
           "type": "scatter3d",
           "x": [
            691819155484.7322
           ],
           "y": [
            1095787575274.9417
           ],
           "z": [
            422881866485.233
           ]
          },
          {
           "hovertemplate": "name=Uranus<br>index=322<br>x=%{x}<br>y=%{y}<br>z=%{z}<br>radius=%{marker.size}<extra></extra>",
           "ids": [
            "Uranus"
           ],
           "legendgroup": "Uranus",
           "marker": {
            "color": "lightcyan",
            "size": [
             10.141007269794844
            ],
            "sizemode": "area",
            "sizeref": 0.050903371511914326,
            "symbol": "circle"
           },
           "mode": "markers",
           "name": "Uranus",
           "scene": "scene",
           "showlegend": true,
           "type": "scatter3d",
           "x": [
            2304388244243.36
           ],
           "y": [
            -1727171099402.1958
           ],
           "z": [
            -789066479499.7639
           ]
          },
          {
           "hovertemplate": "name=Jupiter<br>index=322<br>x=%{x}<br>y=%{y}<br>z=%{z}<br>radius=%{marker.size}<extra></extra>",
           "ids": [
            "Jupiter"
           ],
           "legendgroup": "Jupiter",
           "marker": {
            "color": "chocolate",
            "size": [
             11.154978283509006
            ],
            "sizemode": "area",
            "sizeref": 0.050903371511914326,
            "symbol": "circle"
           },
           "mode": "markers",
           "name": "Jupiter",
           "scene": "scene",
           "showlegend": true,
           "type": "scatter3d",
           "x": [
            255915290984.31183
           ],
           "y": [
            655506869475.613
           ],
           "z": [
            274710016666.758
           ]
          },
          {
           "hovertemplate": "name=Earth<br>index=322<br>x=%{x}<br>y=%{y}<br>z=%{z}<br>radius=%{marker.size}<extra></extra>",
           "ids": [
            "Earth"
           ],
           "legendgroup": "Earth",
           "marker": {
            "color": "green",
            "size": [
             8.759511722116487
            ],
            "sizemode": "area",
            "sizeref": 0.050903371511914326,
            "symbol": "circle"
           },
           "mode": "markers",
           "name": "Earth",
           "scene": "scene",
           "showlegend": true,
           "type": "scatter3d",
           "x": [
            -56423213738.96956
           ],
           "y": [
            124760754492.88692
           ],
           "z": [
            54054399632.65982
           ]
          }
         ],
         "name": "322"
        },
        {
         "data": [
          {
           "hovertemplate": "name=Sun<br>index=329<br>x=%{x}<br>y=%{y}<br>z=%{z}<br>radius=%{marker.size}<extra></extra>",
           "ids": [
            "Sun"
           ],
           "legendgroup": "Sun",
           "marker": {
            "color": "orange",
            "size": [
             20.36134860476573
            ],
            "sizemode": "area",
            "sizeref": 0.050903371511914326,
            "symbol": "circle"
           },
           "mode": "markers",
           "name": "Sun",
           "scene": "scene",
           "showlegend": true,
           "type": "scatter3d",
           "x": [
            98374910.06304713
           ],
           "y": [
            101248447.95192088
           ],
           "z": [
            18443696.308909945
           ]
          },
          {
           "hovertemplate": "name=Mars<br>index=329<br>x=%{x}<br>y=%{y}<br>z=%{z}<br>radius=%{marker.size}<extra></extra>",
           "ids": [
            "Mars"
           ],
           "legendgroup": "Mars",
           "marker": {
            "color": "crimson",
            "size": [
             8.12843769687102
            ],
            "sizemode": "area",
            "sizeref": 0.050903371511914326,
            "symbol": "circle"
           },
           "mode": "markers",
           "name": "Mars",
           "scene": "scene",
           "showlegend": true,
           "type": "scatter3d",
           "x": [
            -240244967847.3819
           ],
           "y": [
            -43250098864.710464
           ],
           "z": [
            -13357529394.812054
           ]
          },
          {
           "hovertemplate": "name=Mercury<br>index=329<br>x=%{x}<br>y=%{y}<br>z=%{z}<br>radius=%{marker.size}<extra></extra>",
           "ids": [
            "Mercury"
           ],
           "legendgroup": "Mercury",
           "marker": {
            "color": "cornflowerblue",
            "size": [
             7.7996303599085035
            ],
            "sizemode": "area",
            "sizeref": 0.050903371511914326,
            "symbol": "circle"
           },
           "mode": "markers",
           "name": "Mercury",
           "scene": "scene",
           "showlegend": true,
           "type": "scatter3d",
           "x": [
            52451790133.09844
           ],
           "y": [
            3566568869.08443
           ],
           "z": [
            -3557547739.1923194
           ]
          },
          {
           "hovertemplate": "name=Neptune<br>index=329<br>x=%{x}<br>y=%{y}<br>z=%{z}<br>radius=%{marker.size}<extra></extra>",
           "ids": [
            "Neptune"
           ],
           "legendgroup": "Neptune",
           "marker": {
            "color": "cyan",
            "size": [
             10.15120663641638
            ],
            "sizemode": "area",
            "sizeref": 0.050903371511914326,
            "symbol": "circle"
           },
           "mode": "markers",
           "name": "Neptune",
           "scene": "scene",
           "showlegend": true,
           "type": "scatter3d",
           "x": [
            2660611224535.2515
           ],
           "y": [
            -3339516229663.3364
           ],
           "z": [
            -1432967705052.243
           ]
          },
          {
           "hovertemplate": "name=Saturn<br>index=329<br>x=%{x}<br>y=%{y}<br>z=%{z}<br>radius=%{marker.size}<extra></extra>",
           "ids": [
            "Saturn"
           ],
           "legendgroup": "Saturn",
           "marker": {
            "color": "khaki",
            "size": [
             10.972190310798094
            ],
            "sizemode": "area",
            "sizeref": 0.050903371511914326,
            "symbol": "circle"
           },
           "mode": "markers",
           "name": "Saturn",
           "scene": "scene",
           "showlegend": true,
           "type": "scatter3d",
           "x": [
            686466352956.7625
           ],
           "y": [
            1098429454629.3022
           ],
           "z": [
            424203121351.597
           ]
          },
          {
           "hovertemplate": "name=Uranus<br>index=329<br>x=%{x}<br>y=%{y}<br>z=%{z}<br>radius=%{marker.size}<extra></extra>",
           "ids": [
            "Uranus"
           ],
           "legendgroup": "Uranus",
           "marker": {
            "color": "lightcyan",
            "size": [
             10.141007269794844
            ],
            "sizemode": "area",
            "sizeref": 0.050903371511914326,
            "symbol": "circle"
           },
           "mode": "markers",
           "name": "Uranus",
           "scene": "scene",
           "showlegend": true,
           "type": "scatter3d",
           "x": [
            2306970360905.2305
           ],
           "y": [
            -1724413524324.5215
           ],
           "z": [
            -787895491283.718
           ]
          },
          {
           "hovertemplate": "name=Jupiter<br>index=329<br>x=%{x}<br>y=%{y}<br>z=%{z}<br>radius=%{marker.size}<extra></extra>",
           "ids": [
            "Jupiter"
           ],
           "legendgroup": "Jupiter",
           "marker": {
            "color": "chocolate",
            "size": [
             11.154978283509006
            ],
            "sizemode": "area",
            "sizeref": 0.050903371511914326,
            "symbol": "circle"
           },
           "mode": "markers",
           "name": "Jupiter",
           "scene": "scene",
           "showlegend": true,
           "type": "scatter3d",
           "x": [
            248360070785.73413
           ],
           "y": [
            658212091065.916
           ],
           "z": [
            276053831422.37555
           ]
          },
          {
           "hovertemplate": "name=Earth<br>index=329<br>x=%{x}<br>y=%{y}<br>z=%{z}<br>radius=%{marker.size}<extra></extra>",
           "ids": [
            "Earth"
           ],
           "legendgroup": "Earth",
           "marker": {
            "color": "green",
            "size": [
             8.759511722116487
            ],
            "sizemode": "area",
            "sizeref": 0.050903371511914326,
            "symbol": "circle"
           },
           "mode": "markers",
           "name": "Earth",
           "scene": "scene",
           "showlegend": true,
           "type": "scatter3d",
           "x": [
            -72874329965.87968
           ],
           "y": [
            117415882987.83427
           ],
           "z": [
            50870952513.10855
           ]
          }
         ],
         "name": "329"
        },
        {
         "data": [
          {
           "hovertemplate": "name=Sun<br>index=336<br>x=%{x}<br>y=%{y}<br>z=%{z}<br>radius=%{marker.size}<extra></extra>",
           "ids": [
            "Sun"
           ],
           "legendgroup": "Sun",
           "marker": {
            "color": "orange",
            "size": [
             20.36134860476573
            ],
            "sizemode": "area",
            "sizeref": 0.050903371511914326,
            "symbol": "circle"
           },
           "mode": "markers",
           "name": "Sun",
           "scene": "scene",
           "showlegend": true,
           "type": "scatter3d",
           "x": [
            101677814.66644104
           ],
           "y": [
            105247856.95290963
           ],
           "z": [
            19527956.55714682
           ]
          },
          {
           "hovertemplate": "name=Mars<br>index=336<br>x=%{x}<br>y=%{y}<br>z=%{z}<br>radius=%{marker.size}<extra></extra>",
           "ids": [
            "Mars"
           ],
           "legendgroup": "Mars",
           "marker": {
            "color": "crimson",
            "size": [
             8.12843769687102
            ],
            "sizemode": "area",
            "sizeref": 0.050903371511914326,
            "symbol": "circle"
           },
           "mode": "markers",
           "name": "Mars",
           "scene": "scene",
           "showlegend": true,
           "type": "scatter3d",
           "x": [
            -236589942416.90384
           ],
           "y": [
            -55099420660.9741
           ],
           "z": [
            -18893496708.710552
           ]
          },
          {
           "hovertemplate": "name=Mercury<br>index=336<br>x=%{x}<br>y=%{y}<br>z=%{z}<br>radius=%{marker.size}<extra></extra>",
           "ids": [
            "Mercury"
           ],
           "legendgroup": "Mercury",
           "marker": {
            "color": "cornflowerblue",
            "size": [
             7.7996303599085035
            ],
            "sizemode": "area",
            "sizeref": 0.050903371511914326,
            "symbol": "circle"
           },
           "mode": "markers",
           "name": "Mercury",
           "scene": "scene",
           "showlegend": true,
           "type": "scatter3d",
           "x": [
            36774311583.90711
           ],
           "y": [
            28325563436.19373
           ],
           "z": [
            11292135459.570736
           ]
          },
          {
           "hovertemplate": "name=Neptune<br>index=336<br>x=%{x}<br>y=%{y}<br>z=%{z}<br>radius=%{marker.size}<extra></extra>",
           "ids": [
            "Neptune"
           ],
           "legendgroup": "Neptune",
           "marker": {
            "color": "cyan",
            "size": [
             10.15120663641638
            ],
            "sizemode": "area",
            "sizeref": 0.050903371511914326,
            "symbol": "circle"
           },
           "mode": "markers",
           "name": "Neptune",
           "scene": "scene",
           "showlegend": true,
           "type": "scatter3d",
           "x": [
            2663235822525.057
           ],
           "y": [
            -3337669427056.5137
           ],
           "z": [
            -1432277033984.2495
           ]
          },
          {
           "hovertemplate": "name=Saturn<br>index=336<br>x=%{x}<br>y=%{y}<br>z=%{z}<br>radius=%{marker.size}<extra></extra>",
           "ids": [
            "Saturn"
           ],
           "legendgroup": "Saturn",
           "marker": {
            "color": "khaki",
            "size": [
             10.972190310798094
            ],
            "sizemode": "area",
            "sizeref": 0.050903371511914326,
            "symbol": "circle"
           },
           "mode": "markers",
           "name": "Saturn",
           "scene": "scene",
           "showlegend": true,
           "type": "scatter3d",
           "x": [
            681100309322.5817
           ],
           "y": [
            1101050191549.6982
           ],
           "z": [
            425516214695.02136
           ]
          },
          {
           "hovertemplate": "name=Uranus<br>index=336<br>x=%{x}<br>y=%{y}<br>z=%{z}<br>radius=%{marker.size}<extra></extra>",
           "ids": [
            "Uranus"
           ],
           "legendgroup": "Uranus",
           "marker": {
            "color": "lightcyan",
            "size": [
             10.141007269794844
            ],
            "sizemode": "area",
            "sizeref": 0.050903371511914326,
            "symbol": "circle"
           },
           "mode": "markers",
           "name": "Uranus",
           "scene": "scene",
           "showlegend": true,
           "type": "scatter3d",
           "x": [
            2309548268413.592
           ],
           "y": [
            -1721652801676.556
           ],
           "z": [
            -786723064988.8665
           ]
          },
          {
           "hovertemplate": "name=Jupiter<br>index=336<br>x=%{x}<br>y=%{y}<br>z=%{z}<br>radius=%{marker.size}<extra></extra>",
           "ids": [
            "Jupiter"
           ],
           "legendgroup": "Jupiter",
           "marker": {
            "color": "chocolate",
            "size": [
             11.154978283509006
            ],
            "sizemode": "area",
            "sizeref": 0.050903371511914326,
            "symbol": "circle"
           },
           "mode": "markers",
           "name": "Jupiter",
           "scene": "scene",
           "showlegend": true,
           "type": "scatter3d",
           "x": [
            240776937464.31403
           ],
           "y": [
            660843279989.1261
           ],
           "z": [
            277366592267.7292
           ]
          },
          {
           "hovertemplate": "name=Earth<br>index=336<br>x=%{x}<br>y=%{y}<br>z=%{z}<br>radius=%{marker.size}<extra></extra>",
           "ids": [
            "Earth"
           ],
           "legendgroup": "Earth",
           "marker": {
            "color": "green",
            "size": [
             8.759511722116487
            ],
            "sizemode": "area",
            "sizeref": 0.050903371511914326,
            "symbol": "circle"
           },
           "mode": "markers",
           "name": "Earth",
           "scene": "scene",
           "showlegend": true,
           "type": "scatter3d",
           "x": [
            -88216682655.16017
           ],
           "y": [
            108288546114.87184
           ],
           "z": [
            46914856324.648994
           ]
          }
         ],
         "name": "336"
        },
        {
         "data": [
          {
           "hovertemplate": "name=Sun<br>index=343<br>x=%{x}<br>y=%{y}<br>z=%{z}<br>radius=%{marker.size}<extra></extra>",
           "ids": [
            "Sun"
           ],
           "legendgroup": "Sun",
           "marker": {
            "color": "orange",
            "size": [
             20.36134860476573
            ],
            "sizemode": "area",
            "sizeref": 0.050903371511914326,
            "symbol": "circle"
           },
           "mode": "markers",
           "name": "Sun",
           "scene": "scene",
           "showlegend": true,
           "type": "scatter3d",
           "x": [
            105008920.73120944
           ],
           "y": [
            109330815.65099718
           ],
           "z": [
            20647100.77012092
           ]
          },
          {
           "hovertemplate": "name=Mars<br>index=343<br>x=%{x}<br>y=%{y}<br>z=%{z}<br>radius=%{marker.size}<extra></extra>",
           "ids": [
            "Mars"
           ],
           "legendgroup": "Mars",
           "marker": {
            "color": "crimson",
            "size": [
             8.12843769687102
            ],
            "sizemode": "area",
            "sizeref": 0.050903371511914326,
            "symbol": "circle"
           },
           "mode": "markers",
           "name": "Mars",
           "scene": "scene",
           "showlegend": true,
           "type": "scatter3d",
           "x": [
            -232141938175.06177
           ],
           "y": [
            -66763678562.16707
           ],
           "z": [
            -24366049694.45273
           ]
          },
          {
           "hovertemplate": "name=Mercury<br>index=343<br>x=%{x}<br>y=%{y}<br>z=%{z}<br>radius=%{marker.size}<extra></extra>",
           "ids": [
            "Mercury"
           ],
           "legendgroup": "Mercury",
           "marker": {
            "color": "cornflowerblue",
            "size": [
             7.7996303599085035
            ],
            "sizemode": "area",
            "sizeref": 0.050903371511914326,
            "symbol": "circle"
           },
           "mode": "markers",
           "name": "Mercury",
           "scene": "scene",
           "showlegend": true,
           "type": "scatter3d",
           "x": [
            5765669139.625642
           ],
           "y": [
            40711632345.84277
           ],
           "z": [
            21121947595.52705
           ]
          },
          {
           "hovertemplate": "name=Neptune<br>index=343<br>x=%{x}<br>y=%{y}<br>z=%{z}<br>radius=%{marker.size}<extra></extra>",
           "ids": [
            "Neptune"
           ],
           "legendgroup": "Neptune",
           "marker": {
            "color": "cyan",
            "size": [
             10.15120663641638
            ],
            "sizemode": "area",
            "sizeref": 0.050903371511914326,
            "symbol": "circle"
           },
           "mode": "markers",
           "name": "Neptune",
           "scene": "scene",
           "showlegend": true,
           "type": "scatter3d",
           "x": [
            2665859004145.44
           ],
           "y": [
            -3335820848279.745
           ],
           "z": [
            -1431585600756.212
           ]
          },
          {
           "hovertemplate": "name=Saturn<br>index=343<br>x=%{x}<br>y=%{y}<br>z=%{z}<br>radius=%{marker.size}<extra></extra>",
           "ids": [
            "Saturn"
           ],
           "legendgroup": "Saturn",
           "marker": {
            "color": "khaki",
            "size": [
             10.972190310798094
            ],
            "sizemode": "area",
            "sizeref": 0.050903371511914326,
            "symbol": "circle"
           },
           "mode": "markers",
           "name": "Saturn",
           "scene": "scene",
           "showlegend": true,
           "type": "scatter3d",
           "x": [
            675721122736.5519
           ],
           "y": [
            1103649728358.4397
           ],
           "z": [
            426821118428.9607
           ]
          },
          {
           "hovertemplate": "name=Uranus<br>index=343<br>x=%{x}<br>y=%{y}<br>z=%{z}<br>radius=%{marker.size}<extra></extra>",
           "ids": [
            "Uranus"
           ],
           "legendgroup": "Uranus",
           "marker": {
            "color": "lightcyan",
            "size": [
             10.141007269794844
            ],
            "sizemode": "area",
            "sizeref": 0.050903371511914326,
            "symbol": "circle"
           },
           "mode": "markers",
           "name": "Uranus",
           "scene": "scene",
           "showlegend": true,
           "type": "scatter3d",
           "x": [
            2312121962457.497
           ],
           "y": [
            -1718888936789.3564
           ],
           "z": [
            -785549202889.6804
           ]
          },
          {
           "hovertemplate": "name=Jupiter<br>index=343<br>x=%{x}<br>y=%{y}<br>z=%{z}<br>radius=%{marker.size}<extra></extra>",
           "ids": [
            "Jupiter"
           ],
           "legendgroup": "Jupiter",
           "marker": {
            "color": "chocolate",
            "size": [
             11.154978283509006
            ],
            "sizemode": "area",
            "sizeref": 0.050903371511914326,
            "symbol": "circle"
           },
           "mode": "markers",
           "name": "Jupiter",
           "scene": "scene",
           "showlegend": true,
           "type": "scatter3d",
           "x": [
            233166778878.7573
           ],
           "y": [
            663400234399.9962
           ],
           "z": [
            278648190984.02246
           ]
          },
          {
           "hovertemplate": "name=Earth<br>index=343<br>x=%{x}<br>y=%{y}<br>z=%{z}<br>radius=%{marker.size}<extra></extra>",
           "ids": [
            "Earth"
           ],
           "legendgroup": "Earth",
           "marker": {
            "color": "green",
            "size": [
             8.759511722116487
            ],
            "sizemode": "area",
            "sizeref": 0.050903371511914326,
            "symbol": "circle"
           },
           "mode": "markers",
           "name": "Earth",
           "scene": "scene",
           "showlegend": true,
           "type": "scatter3d",
           "x": [
            -102219829078.09552
           ],
           "y": [
            97520768697.88425
           ],
           "z": [
            42247659851.60814
           ]
          }
         ],
         "name": "343"
        },
        {
         "data": [
          {
           "hovertemplate": "name=Sun<br>index=350<br>x=%{x}<br>y=%{y}<br>z=%{z}<br>radius=%{marker.size}<extra></extra>",
           "ids": [
            "Sun"
           ],
           "legendgroup": "Sun",
           "marker": {
            "color": "orange",
            "size": [
             20.36134860476573
            ],
            "sizemode": "area",
            "sizeref": 0.050903371511914326,
            "symbol": "circle"
           },
           "mode": "markers",
           "name": "Sun",
           "scene": "scene",
           "showlegend": true,
           "type": "scatter3d",
           "x": [
            108364746.1765844
           ],
           "y": [
            113498194.22592394
           ],
           "z": [
            21801850.157160893
           ]
          },
          {
           "hovertemplate": "name=Mars<br>index=350<br>x=%{x}<br>y=%{y}<br>z=%{z}<br>radius=%{marker.size}<extra></extra>",
           "ids": [
            "Mars"
           ],
           "legendgroup": "Mars",
           "marker": {
            "color": "crimson",
            "size": [
             8.12843769687102
            ],
            "sizemode": "area",
            "sizeref": 0.050903371511914326,
            "symbol": "circle"
           },
           "mode": "markers",
           "name": "Mars",
           "scene": "scene",
           "showlegend": true,
           "type": "scatter3d",
           "x": [
            -226907478172.08728
           ],
           "y": [
            -78201364882.42969
           ],
           "z": [
            -29755968577.13396
           ]
          },
          {
           "hovertemplate": "name=Mercury<br>index=350<br>x=%{x}<br>y=%{y}<br>z=%{z}<br>radius=%{marker.size}<extra></extra>",
           "ids": [
            "Mercury"
           ],
           "legendgroup": "Mercury",
           "marker": {
            "color": "cornflowerblue",
            "size": [
             7.7996303599085035
            ],
            "sizemode": "area",
            "sizeref": 0.050903371511914326,
            "symbol": "circle"
           },
           "mode": "markers",
           "name": "Mercury",
           "scene": "scene",
           "showlegend": true,
           "type": "scatter3d",
           "x": [
            -27997092832.53315
           ],
           "y": [
            34216069244.00409
           ],
           "z": [
            21151449679.519318
           ]
          },
          {
           "hovertemplate": "name=Neptune<br>index=350<br>x=%{x}<br>y=%{y}<br>z=%{z}<br>radius=%{marker.size}<extra></extra>",
           "ids": [
            "Neptune"
           ],
           "legendgroup": "Neptune",
           "marker": {
            "color": "cyan",
            "size": [
             10.15120663641638
            ],
            "sizemode": "area",
            "sizeref": 0.050903371511914326,
            "symbol": "circle"
           },
           "mode": "markers",
           "name": "Neptune",
           "scene": "scene",
           "showlegend": true,
           "type": "scatter3d",
           "x": [
            2668480767969.3125
           ],
           "y": [
            -3333970494277.022
           ],
           "z": [
            -1430893405719.2231
           ]
          },
          {
           "hovertemplate": "name=Saturn<br>index=350<br>x=%{x}<br>y=%{y}<br>z=%{z}<br>radius=%{marker.size}<extra></extra>",
           "ids": [
            "Saturn"
           ],
           "legendgroup": "Saturn",
           "marker": {
            "color": "khaki",
            "size": [
             10.972190310798094
            ],
            "sizemode": "area",
            "sizeref": 0.050903371511914326,
            "symbol": "circle"
           },
           "mode": "markers",
           "name": "Saturn",
           "scene": "scene",
           "showlegend": true,
           "type": "scatter3d",
           "x": [
            670328891730.853
           ],
           "y": [
            1106228007799.7825
           ],
           "z": [
            428117804624.37286
           ]
          },
          {
           "hovertemplate": "name=Uranus<br>index=350<br>x=%{x}<br>y=%{y}<br>z=%{z}<br>radius=%{marker.size}<extra></extra>",
           "ids": [
            "Uranus"
           ],
           "legendgroup": "Uranus",
           "marker": {
            "color": "lightcyan",
            "size": [
             10.141007269794844
            ],
            "sizemode": "area",
            "sizeref": 0.050903371511914326,
            "symbol": "circle"
           },
           "mode": "markers",
           "name": "Uranus",
           "scene": "scene",
           "showlegend": true,
           "type": "scatter3d",
           "x": [
            2314691438733.643
           ],
           "y": [
            -1716121934997.8726
           ],
           "z": [
            -784373907262.446
           ]
          },
          {
           "hovertemplate": "name=Jupiter<br>index=350<br>x=%{x}<br>y=%{y}<br>z=%{z}<br>radius=%{marker.size}<extra></extra>",
           "ids": [
            "Jupiter"
           ],
           "legendgroup": "Jupiter",
           "marker": {
            "color": "chocolate",
            "size": [
             11.154978283509006
            ],
            "sizemode": "area",
            "sizeref": 0.050903371511914326,
            "symbol": "circle"
           },
           "mode": "markers",
           "name": "Jupiter",
           "scene": "scene",
           "showlegend": true,
           "type": "scatter3d",
           "x": [
            225530483950.8138
           ],
           "y": [
            665882762076.7141
           ],
           "z": [
            279898523452.1226
           ]
          },
          {
           "hovertemplate": "name=Earth<br>index=350<br>x=%{x}<br>y=%{y}<br>z=%{z}<br>radius=%{marker.size}<extra></extra>",
           "ids": [
            "Earth"
           ],
           "legendgroup": "Earth",
           "marker": {
            "color": "green",
            "size": [
             8.759511722116487
            ],
            "sizemode": "area",
            "sizeref": 0.050903371511914326,
            "symbol": "circle"
           },
           "mode": "markers",
           "name": "Earth",
           "scene": "scene",
           "showlegend": true,
           "type": "scatter3d",
           "x": [
            -114675614601.85056
           ],
           "y": [
            85279878172.21214
           ],
           "z": [
            36941880148.68963
           ]
          }
         ],
         "name": "350"
        },
        {
         "data": [
          {
           "hovertemplate": "name=Sun<br>index=357<br>x=%{x}<br>y=%{y}<br>z=%{z}<br>radius=%{marker.size}<extra></extra>",
           "ids": [
            "Sun"
           ],
           "legendgroup": "Sun",
           "marker": {
            "color": "orange",
            "size": [
             20.36134860476573
            ],
            "sizemode": "area",
            "sizeref": 0.050903371511914326,
            "symbol": "circle"
           },
           "mode": "markers",
           "name": "Sun",
           "scene": "scene",
           "showlegend": true,
           "type": "scatter3d",
           "x": [
            111741574.26386696
           ],
           "y": [
            117748881.7478344
           ],
           "z": [
            22991907.855383925
           ]
          },
          {
           "hovertemplate": "name=Mars<br>index=357<br>x=%{x}<br>y=%{y}<br>z=%{z}<br>radius=%{marker.size}<extra></extra>",
           "ids": [
            "Mars"
           ],
           "legendgroup": "Mars",
           "marker": {
            "color": "crimson",
            "size": [
             8.12843769687102
            ],
            "sizemode": "area",
            "sizeref": 0.050903371511914326,
            "symbol": "circle"
           },
           "mode": "markers",
           "name": "Mars",
           "scene": "scene",
           "showlegend": true,
           "type": "scatter3d",
           "x": [
            -220895424865.53076
           ],
           "y": [
            -89370673534.85497
           ],
           "z": [
            -35043833293.21675
           ]
          },
          {
           "hovertemplate": "name=Mercury<br>index=357<br>x=%{x}<br>y=%{y}<br>z=%{z}<br>radius=%{marker.size}<extra></extra>",
           "ids": [
            "Mercury"
           ],
           "legendgroup": "Mercury",
           "marker": {
            "color": "cornflowerblue",
            "size": [
             7.7996303599085035
            ],
            "sizemode": "area",
            "sizeref": 0.050903371511914326,
            "symbol": "circle"
           },
           "mode": "markers",
           "name": "Mercury",
           "scene": "scene",
           "showlegend": true,
           "type": "scatter3d",
           "x": [
            -51113730460.22535
           ],
           "y": [
            13918831001.499908
           ],
           "z": [
            12705060392.353518
           ]
          },
          {
           "hovertemplate": "name=Neptune<br>index=357<br>x=%{x}<br>y=%{y}<br>z=%{z}<br>radius=%{marker.size}<extra></extra>",
           "ids": [
            "Neptune"
           ],
           "legendgroup": "Neptune",
           "marker": {
            "color": "cyan",
            "size": [
             10.15120663641638
            ],
            "sizemode": "area",
            "sizeref": 0.050903371511914326,
            "symbol": "circle"
           },
           "mode": "markers",
           "name": "Neptune",
           "scene": "scene",
           "showlegend": true,
           "type": "scatter3d",
           "x": [
            2671101112570.3003
           ],
           "y": [
            -3332118365993.293
           ],
           "z": [
            -1430200449224.785
           ]
          },
          {
           "hovertemplate": "name=Saturn<br>index=357<br>x=%{x}<br>y=%{y}<br>z=%{z}<br>radius=%{marker.size}<extra></extra>",
           "ids": [
            "Saturn"
           ],
           "legendgroup": "Saturn",
           "marker": {
            "color": "khaki",
            "size": [
             10.972190310798094
            ],
            "sizemode": "area",
            "sizeref": 0.050903371511914326,
            "symbol": "circle"
           },
           "mode": "markers",
           "name": "Saturn",
           "scene": "scene",
           "showlegend": true,
           "type": "scatter3d",
           "x": [
            664923715212.9897
           ],
           "y": [
            1108784973041.531
           ],
           "z": [
            429406245510.5306
           ]
          },
          {
           "hovertemplate": "name=Uranus<br>index=357<br>x=%{x}<br>y=%{y}<br>z=%{z}<br>radius=%{marker.size}<extra></extra>",
           "ids": [
            "Uranus"
           ],
           "legendgroup": "Uranus",
           "marker": {
            "color": "lightcyan",
            "size": [
             10.141007269794844
            ],
            "sizemode": "area",
            "sizeref": 0.050903371511914326,
            "symbol": "circle"
           },
           "mode": "markers",
           "name": "Uranus",
           "scene": "scene",
           "showlegend": true,
           "type": "scatter3d",
           "x": [
            2317256692946.373
           ],
           "y": [
            -1713351801640.9397
           ],
           "z": [
            -783197180385.2615
           ]
          },
          {
           "hovertemplate": "name=Jupiter<br>index=357<br>x=%{x}<br>y=%{y}<br>z=%{z}<br>radius=%{marker.size}<extra></extra>",
           "ids": [
            "Jupiter"
           ],
           "legendgroup": "Jupiter",
           "marker": {
            "color": "chocolate",
            "size": [
             11.154978283509006
            ],
            "sizemode": "area",
            "sizeref": 0.050903371511914326,
            "symbol": "circle"
           },
           "mode": "markers",
           "name": "Jupiter",
           "scene": "scene",
           "showlegend": true,
           "type": "scatter3d",
           "x": [
            217868942530.39185
           ],
           "y": [
            668290680401.988
           ],
           "z": [
            281117489647.7066
           ]
          },
          {
           "hovertemplate": "name=Earth<br>index=357<br>x=%{x}<br>y=%{y}<br>z=%{z}<br>radius=%{marker.size}<extra></extra>",
           "ids": [
            "Earth"
           ],
           "legendgroup": "Earth",
           "marker": {
            "color": "green",
            "size": [
             8.759511722116487
            ],
            "sizemode": "area",
            "sizeref": 0.050903371511914326,
            "symbol": "circle"
           },
           "mode": "markers",
           "name": "Earth",
           "scene": "scene",
           "showlegend": true,
           "type": "scatter3d",
           "x": [
            -125401503015.85512
           ],
           "y": [
            71755371892.1124
           ],
           "z": [
            31079644859.364773
           ]
          }
         ],
         "name": "357"
        },
        {
         "data": [
          {
           "hovertemplate": "name=Sun<br>index=364<br>x=%{x}<br>y=%{y}<br>z=%{z}<br>radius=%{marker.size}<extra></extra>",
           "ids": [
            "Sun"
           ],
           "legendgroup": "Sun",
           "marker": {
            "color": "orange",
            "size": [
             20.36134860476573
            ],
            "sizemode": "area",
            "sizeref": 0.050903371511914326,
            "symbol": "circle"
           },
           "mode": "markers",
           "name": "Sun",
           "scene": "scene",
           "showlegend": true,
           "type": "scatter3d",
           "x": [
            115137251.74871144
           ],
           "y": [
            122080870.17878775
           ],
           "z": [
            24216351.386869904
           ]
          },
          {
           "hovertemplate": "name=Mars<br>index=364<br>x=%{x}<br>y=%{y}<br>z=%{z}<br>radius=%{marker.size}<extra></extra>",
           "ids": [
            "Mars"
           ],
           "legendgroup": "Mars",
           "marker": {
            "color": "crimson",
            "size": [
             8.12843769687102
            ],
            "sizemode": "area",
            "sizeref": 0.050903371511914326,
            "symbol": "circle"
           },
           "mode": "markers",
           "name": "Mars",
           "scene": "scene",
           "showlegend": true,
           "type": "scatter3d",
           "x": [
            -214117084859.19888
           ],
           "y": [
            -100229568496.68864
           ],
           "z": [
            -40210052063.29761
           ]
          },
          {
           "hovertemplate": "name=Mercury<br>index=364<br>x=%{x}<br>y=%{y}<br>z=%{z}<br>radius=%{marker.size}<extra></extra>",
           "ids": [
            "Mercury"
           ],
           "legendgroup": "Mercury",
           "marker": {
            "color": "cornflowerblue",
            "size": [
             7.7996303599085035
            ],
            "sizemode": "area",
            "sizeref": 0.050903371511914326,
            "symbol": "circle"
           },
           "mode": "markers",
           "name": "Mercury",
           "scene": "scene",
           "showlegend": true,
           "type": "scatter3d",
           "x": [
            -59383137566.95807
           ],
           "y": [
            -10820261569.954369
           ],
           "z": [
            346922740.1338875
           ]
          },
          {
           "hovertemplate": "name=Neptune<br>index=364<br>x=%{x}<br>y=%{y}<br>z=%{z}<br>radius=%{marker.size}<extra></extra>",
           "ids": [
            "Neptune"
           ],
           "legendgroup": "Neptune",
           "marker": {
            "color": "cyan",
            "size": [
             10.15120663641638
            ],
            "sizemode": "area",
            "sizeref": 0.050903371511914326,
            "symbol": "circle"
           },
           "mode": "markers",
           "name": "Neptune",
           "scene": "scene",
           "showlegend": true,
           "type": "scatter3d",
           "x": [
            2673720036522.7456
           ],
           "y": [
            -3330264464374.4663
           ],
           "z": [
            -1429506731624.809
           ]
          },
          {
           "hovertemplate": "name=Saturn<br>index=364<br>x=%{x}<br>y=%{y}<br>z=%{z}<br>radius=%{marker.size}<extra></extra>",
           "ids": [
            "Saturn"
           ],
           "legendgroup": "Saturn",
           "marker": {
            "color": "khaki",
            "size": [
             10.972190310798094
            ],
            "sizemode": "area",
            "sizeref": 0.050903371511914326,
            "symbol": "circle"
           },
           "mode": "markers",
           "name": "Saturn",
           "scene": "scene",
           "showlegend": true,
           "type": "scatter3d",
           "x": [
            659505692463.2451
           ],
           "y": [
            1111320567676.6409
           ],
           "z": [
            430686413475.83856
           ]
          },
          {
           "hovertemplate": "name=Uranus<br>index=364<br>x=%{x}<br>y=%{y}<br>z=%{z}<br>radius=%{marker.size}<extra></extra>",
           "ids": [
            "Uranus"
           ],
           "legendgroup": "Uranus",
           "marker": {
            "color": "lightcyan",
            "size": [
             10.141007269794844
            ],
            "sizemode": "area",
            "sizeref": 0.050903371511914326,
            "symbol": "circle"
           },
           "mode": "markers",
           "name": "Uranus",
           "scene": "scene",
           "showlegend": true,
           "type": "scatter3d",
           "x": [
            2319817720807.685
           ],
           "y": [
            -1710578542061.2727
           ],
           "z": [
            -782019024538.0354
           ]
          },
          {
           "hovertemplate": "name=Jupiter<br>index=364<br>x=%{x}<br>y=%{y}<br>z=%{z}<br>radius=%{marker.size}<extra></extra>",
           "ids": [
            "Jupiter"
           ],
           "legendgroup": "Jupiter",
           "marker": {
            "color": "chocolate",
            "size": [
             11.154978283509006
            ],
            "sizemode": "area",
            "sizeref": 0.050903371511914326,
            "symbol": "circle"
           },
           "mode": "markers",
           "name": "Jupiter",
           "scene": "scene",
           "showlegend": true,
           "type": "scatter3d",
           "x": [
            210183045261.5093
           ],
           "y": [
            670623816342.2152
           ],
           "z": [
            282304993635.58795
           ]
          },
          {
           "hovertemplate": "name=Earth<br>index=364<br>x=%{x}<br>y=%{y}<br>z=%{z}<br>radius=%{marker.size}<extra></extra>",
           "ids": [
            "Earth"
           ],
           "legendgroup": "Earth",
           "marker": {
            "color": "green",
            "size": [
             8.759511722116487
            ],
            "sizemode": "area",
            "sizeref": 0.050903371511914326,
            "symbol": "circle"
           },
           "mode": "markers",
           "name": "Earth",
           "scene": "scene",
           "showlegend": true,
           "type": "scatter3d",
           "x": [
            -134243331389.02104
           ],
           "y": [
            57155418422.34216
           ],
           "z": [
            24751175826.884647
           ]
          }
         ],
         "name": "364"
        }
       ],
       "layout": {
        "legend": {
         "itemsizing": "constant",
         "title": {
          "text": "name"
         },
         "tracegroupgap": 0
        },
        "margin": {
         "t": 60
        },
        "scene": {
         "domain": {
          "x": [
           0,
           1
          ],
          "y": [
           0,
           1
          ]
         },
         "xaxis": {
          "title": {
           "text": "x"
          }
         },
         "yaxis": {
          "title": {
           "text": "y"
          }
         },
         "zaxis": {
          "title": {
           "text": "z"
          }
         }
        },
        "sliders": [
         {
          "active": 0,
          "currentvalue": {
           "prefix": "index="
          },
          "len": 0.9,
          "pad": {
           "b": 10,
           "t": 60
          },
          "steps": [
           {
            "args": [
             [
              "0"
             ],
             {
              "frame": {
               "duration": 0,
               "redraw": true
              },
              "fromcurrent": true,
              "mode": "immediate",
              "transition": {
               "duration": 0,
               "easing": "linear"
              }
             }
            ],
            "label": "0",
            "method": "animate"
           },
           {
            "args": [
             [
              "7"
             ],
             {
              "frame": {
               "duration": 0,
               "redraw": true
              },
              "fromcurrent": true,
              "mode": "immediate",
              "transition": {
               "duration": 0,
               "easing": "linear"
              }
             }
            ],
            "label": "7",
            "method": "animate"
           },
           {
            "args": [
             [
              "14"
             ],
             {
              "frame": {
               "duration": 0,
               "redraw": true
              },
              "fromcurrent": true,
              "mode": "immediate",
              "transition": {
               "duration": 0,
               "easing": "linear"
              }
             }
            ],
            "label": "14",
            "method": "animate"
           },
           {
            "args": [
             [
              "21"
             ],
             {
              "frame": {
               "duration": 0,
               "redraw": true
              },
              "fromcurrent": true,
              "mode": "immediate",
              "transition": {
               "duration": 0,
               "easing": "linear"
              }
             }
            ],
            "label": "21",
            "method": "animate"
           },
           {
            "args": [
             [
              "28"
             ],
             {
              "frame": {
               "duration": 0,
               "redraw": true
              },
              "fromcurrent": true,
              "mode": "immediate",
              "transition": {
               "duration": 0,
               "easing": "linear"
              }
             }
            ],
            "label": "28",
            "method": "animate"
           },
           {
            "args": [
             [
              "35"
             ],
             {
              "frame": {
               "duration": 0,
               "redraw": true
              },
              "fromcurrent": true,
              "mode": "immediate",
              "transition": {
               "duration": 0,
               "easing": "linear"
              }
             }
            ],
            "label": "35",
            "method": "animate"
           },
           {
            "args": [
             [
              "42"
             ],
             {
              "frame": {
               "duration": 0,
               "redraw": true
              },
              "fromcurrent": true,
              "mode": "immediate",
              "transition": {
               "duration": 0,
               "easing": "linear"
              }
             }
            ],
            "label": "42",
            "method": "animate"
           },
           {
            "args": [
             [
              "49"
             ],
             {
              "frame": {
               "duration": 0,
               "redraw": true
              },
              "fromcurrent": true,
              "mode": "immediate",
              "transition": {
               "duration": 0,
               "easing": "linear"
              }
             }
            ],
            "label": "49",
            "method": "animate"
           },
           {
            "args": [
             [
              "56"
             ],
             {
              "frame": {
               "duration": 0,
               "redraw": true
              },
              "fromcurrent": true,
              "mode": "immediate",
              "transition": {
               "duration": 0,
               "easing": "linear"
              }
             }
            ],
            "label": "56",
            "method": "animate"
           },
           {
            "args": [
             [
              "63"
             ],
             {
              "frame": {
               "duration": 0,
               "redraw": true
              },
              "fromcurrent": true,
              "mode": "immediate",
              "transition": {
               "duration": 0,
               "easing": "linear"
              }
             }
            ],
            "label": "63",
            "method": "animate"
           },
           {
            "args": [
             [
              "70"
             ],
             {
              "frame": {
               "duration": 0,
               "redraw": true
              },
              "fromcurrent": true,
              "mode": "immediate",
              "transition": {
               "duration": 0,
               "easing": "linear"
              }
             }
            ],
            "label": "70",
            "method": "animate"
           },
           {
            "args": [
             [
              "77"
             ],
             {
              "frame": {
               "duration": 0,
               "redraw": true
              },
              "fromcurrent": true,
              "mode": "immediate",
              "transition": {
               "duration": 0,
               "easing": "linear"
              }
             }
            ],
            "label": "77",
            "method": "animate"
           },
           {
            "args": [
             [
              "84"
             ],
             {
              "frame": {
               "duration": 0,
               "redraw": true
              },
              "fromcurrent": true,
              "mode": "immediate",
              "transition": {
               "duration": 0,
               "easing": "linear"
              }
             }
            ],
            "label": "84",
            "method": "animate"
           },
           {
            "args": [
             [
              "91"
             ],
             {
              "frame": {
               "duration": 0,
               "redraw": true
              },
              "fromcurrent": true,
              "mode": "immediate",
              "transition": {
               "duration": 0,
               "easing": "linear"
              }
             }
            ],
            "label": "91",
            "method": "animate"
           },
           {
            "args": [
             [
              "98"
             ],
             {
              "frame": {
               "duration": 0,
               "redraw": true
              },
              "fromcurrent": true,
              "mode": "immediate",
              "transition": {
               "duration": 0,
               "easing": "linear"
              }
             }
            ],
            "label": "98",
            "method": "animate"
           },
           {
            "args": [
             [
              "105"
             ],
             {
              "frame": {
               "duration": 0,
               "redraw": true
              },
              "fromcurrent": true,
              "mode": "immediate",
              "transition": {
               "duration": 0,
               "easing": "linear"
              }
             }
            ],
            "label": "105",
            "method": "animate"
           },
           {
            "args": [
             [
              "112"
             ],
             {
              "frame": {
               "duration": 0,
               "redraw": true
              },
              "fromcurrent": true,
              "mode": "immediate",
              "transition": {
               "duration": 0,
               "easing": "linear"
              }
             }
            ],
            "label": "112",
            "method": "animate"
           },
           {
            "args": [
             [
              "119"
             ],
             {
              "frame": {
               "duration": 0,
               "redraw": true
              },
              "fromcurrent": true,
              "mode": "immediate",
              "transition": {
               "duration": 0,
               "easing": "linear"
              }
             }
            ],
            "label": "119",
            "method": "animate"
           },
           {
            "args": [
             [
              "126"
             ],
             {
              "frame": {
               "duration": 0,
               "redraw": true
              },
              "fromcurrent": true,
              "mode": "immediate",
              "transition": {
               "duration": 0,
               "easing": "linear"
              }
             }
            ],
            "label": "126",
            "method": "animate"
           },
           {
            "args": [
             [
              "133"
             ],
             {
              "frame": {
               "duration": 0,
               "redraw": true
              },
              "fromcurrent": true,
              "mode": "immediate",
              "transition": {
               "duration": 0,
               "easing": "linear"
              }
             }
            ],
            "label": "133",
            "method": "animate"
           },
           {
            "args": [
             [
              "140"
             ],
             {
              "frame": {
               "duration": 0,
               "redraw": true
              },
              "fromcurrent": true,
              "mode": "immediate",
              "transition": {
               "duration": 0,
               "easing": "linear"
              }
             }
            ],
            "label": "140",
            "method": "animate"
           },
           {
            "args": [
             [
              "147"
             ],
             {
              "frame": {
               "duration": 0,
               "redraw": true
              },
              "fromcurrent": true,
              "mode": "immediate",
              "transition": {
               "duration": 0,
               "easing": "linear"
              }
             }
            ],
            "label": "147",
            "method": "animate"
           },
           {
            "args": [
             [
              "154"
             ],
             {
              "frame": {
               "duration": 0,
               "redraw": true
              },
              "fromcurrent": true,
              "mode": "immediate",
              "transition": {
               "duration": 0,
               "easing": "linear"
              }
             }
            ],
            "label": "154",
            "method": "animate"
           },
           {
            "args": [
             [
              "161"
             ],
             {
              "frame": {
               "duration": 0,
               "redraw": true
              },
              "fromcurrent": true,
              "mode": "immediate",
              "transition": {
               "duration": 0,
               "easing": "linear"
              }
             }
            ],
            "label": "161",
            "method": "animate"
           },
           {
            "args": [
             [
              "168"
             ],
             {
              "frame": {
               "duration": 0,
               "redraw": true
              },
              "fromcurrent": true,
              "mode": "immediate",
              "transition": {
               "duration": 0,
               "easing": "linear"
              }
             }
            ],
            "label": "168",
            "method": "animate"
           },
           {
            "args": [
             [
              "175"
             ],
             {
              "frame": {
               "duration": 0,
               "redraw": true
              },
              "fromcurrent": true,
              "mode": "immediate",
              "transition": {
               "duration": 0,
               "easing": "linear"
              }
             }
            ],
            "label": "175",
            "method": "animate"
           },
           {
            "args": [
             [
              "182"
             ],
             {
              "frame": {
               "duration": 0,
               "redraw": true
              },
              "fromcurrent": true,
              "mode": "immediate",
              "transition": {
               "duration": 0,
               "easing": "linear"
              }
             }
            ],
            "label": "182",
            "method": "animate"
           },
           {
            "args": [
             [
              "189"
             ],
             {
              "frame": {
               "duration": 0,
               "redraw": true
              },
              "fromcurrent": true,
              "mode": "immediate",
              "transition": {
               "duration": 0,
               "easing": "linear"
              }
             }
            ],
            "label": "189",
            "method": "animate"
           },
           {
            "args": [
             [
              "196"
             ],
             {
              "frame": {
               "duration": 0,
               "redraw": true
              },
              "fromcurrent": true,
              "mode": "immediate",
              "transition": {
               "duration": 0,
               "easing": "linear"
              }
             }
            ],
            "label": "196",
            "method": "animate"
           },
           {
            "args": [
             [
              "203"
             ],
             {
              "frame": {
               "duration": 0,
               "redraw": true
              },
              "fromcurrent": true,
              "mode": "immediate",
              "transition": {
               "duration": 0,
               "easing": "linear"
              }
             }
            ],
            "label": "203",
            "method": "animate"
           },
           {
            "args": [
             [
              "210"
             ],
             {
              "frame": {
               "duration": 0,
               "redraw": true
              },
              "fromcurrent": true,
              "mode": "immediate",
              "transition": {
               "duration": 0,
               "easing": "linear"
              }
             }
            ],
            "label": "210",
            "method": "animate"
           },
           {
            "args": [
             [
              "217"
             ],
             {
              "frame": {
               "duration": 0,
               "redraw": true
              },
              "fromcurrent": true,
              "mode": "immediate",
              "transition": {
               "duration": 0,
               "easing": "linear"
              }
             }
            ],
            "label": "217",
            "method": "animate"
           },
           {
            "args": [
             [
              "224"
             ],
             {
              "frame": {
               "duration": 0,
               "redraw": true
              },
              "fromcurrent": true,
              "mode": "immediate",
              "transition": {
               "duration": 0,
               "easing": "linear"
              }
             }
            ],
            "label": "224",
            "method": "animate"
           },
           {
            "args": [
             [
              "231"
             ],
             {
              "frame": {
               "duration": 0,
               "redraw": true
              },
              "fromcurrent": true,
              "mode": "immediate",
              "transition": {
               "duration": 0,
               "easing": "linear"
              }
             }
            ],
            "label": "231",
            "method": "animate"
           },
           {
            "args": [
             [
              "238"
             ],
             {
              "frame": {
               "duration": 0,
               "redraw": true
              },
              "fromcurrent": true,
              "mode": "immediate",
              "transition": {
               "duration": 0,
               "easing": "linear"
              }
             }
            ],
            "label": "238",
            "method": "animate"
           },
           {
            "args": [
             [
              "245"
             ],
             {
              "frame": {
               "duration": 0,
               "redraw": true
              },
              "fromcurrent": true,
              "mode": "immediate",
              "transition": {
               "duration": 0,
               "easing": "linear"
              }
             }
            ],
            "label": "245",
            "method": "animate"
           },
           {
            "args": [
             [
              "252"
             ],
             {
              "frame": {
               "duration": 0,
               "redraw": true
              },
              "fromcurrent": true,
              "mode": "immediate",
              "transition": {
               "duration": 0,
               "easing": "linear"
              }
             }
            ],
            "label": "252",
            "method": "animate"
           },
           {
            "args": [
             [
              "259"
             ],
             {
              "frame": {
               "duration": 0,
               "redraw": true
              },
              "fromcurrent": true,
              "mode": "immediate",
              "transition": {
               "duration": 0,
               "easing": "linear"
              }
             }
            ],
            "label": "259",
            "method": "animate"
           },
           {
            "args": [
             [
              "266"
             ],
             {
              "frame": {
               "duration": 0,
               "redraw": true
              },
              "fromcurrent": true,
              "mode": "immediate",
              "transition": {
               "duration": 0,
               "easing": "linear"
              }
             }
            ],
            "label": "266",
            "method": "animate"
           },
           {
            "args": [
             [
              "273"
             ],
             {
              "frame": {
               "duration": 0,
               "redraw": true
              },
              "fromcurrent": true,
              "mode": "immediate",
              "transition": {
               "duration": 0,
               "easing": "linear"
              }
             }
            ],
            "label": "273",
            "method": "animate"
           },
           {
            "args": [
             [
              "280"
             ],
             {
              "frame": {
               "duration": 0,
               "redraw": true
              },
              "fromcurrent": true,
              "mode": "immediate",
              "transition": {
               "duration": 0,
               "easing": "linear"
              }
             }
            ],
            "label": "280",
            "method": "animate"
           },
           {
            "args": [
             [
              "287"
             ],
             {
              "frame": {
               "duration": 0,
               "redraw": true
              },
              "fromcurrent": true,
              "mode": "immediate",
              "transition": {
               "duration": 0,
               "easing": "linear"
              }
             }
            ],
            "label": "287",
            "method": "animate"
           },
           {
            "args": [
             [
              "294"
             ],
             {
              "frame": {
               "duration": 0,
               "redraw": true
              },
              "fromcurrent": true,
              "mode": "immediate",
              "transition": {
               "duration": 0,
               "easing": "linear"
              }
             }
            ],
            "label": "294",
            "method": "animate"
           },
           {
            "args": [
             [
              "301"
             ],
             {
              "frame": {
               "duration": 0,
               "redraw": true
              },
              "fromcurrent": true,
              "mode": "immediate",
              "transition": {
               "duration": 0,
               "easing": "linear"
              }
             }
            ],
            "label": "301",
            "method": "animate"
           },
           {
            "args": [
             [
              "308"
             ],
             {
              "frame": {
               "duration": 0,
               "redraw": true
              },
              "fromcurrent": true,
              "mode": "immediate",
              "transition": {
               "duration": 0,
               "easing": "linear"
              }
             }
            ],
            "label": "308",
            "method": "animate"
           },
           {
            "args": [
             [
              "315"
             ],
             {
              "frame": {
               "duration": 0,
               "redraw": true
              },
              "fromcurrent": true,
              "mode": "immediate",
              "transition": {
               "duration": 0,
               "easing": "linear"
              }
             }
            ],
            "label": "315",
            "method": "animate"
           },
           {
            "args": [
             [
              "322"
             ],
             {
              "frame": {
               "duration": 0,
               "redraw": true
              },
              "fromcurrent": true,
              "mode": "immediate",
              "transition": {
               "duration": 0,
               "easing": "linear"
              }
             }
            ],
            "label": "322",
            "method": "animate"
           },
           {
            "args": [
             [
              "329"
             ],
             {
              "frame": {
               "duration": 0,
               "redraw": true
              },
              "fromcurrent": true,
              "mode": "immediate",
              "transition": {
               "duration": 0,
               "easing": "linear"
              }
             }
            ],
            "label": "329",
            "method": "animate"
           },
           {
            "args": [
             [
              "336"
             ],
             {
              "frame": {
               "duration": 0,
               "redraw": true
              },
              "fromcurrent": true,
              "mode": "immediate",
              "transition": {
               "duration": 0,
               "easing": "linear"
              }
             }
            ],
            "label": "336",
            "method": "animate"
           },
           {
            "args": [
             [
              "343"
             ],
             {
              "frame": {
               "duration": 0,
               "redraw": true
              },
              "fromcurrent": true,
              "mode": "immediate",
              "transition": {
               "duration": 0,
               "easing": "linear"
              }
             }
            ],
            "label": "343",
            "method": "animate"
           },
           {
            "args": [
             [
              "350"
             ],
             {
              "frame": {
               "duration": 0,
               "redraw": true
              },
              "fromcurrent": true,
              "mode": "immediate",
              "transition": {
               "duration": 0,
               "easing": "linear"
              }
             }
            ],
            "label": "350",
            "method": "animate"
           },
           {
            "args": [
             [
              "357"
             ],
             {
              "frame": {
               "duration": 0,
               "redraw": true
              },
              "fromcurrent": true,
              "mode": "immediate",
              "transition": {
               "duration": 0,
               "easing": "linear"
              }
             }
            ],
            "label": "357",
            "method": "animate"
           },
           {
            "args": [
             [
              "364"
             ],
             {
              "frame": {
               "duration": 0,
               "redraw": true
              },
              "fromcurrent": true,
              "mode": "immediate",
              "transition": {
               "duration": 0,
               "easing": "linear"
              }
             }
            ],
            "label": "364",
            "method": "animate"
           }
          ],
          "x": 0.1,
          "xanchor": "left",
          "y": 0,
          "yanchor": "top"
         }
        ],
        "template": {
         "data": {
          "bar": [
           {
            "error_x": {
             "color": "#f2f5fa"
            },
            "error_y": {
             "color": "#f2f5fa"
            },
            "marker": {
             "line": {
              "color": "rgb(17,17,17)",
              "width": 0.5
             }
            },
            "type": "bar"
           }
          ],
          "barpolar": [
           {
            "marker": {
             "line": {
              "color": "rgb(17,17,17)",
              "width": 0.5
             }
            },
            "type": "barpolar"
           }
          ],
          "carpet": [
           {
            "aaxis": {
             "endlinecolor": "#A2B1C6",
             "gridcolor": "#506784",
             "linecolor": "#506784",
             "minorgridcolor": "#506784",
             "startlinecolor": "#A2B1C6"
            },
            "baxis": {
             "endlinecolor": "#A2B1C6",
             "gridcolor": "#506784",
             "linecolor": "#506784",
             "minorgridcolor": "#506784",
             "startlinecolor": "#A2B1C6"
            },
            "type": "carpet"
           }
          ],
          "choropleth": [
           {
            "colorbar": {
             "outlinewidth": 0,
             "ticks": ""
            },
            "type": "choropleth"
           }
          ],
          "contour": [
           {
            "colorbar": {
             "outlinewidth": 0,
             "ticks": ""
            },
            "colorscale": [
             [
              0,
              "#0d0887"
             ],
             [
              0.1111111111111111,
              "#46039f"
             ],
             [
              0.2222222222222222,
              "#7201a8"
             ],
             [
              0.3333333333333333,
              "#9c179e"
             ],
             [
              0.4444444444444444,
              "#bd3786"
             ],
             [
              0.5555555555555556,
              "#d8576b"
             ],
             [
              0.6666666666666666,
              "#ed7953"
             ],
             [
              0.7777777777777778,
              "#fb9f3a"
             ],
             [
              0.8888888888888888,
              "#fdca26"
             ],
             [
              1,
              "#f0f921"
             ]
            ],
            "type": "contour"
           }
          ],
          "contourcarpet": [
           {
            "colorbar": {
             "outlinewidth": 0,
             "ticks": ""
            },
            "type": "contourcarpet"
           }
          ],
          "heatmap": [
           {
            "colorbar": {
             "outlinewidth": 0,
             "ticks": ""
            },
            "colorscale": [
             [
              0,
              "#0d0887"
             ],
             [
              0.1111111111111111,
              "#46039f"
             ],
             [
              0.2222222222222222,
              "#7201a8"
             ],
             [
              0.3333333333333333,
              "#9c179e"
             ],
             [
              0.4444444444444444,
              "#bd3786"
             ],
             [
              0.5555555555555556,
              "#d8576b"
             ],
             [
              0.6666666666666666,
              "#ed7953"
             ],
             [
              0.7777777777777778,
              "#fb9f3a"
             ],
             [
              0.8888888888888888,
              "#fdca26"
             ],
             [
              1,
              "#f0f921"
             ]
            ],
            "type": "heatmap"
           }
          ],
          "heatmapgl": [
           {
            "colorbar": {
             "outlinewidth": 0,
             "ticks": ""
            },
            "colorscale": [
             [
              0,
              "#0d0887"
             ],
             [
              0.1111111111111111,
              "#46039f"
             ],
             [
              0.2222222222222222,
              "#7201a8"
             ],
             [
              0.3333333333333333,
              "#9c179e"
             ],
             [
              0.4444444444444444,
              "#bd3786"
             ],
             [
              0.5555555555555556,
              "#d8576b"
             ],
             [
              0.6666666666666666,
              "#ed7953"
             ],
             [
              0.7777777777777778,
              "#fb9f3a"
             ],
             [
              0.8888888888888888,
              "#fdca26"
             ],
             [
              1,
              "#f0f921"
             ]
            ],
            "type": "heatmapgl"
           }
          ],
          "histogram": [
           {
            "marker": {
             "colorbar": {
              "outlinewidth": 0,
              "ticks": ""
             }
            },
            "type": "histogram"
           }
          ],
          "histogram2d": [
           {
            "colorbar": {
             "outlinewidth": 0,
             "ticks": ""
            },
            "colorscale": [
             [
              0,
              "#0d0887"
             ],
             [
              0.1111111111111111,
              "#46039f"
             ],
             [
              0.2222222222222222,
              "#7201a8"
             ],
             [
              0.3333333333333333,
              "#9c179e"
             ],
             [
              0.4444444444444444,
              "#bd3786"
             ],
             [
              0.5555555555555556,
              "#d8576b"
             ],
             [
              0.6666666666666666,
              "#ed7953"
             ],
             [
              0.7777777777777778,
              "#fb9f3a"
             ],
             [
              0.8888888888888888,
              "#fdca26"
             ],
             [
              1,
              "#f0f921"
             ]
            ],
            "type": "histogram2d"
           }
          ],
          "histogram2dcontour": [
           {
            "colorbar": {
             "outlinewidth": 0,
             "ticks": ""
            },
            "colorscale": [
             [
              0,
              "#0d0887"
             ],
             [
              0.1111111111111111,
              "#46039f"
             ],
             [
              0.2222222222222222,
              "#7201a8"
             ],
             [
              0.3333333333333333,
              "#9c179e"
             ],
             [
              0.4444444444444444,
              "#bd3786"
             ],
             [
              0.5555555555555556,
              "#d8576b"
             ],
             [
              0.6666666666666666,
              "#ed7953"
             ],
             [
              0.7777777777777778,
              "#fb9f3a"
             ],
             [
              0.8888888888888888,
              "#fdca26"
             ],
             [
              1,
              "#f0f921"
             ]
            ],
            "type": "histogram2dcontour"
           }
          ],
          "mesh3d": [
           {
            "colorbar": {
             "outlinewidth": 0,
             "ticks": ""
            },
            "type": "mesh3d"
           }
          ],
          "parcoords": [
           {
            "line": {
             "colorbar": {
              "outlinewidth": 0,
              "ticks": ""
             }
            },
            "type": "parcoords"
           }
          ],
          "pie": [
           {
            "automargin": true,
            "type": "pie"
           }
          ],
          "scatter": [
           {
            "marker": {
             "line": {
              "color": "#283442"
             }
            },
            "type": "scatter"
           }
          ],
          "scatter3d": [
           {
            "line": {
             "colorbar": {
              "outlinewidth": 0,
              "ticks": ""
             }
            },
            "marker": {
             "colorbar": {
              "outlinewidth": 0,
              "ticks": ""
             }
            },
            "type": "scatter3d"
           }
          ],
          "scattercarpet": [
           {
            "marker": {
             "colorbar": {
              "outlinewidth": 0,
              "ticks": ""
             }
            },
            "type": "scattercarpet"
           }
          ],
          "scattergeo": [
           {
            "marker": {
             "colorbar": {
              "outlinewidth": 0,
              "ticks": ""
             }
            },
            "type": "scattergeo"
           }
          ],
          "scattergl": [
           {
            "marker": {
             "line": {
              "color": "#283442"
             }
            },
            "type": "scattergl"
           }
          ],
          "scattermapbox": [
           {
            "marker": {
             "colorbar": {
              "outlinewidth": 0,
              "ticks": ""
             }
            },
            "type": "scattermapbox"
           }
          ],
          "scatterpolar": [
           {
            "marker": {
             "colorbar": {
              "outlinewidth": 0,
              "ticks": ""
             }
            },
            "type": "scatterpolar"
           }
          ],
          "scatterpolargl": [
           {
            "marker": {
             "colorbar": {
              "outlinewidth": 0,
              "ticks": ""
             }
            },
            "type": "scatterpolargl"
           }
          ],
          "scatterternary": [
           {
            "marker": {
             "colorbar": {
              "outlinewidth": 0,
              "ticks": ""
             }
            },
            "type": "scatterternary"
           }
          ],
          "surface": [
           {
            "colorbar": {
             "outlinewidth": 0,
             "ticks": ""
            },
            "colorscale": [
             [
              0,
              "#0d0887"
             ],
             [
              0.1111111111111111,
              "#46039f"
             ],
             [
              0.2222222222222222,
              "#7201a8"
             ],
             [
              0.3333333333333333,
              "#9c179e"
             ],
             [
              0.4444444444444444,
              "#bd3786"
             ],
             [
              0.5555555555555556,
              "#d8576b"
             ],
             [
              0.6666666666666666,
              "#ed7953"
             ],
             [
              0.7777777777777778,
              "#fb9f3a"
             ],
             [
              0.8888888888888888,
              "#fdca26"
             ],
             [
              1,
              "#f0f921"
             ]
            ],
            "type": "surface"
           }
          ],
          "table": [
           {
            "cells": {
             "fill": {
              "color": "#506784"
             },
             "line": {
              "color": "rgb(17,17,17)"
             }
            },
            "header": {
             "fill": {
              "color": "#2a3f5f"
             },
             "line": {
              "color": "rgb(17,17,17)"
             }
            },
            "type": "table"
           }
          ]
         },
         "layout": {
          "annotationdefaults": {
           "arrowcolor": "#f2f5fa",
           "arrowhead": 0,
           "arrowwidth": 1
          },
          "autotypenumbers": "strict",
          "coloraxis": {
           "colorbar": {
            "outlinewidth": 0,
            "ticks": ""
           }
          },
          "colorscale": {
           "diverging": [
            [
             0,
             "#8e0152"
            ],
            [
             0.1,
             "#c51b7d"
            ],
            [
             0.2,
             "#de77ae"
            ],
            [
             0.3,
             "#f1b6da"
            ],
            [
             0.4,
             "#fde0ef"
            ],
            [
             0.5,
             "#f7f7f7"
            ],
            [
             0.6,
             "#e6f5d0"
            ],
            [
             0.7,
             "#b8e186"
            ],
            [
             0.8,
             "#7fbc41"
            ],
            [
             0.9,
             "#4d9221"
            ],
            [
             1,
             "#276419"
            ]
           ],
           "sequential": [
            [
             0,
             "#0d0887"
            ],
            [
             0.1111111111111111,
             "#46039f"
            ],
            [
             0.2222222222222222,
             "#7201a8"
            ],
            [
             0.3333333333333333,
             "#9c179e"
            ],
            [
             0.4444444444444444,
             "#bd3786"
            ],
            [
             0.5555555555555556,
             "#d8576b"
            ],
            [
             0.6666666666666666,
             "#ed7953"
            ],
            [
             0.7777777777777778,
             "#fb9f3a"
            ],
            [
             0.8888888888888888,
             "#fdca26"
            ],
            [
             1,
             "#f0f921"
            ]
           ],
           "sequentialminus": [
            [
             0,
             "#0d0887"
            ],
            [
             0.1111111111111111,
             "#46039f"
            ],
            [
             0.2222222222222222,
             "#7201a8"
            ],
            [
             0.3333333333333333,
             "#9c179e"
            ],
            [
             0.4444444444444444,
             "#bd3786"
            ],
            [
             0.5555555555555556,
             "#d8576b"
            ],
            [
             0.6666666666666666,
             "#ed7953"
            ],
            [
             0.7777777777777778,
             "#fb9f3a"
            ],
            [
             0.8888888888888888,
             "#fdca26"
            ],
            [
             1,
             "#f0f921"
            ]
           ]
          },
          "colorway": [
           "#636efa",
           "#EF553B",
           "#00cc96",
           "#ab63fa",
           "#FFA15A",
           "#19d3f3",
           "#FF6692",
           "#B6E880",
           "#FF97FF",
           "#FECB52"
          ],
          "font": {
           "color": "#f2f5fa"
          },
          "geo": {
           "bgcolor": "rgb(17,17,17)",
           "lakecolor": "rgb(17,17,17)",
           "landcolor": "rgb(17,17,17)",
           "showlakes": true,
           "showland": true,
           "subunitcolor": "#506784"
          },
          "hoverlabel": {
           "align": "left"
          },
          "hovermode": "closest",
          "mapbox": {
           "style": "dark"
          },
          "paper_bgcolor": "rgb(17,17,17)",
          "plot_bgcolor": "rgb(17,17,17)",
          "polar": {
           "angularaxis": {
            "gridcolor": "#506784",
            "linecolor": "#506784",
            "ticks": ""
           },
           "bgcolor": "rgb(17,17,17)",
           "radialaxis": {
            "gridcolor": "#506784",
            "linecolor": "#506784",
            "ticks": ""
           }
          },
          "scene": {
           "xaxis": {
            "backgroundcolor": "rgb(17,17,17)",
            "gridcolor": "#506784",
            "gridwidth": 2,
            "linecolor": "#506784",
            "showbackground": true,
            "ticks": "",
            "zerolinecolor": "#C8D4E3"
           },
           "yaxis": {
            "backgroundcolor": "rgb(17,17,17)",
            "gridcolor": "#506784",
            "gridwidth": 2,
            "linecolor": "#506784",
            "showbackground": true,
            "ticks": "",
            "zerolinecolor": "#C8D4E3"
           },
           "zaxis": {
            "backgroundcolor": "rgb(17,17,17)",
            "gridcolor": "#506784",
            "gridwidth": 2,
            "linecolor": "#506784",
            "showbackground": true,
            "ticks": "",
            "zerolinecolor": "#C8D4E3"
           }
          },
          "shapedefaults": {
           "line": {
            "color": "#f2f5fa"
           }
          },
          "sliderdefaults": {
           "bgcolor": "#C8D4E3",
           "bordercolor": "rgb(17,17,17)",
           "borderwidth": 1,
           "tickwidth": 0
          },
          "ternary": {
           "aaxis": {
            "gridcolor": "#506784",
            "linecolor": "#506784",
            "ticks": ""
           },
           "baxis": {
            "gridcolor": "#506784",
            "linecolor": "#506784",
            "ticks": ""
           },
           "bgcolor": "rgb(17,17,17)",
           "caxis": {
            "gridcolor": "#506784",
            "linecolor": "#506784",
            "ticks": ""
           }
          },
          "title": {
           "x": 0.05
          },
          "updatemenudefaults": {
           "bgcolor": "#506784",
           "borderwidth": 0
          },
          "xaxis": {
           "automargin": true,
           "gridcolor": "#283442",
           "linecolor": "#506784",
           "ticks": "",
           "title": {
            "standoff": 15
           },
           "zerolinecolor": "#283442",
           "zerolinewidth": 2
          },
          "yaxis": {
           "automargin": true,
           "gridcolor": "#283442",
           "linecolor": "#506784",
           "ticks": "",
           "title": {
            "standoff": 15
           },
           "zerolinecolor": "#283442",
           "zerolinewidth": 2
          }
         }
        },
        "updatemenus": [
         {
          "buttons": [
           {
            "args": [
             null,
             {
              "frame": {
               "duration": 500,
               "redraw": true
              },
              "fromcurrent": true,
              "mode": "immediate",
              "transition": {
               "duration": 500,
               "easing": "linear"
              }
             }
            ],
            "label": "&#9654;",
            "method": "animate"
           },
           {
            "args": [
             [
              null
             ],
             {
              "frame": {
               "duration": 0,
               "redraw": true
              },
              "fromcurrent": true,
              "mode": "immediate",
              "transition": {
               "duration": 0,
               "easing": "linear"
              }
             }
            ],
            "label": "&#9724;",
            "method": "animate"
           }
          ],
          "direction": "left",
          "pad": {
           "r": 10,
           "t": 70
          },
          "showactive": false,
          "type": "buttons",
          "x": 0.1,
          "xanchor": "right",
          "y": 0,
          "yanchor": "top"
         }
        ]
       }
      },
      "text/html": [
       "<div>                            <div id=\"535155d2-4355-4cfd-b72e-3e4c91295c76\" class=\"plotly-graph-div\" style=\"height:525px; width:100%;\"></div>            <script type=\"text/javascript\">                require([\"plotly\"], function(Plotly) {                    window.PLOTLYENV=window.PLOTLYENV || {};                                    if (document.getElementById(\"535155d2-4355-4cfd-b72e-3e4c91295c76\")) {                    Plotly.newPlot(                        \"535155d2-4355-4cfd-b72e-3e4c91295c76\",                        [{\"hovertemplate\": \"name=Sun<br>index=0<br>x=%{x}<br>y=%{y}<br>z=%{z}<br>radius=%{marker.size}<extra></extra>\", \"ids\": [\"Sun\"], \"legendgroup\": \"Sun\", \"marker\": {\"color\": \"orange\", \"size\": [20.36134860476573], \"sizemode\": \"area\", \"sizeref\": 0.050903371511914326, \"symbol\": \"circle\"}, \"mode\": \"markers\", \"name\": \"Sun\", \"scene\": \"scene\", \"showlegend\": true, \"type\": \"scatter3d\", \"x\": [0.0], \"y\": [0.0], \"z\": [0.0]}, {\"hovertemplate\": \"name=Mars<br>index=0<br>x=%{x}<br>y=%{y}<br>z=%{z}<br>radius=%{marker.size}<extra></extra>\", \"ids\": [\"Mars\"], \"legendgroup\": \"Mars\", \"marker\": {\"color\": \"crimson\", \"size\": [8.12843769687102], \"sizemode\": \"area\", \"sizeref\": 0.050903371511914326, \"symbol\": \"circle\"}, \"mode\": \"markers\", \"name\": \"Mars\", \"scene\": \"scene\", \"showlegend\": true, \"type\": \"scatter3d\", \"x\": [179966238452.1], \"y\": [108772611785.97], \"z\": [45028959080.7]}, {\"hovertemplate\": \"name=Mercury<br>index=0<br>x=%{x}<br>y=%{y}<br>z=%{z}<br>radius=%{marker.size}<extra></extra>\", \"ids\": [\"Mercury\"], \"legendgroup\": \"Mercury\", \"marker\": {\"color\": \"cornflowerblue\", \"size\": [7.7996303599085035], \"sizemode\": \"area\", \"sizeref\": 0.050903371511914326, \"symbol\": \"circle\"}, \"mode\": \"markers\", \"name\": \"Mercury\", \"scene\": \"scene\", \"showlegend\": true, \"type\": \"scatter3d\", \"x\": [-37444347036.21001], \"y\": [28019681182.11], \"z\": [18849331708.2]}, {\"hovertemplate\": \"name=Neptune<br>index=0<br>x=%{x}<br>y=%{y}<br>z=%{z}<br>radius=%{marker.size}<extra></extra>\", \"ids\": [\"Neptune\"], \"legendgroup\": \"Neptune\", \"marker\": {\"color\": \"cyan\", \"size\": [10.15120663641638], \"sizemode\": \"area\", \"sizeref\": 0.050903371511914326, \"symbol\": \"circle\"}, \"mode\": \"markers\", \"name\": \"Neptune\", \"scene\": \"scene\", \"showlegend\": true, \"type\": \"scatter3d\", \"x\": [2535683908365.0], \"y\": [-3424295260323.0], \"z\": [-1464563154152.9998]}, {\"hovertemplate\": \"name=Saturn<br>index=0<br>x=%{x}<br>y=%{y}<br>z=%{z}<br>radius=%{marker.size}<extra></extra>\", \"ids\": [\"Saturn\"], \"legendgroup\": \"Saturn\", \"marker\": {\"color\": \"khaki\", \"size\": [10.972190310798094], \"sizemode\": \"area\", \"sizeref\": 0.050903371511914326, \"symbol\": \"circle\"}, \"mode\": \"markers\", \"name\": \"Saturn\", \"scene\": \"scene\", \"showlegend\": true, \"type\": \"scatter3d\", \"x\": [922121274994.8], \"y\": [952489642746.9], \"z\": [353798964205.50006]}, {\"hovertemplate\": \"name=Uranus<br>index=0<br>x=%{x}<br>y=%{y}<br>z=%{z}<br>radius=%{marker.size}<extra></extra>\", \"ids\": [\"Uranus\"], \"legendgroup\": \"Uranus\", \"marker\": {\"color\": \"lightcyan\", \"size\": [10.141007269794844], \"sizemode\": \"area\", \"sizeref\": 0.050903371511914326, \"symbol\": \"circle\"}, \"mode\": \"markers\", \"name\": \"Uranus\", \"scene\": \"scene\", \"showlegend\": true, \"type\": \"scatter3d\", \"x\": [2181136954806.0], \"y\": [-1850525660559.0], \"z\": [-841338424816.7999]}, {\"hovertemplate\": \"name=Jupiter<br>index=0<br>x=%{x}<br>y=%{y}<br>z=%{z}<br>radius=%{marker.size}<extra></extra>\", \"ids\": [\"Jupiter\"], \"legendgroup\": \"Jupiter\", \"marker\": {\"color\": \"chocolate\", \"size\": [11.154978283509006], \"sizemode\": \"area\", \"sizeref\": 0.050903371511914326, \"symbol\": \"circle\"}, \"mode\": \"markers\", \"name\": \"Jupiter\", \"scene\": \"scene\", \"showlegend\": true, \"type\": \"scatter3d\", \"x\": [558448851323.1], \"y\": [456572701376.4], \"z\": [182060608641.9]}, {\"hovertemplate\": \"name=Earth<br>index=0<br>x=%{x}<br>y=%{y}<br>z=%{z}<br>radius=%{marker.size}<extra></extra>\", \"ids\": [\"Earth\"], \"legendgroup\": \"Earth\", \"marker\": {\"color\": \"green\", \"size\": [8.759511722116487], \"sizemode\": \"area\", \"sizeref\": 0.050903371511914326, \"symbol\": \"circle\"}, \"mode\": \"markers\", \"name\": \"Earth\", \"scene\": \"scene\", \"showlegend\": true, \"type\": \"scatter3d\", \"x\": [-136014384040.44], \"y\": [53750514942.51], \"z\": [23307348255.06]}],                        {\"legend\": {\"itemsizing\": \"constant\", \"title\": {\"text\": \"name\"}, \"tracegroupgap\": 0}, \"margin\": {\"t\": 60}, \"scene\": {\"domain\": {\"x\": [0.0, 1.0], \"y\": [0.0, 1.0]}, \"xaxis\": {\"title\": {\"text\": \"x\"}}, \"yaxis\": {\"title\": {\"text\": \"y\"}}, \"zaxis\": {\"title\": {\"text\": \"z\"}}}, \"sliders\": [{\"active\": 0, \"currentvalue\": {\"prefix\": \"index=\"}, \"len\": 0.9, \"pad\": {\"b\": 10, \"t\": 60}, \"steps\": [{\"args\": [[\"0\"], {\"frame\": {\"duration\": 0, \"redraw\": true}, \"fromcurrent\": true, \"mode\": \"immediate\", \"transition\": {\"duration\": 0, \"easing\": \"linear\"}}], \"label\": \"0\", \"method\": \"animate\"}, {\"args\": [[\"7\"], {\"frame\": {\"duration\": 0, \"redraw\": true}, \"fromcurrent\": true, \"mode\": \"immediate\", \"transition\": {\"duration\": 0, \"easing\": \"linear\"}}], \"label\": \"7\", \"method\": \"animate\"}, {\"args\": [[\"14\"], {\"frame\": {\"duration\": 0, \"redraw\": true}, \"fromcurrent\": true, \"mode\": \"immediate\", \"transition\": {\"duration\": 0, \"easing\": \"linear\"}}], \"label\": \"14\", \"method\": \"animate\"}, {\"args\": [[\"21\"], {\"frame\": {\"duration\": 0, \"redraw\": true}, \"fromcurrent\": true, \"mode\": \"immediate\", \"transition\": {\"duration\": 0, \"easing\": \"linear\"}}], \"label\": \"21\", \"method\": \"animate\"}, {\"args\": [[\"28\"], {\"frame\": {\"duration\": 0, \"redraw\": true}, \"fromcurrent\": true, \"mode\": \"immediate\", \"transition\": {\"duration\": 0, \"easing\": \"linear\"}}], \"label\": \"28\", \"method\": \"animate\"}, {\"args\": [[\"35\"], {\"frame\": {\"duration\": 0, \"redraw\": true}, \"fromcurrent\": true, \"mode\": \"immediate\", \"transition\": {\"duration\": 0, \"easing\": \"linear\"}}], \"label\": \"35\", \"method\": \"animate\"}, {\"args\": [[\"42\"], {\"frame\": {\"duration\": 0, \"redraw\": true}, \"fromcurrent\": true, \"mode\": \"immediate\", \"transition\": {\"duration\": 0, \"easing\": \"linear\"}}], \"label\": \"42\", \"method\": \"animate\"}, {\"args\": [[\"49\"], {\"frame\": {\"duration\": 0, \"redraw\": true}, \"fromcurrent\": true, \"mode\": \"immediate\", \"transition\": {\"duration\": 0, \"easing\": \"linear\"}}], \"label\": \"49\", \"method\": \"animate\"}, {\"args\": [[\"56\"], {\"frame\": {\"duration\": 0, \"redraw\": true}, \"fromcurrent\": true, \"mode\": \"immediate\", \"transition\": {\"duration\": 0, \"easing\": \"linear\"}}], \"label\": \"56\", \"method\": \"animate\"}, {\"args\": [[\"63\"], {\"frame\": {\"duration\": 0, \"redraw\": true}, \"fromcurrent\": true, \"mode\": \"immediate\", \"transition\": {\"duration\": 0, \"easing\": \"linear\"}}], \"label\": \"63\", \"method\": \"animate\"}, {\"args\": [[\"70\"], {\"frame\": {\"duration\": 0, \"redraw\": true}, \"fromcurrent\": true, \"mode\": \"immediate\", \"transition\": {\"duration\": 0, \"easing\": \"linear\"}}], \"label\": \"70\", \"method\": \"animate\"}, {\"args\": [[\"77\"], {\"frame\": {\"duration\": 0, \"redraw\": true}, \"fromcurrent\": true, \"mode\": \"immediate\", \"transition\": {\"duration\": 0, \"easing\": \"linear\"}}], \"label\": \"77\", \"method\": \"animate\"}, {\"args\": [[\"84\"], {\"frame\": {\"duration\": 0, \"redraw\": true}, \"fromcurrent\": true, \"mode\": \"immediate\", \"transition\": {\"duration\": 0, \"easing\": \"linear\"}}], \"label\": \"84\", \"method\": \"animate\"}, {\"args\": [[\"91\"], {\"frame\": {\"duration\": 0, \"redraw\": true}, \"fromcurrent\": true, \"mode\": \"immediate\", \"transition\": {\"duration\": 0, \"easing\": \"linear\"}}], \"label\": \"91\", \"method\": \"animate\"}, {\"args\": [[\"98\"], {\"frame\": {\"duration\": 0, \"redraw\": true}, \"fromcurrent\": true, \"mode\": \"immediate\", \"transition\": {\"duration\": 0, \"easing\": \"linear\"}}], \"label\": \"98\", \"method\": \"animate\"}, {\"args\": [[\"105\"], {\"frame\": {\"duration\": 0, \"redraw\": true}, \"fromcurrent\": true, \"mode\": \"immediate\", \"transition\": {\"duration\": 0, \"easing\": \"linear\"}}], \"label\": \"105\", \"method\": \"animate\"}, {\"args\": [[\"112\"], {\"frame\": {\"duration\": 0, \"redraw\": true}, \"fromcurrent\": true, \"mode\": \"immediate\", \"transition\": {\"duration\": 0, \"easing\": \"linear\"}}], \"label\": \"112\", \"method\": \"animate\"}, {\"args\": [[\"119\"], {\"frame\": {\"duration\": 0, \"redraw\": true}, \"fromcurrent\": true, \"mode\": \"immediate\", \"transition\": {\"duration\": 0, \"easing\": \"linear\"}}], \"label\": \"119\", \"method\": \"animate\"}, {\"args\": [[\"126\"], {\"frame\": {\"duration\": 0, \"redraw\": true}, \"fromcurrent\": true, \"mode\": \"immediate\", \"transition\": {\"duration\": 0, \"easing\": \"linear\"}}], \"label\": \"126\", \"method\": \"animate\"}, {\"args\": [[\"133\"], {\"frame\": {\"duration\": 0, \"redraw\": true}, \"fromcurrent\": true, \"mode\": \"immediate\", \"transition\": {\"duration\": 0, \"easing\": \"linear\"}}], \"label\": \"133\", \"method\": \"animate\"}, {\"args\": [[\"140\"], {\"frame\": {\"duration\": 0, \"redraw\": true}, \"fromcurrent\": true, \"mode\": \"immediate\", \"transition\": {\"duration\": 0, \"easing\": \"linear\"}}], \"label\": \"140\", \"method\": \"animate\"}, {\"args\": [[\"147\"], {\"frame\": {\"duration\": 0, \"redraw\": true}, \"fromcurrent\": true, \"mode\": \"immediate\", \"transition\": {\"duration\": 0, \"easing\": \"linear\"}}], \"label\": \"147\", \"method\": \"animate\"}, {\"args\": [[\"154\"], {\"frame\": {\"duration\": 0, \"redraw\": true}, \"fromcurrent\": true, \"mode\": \"immediate\", \"transition\": {\"duration\": 0, \"easing\": \"linear\"}}], \"label\": \"154\", \"method\": \"animate\"}, {\"args\": [[\"161\"], {\"frame\": {\"duration\": 0, \"redraw\": true}, \"fromcurrent\": true, \"mode\": \"immediate\", \"transition\": {\"duration\": 0, \"easing\": \"linear\"}}], \"label\": \"161\", \"method\": \"animate\"}, {\"args\": [[\"168\"], {\"frame\": {\"duration\": 0, \"redraw\": true}, \"fromcurrent\": true, \"mode\": \"immediate\", \"transition\": {\"duration\": 0, \"easing\": \"linear\"}}], \"label\": \"168\", \"method\": \"animate\"}, {\"args\": [[\"175\"], {\"frame\": {\"duration\": 0, \"redraw\": true}, \"fromcurrent\": true, \"mode\": \"immediate\", \"transition\": {\"duration\": 0, \"easing\": \"linear\"}}], \"label\": \"175\", \"method\": \"animate\"}, {\"args\": [[\"182\"], {\"frame\": {\"duration\": 0, \"redraw\": true}, \"fromcurrent\": true, \"mode\": \"immediate\", \"transition\": {\"duration\": 0, \"easing\": \"linear\"}}], \"label\": \"182\", \"method\": \"animate\"}, {\"args\": [[\"189\"], {\"frame\": {\"duration\": 0, \"redraw\": true}, \"fromcurrent\": true, \"mode\": \"immediate\", \"transition\": {\"duration\": 0, \"easing\": \"linear\"}}], \"label\": \"189\", \"method\": \"animate\"}, {\"args\": [[\"196\"], {\"frame\": {\"duration\": 0, \"redraw\": true}, \"fromcurrent\": true, \"mode\": \"immediate\", \"transition\": {\"duration\": 0, \"easing\": \"linear\"}}], \"label\": \"196\", \"method\": \"animate\"}, {\"args\": [[\"203\"], {\"frame\": {\"duration\": 0, \"redraw\": true}, \"fromcurrent\": true, \"mode\": \"immediate\", \"transition\": {\"duration\": 0, \"easing\": \"linear\"}}], \"label\": \"203\", \"method\": \"animate\"}, {\"args\": [[\"210\"], {\"frame\": {\"duration\": 0, \"redraw\": true}, \"fromcurrent\": true, \"mode\": \"immediate\", \"transition\": {\"duration\": 0, \"easing\": \"linear\"}}], \"label\": \"210\", \"method\": \"animate\"}, {\"args\": [[\"217\"], {\"frame\": {\"duration\": 0, \"redraw\": true}, \"fromcurrent\": true, \"mode\": \"immediate\", \"transition\": {\"duration\": 0, \"easing\": \"linear\"}}], \"label\": \"217\", \"method\": \"animate\"}, {\"args\": [[\"224\"], {\"frame\": {\"duration\": 0, \"redraw\": true}, \"fromcurrent\": true, \"mode\": \"immediate\", \"transition\": {\"duration\": 0, \"easing\": \"linear\"}}], \"label\": \"224\", \"method\": \"animate\"}, {\"args\": [[\"231\"], {\"frame\": {\"duration\": 0, \"redraw\": true}, \"fromcurrent\": true, \"mode\": \"immediate\", \"transition\": {\"duration\": 0, \"easing\": \"linear\"}}], \"label\": \"231\", \"method\": \"animate\"}, {\"args\": [[\"238\"], {\"frame\": {\"duration\": 0, \"redraw\": true}, \"fromcurrent\": true, \"mode\": \"immediate\", \"transition\": {\"duration\": 0, \"easing\": \"linear\"}}], \"label\": \"238\", \"method\": \"animate\"}, {\"args\": [[\"245\"], {\"frame\": {\"duration\": 0, \"redraw\": true}, \"fromcurrent\": true, \"mode\": \"immediate\", \"transition\": {\"duration\": 0, \"easing\": \"linear\"}}], \"label\": \"245\", \"method\": \"animate\"}, {\"args\": [[\"252\"], {\"frame\": {\"duration\": 0, \"redraw\": true}, \"fromcurrent\": true, \"mode\": \"immediate\", \"transition\": {\"duration\": 0, \"easing\": \"linear\"}}], \"label\": \"252\", \"method\": \"animate\"}, {\"args\": [[\"259\"], {\"frame\": {\"duration\": 0, \"redraw\": true}, \"fromcurrent\": true, \"mode\": \"immediate\", \"transition\": {\"duration\": 0, \"easing\": \"linear\"}}], \"label\": \"259\", \"method\": \"animate\"}, {\"args\": [[\"266\"], {\"frame\": {\"duration\": 0, \"redraw\": true}, \"fromcurrent\": true, \"mode\": \"immediate\", \"transition\": {\"duration\": 0, \"easing\": \"linear\"}}], \"label\": \"266\", \"method\": \"animate\"}, {\"args\": [[\"273\"], {\"frame\": {\"duration\": 0, \"redraw\": true}, \"fromcurrent\": true, \"mode\": \"immediate\", \"transition\": {\"duration\": 0, \"easing\": \"linear\"}}], \"label\": \"273\", \"method\": \"animate\"}, {\"args\": [[\"280\"], {\"frame\": {\"duration\": 0, \"redraw\": true}, \"fromcurrent\": true, \"mode\": \"immediate\", \"transition\": {\"duration\": 0, \"easing\": \"linear\"}}], \"label\": \"280\", \"method\": \"animate\"}, {\"args\": [[\"287\"], {\"frame\": {\"duration\": 0, \"redraw\": true}, \"fromcurrent\": true, \"mode\": \"immediate\", \"transition\": {\"duration\": 0, \"easing\": \"linear\"}}], \"label\": \"287\", \"method\": \"animate\"}, {\"args\": [[\"294\"], {\"frame\": {\"duration\": 0, \"redraw\": true}, \"fromcurrent\": true, \"mode\": \"immediate\", \"transition\": {\"duration\": 0, \"easing\": \"linear\"}}], \"label\": \"294\", \"method\": \"animate\"}, {\"args\": [[\"301\"], {\"frame\": {\"duration\": 0, \"redraw\": true}, \"fromcurrent\": true, \"mode\": \"immediate\", \"transition\": {\"duration\": 0, \"easing\": \"linear\"}}], \"label\": \"301\", \"method\": \"animate\"}, {\"args\": [[\"308\"], {\"frame\": {\"duration\": 0, \"redraw\": true}, \"fromcurrent\": true, \"mode\": \"immediate\", \"transition\": {\"duration\": 0, \"easing\": \"linear\"}}], \"label\": \"308\", \"method\": \"animate\"}, {\"args\": [[\"315\"], {\"frame\": {\"duration\": 0, \"redraw\": true}, \"fromcurrent\": true, \"mode\": \"immediate\", \"transition\": {\"duration\": 0, \"easing\": \"linear\"}}], \"label\": \"315\", \"method\": \"animate\"}, {\"args\": [[\"322\"], {\"frame\": {\"duration\": 0, \"redraw\": true}, \"fromcurrent\": true, \"mode\": \"immediate\", \"transition\": {\"duration\": 0, \"easing\": \"linear\"}}], \"label\": \"322\", \"method\": \"animate\"}, {\"args\": [[\"329\"], {\"frame\": {\"duration\": 0, \"redraw\": true}, \"fromcurrent\": true, \"mode\": \"immediate\", \"transition\": {\"duration\": 0, \"easing\": \"linear\"}}], \"label\": \"329\", \"method\": \"animate\"}, {\"args\": [[\"336\"], {\"frame\": {\"duration\": 0, \"redraw\": true}, \"fromcurrent\": true, \"mode\": \"immediate\", \"transition\": {\"duration\": 0, \"easing\": \"linear\"}}], \"label\": \"336\", \"method\": \"animate\"}, {\"args\": [[\"343\"], {\"frame\": {\"duration\": 0, \"redraw\": true}, \"fromcurrent\": true, \"mode\": \"immediate\", \"transition\": {\"duration\": 0, \"easing\": \"linear\"}}], \"label\": \"343\", \"method\": \"animate\"}, {\"args\": [[\"350\"], {\"frame\": {\"duration\": 0, \"redraw\": true}, \"fromcurrent\": true, \"mode\": \"immediate\", \"transition\": {\"duration\": 0, \"easing\": \"linear\"}}], \"label\": \"350\", \"method\": \"animate\"}, {\"args\": [[\"357\"], {\"frame\": {\"duration\": 0, \"redraw\": true}, \"fromcurrent\": true, \"mode\": \"immediate\", \"transition\": {\"duration\": 0, \"easing\": \"linear\"}}], \"label\": \"357\", \"method\": \"animate\"}, {\"args\": [[\"364\"], {\"frame\": {\"duration\": 0, \"redraw\": true}, \"fromcurrent\": true, \"mode\": \"immediate\", \"transition\": {\"duration\": 0, \"easing\": \"linear\"}}], \"label\": \"364\", \"method\": \"animate\"}], \"x\": 0.1, \"xanchor\": \"left\", \"y\": 0, \"yanchor\": \"top\"}], \"template\": {\"data\": {\"bar\": [{\"error_x\": {\"color\": \"#f2f5fa\"}, \"error_y\": {\"color\": \"#f2f5fa\"}, \"marker\": {\"line\": {\"color\": \"rgb(17,17,17)\", \"width\": 0.5}}, \"type\": \"bar\"}], \"barpolar\": [{\"marker\": {\"line\": {\"color\": \"rgb(17,17,17)\", \"width\": 0.5}}, \"type\": \"barpolar\"}], \"carpet\": [{\"aaxis\": {\"endlinecolor\": \"#A2B1C6\", \"gridcolor\": \"#506784\", \"linecolor\": \"#506784\", \"minorgridcolor\": \"#506784\", \"startlinecolor\": \"#A2B1C6\"}, \"baxis\": {\"endlinecolor\": \"#A2B1C6\", \"gridcolor\": \"#506784\", \"linecolor\": \"#506784\", \"minorgridcolor\": \"#506784\", \"startlinecolor\": \"#A2B1C6\"}, \"type\": \"carpet\"}], \"choropleth\": [{\"colorbar\": {\"outlinewidth\": 0, \"ticks\": \"\"}, \"type\": \"choropleth\"}], \"contour\": [{\"colorbar\": {\"outlinewidth\": 0, \"ticks\": \"\"}, \"colorscale\": [[0.0, \"#0d0887\"], [0.1111111111111111, \"#46039f\"], [0.2222222222222222, \"#7201a8\"], [0.3333333333333333, \"#9c179e\"], [0.4444444444444444, \"#bd3786\"], [0.5555555555555556, \"#d8576b\"], [0.6666666666666666, \"#ed7953\"], [0.7777777777777778, \"#fb9f3a\"], [0.8888888888888888, \"#fdca26\"], [1.0, \"#f0f921\"]], \"type\": \"contour\"}], \"contourcarpet\": [{\"colorbar\": {\"outlinewidth\": 0, \"ticks\": \"\"}, \"type\": \"contourcarpet\"}], \"heatmap\": [{\"colorbar\": {\"outlinewidth\": 0, \"ticks\": \"\"}, \"colorscale\": [[0.0, \"#0d0887\"], [0.1111111111111111, \"#46039f\"], [0.2222222222222222, \"#7201a8\"], [0.3333333333333333, \"#9c179e\"], [0.4444444444444444, \"#bd3786\"], [0.5555555555555556, \"#d8576b\"], [0.6666666666666666, \"#ed7953\"], [0.7777777777777778, \"#fb9f3a\"], [0.8888888888888888, \"#fdca26\"], [1.0, \"#f0f921\"]], \"type\": \"heatmap\"}], \"heatmapgl\": [{\"colorbar\": {\"outlinewidth\": 0, \"ticks\": \"\"}, \"colorscale\": [[0.0, \"#0d0887\"], [0.1111111111111111, \"#46039f\"], [0.2222222222222222, \"#7201a8\"], [0.3333333333333333, \"#9c179e\"], [0.4444444444444444, \"#bd3786\"], [0.5555555555555556, \"#d8576b\"], [0.6666666666666666, \"#ed7953\"], [0.7777777777777778, \"#fb9f3a\"], [0.8888888888888888, \"#fdca26\"], [1.0, \"#f0f921\"]], \"type\": \"heatmapgl\"}], \"histogram\": [{\"marker\": {\"colorbar\": {\"outlinewidth\": 0, \"ticks\": \"\"}}, \"type\": \"histogram\"}], \"histogram2d\": [{\"colorbar\": {\"outlinewidth\": 0, \"ticks\": \"\"}, \"colorscale\": [[0.0, \"#0d0887\"], [0.1111111111111111, \"#46039f\"], [0.2222222222222222, \"#7201a8\"], [0.3333333333333333, \"#9c179e\"], [0.4444444444444444, \"#bd3786\"], [0.5555555555555556, \"#d8576b\"], [0.6666666666666666, \"#ed7953\"], [0.7777777777777778, \"#fb9f3a\"], [0.8888888888888888, \"#fdca26\"], [1.0, \"#f0f921\"]], \"type\": \"histogram2d\"}], \"histogram2dcontour\": [{\"colorbar\": {\"outlinewidth\": 0, \"ticks\": \"\"}, \"colorscale\": [[0.0, \"#0d0887\"], [0.1111111111111111, \"#46039f\"], [0.2222222222222222, \"#7201a8\"], [0.3333333333333333, \"#9c179e\"], [0.4444444444444444, \"#bd3786\"], [0.5555555555555556, \"#d8576b\"], [0.6666666666666666, \"#ed7953\"], [0.7777777777777778, \"#fb9f3a\"], [0.8888888888888888, \"#fdca26\"], [1.0, \"#f0f921\"]], \"type\": \"histogram2dcontour\"}], \"mesh3d\": [{\"colorbar\": {\"outlinewidth\": 0, \"ticks\": \"\"}, \"type\": \"mesh3d\"}], \"parcoords\": [{\"line\": {\"colorbar\": {\"outlinewidth\": 0, \"ticks\": \"\"}}, \"type\": \"parcoords\"}], \"pie\": [{\"automargin\": true, \"type\": \"pie\"}], \"scatter\": [{\"marker\": {\"line\": {\"color\": \"#283442\"}}, \"type\": \"scatter\"}], \"scatter3d\": [{\"line\": {\"colorbar\": {\"outlinewidth\": 0, \"ticks\": \"\"}}, \"marker\": {\"colorbar\": {\"outlinewidth\": 0, \"ticks\": \"\"}}, \"type\": \"scatter3d\"}], \"scattercarpet\": [{\"marker\": {\"colorbar\": {\"outlinewidth\": 0, \"ticks\": \"\"}}, \"type\": \"scattercarpet\"}], \"scattergeo\": [{\"marker\": {\"colorbar\": {\"outlinewidth\": 0, \"ticks\": \"\"}}, \"type\": \"scattergeo\"}], \"scattergl\": [{\"marker\": {\"line\": {\"color\": \"#283442\"}}, \"type\": \"scattergl\"}], \"scattermapbox\": [{\"marker\": {\"colorbar\": {\"outlinewidth\": 0, \"ticks\": \"\"}}, \"type\": \"scattermapbox\"}], \"scatterpolar\": [{\"marker\": {\"colorbar\": {\"outlinewidth\": 0, \"ticks\": \"\"}}, \"type\": \"scatterpolar\"}], \"scatterpolargl\": [{\"marker\": {\"colorbar\": {\"outlinewidth\": 0, \"ticks\": \"\"}}, \"type\": \"scatterpolargl\"}], \"scatterternary\": [{\"marker\": {\"colorbar\": {\"outlinewidth\": 0, \"ticks\": \"\"}}, \"type\": \"scatterternary\"}], \"surface\": [{\"colorbar\": {\"outlinewidth\": 0, \"ticks\": \"\"}, \"colorscale\": [[0.0, \"#0d0887\"], [0.1111111111111111, \"#46039f\"], [0.2222222222222222, \"#7201a8\"], [0.3333333333333333, \"#9c179e\"], [0.4444444444444444, \"#bd3786\"], [0.5555555555555556, \"#d8576b\"], [0.6666666666666666, \"#ed7953\"], [0.7777777777777778, \"#fb9f3a\"], [0.8888888888888888, \"#fdca26\"], [1.0, \"#f0f921\"]], \"type\": \"surface\"}], \"table\": [{\"cells\": {\"fill\": {\"color\": \"#506784\"}, \"line\": {\"color\": \"rgb(17,17,17)\"}}, \"header\": {\"fill\": {\"color\": \"#2a3f5f\"}, \"line\": {\"color\": \"rgb(17,17,17)\"}}, \"type\": \"table\"}]}, \"layout\": {\"annotationdefaults\": {\"arrowcolor\": \"#f2f5fa\", \"arrowhead\": 0, \"arrowwidth\": 1}, \"autotypenumbers\": \"strict\", \"coloraxis\": {\"colorbar\": {\"outlinewidth\": 0, \"ticks\": \"\"}}, \"colorscale\": {\"diverging\": [[0, \"#8e0152\"], [0.1, \"#c51b7d\"], [0.2, \"#de77ae\"], [0.3, \"#f1b6da\"], [0.4, \"#fde0ef\"], [0.5, \"#f7f7f7\"], [0.6, \"#e6f5d0\"], [0.7, \"#b8e186\"], [0.8, \"#7fbc41\"], [0.9, \"#4d9221\"], [1, \"#276419\"]], \"sequential\": [[0.0, \"#0d0887\"], [0.1111111111111111, \"#46039f\"], [0.2222222222222222, \"#7201a8\"], [0.3333333333333333, \"#9c179e\"], [0.4444444444444444, \"#bd3786\"], [0.5555555555555556, \"#d8576b\"], [0.6666666666666666, \"#ed7953\"], [0.7777777777777778, \"#fb9f3a\"], [0.8888888888888888, \"#fdca26\"], [1.0, \"#f0f921\"]], \"sequentialminus\": [[0.0, \"#0d0887\"], [0.1111111111111111, \"#46039f\"], [0.2222222222222222, \"#7201a8\"], [0.3333333333333333, \"#9c179e\"], [0.4444444444444444, \"#bd3786\"], [0.5555555555555556, \"#d8576b\"], [0.6666666666666666, \"#ed7953\"], [0.7777777777777778, \"#fb9f3a\"], [0.8888888888888888, \"#fdca26\"], [1.0, \"#f0f921\"]]}, \"colorway\": [\"#636efa\", \"#EF553B\", \"#00cc96\", \"#ab63fa\", \"#FFA15A\", \"#19d3f3\", \"#FF6692\", \"#B6E880\", \"#FF97FF\", \"#FECB52\"], \"font\": {\"color\": \"#f2f5fa\"}, \"geo\": {\"bgcolor\": \"rgb(17,17,17)\", \"lakecolor\": \"rgb(17,17,17)\", \"landcolor\": \"rgb(17,17,17)\", \"showlakes\": true, \"showland\": true, \"subunitcolor\": \"#506784\"}, \"hoverlabel\": {\"align\": \"left\"}, \"hovermode\": \"closest\", \"mapbox\": {\"style\": \"dark\"}, \"paper_bgcolor\": \"rgb(17,17,17)\", \"plot_bgcolor\": \"rgb(17,17,17)\", \"polar\": {\"angularaxis\": {\"gridcolor\": \"#506784\", \"linecolor\": \"#506784\", \"ticks\": \"\"}, \"bgcolor\": \"rgb(17,17,17)\", \"radialaxis\": {\"gridcolor\": \"#506784\", \"linecolor\": \"#506784\", \"ticks\": \"\"}}, \"scene\": {\"xaxis\": {\"backgroundcolor\": \"rgb(17,17,17)\", \"gridcolor\": \"#506784\", \"gridwidth\": 2, \"linecolor\": \"#506784\", \"showbackground\": true, \"ticks\": \"\", \"zerolinecolor\": \"#C8D4E3\"}, \"yaxis\": {\"backgroundcolor\": \"rgb(17,17,17)\", \"gridcolor\": \"#506784\", \"gridwidth\": 2, \"linecolor\": \"#506784\", \"showbackground\": true, \"ticks\": \"\", \"zerolinecolor\": \"#C8D4E3\"}, \"zaxis\": {\"backgroundcolor\": \"rgb(17,17,17)\", \"gridcolor\": \"#506784\", \"gridwidth\": 2, \"linecolor\": \"#506784\", \"showbackground\": true, \"ticks\": \"\", \"zerolinecolor\": \"#C8D4E3\"}}, \"shapedefaults\": {\"line\": {\"color\": \"#f2f5fa\"}}, \"sliderdefaults\": {\"bgcolor\": \"#C8D4E3\", \"bordercolor\": \"rgb(17,17,17)\", \"borderwidth\": 1, \"tickwidth\": 0}, \"ternary\": {\"aaxis\": {\"gridcolor\": \"#506784\", \"linecolor\": \"#506784\", \"ticks\": \"\"}, \"baxis\": {\"gridcolor\": \"#506784\", \"linecolor\": \"#506784\", \"ticks\": \"\"}, \"bgcolor\": \"rgb(17,17,17)\", \"caxis\": {\"gridcolor\": \"#506784\", \"linecolor\": \"#506784\", \"ticks\": \"\"}}, \"title\": {\"x\": 0.05}, \"updatemenudefaults\": {\"bgcolor\": \"#506784\", \"borderwidth\": 0}, \"xaxis\": {\"automargin\": true, \"gridcolor\": \"#283442\", \"linecolor\": \"#506784\", \"ticks\": \"\", \"title\": {\"standoff\": 15}, \"zerolinecolor\": \"#283442\", \"zerolinewidth\": 2}, \"yaxis\": {\"automargin\": true, \"gridcolor\": \"#283442\", \"linecolor\": \"#506784\", \"ticks\": \"\", \"title\": {\"standoff\": 15}, \"zerolinecolor\": \"#283442\", \"zerolinewidth\": 2}}}, \"updatemenus\": [{\"buttons\": [{\"args\": [null, {\"frame\": {\"duration\": 500, \"redraw\": true}, \"fromcurrent\": true, \"mode\": \"immediate\", \"transition\": {\"duration\": 500, \"easing\": \"linear\"}}], \"label\": \"&#9654;\", \"method\": \"animate\"}, {\"args\": [[null], {\"frame\": {\"duration\": 0, \"redraw\": true}, \"fromcurrent\": true, \"mode\": \"immediate\", \"transition\": {\"duration\": 0, \"easing\": \"linear\"}}], \"label\": \"&#9724;\", \"method\": \"animate\"}], \"direction\": \"left\", \"pad\": {\"r\": 10, \"t\": 70}, \"showactive\": false, \"type\": \"buttons\", \"x\": 0.1, \"xanchor\": \"right\", \"y\": 0, \"yanchor\": \"top\"}]},                        {\"responsive\": true}                    ).then(function(){\n",
       "                            Plotly.addFrames('535155d2-4355-4cfd-b72e-3e4c91295c76', [{\"data\": [{\"hovertemplate\": \"name=Sun<br>index=0<br>x=%{x}<br>y=%{y}<br>z=%{z}<br>radius=%{marker.size}<extra></extra>\", \"ids\": [\"Sun\"], \"legendgroup\": \"Sun\", \"marker\": {\"color\": \"orange\", \"size\": [20.36134860476573], \"sizemode\": \"area\", \"sizeref\": 0.050903371511914326, \"symbol\": \"circle\"}, \"mode\": \"markers\", \"name\": \"Sun\", \"scene\": \"scene\", \"showlegend\": true, \"x\": [0.0], \"y\": [0.0], \"z\": [0.0], \"type\": \"scatter3d\"}, {\"hovertemplate\": \"name=Mars<br>index=0<br>x=%{x}<br>y=%{y}<br>z=%{z}<br>radius=%{marker.size}<extra></extra>\", \"ids\": [\"Mars\"], \"legendgroup\": \"Mars\", \"marker\": {\"color\": \"crimson\", \"size\": [8.12843769687102], \"sizemode\": \"area\", \"sizeref\": 0.050903371511914326, \"symbol\": \"circle\"}, \"mode\": \"markers\", \"name\": \"Mars\", \"scene\": \"scene\", \"showlegend\": true, \"x\": [179966238452.1], \"y\": [108772611785.97], \"z\": [45028959080.7], \"type\": \"scatter3d\"}, {\"hovertemplate\": \"name=Mercury<br>index=0<br>x=%{x}<br>y=%{y}<br>z=%{z}<br>radius=%{marker.size}<extra></extra>\", \"ids\": [\"Mercury\"], \"legendgroup\": \"Mercury\", \"marker\": {\"color\": \"cornflowerblue\", \"size\": [7.7996303599085035], \"sizemode\": \"area\", \"sizeref\": 0.050903371511914326, \"symbol\": \"circle\"}, \"mode\": \"markers\", \"name\": \"Mercury\", \"scene\": \"scene\", \"showlegend\": true, \"x\": [-37444347036.21001], \"y\": [28019681182.11], \"z\": [18849331708.2], \"type\": \"scatter3d\"}, {\"hovertemplate\": \"name=Neptune<br>index=0<br>x=%{x}<br>y=%{y}<br>z=%{z}<br>radius=%{marker.size}<extra></extra>\", \"ids\": [\"Neptune\"], \"legendgroup\": \"Neptune\", \"marker\": {\"color\": \"cyan\", \"size\": [10.15120663641638], \"sizemode\": \"area\", \"sizeref\": 0.050903371511914326, \"symbol\": \"circle\"}, \"mode\": \"markers\", \"name\": \"Neptune\", \"scene\": \"scene\", \"showlegend\": true, \"x\": [2535683908365.0], \"y\": [-3424295260323.0], \"z\": [-1464563154152.9998], \"type\": \"scatter3d\"}, {\"hovertemplate\": \"name=Saturn<br>index=0<br>x=%{x}<br>y=%{y}<br>z=%{z}<br>radius=%{marker.size}<extra></extra>\", \"ids\": [\"Saturn\"], \"legendgroup\": \"Saturn\", \"marker\": {\"color\": \"khaki\", \"size\": [10.972190310798094], \"sizemode\": \"area\", \"sizeref\": 0.050903371511914326, \"symbol\": \"circle\"}, \"mode\": \"markers\", \"name\": \"Saturn\", \"scene\": \"scene\", \"showlegend\": true, \"x\": [922121274994.8], \"y\": [952489642746.9], \"z\": [353798964205.50006], \"type\": \"scatter3d\"}, {\"hovertemplate\": \"name=Uranus<br>index=0<br>x=%{x}<br>y=%{y}<br>z=%{z}<br>radius=%{marker.size}<extra></extra>\", \"ids\": [\"Uranus\"], \"legendgroup\": \"Uranus\", \"marker\": {\"color\": \"lightcyan\", \"size\": [10.141007269794844], \"sizemode\": \"area\", \"sizeref\": 0.050903371511914326, \"symbol\": \"circle\"}, \"mode\": \"markers\", \"name\": \"Uranus\", \"scene\": \"scene\", \"showlegend\": true, \"x\": [2181136954806.0], \"y\": [-1850525660559.0], \"z\": [-841338424816.7999], \"type\": \"scatter3d\"}, {\"hovertemplate\": \"name=Jupiter<br>index=0<br>x=%{x}<br>y=%{y}<br>z=%{z}<br>radius=%{marker.size}<extra></extra>\", \"ids\": [\"Jupiter\"], \"legendgroup\": \"Jupiter\", \"marker\": {\"color\": \"chocolate\", \"size\": [11.154978283509006], \"sizemode\": \"area\", \"sizeref\": 0.050903371511914326, \"symbol\": \"circle\"}, \"mode\": \"markers\", \"name\": \"Jupiter\", \"scene\": \"scene\", \"showlegend\": true, \"x\": [558448851323.1], \"y\": [456572701376.4], \"z\": [182060608641.9], \"type\": \"scatter3d\"}, {\"hovertemplate\": \"name=Earth<br>index=0<br>x=%{x}<br>y=%{y}<br>z=%{z}<br>radius=%{marker.size}<extra></extra>\", \"ids\": [\"Earth\"], \"legendgroup\": \"Earth\", \"marker\": {\"color\": \"green\", \"size\": [8.759511722116487], \"sizemode\": \"area\", \"sizeref\": 0.050903371511914326, \"symbol\": \"circle\"}, \"mode\": \"markers\", \"name\": \"Earth\", \"scene\": \"scene\", \"showlegend\": true, \"x\": [-136014384040.44], \"y\": [53750514942.51], \"z\": [23307348255.06], \"type\": \"scatter3d\"}], \"name\": \"0\"}, {\"data\": [{\"hovertemplate\": \"name=Sun<br>index=7<br>x=%{x}<br>y=%{y}<br>z=%{z}<br>radius=%{marker.size}<extra></extra>\", \"ids\": [\"Sun\"], \"legendgroup\": \"Sun\", \"marker\": {\"color\": \"orange\", \"size\": [20.36134860476573], \"sizemode\": \"area\", \"sizeref\": 0.050903371511914326, \"symbol\": \"circle\"}, \"mode\": \"markers\", \"name\": \"Sun\", \"scene\": \"scene\", \"showlegend\": true, \"x\": [29795.455389006314], \"y\": [27369.44651650392], \"z\": [10947.503514489004], \"type\": \"scatter3d\"}, {\"hovertemplate\": \"name=Mars<br>index=7<br>x=%{x}<br>y=%{y}<br>z=%{z}<br>radius=%{marker.size}<extra></extra>\", \"ids\": [\"Mars\"], \"legendgroup\": \"Mars\", \"marker\": {\"color\": \"crimson\", \"size\": [8.12843769687102], \"sizemode\": \"area\", \"sizeref\": 0.050903371511914326, \"symbol\": \"circle\"}, \"mode\": \"markers\", \"name\": \"Mars\", \"scene\": \"scene\", \"showlegend\": true, \"x\": [172075309017.45978], \"y\": [120709228483.07416], \"z\": [50718618615.28614], \"type\": \"scatter3d\"}, {\"hovertemplate\": \"name=Mercury<br>index=7<br>x=%{x}<br>y=%{y}<br>z=%{z}<br>radius=%{marker.size}<extra></extra>\", \"ids\": [\"Mercury\"], \"legendgroup\": \"Mercury\", \"marker\": {\"color\": \"cornflowerblue\", \"size\": [7.7996303599085035], \"sizemode\": \"area\", \"sizeref\": 0.050903371511914326, \"symbol\": \"circle\"}, \"mode\": \"markers\", \"name\": \"Mercury\", \"scene\": \"scene\", \"showlegend\": true, \"x\": [-55442390530.64009], \"y\": [4995929800.923401], \"z\": [8417185335.719978], \"type\": \"scatter3d\"}, {\"hovertemplate\": \"name=Neptune<br>index=7<br>x=%{x}<br>y=%{y}<br>z=%{z}<br>radius=%{marker.size}<extra></extra>\", \"ids\": [\"Neptune\"], \"legendgroup\": \"Neptune\", \"marker\": {\"color\": \"cyan\", \"size\": [10.15120663641638], \"sizemode\": \"area\", \"sizeref\": 0.050903371511914326, \"symbol\": \"circle\"}, \"mode\": \"markers\", \"name\": \"Neptune\", \"scene\": \"scene\", \"showlegend\": true, \"x\": [2538373453108.908], \"y\": [-3422532984957.804], \"z\": [-1463908693130.188], \"type\": \"scatter3d\"}, {\"hovertemplate\": \"name=Saturn<br>index=7<br>x=%{x}<br>y=%{y}<br>z=%{z}<br>radius=%{marker.size}<extra></extra>\", \"ids\": [\"Saturn\"], \"legendgroup\": \"Saturn\", \"marker\": {\"color\": \"khaki\", \"size\": [10.972190310798094], \"sizemode\": \"area\", \"sizeref\": 0.050903371511914326, \"symbol\": \"circle\"}, \"mode\": \"markers\", \"name\": \"Saturn\", \"scene\": \"scene\", \"showlegend\": true, \"x\": [917476702814.0804], \"y\": [956034782784.691], \"z\": [355462737608.9362], \"type\": \"scatter3d\"}, {\"hovertemplate\": \"name=Uranus<br>index=7<br>x=%{x}<br>y=%{y}<br>z=%{z}<br>radius=%{marker.size}<extra></extra>\", \"ids\": [\"Uranus\"], \"legendgroup\": \"Uranus\", \"marker\": {\"color\": \"lightcyan\", \"size\": [10.141007269794844], \"sizemode\": \"area\", \"sizeref\": 0.050903371511914326, \"symbol\": \"circle\"}, \"mode\": \"markers\", \"name\": \"Uranus\", \"scene\": \"scene\", \"showlegend\": true, \"x\": [2183907901174.6992], \"y\": [-1847918568059.572], \"z\": [-840236015011.0205], \"type\": \"scatter3d\"}, {\"hovertemplate\": \"name=Jupiter<br>index=7<br>x=%{x}<br>y=%{y}<br>z=%{z}<br>radius=%{marker.size}<extra></extra>\", \"ids\": [\"Jupiter\"], \"legendgroup\": \"Jupiter\", \"marker\": {\"color\": \"chocolate\", \"size\": [11.154978283509006], \"sizemode\": \"area\", \"sizeref\": 0.050903371511914326, \"symbol\": \"circle\"}, \"mode\": \"markers\", \"name\": \"Jupiter\", \"scene\": \"scene\", \"showlegend\": true, \"x\": [553089020450.5596], \"y\": [462298930216.8565], \"z\": [184645805179.54028], \"type\": \"scatter3d\"}, {\"hovertemplate\": \"name=Earth<br>index=7<br>x=%{x}<br>y=%{y}<br>z=%{z}<br>radius=%{marker.size}<extra></extra>\", \"ids\": [\"Earth\"], \"legendgroup\": \"Earth\", \"marker\": {\"color\": \"green\", \"size\": [8.759511722116487], \"sizemode\": \"area\", \"sizeref\": 0.050903371511914326, \"symbol\": \"circle\"}, \"mode\": \"markers\", \"name\": \"Earth\", \"scene\": \"scene\", \"showlegend\": true, \"x\": [-142403114657.8015], \"y\": [38140071048.92567], \"z\": [16540965536.626448], \"type\": \"scatter3d\"}], \"name\": \"7\"}, {\"data\": [{\"hovertemplate\": \"name=Sun<br>index=14<br>x=%{x}<br>y=%{y}<br>z=%{z}<br>radius=%{marker.size}<extra></extra>\", \"ids\": [\"Sun\"], \"legendgroup\": \"Sun\", \"marker\": {\"color\": \"orange\", \"size\": [20.36134860476573], \"sizemode\": \"area\", \"sizeref\": 0.050903371511914326, \"symbol\": \"circle\"}, \"mode\": \"markers\", \"name\": \"Sun\", \"scene\": \"scene\", \"showlegend\": true, \"x\": [118672.12464054782], \"y\": [108291.42688839955], \"z\": [43132.33285742795], \"type\": \"scatter3d\"}, {\"hovertemplate\": \"name=Mars<br>index=14<br>x=%{x}<br>y=%{y}<br>z=%{z}<br>radius=%{marker.size}<extra></extra>\", \"ids\": [\"Mars\"], \"legendgroup\": \"Mars\", \"marker\": {\"color\": \"crimson\", \"size\": [8.12843769687102], \"sizemode\": \"area\", \"sizeref\": 0.050903371511914326, \"symbol\": \"circle\"}, \"mode\": \"markers\", \"name\": \"Mars\", \"scene\": \"scene\", \"showlegend\": true, \"x\": [163358409755.5907], \"y\": [132066688375.58987], \"z\": [56164938118.18676], \"type\": \"scatter3d\"}, {\"hovertemplate\": \"name=Mercury<br>index=14<br>x=%{x}<br>y=%{y}<br>z=%{z}<br>radius=%{marker.size}<extra></extra>\", \"ids\": [\"Mercury\"], \"legendgroup\": \"Mercury\", \"marker\": {\"color\": \"cornflowerblue\", \"size\": [7.7996303599085035], \"sizemode\": \"area\", \"sizeref\": 0.050903371511914326, \"symbol\": \"circle\"}, \"mode\": \"markers\", \"name\": \"Mercury\", \"scene\": \"scene\", \"showlegend\": true, \"x\": [-58669426785.04186], \"y\": [-19723439553.48106], \"z\": [-4452230808.482105], \"type\": \"scatter3d\"}, {\"hovertemplate\": \"name=Neptune<br>index=14<br>x=%{x}<br>y=%{y}<br>z=%{z}<br>radius=%{marker.size}<extra></extra>\", \"ids\": [\"Neptune\"], \"legendgroup\": \"Neptune\", \"marker\": {\"color\": \"cyan\", \"size\": [10.15120663641638], \"sizemode\": \"area\", \"sizeref\": 0.050903371511914326, \"symbol\": \"circle\"}, \"mode\": \"markers\", \"name\": \"Neptune\", \"scene\": \"scene\", \"showlegend\": true, \"x\": [2541061649339.6406], \"y\": [-3420768890126.83], \"z\": [-1463253453905.5708], \"type\": \"scatter3d\"}, {\"hovertemplate\": \"name=Saturn<br>index=14<br>x=%{x}<br>y=%{y}<br>z=%{z}<br>radius=%{marker.size}<extra></extra>\", \"ids\": [\"Saturn\"], \"legendgroup\": \"Saturn\", \"marker\": {\"color\": \"khaki\", \"size\": [10.972190310798094], \"sizemode\": \"area\", \"sizeref\": 0.050903371511914326, \"symbol\": \"circle\"}, \"mode\": \"markers\", \"name\": \"Saturn\", \"scene\": \"scene\", \"showlegend\": true, \"x\": [912814816018.8271], \"y\": [959561859726.2258], \"z\": [357119797257.2271], \"type\": \"scatter3d\"}, {\"hovertemplate\": \"name=Uranus<br>index=14<br>x=%{x}<br>y=%{y}<br>z=%{z}<br>radius=%{marker.size}<extra></extra>\", \"ids\": [\"Uranus\"], \"legendgroup\": \"Uranus\", \"marker\": {\"color\": \"lightcyan\", \"size\": [10.141007269794844], \"sizemode\": \"area\", \"sizeref\": 0.050903371511914326, \"symbol\": \"circle\"}, \"mode\": \"markers\", \"name\": \"Uranus\", \"scene\": \"scene\", \"showlegend\": true, \"x\": [2186674844877.1135], \"y\": [-1845308087058.0864], \"z\": [-839132064505.9503], \"type\": \"scatter3d\"}, {\"hovertemplate\": \"name=Jupiter<br>index=14<br>x=%{x}<br>y=%{y}<br>z=%{z}<br>radius=%{marker.size}<extra></extra>\", \"ids\": [\"Jupiter\"], \"legendgroup\": \"Jupiter\", \"marker\": {\"color\": \"chocolate\", \"size\": [11.154978283509006], \"sizemode\": \"area\", \"sizeref\": 0.050903371511914326, \"symbol\": \"circle\"}, \"mode\": \"markers\", \"name\": \"Jupiter\", \"scene\": \"scene\", \"showlegend\": true, \"x\": [547664045941.8596], \"y\": [467970718678.1047], \"z\": [187209256380.2036], \"type\": \"scatter3d\"}, {\"hovertemplate\": \"name=Earth<br>index=14<br>x=%{x}<br>y=%{y}<br>z=%{z}<br>radius=%{marker.size}<extra></extra>\", \"ids\": [\"Earth\"], \"legendgroup\": \"Earth\", \"marker\": {\"color\": \"green\", \"size\": [8.759511722116487], \"sizemode\": \"area\", \"sizeref\": 0.050903371511914326, \"symbol\": \"circle\"}, \"mode\": \"markers\", \"name\": \"Earth\", \"scene\": \"scene\", \"showlegend\": true, \"x\": [-146676952285.09784], \"y\": [21963023259.12585], \"z\": [9528850916.49874], \"type\": \"scatter3d\"}], \"name\": \"14\"}, {\"data\": [{\"hovertemplate\": \"name=Sun<br>index=21<br>x=%{x}<br>y=%{y}<br>z=%{z}<br>radius=%{marker.size}<extra></extra>\", \"ids\": [\"Sun\"], \"legendgroup\": \"Sun\", \"marker\": {\"color\": \"orange\", \"size\": [20.36134860476573], \"sizemode\": \"area\", \"sizeref\": 0.050903371511914326, \"symbol\": \"circle\"}, \"mode\": \"markers\", \"name\": \"Sun\", \"scene\": \"scene\", \"showlegend\": true, \"x\": [266413.602263311], \"y\": [241004.6015973277], \"z\": [95543.06010181014], \"type\": \"scatter3d\"}, {\"hovertemplate\": \"name=Mars<br>index=21<br>x=%{x}<br>y=%{y}<br>z=%{z}<br>radius=%{marker.size}<extra></extra>\", \"ids\": [\"Mars\"], \"legendgroup\": \"Mars\", \"marker\": {\"color\": \"crimson\", \"size\": [8.12843769687102], \"sizemode\": \"area\", \"sizeref\": 0.050903371511914326, \"symbol\": \"circle\"}, \"mode\": \"markers\", \"name\": \"Mars\", \"scene\": \"scene\", \"showlegend\": true, \"x\": [153870485027.29742], \"y\": [142801067240.79514], \"z\": [61346279433.98575], \"type\": \"scatter3d\"}, {\"hovertemplate\": \"name=Mercury<br>index=21<br>x=%{x}<br>y=%{y}<br>z=%{z}<br>radius=%{marker.size}<extra></extra>\", \"ids\": [\"Mercury\"], \"legendgroup\": \"Mercury\", \"marker\": {\"color\": \"cornflowerblue\", \"size\": [7.7996303599085035], \"sizemode\": \"area\", \"sizeref\": 0.050903371511914326, \"symbol\": \"circle\"}, \"mode\": \"markers\", \"name\": \"Mercury\", \"scene\": \"scene\", \"showlegend\": true, \"x\": [-50008981063.02939], \"y\": [-40652316777.7222], \"z\": [-16529494759.06392], \"type\": \"scatter3d\"}, {\"hovertemplate\": \"name=Neptune<br>index=21<br>x=%{x}<br>y=%{y}<br>z=%{z}<br>radius=%{marker.size}<extra></extra>\", \"ids\": [\"Neptune\"], \"legendgroup\": \"Neptune\", \"marker\": {\"color\": \"cyan\", \"size\": [10.15120663641638], \"sizemode\": \"area\", \"sizeref\": 0.050903371511914326, \"symbol\": \"circle\"}, \"mode\": \"markers\", \"name\": \"Neptune\", \"scene\": \"scene\", \"showlegend\": true, \"x\": [2543748495597.491], \"y\": [-3419002976729.68], \"z\": [-1462597436810.9758], \"type\": \"scatter3d\"}, {\"hovertemplate\": \"name=Saturn<br>index=21<br>x=%{x}<br>y=%{y}<br>z=%{z}<br>radius=%{marker.size}<extra></extra>\", \"ids\": [\"Saturn\"], \"legendgroup\": \"Saturn\", \"marker\": {\"color\": \"khaki\", \"size\": [10.972190310798094], \"sizemode\": \"area\", \"sizeref\": 0.050903371511914326, \"symbol\": \"circle\"}, \"mode\": \"markers\", \"name\": \"Saturn\", \"scene\": \"scene\", \"showlegend\": true, \"x\": [908135693517.9294], \"y\": [963070798466.932], \"z\": [358770108759.5228], \"type\": \"scatter3d\"}, {\"hovertemplate\": \"name=Uranus<br>index=21<br>x=%{x}<br>y=%{y}<br>z=%{z}<br>radius=%{marker.size}<extra></extra>\", \"ids\": [\"Uranus\"], \"legendgroup\": \"Uranus\", \"marker\": {\"color\": \"lightcyan\", \"size\": [10.141007269794844], \"sizemode\": \"area\", \"sizeref\": 0.050903371511914326, \"symbol\": \"circle\"}, \"mode\": \"markers\", \"name\": \"Uranus\", \"scene\": \"scene\", \"showlegend\": true, \"x\": [2189437781254.8567], \"y\": [-1842694222702.1128], \"z\": [-838026575489.6571], \"type\": \"scatter3d\"}, {\"hovertemplate\": \"name=Jupiter<br>index=21<br>x=%{x}<br>y=%{y}<br>z=%{z}<br>radius=%{marker.size}<extra></extra>\", \"ids\": [\"Jupiter\"], \"legendgroup\": \"Jupiter\", \"marker\": {\"color\": \"chocolate\", \"size\": [11.154978283509006], \"sizemode\": \"area\", \"sizeref\": 0.050903371511914326, \"symbol\": \"circle\"}, \"mode\": \"markers\", \"name\": \"Jupiter\", \"scene\": \"scene\", \"showlegend\": true, \"x\": [542174612171.6496], \"y\": [473587437085.6209], \"z\": [189750675638.2237], \"type\": \"scatter3d\"}, {\"hovertemplate\": \"name=Earth<br>index=21<br>x=%{x}<br>y=%{y}<br>z=%{z}<br>radius=%{marker.size}<extra></extra>\", \"ids\": [\"Earth\"], \"legendgroup\": \"Earth\", \"marker\": {\"color\": \"green\", \"size\": [8.759511722116487], \"sizemode\": \"area\", \"sizeref\": 0.050903371511914326, \"symbol\": \"circle\"}, \"mode\": \"markers\", \"name\": \"Earth\", \"scene\": \"scene\", \"showlegend\": true, \"x\": [-148784254889.3202], \"y\": [5461383564.582896], \"z\": [2375907779.44652], \"type\": \"scatter3d\"}], \"name\": \"21\"}, {\"data\": [{\"hovertemplate\": \"name=Sun<br>index=28<br>x=%{x}<br>y=%{y}<br>z=%{z}<br>radius=%{marker.size}<extra></extra>\", \"ids\": [\"Sun\"], \"legendgroup\": \"Sun\", \"marker\": {\"color\": \"orange\", \"size\": [20.36134860476573], \"sizemode\": \"area\", \"sizeref\": 0.050903371511914326, \"symbol\": \"circle\"}, \"mode\": \"markers\", \"name\": \"Sun\", \"scene\": \"scene\", \"showlegend\": true, \"x\": [473223.0315440952], \"y\": [423197.8287541257], \"z\": [166846.92935553496], \"type\": \"scatter3d\"}, {\"hovertemplate\": \"name=Mars<br>index=28<br>x=%{x}<br>y=%{y}<br>z=%{z}<br>radius=%{marker.size}<extra></extra>\", \"ids\": [\"Mars\"], \"legendgroup\": \"Mars\", \"marker\": {\"color\": \"crimson\", \"size\": [8.12843769687102], \"sizemode\": \"area\", \"sizeref\": 0.050903371511914326, \"symbol\": \"circle\"}, \"mode\": \"markers\", \"name\": \"Mars\", \"scene\": \"scene\", \"showlegend\": true, \"x\": [143668775991.52783], \"y\": [152873261980.89273], \"z\": [66243154012.32623], \"type\": \"scatter3d\"}, {\"hovertemplate\": \"name=Mercury<br>index=28<br>x=%{x}<br>y=%{y}<br>z=%{z}<br>radius=%{marker.size}<extra></extra>\", \"ids\": [\"Mercury\"], \"legendgroup\": \"Mercury\", \"marker\": {\"color\": \"cornflowerblue\", \"size\": [7.7996303599085035], \"sizemode\": \"area\", \"sizeref\": 0.050903371511914326, \"symbol\": \"circle\"}, \"mode\": \"markers\", \"name\": \"Mercury\", \"scene\": \"scene\", \"showlegend\": true, \"x\": [-33080301904.11444], \"y\": [-54987475003.30035], \"z\": [-25941979304.678425], \"type\": \"scatter3d\"}, {\"hovertemplate\": \"name=Neptune<br>index=28<br>x=%{x}<br>y=%{y}<br>z=%{z}<br>radius=%{marker.size}<extra></extra>\", \"ids\": [\"Neptune\"], \"legendgroup\": \"Neptune\", \"marker\": {\"color\": \"cyan\", \"size\": [10.15120663641638], \"sizemode\": \"area\", \"sizeref\": 0.050903371511914326, \"symbol\": \"circle\"}, \"mode\": \"markers\", \"name\": \"Neptune\", \"scene\": \"scene\", \"showlegend\": true, \"x\": [2546433990423.4067], \"y\": [-3417235245666.9097], \"z\": [-1461940642178.638], \"type\": \"scatter3d\"}, {\"hovertemplate\": \"name=Saturn<br>index=28<br>x=%{x}<br>y=%{y}<br>z=%{z}<br>radius=%{marker.size}<extra></extra>\", \"ids\": [\"Saturn\"], \"legendgroup\": \"Saturn\", \"marker\": {\"color\": \"khaki\", \"size\": [10.972190310798094], \"sizemode\": \"area\", \"sizeref\": 0.050903371511914326, \"symbol\": \"circle\"}, \"mode\": \"markers\", \"name\": \"Saturn\", \"scene\": \"scene\", \"showlegend\": true, \"x\": [903439414662.8792], \"y\": [966561524231.8552], \"z\": [360413637840.8878], \"type\": \"scatter3d\"}, {\"hovertemplate\": \"name=Uranus<br>index=28<br>x=%{x}<br>y=%{y}<br>z=%{z}<br>radius=%{marker.size}<extra></extra>\", \"ids\": [\"Uranus\"], \"legendgroup\": \"Uranus\", \"marker\": {\"color\": \"lightcyan\", \"size\": [10.141007269794844], \"sizemode\": \"area\", \"sizeref\": 0.050903371511914326, \"symbol\": \"circle\"}, \"mode\": \"markers\", \"name\": \"Uranus\", \"scene\": \"scene\", \"showlegend\": true, \"x\": [2192196705656.984], \"y\": [-1840076980143.4175], \"z\": [-836919550152.1533], \"type\": \"scatter3d\"}, {\"hovertemplate\": \"name=Jupiter<br>index=28<br>x=%{x}<br>y=%{y}<br>z=%{z}<br>radius=%{marker.size}<extra></extra>\", \"ids\": [\"Jupiter\"], \"legendgroup\": \"Jupiter\", \"marker\": {\"color\": \"chocolate\", \"size\": [11.154978283509006], \"sizemode\": \"area\", \"sizeref\": 0.050903371511914326, \"symbol\": \"circle\"}, \"mode\": \"markers\", \"name\": \"Jupiter\", \"scene\": \"scene\", \"showlegend\": true, \"x\": [536621411158.1625], \"y\": [479148464004.23816], \"z\": [192269779693.49185], \"type\": \"scatter3d\"}, {\"hovertemplate\": \"name=Earth<br>index=28<br>x=%{x}<br>y=%{y}<br>z=%{z}<br>radius=%{marker.size}<extra></extra>\", \"ids\": [\"Earth\"], \"legendgroup\": \"Earth\", \"marker\": {\"color\": \"green\", \"size\": [8.759511722116487], \"sizemode\": \"area\", \"sizeref\": 0.050903371511914326, \"symbol\": \"circle\"}, \"mode\": \"markers\", \"name\": \"Earth\", \"scene\": \"scene\", \"showlegend\": true, \"x\": [-148706456961.9362], \"y\": [-11120654592.421894], \"z\": [-4812013014.50484], \"type\": \"scatter3d\"}], \"name\": \"28\"}, {\"data\": [{\"hovertemplate\": \"name=Sun<br>index=35<br>x=%{x}<br>y=%{y}<br>z=%{z}<br>radius=%{marker.size}<extra></extra>\", \"ids\": [\"Sun\"], \"legendgroup\": \"Sun\", \"marker\": {\"color\": \"orange\", \"size\": [20.36134860476573], \"sizemode\": \"area\", \"sizeref\": 0.050903371511914326, \"symbol\": \"circle\"}, \"mode\": \"markers\", \"name\": \"Sun\", \"scene\": \"scene\", \"showlegend\": true, \"x\": [740098.8979291745], \"y\": [649742.6571521815], \"z\": [254052.93655932744], \"type\": \"scatter3d\"}, {\"hovertemplate\": \"name=Mars<br>index=35<br>x=%{x}<br>y=%{y}<br>z=%{z}<br>radius=%{marker.size}<extra></extra>\", \"ids\": [\"Mars\"], \"legendgroup\": \"Mars\", \"marker\": {\"color\": \"crimson\", \"size\": [8.12843769687102], \"sizemode\": \"area\", \"sizeref\": 0.050903371511914326, \"symbol\": \"circle\"}, \"mode\": \"markers\", \"name\": \"Mars\", \"scene\": \"scene\", \"showlegend\": true, \"x\": [132812274664.26164], \"y\": [162248961384.062], \"z\": [70838224272.05582], \"type\": \"scatter3d\"}, {\"hovertemplate\": \"name=Mercury<br>index=35<br>x=%{x}<br>y=%{y}<br>z=%{z}<br>radius=%{marker.size}<extra></extra>\", \"ids\": [\"Mercury\"], \"legendgroup\": \"Mercury\", \"marker\": {\"color\": \"cornflowerblue\", \"size\": [7.7996303599085035], \"sizemode\": \"area\", \"sizeref\": 0.050903371511914326, \"symbol\": \"circle\"}, \"mode\": \"markers\", \"name\": \"Mercury\", \"scene\": \"scene\", \"showlegend\": true, \"x\": [-11294816802.857077], \"y\": [-61326828267.38712], \"z\": [-31587034017.80284], \"type\": \"scatter3d\"}, {\"hovertemplate\": \"name=Neptune<br>index=35<br>x=%{x}<br>y=%{y}<br>z=%{z}<br>radius=%{marker.size}<extra></extra>\", \"ids\": [\"Neptune\"], \"legendgroup\": \"Neptune\", \"marker\": {\"color\": \"cyan\", \"size\": [10.15120663641638], \"sizemode\": \"area\", \"sizeref\": 0.050903371511914326, \"symbol\": \"circle\"}, \"mode\": \"markers\", \"name\": \"Neptune\", \"scene\": \"scene\", \"showlegend\": true, \"x\": [2549118132358.9907], \"y\": [-3415465697840.026], \"z\": [-1461283070341.1985], \"type\": \"scatter3d\"}, {\"hovertemplate\": \"name=Saturn<br>index=35<br>x=%{x}<br>y=%{y}<br>z=%{z}<br>radius=%{marker.size}<extra></extra>\", \"ids\": [\"Saturn\"], \"legendgroup\": \"Saturn\", \"marker\": {\"color\": \"khaki\", \"size\": [10.972190310798094], \"sizemode\": \"area\", \"sizeref\": 0.050903371511914326, \"symbol\": \"circle\"}, \"mode\": \"markers\", \"name\": \"Saturn\", \"scene\": \"scene\", \"showlegend\": true, \"x\": [898726059247.1709], \"y\": [970033962578.4044], \"z\": [362050350343.42377], \"type\": \"scatter3d\"}, {\"hovertemplate\": \"name=Uranus<br>index=35<br>x=%{x}<br>y=%{y}<br>z=%{z}<br>radius=%{marker.size}<extra></extra>\", \"ids\": [\"Uranus\"], \"legendgroup\": \"Uranus\", \"marker\": {\"color\": \"lightcyan\", \"size\": [10.141007269794844], \"sizemode\": \"area\", \"sizeref\": 0.050903371511914326, \"symbol\": \"circle\"}, \"mode\": \"markers\", \"name\": \"Uranus\", \"scene\": \"scene\", \"showlegend\": true, \"x\": [2194951613440.0], \"y\": [-1837456364537.9563], \"z\": [-835810990685.3945], \"type\": \"scatter3d\"}, {\"hovertemplate\": \"name=Jupiter<br>index=35<br>x=%{x}<br>y=%{y}<br>z=%{z}<br>radius=%{marker.size}<extra></extra>\", \"ids\": [\"Jupiter\"], \"legendgroup\": \"Jupiter\", \"marker\": {\"color\": \"chocolate\", \"size\": [11.154978283509006], \"sizemode\": \"area\", \"sizeref\": 0.050903371511914326, \"symbol\": \"circle\"}, \"mode\": \"markers\", \"name\": \"Jupiter\", \"scene\": \"scene\", \"showlegend\": true, \"x\": [531005142428.0838], \"y\": [484653186319.0293], \"z\": [194766288669.42065], \"type\": \"scatter3d\"}, {\"hovertemplate\": \"name=Earth<br>index=35<br>x=%{x}<br>y=%{y}<br>z=%{z}<br>radius=%{marker.size}<extra></extra>\", \"ids\": [\"Earth\"], \"legendgroup\": \"Earth\", \"marker\": {\"color\": \"green\", \"size\": [8.759511722116487], \"sizemode\": \"area\", \"sizeref\": 0.050903371511914326, \"symbol\": \"circle\"}, \"mode\": \"markers\", \"name\": \"Earth\", \"scene\": \"scene\", \"showlegend\": true, \"x\": [-146457616278.39688], \"y\": [-27540535754.120163], \"z\": [-11929768776.299446], \"type\": \"scatter3d\"}], \"name\": \"35\"}, {\"data\": [{\"hovertemplate\": \"name=Sun<br>index=42<br>x=%{x}<br>y=%{y}<br>z=%{z}<br>radius=%{marker.size}<extra></extra>\", \"ids\": [\"Sun\"], \"legendgroup\": \"Sun\", \"marker\": {\"color\": \"orange\", \"size\": [20.36134860476573], \"sizemode\": \"area\", \"sizeref\": 0.050903371511914326, \"symbol\": \"circle\"}, \"mode\": \"markers\", \"name\": \"Sun\", \"scene\": \"scene\", \"showlegend\": true, \"x\": [1268109.6605760988], \"y\": [1079895.0260018096], \"z\": [300380.96406704], \"type\": \"scatter3d\"}, {\"hovertemplate\": \"name=Mars<br>index=42<br>x=%{x}<br>y=%{y}<br>z=%{z}<br>radius=%{marker.size}<extra></extra>\", \"ids\": [\"Mars\"], \"legendgroup\": \"Mars\", \"marker\": {\"color\": \"crimson\", \"size\": [8.12843769687102], \"sizemode\": \"area\", \"sizeref\": 0.050903371511914326, \"symbol\": \"circle\"}, \"mode\": \"markers\", \"name\": \"Mars\", \"scene\": \"scene\", \"showlegend\": true, \"x\": [121361214319.31528], \"y\": [170898567020.31357], \"z\": [75116281102.31192], \"type\": \"scatter3d\"}, {\"hovertemplate\": \"name=Mercury<br>index=42<br>x=%{x}<br>y=%{y}<br>z=%{z}<br>radius=%{marker.size}<extra></extra>\", \"ids\": [\"Mercury\"], \"legendgroup\": \"Mercury\", \"marker\": {\"color\": \"cornflowerblue\", \"size\": [7.7996303599085035], \"sizemode\": \"area\", \"sizeref\": 0.050903371511914326, \"symbol\": \"circle\"}, \"mode\": \"markers\", \"name\": \"Mercury\", \"scene\": \"scene\", \"showlegend\": true, \"x\": [12081061805.064651], \"y\": [-58988700856.75575], \"z\": [-32761858898.16833], \"type\": \"scatter3d\"}, {\"hovertemplate\": \"name=Neptune<br>index=42<br>x=%{x}<br>y=%{y}<br>z=%{z}<br>radius=%{marker.size}<extra></extra>\", \"ids\": [\"Neptune\"], \"legendgroup\": \"Neptune\", \"marker\": {\"color\": \"cyan\", \"size\": [10.15120663641638], \"sizemode\": \"area\", \"sizeref\": 0.050903371511914326, \"symbol\": \"circle\"}, \"mode\": \"markers\", \"name\": \"Neptune\", \"scene\": \"scene\", \"showlegend\": true, \"x\": [2551800919946.499], \"y\": [-3413694334151.49], \"z\": [-1460624721631.7043], \"type\": \"scatter3d\"}, {\"hovertemplate\": \"name=Saturn<br>index=42<br>x=%{x}<br>y=%{y}<br>z=%{z}<br>radius=%{marker.size}<extra></extra>\", \"ids\": [\"Saturn\"], \"legendgroup\": \"Saturn\", \"marker\": {\"color\": \"khaki\", \"size\": [10.972190310798094], \"sizemode\": \"area\", \"sizeref\": 0.050903371511914326, \"symbol\": \"circle\"}, \"mode\": \"markers\", \"name\": \"Saturn\", \"scene\": \"scene\", \"showlegend\": true, \"x\": [893995707505.6895], \"y\": [973488039399.085], \"z\": [363680212227.4024], \"type\": \"scatter3d\"}, {\"hovertemplate\": \"name=Uranus<br>index=42<br>x=%{x}<br>y=%{y}<br>z=%{z}<br>radius=%{marker.size}<extra></extra>\", \"ids\": [\"Uranus\"], \"legendgroup\": \"Uranus\", \"marker\": {\"color\": \"lightcyan\", \"size\": [10.141007269794844], \"sizemode\": \"area\", \"sizeref\": 0.050903371511914326, \"symbol\": \"circle\"}, \"mode\": \"markers\", \"name\": \"Uranus\", \"scene\": \"scene\", \"showlegend\": true, \"x\": [2197702499967.8635], \"y\": [-1834832381045.8704], \"z\": [-834700899283.2751], \"type\": \"scatter3d\"}, {\"hovertemplate\": \"name=Jupiter<br>index=42<br>x=%{x}<br>y=%{y}<br>z=%{z}<br>radius=%{marker.size}<extra></extra>\", \"ids\": [\"Jupiter\"], \"legendgroup\": \"Jupiter\", \"marker\": {\"color\": \"chocolate\", \"size\": [11.154978283509006], \"sizemode\": \"area\", \"sizeref\": 0.050903371511914326, \"symbol\": \"circle\"}, \"mode\": \"markers\", \"name\": \"Jupiter\", \"scene\": \"scene\", \"showlegend\": true, \"x\": [525326512880.2227], \"y\": [490100999314.0365], \"z\": [197239926110.06085], \"type\": \"scatter3d\"}, {\"hovertemplate\": \"name=Earth<br>index=42<br>x=%{x}<br>y=%{y}<br>z=%{z}<br>radius=%{marker.size}<extra></extra>\", \"ids\": [\"Earth\"], \"legendgroup\": \"Earth\", \"marker\": {\"color\": \"green\", \"size\": [8.759511722116487], \"sizemode\": \"area\", \"sizeref\": 0.050903371511914326, \"symbol\": \"circle\"}, \"mode\": \"markers\", \"name\": \"Earth\", \"scene\": \"scene\", \"showlegend\": true, \"x\": [-142083444459.25894], \"y\": [-43560967718.42485], \"z\": [-18874496339.78319], \"type\": \"scatter3d\"}], \"name\": \"42\"}, {\"data\": [{\"hovertemplate\": \"name=Sun<br>index=49<br>x=%{x}<br>y=%{y}<br>z=%{z}<br>radius=%{marker.size}<extra></extra>\", \"ids\": [\"Sun\"], \"legendgroup\": \"Sun\", \"marker\": {\"color\": \"orange\", \"size\": [20.36134860476573], \"sizemode\": \"area\", \"sizeref\": 0.050903371511914326, \"symbol\": \"circle\"}, \"mode\": \"markers\", \"name\": \"Sun\", \"scene\": \"scene\", \"showlegend\": true, \"x\": [2555618.1501899264], \"y\": [2239344.299163051], \"z\": [222259.5111779292], \"type\": \"scatter3d\"}, {\"hovertemplate\": \"name=Mars<br>index=49<br>x=%{x}<br>y=%{y}<br>z=%{z}<br>radius=%{marker.size}<extra></extra>\", \"ids\": [\"Mars\"], \"legendgroup\": \"Mars\", \"marker\": {\"color\": \"crimson\", \"size\": [8.12843769687102], \"sizemode\": \"area\", \"sizeref\": 0.050903371511914326, \"symbol\": \"circle\"}, \"mode\": \"markers\", \"name\": \"Mars\", \"scene\": \"scene\", \"showlegend\": true, \"x\": [109376599951.45088], \"y\": [178797070942.88812], \"z\": [79064199800.2071], \"type\": \"scatter3d\"}, {\"hovertemplate\": \"name=Mercury<br>index=49<br>x=%{x}<br>y=%{y}<br>z=%{z}<br>radius=%{marker.size}<extra></extra>\", \"ids\": [\"Mercury\"], \"legendgroup\": \"Mercury\", \"marker\": {\"color\": \"cornflowerblue\", \"size\": [7.7996303599085035], \"sizemode\": \"area\", \"sizeref\": 0.050903371511914326, \"symbol\": \"circle\"}, \"mode\": \"markers\", \"name\": \"Mercury\", \"scene\": \"scene\", \"showlegend\": true, \"x\": [33585510206.31866], \"y\": [-47815657795.19416], \"z\": [-29023442434.101444], \"type\": \"scatter3d\"}, {\"hovertemplate\": \"name=Neptune<br>index=49<br>x=%{x}<br>y=%{y}<br>z=%{z}<br>radius=%{marker.size}<extra></extra>\", \"ids\": [\"Neptune\"], \"legendgroup\": \"Neptune\", \"marker\": {\"color\": \"cyan\", \"size\": [10.15120663641638], \"sizemode\": \"area\", \"sizeref\": 0.050903371511914326, \"symbol\": \"circle\"}, \"mode\": \"markers\", \"name\": \"Neptune\", \"scene\": \"scene\", \"showlegend\": true, \"x\": [2554482351728.846], \"y\": [-3411921155504.7603], \"z\": [-1459965596383.617], \"type\": \"scatter3d\"}, {\"hovertemplate\": \"name=Saturn<br>index=49<br>x=%{x}<br>y=%{y}<br>z=%{z}<br>radius=%{marker.size}<extra></extra>\", \"ids\": [\"Saturn\"], \"legendgroup\": \"Saturn\", \"marker\": {\"color\": \"khaki\", \"size\": [10.972190310798094], \"sizemode\": \"area\", \"sizeref\": 0.050903371511914326, \"symbol\": \"circle\"}, \"mode\": \"markers\", \"name\": \"Saturn\", \"scene\": \"scene\", \"showlegend\": true, \"x\": [889248440112.983], \"y\": [976923680922.35], \"z\": [365303189570.2086], \"type\": \"scatter3d\"}, {\"hovertemplate\": \"name=Uranus<br>index=49<br>x=%{x}<br>y=%{y}<br>z=%{z}<br>radius=%{marker.size}<extra></extra>\", \"ids\": [\"Uranus\"], \"legendgroup\": \"Uranus\", \"marker\": {\"color\": \"lightcyan\", \"size\": [10.141007269794844], \"sizemode\": \"area\", \"sizeref\": 0.050903371511914326, \"symbol\": \"circle\"}, \"mode\": \"markers\", \"name\": \"Uranus\", \"scene\": \"scene\", \"showlegend\": true, \"x\": [2200449360612.1147], \"y\": [-1832205034831.5825], \"z\": [-833589278141.6771], \"type\": \"scatter3d\"}, {\"hovertemplate\": \"name=Jupiter<br>index=49<br>x=%{x}<br>y=%{y}<br>z=%{z}<br>radius=%{marker.size}<extra></extra>\", \"ids\": [\"Jupiter\"], \"legendgroup\": \"Jupiter\", \"marker\": {\"color\": \"chocolate\", \"size\": [11.154978283509006], \"sizemode\": \"area\", \"sizeref\": 0.050903371511914326, \"symbol\": \"circle\"}, \"mode\": \"markers\", \"name\": \"Jupiter\", \"scene\": \"scene\", \"showlegend\": true, \"x\": [519586236631.0024], \"y\": [495491306730.7198], \"z\": [199690418995.76825], \"type\": \"scatter3d\"}, {\"hovertemplate\": \"name=Earth<br>index=49<br>x=%{x}<br>y=%{y}<br>z=%{z}<br>radius=%{marker.size}<extra></extra>\", \"ids\": [\"Earth\"], \"legendgroup\": \"Earth\", \"marker\": {\"color\": \"green\", \"size\": [8.759511722116487], \"sizemode\": \"area\", \"sizeref\": 0.050903371511914326, \"symbol\": \"circle\"}, \"mode\": \"markers\", \"name\": \"Earth\", \"scene\": \"scene\", \"showlegend\": true, \"x\": [-135659892509.16684], \"y\": [-58953301655.80373], \"z\": [-25547078501.33969], \"type\": \"scatter3d\"}], \"name\": \"49\"}, {\"data\": [{\"hovertemplate\": \"name=Sun<br>index=56<br>x=%{x}<br>y=%{y}<br>z=%{z}<br>radius=%{marker.size}<extra></extra>\", \"ids\": [\"Sun\"], \"legendgroup\": \"Sun\", \"marker\": {\"color\": \"orange\", \"size\": [20.36134860476573], \"sizemode\": \"area\", \"sizeref\": 0.050903371511914326, \"symbol\": \"circle\"}, \"mode\": \"markers\", \"name\": \"Sun\", \"scene\": \"scene\", \"showlegend\": true, \"x\": [3901448.8247181727], \"y\": [3455529.505825166], \"z\": [166545.40253150364], \"type\": \"scatter3d\"}, {\"hovertemplate\": \"name=Mars<br>index=56<br>x=%{x}<br>y=%{y}<br>z=%{z}<br>radius=%{marker.size}<extra></extra>\", \"ids\": [\"Mars\"], \"legendgroup\": \"Mars\", \"marker\": {\"color\": \"crimson\", \"size\": [8.12843769687102], \"sizemode\": \"area\", \"sizeref\": 0.050903371511914326, \"symbol\": \"circle\"}, \"mode\": \"markers\", \"name\": \"Mars\", \"scene\": \"scene\", \"showlegend\": true, \"x\": [96919781703.56744], \"y\": [185923897832.2465], \"z\": [82670878310.74135], \"type\": \"scatter3d\"}, {\"hovertemplate\": \"name=Mercury<br>index=56<br>x=%{x}<br>y=%{y}<br>z=%{z}<br>radius=%{marker.size}<extra></extra>\", \"ids\": [\"Mercury\"], \"legendgroup\": \"Mercury\", \"marker\": {\"color\": \"cornflowerblue\", \"size\": [7.7996303599085035], \"sizemode\": \"area\", \"sizeref\": 0.050903371511914326, \"symbol\": \"circle\"}, \"mode\": \"markers\", \"name\": \"Mercury\", \"scene\": \"scene\", \"showlegend\": true, \"x\": [49137131413.033485], \"y\": [-28404273733.96446], \"z\": [-20267356688.889538], \"type\": \"scatter3d\"}, {\"hovertemplate\": \"name=Neptune<br>index=56<br>x=%{x}<br>y=%{y}<br>z=%{z}<br>radius=%{marker.size}<extra></extra>\", \"ids\": [\"Neptune\"], \"legendgroup\": \"Neptune\", \"marker\": {\"color\": \"cyan\", \"size\": [10.15120663641638], \"sizemode\": \"area\", \"sizeref\": 0.050903371511914326, \"symbol\": \"circle\"}, \"mode\": \"markers\", \"name\": \"Neptune\", \"scene\": \"scene\", \"showlegend\": true, \"x\": [2557162426249.793], \"y\": [-3410146162804.354], \"z\": [-1459305694930.8909], \"type\": \"scatter3d\"}, {\"hovertemplate\": \"name=Saturn<br>index=56<br>x=%{x}<br>y=%{y}<br>z=%{z}<br>radius=%{marker.size}<extra></extra>\", \"ids\": [\"Saturn\"], \"legendgroup\": \"Saturn\", \"marker\": {\"color\": \"khaki\", \"size\": [10.972190310798094], \"sizemode\": \"area\", \"sizeref\": 0.050903371511914326, \"symbol\": \"circle\"}, \"mode\": \"markers\", \"name\": \"Saturn\", \"scene\": \"scene\", \"showlegend\": true, \"x\": [884484338173.3715], \"y\": [980340813702.9336], \"z\": [366919248557.65375], \"type\": \"scatter3d\"}, {\"hovertemplate\": \"name=Uranus<br>index=56<br>x=%{x}<br>y=%{y}<br>z=%{z}<br>radius=%{marker.size}<extra></extra>\", \"ids\": [\"Uranus\"], \"legendgroup\": \"Uranus\", \"marker\": {\"color\": \"lightcyan\", \"size\": [10.141007269794844], \"sizemode\": \"area\", \"sizeref\": 0.050903371511914326, \"symbol\": \"circle\"}, \"mode\": \"markers\", \"name\": \"Uranus\", \"scene\": \"scene\", \"showlegend\": true, \"x\": [2203192190752.6367], \"y\": [-1829574331063.3943], \"z\": [-832476129458.6725], \"type\": \"scatter3d\"}, {\"hovertemplate\": \"name=Jupiter<br>index=56<br>x=%{x}<br>y=%{y}<br>z=%{z}<br>radius=%{marker.size}<extra></extra>\", \"ids\": [\"Jupiter\"], \"legendgroup\": \"Jupiter\", \"marker\": {\"color\": \"chocolate\", \"size\": [11.154978283509006], \"sizemode\": \"area\", \"sizeref\": 0.050903371511914326, \"symbol\": \"circle\"}, \"mode\": \"markers\", \"name\": \"Jupiter\", \"scene\": \"scene\", \"showlegend\": true, \"x\": [513785034801.6614], \"y\": [500823520764.6999], \"z\": [202117497715.7758], \"type\": \"scatter3d\"}, {\"hovertemplate\": \"name=Earth<br>index=56<br>x=%{x}<br>y=%{y}<br>z=%{z}<br>radius=%{marker.size}<extra></extra>\", \"ids\": [\"Earth\"], \"legendgroup\": \"Earth\", \"marker\": {\"color\": \"green\", \"size\": [8.759511722116487], \"sizemode\": \"area\", \"sizeref\": 0.050903371511914326, \"symbol\": \"circle\"}, \"mode\": \"markers\", \"name\": \"Earth\", \"scene\": \"scene\", \"showlegend\": true, \"x\": [-127291342683.53072], \"y\": [-73500623269.49686], \"z\": [-31853491288.372364], \"type\": \"scatter3d\"}], \"name\": \"56\"}, {\"data\": [{\"hovertemplate\": \"name=Sun<br>index=63<br>x=%{x}<br>y=%{y}<br>z=%{z}<br>radius=%{marker.size}<extra></extra>\", \"ids\": [\"Sun\"], \"legendgroup\": \"Sun\", \"marker\": {\"color\": \"orange\", \"size\": [20.36134860476573], \"sizemode\": \"area\", \"sizeref\": 0.050903371511914326, \"symbol\": \"circle\"}, \"mode\": \"markers\", \"name\": \"Sun\", \"scene\": \"scene\", \"showlegend\": true, \"x\": [5306138.196181959], \"y\": [4728808.950693163], \"z\": [133316.77733415132], \"type\": \"scatter3d\"}, {\"hovertemplate\": \"name=Mars<br>index=63<br>x=%{x}<br>y=%{y}<br>z=%{z}<br>radius=%{marker.size}<extra></extra>\", \"ids\": [\"Mars\"], \"legendgroup\": \"Mars\", \"marker\": {\"color\": \"crimson\", \"size\": [8.12843769687102], \"sizemode\": \"area\", \"sizeref\": 0.050903371511914326, \"symbol\": \"circle\"}, \"mode\": \"markers\", \"name\": \"Mars\", \"scene\": \"scene\", \"showlegend\": true, \"x\": [84052075572.97733], \"y\": [192262727372.9155], \"z\": [85927167473.94388], \"type\": \"scatter3d\"}, {\"hovertemplate\": \"name=Mercury<br>index=63<br>x=%{x}<br>y=%{y}<br>z=%{z}<br>radius=%{marker.size}<extra></extra>\", \"ids\": [\"Mercury\"], \"legendgroup\": \"Mercury\", \"marker\": {\"color\": \"cornflowerblue\", \"size\": [7.7996303599085035], \"sizemode\": \"area\", \"sizeref\": 0.050903371511914326, \"symbol\": \"circle\"}, \"mode\": \"markers\", \"name\": \"Mercury\", \"scene\": \"scene\", \"showlegend\": true, \"x\": [53745843243.86572], \"y\": [-2961587636.508121], \"z\": [-7155228028.074396], \"type\": \"scatter3d\"}, {\"hovertemplate\": \"name=Neptune<br>index=63<br>x=%{x}<br>y=%{y}<br>z=%{z}<br>radius=%{marker.size}<extra></extra>\", \"ids\": [\"Neptune\"], \"legendgroup\": \"Neptune\", \"marker\": {\"color\": \"cyan\", \"size\": [10.15120663641638], \"sizemode\": \"area\", \"sizeref\": 0.050903371511914326, \"symbol\": \"circle\"}, \"mode\": \"markers\", \"name\": \"Neptune\", \"scene\": \"scene\", \"showlegend\": true, \"x\": [2559841142054.0376], \"y\": [-3408369356955.782], \"z\": [-1458645017607.997], \"type\": \"scatter3d\"}, {\"hovertemplate\": \"name=Saturn<br>index=63<br>x=%{x}<br>y=%{y}<br>z=%{z}<br>radius=%{marker.size}<extra></extra>\", \"ids\": [\"Saturn\"], \"legendgroup\": \"Saturn\", \"marker\": {\"color\": \"khaki\", \"size\": [10.972190310798094], \"sizemode\": \"area\", \"sizeref\": 0.050903371511914326, \"symbol\": \"circle\"}, \"mode\": \"markers\", \"name\": \"Saturn\", \"scene\": \"scene\", \"showlegend\": true, \"x\": [879703483223.7784], \"y\": [983739364629.5905], \"z\": [368528355491.3394], \"type\": \"scatter3d\"}, {\"hovertemplate\": \"name=Uranus<br>index=63<br>x=%{x}<br>y=%{y}<br>z=%{z}<br>radius=%{marker.size}<extra></extra>\", \"ids\": [\"Uranus\"], \"legendgroup\": \"Uranus\", \"marker\": {\"color\": \"lightcyan\", \"size\": [10.141007269794844], \"sizemode\": \"area\", \"sizeref\": 0.050903371511914326, \"symbol\": \"circle\"}, \"mode\": \"markers\", \"name\": \"Uranus\", \"scene\": \"scene\", \"showlegend\": true, \"x\": [2205930985777.4194], \"y\": [-1826940274913.016], \"z\": [-831361455434.4073], \"type\": \"scatter3d\"}, {\"hovertemplate\": \"name=Jupiter<br>index=63<br>x=%{x}<br>y=%{y}<br>z=%{z}<br>radius=%{marker.size}<extra></extra>\", \"ids\": [\"Jupiter\"], \"legendgroup\": \"Jupiter\", \"marker\": {\"color\": \"chocolate\", \"size\": [11.154978283509006], \"sizemode\": \"area\", \"sizeref\": 0.050903371511914326, \"symbol\": \"circle\"}, \"mode\": \"markers\", \"name\": \"Jupiter\", \"scene\": \"scene\", \"showlegend\": true, \"x\": [507923635434.58325], \"y\": [506097062188.10114], \"z\": [204520896158.8378], \"type\": \"scatter3d\"}, {\"hovertemplate\": \"name=Earth<br>index=63<br>x=%{x}<br>y=%{y}<br>z=%{z}<br>radius=%{marker.size}<extra></extra>\", \"ids\": [\"Earth\"], \"legendgroup\": \"Earth\", \"marker\": {\"color\": \"green\", \"size\": [8.759511722116487], \"sizemode\": \"area\", \"sizeref\": 0.050903371511914326, \"symbol\": \"circle\"}, \"mode\": \"markers\", \"name\": \"Earth\", \"scene\": \"scene\", \"showlegend\": true, \"x\": [-117108444851.3109], \"y\": [-87000533317.38794], \"z\": [-37706000022.74196], \"type\": \"scatter3d\"}], \"name\": \"63\"}, {\"data\": [{\"hovertemplate\": \"name=Sun<br>index=70<br>x=%{x}<br>y=%{y}<br>z=%{z}<br>radius=%{marker.size}<extra></extra>\", \"ids\": [\"Sun\"], \"legendgroup\": \"Sun\", \"marker\": {\"color\": \"orange\", \"size\": [20.36134860476573], \"sizemode\": \"area\", \"sizeref\": 0.050903371511914326, \"symbol\": \"circle\"}, \"mode\": \"markers\", \"name\": \"Sun\", \"scene\": \"scene\", \"showlegend\": true, \"x\": [6770264.584579054], \"y\": [6060063.841441857], \"z\": [122965.31856276037], \"type\": \"scatter3d\"}, {\"hovertemplate\": \"name=Mars<br>index=70<br>x=%{x}<br>y=%{y}<br>z=%{z}<br>radius=%{marker.size}<extra></extra>\", \"ids\": [\"Mars\"], \"legendgroup\": \"Mars\", \"marker\": {\"color\": \"crimson\", \"size\": [8.12843769687102], \"sizemode\": \"area\", \"sizeref\": 0.050903371511914326, \"symbol\": \"circle\"}, \"mode\": \"markers\", \"name\": \"Mars\", \"scene\": \"scene\", \"showlegend\": true, \"x\": [70834426246.2569], \"y\": [197801294540.56845], \"z\": [88825788733.7416], \"type\": \"scatter3d\"}, {\"hovertemplate\": \"name=Mercury<br>index=70<br>x=%{x}<br>y=%{y}<br>z=%{z}<br>radius=%{marker.size}<extra></extra>\", \"ids\": [\"Mercury\"], \"legendgroup\": \"Mercury\", \"marker\": {\"color\": \"cornflowerblue\", \"size\": [7.7996303599085035], \"sizemode\": \"area\", \"sizeref\": 0.050903371511914326, \"symbol\": \"circle\"}, \"mode\": \"markers\", \"name\": \"Mercury\", \"scene\": \"scene\", \"showlegend\": true, \"x\": [42353272661.18469], \"y\": [22937259767.49136], \"z\": [7859293542.370502], \"type\": \"scatter3d\"}, {\"hovertemplate\": \"name=Neptune<br>index=70<br>x=%{x}<br>y=%{y}<br>z=%{z}<br>radius=%{marker.size}<extra></extra>\", \"ids\": [\"Neptune\"], \"legendgroup\": \"Neptune\", \"marker\": {\"color\": \"cyan\", \"size\": [10.15120663641638], \"sizemode\": \"area\", \"sizeref\": 0.050903371511914326, \"symbol\": \"circle\"}, \"mode\": \"markers\", \"name\": \"Neptune\", \"scene\": \"scene\", \"showlegend\": true, \"x\": [2562518497687.135], \"y\": [-3406590738865.419], \"z\": [-1457983564749.8726], \"type\": \"scatter3d\"}, {\"hovertemplate\": \"name=Saturn<br>index=70<br>x=%{x}<br>y=%{y}<br>z=%{z}<br>radius=%{marker.size}<extra></extra>\", \"ids\": [\"Saturn\"], \"legendgroup\": \"Saturn\", \"marker\": {\"color\": \"khaki\", \"size\": [10.972190310798094], \"sizemode\": \"area\", \"sizeref\": 0.050903371511914326, \"symbol\": \"circle\"}, \"mode\": \"markers\", \"name\": \"Saturn\", \"scene\": \"scene\", \"showlegend\": true, \"x\": [874905957238.1211], \"y\": [987119260933.9652], \"z\": [370130476794.3889], \"type\": \"scatter3d\"}, {\"hovertemplate\": \"name=Uranus<br>index=70<br>x=%{x}<br>y=%{y}<br>z=%{z}<br>radius=%{marker.size}<extra></extra>\", \"ids\": [\"Uranus\"], \"legendgroup\": \"Uranus\", \"marker\": {\"color\": \"lightcyan\", \"size\": [10.141007269794844], \"sizemode\": \"area\", \"sizeref\": 0.050903371511914326, \"symbol\": \"circle\"}, \"mode\": \"markers\", \"name\": \"Uranus\", \"scene\": \"scene\", \"showlegend\": true, \"x\": [2208665741081.917], \"y\": [-1824302871555.64], \"z\": [-830245258270.9009], \"type\": \"scatter3d\"}, {\"hovertemplate\": \"name=Jupiter<br>index=70<br>x=%{x}<br>y=%{y}<br>z=%{z}<br>radius=%{marker.size}<extra></extra>\", \"ids\": [\"Jupiter\"], \"legendgroup\": \"Jupiter\", \"marker\": {\"color\": \"chocolate\", \"size\": [11.154978283509006], \"sizemode\": \"area\", \"sizeref\": 0.050903371511914326, \"symbol\": \"circle\"}, \"mode\": \"markers\", \"name\": \"Jupiter\", \"scene\": \"scene\", \"showlegend\": true, \"x\": [502002773389.7069], \"y\": [511311360453.45154], \"z\": [206900351770.00067], \"type\": \"scatter3d\"}, {\"hovertemplate\": \"name=Earth<br>index=70<br>x=%{x}<br>y=%{y}<br>z=%{z}<br>radius=%{marker.size}<extra></extra>\", \"ids\": [\"Earth\"], \"legendgroup\": \"Earth\", \"marker\": {\"color\": \"green\", \"size\": [8.759511722116487], \"sizemode\": \"area\", \"sizeref\": 0.050903371511914326, \"symbol\": \"circle\"}, \"mode\": \"markers\", \"name\": \"Earth\", \"scene\": \"scene\", \"showlegend\": true, \"x\": [-105265709228.5714], \"y\": [-99267589990.74583], \"z\": [-43024218906.03825], \"type\": \"scatter3d\"}], \"name\": \"70\"}, {\"data\": [{\"hovertemplate\": \"name=Sun<br>index=77<br>x=%{x}<br>y=%{y}<br>z=%{z}<br>radius=%{marker.size}<extra></extra>\", \"ids\": [\"Sun\"], \"legendgroup\": \"Sun\", \"marker\": {\"color\": \"orange\", \"size\": [20.36134860476573], \"sizemode\": \"area\", \"sizeref\": 0.050903371511914326, \"symbol\": \"circle\"}, \"mode\": \"markers\", \"name\": \"Sun\", \"scene\": \"scene\", \"showlegend\": true, \"x\": [8293807.546991354], \"y\": [7450964.353130808], \"z\": [136371.34864454367], \"type\": \"scatter3d\"}, {\"hovertemplate\": \"name=Mars<br>index=77<br>x=%{x}<br>y=%{y}<br>z=%{z}<br>radius=%{marker.size}<extra></extra>\", \"ids\": [\"Mars\"], \"legendgroup\": \"Mars\", \"marker\": {\"color\": \"crimson\", \"size\": [8.12843769687102], \"sizemode\": \"area\", \"sizeref\": 0.050903371511914326, \"symbol\": \"circle\"}, \"mode\": \"markers\", \"name\": \"Mars\", \"scene\": \"scene\", \"showlegend\": true, \"x\": [57327112239.83233], \"y\": [202531175551.34576], \"z\": [91361243915.7727], \"type\": \"scatter3d\"}, {\"hovertemplate\": \"name=Mercury<br>index=77<br>x=%{x}<br>y=%{y}<br>z=%{z}<br>radius=%{marker.size}<extra></extra>\", \"ids\": [\"Mercury\"], \"legendgroup\": \"Mercury\", \"marker\": {\"color\": \"cornflowerblue\", \"size\": [7.7996303599085035], \"sizemode\": \"area\", \"sizeref\": 0.050903371511914326, \"symbol\": \"circle\"}, \"mode\": \"markers\", \"name\": \"Mercury\", \"scene\": \"scene\", \"showlegend\": true, \"x\": [14313885181.058052], \"y\": [39242406557.10999], \"z\": [19474898602.12788], \"type\": \"scatter3d\"}, {\"hovertemplate\": \"name=Neptune<br>index=77<br>x=%{x}<br>y=%{y}<br>z=%{z}<br>radius=%{marker.size}<extra></extra>\", \"ids\": [\"Neptune\"], \"legendgroup\": \"Neptune\", \"marker\": {\"color\": \"cyan\", \"size\": [10.15120663641638], \"sizemode\": \"area\", \"sizeref\": 0.050903371511914326, \"symbol\": \"circle\"}, \"mode\": \"markers\", \"name\": \"Neptune\", \"scene\": \"scene\", \"showlegend\": true, \"x\": [2565194491695.396], \"y\": [-3404810309440.448], \"z\": [-1457321336691.8765], \"type\": \"scatter3d\"}, {\"hovertemplate\": \"name=Saturn<br>index=77<br>x=%{x}<br>y=%{y}<br>z=%{z}<br>radius=%{marker.size}<extra></extra>\", \"ids\": [\"Saturn\"], \"legendgroup\": \"Saturn\", \"marker\": {\"color\": \"khaki\", \"size\": [10.972190310798094], \"sizemode\": \"area\", \"sizeref\": 0.050903371511914326, \"symbol\": \"circle\"}, \"mode\": \"markers\", \"name\": \"Saturn\", \"scene\": \"scene\", \"showlegend\": true, \"x\": [870091842627.9706], \"y\": [990480430194.6438], \"z\": [371725579013.1568], \"type\": \"scatter3d\"}, {\"hovertemplate\": \"name=Uranus<br>index=77<br>x=%{x}<br>y=%{y}<br>z=%{z}<br>radius=%{marker.size}<extra></extra>\", \"ids\": [\"Uranus\"], \"legendgroup\": \"Uranus\", \"marker\": {\"color\": \"lightcyan\", \"size\": [10.141007269794844], \"sizemode\": \"area\", \"sizeref\": 0.050903371511914326, \"symbol\": \"circle\"}, \"mode\": \"markers\", \"name\": \"Uranus\", \"scene\": \"scene\", \"showlegend\": true, \"x\": [2211396452068.83], \"y\": [-1821662126170.1987], \"z\": [-829127540171.9935], \"type\": \"scatter3d\"}, {\"hovertemplate\": \"name=Jupiter<br>index=77<br>x=%{x}<br>y=%{y}<br>z=%{z}<br>radius=%{marker.size}<extra></extra>\", \"ids\": [\"Jupiter\"], \"legendgroup\": \"Jupiter\", \"marker\": {\"color\": \"chocolate\", \"size\": [11.154978283509006], \"sizemode\": \"area\", \"sizeref\": 0.050903371511914326, \"symbol\": \"circle\"}, \"mode\": \"markers\", \"name\": \"Jupiter\", \"scene\": \"scene\", \"showlegend\": true, \"x\": [496023190208.44775], \"y\": [516465853765.5848], \"z\": [209255605584.08105], \"type\": \"scatter3d\"}, {\"hovertemplate\": \"name=Earth<br>index=77<br>x=%{x}<br>y=%{y}<br>z=%{z}<br>radius=%{marker.size}<extra></extra>\", \"ids\": [\"Earth\"], \"legendgroup\": \"Earth\", \"marker\": {\"color\": \"green\", \"size\": [8.759511722116487], \"sizemode\": \"area\", \"sizeref\": 0.050903371511914326, \"symbol\": \"circle\"}, \"mode\": \"markers\", \"name\": \"Earth\", \"scene\": \"scene\", \"showlegend\": true, \"x\": [-91938897487.38808], \"y\": [-110135416332.84377], \"z\": [-47736024647.32001], \"type\": \"scatter3d\"}], \"name\": \"77\"}, {\"data\": [{\"hovertemplate\": \"name=Sun<br>index=84<br>x=%{x}<br>y=%{y}<br>z=%{z}<br>radius=%{marker.size}<extra></extra>\", \"ids\": [\"Sun\"], \"legendgroup\": \"Sun\", \"marker\": {\"color\": \"orange\", \"size\": [20.36134860476573], \"sizemode\": \"area\", \"sizeref\": 0.050903371511914326, \"symbol\": \"circle\"}, \"mode\": \"markers\", \"name\": \"Sun\", \"scene\": \"scene\", \"showlegend\": true, \"x\": [9875067.754233014], \"y\": [8903129.005639944], \"z\": [174562.72733859887], \"type\": \"scatter3d\"}, {\"hovertemplate\": \"name=Mars<br>index=84<br>x=%{x}<br>y=%{y}<br>z=%{z}<br>radius=%{marker.size}<extra></extra>\", \"ids\": [\"Mars\"], \"legendgroup\": \"Mars\", \"marker\": {\"color\": \"crimson\", \"size\": [8.12843769687102], \"sizemode\": \"area\", \"sizeref\": 0.050903371511914326, \"symbol\": \"circle\"}, \"mode\": \"markers\", \"name\": \"Mars\", \"scene\": \"scene\", \"showlegend\": true, \"x\": [43589492046.45109], \"y\": [206447565869.9487], \"z\": [93529720256.45834], \"type\": \"scatter3d\"}, {\"hovertemplate\": \"name=Mercury<br>index=84<br>x=%{x}<br>y=%{y}<br>z=%{z}<br>radius=%{marker.size}<extra></extra>\", \"ids\": [\"Mercury\"], \"legendgroup\": \"Mercury\", \"marker\": {\"color\": \"cornflowerblue\", \"size\": [7.7996303599085035], \"sizemode\": \"area\", \"sizeref\": 0.050903371511914326, \"symbol\": \"circle\"}, \"mode\": \"markers\", \"name\": \"Mercury\", \"scene\": \"scene\", \"showlegend\": true, \"x\": [-20304975781.14208], \"y\": [37243542316.76793], \"z\": [21995288675.95785], \"type\": \"scatter3d\"}, {\"hovertemplate\": \"name=Neptune<br>index=84<br>x=%{x}<br>y=%{y}<br>z=%{z}<br>radius=%{marker.size}<extra></extra>\", \"ids\": [\"Neptune\"], \"legendgroup\": \"Neptune\", \"marker\": {\"color\": \"cyan\", \"size\": [10.15120663641638], \"sizemode\": \"area\", \"sizeref\": 0.050903371511914326, \"symbol\": \"circle\"}, \"mode\": \"markers\", \"name\": \"Neptune\", \"scene\": \"scene\", \"showlegend\": true, \"x\": [2567869122625.811], \"y\": [-3403028069588.871], \"z\": [-1456658333769.7595], \"type\": \"scatter3d\"}, {\"hovertemplate\": \"name=Saturn<br>index=84<br>x=%{x}<br>y=%{y}<br>z=%{z}<br>radius=%{marker.size}<extra></extra>\", \"ids\": [\"Saturn\"], \"legendgroup\": \"Saturn\", \"marker\": {\"color\": \"khaki\", \"size\": [10.972190310798094], \"sizemode\": \"area\", \"sizeref\": 0.050903371511914326, \"symbol\": \"circle\"}, \"mode\": \"markers\", \"name\": \"Saturn\", \"scene\": \"scene\", \"showlegend\": true, \"x\": [865261222242.3015], \"y\": [993822800340.1394], \"z\": [373313628818.40015], \"type\": \"scatter3d\"}, {\"hovertemplate\": \"name=Uranus<br>index=84<br>x=%{x}<br>y=%{y}<br>z=%{z}<br>radius=%{marker.size}<extra></extra>\", \"ids\": [\"Uranus\"], \"legendgroup\": \"Uranus\", \"marker\": {\"color\": \"lightcyan\", \"size\": [10.141007269794844], \"sizemode\": \"area\", \"sizeref\": 0.050903371511914326, \"symbol\": \"circle\"}, \"mode\": \"markers\", \"name\": \"Uranus\", \"scene\": \"scene\", \"showlegend\": true, \"x\": [2214123114148.1025], \"y\": [-1819018043939.5613], \"z\": [-828008303343.3568], \"type\": \"scatter3d\"}, {\"hovertemplate\": \"name=Jupiter<br>index=84<br>x=%{x}<br>y=%{y}<br>z=%{z}<br>radius=%{marker.size}<extra></extra>\", \"ids\": [\"Jupiter\"], \"legendgroup\": \"Jupiter\", \"marker\": {\"color\": \"chocolate\", \"size\": [11.154978283509006], \"sizemode\": \"area\", \"sizeref\": 0.050903371511914326, \"symbol\": \"circle\"}, \"mode\": \"markers\", \"name\": \"Jupiter\", \"scene\": \"scene\", \"showlegend\": true, \"x\": [489985633973.2472], \"y\": [521559989147.7736], \"z\": [211586402257.1174], \"type\": \"scatter3d\"}, {\"hovertemplate\": \"name=Earth<br>index=84<br>x=%{x}<br>y=%{y}<br>z=%{z}<br>radius=%{marker.size}<extra></extra>\", \"ids\": [\"Earth\"], \"legendgroup\": \"Earth\", \"marker\": {\"color\": \"green\", \"size\": [8.759511722116487], \"sizemode\": \"area\", \"sizeref\": 0.050903371511914326, \"symbol\": \"circle\"}, \"mode\": \"markers\", \"name\": \"Earth\", \"scene\": \"scene\", \"showlegend\": true, \"x\": [-77322265392.2581], \"y\": [-119458475533.24573], \"z\": [-51778326084.6994], \"type\": \"scatter3d\"}], \"name\": \"84\"}, {\"data\": [{\"hovertemplate\": \"name=Sun<br>index=91<br>x=%{x}<br>y=%{y}<br>z=%{z}<br>radius=%{marker.size}<extra></extra>\", \"ids\": [\"Sun\"], \"legendgroup\": \"Sun\", \"marker\": {\"color\": \"orange\", \"size\": [20.36134860476573], \"sizemode\": \"area\", \"sizeref\": 0.050903371511914326, \"symbol\": \"circle\"}, \"mode\": \"markers\", \"name\": \"Sun\", \"scene\": \"scene\", \"showlegend\": true, \"x\": [11511466.341188272], \"y\": [10416476.760246117], \"z\": [237749.7817046826], \"type\": \"scatter3d\"}, {\"hovertemplate\": \"name=Mars<br>index=91<br>x=%{x}<br>y=%{y}<br>z=%{z}<br>radius=%{marker.size}<extra></extra>\", \"ids\": [\"Mars\"], \"legendgroup\": \"Mars\", \"marker\": {\"color\": \"crimson\", \"size\": [8.12843769687102], \"sizemode\": \"area\", \"sizeref\": 0.050903371511914326, \"symbol\": \"circle\"}, \"mode\": \"markers\", \"name\": \"Mars\", \"scene\": \"scene\", \"showlegend\": true, \"x\": [29679788842.274128], \"y\": [209549054991.0484], \"z\": [95328992904.44006], \"type\": \"scatter3d\"}, {\"hovertemplate\": \"name=Mercury<br>index=91<br>x=%{x}<br>y=%{y}<br>z=%{z}<br>radius=%{marker.size}<extra></extra>\", \"ids\": [\"Mercury\"], \"legendgroup\": \"Mercury\", \"marker\": {\"color\": \"cornflowerblue\", \"size\": [7.7996303599085035], \"sizemode\": \"area\", \"sizeref\": 0.050903371511914326, \"symbol\": \"circle\"}, \"mode\": \"markers\", \"name\": \"Mercury\", \"scene\": \"scene\", \"showlegend\": true, \"x\": [-46795211892.15041], \"y\": [19276143193.75964], \"z\": [15143302789.629025], \"type\": \"scatter3d\"}, {\"hovertemplate\": \"name=Neptune<br>index=91<br>x=%{x}<br>y=%{y}<br>z=%{z}<br>radius=%{marker.size}<extra></extra>\", \"ids\": [\"Neptune\"], \"legendgroup\": \"Neptune\", \"marker\": {\"color\": \"cyan\", \"size\": [10.15120663641638], \"sizemode\": \"area\", \"sizeref\": 0.050903371511914326, \"symbol\": \"circle\"}, \"mode\": \"markers\", \"name\": \"Neptune\", \"scene\": \"scene\", \"showlegend\": true, \"x\": [2570542389026.009], \"y\": [-3401244020219.5435], \"z\": [-1455994556319.6533], \"type\": \"scatter3d\"}, {\"hovertemplate\": \"name=Saturn<br>index=91<br>x=%{x}<br>y=%{y}<br>z=%{z}<br>radius=%{marker.size}<extra></extra>\", \"ids\": [\"Saturn\"], \"legendgroup\": \"Saturn\", \"marker\": {\"color\": \"khaki\", \"size\": [10.972190310798094], \"sizemode\": \"area\", \"sizeref\": 0.050903371511914326, \"symbol\": \"circle\"}, \"mode\": \"markers\", \"name\": \"Saturn\", \"scene\": \"scene\", \"showlegend\": true, \"x\": [860414179366.927], \"y\": [997146299651.5154], \"z\": [374894593006.3292], \"type\": \"scatter3d\"}, {\"hovertemplate\": \"name=Uranus<br>index=91<br>x=%{x}<br>y=%{y}<br>z=%{z}<br>radius=%{marker.size}<extra></extra>\", \"ids\": [\"Uranus\"], \"legendgroup\": \"Uranus\", \"marker\": {\"color\": \"lightcyan\", \"size\": [10.141007269794844], \"sizemode\": \"area\", \"sizeref\": 0.050903371511914326, \"symbol\": \"circle\"}, \"mode\": \"markers\", \"name\": \"Uranus\", \"scene\": \"scene\", \"showlegend\": true, \"x\": [2216845722736.9795], \"y\": [-1816370630050.6284], \"z\": [-826887549992.5145], \"type\": \"scatter3d\"}, {\"hovertemplate\": \"name=Jupiter<br>index=91<br>x=%{x}<br>y=%{y}<br>z=%{z}<br>radius=%{marker.size}<extra></extra>\", \"ids\": [\"Jupiter\"], \"legendgroup\": \"Jupiter\", \"marker\": {\"color\": \"chocolate\", \"size\": [11.154978283509006], \"sizemode\": \"area\", \"sizeref\": 0.050903371511914326, \"symbol\": \"circle\"}, \"mode\": \"markers\", \"name\": \"Jupiter\", \"scene\": \"scene\", \"showlegend\": true, \"x\": [483890859165.4871], \"y\": [526593222504.5887], \"z\": [213892490096.64212], \"type\": \"scatter3d\"}, {\"hovertemplate\": \"name=Earth<br>index=91<br>x=%{x}<br>y=%{y}<br>z=%{z}<br>radius=%{marker.size}<extra></extra>\", \"ids\": [\"Earth\"], \"legendgroup\": \"Earth\", \"marker\": {\"color\": \"green\", \"size\": [8.759511722116487], \"sizemode\": \"area\", \"sizeref\": 0.050903371511914326, \"symbol\": \"circle\"}, \"mode\": \"markers\", \"name\": \"Earth\", \"scene\": \"scene\", \"showlegend\": true, \"x\": [-61625703667.48444], \"y\": [-127113523683.4931], \"z\": [-55097694005.06098], \"type\": \"scatter3d\"}], \"name\": \"91\"}, {\"data\": [{\"hovertemplate\": \"name=Sun<br>index=98<br>x=%{x}<br>y=%{y}<br>z=%{z}<br>radius=%{marker.size}<extra></extra>\", \"ids\": [\"Sun\"], \"legendgroup\": \"Sun\", \"marker\": {\"color\": \"orange\", \"size\": [20.36134860476573], \"sizemode\": \"area\", \"sizeref\": 0.050903371511914326, \"symbol\": \"circle\"}, \"mode\": \"markers\", \"name\": \"Sun\", \"scene\": \"scene\", \"showlegend\": true, \"x\": [13201694.854089811], \"y\": [11989711.39843358], \"z\": [325359.69701547065], \"type\": \"scatter3d\"}, {\"hovertemplate\": \"name=Mars<br>index=98<br>x=%{x}<br>y=%{y}<br>z=%{z}<br>radius=%{marker.size}<extra></extra>\", \"ids\": [\"Mars\"], \"legendgroup\": \"Mars\", \"marker\": {\"color\": \"crimson\", \"size\": [8.12843769687102], \"sizemode\": \"area\", \"sizeref\": 0.050903371511914326, \"symbol\": \"circle\"}, \"mode\": \"markers\", \"name\": \"Mars\", \"scene\": \"scene\", \"showlegend\": true, \"x\": [15654910844.489029], \"y\": [211837401932.4858], \"z\": [96758326784.37389], \"type\": \"scatter3d\"}, {\"hovertemplate\": \"name=Mercury<br>index=98<br>x=%{x}<br>y=%{y}<br>z=%{z}<br>radius=%{marker.size}<extra></extra>\", \"ids\": [\"Mercury\"], \"legendgroup\": \"Mercury\", \"marker\": {\"color\": \"cornflowerblue\", \"size\": [7.7996303599085035], \"sizemode\": \"area\", \"sizeref\": 0.050903371511914326, \"symbol\": \"circle\"}, \"mode\": \"markers\", \"name\": \"Mercury\", \"scene\": \"scene\", \"showlegend\": true, \"x\": [-58518695201.96427], \"y\": [-5295231303.821717], \"z\": [3232982893.57658], \"type\": \"scatter3d\"}, {\"hovertemplate\": \"name=Neptune<br>index=98<br>x=%{x}<br>y=%{y}<br>z=%{z}<br>radius=%{marker.size}<extra></extra>\", \"ids\": [\"Neptune\"], \"legendgroup\": \"Neptune\", \"marker\": {\"color\": \"cyan\", \"size\": [10.15120663641638], \"sizemode\": \"area\", \"sizeref\": 0.050903371511914326, \"symbol\": \"circle\"}, \"mode\": \"markers\", \"name\": \"Neptune\", \"scene\": \"scene\", \"showlegend\": true, \"x\": [2573214289444.245], \"y\": [-3399458162242.2056], \"z\": [-1455330004678.071], \"type\": \"scatter3d\"}, {\"hovertemplate\": \"name=Saturn<br>index=98<br>x=%{x}<br>y=%{y}<br>z=%{z}<br>radius=%{marker.size}<extra></extra>\", \"ids\": [\"Saturn\"], \"legendgroup\": \"Saturn\", \"marker\": {\"color\": \"khaki\", \"size\": [10.972190310798094], \"sizemode\": \"area\", \"sizeref\": 0.050903371511914326, \"symbol\": \"circle\"}, \"mode\": \"markers\", \"name\": \"Saturn\", \"scene\": \"scene\", \"showlegend\": true, \"x\": [855550797723.7767], \"y\": [1000450856764.8608], \"z\": [376468438499.6229], \"type\": \"scatter3d\"}, {\"hovertemplate\": \"name=Uranus<br>index=98<br>x=%{x}<br>y=%{y}<br>z=%{z}<br>radius=%{marker.size}<extra></extra>\", \"ids\": [\"Uranus\"], \"legendgroup\": \"Uranus\", \"marker\": {\"color\": \"lightcyan\", \"size\": [10.141007269794844], \"sizemode\": \"area\", \"sizeref\": 0.050903371511914326, \"symbol\": \"circle\"}, \"mode\": \"markers\", \"name\": \"Uranus\", \"scene\": \"scene\", \"showlegend\": true, \"x\": [2219564273260.065], \"y\": [-1813719889694.374], \"z\": [-825765282328.8597], \"type\": \"scatter3d\"}, {\"hovertemplate\": \"name=Jupiter<br>index=98<br>x=%{x}<br>y=%{y}<br>z=%{z}<br>radius=%{marker.size}<extra></extra>\", \"ids\": [\"Jupiter\"], \"legendgroup\": \"Jupiter\", \"marker\": {\"color\": \"chocolate\", \"size\": [11.154978283509006], \"sizemode\": \"area\", \"sizeref\": 0.050903371511914326, \"symbol\": \"circle\"}, \"mode\": \"markers\", \"name\": \"Jupiter\", \"scene\": \"scene\", \"showlegend\": true, \"x\": [477739626522.2108], \"y\": [531565018682.2023], \"z\": [216173621090.9876], \"type\": \"scatter3d\"}, {\"hovertemplate\": \"name=Earth<br>index=98<br>x=%{x}<br>y=%{y}<br>z=%{z}<br>radius=%{marker.size}<extra></extra>\", \"ids\": [\"Earth\"], \"legendgroup\": \"Earth\", \"marker\": {\"color\": \"green\", \"size\": [8.759511722116487], \"sizemode\": \"area\", \"sizeref\": 0.050903371511914326, \"symbol\": \"circle\"}, \"mode\": \"markers\", \"name\": \"Earth\", \"scene\": \"scene\", \"showlegend\": true, \"x\": [-45071816562.08508], \"y\": [-133000753878.8656], \"z\": [-57650857184.05628], \"type\": \"scatter3d\"}], \"name\": \"98\"}, {\"data\": [{\"hovertemplate\": \"name=Sun<br>index=105<br>x=%{x}<br>y=%{y}<br>z=%{z}<br>radius=%{marker.size}<extra></extra>\", \"ids\": [\"Sun\"], \"legendgroup\": \"Sun\", \"marker\": {\"color\": \"orange\", \"size\": [20.36134860476573], \"sizemode\": \"area\", \"sizeref\": 0.050903371511914326, \"symbol\": \"circle\"}, \"mode\": \"markers\", \"name\": \"Sun\", \"scene\": \"scene\", \"showlegend\": true, \"x\": [14945787.668936368], \"y\": [13621827.97264413], \"z\": [436832.42294372345], \"type\": \"scatter3d\"}, {\"hovertemplate\": \"name=Mars<br>index=105<br>x=%{x}<br>y=%{y}<br>z=%{z}<br>radius=%{marker.size}<extra></extra>\", \"ids\": [\"Mars\"], \"legendgroup\": \"Mars\", \"marker\": {\"color\": \"crimson\", \"size\": [8.12843769687102], \"sizemode\": \"area\", \"sizeref\": 0.050903371511914326, \"symbol\": \"circle\"}, \"mode\": \"markers\", \"name\": \"Mars\", \"scene\": \"scene\", \"showlegend\": true, \"x\": [1570304182.9358222], \"y\": [213317314766.9937], \"z\": [97818379435.51128], \"type\": \"scatter3d\"}, {\"hovertemplate\": \"name=Mercury<br>index=105<br>x=%{x}<br>y=%{y}<br>z=%{z}<br>radius=%{marker.size}<extra></extra>\", \"ids\": [\"Mercury\"], \"legendgroup\": \"Mercury\", \"marker\": {\"color\": \"cornflowerblue\", \"size\": [7.7996303599085035], \"sizemode\": \"area\", \"sizeref\": 0.050903371511914326, \"symbol\": \"circle\"}, \"mode\": \"markers\", \"name\": \"Mercury\", \"scene\": \"scene\", \"showlegend\": true, \"x\": [-56460085936.818405], \"y\": [-28899217417.58697], \"z\": [-9589284355.588348], \"type\": \"scatter3d\"}, {\"hovertemplate\": \"name=Neptune<br>index=105<br>x=%{x}<br>y=%{y}<br>z=%{z}<br>radius=%{marker.size}<extra></extra>\", \"ids\": [\"Neptune\"], \"legendgroup\": \"Neptune\", \"marker\": {\"color\": \"cyan\", \"size\": [10.15120663641638], \"sizemode\": \"area\", \"sizeref\": 0.050903371511914326, \"symbol\": \"circle\"}, \"mode\": \"markers\", \"name\": \"Neptune\", \"scene\": \"scene\", \"showlegend\": true, \"x\": [2575884822429.404], \"y\": [-3397670496567.508], \"z\": [-1454664679181.911], \"type\": \"scatter3d\"}, {\"hovertemplate\": \"name=Saturn<br>index=105<br>x=%{x}<br>y=%{y}<br>z=%{z}<br>radius=%{marker.size}<extra></extra>\", \"ids\": [\"Saturn\"], \"legendgroup\": \"Saturn\", \"marker\": {\"color\": \"khaki\", \"size\": [10.972190310798094], \"sizemode\": \"area\", \"sizeref\": 0.050903371511914326, \"symbol\": \"circle\"}, \"mode\": \"markers\", \"name\": \"Saturn\", \"scene\": \"scene\", \"showlegend\": true, \"x\": [850671161470.103], \"y\": [1003736400673.702], \"z\": [378035132348.434], \"type\": \"scatter3d\"}, {\"hovertemplate\": \"name=Uranus<br>index=105<br>x=%{x}<br>y=%{y}<br>z=%{z}<br>radius=%{marker.size}<extra></extra>\", \"ids\": [\"Uranus\"], \"legendgroup\": \"Uranus\", \"marker\": {\"color\": \"lightcyan\", \"size\": [10.141007269794844], \"sizemode\": \"area\", \"sizeref\": 0.050903371511914326, \"symbol\": \"circle\"}, \"mode\": \"markers\", \"name\": \"Uranus\", \"scene\": \"scene\", \"showlegend\": true, \"x\": [2222278761149.3643], \"y\": [-1811065828065.869], \"z\": [-824641502563.6654], \"type\": \"scatter3d\"}, {\"hovertemplate\": \"name=Jupiter<br>index=105<br>x=%{x}<br>y=%{y}<br>z=%{z}<br>radius=%{marker.size}<extra></extra>\", \"ids\": [\"Jupiter\"], \"legendgroup\": \"Jupiter\", \"marker\": {\"color\": \"chocolate\", \"size\": [11.154978283509006], \"sizemode\": \"area\", \"sizeref\": 0.050903371511914326, \"symbol\": \"circle\"}, \"mode\": \"markers\", \"name\": \"Jupiter\", \"scene\": \"scene\", \"showlegend\": true, \"x\": [471532702892.1871], \"y\": [536474851526.5244], \"z\": [218429550937.72147], \"type\": \"scatter3d\"}, {\"hovertemplate\": \"name=Earth<br>index=105<br>x=%{x}<br>y=%{y}<br>z=%{z}<br>radius=%{marker.size}<extra></extra>\", \"ids\": [\"Earth\"], \"legendgroup\": \"Earth\", \"marker\": {\"color\": \"green\", \"size\": [8.759511722116487], \"sizemode\": \"area\", \"sizeref\": 0.050903371511914326, \"symbol\": \"circle\"}, \"mode\": \"markers\", \"name\": \"Earth\", \"scene\": \"scene\", \"showlegend\": true, \"x\": [-27892970391.42378], \"y\": [-137044647971.88692], \"z\": [-59405071715.53346], \"type\": \"scatter3d\"}], \"name\": \"105\"}, {\"data\": [{\"hovertemplate\": \"name=Sun<br>index=112<br>x=%{x}<br>y=%{y}<br>z=%{z}<br>radius=%{marker.size}<extra></extra>\", \"ids\": [\"Sun\"], \"legendgroup\": \"Sun\", \"marker\": {\"color\": \"orange\", \"size\": [20.36134860476573], \"sizemode\": \"area\", \"sizeref\": 0.050903371511914326, \"symbol\": \"circle\"}, \"mode\": \"markers\", \"name\": \"Sun\", \"scene\": \"scene\", \"showlegend\": true, \"x\": [16744242.693430183], \"y\": [15312454.24363574], \"z\": [571893.0628986841], \"type\": \"scatter3d\"}, {\"hovertemplate\": \"name=Mars<br>index=112<br>x=%{x}<br>y=%{y}<br>z=%{z}<br>radius=%{marker.size}<extra></extra>\", \"ids\": [\"Mars\"], \"legendgroup\": \"Mars\", \"marker\": {\"color\": \"crimson\", \"size\": [8.12843769687102], \"sizemode\": \"area\", \"sizeref\": 0.050903371511914326, \"symbol\": \"circle\"}, \"mode\": \"markers\", \"name\": \"Mars\", \"scene\": \"scene\", \"showlegend\": true, \"x\": [-12520164916.562168], \"y\": [213996236838.09363], \"z\": [98511106121.47452], \"type\": \"scatter3d\"}, {\"hovertemplate\": \"name=Mercury<br>index=112<br>x=%{x}<br>y=%{y}<br>z=%{z}<br>radius=%{marker.size}<extra></extra>\", \"ids\": [\"Mercury\"], \"legendgroup\": \"Mercury\", \"marker\": {\"color\": \"cornflowerblue\", \"size\": [7.7996303599085035], \"sizemode\": \"area\", \"sizeref\": 0.050903371511914326, \"symbol\": \"circle\"}, \"mode\": \"markers\", \"name\": \"Mercury\", \"scene\": \"scene\", \"showlegend\": true, \"x\": [-44017411948.78164], \"y\": [-47352366772.99706], \"z\": [-20736623050.421234], \"type\": \"scatter3d\"}, {\"hovertemplate\": \"name=Neptune<br>index=112<br>x=%{x}<br>y=%{y}<br>z=%{z}<br>radius=%{marker.size}<extra></extra>\", \"ids\": [\"Neptune\"], \"legendgroup\": \"Neptune\", \"marker\": {\"color\": \"cyan\", \"size\": [10.15120663641638], \"sizemode\": \"area\", \"sizeref\": 0.050903371511914326, \"symbol\": \"circle\"}, \"mode\": \"markers\", \"name\": \"Neptune\", \"scene\": \"scene\", \"showlegend\": true, \"x\": [2578553986531.002], \"y\": [-3395881024107.025], \"z\": [-1453998580168.4604], \"type\": \"scatter3d\"}, {\"hovertemplate\": \"name=Saturn<br>index=112<br>x=%{x}<br>y=%{y}<br>z=%{z}<br>radius=%{marker.size}<extra></extra>\", \"ids\": [\"Saturn\"], \"legendgroup\": \"Saturn\", \"marker\": {\"color\": \"khaki\", \"size\": [10.972190310798094], \"sizemode\": \"area\", \"sizeref\": 0.050903371511914326, \"symbol\": \"circle\"}, \"mode\": \"markers\", \"name\": \"Saturn\", \"scene\": \"scene\", \"showlegend\": true, \"x\": [845775355197.6472], \"y\": [1007002860731.3636], \"z\": [379594641731.3817], \"type\": \"scatter3d\"}, {\"hovertemplate\": \"name=Uranus<br>index=112<br>x=%{x}<br>y=%{y}<br>z=%{z}<br>radius=%{marker.size}<extra></extra>\", \"ids\": [\"Uranus\"], \"legendgroup\": \"Uranus\", \"marker\": {\"color\": \"lightcyan\", \"size\": [10.141007269794844], \"sizemode\": \"area\", \"sizeref\": 0.050903371511914326, \"symbol\": \"circle\"}, \"mode\": \"markers\", \"name\": \"Uranus\", \"scene\": \"scene\", \"showlegend\": true, \"x\": [2224989181844.313], \"y\": [-1808408450364.2776], \"z\": [-823516212910.0897], \"type\": \"scatter3d\"}, {\"hovertemplate\": \"name=Jupiter<br>index=112<br>x=%{x}<br>y=%{y}<br>z=%{z}<br>radius=%{marker.size}<extra></extra>\", \"ids\": [\"Jupiter\"], \"legendgroup\": \"Jupiter\", \"marker\": {\"color\": \"chocolate\", \"size\": [11.154978283509006], \"sizemode\": \"area\", \"sizeref\": 0.050903371511914326, \"symbol\": \"circle\"}, \"mode\": \"markers\", \"name\": \"Jupiter\", \"scene\": \"scene\", \"showlegend\": true, \"x\": [465270861091.5236], \"y\": [541322203939.0408], \"z\": [220660039071.10883], \"type\": \"scatter3d\"}, {\"hovertemplate\": \"name=Earth<br>index=112<br>x=%{x}<br>y=%{y}<br>z=%{z}<br>radius=%{marker.size}<extra></extra>\", \"ids\": [\"Earth\"], \"legendgroup\": \"Earth\", \"marker\": {\"color\": \"green\", \"size\": [8.759511722116487], \"sizemode\": \"area\", \"sizeref\": 0.050903371511914326, \"symbol\": \"circle\"}, \"mode\": \"markers\", \"name\": \"Earth\", \"scene\": \"scene\", \"showlegend\": true, \"x\": [-10328337597.418297], \"y\": [-139194553050.5011], \"z\": [-60338371028.58321], \"type\": \"scatter3d\"}], \"name\": \"112\"}, {\"data\": [{\"hovertemplate\": \"name=Sun<br>index=119<br>x=%{x}<br>y=%{y}<br>z=%{z}<br>radius=%{marker.size}<extra></extra>\", \"ids\": [\"Sun\"], \"legendgroup\": \"Sun\", \"marker\": {\"color\": \"orange\", \"size\": [20.36134860476573], \"sizemode\": \"area\", \"sizeref\": 0.050903371511914326, \"symbol\": \"circle\"}, \"mode\": \"markers\", \"name\": \"Sun\", \"scene\": \"scene\", \"showlegend\": true, \"x\": [18597601.39970512], \"y\": [17061643.502119526], \"z\": [730483.7034266553], \"type\": \"scatter3d\"}, {\"hovertemplate\": \"name=Mars<br>index=119<br>x=%{x}<br>y=%{y}<br>z=%{z}<br>radius=%{marker.size}<extra></extra>\", \"ids\": [\"Mars\"], \"legendgroup\": \"Mars\", \"marker\": {\"color\": \"crimson\", \"size\": [8.12843769687102], \"sizemode\": \"area\", \"sizeref\": 0.050903371511914326, \"symbol\": \"circle\"}, \"mode\": \"markers\", \"name\": \"Mars\", \"scene\": \"scene\", \"showlegend\": true, \"x\": [-26564301881.599552], \"y\": [213884141681.31683], \"z\": [98839668226.7774], \"type\": \"scatter3d\"}, {\"hovertemplate\": \"name=Mercury<br>index=119<br>x=%{x}<br>y=%{y}<br>z=%{z}<br>radius=%{marker.size}<extra></extra>\", \"ids\": [\"Mercury\"], \"legendgroup\": \"Mercury\", \"marker\": {\"color\": \"cornflowerblue\", \"size\": [7.7996303599085035], \"sizemode\": \"area\", \"sizeref\": 0.050903371511914326, \"symbol\": \"circle\"}, \"mode\": \"markers\", \"name\": \"Mercury\", \"scene\": \"scene\", \"showlegend\": true, \"x\": [-24727637560.44063], \"y\": [-58544138582.738365], \"z\": [-28715017428.18727], \"type\": \"scatter3d\"}, {\"hovertemplate\": \"name=Neptune<br>index=119<br>x=%{x}<br>y=%{y}<br>z=%{z}<br>radius=%{marker.size}<extra></extra>\", \"ids\": [\"Neptune\"], \"legendgroup\": \"Neptune\", \"marker\": {\"color\": \"cyan\", \"size\": [10.15120663641638], \"sizemode\": \"area\", \"sizeref\": 0.050903371511914326, \"symbol\": \"circle\"}, \"mode\": \"markers\", \"name\": \"Neptune\", \"scene\": \"scene\", \"showlegend\": true, \"x\": [2581221780299.199], \"y\": [-3394089745773.271], \"z\": [-1453331707975.4006], \"type\": \"scatter3d\"}, {\"hovertemplate\": \"name=Saturn<br>index=119<br>x=%{x}<br>y=%{y}<br>z=%{z}<br>radius=%{marker.size}<extra></extra>\", \"ids\": [\"Saturn\"], \"legendgroup\": \"Saturn\", \"marker\": {\"color\": \"khaki\", \"size\": [10.972190310798094], \"sizemode\": \"area\", \"sizeref\": 0.050903371511914326, \"symbol\": \"circle\"}, \"mode\": \"markers\", \"name\": \"Saturn\", \"scene\": \"scene\", \"showlegend\": true, \"x\": [840863463931.7633], \"y\": [1010250166653.2688], \"z\": [381146933956.52747], \"type\": \"scatter3d\"}, {\"hovertemplate\": \"name=Uranus<br>index=119<br>x=%{x}<br>y=%{y}<br>z=%{z}<br>radius=%{marker.size}<extra></extra>\", \"ids\": [\"Uranus\"], \"legendgroup\": \"Uranus\", \"marker\": {\"color\": \"lightcyan\", \"size\": [10.141007269794844], \"sizemode\": \"area\", \"sizeref\": 0.050903371511914326, \"symbol\": \"circle\"}, \"mode\": \"markers\", \"name\": \"Uranus\", \"scene\": \"scene\", \"showlegend\": true, \"x\": [2227695530791.8013], \"y\": [-1805747761792.861], \"z\": [-822389415583.1799], \"type\": \"scatter3d\"}, {\"hovertemplate\": \"name=Jupiter<br>index=119<br>x=%{x}<br>y=%{y}<br>z=%{z}<br>radius=%{marker.size}<extra></extra>\", \"ids\": [\"Jupiter\"], \"legendgroup\": \"Jupiter\", \"marker\": {\"color\": \"chocolate\", \"size\": [11.154978283509006], \"sizemode\": \"area\", \"sizeref\": 0.050903371511914326, \"symbol\": \"circle\"}, \"mode\": \"markers\", \"name\": \"Jupiter\", \"scene\": \"scene\", \"showlegend\": true, \"x\": [458954879758.7629], \"y\": [546106567930.23706], \"z\": [222864848688.54788], \"type\": \"scatter3d\"}, {\"hovertemplate\": \"name=Earth<br>index=119<br>x=%{x}<br>y=%{y}<br>z=%{z}<br>radius=%{marker.size}<extra></extra>\", \"ids\": [\"Earth\"], \"legendgroup\": \"Earth\", \"marker\": {\"color\": \"green\", \"size\": [8.759511722116487], \"sizemode\": \"area\", \"sizeref\": 0.050903371511914326, \"symbol\": \"circle\"}, \"mode\": \"markers\", \"name\": \"Earth\", \"scene\": \"scene\", \"showlegend\": true, \"x\": [7379044112.384518], \"y\": [-139424999104.02396], \"z\": [-60439703725.81932], \"type\": \"scatter3d\"}], \"name\": \"119\"}, {\"data\": [{\"hovertemplate\": \"name=Sun<br>index=126<br>x=%{x}<br>y=%{y}<br>z=%{z}<br>radius=%{marker.size}<extra></extra>\", \"ids\": [\"Sun\"], \"legendgroup\": \"Sun\", \"marker\": {\"color\": \"orange\", \"size\": [20.36134860476573], \"sizemode\": \"area\", \"sizeref\": 0.050903371511914326, \"symbol\": \"circle\"}, \"mode\": \"markers\", \"name\": \"Sun\", \"scene\": \"scene\", \"showlegend\": true, \"x\": [20506365.49461289], \"y\": [18869697.141275235], \"z\": [912676.3321436222], \"type\": \"scatter3d\"}, {\"hovertemplate\": \"name=Mars<br>index=126<br>x=%{x}<br>y=%{y}<br>z=%{z}<br>radius=%{marker.size}<extra></extra>\", \"ids\": [\"Mars\"], \"legendgroup\": \"Mars\", \"marker\": {\"color\": \"crimson\", \"size\": [8.12843769687102], \"sizemode\": \"area\", \"sizeref\": 0.050903371511914326, \"symbol\": \"circle\"}, \"mode\": \"markers\", \"name\": \"Mars\", \"scene\": \"scene\", \"showlegend\": true, \"x\": [-40511652657.447365], \"y\": [212993338168.8698], \"z\": [98808345723.7354], \"type\": \"scatter3d\"}, {\"hovertemplate\": \"name=Mercury<br>index=126<br>x=%{x}<br>y=%{y}<br>z=%{z}<br>radius=%{marker.size}<extra></extra>\", \"ids\": [\"Mercury\"], \"legendgroup\": \"Mercury\", \"marker\": {\"color\": \"cornflowerblue\", \"size\": [7.7996303599085035], \"sizemode\": \"area\", \"sizeref\": 0.050903371511914326, \"symbol\": \"circle\"}, \"mode\": \"markers\", \"name\": \"Mercury\", \"scene\": \"scene\", \"showlegend\": true, \"x\": [-1896741421.545874], \"y\": [-61405137322.132], \"z\": [-32610533552.676765], \"type\": \"scatter3d\"}, {\"hovertemplate\": \"name=Neptune<br>index=126<br>x=%{x}<br>y=%{y}<br>z=%{z}<br>radius=%{marker.size}<extra></extra>\", \"ids\": [\"Neptune\"], \"legendgroup\": \"Neptune\", \"marker\": {\"color\": \"cyan\", \"size\": [10.15120663641638], \"sizemode\": \"area\", \"sizeref\": 0.050903371511914326, \"symbol\": \"circle\"}, \"mode\": \"markers\", \"name\": \"Neptune\", \"scene\": \"scene\", \"showlegend\": true, \"x\": [2583888202284.805], \"y\": [-3392296662479.7007], \"z\": [-1452664062940.8076], \"type\": \"scatter3d\"}, {\"hovertemplate\": \"name=Saturn<br>index=126<br>x=%{x}<br>y=%{y}<br>z=%{z}<br>radius=%{marker.size}<extra></extra>\", \"ids\": [\"Saturn\"], \"legendgroup\": \"Saturn\", \"marker\": {\"color\": \"khaki\", \"size\": [10.972190310798094], \"sizemode\": \"area\", \"sizeref\": 0.050903371511914326, \"symbol\": \"circle\"}, \"mode\": \"markers\", \"name\": \"Saturn\", \"scene\": \"scene\", \"showlegend\": true, \"x\": [835935573130.495], \"y\": [1013478248519.1917], \"z\": [382691976462.3351], \"type\": \"scatter3d\"}, {\"hovertemplate\": \"name=Uranus<br>index=126<br>x=%{x}<br>y=%{y}<br>z=%{z}<br>radius=%{marker.size}<extra></extra>\", \"ids\": [\"Uranus\"], \"legendgroup\": \"Uranus\", \"marker\": {\"color\": \"lightcyan\", \"size\": [10.141007269794844], \"sizemode\": \"area\", \"sizeref\": 0.050903371511914326, \"symbol\": \"circle\"}, \"mode\": \"markers\", \"name\": \"Uranus\", \"scene\": \"scene\", \"showlegend\": true, \"x\": [2230397803446.192], \"y\": [-1803083767558.9692], \"z\": [-821261112799.8728], \"type\": \"scatter3d\"}, {\"hovertemplate\": \"name=Jupiter<br>index=126<br>x=%{x}<br>y=%{y}<br>z=%{z}<br>radius=%{marker.size}<extra></extra>\", \"ids\": [\"Jupiter\"], \"legendgroup\": \"Jupiter\", \"marker\": {\"color\": \"chocolate\", \"size\": [11.154978283509006], \"sizemode\": \"area\", \"sizeref\": 0.050903371511914326, \"symbol\": \"circle\"}, \"mode\": \"markers\", \"name\": \"Jupiter\", \"scene\": \"scene\", \"showlegend\": true, \"x\": [452585543209.4562], \"y\": [550827444670.6212], \"z\": [225043746775.99188], \"type\": \"scatter3d\"}, {\"hovertemplate\": \"name=Earth<br>index=126<br>x=%{x}<br>y=%{y}<br>z=%{z}<br>radius=%{marker.size}<extra></extra>\", \"ids\": [\"Earth\"], \"legendgroup\": \"Earth\", \"marker\": {\"color\": \"green\", \"size\": [8.759511722116487], \"sizemode\": \"area\", \"sizeref\": 0.050903371511914326, \"symbol\": \"circle\"}, \"mode\": \"markers\", \"name\": \"Earth\", \"scene\": \"scene\", \"showlegend\": true, \"x\": [24985182967.73178], \"y\": [-137735772659.68893], \"z\": [-59708965646.12837], \"type\": \"scatter3d\"}], \"name\": \"126\"}, {\"data\": [{\"hovertemplate\": \"name=Sun<br>index=133<br>x=%{x}<br>y=%{y}<br>z=%{z}<br>radius=%{marker.size}<extra></extra>\", \"ids\": [\"Sun\"], \"legendgroup\": \"Sun\", \"marker\": {\"color\": \"orange\", \"size\": [20.36134860476573], \"sizemode\": \"area\", \"sizeref\": 0.050903371511914326, \"symbol\": \"circle\"}, \"mode\": \"markers\", \"name\": \"Sun\", \"scene\": \"scene\", \"showlegend\": true, \"x\": [22471020.97773197], \"y\": [20737083.132422544], \"z\": [1118625.939733999], \"type\": \"scatter3d\"}, {\"hovertemplate\": \"name=Mars<br>index=133<br>x=%{x}<br>y=%{y}<br>z=%{z}<br>radius=%{marker.size}<extra></extra>\", \"ids\": [\"Mars\"], \"legendgroup\": \"Mars\", \"marker\": {\"color\": \"crimson\", \"size\": [8.12843769687102], \"sizemode\": \"area\", \"sizeref\": 0.050903371511914326, \"symbol\": \"circle\"}, \"mode\": \"markers\", \"name\": \"Mars\", \"scene\": \"scene\", \"showlegend\": true, \"x\": [-54313552734.35025], \"y\": [211338286951.1789], \"z\": [98422454285.02444], \"type\": \"scatter3d\"}, {\"hovertemplate\": \"name=Mercury<br>index=133<br>x=%{x}<br>y=%{y}<br>z=%{z}<br>radius=%{marker.size}<extra></extra>\", \"ids\": [\"Mercury\"], \"legendgroup\": \"Mercury\", \"marker\": {\"color\": \"cornflowerblue\", \"size\": [7.7996303599085035], \"sizemode\": \"area\", \"sizeref\": 0.050903371511914326, \"symbol\": \"circle\"}, \"mode\": \"markers\", \"name\": \"Mercury\", \"scene\": \"scene\", \"showlegend\": true, \"x\": [21180329269.220238], \"y\": [-55451966675.79598], \"z\": [-31823398376.96417], \"type\": \"scatter3d\"}, {\"hovertemplate\": \"name=Neptune<br>index=133<br>x=%{x}<br>y=%{y}<br>z=%{z}<br>radius=%{marker.size}<extra></extra>\", \"ids\": [\"Neptune\"], \"legendgroup\": \"Neptune\", \"marker\": {\"color\": \"cyan\", \"size\": [10.15120663641638], \"sizemode\": \"area\", \"sizeref\": 0.050903371511914326, \"symbol\": \"circle\"}, \"mode\": \"markers\", \"name\": \"Neptune\", \"scene\": \"scene\", \"showlegend\": true, \"x\": [2586553251039.285], \"y\": [-3390501775140.718], \"z\": [-1451995645403.157], \"type\": \"scatter3d\"}, {\"hovertemplate\": \"name=Saturn<br>index=133<br>x=%{x}<br>y=%{y}<br>z=%{z}<br>radius=%{marker.size}<extra></extra>\", \"ids\": [\"Saturn\"], \"legendgroup\": \"Saturn\", \"marker\": {\"color\": \"khaki\", \"size\": [10.972190310798094], \"sizemode\": \"area\", \"sizeref\": 0.050903371511914326, \"symbol\": \"circle\"}, \"mode\": \"markers\", \"name\": \"Saturn\", \"scene\": \"scene\", \"showlegend\": true, \"x\": [830991768683.6064], \"y\": [1016687036775.46], \"z\": [384229736818.6184], \"type\": \"scatter3d\"}, {\"hovertemplate\": \"name=Uranus<br>index=133<br>x=%{x}<br>y=%{y}<br>z=%{z}<br>radius=%{marker.size}<extra></extra>\", \"ids\": [\"Uranus\"], \"legendgroup\": \"Uranus\", \"marker\": {\"color\": \"lightcyan\", \"size\": [10.141007269794844], \"sizemode\": \"area\", \"sizeref\": 0.050903371511914326, \"symbol\": \"circle\"}, \"mode\": \"markers\", \"name\": \"Uranus\", \"scene\": \"scene\", \"showlegend\": true, \"x\": [2233095995269.331], \"y\": [-1800416472874.0369], \"z\": [-820131306778.9941], \"type\": \"scatter3d\"}, {\"hovertemplate\": \"name=Jupiter<br>index=133<br>x=%{x}<br>y=%{y}<br>z=%{z}<br>radius=%{marker.size}<extra></extra>\", \"ids\": [\"Jupiter\"], \"legendgroup\": \"Jupiter\", \"marker\": {\"color\": \"chocolate\", \"size\": [11.154978283509006], \"sizemode\": \"area\", \"sizeref\": 0.050903371511914326, \"symbol\": \"circle\"}, \"mode\": \"markers\", \"name\": \"Jupiter\", \"scene\": \"scene\", \"showlegend\": true, \"x\": [446163641290.2654], \"y\": [555484344539.3812], \"z\": [227196504132.3704], \"type\": \"scatter3d\"}, {\"hovertemplate\": \"name=Earth<br>index=133<br>x=%{x}<br>y=%{y}<br>z=%{z}<br>radius=%{marker.size}<extra></extra>\", \"ids\": [\"Earth\"], \"legendgroup\": \"Earth\", \"marker\": {\"color\": \"green\", \"size\": [8.759511722116487], \"sizemode\": \"area\", \"sizeref\": 0.050903371511914326, \"symbol\": \"circle\"}, \"mode\": \"markers\", \"name\": \"Earth\", \"scene\": \"scene\", \"showlegend\": true, \"x\": [42248003915.06842], \"y\": [-134151758692.83496], \"z\": [-58156931471.58223], \"type\": \"scatter3d\"}], \"name\": \"133\"}, {\"data\": [{\"hovertemplate\": \"name=Sun<br>index=140<br>x=%{x}<br>y=%{y}<br>z=%{z}<br>radius=%{marker.size}<extra></extra>\", \"ids\": [\"Sun\"], \"legendgroup\": \"Sun\", \"marker\": {\"color\": \"orange\", \"size\": [20.36134860476573], \"sizemode\": \"area\", \"sizeref\": 0.050903371511914326, \"symbol\": \"circle\"}, \"mode\": \"markers\", \"name\": \"Sun\", \"scene\": \"scene\", \"showlegend\": true, \"x\": [24492092.898577183], \"y\": [22664426.18395189], \"z\": [1348558.815970987], \"type\": \"scatter3d\"}, {\"hovertemplate\": \"name=Mars<br>index=140<br>x=%{x}<br>y=%{y}<br>z=%{z}<br>radius=%{marker.size}<extra></extra>\", \"ids\": [\"Mars\"], \"legendgroup\": \"Mars\", \"marker\": {\"color\": \"crimson\", \"size\": [8.12843769687102], \"sizemode\": \"area\", \"sizeref\": 0.050903371511914326, \"symbol\": \"circle\"}, \"mode\": \"markers\", \"name\": \"Mars\", \"scene\": \"scene\", \"showlegend\": true, \"x\": [-67923159213.90386], \"y\": [208935428883.81573], \"z\": [97688267435.6762], \"type\": \"scatter3d\"}, {\"hovertemplate\": \"name=Mercury<br>index=140<br>x=%{x}<br>y=%{y}<br>z=%{z}<br>radius=%{marker.size}<extra></extra>\", \"ids\": [\"Mercury\"], \"legendgroup\": \"Mercury\", \"marker\": {\"color\": \"cornflowerblue\", \"size\": [7.7996303599085035], \"sizemode\": \"area\", \"sizeref\": 0.050903371511914326, \"symbol\": \"circle\"}, \"mode\": \"markers\", \"name\": \"Mercury\", \"scene\": \"scene\", \"showlegend\": true, \"x\": [40829795462.68427], \"y\": [-40763461683.58363], \"z\": [-26014890782.68088], \"type\": \"scatter3d\"}, {\"hovertemplate\": \"name=Neptune<br>index=140<br>x=%{x}<br>y=%{y}<br>z=%{z}<br>radius=%{marker.size}<extra></extra>\", \"ids\": [\"Neptune\"], \"legendgroup\": \"Neptune\", \"marker\": {\"color\": \"cyan\", \"size\": [10.15120663641638], \"sizemode\": \"area\", \"sizeref\": 0.050903371511914326, \"symbol\": \"circle\"}, \"mode\": \"markers\", \"name\": \"Neptune\", \"scene\": \"scene\", \"showlegend\": true, \"x\": [2589216925114.7646], \"y\": [-3388705084671.672], \"z\": [-1451326455701.3257], \"type\": \"scatter3d\"}, {\"hovertemplate\": \"name=Saturn<br>index=140<br>x=%{x}<br>y=%{y}<br>z=%{z}<br>radius=%{marker.size}<extra></extra>\", \"ids\": [\"Saturn\"], \"legendgroup\": \"Saturn\", \"marker\": {\"color\": \"khaki\", \"size\": [10.972190310798094], \"sizemode\": \"area\", \"sizeref\": 0.050903371511914326, \"symbol\": \"circle\"}, \"mode\": \"markers\", \"name\": \"Saturn\", \"scene\": \"scene\", \"showlegend\": true, \"x\": [826032136911.5625], \"y\": [1019876462237.116], \"z\": [385760182727.4763], \"type\": \"scatter3d\"}, {\"hovertemplate\": \"name=Uranus<br>index=140<br>x=%{x}<br>y=%{y}<br>z=%{z}<br>radius=%{marker.size}<extra></extra>\", \"ids\": [\"Uranus\"], \"legendgroup\": \"Uranus\", \"marker\": {\"color\": \"lightcyan\", \"size\": [10.141007269794844], \"sizemode\": \"area\", \"sizeref\": 0.050903371511914326, \"symbol\": \"circle\"}, \"mode\": \"markers\", \"name\": \"Uranus\", \"scene\": \"scene\", \"showlegend\": true, \"x\": [2235790101730.5635], \"y\": [-1797745882953.577], \"z\": [-818999999741.2592], \"type\": \"scatter3d\"}, {\"hovertemplate\": \"name=Jupiter<br>index=140<br>x=%{x}<br>y=%{y}<br>z=%{z}<br>radius=%{marker.size}<extra></extra>\", \"ids\": [\"Jupiter\"], \"legendgroup\": \"Jupiter\", \"marker\": {\"color\": \"chocolate\", \"size\": [11.154978283509006], \"sizemode\": \"area\", \"sizeref\": 0.050903371511914326, \"symbol\": \"circle\"}, \"mode\": \"markers\", \"name\": \"Jupiter\", \"scene\": \"scene\", \"showlegend\": true, \"x\": [439689969232.652], \"y\": [560076787170.6936], \"z\": [229322895393.0165], \"type\": \"scatter3d\"}, {\"hovertemplate\": \"name=Earth<br>index=140<br>x=%{x}<br>y=%{y}<br>z=%{z}<br>radius=%{marker.size}<extra></extra>\", \"ids\": [\"Earth\"], \"legendgroup\": \"Earth\", \"marker\": {\"color\": \"green\", \"size\": [8.759511722116487], \"sizemode\": \"area\", \"sizeref\": 0.050903371511914326, \"symbol\": \"circle\"}, \"mode\": \"markers\", \"name\": \"Earth\", \"scene\": \"scene\", \"showlegend\": true, \"x\": [58930170741.88935], \"y\": [-128722560034.5888], \"z\": [-55805089868.13188], \"type\": \"scatter3d\"}], \"name\": \"140\"}, {\"data\": [{\"hovertemplate\": \"name=Sun<br>index=147<br>x=%{x}<br>y=%{y}<br>z=%{z}<br>radius=%{marker.size}<extra></extra>\", \"ids\": [\"Sun\"], \"legendgroup\": \"Sun\", \"marker\": {\"color\": \"orange\", \"size\": [20.36134860476573], \"sizemode\": \"area\", \"sizeref\": 0.050903371511914326, \"symbol\": \"circle\"}, \"mode\": \"markers\", \"name\": \"Sun\", \"scene\": \"scene\", \"showlegend\": true, \"x\": [26570206.961064853], \"y\": [24652574.37720349], \"z\": [1602801.0720619543], \"type\": \"scatter3d\"}, {\"hovertemplate\": \"name=Mars<br>index=147<br>x=%{x}<br>y=%{y}<br>z=%{z}<br>radius=%{marker.size}<extra></extra>\", \"ids\": [\"Mars\"], \"legendgroup\": \"Mars\", \"marker\": {\"color\": \"crimson\", \"size\": [8.12843769687102], \"sizemode\": \"area\", \"sizeref\": 0.050903371511914326, \"symbol\": \"circle\"}, \"mode\": \"markers\", \"name\": \"Mars\", \"scene\": \"scene\", \"showlegend\": true, \"x\": [-81295468593.0433], \"y\": [205803025805.244], \"z\": [96612943984.718], \"type\": \"scatter3d\"}, {\"hovertemplate\": \"name=Mercury<br>index=147<br>x=%{x}<br>y=%{y}<br>z=%{z}<br>radius=%{marker.size}<extra></extra>\", \"ids\": [\"Mercury\"], \"legendgroup\": \"Mercury\", \"marker\": {\"color\": \"cornflowerblue\", \"size\": [7.7996303599085035], \"sizemode\": \"area\", \"sizeref\": 0.050903371511914326, \"symbol\": \"circle\"}, \"mode\": \"markers\", \"name\": \"Mercury\", \"scene\": \"scene\", \"showlegend\": true, \"x\": [52579830959.50375], \"y\": [-18435541846.251404], \"z\": [-15306849195.411016], \"type\": \"scatter3d\"}, {\"hovertemplate\": \"name=Neptune<br>index=147<br>x=%{x}<br>y=%{y}<br>z=%{z}<br>radius=%{marker.size}<extra></extra>\", \"ids\": [\"Neptune\"], \"legendgroup\": \"Neptune\", \"marker\": {\"color\": \"cyan\", \"size\": [10.15120663641638], \"sizemode\": \"area\", \"sizeref\": 0.050903371511914326, \"symbol\": \"circle\"}, \"mode\": \"markers\", \"name\": \"Neptune\", \"scene\": \"scene\", \"showlegend\": true, \"x\": [2591879223064.0347], \"y\": [-3386906591988.867], \"z\": [-1450656494174.5923], \"type\": \"scatter3d\"}, {\"hovertemplate\": \"name=Saturn<br>index=147<br>x=%{x}<br>y=%{y}<br>z=%{z}<br>radius=%{marker.size}<extra></extra>\", \"ids\": [\"Saturn\"], \"legendgroup\": \"Saturn\", \"marker\": {\"color\": \"khaki\", \"size\": [10.972190310798094], \"sizemode\": \"area\", \"sizeref\": 0.050903371511914326, \"symbol\": \"circle\"}, \"mode\": \"markers\", \"name\": \"Saturn\", \"scene\": \"scene\", \"showlegend\": true, \"x\": [821056764564.4634], \"y\": [1023046456090.0376], \"z\": [387283282024.219], \"type\": \"scatter3d\"}, {\"hovertemplate\": \"name=Uranus<br>index=147<br>x=%{x}<br>y=%{y}<br>z=%{z}<br>radius=%{marker.size}<extra></extra>\", \"ids\": [\"Uranus\"], \"legendgroup\": \"Uranus\", \"marker\": {\"color\": \"lightcyan\", \"size\": [10.141007269794844], \"sizemode\": \"area\", \"sizeref\": 0.050903371511914326, \"symbol\": \"circle\"}, \"mode\": \"markers\", \"name\": \"Uranus\", \"scene\": \"scene\", \"showlegend\": true, \"x\": [2238480118306.742], \"y\": [-1795072003017.176], \"z\": [-817867193909.2709], \"type\": \"scatter3d\"}, {\"hovertemplate\": \"name=Jupiter<br>index=147<br>x=%{x}<br>y=%{y}<br>z=%{z}<br>radius=%{marker.size}<extra></extra>\", \"ids\": [\"Jupiter\"], \"legendgroup\": \"Jupiter\", \"marker\": {\"color\": \"chocolate\", \"size\": [11.154978283509006], \"sizemode\": \"area\", \"sizeref\": 0.050903371511914326, \"symbol\": \"circle\"}, \"mode\": \"markers\", \"name\": \"Jupiter\", \"scene\": \"scene\", \"showlegend\": true, \"x\": [433165327506.2061], \"y\": [564604301497.7028], \"z\": [231422699052.1085], \"type\": \"scatter3d\"}, {\"hovertemplate\": \"name=Earth<br>index=147<br>x=%{x}<br>y=%{y}<br>z=%{z}<br>radius=%{marker.size}<extra></extra>\", \"ids\": [\"Earth\"], \"legendgroup\": \"Earth\", \"marker\": {\"color\": \"green\", \"size\": [8.759511722116487], \"sizemode\": \"area\", \"sizeref\": 0.050903371511914326, \"symbol\": \"circle\"}, \"mode\": \"markers\", \"name\": \"Earth\", \"scene\": \"scene\", \"showlegend\": true, \"x\": [74801852647.18881], \"y\": [-121521900046.52316], \"z\": [-52685384694.374535], \"type\": \"scatter3d\"}], \"name\": \"147\"}, {\"data\": [{\"hovertemplate\": \"name=Sun<br>index=154<br>x=%{x}<br>y=%{y}<br>z=%{z}<br>radius=%{marker.size}<extra></extra>\", \"ids\": [\"Sun\"], \"legendgroup\": \"Sun\", \"marker\": {\"color\": \"orange\", \"size\": [20.36134860476573], \"sizemode\": \"area\", \"sizeref\": 0.050903371511914326, \"symbol\": \"circle\"}, \"mode\": \"markers\", \"name\": \"Sun\", \"scene\": \"scene\", \"showlegend\": true, \"x\": [28706095.431791324], \"y\": [26702789.818712503], \"z\": [1881879.2669790296], \"type\": \"scatter3d\"}, {\"hovertemplate\": \"name=Mars<br>index=154<br>x=%{x}<br>y=%{y}<br>z=%{z}<br>radius=%{marker.size}<extra></extra>\", \"ids\": [\"Mars\"], \"legendgroup\": \"Mars\", \"marker\": {\"color\": \"crimson\", \"size\": [8.12843769687102], \"sizemode\": \"area\", \"sizeref\": 0.050903371511914326, \"symbol\": \"circle\"}, \"mode\": \"markers\", \"name\": \"Mars\", \"scene\": \"scene\", \"showlegend\": true, \"x\": [-94387322732.16742], \"y\": [201961013764.7824], \"z\": [95204460848.90672], \"type\": \"scatter3d\"}, {\"hovertemplate\": \"name=Mercury<br>index=154<br>x=%{x}<br>y=%{y}<br>z=%{z}<br>radius=%{marker.size}<extra></extra>\", \"ids\": [\"Mercury\"], \"legendgroup\": \"Mercury\", \"marker\": {\"color\": \"cornflowerblue\", \"size\": [7.7996303599085035], \"sizemode\": \"area\", \"sizeref\": 0.050903371511914326, \"symbol\": \"circle\"}, \"mode\": \"markers\", \"name\": \"Mercury\", \"scene\": \"scene\", \"showlegend\": true, \"x\": [51133609946.74493], \"y\": [8183329441.215751], \"z\": [-938808992.3472042], \"type\": \"scatter3d\"}, {\"hovertemplate\": \"name=Neptune<br>index=154<br>x=%{x}<br>y=%{y}<br>z=%{z}<br>radius=%{marker.size}<extra></extra>\", \"ids\": [\"Neptune\"], \"legendgroup\": \"Neptune\", \"marker\": {\"color\": \"cyan\", \"size\": [10.15120663641638], \"sizemode\": \"area\", \"sizeref\": 0.050903371511914326, \"symbol\": \"circle\"}, \"mode\": \"markers\", \"name\": \"Neptune\", \"scene\": \"scene\", \"showlegend\": true, \"x\": [2594540143440.5566], \"y\": [-3385106298009.557], \"z\": [-1449985761162.6394], \"type\": \"scatter3d\"}, {\"hovertemplate\": \"name=Saturn<br>index=154<br>x=%{x}<br>y=%{y}<br>z=%{z}<br>radius=%{marker.size}<extra></extra>\", \"ids\": [\"Saturn\"], \"legendgroup\": \"Saturn\", \"marker\": {\"color\": \"khaki\", \"size\": [10.972190310798094], \"sizemode\": \"area\", \"sizeref\": 0.050903371511914326, \"symbol\": \"circle\"}, \"mode\": \"markers\", \"name\": \"Saturn\", \"scene\": \"scene\", \"showlegend\": true, \"x\": [816065738820.9285], \"y\": [1026196949893.0258], \"z\": [388799002678.2832], \"type\": \"scatter3d\"}, {\"hovertemplate\": \"name=Uranus<br>index=154<br>x=%{x}<br>y=%{y}<br>z=%{z}<br>radius=%{marker.size}<extra></extra>\", \"ids\": [\"Uranus\"], \"legendgroup\": \"Uranus\", \"marker\": {\"color\": \"lightcyan\", \"size\": [10.141007269794844], \"sizemode\": \"area\", \"sizeref\": 0.050903371511914326, \"symbol\": \"circle\"}, \"mode\": \"markers\", \"name\": \"Uranus\", \"scene\": \"scene\", \"showlegend\": true, \"x\": [2241166040482.232], \"y\": [-1792394838288.4883], \"z\": [-816732891507.5188], \"type\": \"scatter3d\"}, {\"hovertemplate\": \"name=Jupiter<br>index=154<br>x=%{x}<br>y=%{y}<br>z=%{z}<br>radius=%{marker.size}<extra></extra>\", \"ids\": [\"Jupiter\"], \"legendgroup\": \"Jupiter\", \"marker\": {\"color\": \"chocolate\", \"size\": [11.154978283509006], \"sizemode\": \"area\", \"sizeref\": 0.050903371511914326, \"symbol\": \"circle\"}, \"mode\": \"markers\", \"name\": \"Jupiter\", \"scene\": \"scene\", \"showlegend\": true, \"x\": [426590521671.6657], \"y\": [569066425794.2024], \"z\": [233495697484.13715], \"type\": \"scatter3d\"}, {\"hovertemplate\": \"name=Earth<br>index=154<br>x=%{x}<br>y=%{y}<br>z=%{z}<br>radius=%{marker.size}<extra></extra>\", \"ids\": [\"Earth\"], \"legendgroup\": \"Earth\", \"marker\": {\"color\": \"green\", \"size\": [8.759511722116487], \"sizemode\": \"area\", \"sizeref\": 0.050903371511914326, \"symbol\": \"circle\"}, \"mode\": \"markers\", \"name\": \"Earth\", \"scene\": \"scene\", \"showlegend\": true, \"x\": [89643428568.62624], \"y\": [-112646811045.2534], \"z\": [-48839863381.57346], \"type\": \"scatter3d\"}], \"name\": \"154\"}, {\"data\": [{\"hovertemplate\": \"name=Sun<br>index=161<br>x=%{x}<br>y=%{y}<br>z=%{z}<br>radius=%{marker.size}<extra></extra>\", \"ids\": [\"Sun\"], \"legendgroup\": \"Sun\", \"marker\": {\"color\": \"orange\", \"size\": [20.36134860476573], \"sizemode\": \"area\", \"sizeref\": 0.050903371511914326, \"symbol\": \"circle\"}, \"mode\": \"markers\", \"name\": \"Sun\", \"scene\": \"scene\", \"showlegend\": true, \"x\": [30900292.02830659], \"y\": [28817065.91442121], \"z\": [2186720.9991278336], \"type\": \"scatter3d\"}, {\"hovertemplate\": \"name=Mars<br>index=161<br>x=%{x}<br>y=%{y}<br>z=%{z}<br>radius=%{marker.size}<extra></extra>\", \"ids\": [\"Mars\"], \"legendgroup\": \"Mars\", \"marker\": {\"color\": \"crimson\", \"size\": [8.12843769687102], \"sizemode\": \"area\", \"sizeref\": 0.050903371511914326, \"symbol\": \"circle\"}, \"mode\": \"markers\", \"name\": \"Mars\", \"scene\": \"scene\", \"showlegend\": true, \"x\": [-107157405257.01608], \"y\": [197430868584.61557], \"z\": [93471551276.34544], \"type\": \"scatter3d\"}, {\"hovertemplate\": \"name=Mercury<br>index=161<br>x=%{x}<br>y=%{y}<br>z=%{z}<br>radius=%{marker.size}<extra></extra>\", \"ids\": [\"Mercury\"], \"legendgroup\": \"Mercury\", \"marker\": {\"color\": \"cornflowerblue\", \"size\": [7.7996303599085035], \"sizemode\": \"area\", \"sizeref\": 0.050903371511914326, \"symbol\": \"circle\"}, \"mode\": \"markers\", \"name\": \"Mercury\", \"scene\": \"scene\", \"showlegend\": true, \"x\": [32402706561.060528], \"y\": [31544528383.023342], \"z\": [13480874904.644398], \"type\": \"scatter3d\"}, {\"hovertemplate\": \"name=Neptune<br>index=161<br>x=%{x}<br>y=%{y}<br>z=%{z}<br>radius=%{marker.size}<extra></extra>\", \"ids\": [\"Neptune\"], \"legendgroup\": \"Neptune\", \"marker\": {\"color\": \"cyan\", \"size\": [10.15120663641638], \"sizemode\": \"area\", \"sizeref\": 0.050903371511914326, \"symbol\": \"circle\"}, \"mode\": \"markers\", \"name\": \"Neptune\", \"scene\": \"scene\", \"showlegend\": true, \"x\": [2597199684798.4634], \"y\": [-3383304203651.95], \"z\": [-1449314257005.5527], \"type\": \"scatter3d\"}, {\"hovertemplate\": \"name=Saturn<br>index=161<br>x=%{x}<br>y=%{y}<br>z=%{z}<br>radius=%{marker.size}<extra></extra>\", \"ids\": [\"Saturn\"], \"legendgroup\": \"Saturn\", \"marker\": {\"color\": \"khaki\", \"size\": [10.972190310798094], \"sizemode\": \"area\", \"sizeref\": 0.050903371511914326, \"symbol\": \"circle\"}, \"mode\": \"markers\", \"name\": \"Saturn\", \"scene\": \"scene\", \"showlegend\": true, \"x\": [811059147286.9379], \"y\": [1029327875579.8656], \"z\": [390307312794.1429], \"type\": \"scatter3d\"}, {\"hovertemplate\": \"name=Uranus<br>index=161<br>x=%{x}<br>y=%{y}<br>z=%{z}<br>radius=%{marker.size}<extra></extra>\", \"ids\": [\"Uranus\"], \"legendgroup\": \"Uranus\", \"marker\": {\"color\": \"lightcyan\", \"size\": [10.141007269794844], \"sizemode\": \"area\", \"sizeref\": 0.050903371511914326, \"symbol\": \"circle\"}, \"mode\": \"markers\", \"name\": \"Uranus\", \"scene\": \"scene\", \"showlegend\": true, \"x\": [2243847863748.9243], \"y\": [-1789714393995.2317], \"z\": [-815597094762.3776], \"type\": \"scatter3d\"}, {\"hovertemplate\": \"name=Jupiter<br>index=161<br>x=%{x}<br>y=%{y}<br>z=%{z}<br>radius=%{marker.size}<extra></extra>\", \"ids\": [\"Jupiter\"], \"legendgroup\": \"Jupiter\", \"marker\": {\"color\": \"chocolate\", \"size\": [11.154978283509006], \"sizemode\": \"area\", \"sizeref\": 0.050903371511914326, \"symbol\": \"circle\"}, \"mode\": \"markers\", \"name\": \"Jupiter\", \"scene\": \"scene\", \"showlegend\": true, \"x\": [419966362233.7088], \"y\": [573462707714.0884], \"z\": [235541676964.428], \"type\": \"scatter3d\"}, {\"hovertemplate\": \"name=Earth<br>index=161<br>x=%{x}<br>y=%{y}<br>z=%{z}<br>radius=%{marker.size}<extra></extra>\", \"ids\": [\"Earth\"], \"legendgroup\": \"Earth\", \"marker\": {\"color\": \"green\", \"size\": [8.759511722116487], \"sizemode\": \"area\", \"sizeref\": 0.050903371511914326, \"symbol\": \"circle\"}, \"mode\": \"markers\", \"name\": \"Earth\", \"scene\": \"scene\", \"showlegend\": true, \"x\": [103248121381.01875], \"y\": [-102216608039.1806], \"z\": [-44320232258.41022], \"type\": \"scatter3d\"}], \"name\": \"161\"}, {\"data\": [{\"hovertemplate\": \"name=Sun<br>index=168<br>x=%{x}<br>y=%{y}<br>z=%{z}<br>radius=%{marker.size}<extra></extra>\", \"ids\": [\"Sun\"], \"legendgroup\": \"Sun\", \"marker\": {\"color\": \"orange\", \"size\": [20.36134860476573], \"sizemode\": \"area\", \"sizeref\": 0.050903371511914326, \"symbol\": \"circle\"}, \"mode\": \"markers\", \"name\": \"Sun\", \"scene\": \"scene\", \"showlegend\": true, \"x\": [33152128.841235187], \"y\": [30998041.21081462], \"z\": [2518712.444792999], \"type\": \"scatter3d\"}, {\"hovertemplate\": \"name=Mars<br>index=168<br>x=%{x}<br>y=%{y}<br>z=%{z}<br>radius=%{marker.size}<extra></extra>\", \"ids\": [\"Mars\"], \"legendgroup\": \"Mars\", \"marker\": {\"color\": \"crimson\", \"size\": [8.12843769687102], \"sizemode\": \"area\", \"sizeref\": 0.050903371511914326, \"symbol\": \"circle\"}, \"mode\": \"markers\", \"name\": \"Mars\", \"scene\": \"scene\", \"showlegend\": true, \"x\": [-119566230431.64664], \"y\": [192235483468.86652], \"z\": [91423648393.79434], \"type\": \"scatter3d\"}, {\"hovertemplate\": \"name=Mercury<br>index=168<br>x=%{x}<br>y=%{y}<br>z=%{z}<br>radius=%{marker.size}<extra></extra>\", \"ids\": [\"Mercury\"], \"legendgroup\": \"Mercury\", \"marker\": {\"color\": \"cornflowerblue\", \"size\": [7.7996303599085035], \"sizemode\": \"area\", \"sizeref\": 0.050903371511914326, \"symbol\": \"circle\"}, \"mode\": \"markers\", \"name\": \"Mercury\", \"scene\": \"scene\", \"showlegend\": true, \"x\": [-199723611.925107], \"y\": [40828500294.62148], \"z\": [21819022284.38965], \"type\": \"scatter3d\"}, {\"hovertemplate\": \"name=Neptune<br>index=168<br>x=%{x}<br>y=%{y}<br>z=%{z}<br>radius=%{marker.size}<extra></extra>\", \"ids\": [\"Neptune\"], \"legendgroup\": \"Neptune\", \"marker\": {\"color\": \"cyan\", \"size\": [10.15120663641638], \"sizemode\": \"area\", \"sizeref\": 0.050903371511914326, \"symbol\": \"circle\"}, \"mode\": \"markers\", \"name\": \"Neptune\", \"scene\": \"scene\", \"showlegend\": true, \"x\": [2599857845692.561], \"y\": [-3381500309835.2085], \"z\": [-1448641982043.8245], \"type\": \"scatter3d\"}, {\"hovertemplate\": \"name=Saturn<br>index=168<br>x=%{x}<br>y=%{y}<br>z=%{z}<br>radius=%{marker.size}<extra></extra>\", \"ids\": [\"Saturn\"], \"legendgroup\": \"Saturn\", \"marker\": {\"color\": \"khaki\", \"size\": [10.972190310798094], \"sizemode\": \"area\", \"sizeref\": 0.050903371511914326, \"symbol\": \"circle\"}, \"mode\": \"markers\", \"name\": \"Saturn\", \"scene\": \"scene\", \"showlegend\": true, \"x\": [806037077994.6357], \"y\": [1032439165461.36], \"z\": [391808180612.2127], \"type\": \"scatter3d\"}, {\"hovertemplate\": \"name=Uranus<br>index=168<br>x=%{x}<br>y=%{y}<br>z=%{z}<br>radius=%{marker.size}<extra></extra>\", \"ids\": [\"Uranus\"], \"legendgroup\": \"Uranus\", \"marker\": {\"color\": \"lightcyan\", \"size\": [10.141007269794844], \"sizemode\": \"area\", \"sizeref\": 0.050903371511914326, \"symbol\": \"circle\"}, \"mode\": \"markers\", \"name\": \"Uranus\", \"scene\": \"scene\", \"showlegend\": true, \"x\": [2246525583606.236], \"y\": [-1787030675369.1792], \"z\": [-814459805902.1047], \"type\": \"scatter3d\"}, {\"hovertemplate\": \"name=Jupiter<br>index=168<br>x=%{x}<br>y=%{y}<br>z=%{z}<br>radius=%{marker.size}<extra></extra>\", \"ids\": [\"Jupiter\"], \"legendgroup\": \"Jupiter\", \"marker\": {\"color\": \"chocolate\", \"size\": [11.154978283509006], \"sizemode\": \"area\", \"sizeref\": 0.050903371511914326, \"symbol\": \"circle\"}, \"mode\": \"markers\", \"name\": \"Jupiter\", \"scene\": \"scene\", \"showlegend\": true, \"x\": [413293664493.6809], \"y\": [577792704328.6278], \"z\": [237560427688.7214], \"type\": \"scatter3d\"}, {\"hovertemplate\": \"name=Earth<br>index=168<br>x=%{x}<br>y=%{y}<br>z=%{z}<br>radius=%{marker.size}<extra></extra>\", \"ids\": [\"Earth\"], \"legendgroup\": \"Earth\", \"marker\": {\"color\": \"green\", \"size\": [8.759511722116487], \"sizemode\": \"area\", \"sizeref\": 0.050903371511914326, \"symbol\": \"circle\"}, \"mode\": \"markers\", \"name\": \"Earth\", \"scene\": \"scene\", \"showlegend\": true, \"x\": [115424551631.3333], \"y\": [-90371644605.74445], \"z\": [-39187317421.42471], \"type\": \"scatter3d\"}], \"name\": \"168\"}, {\"data\": [{\"hovertemplate\": \"name=Sun<br>index=175<br>x=%{x}<br>y=%{y}<br>z=%{z}<br>radius=%{marker.size}<extra></extra>\", \"ids\": [\"Sun\"], \"legendgroup\": \"Sun\", \"marker\": {\"color\": \"orange\", \"size\": [20.36134860476573], \"sizemode\": \"area\", \"sizeref\": 0.050903371511914326, \"symbol\": \"circle\"}, \"mode\": \"markers\", \"name\": \"Sun\", \"scene\": \"scene\", \"showlegend\": true, \"x\": [35459130.87822802], \"y\": [33247535.73810384], \"z\": [2878978.9723468088], \"type\": \"scatter3d\"}, {\"hovertemplate\": \"name=Mars<br>index=175<br>x=%{x}<br>y=%{y}<br>z=%{z}<br>radius=%{marker.size}<extra></extra>\", \"ids\": [\"Mars\"], \"legendgroup\": \"Mars\", \"marker\": {\"color\": \"crimson\", \"size\": [8.12843769687102], \"sizemode\": \"area\", \"sizeref\": 0.050903371511914326, \"symbol\": \"circle\"}, \"mode\": \"markers\", \"name\": \"Mars\", \"scene\": \"scene\", \"showlegend\": true, \"x\": [-131576126341.29454], \"y\": [186399058248.65176], \"z\": [89070833938.42522], \"type\": \"scatter3d\"}, {\"hovertemplate\": \"name=Mercury<br>index=175<br>x=%{x}<br>y=%{y}<br>z=%{z}<br>radius=%{marker.size}<extra></extra>\", \"ids\": [\"Mercury\"], \"legendgroup\": \"Mercury\", \"marker\": {\"color\": \"cornflowerblue\", \"size\": [7.7996303599085035], \"sizemode\": \"area\", \"sizeref\": 0.050903371511914326, \"symbol\": \"circle\"}, \"mode\": \"markers\", \"name\": \"Mercury\", \"scene\": \"scene\", \"showlegend\": true, \"x\": [-32917768601.293808], \"y\": [31292071372.96609], \"z\": [20116059778.575863], \"type\": \"scatter3d\"}, {\"hovertemplate\": \"name=Neptune<br>index=175<br>x=%{x}<br>y=%{y}<br>z=%{z}<br>radius=%{marker.size}<extra></extra>\", \"ids\": [\"Neptune\"], \"legendgroup\": \"Neptune\", \"marker\": {\"color\": \"cyan\", \"size\": [10.15120663641638], \"sizemode\": \"area\", \"sizeref\": 0.050903371511914326, \"symbol\": \"circle\"}, \"mode\": \"markers\", \"name\": \"Neptune\", \"scene\": \"scene\", \"showlegend\": true, \"x\": [2602514624678.3354], \"y\": [-3379694617479.447], \"z\": [-1447968936618.3518], \"type\": \"scatter3d\"}, {\"hovertemplate\": \"name=Saturn<br>index=175<br>x=%{x}<br>y=%{y}<br>z=%{z}<br>radius=%{marker.size}<extra></extra>\", \"ids\": [\"Saturn\"], \"legendgroup\": \"Saturn\", \"marker\": {\"color\": \"khaki\", \"size\": [10.972190310798094], \"sizemode\": \"area\", \"sizeref\": 0.050903371511914326, \"symbol\": \"circle\"}, \"mode\": \"markers\", \"name\": \"Saturn\", \"scene\": \"scene\", \"showlegend\": true, \"x\": [800999619401.0969], \"y\": [1035530752227.3228], \"z\": [393301574509.7352], \"type\": \"scatter3d\"}, {\"hovertemplate\": \"name=Uranus<br>index=175<br>x=%{x}<br>y=%{y}<br>z=%{z}<br>radius=%{marker.size}<extra></extra>\", \"ids\": [\"Uranus\"], \"legendgroup\": \"Uranus\", \"marker\": {\"color\": \"lightcyan\", \"size\": [10.141007269794844], \"sizemode\": \"area\", \"sizeref\": 0.050903371511914326, \"symbol\": \"circle\"}, \"mode\": \"markers\", \"name\": \"Uranus\", \"scene\": \"scene\", \"showlegend\": true, \"x\": [2249199195561.117], \"y\": [-1784343687646.1536], \"z\": [-813321027156.839], \"type\": \"scatter3d\"}, {\"hovertemplate\": \"name=Jupiter<br>index=175<br>x=%{x}<br>y=%{y}<br>z=%{z}<br>radius=%{marker.size}<extra></extra>\", \"ids\": [\"Jupiter\"], \"legendgroup\": \"Jupiter\", \"marker\": {\"color\": \"chocolate\", \"size\": [11.154978283509006], \"sizemode\": \"area\", \"sizeref\": 0.050903371511914326, \"symbol\": \"circle\"}, \"mode\": \"markers\", \"name\": \"Jupiter\", \"scene\": \"scene\", \"showlegend\": true, \"x\": [406573248402.34247], \"y\": [582055982161.3748], \"z\": [239551743791.72012], \"type\": \"scatter3d\"}, {\"hovertemplate\": \"name=Earth<br>index=175<br>x=%{x}<br>y=%{y}<br>z=%{z}<br>radius=%{marker.size}<extra></extra>\", \"ids\": [\"Earth\"], \"legendgroup\": \"Earth\", \"marker\": {\"color\": \"green\", \"size\": [8.759511722116487], \"sizemode\": \"area\", \"sizeref\": 0.050903371511914326, \"symbol\": \"circle\"}, \"mode\": \"markers\", \"name\": \"Earth\", \"scene\": \"scene\", \"showlegend\": true, \"x\": [125999197121.08498], \"y\": [-77271845640.99158], \"z\": [-33510428876.123787], \"type\": \"scatter3d\"}], \"name\": \"175\"}, {\"data\": [{\"hovertemplate\": \"name=Sun<br>index=182<br>x=%{x}<br>y=%{y}<br>z=%{z}<br>radius=%{marker.size}<extra></extra>\", \"ids\": [\"Sun\"], \"legendgroup\": \"Sun\", \"marker\": {\"color\": \"orange\", \"size\": [20.36134860476573], \"sizemode\": \"area\", \"sizeref\": 0.050903371511914326, \"symbol\": \"circle\"}, \"mode\": \"markers\", \"name\": \"Sun\", \"scene\": \"scene\", \"showlegend\": true, \"x\": [37818837.136293285], \"y\": [35565523.85130196], \"z\": [3267647.4829497766], \"type\": \"scatter3d\"}, {\"hovertemplate\": \"name=Mars<br>index=182<br>x=%{x}<br>y=%{y}<br>z=%{z}<br>radius=%{marker.size}<extra></extra>\", \"ids\": [\"Mars\"], \"legendgroup\": \"Mars\", \"marker\": {\"color\": \"crimson\", \"size\": [8.12843769687102], \"sizemode\": \"area\", \"sizeref\": 0.050903371511914326, \"symbol\": \"circle\"}, \"mode\": \"markers\", \"name\": \"Mars\", \"scene\": \"scene\", \"showlegend\": true, \"x\": [-143151214020.0194], \"y\": [179946999767.83597], \"z\": [86423791988.9019], \"type\": \"scatter3d\"}, {\"hovertemplate\": \"name=Mercury<br>index=182<br>x=%{x}<br>y=%{y}<br>z=%{z}<br>radius=%{marker.size}<extra></extra>\", \"ids\": [\"Mercury\"], \"legendgroup\": \"Mercury\", \"marker\": {\"color\": \"cornflowerblue\", \"size\": [7.7996303599085035], \"sizemode\": \"area\", \"sizeref\": 0.050903371511914326, \"symbol\": \"circle\"}, \"mode\": \"markers\", \"name\": \"Mercury\", \"scene\": \"scene\", \"showlegend\": true, \"x\": [-53528352805.27943], \"y\": [9493754251.987902], \"z\": [10608211708.84338], \"type\": \"scatter3d\"}, {\"hovertemplate\": \"name=Neptune<br>index=182<br>x=%{x}<br>y=%{y}<br>z=%{z}<br>radius=%{marker.size}<extra></extra>\", \"ids\": [\"Neptune\"], \"legendgroup\": \"Neptune\", \"marker\": {\"color\": \"cyan\", \"size\": [10.15120663641638], \"sizemode\": \"area\", \"sizeref\": 0.050903371511914326, \"symbol\": \"circle\"}, \"mode\": \"markers\", \"name\": \"Neptune\", \"scene\": \"scene\", \"showlegend\": true, \"x\": [2605170020311.95], \"y\": [-3377887127505.7334], \"z\": [-1447295121070.437], \"type\": \"scatter3d\"}, {\"hovertemplate\": \"name=Saturn<br>index=182<br>x=%{x}<br>y=%{y}<br>z=%{z}<br>radius=%{marker.size}<extra></extra>\", \"ids\": [\"Saturn\"], \"legendgroup\": \"Saturn\", \"marker\": {\"color\": \"khaki\", \"size\": [10.972190310798094], \"sizemode\": \"area\", \"sizeref\": 0.050903371511914326, \"symbol\": \"circle\"}, \"mode\": \"markers\", \"name\": \"Saturn\", \"scene\": \"scene\", \"showlegend\": true, \"x\": [795946860387.0271], \"y\": [1038602568948.5176], \"z\": [394787463001.65405], \"type\": \"scatter3d\"}, {\"hovertemplate\": \"name=Uranus<br>index=182<br>x=%{x}<br>y=%{y}<br>z=%{z}<br>radius=%{marker.size}<extra></extra>\", \"ids\": [\"Uranus\"], \"legendgroup\": \"Uranus\", \"marker\": {\"color\": \"lightcyan\", \"size\": [10.141007269794844], \"sizemode\": \"area\", \"sizeref\": 0.050903371511914326, \"symbol\": \"circle\"}, \"mode\": \"markers\", \"name\": \"Uranus\", \"scene\": \"scene\", \"showlegend\": true, \"x\": [2251868695128.0576], \"y\": [-1781653436066.0222], \"z\": [-812180760758.5972], \"type\": \"scatter3d\"}, {\"hovertemplate\": \"name=Jupiter<br>index=182<br>x=%{x}<br>y=%{y}<br>z=%{z}<br>radius=%{marker.size}<extra></extra>\", \"ids\": [\"Jupiter\"], \"legendgroup\": \"Jupiter\", \"marker\": {\"color\": \"chocolate\", \"size\": [11.154978283509006], \"sizemode\": \"area\", \"sizeref\": 0.050903371511914326, \"symbol\": \"circle\"}, \"mode\": \"markers\", \"name\": \"Jupiter\", \"scene\": \"scene\", \"showlegend\": true, \"x\": [399805938412.3949], \"y\": [586252117220.5428], \"z\": [241515423364.55423], \"type\": \"scatter3d\"}, {\"hovertemplate\": \"name=Earth<br>index=182<br>x=%{x}<br>y=%{y}<br>z=%{z}<br>radius=%{marker.size}<extra></extra>\", \"ids\": [\"Earth\"], \"legendgroup\": \"Earth\", \"marker\": {\"color\": \"green\", \"size\": [8.759511722116487], \"sizemode\": \"area\", \"sizeref\": 0.050903371511914326, \"symbol\": \"circle\"}, \"mode\": \"markers\", \"name\": \"Earth\", \"scene\": \"scene\", \"showlegend\": true, \"x\": [134818740399.53696], \"y\": [-63095010622.89036], \"z\": [-27366625202.19908], \"type\": \"scatter3d\"}], \"name\": \"182\"}, {\"data\": [{\"hovertemplate\": \"name=Sun<br>index=189<br>x=%{x}<br>y=%{y}<br>z=%{z}<br>radius=%{marker.size}<extra></extra>\", \"ids\": [\"Sun\"], \"legendgroup\": \"Sun\", \"marker\": {\"color\": \"orange\", \"size\": [20.36134860476573], \"sizemode\": \"area\", \"sizeref\": 0.050903371511914326, \"symbol\": \"circle\"}, \"mode\": \"markers\", \"name\": \"Sun\", \"scene\": \"scene\", \"showlegend\": true, \"x\": [40230262.9398718], \"y\": [37951457.89407802], \"z\": [3684401.7671786943], \"type\": \"scatter3d\"}, {\"hovertemplate\": \"name=Mars<br>index=189<br>x=%{x}<br>y=%{y}<br>z=%{z}<br>radius=%{marker.size}<extra></extra>\", \"ids\": [\"Mars\"], \"legendgroup\": \"Mars\", \"marker\": {\"color\": \"crimson\", \"size\": [8.12843769687102], \"sizemode\": \"area\", \"sizeref\": 0.050903371511914326, \"symbol\": \"circle\"}, \"mode\": \"markers\", \"name\": \"Mars\", \"scene\": \"scene\", \"showlegend\": true, \"x\": [-154257383945.32483], \"y\": [172905832806.79355], \"z\": [83493767459.45575], \"type\": \"scatter3d\"}, {\"hovertemplate\": \"name=Mercury<br>index=189<br>x=%{x}<br>y=%{y}<br>z=%{z}<br>radius=%{marker.size}<extra></extra>\", \"ids\": [\"Mercury\"], \"legendgroup\": \"Mercury\", \"marker\": {\"color\": \"cornflowerblue\", \"size\": [7.7996303599085035], \"sizemode\": \"area\", \"sizeref\": 0.050903371511914326, \"symbol\": \"circle\"}, \"mode\": \"markers\", \"name\": \"Mercury\", \"scene\": \"scene\", \"showlegend\": true, \"x\": [-59250756515.594], \"y\": [-15333963975.817644], \"z\": [-2061157503.720311], \"type\": \"scatter3d\"}, {\"hovertemplate\": \"name=Neptune<br>index=189<br>x=%{x}<br>y=%{y}<br>z=%{z}<br>radius=%{marker.size}<extra></extra>\", \"ids\": [\"Neptune\"], \"legendgroup\": \"Neptune\", \"marker\": {\"color\": \"cyan\", \"size\": [10.15120663641638], \"sizemode\": \"area\", \"sizeref\": 0.050903371511914326, \"symbol\": \"circle\"}, \"mode\": \"markers\", \"name\": \"Neptune\", \"scene\": \"scene\", \"showlegend\": true, \"x\": [2607824031150.249], \"y\": [-3376077840836.092], \"z\": [-1446620535741.7898], \"type\": \"scatter3d\"}, {\"hovertemplate\": \"name=Saturn<br>index=189<br>x=%{x}<br>y=%{y}<br>z=%{z}<br>radius=%{marker.size}<extra></extra>\", \"ids\": [\"Saturn\"], \"legendgroup\": \"Saturn\", \"marker\": {\"color\": \"khaki\", \"size\": [10.972190310798094], \"sizemode\": \"area\", \"sizeref\": 0.050903371511914326, \"symbol\": \"circle\"}, \"mode\": \"markers\", \"name\": \"Saturn\", \"scene\": \"scene\", \"showlegend\": true, \"x\": [790878890255.398], \"y\": [1041654549078.5771], \"z\": [396265814741.4854], \"type\": \"scatter3d\"}, {\"hovertemplate\": \"name=Uranus<br>index=189<br>x=%{x}<br>y=%{y}<br>z=%{z}<br>radius=%{marker.size}<extra></extra>\", \"ids\": [\"Uranus\"], \"legendgroup\": \"Uranus\", \"marker\": {\"color\": \"lightcyan\", \"size\": [10.141007269794844], \"sizemode\": \"area\", \"sizeref\": 0.050903371511914326, \"symbol\": \"circle\"}, \"mode\": \"markers\", \"name\": \"Uranus\", \"scene\": \"scene\", \"showlegend\": true, \"x\": [2254534077829.09], \"y\": [-1778959925872.69], \"z\": [-811039008941.273], \"type\": \"scatter3d\"}, {\"hovertemplate\": \"name=Jupiter<br>index=189<br>x=%{x}<br>y=%{y}<br>z=%{z}<br>radius=%{marker.size}<extra></extra>\", \"ids\": [\"Jupiter\"], \"legendgroup\": \"Jupiter\", \"marker\": {\"color\": \"chocolate\", \"size\": [11.154978283509006], \"sizemode\": \"area\", \"sizeref\": 0.050903371511914326, \"symbol\": \"circle\"}, \"mode\": \"markers\", \"name\": \"Jupiter\", \"scene\": \"scene\", \"showlegend\": true, \"x\": [392992563330.761], \"y\": [590380695029.1663], \"z\": [243451268471.32925], \"type\": \"scatter3d\"}, {\"hovertemplate\": \"name=Earth<br>index=189<br>x=%{x}<br>y=%{y}<br>z=%{z}<br>radius=%{marker.size}<extra></extra>\", \"ids\": [\"Earth\"], \"legendgroup\": \"Earth\", \"marker\": {\"color\": \"green\", \"size\": [8.759511722116487], \"sizemode\": \"area\", \"sizeref\": 0.050903371511914326, \"symbol\": \"circle\"}, \"mode\": \"markers\", \"name\": \"Earth\", \"scene\": \"scene\", \"showlegend\": true, \"x\": [141752281243.88025], \"y\": [-48034881065.86394], \"z\": [-20839876006.78685], \"type\": \"scatter3d\"}], \"name\": \"189\"}, {\"data\": [{\"hovertemplate\": \"name=Sun<br>index=196<br>x=%{x}<br>y=%{y}<br>z=%{z}<br>radius=%{marker.size}<extra></extra>\", \"ids\": [\"Sun\"], \"legendgroup\": \"Sun\", \"marker\": {\"color\": \"orange\", \"size\": [20.36134860476573], \"sizemode\": \"area\", \"sizeref\": 0.050903371511914326, \"symbol\": \"circle\"}, \"mode\": \"markers\", \"name\": \"Sun\", \"scene\": \"scene\", \"showlegend\": true, \"x\": [42693275.97102605], \"y\": [40405324.24039826], \"z\": [4129111.303650566], \"type\": \"scatter3d\"}, {\"hovertemplate\": \"name=Mars<br>index=196<br>x=%{x}<br>y=%{y}<br>z=%{z}<br>radius=%{marker.size}<extra></extra>\", \"ids\": [\"Mars\"], \"legendgroup\": \"Mars\", \"marker\": {\"color\": \"crimson\", \"size\": [8.12843769687102], \"sizemode\": \"area\", \"sizeref\": 0.050903371511914326, \"symbol\": \"circle\"}, \"mode\": \"markers\", \"name\": \"Mars\", \"scene\": \"scene\", \"showlegend\": true, \"x\": [-164862271197.73663], \"y\": [165303120874.13403], \"z\": [80292529088.01575], \"type\": \"scatter3d\"}, {\"hovertemplate\": \"name=Mercury<br>index=196<br>x=%{x}<br>y=%{y}<br>z=%{z}<br>radius=%{marker.size}<extra></extra>\", \"ids\": [\"Mercury\"], \"legendgroup\": \"Mercury\", \"marker\": {\"color\": \"cornflowerblue\", \"size\": [7.7996303599085035], \"sizemode\": \"area\", \"sizeref\": 0.050903371511914326, \"symbol\": \"circle\"}, \"mode\": \"markers\", \"name\": \"Mercury\", \"scene\": \"scene\", \"showlegend\": true, \"x\": [-52525558800.85224], \"y\": [-37155713994.52579], \"z\": [-14415204362.974924], \"type\": \"scatter3d\"}, {\"hovertemplate\": \"name=Neptune<br>index=196<br>x=%{x}<br>y=%{y}<br>z=%{z}<br>radius=%{marker.size}<extra></extra>\", \"ids\": [\"Neptune\"], \"legendgroup\": \"Neptune\", \"marker\": {\"color\": \"cyan\", \"size\": [10.15120663641638], \"sizemode\": \"area\", \"sizeref\": 0.050903371511914326, \"symbol\": \"circle\"}, \"mode\": \"markers\", \"name\": \"Neptune\", \"scene\": \"scene\", \"showlegend\": true, \"x\": [2610476655750.76], \"y\": [-3374266758393.4995], \"z\": [-1445945180974.5266], \"type\": \"scatter3d\"}, {\"hovertemplate\": \"name=Saturn<br>index=196<br>x=%{x}<br>y=%{y}<br>z=%{z}<br>radius=%{marker.size}<extra></extra>\", \"ids\": [\"Saturn\"], \"legendgroup\": \"Saturn\", \"marker\": {\"color\": \"khaki\", \"size\": [10.972190310798094], \"sizemode\": \"area\", \"sizeref\": 0.050903371511914326, \"symbol\": \"circle\"}, \"mode\": \"markers\", \"name\": \"Saturn\", \"scene\": \"scene\", \"showlegend\": true, \"x\": [785795798730.0424], \"y\": [1044686626455.9176], \"z\": [397736598522.19104], \"type\": \"scatter3d\"}, {\"hovertemplate\": \"name=Uranus<br>index=196<br>x=%{x}<br>y=%{y}<br>z=%{z}<br>radius=%{marker.size}<extra></extra>\", \"ids\": [\"Uranus\"], \"legendgroup\": \"Uranus\", \"marker\": {\"color\": \"lightcyan\", \"size\": [10.141007269794844], \"sizemode\": \"area\", \"sizeref\": 0.050903371511914326, \"symbol\": \"circle\"}, \"mode\": \"markers\", \"name\": \"Uranus\", \"scene\": \"scene\", \"showlegend\": true, \"x\": [2257195339193.7974], \"y\": [-1776263162314.096], \"z\": [-809895773940.6344], \"type\": \"scatter3d\"}, {\"hovertemplate\": \"name=Jupiter<br>index=196<br>x=%{x}<br>y=%{y}<br>z=%{z}<br>radius=%{marker.size}<extra></extra>\", \"ids\": [\"Jupiter\"], \"legendgroup\": \"Jupiter\", \"marker\": {\"color\": \"chocolate\", \"size\": [11.154978283509006], \"sizemode\": \"area\", \"sizeref\": 0.050903371511914326, \"symbol\": \"circle\"}, \"mode\": \"markers\", \"name\": \"Jupiter\", \"scene\": \"scene\", \"showlegend\": true, \"x\": [386133956170.9812], \"y\": [594441310653.2506], \"z\": [245359085164.80917], \"type\": \"scatter3d\"}, {\"hovertemplate\": \"name=Earth<br>index=196<br>x=%{x}<br>y=%{y}<br>z=%{z}<br>radius=%{marker.size}<extra></extra>\", \"ids\": [\"Earth\"], \"legendgroup\": \"Earth\", \"marker\": {\"color\": \"green\", \"size\": [8.759511722116487], \"sizemode\": \"area\", \"sizeref\": 0.050903371511914326, \"symbol\": \"circle\"}, \"mode\": \"markers\", \"name\": \"Earth\", \"scene\": \"scene\", \"showlegend\": true, \"x\": [146693385776.48935], \"y\": [-32298967205.29329], \"z\": [-14020120013.876116], \"type\": \"scatter3d\"}], \"name\": \"196\"}, {\"data\": [{\"hovertemplate\": \"name=Sun<br>index=203<br>x=%{x}<br>y=%{y}<br>z=%{z}<br>radius=%{marker.size}<extra></extra>\", \"ids\": [\"Sun\"], \"legendgroup\": \"Sun\", \"marker\": {\"color\": \"orange\", \"size\": [20.36134860476573], \"sizemode\": \"area\", \"sizeref\": 0.050903371511914326, \"symbol\": \"circle\"}, \"mode\": \"markers\", \"name\": \"Sun\", \"scene\": \"scene\", \"showlegend\": true, \"x\": [45207874.652296655], \"y\": [42927625.82314862], \"z\": [4601896.888352747], \"type\": \"scatter3d\"}, {\"hovertemplate\": \"name=Mars<br>index=203<br>x=%{x}<br>y=%{y}<br>z=%{z}<br>radius=%{marker.size}<extra></extra>\", \"ids\": [\"Mars\"], \"legendgroup\": \"Mars\", \"marker\": {\"color\": \"crimson\", \"size\": [8.12843769687102], \"sizemode\": \"area\", \"sizeref\": 0.050903371511914326, \"symbol\": \"circle\"}, \"mode\": \"markers\", \"name\": \"Mars\", \"scene\": \"scene\", \"showlegend\": true, \"x\": [-174935230449.8272], \"y\": [157167396219.26355], \"z\": [76832336650.20541], \"type\": \"scatter3d\"}, {\"hovertemplate\": \"name=Mercury<br>index=203<br>x=%{x}<br>y=%{y}<br>z=%{z}<br>radius=%{marker.size}<extra></extra>\", \"ids\": [\"Mercury\"], \"legendgroup\": \"Mercury\", \"marker\": {\"color\": \"cornflowerblue\", \"size\": [7.7996303599085035], \"sizemode\": \"area\", \"sizeref\": 0.050903371511914326, \"symbol\": \"circle\"}, \"mode\": \"markers\", \"name\": \"Mercury\", \"scene\": \"scene\", \"showlegend\": true, \"x\": [-36899082756.36458], \"y\": [-52813332474.685005], \"z\": [-24399348351.63006], \"type\": \"scatter3d\"}, {\"hovertemplate\": \"name=Neptune<br>index=203<br>x=%{x}<br>y=%{y}<br>z=%{z}<br>radius=%{marker.size}<extra></extra>\", \"ids\": [\"Neptune\"], \"legendgroup\": \"Neptune\", \"marker\": {\"color\": \"cyan\", \"size\": [10.15120663641638], \"sizemode\": \"area\", \"sizeref\": 0.050903371511914326, \"symbol\": \"circle\"}, \"mode\": \"markers\", \"name\": \"Neptune\", \"scene\": \"scene\", \"showlegend\": true, \"x\": [2613127892671.693], \"y\": [-3372453881101.888], \"z\": [-1445269057111.17], \"type\": \"scatter3d\"}, {\"hovertemplate\": \"name=Saturn<br>index=203<br>x=%{x}<br>y=%{y}<br>z=%{z}<br>radius=%{marker.size}<extra></extra>\", \"ids\": [\"Saturn\"], \"legendgroup\": \"Saturn\", \"marker\": {\"color\": \"khaki\", \"size\": [10.972190310798094], \"sizemode\": \"area\", \"sizeref\": 0.050903371511914326, \"symbol\": \"circle\"}, \"mode\": \"markers\", \"name\": \"Saturn\", \"scene\": \"scene\", \"showlegend\": true, \"x\": [780697675954.2156], \"y\": [1047698735305.631], \"z\": [399199783277.0451], \"type\": \"scatter3d\"}, {\"hovertemplate\": \"name=Uranus<br>index=203<br>x=%{x}<br>y=%{y}<br>z=%{z}<br>radius=%{marker.size}<extra></extra>\", \"ids\": [\"Uranus\"], \"legendgroup\": \"Uranus\", \"marker\": {\"color\": \"lightcyan\", \"size\": [10.141007269794844], \"sizemode\": \"area\", \"sizeref\": 0.050903371511914326, \"symbol\": \"circle\"}, \"mode\": \"markers\", \"name\": \"Uranus\", \"scene\": \"scene\", \"showlegend\": true, \"x\": [2259852474759.313], \"y\": [-1773563150642.2046], \"z\": [-808751057994.3212], \"type\": \"scatter3d\"}, {\"hovertemplate\": \"name=Jupiter<br>index=203<br>x=%{x}<br>y=%{y}<br>z=%{z}<br>radius=%{marker.size}<extra></extra>\", \"ids\": [\"Jupiter\"], \"legendgroup\": \"Jupiter\", \"marker\": {\"color\": \"chocolate\", \"size\": [11.154978283509006], \"sizemode\": \"area\", \"sizeref\": 0.050903371511914326, \"symbol\": \"circle\"}, \"mode\": \"markers\", \"name\": \"Jupiter\", \"scene\": \"scene\", \"showlegend\": true, \"x\": [379230954005.8176], \"y\": [598433568727.7515], \"z\": [247238683501.1468], \"type\": \"scatter3d\"}, {\"hovertemplate\": \"name=Earth<br>index=203<br>x=%{x}<br>y=%{y}<br>z=%{z}<br>radius=%{marker.size}<extra></extra>\", \"ids\": [\"Earth\"], \"legendgroup\": \"Earth\", \"marker\": {\"color\": \"green\", \"size\": [8.759511722116487], \"sizemode\": \"area\", \"sizeref\": 0.050903371511914326, \"symbol\": \"circle\"}, \"mode\": \"markers\", \"name\": \"Earth\", \"scene\": \"scene\", \"showlegend\": true, \"x\": [149561938284.24103], \"y\": [-16106131787.059372], \"z\": [-7002217864.391783], \"type\": \"scatter3d\"}], \"name\": \"203\"}, {\"data\": [{\"hovertemplate\": \"name=Sun<br>index=210<br>x=%{x}<br>y=%{y}<br>z=%{z}<br>radius=%{marker.size}<extra></extra>\", \"ids\": [\"Sun\"], \"legendgroup\": \"Sun\", \"marker\": {\"color\": \"orange\", \"size\": [20.36134860476573], \"sizemode\": \"area\", \"sizeref\": 0.050903371511914326, \"symbol\": \"circle\"}, \"mode\": \"markers\", \"name\": \"Sun\", \"scene\": \"scene\", \"showlegend\": true, \"x\": [47773953.33832271], \"y\": [45519152.994174205], \"z\": [5103032.883089639], \"type\": \"scatter3d\"}, {\"hovertemplate\": \"name=Mars<br>index=210<br>x=%{x}<br>y=%{y}<br>z=%{z}<br>radius=%{marker.size}<extra></extra>\", \"ids\": [\"Mars\"], \"legendgroup\": \"Mars\", \"marker\": {\"color\": \"crimson\", \"size\": [8.12843769687102], \"sizemode\": \"area\", \"sizeref\": 0.050903371511914326, \"symbol\": \"circle\"}, \"mode\": \"markers\", \"name\": \"Mars\", \"scene\": \"scene\", \"showlegend\": true, \"x\": [-184447311779.56757], \"y\": [148528098387.6104], \"z\": [73125912113.7826], \"type\": \"scatter3d\"}, {\"hovertemplate\": \"name=Mercury<br>index=210<br>x=%{x}<br>y=%{y}<br>z=%{z}<br>radius=%{marker.size}<extra></extra>\", \"ids\": [\"Mercury\"], \"legendgroup\": \"Mercury\", \"marker\": {\"color\": \"cornflowerblue\", \"size\": [7.7996303599085035], \"sizemode\": \"area\", \"sizeref\": 0.050903371511914326, \"symbol\": \"circle\"}, \"mode\": \"markers\", \"name\": \"Mercury\", \"scene\": \"scene\", \"showlegend\": true, \"x\": [-15785339274.600094], \"y\": [-60702432293.13077], \"z\": [-30802688786.214317], \"type\": \"scatter3d\"}, {\"hovertemplate\": \"name=Neptune<br>index=210<br>x=%{x}<br>y=%{y}<br>z=%{z}<br>radius=%{marker.size}<extra></extra>\", \"ids\": [\"Neptune\"], \"legendgroup\": \"Neptune\", \"marker\": {\"color\": \"cyan\", \"size\": [10.15120663641638], \"sizemode\": \"area\", \"sizeref\": 0.050903371511914326, \"symbol\": \"circle\"}, \"mode\": \"markers\", \"name\": \"Neptune\", \"scene\": \"scene\", \"showlegend\": true, \"x\": [2615777740471.947], \"y\": [-3370639209886.144], \"z\": [-1444592164494.6497], \"type\": \"scatter3d\"}, {\"hovertemplate\": \"name=Saturn<br>index=210<br>x=%{x}<br>y=%{y}<br>z=%{z}<br>radius=%{marker.size}<extra></extra>\", \"ids\": [\"Saturn\"], \"legendgroup\": \"Saturn\", \"marker\": {\"color\": \"khaki\", \"size\": [10.972190310798094], \"sizemode\": \"area\", \"sizeref\": 0.050903371511914326, \"symbol\": \"circle\"}, \"mode\": \"markers\", \"name\": \"Saturn\", \"scene\": \"scene\", \"showlegend\": true, \"x\": [775584612489.1106], \"y\": [1050690810241.3484], \"z\": [400655338080.4922], \"type\": \"scatter3d\"}, {\"hovertemplate\": \"name=Uranus<br>index=210<br>x=%{x}<br>y=%{y}<br>z=%{z}<br>radius=%{marker.size}<extra></extra>\", \"ids\": [\"Uranus\"], \"legendgroup\": \"Uranus\", \"marker\": {\"color\": \"lightcyan\", \"size\": [10.141007269794844], \"sizemode\": \"area\", \"sizeref\": 0.050903371511914326, \"symbol\": \"circle\"}, \"mode\": \"markers\", \"name\": \"Uranus\", \"scene\": \"scene\", \"showlegend\": true, \"x\": [2262505480070.3257], \"y\": [-1770859896112.9998], \"z\": [-807604863341.8418], \"type\": \"scatter3d\"}, {\"hovertemplate\": \"name=Jupiter<br>index=210<br>x=%{x}<br>y=%{y}<br>z=%{z}<br>radius=%{marker.size}<extra></extra>\", \"ids\": [\"Jupiter\"], \"legendgroup\": \"Jupiter\", \"marker\": {\"color\": \"chocolate\", \"size\": [11.154978283509006], \"sizemode\": \"area\", \"sizeref\": 0.050903371511914326, \"symbol\": \"circle\"}, \"mode\": \"markers\", \"name\": \"Jupiter\", \"scene\": \"scene\", \"showlegend\": true, \"x\": [372284397820.011], \"y\": [602357083480.2994], \"z\": [249089877553.636], \"type\": \"scatter3d\"}, {\"hovertemplate\": \"name=Earth<br>index=210<br>x=%{x}<br>y=%{y}<br>z=%{z}<br>radius=%{marker.size}<extra></extra>\", \"ids\": [\"Earth\"], \"legendgroup\": \"Earth\", \"marker\": {\"color\": \"green\", \"size\": [8.759511722116487], \"sizemode\": \"area\", \"sizeref\": 0.050903371511914326, \"symbol\": \"circle\"}, \"mode\": \"markers\", \"name\": \"Earth\", \"scene\": \"scene\", \"showlegend\": true, \"x\": [150305756417.92157], \"y\": [316066746.9770713], \"z\": [115199383.47246005], \"type\": \"scatter3d\"}], \"name\": \"210\"}, {\"data\": [{\"hovertemplate\": \"name=Sun<br>index=217<br>x=%{x}<br>y=%{y}<br>z=%{z}<br>radius=%{marker.size}<extra></extra>\", \"ids\": [\"Sun\"], \"legendgroup\": \"Sun\", \"marker\": {\"color\": \"orange\", \"size\": [20.36134860476573], \"sizemode\": \"area\", \"sizeref\": 0.050903371511914326, \"symbol\": \"circle\"}, \"mode\": \"markers\", \"name\": \"Sun\", \"scene\": \"scene\", \"showlegend\": true, \"x\": [50391285.27751126], \"y\": [48180841.1322816], \"z\": [5632873.385550305], \"type\": \"scatter3d\"}, {\"hovertemplate\": \"name=Mars<br>index=217<br>x=%{x}<br>y=%{y}<br>z=%{z}<br>radius=%{marker.size}<extra></extra>\", \"ids\": [\"Mars\"], \"legendgroup\": \"Mars\", \"marker\": {\"color\": \"crimson\", \"size\": [8.12843769687102], \"sizemode\": \"area\", \"sizeref\": 0.050903371511914326, \"symbol\": \"circle\"}, \"mode\": \"markers\", \"name\": \"Mars\", \"scene\": \"scene\", \"showlegend\": true, \"x\": [-193371238186.73328], \"y\": [139415520609.73633], \"z\": [69186414432.98003], \"type\": \"scatter3d\"}, {\"hovertemplate\": \"name=Mercury<br>index=217<br>x=%{x}<br>y=%{y}<br>z=%{z}<br>radius=%{marker.size}<extra></extra>\", \"ids\": [\"Mercury\"], \"legendgroup\": \"Mercury\", \"marker\": {\"color\": \"cornflowerblue\", \"size\": [7.7996303599085035], \"sizemode\": \"area\", \"sizeref\": 0.050903371511914326, \"symbol\": \"circle\"}, \"mode\": \"markers\", \"name\": \"Mercury\", \"scene\": \"scene\", \"showlegend\": true, \"x\": [7565010417.393774], \"y\": [-60006437776.57684], \"z\": [-32852075044.240788], \"type\": \"scatter3d\"}, {\"hovertemplate\": \"name=Neptune<br>index=217<br>x=%{x}<br>y=%{y}<br>z=%{z}<br>radius=%{marker.size}<extra></extra>\", \"ids\": [\"Neptune\"], \"legendgroup\": \"Neptune\", \"marker\": {\"color\": \"cyan\", \"size\": [10.15120663641638], \"sizemode\": \"area\", \"sizeref\": 0.050903371511914326, \"symbol\": \"circle\"}, \"mode\": \"markers\", \"name\": \"Neptune\", \"scene\": \"scene\", \"showlegend\": true, \"x\": [2618426197711.105], \"y\": [-3368822745672.1064], \"z\": [-1443914503468.3027], \"type\": \"scatter3d\"}, {\"hovertemplate\": \"name=Saturn<br>index=217<br>x=%{x}<br>y=%{y}<br>z=%{z}<br>radius=%{marker.size}<extra></extra>\", \"ids\": [\"Saturn\"], \"legendgroup\": \"Saturn\", \"marker\": {\"color\": \"khaki\", \"size\": [10.972190310798094], \"sizemode\": \"area\", \"sizeref\": 0.050903371511914326, \"symbol\": \"circle\"}, \"mode\": \"markers\", \"name\": \"Saturn\", \"scene\": \"scene\", \"showlegend\": true, \"x\": [770456699312.3229], \"y\": [1053662786267.0792], \"z\": [402103232148.9985], \"type\": \"scatter3d\"}, {\"hovertemplate\": \"name=Uranus<br>index=217<br>x=%{x}<br>y=%{y}<br>z=%{z}<br>radius=%{marker.size}<extra></extra>\", \"ids\": [\"Uranus\"], \"legendgroup\": \"Uranus\", \"marker\": {\"color\": \"lightcyan\", \"size\": [10.141007269794844], \"sizemode\": \"area\", \"sizeref\": 0.050903371511914326, \"symbol\": \"circle\"}, \"mode\": \"markers\", \"name\": \"Uranus\", \"scene\": \"scene\", \"showlegend\": true, \"x\": [2265154350679.0835], \"y\": [-1768153403986.4775], \"z\": [-806457192224.5708], \"type\": \"scatter3d\"}, {\"hovertemplate\": \"name=Jupiter<br>index=217<br>x=%{x}<br>y=%{y}<br>z=%{z}<br>radius=%{marker.size}<extra></extra>\", \"ids\": [\"Jupiter\"], \"legendgroup\": \"Jupiter\", \"marker\": {\"color\": \"chocolate\", \"size\": [11.154978283509006], \"sizemode\": \"area\", \"sizeref\": 0.050903371511914326, \"symbol\": \"circle\"}, \"mode\": \"markers\", \"name\": \"Jupiter\", \"scene\": \"scene\", \"showlegend\": true, \"x\": [365295132363.2008], \"y\": [606211478752.7058], \"z\": [250912485425.50543], \"type\": \"scatter3d\"}, {\"hovertemplate\": \"name=Earth<br>index=217<br>x=%{x}<br>y=%{y}<br>z=%{z}<br>radius=%{marker.size}<extra></extra>\", \"ids\": [\"Earth\"], \"legendgroup\": \"Earth\", \"marker\": {\"color\": \"green\", \"size\": [8.759511722116487], \"sizemode\": \"area\", \"sizeref\": 0.050903371511914326, \"symbol\": \"circle\"}, \"mode\": \"markers\", \"name\": \"Earth\", \"scene\": \"scene\", \"showlegend\": true, \"x\": [148901925713.72092], \"y\": [16734263311.186638], \"z\": [7230982429.712477], \"type\": \"scatter3d\"}], \"name\": \"217\"}, {\"data\": [{\"hovertemplate\": \"name=Sun<br>index=224<br>x=%{x}<br>y=%{y}<br>z=%{z}<br>radius=%{marker.size}<extra></extra>\", \"ids\": [\"Sun\"], \"legendgroup\": \"Sun\", \"marker\": {\"color\": \"orange\", \"size\": [20.36134860476573], \"sizemode\": \"area\", \"sizeref\": 0.050903371511914326, \"symbol\": \"circle\"}, \"mode\": \"markers\", \"name\": \"Sun\", \"scene\": \"scene\", \"showlegend\": true, \"x\": [53059569.030392975], \"y\": [50913712.74995278], \"z\": [6191817.126151692], \"type\": \"scatter3d\"}, {\"hovertemplate\": \"name=Mars<br>index=224<br>x=%{x}<br>y=%{y}<br>z=%{z}<br>radius=%{marker.size}<extra></extra>\", \"ids\": [\"Mars\"], \"legendgroup\": \"Mars\", \"marker\": {\"color\": \"crimson\", \"size\": [8.12843769687102], \"sizemode\": \"area\", \"sizeref\": 0.050903371511914326, \"symbol\": \"circle\"}, \"mode\": \"markers\", \"name\": \"Mars\", \"scene\": \"scene\", \"showlegend\": true, \"x\": [-201681385595.1249], \"y\": [129860763314.81377], \"z\": [65027417678.81985], \"type\": \"scatter3d\"}, {\"hovertemplate\": \"name=Mercury<br>index=224<br>x=%{x}<br>y=%{y}<br>z=%{z}<br>radius=%{marker.size}<extra></extra>\", \"ids\": [\"Mercury\"], \"legendgroup\": \"Mercury\", \"marker\": {\"color\": \"cornflowerblue\", \"size\": [7.7996303599085035], \"sizemode\": \"area\", \"sizeref\": 0.050903371511914326, \"symbol\": \"circle\"}, \"mode\": \"markers\", \"name\": \"Mercury\", \"scene\": \"scene\", \"showlegend\": true, \"x\": [29751852770.37635], \"y\": [-50434115893.604645], \"z\": [-30039480824.608395], \"type\": \"scatter3d\"}, {\"hovertemplate\": \"name=Neptune<br>index=224<br>x=%{x}<br>y=%{y}<br>z=%{z}<br>radius=%{marker.size}<extra></extra>\", \"ids\": [\"Neptune\"], \"legendgroup\": \"Neptune\", \"marker\": {\"color\": \"cyan\", \"size\": [10.15120663641638], \"sizemode\": \"area\", \"sizeref\": 0.050903371511914326, \"symbol\": \"circle\"}, \"mode\": \"markers\", \"name\": \"Neptune\", \"scene\": \"scene\", \"showlegend\": true, \"x\": [2621073262949.4404], \"y\": [-3367004489386.57], \"z\": [-1443236074375.8733], \"type\": \"scatter3d\"}, {\"hovertemplate\": \"name=Saturn<br>index=224<br>x=%{x}<br>y=%{y}<br>z=%{z}<br>radius=%{marker.size}<extra></extra>\", \"ids\": [\"Saturn\"], \"legendgroup\": \"Saturn\", \"marker\": {\"color\": \"khaki\", \"size\": [10.972190310798094], \"sizemode\": \"area\", \"sizeref\": 0.050903371511914326, \"symbol\": \"circle\"}, \"mode\": \"markers\", \"name\": \"Saturn\", \"scene\": \"scene\", \"showlegend\": true, \"x\": [765314027816.2651], \"y\": [1056614598779.0204], \"z\": [403543434841.897], \"type\": \"scatter3d\"}, {\"hovertemplate\": \"name=Uranus<br>index=224<br>x=%{x}<br>y=%{y}<br>z=%{z}<br>radius=%{marker.size}<extra></extra>\", \"ids\": [\"Uranus\"], \"legendgroup\": \"Uranus\", \"marker\": {\"color\": \"lightcyan\", \"size\": [10.141007269794844], \"sizemode\": \"area\", \"sizeref\": 0.050903371511914326, \"symbol\": \"circle\"}, \"mode\": \"markers\", \"name\": \"Uranus\", \"scene\": \"scene\", \"showlegend\": true, \"x\": [2267799082145.3955], \"y\": [-1765443679526.6392], \"z\": [-805308046885.7454], \"type\": \"scatter3d\"}, {\"hovertemplate\": \"name=Jupiter<br>index=224<br>x=%{x}<br>y=%{y}<br>z=%{z}<br>radius=%{marker.size}<extra></extra>\", \"ids\": [\"Jupiter\"], \"legendgroup\": \"Jupiter\", \"marker\": {\"color\": \"chocolate\", \"size\": [11.154978283509006], \"sizemode\": \"area\", \"sizeref\": 0.050903371511914326, \"symbol\": \"circle\"}, \"mode\": \"markers\", \"name\": \"Jupiter\", \"scene\": \"scene\", \"showlegend\": true, \"x\": [358264006003.0531], \"y\": [609996388020.2876], \"z\": [252706329261.772], \"type\": \"scatter3d\"}, {\"hovertemplate\": \"name=Earth<br>index=224<br>x=%{x}<br>y=%{y}<br>z=%{z}<br>radius=%{marker.size}<extra></extra>\", \"ids\": [\"Earth\"], \"legendgroup\": \"Earth\", \"marker\": {\"color\": \"green\", \"size\": [8.759511722116487], \"sizemode\": \"area\", \"sizeref\": 0.050903371511914326, \"symbol\": \"circle\"}, \"mode\": \"markers\", \"name\": \"Earth\", \"scene\": \"scene\", \"showlegend\": true, \"x\": [145357805783.005], \"y\": [32912391384.880497], \"z\": [14242809615.693192], \"type\": \"scatter3d\"}], \"name\": \"224\"}, {\"data\": [{\"hovertemplate\": \"name=Sun<br>index=231<br>x=%{x}<br>y=%{y}<br>z=%{z}<br>radius=%{marker.size}<extra></extra>\", \"ids\": [\"Sun\"], \"legendgroup\": \"Sun\", \"marker\": {\"color\": \"orange\", \"size\": [20.36134860476573], \"sizemode\": \"area\", \"sizeref\": 0.050903371511914326, \"symbol\": \"circle\"}, \"mode\": \"markers\", \"name\": \"Sun\", \"scene\": \"scene\", \"showlegend\": true, \"x\": [55778495.6989652], \"y\": [53718888.09599599], \"z\": [6780306.972413417], \"type\": \"scatter3d\"}, {\"hovertemplate\": \"name=Mars<br>index=231<br>x=%{x}<br>y=%{y}<br>z=%{z}<br>radius=%{marker.size}<extra></extra>\", \"ids\": [\"Mars\"], \"legendgroup\": \"Mars\", \"marker\": {\"color\": \"crimson\", \"size\": [8.12843769687102], \"sizemode\": \"area\", \"sizeref\": 0.050903371511914326, \"symbol\": \"circle\"}, \"mode\": \"markers\", \"name\": \"Mars\", \"scene\": \"scene\", \"showlegend\": true, \"x\": [-209353766034.2923], \"y\": [119895694062.85764], \"z\": [60662892200.50979], \"type\": \"scatter3d\"}, {\"hovertemplate\": \"name=Mercury<br>index=231<br>x=%{x}<br>y=%{y}<br>z=%{z}<br>radius=%{marker.size}<extra></extra>\", \"ids\": [\"Mercury\"], \"legendgroup\": \"Mercury\", \"marker\": {\"color\": \"cornflowerblue\", \"size\": [7.7996303599085035], \"sizemode\": \"area\", \"sizeref\": 0.050903371511914326, \"symbol\": \"circle\"}, \"mode\": \"markers\", \"name\": \"Mercury\", \"scene\": \"scene\", \"showlegend\": true, \"x\": [46802983184.973], \"y\": [-32375871287.970444], \"z\": [-22161679145.443825], \"type\": \"scatter3d\"}, {\"hovertemplate\": \"name=Neptune<br>index=231<br>x=%{x}<br>y=%{y}<br>z=%{z}<br>radius=%{marker.size}<extra></extra>\", \"ids\": [\"Neptune\"], \"legendgroup\": \"Neptune\", \"marker\": {\"color\": \"cyan\", \"size\": [10.15120663641638], \"sizemode\": \"area\", \"sizeref\": 0.050903371511914326, \"symbol\": \"circle\"}, \"mode\": \"markers\", \"name\": \"Neptune\", \"scene\": \"scene\", \"showlegend\": true, \"x\": [2623718934747.916], \"y\": [-3365184441957.282], \"z\": [-1442556877561.5122], \"type\": \"scatter3d\"}, {\"hovertemplate\": \"name=Saturn<br>index=231<br>x=%{x}<br>y=%{y}<br>z=%{z}<br>radius=%{marker.size}<extra></extra>\", \"ids\": [\"Saturn\"], \"legendgroup\": \"Saturn\", \"marker\": {\"color\": \"khaki\", \"size\": [10.972190310798094], \"sizemode\": \"area\", \"sizeref\": 0.050903371511914326, \"symbol\": \"circle\"}, \"mode\": \"markers\", \"name\": \"Saturn\", \"scene\": \"scene\", \"showlegend\": true, \"x\": [760156689806.5327], \"y\": [1059546183567.3503], \"z\": [404975915662.2288], \"type\": \"scatter3d\"}, {\"hovertemplate\": \"name=Uranus<br>index=231<br>x=%{x}<br>y=%{y}<br>z=%{z}<br>radius=%{marker.size}<extra></extra>\", \"ids\": [\"Uranus\"], \"legendgroup\": \"Uranus\", \"marker\": {\"color\": \"lightcyan\", \"size\": [10.141007269794844], \"sizemode\": \"area\", \"sizeref\": 0.050903371511914326, \"symbol\": \"circle\"}, \"mode\": \"markers\", \"name\": \"Uranus\", \"scene\": \"scene\", \"showlegend\": true, \"x\": [2270439670036.637], \"y\": [-1762730728001.4832], \"z\": [-804157429570.4628], \"type\": \"scatter3d\"}, {\"hovertemplate\": \"name=Jupiter<br>index=231<br>x=%{x}<br>y=%{y}<br>z=%{z}<br>radius=%{marker.size}<extra></extra>\", \"ids\": [\"Jupiter\"], \"legendgroup\": \"Jupiter\", \"marker\": {\"color\": \"chocolate\", \"size\": [11.154978283509006], \"sizemode\": \"area\", \"sizeref\": 0.050903371511914326, \"symbol\": \"circle\"}, \"mode\": \"markers\", \"name\": \"Jupiter\", \"scene\": \"scene\", \"showlegend\": true, \"x\": [351191870578.6584], \"y\": [613711454409.0487], \"z\": [254471235260.16843], \"type\": \"scatter3d\"}, {\"hovertemplate\": \"name=Earth<br>index=231<br>x=%{x}<br>y=%{y}<br>z=%{z}<br>radius=%{marker.size}<extra></extra>\", \"ids\": [\"Earth\"], \"legendgroup\": \"Earth\", \"marker\": {\"color\": \"green\", \"size\": [8.759511722116487], \"sizemode\": \"area\", \"sizeref\": 0.050903371511914326, \"symbol\": \"circle\"}, \"mode\": \"markers\", \"name\": \"Earth\", \"scene\": \"scene\", \"showlegend\": true, \"x\": [139711658579.67917], \"y\": [48614979084.83488], \"z\": [21048615554.47348], \"type\": \"scatter3d\"}], \"name\": \"231\"}, {\"data\": [{\"hovertemplate\": \"name=Sun<br>index=238<br>x=%{x}<br>y=%{y}<br>z=%{z}<br>radius=%{marker.size}<extra></extra>\", \"ids\": [\"Sun\"], \"legendgroup\": \"Sun\", \"marker\": {\"color\": \"orange\", \"size\": [20.36134860476573], \"sizemode\": \"area\", \"sizeref\": 0.050903371511914326, \"symbol\": \"circle\"}, \"mode\": \"markers\", \"name\": \"Sun\", \"scene\": \"scene\", \"showlegend\": true, \"x\": [58547809.66501448], \"y\": [56597688.346968375], \"z\": [7398879.745313086], \"type\": \"scatter3d\"}, {\"hovertemplate\": \"name=Mars<br>index=238<br>x=%{x}<br>y=%{y}<br>z=%{z}<br>radius=%{marker.size}<extra></extra>\", \"ids\": [\"Mars\"], \"legendgroup\": \"Mars\", \"marker\": {\"color\": \"crimson\", \"size\": [8.12843769687102], \"sizemode\": \"area\", \"sizeref\": 0.050903371511914326, \"symbol\": \"circle\"}, \"mode\": \"markers\", \"name\": \"Mars\", \"scene\": \"scene\", \"showlegend\": true, \"x\": [-216366014616.22925], \"y\": [109552913193.592], \"z\": [56107188512.45774], \"type\": \"scatter3d\"}, {\"hovertemplate\": \"name=Mercury<br>index=238<br>x=%{x}<br>y=%{y}<br>z=%{z}<br>radius=%{marker.size}<extra></extra>\", \"ids\": [\"Mercury\"], \"legendgroup\": \"Mercury\", \"marker\": {\"color\": \"cornflowerblue\", \"size\": [7.7996303599085035], \"sizemode\": \"area\", \"sizeref\": 0.050903371511914326, \"symbol\": \"circle\"}, \"mode\": \"markers\", \"name\": \"Mercury\", \"scene\": \"scene\", \"showlegend\": true, \"x\": [53819777916.59328], \"y\": [-7643715101.319735], \"z\": [-9678773318.279997], \"type\": \"scatter3d\"}, {\"hovertemplate\": \"name=Neptune<br>index=238<br>x=%{x}<br>y=%{y}<br>z=%{z}<br>radius=%{marker.size}<extra></extra>\", \"ids\": [\"Neptune\"], \"legendgroup\": \"Neptune\", \"marker\": {\"color\": \"cyan\", \"size\": [10.15120663641638], \"sizemode\": \"area\", \"sizeref\": 0.050903371511914326, \"symbol\": \"circle\"}, \"mode\": \"markers\", \"name\": \"Neptune\", \"scene\": \"scene\", \"showlegend\": true, \"x\": [2626363211668.1865], \"y\": [-3363362604312.9463], \"z\": [-1441876913369.7783], \"type\": \"scatter3d\"}, {\"hovertemplate\": \"name=Saturn<br>index=238<br>x=%{x}<br>y=%{y}<br>z=%{z}<br>radius=%{marker.size}<extra></extra>\", \"ids\": [\"Saturn\"], \"legendgroup\": \"Saturn\", \"marker\": {\"color\": \"khaki\", \"size\": [10.972190310798094], \"sizemode\": \"area\", \"sizeref\": 0.050903371511914326, \"symbol\": \"circle\"}, \"mode\": \"markers\", \"name\": \"Saturn\", \"scene\": \"scene\", \"showlegend\": true, \"x\": [754984777500.2194], \"y\": [1062457476817.9984], \"z\": [406400644257.57983], \"type\": \"scatter3d\"}, {\"hovertemplate\": \"name=Uranus<br>index=238<br>x=%{x}<br>y=%{y}<br>z=%{z}<br>radius=%{marker.size}<extra></extra>\", \"ids\": [\"Uranus\"], \"legendgroup\": \"Uranus\", \"marker\": {\"color\": \"lightcyan\", \"size\": [10.141007269794844], \"sizemode\": \"area\", \"sizeref\": 0.050903371511914326, \"symbol\": \"circle\"}, \"mode\": \"markers\", \"name\": \"Uranus\", \"scene\": \"scene\", \"showlegend\": true, \"x\": [2273076109927.7544], \"y\": [-1760014554682.9993], \"z\": [-803005342525.6771], \"type\": \"scatter3d\"}, {\"hovertemplate\": \"name=Jupiter<br>index=238<br>x=%{x}<br>y=%{y}<br>z=%{z}<br>radius=%{marker.size}<extra></extra>\", \"ids\": [\"Jupiter\"], \"legendgroup\": \"Jupiter\", \"marker\": {\"color\": \"chocolate\", \"size\": [11.154978283509006], \"sizemode\": \"area\", \"sizeref\": 0.050903371511914326, \"symbol\": \"circle\"}, \"mode\": \"markers\", \"name\": \"Jupiter\", \"scene\": \"scene\", \"showlegend\": true, \"x\": [344079581254.2534], \"y\": [617356330710.7402], \"z\": [256207033681.1568], \"type\": \"scatter3d\"}, {\"hovertemplate\": \"name=Earth<br>index=238<br>x=%{x}<br>y=%{y}<br>z=%{z}<br>radius=%{marker.size}<extra></extra>\", \"ids\": [\"Earth\"], \"legendgroup\": \"Earth\", \"marker\": {\"color\": \"green\", \"size\": [8.759511722116487], \"sizemode\": \"area\", \"sizeref\": 0.050903371511914326, \"symbol\": \"circle\"}, \"mode\": \"markers\", \"name\": \"Earth\", \"scene\": \"scene\", \"showlegend\": true, \"x\": [132032849403.14732], \"y\": [63610600378.98007], \"z\": [27548087027.67125], \"type\": \"scatter3d\"}], \"name\": \"238\"}, {\"data\": [{\"hovertemplate\": \"name=Sun<br>index=245<br>x=%{x}<br>y=%{y}<br>z=%{z}<br>radius=%{marker.size}<extra></extra>\", \"ids\": [\"Sun\"], \"legendgroup\": \"Sun\", \"marker\": {\"color\": \"orange\", \"size\": [20.36134860476573], \"sizemode\": \"area\", \"sizeref\": 0.050903371511914326, \"symbol\": \"circle\"}, \"mode\": \"markers\", \"name\": \"Sun\", \"scene\": \"scene\", \"showlegend\": true, \"x\": [61367242.356358536], \"y\": [59551886.057110615], \"z\": [8048308.039811169], \"type\": \"scatter3d\"}, {\"hovertemplate\": \"name=Mars<br>index=245<br>x=%{x}<br>y=%{y}<br>z=%{z}<br>radius=%{marker.size}<extra></extra>\", \"ids\": [\"Mars\"], \"legendgroup\": \"Mars\", \"marker\": {\"color\": \"crimson\", \"size\": [8.12843769687102], \"sizemode\": \"area\", \"sizeref\": 0.050903371511914326, \"symbol\": \"circle\"}, \"mode\": \"markers\", \"name\": \"Mars\", \"scene\": \"scene\", \"showlegend\": true, \"x\": [-222697380855.00272], \"y\": [98865724492.75008], \"z\": [51375023600.98898], \"type\": \"scatter3d\"}, {\"hovertemplate\": \"name=Mercury<br>index=245<br>x=%{x}<br>y=%{y}<br>z=%{z}<br>radius=%{marker.size}<extra></extra>\", \"ids\": [\"Mercury\"], \"legendgroup\": \"Mercury\", \"marker\": {\"color\": \"cornflowerblue\", \"size\": [7.7996303599085035], \"sizemode\": \"area\", \"sizeref\": 0.050903371511914326, \"symbol\": \"circle\"}, \"mode\": \"markers\", \"name\": \"Mercury\", \"scene\": \"scene\", \"showlegend\": true, \"x\": [45498245715.07288], \"y\": [18879827291.31377], \"z\": [5351010573.305334], \"type\": \"scatter3d\"}, {\"hovertemplate\": \"name=Neptune<br>index=245<br>x=%{x}<br>y=%{y}<br>z=%{z}<br>radius=%{marker.size}<extra></extra>\", \"ids\": [\"Neptune\"], \"legendgroup\": \"Neptune\", \"marker\": {\"color\": \"cyan\", \"size\": [10.15120663641638], \"sizemode\": \"area\", \"sizeref\": 0.050903371511914326, \"symbol\": \"circle\"}, \"mode\": \"markers\", \"name\": \"Neptune\", \"scene\": \"scene\", \"showlegend\": true, \"x\": [2629006092272.598], \"y\": [-3361538977383.218], \"z\": [-1441196182145.6372], \"type\": \"scatter3d\"}, {\"hovertemplate\": \"name=Saturn<br>index=245<br>x=%{x}<br>y=%{y}<br>z=%{z}<br>radius=%{marker.size}<extra></extra>\", \"ids\": [\"Saturn\"], \"legendgroup\": \"Saturn\", \"marker\": {\"color\": \"khaki\", \"size\": [10.972190310798094], \"sizemode\": \"area\", \"sizeref\": 0.050903371511914326, \"symbol\": \"circle\"}, \"mode\": \"markers\", \"name\": \"Saturn\", \"scene\": \"scene\", \"showlegend\": true, \"x\": [749798383524.1852], \"y\": [1065348415114.4], \"z\": [407817590420.9157], \"type\": \"scatter3d\"}, {\"hovertemplate\": \"name=Uranus<br>index=245<br>x=%{x}<br>y=%{y}<br>z=%{z}<br>radius=%{marker.size}<extra></extra>\", \"ids\": [\"Uranus\"], \"legendgroup\": \"Uranus\", \"marker\": {\"color\": \"lightcyan\", \"size\": [10.141007269794844], \"sizemode\": \"area\", \"sizeref\": 0.050903371511914326, \"symbol\": \"circle\"}, \"mode\": \"markers\", \"name\": \"Uranus\", \"scene\": \"scene\", \"showlegend\": true, \"x\": [2275708397401.268], \"y\": [-1757295164847.1611], \"z\": [-801851788000.1967], \"type\": \"scatter3d\"}, {\"hovertemplate\": \"name=Jupiter<br>index=245<br>x=%{x}<br>y=%{y}<br>z=%{z}<br>radius=%{marker.size}<extra></extra>\", \"ids\": [\"Jupiter\"], \"legendgroup\": \"Jupiter\", \"marker\": {\"color\": \"chocolate\", \"size\": [11.154978283509006], \"sizemode\": \"area\", \"sizeref\": 0.050903371511914326, \"symbol\": \"circle\"}, \"mode\": \"markers\", \"name\": \"Jupiter\", \"scene\": \"scene\", \"showlegend\": true, \"x\": [336927996373.32324], \"y\": [620930679395.8433], \"z\": [257913558857.04623], \"type\": \"scatter3d\"}, {\"hovertemplate\": \"name=Earth<br>index=245<br>x=%{x}<br>y=%{y}<br>z=%{z}<br>radius=%{marker.size}<extra></extra>\", \"ids\": [\"Earth\"], \"legendgroup\": \"Earth\", \"marker\": {\"color\": \"green\", \"size\": [8.759511722116487], \"sizemode\": \"area\", \"sizeref\": 0.050903371511914326, \"symbol\": \"circle\"}, \"mode\": \"markers\", \"name\": \"Earth\", \"scene\": \"scene\", \"showlegend\": true, \"x\": [122421574228.797], \"y\": [77675434508.96957], \"z\": [33644205812.95452], \"type\": \"scatter3d\"}], \"name\": \"245\"}, {\"data\": [{\"hovertemplate\": \"name=Sun<br>index=252<br>x=%{x}<br>y=%{y}<br>z=%{z}<br>radius=%{marker.size}<extra></extra>\", \"ids\": [\"Sun\"], \"legendgroup\": \"Sun\", \"marker\": {\"color\": \"orange\", \"size\": [20.36134860476573], \"sizemode\": \"area\", \"sizeref\": 0.050903371511914326, \"symbol\": \"circle\"}, \"mode\": \"markers\", \"name\": \"Sun\", \"scene\": \"scene\", \"showlegend\": true, \"x\": [64235943.08513135], \"y\": [62583970.03261899], \"z\": [8729802.062297689], \"type\": \"scatter3d\"}, {\"hovertemplate\": \"name=Mars<br>index=252<br>x=%{x}<br>y=%{y}<br>z=%{z}<br>radius=%{marker.size}<extra></extra>\", \"ids\": [\"Mars\"], \"legendgroup\": \"Mars\", \"marker\": {\"color\": \"crimson\", \"size\": [8.12843769687102], \"sizemode\": \"area\", \"sizeref\": 0.050903371511914326, \"symbol\": \"circle\"}, \"mode\": \"markers\", \"name\": \"Mars\", \"scene\": \"scene\", \"showlegend\": true, \"x\": [-228328724818.62308], \"y\": [87868110177.68002], \"z\": [46481469343.85943], \"type\": \"scatter3d\"}, {\"hovertemplate\": \"name=Mercury<br>index=252<br>x=%{x}<br>y=%{y}<br>z=%{z}<br>radius=%{marker.size}<extra></extra>\", \"ids\": [\"Mercury\"], \"legendgroup\": \"Mercury\", \"marker\": {\"color\": \"cornflowerblue\", \"size\": [7.7996303599085035], \"sizemode\": \"area\", \"sizeref\": 0.050903371511914326, \"symbol\": \"circle\"}, \"mode\": \"markers\", \"name\": \"Mercury\", \"scene\": \"scene\", \"showlegend\": true, \"x\": [19909934429.616505], \"y\": [37691542216.02029], \"z\": [18051348673.052345], \"type\": \"scatter3d\"}, {\"hovertemplate\": \"name=Neptune<br>index=252<br>x=%{x}<br>y=%{y}<br>z=%{z}<br>radius=%{marker.size}<extra></extra>\", \"ids\": [\"Neptune\"], \"legendgroup\": \"Neptune\", \"marker\": {\"color\": \"cyan\", \"size\": [10.15120663641638], \"sizemode\": \"area\", \"sizeref\": 0.050903371511914326, \"symbol\": \"circle\"}, \"mode\": \"markers\", \"name\": \"Neptune\", \"scene\": \"scene\", \"showlegend\": true, \"x\": [2631647575124.194], \"y\": [-3359713562098.7065], \"z\": [-1440514684234.4624], \"type\": \"scatter3d\"}, {\"hovertemplate\": \"name=Saturn<br>index=252<br>x=%{x}<br>y=%{y}<br>z=%{z}<br>radius=%{marker.size}<extra></extra>\", \"ids\": [\"Saturn\"], \"legendgroup\": \"Saturn\", \"marker\": {\"color\": \"khaki\", \"size\": [10.972190310798094], \"sizemode\": \"area\", \"sizeref\": 0.050903371511914326, \"symbol\": \"circle\"}, \"mode\": \"markers\", \"name\": \"Saturn\", \"scene\": \"scene\", \"showlegend\": true, \"x\": [744597600913.2823], \"y\": [1068218935439.2428], \"z\": [409226724091.4152], \"type\": \"scatter3d\"}, {\"hovertemplate\": \"name=Uranus<br>index=252<br>x=%{x}<br>y=%{y}<br>z=%{z}<br>radius=%{marker.size}<extra></extra>\", \"ids\": [\"Uranus\"], \"legendgroup\": \"Uranus\", \"marker\": {\"color\": \"lightcyan\", \"size\": [10.141007269794844], \"sizemode\": \"area\", \"sizeref\": 0.050903371511914326, \"symbol\": \"circle\"}, \"mode\": \"markers\", \"name\": \"Uranus\", \"scene\": \"scene\", \"showlegend\": true, \"x\": [2278336528047.275], \"y\": [-1754572563773.9192], \"z\": [-800696768244.6799], \"type\": \"scatter3d\"}, {\"hovertemplate\": \"name=Jupiter<br>index=252<br>x=%{x}<br>y=%{y}<br>z=%{z}<br>radius=%{marker.size}<extra></extra>\", \"ids\": [\"Jupiter\"], \"legendgroup\": \"Jupiter\", \"marker\": {\"color\": \"chocolate\", \"size\": [11.154978283509006], \"sizemode\": \"area\", \"sizeref\": 0.050903371511914326, \"symbol\": \"circle\"}, \"mode\": \"markers\", \"name\": \"Jupiter\", \"scene\": \"scene\", \"showlegend\": true, \"x\": [329737977313.1775], \"y\": [624434172624.5515], \"z\": [259590649200.24368], \"type\": \"scatter3d\"}, {\"hovertemplate\": \"name=Earth<br>index=252<br>x=%{x}<br>y=%{y}<br>z=%{z}<br>radius=%{marker.size}<extra></extra>\", \"ids\": [\"Earth\"], \"legendgroup\": \"Earth\", \"marker\": {\"color\": \"green\", \"size\": [8.759511722116487], \"sizemode\": \"area\", \"sizeref\": 0.050903371511914326, \"symbol\": \"circle\"}, \"mode\": \"markers\", \"name\": \"Earth\", \"scene\": \"scene\", \"showlegend\": true, \"x\": [111008073039.85028], \"y\": [90596875291.58542], \"z\": [39244813166.83023], \"type\": \"scatter3d\"}], \"name\": \"252\"}, {\"data\": [{\"hovertemplate\": \"name=Sun<br>index=259<br>x=%{x}<br>y=%{y}<br>z=%{z}<br>radius=%{marker.size}<extra></extra>\", \"ids\": [\"Sun\"], \"legendgroup\": \"Sun\", \"marker\": {\"color\": \"orange\", \"size\": [20.36134860476573], \"sizemode\": \"area\", \"sizeref\": 0.050903371511914326, \"symbol\": \"circle\"}, \"mode\": \"markers\", \"name\": \"Sun\", \"scene\": \"scene\", \"showlegend\": true, \"x\": [67151350.74974295], \"y\": [65696519.69959967], \"z\": [9444793.923177412], \"type\": \"scatter3d\"}, {\"hovertemplate\": \"name=Mars<br>index=259<br>x=%{x}<br>y=%{y}<br>z=%{z}<br>radius=%{marker.size}<extra></extra>\", \"ids\": [\"Mars\"], \"legendgroup\": \"Mars\", \"marker\": {\"color\": \"crimson\", \"size\": [8.12843769687102], \"sizemode\": \"area\", \"sizeref\": 0.050903371511914326, \"symbol\": \"circle\"}, \"mode\": \"markers\", \"name\": \"Mars\", \"scene\": \"scene\", \"showlegend\": true, \"x\": [-233242518551.75052], \"y\": [76594709501.22215], \"z\": [41441942733.0519], \"type\": \"scatter3d\"}, {\"hovertemplate\": \"name=Mercury<br>index=259<br>x=%{x}<br>y=%{y}<br>z=%{z}<br>radius=%{marker.size}<extra></extra>\", \"ids\": [\"Mercury\"], \"legendgroup\": \"Mercury\", \"marker\": {\"color\": \"cornflowerblue\", \"size\": [7.7996303599085035], \"sizemode\": \"area\", \"sizeref\": 0.050903371511914326, \"symbol\": \"circle\"}, \"mode\": \"markers\", \"name\": \"Mercury\", \"scene\": \"scene\", \"showlegend\": true, \"x\": [-14681834028.115343], \"y\": [39032585326.30579], \"z\": [22352873441.577595], \"type\": \"scatter3d\"}, {\"hovertemplate\": \"name=Neptune<br>index=259<br>x=%{x}<br>y=%{y}<br>z=%{z}<br>radius=%{marker.size}<extra></extra>\", \"ids\": [\"Neptune\"], \"legendgroup\": \"Neptune\", \"marker\": {\"color\": \"cyan\", \"size\": [10.15120663641638], \"sizemode\": \"area\", \"sizeref\": 0.050903371511914326, \"symbol\": \"circle\"}, \"mode\": \"markers\", \"name\": \"Neptune\", \"scene\": \"scene\", \"showlegend\": true, \"x\": [2634287658786.7104], \"y\": [-3357886359390.977], \"z\": [-1439832419982.0342], \"type\": \"scatter3d\"}, {\"hovertemplate\": \"name=Saturn<br>index=259<br>x=%{x}<br>y=%{y}<br>z=%{z}<br>radius=%{marker.size}<extra></extra>\", \"ids\": [\"Saturn\"], \"legendgroup\": \"Saturn\", \"marker\": {\"color\": \"khaki\", \"size\": [10.972190310798094], \"sizemode\": \"area\", \"sizeref\": 0.050903371511914326, \"symbol\": \"circle\"}, \"mode\": \"markers\", \"name\": \"Saturn\", \"scene\": \"scene\", \"showlegend\": true, \"x\": [739382523108.5479], \"y\": [1071068975176.1934], \"z\": [410628015355.299], \"type\": \"scatter3d\"}, {\"hovertemplate\": \"name=Uranus<br>index=259<br>x=%{x}<br>y=%{y}<br>z=%{z}<br>radius=%{marker.size}<extra></extra>\", \"ids\": [\"Uranus\"], \"legendgroup\": \"Uranus\", \"marker\": {\"color\": \"lightcyan\", \"size\": [10.141007269794844], \"sizemode\": \"area\", \"sizeref\": 0.050903371511914326, \"symbol\": \"circle\"}, \"mode\": \"markers\", \"name\": \"Uranus\", \"scene\": \"scene\", \"showlegend\": true, \"x\": [2280960497463.4546], \"y\": [-1751846756747.1914], \"z\": [-799540285511.6334], \"type\": \"scatter3d\"}, {\"hovertemplate\": \"name=Jupiter<br>index=259<br>x=%{x}<br>y=%{y}<br>z=%{z}<br>radius=%{marker.size}<extra></extra>\", \"ids\": [\"Jupiter\"], \"legendgroup\": \"Jupiter\", \"marker\": {\"color\": \"chocolate\", \"size\": [11.154978283509006], \"sizemode\": \"area\", \"sizeref\": 0.050903371511914326, \"symbol\": \"circle\"}, \"mode\": \"markers\", \"name\": \"Jupiter\", \"scene\": \"scene\", \"showlegend\": true, \"x\": [322510388340.1832], \"y\": [627866492255.7688], \"z\": [261238147210.62747], \"type\": \"scatter3d\"}, {\"hovertemplate\": \"name=Earth<br>index=259<br>x=%{x}<br>y=%{y}<br>z=%{z}<br>radius=%{marker.size}<extra></extra>\", \"ids\": [\"Earth\"], \"legendgroup\": \"Earth\", \"marker\": {\"color\": \"green\", \"size\": [8.759511722116487], \"sizemode\": \"area\", \"sizeref\": 0.050903371511914326, \"symbol\": \"circle\"}, \"mode\": \"markers\", \"name\": \"Earth\", \"scene\": \"scene\", \"showlegend\": true, \"x\": [97951298228.53165], \"y\": [102177120914.46732], \"z\": [44264165859.13001], \"type\": \"scatter3d\"}], \"name\": \"259\"}, {\"data\": [{\"hovertemplate\": \"name=Sun<br>index=266<br>x=%{x}<br>y=%{y}<br>z=%{z}<br>radius=%{marker.size}<extra></extra>\", \"ids\": [\"Sun\"], \"legendgroup\": \"Sun\", \"marker\": {\"color\": \"orange\", \"size\": [20.36134860476573], \"sizemode\": \"area\", \"sizeref\": 0.050903371511914326, \"symbol\": \"circle\"}, \"mode\": \"markers\", \"name\": \"Sun\", \"scene\": \"scene\", \"showlegend\": true, \"x\": [70109579.61659098], \"y\": [68890473.89002609], \"z\": [10193974.569084791], \"type\": \"scatter3d\"}, {\"hovertemplate\": \"name=Mars<br>index=266<br>x=%{x}<br>y=%{y}<br>z=%{z}<br>radius=%{marker.size}<extra></extra>\", \"ids\": [\"Mars\"], \"legendgroup\": \"Mars\", \"marker\": {\"color\": \"crimson\", \"size\": [8.12843769687102], \"sizemode\": \"area\", \"sizeref\": 0.050903371511914326, \"symbol\": \"circle\"}, \"mode\": \"markers\", \"name\": \"Mars\", \"scene\": \"scene\", \"showlegend\": true, \"x\": [-237422853170.4784], \"y\": [65080800265.85853], \"z\": [36272197586.637054], \"type\": \"scatter3d\"}, {\"hovertemplate\": \"name=Mercury<br>index=266<br>x=%{x}<br>y=%{y}<br>z=%{z}<br>radius=%{marker.size}<extra></extra>\", \"ids\": [\"Mercury\"], \"legendgroup\": \"Mercury\", \"marker\": {\"color\": \"cornflowerblue\", \"size\": [7.7996303599085035], \"sizemode\": \"area\", \"sizeref\": 0.050903371511914326, \"symbol\": \"circle\"}, \"mode\": \"markers\", \"name\": \"Mercury\", \"scene\": \"scene\", \"showlegend\": true, \"x\": [-43294318270.87679], \"y\": [23265790846.009003], \"z\": [16896260396.084272], \"type\": \"scatter3d\"}, {\"hovertemplate\": \"name=Neptune<br>index=266<br>x=%{x}<br>y=%{y}<br>z=%{z}<br>radius=%{marker.size}<extra></extra>\", \"ids\": [\"Neptune\"], \"legendgroup\": \"Neptune\", \"marker\": {\"color\": \"cyan\", \"size\": [10.15120663641638], \"sizemode\": \"area\", \"sizeref\": 0.050903371511914326, \"symbol\": \"circle\"}, \"mode\": \"markers\", \"name\": \"Neptune\", \"scene\": \"scene\", \"showlegend\": true, \"x\": [2636926341824.582], \"y\": [-3356057370192.55], \"z\": [-1439149389734.5415], \"type\": \"scatter3d\"}, {\"hovertemplate\": \"name=Saturn<br>index=266<br>x=%{x}<br>y=%{y}<br>z=%{z}<br>radius=%{marker.size}<extra></extra>\", \"ids\": [\"Saturn\"], \"legendgroup\": \"Saturn\", \"marker\": {\"color\": \"khaki\", \"size\": [10.972190310798094], \"sizemode\": \"area\", \"sizeref\": 0.050903371511914326, \"symbol\": \"circle\"}, \"mode\": \"markers\", \"name\": \"Saturn\", \"scene\": \"scene\", \"showlegend\": true, \"x\": [734153243955.3506], \"y\": [1073898472111.5836], \"z\": [412021434446.6435], \"type\": \"scatter3d\"}, {\"hovertemplate\": \"name=Uranus<br>index=266<br>x=%{x}<br>y=%{y}<br>z=%{z}<br>radius=%{marker.size}<extra></extra>\", \"ids\": [\"Uranus\"], \"legendgroup\": \"Uranus\", \"marker\": {\"color\": \"lightcyan\", \"size\": [10.141007269794844], \"sizemode\": \"area\", \"sizeref\": 0.050903371511914326, \"symbol\": \"circle\"}, \"mode\": \"markers\", \"name\": \"Uranus\", \"scene\": \"scene\", \"showlegend\": true, \"x\": [2283580301255.072], \"y\": [-1749117749054.8584], \"z\": [-798382342055.408], \"type\": \"scatter3d\"}, {\"hovertemplate\": \"name=Jupiter<br>index=266<br>x=%{x}<br>y=%{y}<br>z=%{z}<br>radius=%{marker.size}<extra></extra>\", \"ids\": [\"Jupiter\"], \"legendgroup\": \"Jupiter\", \"marker\": {\"color\": \"chocolate\", \"size\": [11.154978283509006], \"sizemode\": \"area\", \"sizeref\": 0.050903371511914326, \"symbol\": \"circle\"}, \"mode\": \"markers\", \"name\": \"Jupiter\", \"scene\": \"scene\", \"showlegend\": true, \"x\": [315246096465.7024], \"y\": [631227329853.853], \"z\": [262855899481.91977], \"type\": \"scatter3d\"}, {\"hovertemplate\": \"name=Earth<br>index=266<br>x=%{x}<br>y=%{y}<br>z=%{z}<br>radius=%{marker.size}<extra></extra>\", \"ids\": [\"Earth\"], \"legendgroup\": \"Earth\", \"marker\": {\"color\": \"green\", \"size\": [8.759511722116487], \"sizemode\": \"area\", \"sizeref\": 0.050903371511914326, \"symbol\": \"circle\"}, \"mode\": \"markers\", \"name\": \"Earth\", \"scene\": \"scene\", \"showlegend\": true, \"x\": [83437019465.16801], \"y\": [112236665161.94617], \"z\": [48624449483.5258], \"type\": \"scatter3d\"}], \"name\": \"266\"}, {\"data\": [{\"hovertemplate\": \"name=Sun<br>index=273<br>x=%{x}<br>y=%{y}<br>z=%{z}<br>radius=%{marker.size}<extra></extra>\", \"ids\": [\"Sun\"], \"legendgroup\": \"Sun\", \"marker\": {\"color\": \"orange\", \"size\": [20.36134860476573], \"sizemode\": \"area\", \"sizeref\": 0.050903371511914326, \"symbol\": \"circle\"}, \"mode\": \"markers\", \"name\": \"Sun\", \"scene\": \"scene\", \"showlegend\": true, \"x\": [73107652.52176055], \"y\": [72165186.4900094], \"z\": [10977093.802145489], \"type\": \"scatter3d\"}, {\"hovertemplate\": \"name=Mars<br>index=273<br>x=%{x}<br>y=%{y}<br>z=%{z}<br>radius=%{marker.size}<extra></extra>\", \"ids\": [\"Mars\"], \"legendgroup\": \"Mars\", \"marker\": {\"color\": \"crimson\", \"size\": [8.12843769687102], \"sizemode\": \"area\", \"sizeref\": 0.050903371511914326, \"symbol\": \"circle\"}, \"mode\": \"markers\", \"name\": \"Mars\", \"scene\": \"scene\", \"showlegend\": true, \"x\": [-240855452006.23935], \"y\": [53362282537.6725], \"z\": [30988317432.460384], \"type\": \"scatter3d\"}, {\"hovertemplate\": \"name=Mercury<br>index=273<br>x=%{x}<br>y=%{y}<br>z=%{z}<br>radius=%{marker.size}<extra></extra>\", \"ids\": [\"Mercury\"], \"legendgroup\": \"Mercury\", \"marker\": {\"color\": \"cornflowerblue\", \"size\": [7.7996303599085035], \"sizemode\": \"area\", \"sizeref\": 0.050903371511914326, \"symbol\": \"circle\"}, \"mode\": \"markers\", \"name\": \"Mercury\", \"scene\": \"scene\", \"showlegend\": true, \"x\": [-57667155783.97125], \"y\": [-702487279.3132095], \"z\": [5582638750.230562], \"type\": \"scatter3d\"}, {\"hovertemplate\": \"name=Neptune<br>index=273<br>x=%{x}<br>y=%{y}<br>z=%{z}<br>radius=%{marker.size}<extra></extra>\", \"ids\": [\"Neptune\"], \"legendgroup\": \"Neptune\", \"marker\": {\"color\": \"cyan\", \"size\": [10.15120663641638], \"sizemode\": \"area\", \"sizeref\": 0.050903371511914326, \"symbol\": \"circle\"}, \"mode\": \"markers\", \"name\": \"Neptune\", \"scene\": \"scene\", \"showlegend\": true, \"x\": [2639563622802.9434], \"y\": [-3354226595436.8945], \"z\": [-1438465593838.5808], \"type\": \"scatter3d\"}, {\"hovertemplate\": \"name=Saturn<br>index=273<br>x=%{x}<br>y=%{y}<br>z=%{z}<br>radius=%{marker.size}<extra></extra>\", \"ids\": [\"Saturn\"], \"legendgroup\": \"Saturn\", \"marker\": {\"color\": \"khaki\", \"size\": [10.972190310798094], \"sizemode\": \"area\", \"sizeref\": 0.050903371511914326, \"symbol\": \"circle\"}, \"mode\": \"markers\", \"name\": \"Saturn\", \"scene\": \"scene\", \"showlegend\": true, \"x\": [728909857701.4675], \"y\": [1076707364436.0566], \"z\": [413406951748.18506], \"type\": \"scatter3d\"}, {\"hovertemplate\": \"name=Uranus<br>index=273<br>x=%{x}<br>y=%{y}<br>z=%{z}<br>radius=%{marker.size}<extra></extra>\", \"ids\": [\"Uranus\"], \"legendgroup\": \"Uranus\", \"marker\": {\"color\": \"lightcyan\", \"size\": [10.141007269794844], \"sizemode\": \"area\", \"sizeref\": 0.050903371511914326, \"symbol\": \"circle\"}, \"mode\": \"markers\", \"name\": \"Uranus\", \"scene\": \"scene\", \"showlegend\": true, \"x\": [2286195935034.9834], \"y\": [-1746385545988.754], \"z\": [-797222940132.1954], \"type\": \"scatter3d\"}, {\"hovertemplate\": \"name=Jupiter<br>index=273<br>x=%{x}<br>y=%{y}<br>z=%{z}<br>radius=%{marker.size}<extra></extra>\", \"ids\": [\"Jupiter\"], \"legendgroup\": \"Jupiter\", \"marker\": {\"color\": \"chocolate\", \"size\": [11.154978283509006], \"sizemode\": \"area\", \"sizeref\": 0.050903371511914326, \"symbol\": \"circle\"}, \"mode\": \"markers\", \"name\": \"Jupiter\", \"scene\": \"scene\", \"showlegend\": true, \"x\": [307945971302.46045], \"y\": [634516386692.9362], \"z\": [264443756707.0281], \"type\": \"scatter3d\"}, {\"hovertemplate\": \"name=Earth<br>index=273<br>x=%{x}<br>y=%{y}<br>z=%{z}<br>radius=%{marker.size}<extra></extra>\", \"ids\": [\"Earth\"], \"legendgroup\": \"Earth\", \"marker\": {\"color\": \"green\", \"size\": [8.759511722116487], \"sizemode\": \"area\", \"sizeref\": 0.050903371511914326, \"symbol\": \"circle\"}, \"mode\": \"markers\", \"name\": \"Earth\", \"scene\": \"scene\", \"showlegend\": true, \"x\": [67675362629.23402], \"y\": [120617604143.21324], \"z\": [52257211862.29582], \"type\": \"scatter3d\"}], \"name\": \"273\"}, {\"data\": [{\"hovertemplate\": \"name=Sun<br>index=280<br>x=%{x}<br>y=%{y}<br>z=%{z}<br>radius=%{marker.size}<extra></extra>\", \"ids\": [\"Sun\"], \"legendgroup\": \"Sun\", \"marker\": {\"color\": \"orange\", \"size\": [20.36134860476573], \"sizemode\": \"area\", \"sizeref\": 0.050903371511914326, \"symbol\": \"circle\"}, \"mode\": \"markers\", \"name\": \"Sun\", \"scene\": \"scene\", \"showlegend\": true, \"x\": [76143950.21931139], \"y\": [75519978.3502955], \"z\": [11793744.55087021], \"type\": \"scatter3d\"}, {\"hovertemplate\": \"name=Mars<br>index=280<br>x=%{x}<br>y=%{y}<br>z=%{z}<br>radius=%{marker.size}<extra></extra>\", \"ids\": [\"Mars\"], \"legendgroup\": \"Mars\", \"marker\": {\"color\": \"crimson\", \"size\": [8.12843769687102], \"sizemode\": \"area\", \"sizeref\": 0.050903371511914326, \"symbol\": \"circle\"}, \"mode\": \"markers\", \"name\": \"Mars\", \"scene\": \"scene\", \"showlegend\": true, \"x\": [-243527690125.1394], \"y\": [41475663846.04869], \"z\": [25606709244.945377], \"type\": \"scatter3d\"}, {\"hovertemplate\": \"name=Mercury<br>index=280<br>x=%{x}<br>y=%{y}<br>z=%{z}<br>radius=%{marker.size}<extra></extra>\", \"ids\": [\"Mercury\"], \"legendgroup\": \"Mercury\", \"marker\": {\"color\": \"cornflowerblue\", \"size\": [7.7996303599085035], \"sizemode\": \"area\", \"sizeref\": 0.050903371511914326, \"symbol\": \"circle\"}, \"mode\": \"markers\", \"name\": \"Mercury\", \"scene\": \"scene\", \"showlegend\": true, \"x\": [-57888058296.67584], \"y\": [-24788206383.09821], \"z\": [-7260732419.562451], \"type\": \"scatter3d\"}, {\"hovertemplate\": \"name=Neptune<br>index=280<br>x=%{x}<br>y=%{y}<br>z=%{z}<br>radius=%{marker.size}<extra></extra>\", \"ids\": [\"Neptune\"], \"legendgroup\": \"Neptune\", \"marker\": {\"color\": \"cyan\", \"size\": [10.15120663641638], \"sizemode\": \"area\", \"sizeref\": 0.050903371511914326, \"symbol\": \"circle\"}, \"mode\": \"markers\", \"name\": \"Neptune\", \"scene\": \"scene\", \"showlegend\": true, \"x\": [2642199500287.6265], \"y\": [-3352394036058.4385], \"z\": [-1437781032641.1555], \"type\": \"scatter3d\"}, {\"hovertemplate\": \"name=Saturn<br>index=280<br>x=%{x}<br>y=%{y}<br>z=%{z}<br>radius=%{marker.size}<extra></extra>\", \"ids\": [\"Saturn\"], \"legendgroup\": \"Saturn\", \"marker\": {\"color\": \"khaki\", \"size\": [10.972190310798094], \"sizemode\": \"area\", \"sizeref\": 0.050903371511914326, \"symbol\": \"circle\"}, \"mode\": \"markers\", \"name\": \"Saturn\", \"scene\": \"scene\", \"showlegend\": true, \"x\": [723652458995.0951], \"y\": [1079495590746.2096], \"z\": [414784537792.12775], \"type\": \"scatter3d\"}, {\"hovertemplate\": \"name=Uranus<br>index=280<br>x=%{x}<br>y=%{y}<br>z=%{z}<br>radius=%{marker.size}<extra></extra>\", \"ids\": [\"Uranus\"], \"legendgroup\": \"Uranus\", \"marker\": {\"color\": \"lightcyan\", \"size\": [10.141007269794844], \"sizemode\": \"area\", \"sizeref\": 0.050903371511914326, \"symbol\": \"circle\"}, \"mode\": \"markers\", \"name\": \"Uranus\", \"scene\": \"scene\", \"showlegend\": true, \"x\": [2288807394423.646], \"y\": [-1743650152844.6614], \"z\": [-796062082000.0275], \"type\": \"scatter3d\"}, {\"hovertemplate\": \"name=Jupiter<br>index=280<br>x=%{x}<br>y=%{y}<br>z=%{z}<br>radius=%{marker.size}<extra></extra>\", \"ids\": [\"Jupiter\"], \"legendgroup\": \"Jupiter\", \"marker\": {\"color\": \"chocolate\", \"size\": [11.154978283509006], \"sizemode\": \"area\", \"sizeref\": 0.050903371511914326, \"symbol\": \"circle\"}, \"mode\": \"markers\", \"name\": \"Jupiter\", \"scene\": \"scene\", \"showlegend\": true, \"x\": [300610884921.3495], \"y\": [637733373759.163], \"z\": [266001573682.50928], \"type\": \"scatter3d\"}, {\"hovertemplate\": \"name=Earth<br>index=280<br>x=%{x}<br>y=%{y}<br>z=%{z}<br>radius=%{marker.size}<extra></extra>\", \"ids\": [\"Earth\"], \"legendgroup\": \"Earth\", \"marker\": {\"color\": \"green\", \"size\": [8.759511722116487], \"sizemode\": \"area\", \"sizeref\": 0.050903371511914326, \"symbol\": \"circle\"}, \"mode\": \"markers\", \"name\": \"Earth\", \"scene\": \"scene\", \"showlegend\": true, \"x\": [50897799233.76627], \"y\": [127186668166.3809], \"z\": [55104677347.11776], \"type\": \"scatter3d\"}], \"name\": \"280\"}, {\"data\": [{\"hovertemplate\": \"name=Sun<br>index=287<br>x=%{x}<br>y=%{y}<br>z=%{z}<br>radius=%{marker.size}<extra></extra>\", \"ids\": [\"Sun\"], \"legendgroup\": \"Sun\", \"marker\": {\"color\": \"orange\", \"size\": [20.36134860476573], \"sizemode\": \"area\", \"sizeref\": 0.050903371511914326, \"symbol\": \"circle\"}, \"mode\": \"markers\", \"name\": \"Sun\", \"scene\": \"scene\", \"showlegend\": true, \"x\": [79217359.76849958], \"y\": [78954645.40887561], \"z\": [12643724.50400941], \"type\": \"scatter3d\"}, {\"hovertemplate\": \"name=Mars<br>index=287<br>x=%{x}<br>y=%{y}<br>z=%{z}<br>radius=%{marker.size}<extra></extra>\", \"ids\": [\"Mars\"], \"legendgroup\": \"Mars\", \"marker\": {\"color\": \"crimson\", \"size\": [8.12843769687102], \"sizemode\": \"area\", \"sizeref\": 0.050903371511914326, \"symbol\": \"circle\"}, \"mode\": \"markers\", \"name\": \"Mars\", \"scene\": \"scene\", \"showlegend\": true, \"x\": [-245428620483.9715], \"y\": [29458045114.698368], \"z\": [20144097699.01634], \"type\": \"scatter3d\"}, {\"hovertemplate\": \"name=Mercury<br>index=287<br>x=%{x}<br>y=%{y}<br>z=%{z}<br>radius=%{marker.size}<extra></extra>\", \"ids\": [\"Mercury\"], \"legendgroup\": \"Mercury\", \"marker\": {\"color\": \"cornflowerblue\", \"size\": [7.7996303599085035], \"sizemode\": \"area\", \"sizeref\": 0.050903371511914326, \"symbol\": \"circle\"}, \"mode\": \"markers\", \"name\": \"Mercury\", \"scene\": \"scene\", \"showlegend\": true, \"x\": [-47120650375.3416], \"y\": [-44336471638.60911], \"z\": [-18819451229.09384], \"type\": \"scatter3d\"}, {\"hovertemplate\": \"name=Neptune<br>index=287<br>x=%{x}<br>y=%{y}<br>z=%{z}<br>radius=%{marker.size}<extra></extra>\", \"ids\": [\"Neptune\"], \"legendgroup\": \"Neptune\", \"marker\": {\"color\": \"cyan\", \"size\": [10.15120663641638], \"sizemode\": \"area\", \"sizeref\": 0.050903371511914326, \"symbol\": \"circle\"}, \"mode\": \"markers\", \"name\": \"Neptune\", \"scene\": \"scene\", \"showlegend\": true, \"x\": [2644833972845.169], \"y\": [-3350559692992.565], \"z\": [-1437095706489.6775], \"type\": \"scatter3d\"}, {\"hovertemplate\": \"name=Saturn<br>index=287<br>x=%{x}<br>y=%{y}<br>z=%{z}<br>radius=%{marker.size}<extra></extra>\", \"ids\": [\"Saturn\"], \"legendgroup\": \"Saturn\", \"marker\": {\"color\": \"khaki\", \"size\": [10.972190310798094], \"sizemode\": \"area\", \"sizeref\": 0.050903371511914326, \"symbol\": \"circle\"}, \"mode\": \"markers\", \"name\": \"Saturn\", \"scene\": \"scene\", \"showlegend\": true, \"x\": [718381142882.8213], \"y\": [1082263090046.2302], \"z\": [416154163260.9516], \"type\": \"scatter3d\"}, {\"hovertemplate\": \"name=Uranus<br>index=287<br>x=%{x}<br>y=%{y}<br>z=%{z}<br>radius=%{marker.size}<extra></extra>\", \"ids\": [\"Uranus\"], \"legendgroup\": \"Uranus\", \"marker\": {\"color\": \"lightcyan\", \"size\": [10.141007269794844], \"sizemode\": \"area\", \"sizeref\": 0.050903371511914326, \"symbol\": \"circle\"}, \"mode\": \"markers\", \"name\": \"Uranus\", \"scene\": \"scene\", \"showlegend\": true, \"x\": [2291414675049.116], \"y\": [-1740911574922.3064], \"z\": [-794899769918.7715], \"type\": \"scatter3d\"}, {\"hovertemplate\": \"name=Jupiter<br>index=287<br>x=%{x}<br>y=%{y}<br>z=%{z}<br>radius=%{marker.size}<extra></extra>\", \"ids\": [\"Jupiter\"], \"legendgroup\": \"Jupiter\", \"marker\": {\"color\": \"chocolate\", \"size\": [11.154978283509006], \"sizemode\": \"area\", \"sizeref\": 0.050903371511914326, \"symbol\": \"circle\"}, \"mode\": \"markers\", \"name\": \"Jupiter\", \"scene\": \"scene\", \"showlegend\": true, \"x\": [293241711708.9223], \"y\": [640878011750.9401], \"z\": [267529209312.15927], \"type\": \"scatter3d\"}, {\"hovertemplate\": \"name=Earth<br>index=287<br>x=%{x}<br>y=%{y}<br>z=%{z}<br>radius=%{marker.size}<extra></extra>\", \"ids\": [\"Earth\"], \"legendgroup\": \"Earth\", \"marker\": {\"color\": \"green\", \"size\": [8.759511722116487], \"sizemode\": \"area\", \"sizeref\": 0.050903371511914326, \"symbol\": \"circle\"}, \"mode\": \"markers\", \"name\": \"Earth\", \"scene\": \"scene\", \"showlegend\": true, \"x\": [33353622701.106216], \"y\": [131837887947.0126], \"z\": [57120902634.33402], \"type\": \"scatter3d\"}], \"name\": \"287\"}, {\"data\": [{\"hovertemplate\": \"name=Sun<br>index=294<br>x=%{x}<br>y=%{y}<br>z=%{z}<br>radius=%{marker.size}<extra></extra>\", \"ids\": [\"Sun\"], \"legendgroup\": \"Sun\", \"marker\": {\"color\": \"orange\", \"size\": [20.36134860476573], \"sizemode\": \"area\", \"sizeref\": 0.050903371511914326, \"symbol\": \"circle\"}, \"mode\": \"markers\", \"name\": \"Sun\", \"scene\": \"scene\", \"showlegend\": true, \"x\": [82326798.5487844], \"y\": [82469275.73444185], \"z\": [13526989.667884093], \"type\": \"scatter3d\"}, {\"hovertemplate\": \"name=Mars<br>index=294<br>x=%{x}<br>y=%{y}<br>z=%{z}<br>radius=%{marker.size}<extra></extra>\", \"ids\": [\"Mars\"], \"legendgroup\": \"Mars\", \"marker\": {\"color\": \"crimson\", \"size\": [8.12843769687102], \"sizemode\": \"area\", \"sizeref\": 0.050903371511914326, \"symbol\": \"circle\"}, \"mode\": \"markers\", \"name\": \"Mars\", \"scene\": \"scene\", \"showlegend\": true, \"x\": [-246549006980.78735], \"y\": [17347106526.500973], \"z\": [14617519582.020767], \"type\": \"scatter3d\"}, {\"hovertemplate\": \"name=Mercury<br>index=294<br>x=%{x}<br>y=%{y}<br>z=%{z}<br>radius=%{marker.size}<extra></extra>\", \"ids\": [\"Mercury\"], \"legendgroup\": \"Mercury\", \"marker\": {\"color\": \"cornflowerblue\", \"size\": [7.7996303599085035], \"sizemode\": \"area\", \"sizeref\": 0.050903371511914326, \"symbol\": \"circle\"}, \"mode\": \"markers\", \"name\": \"Mercury\", \"scene\": \"scene\", \"showlegend\": true, \"x\": [-28877299854.25439], \"y\": [-56958921412.09698], \"z\": [-27453654476.059326], \"type\": \"scatter3d\"}, {\"hovertemplate\": \"name=Neptune<br>index=294<br>x=%{x}<br>y=%{y}<br>z=%{z}<br>radius=%{marker.size}<extra></extra>\", \"ids\": [\"Neptune\"], \"legendgroup\": \"Neptune\", \"marker\": {\"color\": \"cyan\", \"size\": [10.15120663641638], \"sizemode\": \"area\", \"sizeref\": 0.050903371511914326, \"symbol\": \"circle\"}, \"mode\": \"markers\", \"name\": \"Neptune\", \"scene\": \"scene\", \"showlegend\": true, \"x\": [2647467039042.809], \"y\": [-3348723567175.611], \"z\": [-1436409615731.9673], \"type\": \"scatter3d\"}, {\"hovertemplate\": \"name=Saturn<br>index=294<br>x=%{x}<br>y=%{y}<br>z=%{z}<br>radius=%{marker.size}<extra></extra>\", \"ids\": [\"Saturn\"], \"legendgroup\": \"Saturn\", \"marker\": {\"color\": \"khaki\", \"size\": [10.972190310798094], \"sizemode\": \"area\", \"sizeref\": 0.050903371511914326, \"symbol\": \"circle\"}, \"mode\": \"markers\", \"name\": \"Saturn\", \"scene\": \"scene\", \"showlegend\": true, \"x\": [713096004807.5507], \"y\": [1085009801749.517], \"z\": [417515798988.2158], \"type\": \"scatter3d\"}, {\"hovertemplate\": \"name=Uranus<br>index=294<br>x=%{x}<br>y=%{y}<br>z=%{z}<br>radius=%{marker.size}<extra></extra>\", \"ids\": [\"Uranus\"], \"legendgroup\": \"Uranus\", \"marker\": {\"color\": \"lightcyan\", \"size\": [10.141007269794844], \"sizemode\": \"area\", \"sizeref\": 0.050903371511914326, \"symbol\": \"circle\"}, \"mode\": \"markers\", \"name\": \"Uranus\", \"scene\": \"scene\", \"showlegend\": true, \"x\": [2294017772547.0576], \"y\": [-1738169817525.3508], \"z\": [-793736006150.1292], \"type\": \"scatter3d\"}, {\"hovertemplate\": \"name=Jupiter<br>index=294<br>x=%{x}<br>y=%{y}<br>z=%{z}<br>radius=%{marker.size}<extra></extra>\", \"ids\": [\"Jupiter\"], \"legendgroup\": \"Jupiter\", \"marker\": {\"color\": \"chocolate\", \"size\": [11.154978283509006], \"sizemode\": \"area\", \"sizeref\": 0.050903371511914326, \"symbol\": \"circle\"}, \"mode\": \"markers\", \"name\": \"Jupiter\", \"scene\": \"scene\", \"showlegend\": true, \"x\": [285839328225.5754], \"y\": [643950031077.0352], \"z\": [269026526609.65643], \"type\": \"scatter3d\"}, {\"hovertemplate\": \"name=Earth<br>index=294<br>x=%{x}<br>y=%{y}<br>z=%{z}<br>radius=%{marker.size}<extra></extra>\", \"ids\": [\"Earth\"], \"legendgroup\": \"Earth\", \"marker\": {\"color\": \"green\", \"size\": [8.759511722116487], \"sizemode\": \"area\", \"sizeref\": 0.050903371511914326, \"symbol\": \"circle\"}, \"mode\": \"markers\", \"name\": \"Earth\", \"scene\": \"scene\", \"showlegend\": true, \"x\": [15305968904.707584], \"y\": [134494808649.43948], \"z\": [58272736608.015045], \"type\": \"scatter3d\"}], \"name\": \"294\"}, {\"data\": [{\"hovertemplate\": \"name=Sun<br>index=301<br>x=%{x}<br>y=%{y}<br>z=%{z}<br>radius=%{marker.size}<extra></extra>\", \"ids\": [\"Sun\"], \"legendgroup\": \"Sun\", \"marker\": {\"color\": \"orange\", \"size\": [20.36134860476573], \"sizemode\": \"area\", \"sizeref\": 0.050903371511914326, \"symbol\": \"circle\"}, \"mode\": \"markers\", \"name\": \"Sun\", \"scene\": \"scene\", \"showlegend\": true, \"x\": [85471119.38935253], \"y\": [86064053.94008945], \"z\": [14443561.63067113], \"type\": \"scatter3d\"}, {\"hovertemplate\": \"name=Mars<br>index=301<br>x=%{x}<br>y=%{y}<br>z=%{z}<br>radius=%{marker.size}<extra></extra>\", \"ids\": [\"Mars\"], \"legendgroup\": \"Mars\", \"marker\": {\"color\": \"crimson\", \"size\": [8.12843769687102], \"sizemode\": \"area\", \"sizeref\": 0.050903371511914326, \"symbol\": \"circle\"}, \"mode\": \"markers\", \"name\": \"Mars\", \"scene\": \"scene\", \"showlegend\": true, \"x\": [-246881364646.1963], \"y\": [5181092511.959744], \"z\": [9044317996.287195], \"type\": \"scatter3d\"}, {\"hovertemplate\": \"name=Mercury<br>index=301<br>x=%{x}<br>y=%{y}<br>z=%{z}<br>radius=%{marker.size}<extra></extra>\", \"ids\": [\"Mercury\"], \"legendgroup\": \"Mercury\", \"marker\": {\"color\": \"cornflowerblue\", \"size\": [7.7996303599085035], \"sizemode\": \"area\", \"sizeref\": 0.050903371511914326, \"symbol\": \"circle\"}, \"mode\": \"markers\", \"name\": \"Mercury\", \"scene\": \"scene\", \"showlegend\": true, \"x\": [-6462220103.354061], \"y\": [-61421439655.76283], \"z\": [-32161607831.953285], \"type\": \"scatter3d\"}, {\"hovertemplate\": \"name=Neptune<br>index=301<br>x=%{x}<br>y=%{y}<br>z=%{z}<br>radius=%{marker.size}<extra></extra>\", \"ids\": [\"Neptune\"], \"legendgroup\": \"Neptune\", \"marker\": {\"color\": \"cyan\", \"size\": [10.15120663641638], \"sizemode\": \"area\", \"sizeref\": 0.050903371511914326, \"symbol\": \"circle\"}, \"mode\": \"markers\", \"name\": \"Neptune\", \"scene\": \"scene\", \"showlegend\": true, \"x\": [2650098697448.491], \"y\": [-3346885659544.8687], \"z\": [-1435722760716.254], \"type\": \"scatter3d\"}, {\"hovertemplate\": \"name=Saturn<br>index=301<br>x=%{x}<br>y=%{y}<br>z=%{z}<br>radius=%{marker.size}<extra></extra>\", \"ids\": [\"Saturn\"], \"legendgroup\": \"Saturn\", \"marker\": {\"color\": \"khaki\", \"size\": [10.972190310798094], \"sizemode\": \"area\", \"sizeref\": 0.050903371511914326, \"symbol\": \"circle\"}, \"mode\": \"markers\", \"name\": \"Saturn\", \"scene\": \"scene\", \"showlegend\": true, \"x\": [707797140606.3733], \"y\": [1087735665680.28], \"z\": [418869415959.35614], \"type\": \"scatter3d\"}, {\"hovertemplate\": \"name=Uranus<br>index=301<br>x=%{x}<br>y=%{y}<br>z=%{z}<br>radius=%{marker.size}<extra></extra>\", \"ids\": [\"Uranus\"], \"legendgroup\": \"Uranus\", \"marker\": {\"color\": \"lightcyan\", \"size\": [10.141007269794844], \"sizemode\": \"area\", \"sizeref\": 0.050903371511914326, \"symbol\": \"circle\"}, \"mode\": \"markers\", \"name\": \"Uranus\", \"scene\": \"scene\", \"showlegend\": true, \"x\": [2296616682560.748], \"y\": [-1735424885961.387], \"z\": [-792570792957.6329], \"type\": \"scatter3d\"}, {\"hovertemplate\": \"name=Jupiter<br>index=301<br>x=%{x}<br>y=%{y}<br>z=%{z}<br>radius=%{marker.size}<extra></extra>\", \"ids\": [\"Jupiter\"], \"legendgroup\": \"Jupiter\", \"marker\": {\"color\": \"chocolate\", \"size\": [11.154978283509006], \"sizemode\": \"area\", \"sizeref\": 0.050903371511914326, \"symbol\": \"circle\"}, \"mode\": \"markers\", \"name\": \"Jupiter\", \"scene\": \"scene\", \"showlegend\": true, \"x\": [278404613064.34], \"y\": [646949171852.4966], \"z\": [270493392700.25165], \"type\": \"scatter3d\"}, {\"hovertemplate\": \"name=Earth<br>index=301<br>x=%{x}<br>y=%{y}<br>z=%{z}<br>radius=%{marker.size}<extra></extra>\", \"ids\": [\"Earth\"], \"legendgroup\": \"Earth\", \"marker\": {\"color\": \"green\", \"size\": [8.759511722116487], \"sizemode\": \"area\", \"sizeref\": 0.050903371511914326, \"symbol\": \"circle\"}, \"mode\": \"markers\", \"name\": \"Earth\", \"scene\": \"scene\", \"showlegend\": true, \"x\": [-2972541154.1917224], \"y\": [135112174187.07314], \"z\": [58540550586.85172], \"type\": \"scatter3d\"}], \"name\": \"301\"}, {\"data\": [{\"hovertemplate\": \"name=Sun<br>index=308<br>x=%{x}<br>y=%{y}<br>z=%{z}<br>radius=%{marker.size}<extra></extra>\", \"ids\": [\"Sun\"], \"legendgroup\": \"Sun\", \"marker\": {\"color\": \"orange\", \"size\": [20.36134860476573], \"sizemode\": \"area\", \"sizeref\": 0.050903371511914326, \"symbol\": \"circle\"}, \"mode\": \"markers\", \"name\": \"Sun\", \"scene\": \"scene\", \"showlegend\": true, \"x\": [88649147.25105524], \"y\": [89739163.96087687], \"z\": [15393473.642113758], \"type\": \"scatter3d\"}, {\"hovertemplate\": \"name=Mars<br>index=308<br>x=%{x}<br>y=%{y}<br>z=%{z}<br>radius=%{marker.size}<extra></extra>\", \"ids\": [\"Mars\"], \"legendgroup\": \"Mars\", \"marker\": {\"color\": \"crimson\", \"size\": [8.12843769687102], \"sizemode\": \"area\", \"sizeref\": 0.050903371511914326, \"symbol\": \"circle\"}, \"mode\": \"markers\", \"name\": \"Mars\", \"scene\": \"scene\", \"showlegend\": true, \"x\": [-246420007162.9914], \"y\": [-7001204984.342936], \"z\": [3442135969.3583198], \"type\": \"scatter3d\"}, {\"hovertemplate\": \"name=Mercury<br>index=308<br>x=%{x}<br>y=%{y}<br>z=%{z}<br>radius=%{marker.size}<extra></extra>\", \"ids\": [\"Mercury\"], \"legendgroup\": \"Mercury\", \"marker\": {\"color\": \"cornflowerblue\", \"size\": [7.7996303599085035], \"sizemode\": \"area\", \"sizeref\": 0.050903371511914326, \"symbol\": \"circle\"}, \"mode\": \"markers\", \"name\": \"Mercury\", \"scene\": \"scene\", \"showlegend\": true, \"x\": [16864690879.725117], \"y\": [-57113878194.325485], \"z\": [-32279469290.40325], \"type\": \"scatter3d\"}, {\"hovertemplate\": \"name=Neptune<br>index=308<br>x=%{x}<br>y=%{y}<br>z=%{z}<br>radius=%{marker.size}<extra></extra>\", \"ids\": [\"Neptune\"], \"legendgroup\": \"Neptune\", \"marker\": {\"color\": \"cyan\", \"size\": [10.15120663641638], \"sizemode\": \"area\", \"sizeref\": 0.050903371511914326, \"symbol\": \"circle\"}, \"mode\": \"markers\", \"name\": \"Neptune\", \"scene\": \"scene\", \"showlegend\": true, \"x\": [2652728946630.8647], \"y\": [-3345045971038.5874], \"z\": [-1435035141791.174], \"type\": \"scatter3d\"}, {\"hovertemplate\": \"name=Saturn<br>index=308<br>x=%{x}<br>y=%{y}<br>z=%{z}<br>radius=%{marker.size}<extra></extra>\", \"ids\": [\"Saturn\"], \"legendgroup\": \"Saturn\", \"marker\": {\"color\": \"khaki\", \"size\": [10.972190310798094], \"sizemode\": \"area\", \"sizeref\": 0.050903371511914326, \"symbol\": \"circle\"}, \"mode\": \"markers\", \"name\": \"Saturn\", \"scene\": \"scene\", \"showlegend\": true, \"x\": [702484646508.3771], \"y\": [1090440622075.126], \"z\": [420214985312.4798], \"type\": \"scatter3d\"}, {\"hovertemplate\": \"name=Uranus<br>index=308<br>x=%{x}<br>y=%{y}<br>z=%{z}<br>radius=%{marker.size}<extra></extra>\", \"ids\": [\"Uranus\"], \"legendgroup\": \"Uranus\", \"marker\": {\"color\": \"lightcyan\", \"size\": [10.141007269794844], \"sizemode\": \"area\", \"sizeref\": 0.050903371511914326, \"symbol\": \"circle\"}, \"mode\": \"markers\", \"name\": \"Uranus\", \"scene\": \"scene\", \"showlegend\": true, \"x\": [2299211400741.079], \"y\": [-1732676785541.931], \"z\": [-791404132606.6442], \"type\": \"scatter3d\"}, {\"hovertemplate\": \"name=Jupiter<br>index=308<br>x=%{x}<br>y=%{y}<br>z=%{z}<br>radius=%{marker.size}<extra></extra>\", \"ids\": [\"Jupiter\"], \"legendgroup\": \"Jupiter\", \"marker\": {\"color\": \"chocolate\", \"size\": [11.154978283509006], \"sizemode\": \"area\", \"sizeref\": 0.050903371511914326, \"symbol\": \"circle\"}, \"mode\": \"markers\", \"name\": \"Jupiter\", \"scene\": \"scene\", \"showlegend\": true, \"x\": [270938446710.25745], \"y\": [649875183892.4595], \"z\": [271929678821.5388], \"type\": \"scatter3d\"}, {\"hovertemplate\": \"name=Earth<br>index=308<br>x=%{x}<br>y=%{y}<br>z=%{z}<br>radius=%{marker.size}<extra></extra>\", \"ids\": [\"Earth\"], \"legendgroup\": \"Earth\", \"marker\": {\"color\": \"green\", \"size\": [8.759511722116487], \"sizemode\": \"area\", \"sizeref\": 0.050903371511914326, \"symbol\": \"circle\"}, \"mode\": \"markers\", \"name\": \"Earth\", \"scene\": \"scene\", \"showlegend\": true, \"x\": [-21204440339.12894], \"y\": [133677017740.47292], \"z\": [57918711212.85784], \"type\": \"scatter3d\"}], \"name\": \"308\"}, {\"data\": [{\"hovertemplate\": \"name=Sun<br>index=315<br>x=%{x}<br>y=%{y}<br>z=%{z}<br>radius=%{marker.size}<extra></extra>\", \"ids\": [\"Sun\"], \"legendgroup\": \"Sun\", \"marker\": {\"color\": \"orange\", \"size\": [20.36134860476573], \"sizemode\": \"area\", \"sizeref\": 0.050903371511914326, \"symbol\": \"circle\"}, \"mode\": \"markers\", \"name\": \"Sun\", \"scene\": \"scene\", \"showlegend\": true, \"x\": [91859754.09420364], \"y\": [93494768.14832942], \"z\": [16376753.361288754], \"type\": \"scatter3d\"}, {\"hovertemplate\": \"name=Mars<br>index=315<br>x=%{x}<br>y=%{y}<br>z=%{z}<br>radius=%{marker.size}<extra></extra>\", \"ids\": [\"Mars\"], \"legendgroup\": \"Mars\", \"marker\": {\"color\": \"crimson\", \"size\": [8.12843769687102], \"sizemode\": \"area\", \"sizeref\": 0.050903371511914326, \"symbol\": \"circle\"}, \"mode\": \"markers\", \"name\": \"Mars\", \"scene\": \"scene\", \"showlegend\": true, \"x\": [-245161101847.02524], \"y\": [-19160465862.18389], \"z\": [-2171090938.062871], \"type\": \"scatter3d\"}, {\"hovertemplate\": \"name=Mercury<br>index=315<br>x=%{x}<br>y=%{y}<br>z=%{z}<br>radius=%{marker.size}<extra></extra>\", \"ids\": [\"Mercury\"], \"legendgroup\": \"Mercury\", \"marker\": {\"color\": \"cornflowerblue\", \"size\": [7.7996303599085035], \"sizemode\": \"area\", \"sizeref\": 0.050903371511914326, \"symbol\": \"circle\"}, \"mode\": \"markers\", \"name\": \"Mercury\", \"scene\": \"scene\", \"showlegend\": true, \"x\": [37514850420.852325], \"y\": [-43961610874.50676], \"z\": [-27395379279.0522], \"type\": \"scatter3d\"}, {\"hovertemplate\": \"name=Neptune<br>index=315<br>x=%{x}<br>y=%{y}<br>z=%{z}<br>radius=%{marker.size}<extra></extra>\", \"ids\": [\"Neptune\"], \"legendgroup\": \"Neptune\", \"marker\": {\"color\": \"cyan\", \"size\": [10.15120663641638], \"sizemode\": \"area\", \"sizeref\": 0.050903371511914326, \"symbol\": \"circle\"}, \"mode\": \"markers\", \"name\": \"Neptune\", \"scene\": \"scene\", \"showlegend\": true, \"x\": [2655357785159.2866], \"y\": [-3343204502595.971], \"z\": [-1434346759305.7742], \"type\": \"scatter3d\"}, {\"hovertemplate\": \"name=Saturn<br>index=315<br>x=%{x}<br>y=%{y}<br>z=%{z}<br>radius=%{marker.size}<extra></extra>\", \"ids\": [\"Saturn\"], \"legendgroup\": \"Saturn\", \"marker\": {\"color\": \"khaki\", \"size\": [10.972190310798094], \"sizemode\": \"area\", \"sizeref\": 0.050903371511914326, \"symbol\": \"circle\"}, \"mode\": \"markers\", \"name\": \"Saturn\", \"scene\": \"scene\", \"showlegend\": true, \"x\": [697158619132.4], \"y\": [1093124611584.636], \"z\": [421552478339.16016], \"type\": \"scatter3d\"}, {\"hovertemplate\": \"name=Uranus<br>index=315<br>x=%{x}<br>y=%{y}<br>z=%{z}<br>radius=%{marker.size}<extra></extra>\", \"ids\": [\"Uranus\"], \"legendgroup\": \"Uranus\", \"marker\": {\"color\": \"lightcyan\", \"size\": [10.141007269794844], \"sizemode\": \"area\", \"sizeref\": 0.050903371511914326, \"symbol\": \"circle\"}, \"mode\": \"markers\", \"name\": \"Uranus\", \"scene\": \"scene\", \"showlegend\": true, \"x\": [2301801922746.5684], \"y\": [-1729925521582.4175], \"z\": [-790236027364.3506], \"type\": \"scatter3d\"}, {\"hovertemplate\": \"name=Jupiter<br>index=315<br>x=%{x}<br>y=%{y}<br>z=%{z}<br>radius=%{marker.size}<extra></extra>\", \"ids\": [\"Jupiter\"], \"legendgroup\": \"Jupiter\", \"marker\": {\"color\": \"chocolate\", \"size\": [11.154978283509006], \"sizemode\": \"area\", \"sizeref\": 0.050903371511914326, \"symbol\": \"circle\"}, \"mode\": \"markers\", \"name\": \"Jupiter\", \"scene\": \"scene\", \"showlegend\": true, \"x\": [263441711400.3613], \"y\": [652727826703.9271], \"z\": [273335260323.34244], \"type\": \"scatter3d\"}, {\"hovertemplate\": \"name=Earth<br>index=315<br>x=%{x}<br>y=%{y}<br>z=%{z}<br>radius=%{marker.size}<extra></extra>\", \"ids\": [\"Earth\"], \"legendgroup\": \"Earth\", \"marker\": {\"color\": \"green\", \"size\": [8.759511722116487], \"sizemode\": \"area\", \"sizeref\": 0.050903371511914326, \"symbol\": \"circle\"}, \"mode\": \"markers\", \"name\": \"Earth\", \"scene\": \"scene\", \"showlegend\": true, \"x\": [-39112224971.58142], \"y\": [130209112118.0162], \"z\": [56415775876.17179], \"type\": \"scatter3d\"}], \"name\": \"315\"}, {\"data\": [{\"hovertemplate\": \"name=Sun<br>index=322<br>x=%{x}<br>y=%{y}<br>z=%{z}<br>radius=%{marker.size}<extra></extra>\", \"ids\": [\"Sun\"], \"legendgroup\": \"Sun\", \"marker\": {\"color\": \"orange\", \"size\": [20.36134860476573], \"sizemode\": \"area\", \"sizeref\": 0.050903371511914326, \"symbol\": \"circle\"}, \"mode\": \"markers\", \"name\": \"Sun\", \"scene\": \"scene\", \"showlegend\": true, \"x\": [95101945.55004974], \"y\": [97331062.03195226], \"z\": [17393444.613747347], \"type\": \"scatter3d\"}, {\"hovertemplate\": \"name=Mars<br>index=322<br>x=%{x}<br>y=%{y}<br>z=%{z}<br>radius=%{marker.size}<extra></extra>\", \"ids\": [\"Mars\"], \"legendgroup\": \"Mars\", \"marker\": {\"color\": \"crimson\", \"size\": [8.12843769687102], \"sizemode\": \"area\", \"sizeref\": 0.050903371511914326, \"symbol\": \"circle\"}, \"mode\": \"markers\", \"name\": \"Mars\", \"scene\": \"scene\", \"showlegend\": true, \"x\": [-243102732170.68945], \"y\": [-31256864810.82976], \"z\": [-7777143465.242598], \"type\": \"scatter3d\"}, {\"hovertemplate\": \"name=Mercury<br>index=322<br>x=%{x}<br>y=%{y}<br>z=%{z}<br>radius=%{marker.size}<extra></extra>\", \"ids\": [\"Mercury\"], \"legendgroup\": \"Mercury\", \"marker\": {\"color\": \"cornflowerblue\", \"size\": [7.7996303599085035], \"sizemode\": \"area\", \"sizeref\": 0.050903371511914326, \"symbol\": \"circle\"}, \"mode\": \"markers\", \"name\": \"Mercury\", \"scene\": \"scene\", \"showlegend\": true, \"x\": [51136987340.85475], \"y\": [-22791807816.72431], \"z\": [-17500120006.763237], \"type\": \"scatter3d\"}, {\"hovertemplate\": \"name=Neptune<br>index=322<br>x=%{x}<br>y=%{y}<br>z=%{z}<br>radius=%{marker.size}<extra></extra>\", \"ids\": [\"Neptune\"], \"legendgroup\": \"Neptune\", \"marker\": {\"color\": \"cyan\", \"size\": [10.15120663641638], \"sizemode\": \"area\", \"sizeref\": 0.050903371511914326, \"symbol\": \"circle\"}, \"mode\": \"markers\", \"name\": \"Neptune\", \"scene\": \"scene\", \"showlegend\": true, \"x\": [2657985211603.824], \"y\": [-3341361255157.181], \"z\": [-1433657613609.509], \"type\": \"scatter3d\"}, {\"hovertemplate\": \"name=Saturn<br>index=322<br>x=%{x}<br>y=%{y}<br>z=%{z}<br>radius=%{marker.size}<extra></extra>\", \"ids\": [\"Saturn\"], \"legendgroup\": \"Saturn\", \"marker\": {\"color\": \"khaki\", \"size\": [10.972190310798094], \"sizemode\": \"area\", \"sizeref\": 0.050903371511914326, \"symbol\": \"circle\"}, \"mode\": \"markers\", \"name\": \"Saturn\", \"scene\": \"scene\", \"showlegend\": true, \"x\": [691819155484.7322], \"y\": [1095787575274.9417], \"z\": [422881866485.233], \"type\": \"scatter3d\"}, {\"hovertemplate\": \"name=Uranus<br>index=322<br>x=%{x}<br>y=%{y}<br>z=%{z}<br>radius=%{marker.size}<extra></extra>\", \"ids\": [\"Uranus\"], \"legendgroup\": \"Uranus\", \"marker\": {\"color\": \"lightcyan\", \"size\": [10.141007269794844], \"sizemode\": \"area\", \"sizeref\": 0.050903371511914326, \"symbol\": \"circle\"}, \"mode\": \"markers\", \"name\": \"Uranus\", \"scene\": \"scene\", \"showlegend\": true, \"x\": [2304388244243.36], \"y\": [-1727171099402.1958], \"z\": [-789066479499.7639], \"type\": \"scatter3d\"}, {\"hovertemplate\": \"name=Jupiter<br>index=322<br>x=%{x}<br>y=%{y}<br>z=%{z}<br>radius=%{marker.size}<extra></extra>\", \"ids\": [\"Jupiter\"], \"legendgroup\": \"Jupiter\", \"marker\": {\"color\": \"chocolate\", \"size\": [11.154978283509006], \"sizemode\": \"area\", \"sizeref\": 0.050903371511914326, \"symbol\": \"circle\"}, \"mode\": \"markers\", \"name\": \"Jupiter\", \"scene\": \"scene\", \"showlegend\": true, \"x\": [255915290984.31183], \"y\": [655506869475.613], \"z\": [274710016666.758], \"type\": \"scatter3d\"}, {\"hovertemplate\": \"name=Earth<br>index=322<br>x=%{x}<br>y=%{y}<br>z=%{z}<br>radius=%{marker.size}<extra></extra>\", \"ids\": [\"Earth\"], \"legendgroup\": \"Earth\", \"marker\": {\"color\": \"green\", \"size\": [8.759511722116487], \"sizemode\": \"area\", \"sizeref\": 0.050903371511914326, \"symbol\": \"circle\"}, \"mode\": \"markers\", \"name\": \"Earth\", \"scene\": \"scene\", \"showlegend\": true, \"x\": [-56423213738.96956], \"y\": [124760754492.88692], \"z\": [54054399632.65982], \"type\": \"scatter3d\"}], \"name\": \"322\"}, {\"data\": [{\"hovertemplate\": \"name=Sun<br>index=329<br>x=%{x}<br>y=%{y}<br>z=%{z}<br>radius=%{marker.size}<extra></extra>\", \"ids\": [\"Sun\"], \"legendgroup\": \"Sun\", \"marker\": {\"color\": \"orange\", \"size\": [20.36134860476573], \"sizemode\": \"area\", \"sizeref\": 0.050903371511914326, \"symbol\": \"circle\"}, \"mode\": \"markers\", \"name\": \"Sun\", \"scene\": \"scene\", \"showlegend\": true, \"x\": [98374910.06304713], \"y\": [101248447.95192088], \"z\": [18443696.308909945], \"type\": \"scatter3d\"}, {\"hovertemplate\": \"name=Mars<br>index=329<br>x=%{x}<br>y=%{y}<br>z=%{z}<br>radius=%{marker.size}<extra></extra>\", \"ids\": [\"Mars\"], \"legendgroup\": \"Mars\", \"marker\": {\"color\": \"crimson\", \"size\": [8.12843769687102], \"sizemode\": \"area\", \"sizeref\": 0.050903371511914326, \"symbol\": \"circle\"}, \"mode\": \"markers\", \"name\": \"Mars\", \"scene\": \"scene\", \"showlegend\": true, \"x\": [-240244967847.3819], \"y\": [-43250098864.710464], \"z\": [-13357529394.812054], \"type\": \"scatter3d\"}, {\"hovertemplate\": \"name=Mercury<br>index=329<br>x=%{x}<br>y=%{y}<br>z=%{z}<br>radius=%{marker.size}<extra></extra>\", \"ids\": [\"Mercury\"], \"legendgroup\": \"Mercury\", \"marker\": {\"color\": \"cornflowerblue\", \"size\": [7.7996303599085035], \"sizemode\": \"area\", \"sizeref\": 0.050903371511914326, \"symbol\": \"circle\"}, \"mode\": \"markers\", \"name\": \"Mercury\", \"scene\": \"scene\", \"showlegend\": true, \"x\": [52451790133.09844], \"y\": [3566568869.08443], \"z\": [-3557547739.1923194], \"type\": \"scatter3d\"}, {\"hovertemplate\": \"name=Neptune<br>index=329<br>x=%{x}<br>y=%{y}<br>z=%{z}<br>radius=%{marker.size}<extra></extra>\", \"ids\": [\"Neptune\"], \"legendgroup\": \"Neptune\", \"marker\": {\"color\": \"cyan\", \"size\": [10.15120663641638], \"sizemode\": \"area\", \"sizeref\": 0.050903371511914326, \"symbol\": \"circle\"}, \"mode\": \"markers\", \"name\": \"Neptune\", \"scene\": \"scene\", \"showlegend\": true, \"x\": [2660611224535.2515], \"y\": [-3339516229663.3364], \"z\": [-1432967705052.243], \"type\": \"scatter3d\"}, {\"hovertemplate\": \"name=Saturn<br>index=329<br>x=%{x}<br>y=%{y}<br>z=%{z}<br>radius=%{marker.size}<extra></extra>\", \"ids\": [\"Saturn\"], \"legendgroup\": \"Saturn\", \"marker\": {\"color\": \"khaki\", \"size\": [10.972190310798094], \"sizemode\": \"area\", \"sizeref\": 0.050903371511914326, \"symbol\": \"circle\"}, \"mode\": \"markers\", \"name\": \"Saturn\", \"scene\": \"scene\", \"showlegend\": true, \"x\": [686466352956.7625], \"y\": [1098429454629.3022], \"z\": [424203121351.597], \"type\": \"scatter3d\"}, {\"hovertemplate\": \"name=Uranus<br>index=329<br>x=%{x}<br>y=%{y}<br>z=%{z}<br>radius=%{marker.size}<extra></extra>\", \"ids\": [\"Uranus\"], \"legendgroup\": \"Uranus\", \"marker\": {\"color\": \"lightcyan\", \"size\": [10.141007269794844], \"sizemode\": \"area\", \"sizeref\": 0.050903371511914326, \"symbol\": \"circle\"}, \"mode\": \"markers\", \"name\": \"Uranus\", \"scene\": \"scene\", \"showlegend\": true, \"x\": [2306970360905.2305], \"y\": [-1724413524324.5215], \"z\": [-787895491283.718], \"type\": \"scatter3d\"}, {\"hovertemplate\": \"name=Jupiter<br>index=329<br>x=%{x}<br>y=%{y}<br>z=%{z}<br>radius=%{marker.size}<extra></extra>\", \"ids\": [\"Jupiter\"], \"legendgroup\": \"Jupiter\", \"marker\": {\"color\": \"chocolate\", \"size\": [11.154978283509006], \"sizemode\": \"area\", \"sizeref\": 0.050903371511914326, \"symbol\": \"circle\"}, \"mode\": \"markers\", \"name\": \"Jupiter\", \"scene\": \"scene\", \"showlegend\": true, \"x\": [248360070785.73413], \"y\": [658212091065.916], \"z\": [276053831422.37555], \"type\": \"scatter3d\"}, {\"hovertemplate\": \"name=Earth<br>index=329<br>x=%{x}<br>y=%{y}<br>z=%{z}<br>radius=%{marker.size}<extra></extra>\", \"ids\": [\"Earth\"], \"legendgroup\": \"Earth\", \"marker\": {\"color\": \"green\", \"size\": [8.759511722116487], \"sizemode\": \"area\", \"sizeref\": 0.050903371511914326, \"symbol\": \"circle\"}, \"mode\": \"markers\", \"name\": \"Earth\", \"scene\": \"scene\", \"showlegend\": true, \"x\": [-72874329965.87968], \"y\": [117415882987.83427], \"z\": [50870952513.10855], \"type\": \"scatter3d\"}], \"name\": \"329\"}, {\"data\": [{\"hovertemplate\": \"name=Sun<br>index=336<br>x=%{x}<br>y=%{y}<br>z=%{z}<br>radius=%{marker.size}<extra></extra>\", \"ids\": [\"Sun\"], \"legendgroup\": \"Sun\", \"marker\": {\"color\": \"orange\", \"size\": [20.36134860476573], \"sizemode\": \"area\", \"sizeref\": 0.050903371511914326, \"symbol\": \"circle\"}, \"mode\": \"markers\", \"name\": \"Sun\", \"scene\": \"scene\", \"showlegend\": true, \"x\": [101677814.66644104], \"y\": [105247856.95290963], \"z\": [19527956.55714682], \"type\": \"scatter3d\"}, {\"hovertemplate\": \"name=Mars<br>index=336<br>x=%{x}<br>y=%{y}<br>z=%{z}<br>radius=%{marker.size}<extra></extra>\", \"ids\": [\"Mars\"], \"legendgroup\": \"Mars\", \"marker\": {\"color\": \"crimson\", \"size\": [8.12843769687102], \"sizemode\": \"area\", \"sizeref\": 0.050903371511914326, \"symbol\": \"circle\"}, \"mode\": \"markers\", \"name\": \"Mars\", \"scene\": \"scene\", \"showlegend\": true, \"x\": [-236589942416.90384], \"y\": [-55099420660.9741], \"z\": [-18893496708.710552], \"type\": \"scatter3d\"}, {\"hovertemplate\": \"name=Mercury<br>index=336<br>x=%{x}<br>y=%{y}<br>z=%{z}<br>radius=%{marker.size}<extra></extra>\", \"ids\": [\"Mercury\"], \"legendgroup\": \"Mercury\", \"marker\": {\"color\": \"cornflowerblue\", \"size\": [7.7996303599085035], \"sizemode\": \"area\", \"sizeref\": 0.050903371511914326, \"symbol\": \"circle\"}, \"mode\": \"markers\", \"name\": \"Mercury\", \"scene\": \"scene\", \"showlegend\": true, \"x\": [36774311583.90711], \"y\": [28325563436.19373], \"z\": [11292135459.570736], \"type\": \"scatter3d\"}, {\"hovertemplate\": \"name=Neptune<br>index=336<br>x=%{x}<br>y=%{y}<br>z=%{z}<br>radius=%{marker.size}<extra></extra>\", \"ids\": [\"Neptune\"], \"legendgroup\": \"Neptune\", \"marker\": {\"color\": \"cyan\", \"size\": [10.15120663641638], \"sizemode\": \"area\", \"sizeref\": 0.050903371511914326, \"symbol\": \"circle\"}, \"mode\": \"markers\", \"name\": \"Neptune\", \"scene\": \"scene\", \"showlegend\": true, \"x\": [2663235822525.057], \"y\": [-3337669427056.5137], \"z\": [-1432277033984.2495], \"type\": \"scatter3d\"}, {\"hovertemplate\": \"name=Saturn<br>index=336<br>x=%{x}<br>y=%{y}<br>z=%{z}<br>radius=%{marker.size}<extra></extra>\", \"ids\": [\"Saturn\"], \"legendgroup\": \"Saturn\", \"marker\": {\"color\": \"khaki\", \"size\": [10.972190310798094], \"sizemode\": \"area\", \"sizeref\": 0.050903371511914326, \"symbol\": \"circle\"}, \"mode\": \"markers\", \"name\": \"Saturn\", \"scene\": \"scene\", \"showlegend\": true, \"x\": [681100309322.5817], \"y\": [1101050191549.6982], \"z\": [425516214695.02136], \"type\": \"scatter3d\"}, {\"hovertemplate\": \"name=Uranus<br>index=336<br>x=%{x}<br>y=%{y}<br>z=%{z}<br>radius=%{marker.size}<extra></extra>\", \"ids\": [\"Uranus\"], \"legendgroup\": \"Uranus\", \"marker\": {\"color\": \"lightcyan\", \"size\": [10.141007269794844], \"sizemode\": \"area\", \"sizeref\": 0.050903371511914326, \"symbol\": \"circle\"}, \"mode\": \"markers\", \"name\": \"Uranus\", \"scene\": \"scene\", \"showlegend\": true, \"x\": [2309548268413.592], \"y\": [-1721652801676.556], \"z\": [-786723064988.8665], \"type\": \"scatter3d\"}, {\"hovertemplate\": \"name=Jupiter<br>index=336<br>x=%{x}<br>y=%{y}<br>z=%{z}<br>radius=%{marker.size}<extra></extra>\", \"ids\": [\"Jupiter\"], \"legendgroup\": \"Jupiter\", \"marker\": {\"color\": \"chocolate\", \"size\": [11.154978283509006], \"sizemode\": \"area\", \"sizeref\": 0.050903371511914326, \"symbol\": \"circle\"}, \"mode\": \"markers\", \"name\": \"Jupiter\", \"scene\": \"scene\", \"showlegend\": true, \"x\": [240776937464.31403], \"y\": [660843279989.1261], \"z\": [277366592267.7292], \"type\": \"scatter3d\"}, {\"hovertemplate\": \"name=Earth<br>index=336<br>x=%{x}<br>y=%{y}<br>z=%{z}<br>radius=%{marker.size}<extra></extra>\", \"ids\": [\"Earth\"], \"legendgroup\": \"Earth\", \"marker\": {\"color\": \"green\", \"size\": [8.759511722116487], \"sizemode\": \"area\", \"sizeref\": 0.050903371511914326, \"symbol\": \"circle\"}, \"mode\": \"markers\", \"name\": \"Earth\", \"scene\": \"scene\", \"showlegend\": true, \"x\": [-88216682655.16017], \"y\": [108288546114.87184], \"z\": [46914856324.648994], \"type\": \"scatter3d\"}], \"name\": \"336\"}, {\"data\": [{\"hovertemplate\": \"name=Sun<br>index=343<br>x=%{x}<br>y=%{y}<br>z=%{z}<br>radius=%{marker.size}<extra></extra>\", \"ids\": [\"Sun\"], \"legendgroup\": \"Sun\", \"marker\": {\"color\": \"orange\", \"size\": [20.36134860476573], \"sizemode\": \"area\", \"sizeref\": 0.050903371511914326, \"symbol\": \"circle\"}, \"mode\": \"markers\", \"name\": \"Sun\", \"scene\": \"scene\", \"showlegend\": true, \"x\": [105008920.73120944], \"y\": [109330815.65099718], \"z\": [20647100.77012092], \"type\": \"scatter3d\"}, {\"hovertemplate\": \"name=Mars<br>index=343<br>x=%{x}<br>y=%{y}<br>z=%{z}<br>radius=%{marker.size}<extra></extra>\", \"ids\": [\"Mars\"], \"legendgroup\": \"Mars\", \"marker\": {\"color\": \"crimson\", \"size\": [8.12843769687102], \"sizemode\": \"area\", \"sizeref\": 0.050903371511914326, \"symbol\": \"circle\"}, \"mode\": \"markers\", \"name\": \"Mars\", \"scene\": \"scene\", \"showlegend\": true, \"x\": [-232141938175.06177], \"y\": [-66763678562.16707], \"z\": [-24366049694.45273], \"type\": \"scatter3d\"}, {\"hovertemplate\": \"name=Mercury<br>index=343<br>x=%{x}<br>y=%{y}<br>z=%{z}<br>radius=%{marker.size}<extra></extra>\", \"ids\": [\"Mercury\"], \"legendgroup\": \"Mercury\", \"marker\": {\"color\": \"cornflowerblue\", \"size\": [7.7996303599085035], \"sizemode\": \"area\", \"sizeref\": 0.050903371511914326, \"symbol\": \"circle\"}, \"mode\": \"markers\", \"name\": \"Mercury\", \"scene\": \"scene\", \"showlegend\": true, \"x\": [5765669139.625642], \"y\": [40711632345.84277], \"z\": [21121947595.52705], \"type\": \"scatter3d\"}, {\"hovertemplate\": \"name=Neptune<br>index=343<br>x=%{x}<br>y=%{y}<br>z=%{z}<br>radius=%{marker.size}<extra></extra>\", \"ids\": [\"Neptune\"], \"legendgroup\": \"Neptune\", \"marker\": {\"color\": \"cyan\", \"size\": [10.15120663641638], \"sizemode\": \"area\", \"sizeref\": 0.050903371511914326, \"symbol\": \"circle\"}, \"mode\": \"markers\", \"name\": \"Neptune\", \"scene\": \"scene\", \"showlegend\": true, \"x\": [2665859004145.44], \"y\": [-3335820848279.745], \"z\": [-1431585600756.212], \"type\": \"scatter3d\"}, {\"hovertemplate\": \"name=Saturn<br>index=343<br>x=%{x}<br>y=%{y}<br>z=%{z}<br>radius=%{marker.size}<extra></extra>\", \"ids\": [\"Saturn\"], \"legendgroup\": \"Saturn\", \"marker\": {\"color\": \"khaki\", \"size\": [10.972190310798094], \"sizemode\": \"area\", \"sizeref\": 0.050903371511914326, \"symbol\": \"circle\"}, \"mode\": \"markers\", \"name\": \"Saturn\", \"scene\": \"scene\", \"showlegend\": true, \"x\": [675721122736.5519], \"y\": [1103649728358.4397], \"z\": [426821118428.9607], \"type\": \"scatter3d\"}, {\"hovertemplate\": \"name=Uranus<br>index=343<br>x=%{x}<br>y=%{y}<br>z=%{z}<br>radius=%{marker.size}<extra></extra>\", \"ids\": [\"Uranus\"], \"legendgroup\": \"Uranus\", \"marker\": {\"color\": \"lightcyan\", \"size\": [10.141007269794844], \"sizemode\": \"area\", \"sizeref\": 0.050903371511914326, \"symbol\": \"circle\"}, \"mode\": \"markers\", \"name\": \"Uranus\", \"scene\": \"scene\", \"showlegend\": true, \"x\": [2312121962457.497], \"y\": [-1718888936789.3564], \"z\": [-785549202889.6804], \"type\": \"scatter3d\"}, {\"hovertemplate\": \"name=Jupiter<br>index=343<br>x=%{x}<br>y=%{y}<br>z=%{z}<br>radius=%{marker.size}<extra></extra>\", \"ids\": [\"Jupiter\"], \"legendgroup\": \"Jupiter\", \"marker\": {\"color\": \"chocolate\", \"size\": [11.154978283509006], \"sizemode\": \"area\", \"sizeref\": 0.050903371511914326, \"symbol\": \"circle\"}, \"mode\": \"markers\", \"name\": \"Jupiter\", \"scene\": \"scene\", \"showlegend\": true, \"x\": [233166778878.7573], \"y\": [663400234399.9962], \"z\": [278648190984.02246], \"type\": \"scatter3d\"}, {\"hovertemplate\": \"name=Earth<br>index=343<br>x=%{x}<br>y=%{y}<br>z=%{z}<br>radius=%{marker.size}<extra></extra>\", \"ids\": [\"Earth\"], \"legendgroup\": \"Earth\", \"marker\": {\"color\": \"green\", \"size\": [8.759511722116487], \"sizemode\": \"area\", \"sizeref\": 0.050903371511914326, \"symbol\": \"circle\"}, \"mode\": \"markers\", \"name\": \"Earth\", \"scene\": \"scene\", \"showlegend\": true, \"x\": [-102219829078.09552], \"y\": [97520768697.88425], \"z\": [42247659851.60814], \"type\": \"scatter3d\"}], \"name\": \"343\"}, {\"data\": [{\"hovertemplate\": \"name=Sun<br>index=350<br>x=%{x}<br>y=%{y}<br>z=%{z}<br>radius=%{marker.size}<extra></extra>\", \"ids\": [\"Sun\"], \"legendgroup\": \"Sun\", \"marker\": {\"color\": \"orange\", \"size\": [20.36134860476573], \"sizemode\": \"area\", \"sizeref\": 0.050903371511914326, \"symbol\": \"circle\"}, \"mode\": \"markers\", \"name\": \"Sun\", \"scene\": \"scene\", \"showlegend\": true, \"x\": [108364746.1765844], \"y\": [113498194.22592394], \"z\": [21801850.157160893], \"type\": \"scatter3d\"}, {\"hovertemplate\": \"name=Mars<br>index=350<br>x=%{x}<br>y=%{y}<br>z=%{z}<br>radius=%{marker.size}<extra></extra>\", \"ids\": [\"Mars\"], \"legendgroup\": \"Mars\", \"marker\": {\"color\": \"crimson\", \"size\": [8.12843769687102], \"sizemode\": \"area\", \"sizeref\": 0.050903371511914326, \"symbol\": \"circle\"}, \"mode\": \"markers\", \"name\": \"Mars\", \"scene\": \"scene\", \"showlegend\": true, \"x\": [-226907478172.08728], \"y\": [-78201364882.42969], \"z\": [-29755968577.13396], \"type\": \"scatter3d\"}, {\"hovertemplate\": \"name=Mercury<br>index=350<br>x=%{x}<br>y=%{y}<br>z=%{z}<br>radius=%{marker.size}<extra></extra>\", \"ids\": [\"Mercury\"], \"legendgroup\": \"Mercury\", \"marker\": {\"color\": \"cornflowerblue\", \"size\": [7.7996303599085035], \"sizemode\": \"area\", \"sizeref\": 0.050903371511914326, \"symbol\": \"circle\"}, \"mode\": \"markers\", \"name\": \"Mercury\", \"scene\": \"scene\", \"showlegend\": true, \"x\": [-27997092832.53315], \"y\": [34216069244.00409], \"z\": [21151449679.519318], \"type\": \"scatter3d\"}, {\"hovertemplate\": \"name=Neptune<br>index=350<br>x=%{x}<br>y=%{y}<br>z=%{z}<br>radius=%{marker.size}<extra></extra>\", \"ids\": [\"Neptune\"], \"legendgroup\": \"Neptune\", \"marker\": {\"color\": \"cyan\", \"size\": [10.15120663641638], \"sizemode\": \"area\", \"sizeref\": 0.050903371511914326, \"symbol\": \"circle\"}, \"mode\": \"markers\", \"name\": \"Neptune\", \"scene\": \"scene\", \"showlegend\": true, \"x\": [2668480767969.3125], \"y\": [-3333970494277.022], \"z\": [-1430893405719.2231], \"type\": \"scatter3d\"}, {\"hovertemplate\": \"name=Saturn<br>index=350<br>x=%{x}<br>y=%{y}<br>z=%{z}<br>radius=%{marker.size}<extra></extra>\", \"ids\": [\"Saturn\"], \"legendgroup\": \"Saturn\", \"marker\": {\"color\": \"khaki\", \"size\": [10.972190310798094], \"sizemode\": \"area\", \"sizeref\": 0.050903371511914326, \"symbol\": \"circle\"}, \"mode\": \"markers\", \"name\": \"Saturn\", \"scene\": \"scene\", \"showlegend\": true, \"x\": [670328891730.853], \"y\": [1106228007799.7825], \"z\": [428117804624.37286], \"type\": \"scatter3d\"}, {\"hovertemplate\": \"name=Uranus<br>index=350<br>x=%{x}<br>y=%{y}<br>z=%{z}<br>radius=%{marker.size}<extra></extra>\", \"ids\": [\"Uranus\"], \"legendgroup\": \"Uranus\", \"marker\": {\"color\": \"lightcyan\", \"size\": [10.141007269794844], \"sizemode\": \"area\", \"sizeref\": 0.050903371511914326, \"symbol\": \"circle\"}, \"mode\": \"markers\", \"name\": \"Uranus\", \"scene\": \"scene\", \"showlegend\": true, \"x\": [2314691438733.643], \"y\": [-1716121934997.8726], \"z\": [-784373907262.446], \"type\": \"scatter3d\"}, {\"hovertemplate\": \"name=Jupiter<br>index=350<br>x=%{x}<br>y=%{y}<br>z=%{z}<br>radius=%{marker.size}<extra></extra>\", \"ids\": [\"Jupiter\"], \"legendgroup\": \"Jupiter\", \"marker\": {\"color\": \"chocolate\", \"size\": [11.154978283509006], \"sizemode\": \"area\", \"sizeref\": 0.050903371511914326, \"symbol\": \"circle\"}, \"mode\": \"markers\", \"name\": \"Jupiter\", \"scene\": \"scene\", \"showlegend\": true, \"x\": [225530483950.8138], \"y\": [665882762076.7141], \"z\": [279898523452.1226], \"type\": \"scatter3d\"}, {\"hovertemplate\": \"name=Earth<br>index=350<br>x=%{x}<br>y=%{y}<br>z=%{z}<br>radius=%{marker.size}<extra></extra>\", \"ids\": [\"Earth\"], \"legendgroup\": \"Earth\", \"marker\": {\"color\": \"green\", \"size\": [8.759511722116487], \"sizemode\": \"area\", \"sizeref\": 0.050903371511914326, \"symbol\": \"circle\"}, \"mode\": \"markers\", \"name\": \"Earth\", \"scene\": \"scene\", \"showlegend\": true, \"x\": [-114675614601.85056], \"y\": [85279878172.21214], \"z\": [36941880148.68963], \"type\": \"scatter3d\"}], \"name\": \"350\"}, {\"data\": [{\"hovertemplate\": \"name=Sun<br>index=357<br>x=%{x}<br>y=%{y}<br>z=%{z}<br>radius=%{marker.size}<extra></extra>\", \"ids\": [\"Sun\"], \"legendgroup\": \"Sun\", \"marker\": {\"color\": \"orange\", \"size\": [20.36134860476573], \"sizemode\": \"area\", \"sizeref\": 0.050903371511914326, \"symbol\": \"circle\"}, \"mode\": \"markers\", \"name\": \"Sun\", \"scene\": \"scene\", \"showlegend\": true, \"x\": [111741574.26386696], \"y\": [117748881.7478344], \"z\": [22991907.855383925], \"type\": \"scatter3d\"}, {\"hovertemplate\": \"name=Mars<br>index=357<br>x=%{x}<br>y=%{y}<br>z=%{z}<br>radius=%{marker.size}<extra></extra>\", \"ids\": [\"Mars\"], \"legendgroup\": \"Mars\", \"marker\": {\"color\": \"crimson\", \"size\": [8.12843769687102], \"sizemode\": \"area\", \"sizeref\": 0.050903371511914326, \"symbol\": \"circle\"}, \"mode\": \"markers\", \"name\": \"Mars\", \"scene\": \"scene\", \"showlegend\": true, \"x\": [-220895424865.53076], \"y\": [-89370673534.85497], \"z\": [-35043833293.21675], \"type\": \"scatter3d\"}, {\"hovertemplate\": \"name=Mercury<br>index=357<br>x=%{x}<br>y=%{y}<br>z=%{z}<br>radius=%{marker.size}<extra></extra>\", \"ids\": [\"Mercury\"], \"legendgroup\": \"Mercury\", \"marker\": {\"color\": \"cornflowerblue\", \"size\": [7.7996303599085035], \"sizemode\": \"area\", \"sizeref\": 0.050903371511914326, \"symbol\": \"circle\"}, \"mode\": \"markers\", \"name\": \"Mercury\", \"scene\": \"scene\", \"showlegend\": true, \"x\": [-51113730460.22535], \"y\": [13918831001.499908], \"z\": [12705060392.353518], \"type\": \"scatter3d\"}, {\"hovertemplate\": \"name=Neptune<br>index=357<br>x=%{x}<br>y=%{y}<br>z=%{z}<br>radius=%{marker.size}<extra></extra>\", \"ids\": [\"Neptune\"], \"legendgroup\": \"Neptune\", \"marker\": {\"color\": \"cyan\", \"size\": [10.15120663641638], \"sizemode\": \"area\", \"sizeref\": 0.050903371511914326, \"symbol\": \"circle\"}, \"mode\": \"markers\", \"name\": \"Neptune\", \"scene\": \"scene\", \"showlegend\": true, \"x\": [2671101112570.3003], \"y\": [-3332118365993.293], \"z\": [-1430200449224.785], \"type\": \"scatter3d\"}, {\"hovertemplate\": \"name=Saturn<br>index=357<br>x=%{x}<br>y=%{y}<br>z=%{z}<br>radius=%{marker.size}<extra></extra>\", \"ids\": [\"Saturn\"], \"legendgroup\": \"Saturn\", \"marker\": {\"color\": \"khaki\", \"size\": [10.972190310798094], \"sizemode\": \"area\", \"sizeref\": 0.050903371511914326, \"symbol\": \"circle\"}, \"mode\": \"markers\", \"name\": \"Saturn\", \"scene\": \"scene\", \"showlegend\": true, \"x\": [664923715212.9897], \"y\": [1108784973041.531], \"z\": [429406245510.5306], \"type\": \"scatter3d\"}, {\"hovertemplate\": \"name=Uranus<br>index=357<br>x=%{x}<br>y=%{y}<br>z=%{z}<br>radius=%{marker.size}<extra></extra>\", \"ids\": [\"Uranus\"], \"legendgroup\": \"Uranus\", \"marker\": {\"color\": \"lightcyan\", \"size\": [10.141007269794844], \"sizemode\": \"area\", \"sizeref\": 0.050903371511914326, \"symbol\": \"circle\"}, \"mode\": \"markers\", \"name\": \"Uranus\", \"scene\": \"scene\", \"showlegend\": true, \"x\": [2317256692946.373], \"y\": [-1713351801640.9397], \"z\": [-783197180385.2615], \"type\": \"scatter3d\"}, {\"hovertemplate\": \"name=Jupiter<br>index=357<br>x=%{x}<br>y=%{y}<br>z=%{z}<br>radius=%{marker.size}<extra></extra>\", \"ids\": [\"Jupiter\"], \"legendgroup\": \"Jupiter\", \"marker\": {\"color\": \"chocolate\", \"size\": [11.154978283509006], \"sizemode\": \"area\", \"sizeref\": 0.050903371511914326, \"symbol\": \"circle\"}, \"mode\": \"markers\", \"name\": \"Jupiter\", \"scene\": \"scene\", \"showlegend\": true, \"x\": [217868942530.39185], \"y\": [668290680401.988], \"z\": [281117489647.7066], \"type\": \"scatter3d\"}, {\"hovertemplate\": \"name=Earth<br>index=357<br>x=%{x}<br>y=%{y}<br>z=%{z}<br>radius=%{marker.size}<extra></extra>\", \"ids\": [\"Earth\"], \"legendgroup\": \"Earth\", \"marker\": {\"color\": \"green\", \"size\": [8.759511722116487], \"sizemode\": \"area\", \"sizeref\": 0.050903371511914326, \"symbol\": \"circle\"}, \"mode\": \"markers\", \"name\": \"Earth\", \"scene\": \"scene\", \"showlegend\": true, \"x\": [-125401503015.85512], \"y\": [71755371892.1124], \"z\": [31079644859.364773], \"type\": \"scatter3d\"}], \"name\": \"357\"}, {\"data\": [{\"hovertemplate\": \"name=Sun<br>index=364<br>x=%{x}<br>y=%{y}<br>z=%{z}<br>radius=%{marker.size}<extra></extra>\", \"ids\": [\"Sun\"], \"legendgroup\": \"Sun\", \"marker\": {\"color\": \"orange\", \"size\": [20.36134860476573], \"sizemode\": \"area\", \"sizeref\": 0.050903371511914326, \"symbol\": \"circle\"}, \"mode\": \"markers\", \"name\": \"Sun\", \"scene\": \"scene\", \"showlegend\": true, \"x\": [115137251.74871144], \"y\": [122080870.17878775], \"z\": [24216351.386869904], \"type\": \"scatter3d\"}, {\"hovertemplate\": \"name=Mars<br>index=364<br>x=%{x}<br>y=%{y}<br>z=%{z}<br>radius=%{marker.size}<extra></extra>\", \"ids\": [\"Mars\"], \"legendgroup\": \"Mars\", \"marker\": {\"color\": \"crimson\", \"size\": [8.12843769687102], \"sizemode\": \"area\", \"sizeref\": 0.050903371511914326, \"symbol\": \"circle\"}, \"mode\": \"markers\", \"name\": \"Mars\", \"scene\": \"scene\", \"showlegend\": true, \"x\": [-214117084859.19888], \"y\": [-100229568496.68864], \"z\": [-40210052063.29761], \"type\": \"scatter3d\"}, {\"hovertemplate\": \"name=Mercury<br>index=364<br>x=%{x}<br>y=%{y}<br>z=%{z}<br>radius=%{marker.size}<extra></extra>\", \"ids\": [\"Mercury\"], \"legendgroup\": \"Mercury\", \"marker\": {\"color\": \"cornflowerblue\", \"size\": [7.7996303599085035], \"sizemode\": \"area\", \"sizeref\": 0.050903371511914326, \"symbol\": \"circle\"}, \"mode\": \"markers\", \"name\": \"Mercury\", \"scene\": \"scene\", \"showlegend\": true, \"x\": [-59383137566.95807], \"y\": [-10820261569.954369], \"z\": [346922740.1338875], \"type\": \"scatter3d\"}, {\"hovertemplate\": \"name=Neptune<br>index=364<br>x=%{x}<br>y=%{y}<br>z=%{z}<br>radius=%{marker.size}<extra></extra>\", \"ids\": [\"Neptune\"], \"legendgroup\": \"Neptune\", \"marker\": {\"color\": \"cyan\", \"size\": [10.15120663641638], \"sizemode\": \"area\", \"sizeref\": 0.050903371511914326, \"symbol\": \"circle\"}, \"mode\": \"markers\", \"name\": \"Neptune\", \"scene\": \"scene\", \"showlegend\": true, \"x\": [2673720036522.7456], \"y\": [-3330264464374.4663], \"z\": [-1429506731624.809], \"type\": \"scatter3d\"}, {\"hovertemplate\": \"name=Saturn<br>index=364<br>x=%{x}<br>y=%{y}<br>z=%{z}<br>radius=%{marker.size}<extra></extra>\", \"ids\": [\"Saturn\"], \"legendgroup\": \"Saturn\", \"marker\": {\"color\": \"khaki\", \"size\": [10.972190310798094], \"sizemode\": \"area\", \"sizeref\": 0.050903371511914326, \"symbol\": \"circle\"}, \"mode\": \"markers\", \"name\": \"Saturn\", \"scene\": \"scene\", \"showlegend\": true, \"x\": [659505692463.2451], \"y\": [1111320567676.6409], \"z\": [430686413475.83856], \"type\": \"scatter3d\"}, {\"hovertemplate\": \"name=Uranus<br>index=364<br>x=%{x}<br>y=%{y}<br>z=%{z}<br>radius=%{marker.size}<extra></extra>\", \"ids\": [\"Uranus\"], \"legendgroup\": \"Uranus\", \"marker\": {\"color\": \"lightcyan\", \"size\": [10.141007269794844], \"sizemode\": \"area\", \"sizeref\": 0.050903371511914326, \"symbol\": \"circle\"}, \"mode\": \"markers\", \"name\": \"Uranus\", \"scene\": \"scene\", \"showlegend\": true, \"x\": [2319817720807.685], \"y\": [-1710578542061.2727], \"z\": [-782019024538.0354], \"type\": \"scatter3d\"}, {\"hovertemplate\": \"name=Jupiter<br>index=364<br>x=%{x}<br>y=%{y}<br>z=%{z}<br>radius=%{marker.size}<extra></extra>\", \"ids\": [\"Jupiter\"], \"legendgroup\": \"Jupiter\", \"marker\": {\"color\": \"chocolate\", \"size\": [11.154978283509006], \"sizemode\": \"area\", \"sizeref\": 0.050903371511914326, \"symbol\": \"circle\"}, \"mode\": \"markers\", \"name\": \"Jupiter\", \"scene\": \"scene\", \"showlegend\": true, \"x\": [210183045261.5093], \"y\": [670623816342.2152], \"z\": [282304993635.58795], \"type\": \"scatter3d\"}, {\"hovertemplate\": \"name=Earth<br>index=364<br>x=%{x}<br>y=%{y}<br>z=%{z}<br>radius=%{marker.size}<extra></extra>\", \"ids\": [\"Earth\"], \"legendgroup\": \"Earth\", \"marker\": {\"color\": \"green\", \"size\": [8.759511722116487], \"sizemode\": \"area\", \"sizeref\": 0.050903371511914326, \"symbol\": \"circle\"}, \"mode\": \"markers\", \"name\": \"Earth\", \"scene\": \"scene\", \"showlegend\": true, \"x\": [-134243331389.02104], \"y\": [57155418422.34216], \"z\": [24751175826.884647], \"type\": \"scatter3d\"}], \"name\": \"364\"}]);\n",
       "                        }).then(function(){\n",
       "                            \n",
       "var gd = document.getElementById('535155d2-4355-4cfd-b72e-3e4c91295c76');\n",
       "var x = new MutationObserver(function (mutations, observer) {{\n",
       "        var display = window.getComputedStyle(gd).display;\n",
       "        if (!display || display === 'none') {{\n",
       "            console.log([gd, 'removed!']);\n",
       "            Plotly.purge(gd);\n",
       "            observer.disconnect();\n",
       "        }}\n",
       "}});\n",
       "\n",
       "// Listen for the removal of the full notebook cells\n",
       "var notebookContainer = gd.closest('#notebook-container');\n",
       "if (notebookContainer) {{\n",
       "    x.observe(notebookContainer, {childList: true});\n",
       "}}\n",
       "\n",
       "// Listen for the clearing of the current output cell\n",
       "var outputEl = gd.closest('.output');\n",
       "if (outputEl) {{\n",
       "    x.observe(outputEl, {childList: true});\n",
       "}}\n",
       "\n",
       "                        })                };                });            </script>        </div>"
      ]
     },
     "metadata": {},
     "output_type": "display_data"
    }
   ],
   "source": [
    "fig = px.scatter_3d(downsampled_position_history, x=\"x\", y=\"y\", z=\"z\", color=\"name\", size=\"radius\",\n",
    "                    animation_frame=\"index\", animation_group=\"name\",\n",
    "                    template=\"plotly_dark\",\n",
    "                    color_discrete_sequence=[\"orange\", \"crimson\", \"cornflowerblue\", \"cyan\", \"khaki\", \"lightcyan\", \"chocolate\", \"green\"]\n",
    "                    ) \n",
    "# fig.update_layout(sliders=sliders)\n",
    "fig"
   ]
  },
  {
   "cell_type": "code",
   "execution_count": null,
   "id": "united-citation",
   "metadata": {},
   "outputs": [],
   "source": []
  }
 ],
 "metadata": {
  "kernelspec": {
   "display_name": "Python 3",
   "language": "python",
   "name": "python3"
  },
  "language_info": {
   "codemirror_mode": {
    "name": "ipython",
    "version": 3
   },
   "file_extension": ".py",
   "mimetype": "text/x-python",
   "name": "python",
   "nbconvert_exporter": "python",
   "pygments_lexer": "ipython3",
   "version": "3.8.8"
  }
 },
 "nbformat": 4,
 "nbformat_minor": 5
}
