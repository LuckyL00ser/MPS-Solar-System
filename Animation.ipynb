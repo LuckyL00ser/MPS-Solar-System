{
 "cells": [
  {
   "cell_type": "code",
   "execution_count": 128,
   "id": "documentary-fitting",
   "metadata": {},
   "outputs": [
    {
     "data": {
      "text/html": [
       "        <script type=\"text/javascript\">\n",
       "        window.PlotlyConfig = {MathJaxConfig: 'local'};\n",
       "        if (window.MathJax) {MathJax.Hub.Config({SVG: {font: \"STIX-Web\"}});}\n",
       "        if (typeof require !== 'undefined') {\n",
       "        require.undef(\"plotly\");\n",
       "        requirejs.config({\n",
       "            paths: {\n",
       "                'plotly': ['https://cdn.plot.ly/plotly-latest.min']\n",
       "            }\n",
       "        });\n",
       "        require(['plotly'], function(Plotly) {\n",
       "            window._Plotly = Plotly;\n",
       "        });\n",
       "        }\n",
       "        </script>\n",
       "        "
      ]
     },
     "metadata": {},
     "output_type": "display_data"
    },
    {
     "data": {
      "text/html": [
       "        <script type=\"text/javascript\">\n",
       "        window.PlotlyConfig = {MathJaxConfig: 'local'};\n",
       "        if (window.MathJax) {MathJax.Hub.Config({SVG: {font: \"STIX-Web\"}});}\n",
       "        if (typeof require !== 'undefined') {\n",
       "        require.undef(\"plotly\");\n",
       "        requirejs.config({\n",
       "            paths: {\n",
       "                'plotly': ['https://cdn.plot.ly/plotly-latest.min']\n",
       "            }\n",
       "        });\n",
       "        require(['plotly'], function(Plotly) {\n",
       "            window._Plotly = Plotly;\n",
       "        });\n",
       "        }\n",
       "        </script>\n",
       "        "
      ]
     },
     "metadata": {},
     "output_type": "display_data"
    }
   ],
   "source": [
    "import numpy as np\n",
    "import pandas as pd\n",
    "import seaborn as sns\n",
    "import cufflinks as cf\n",
    "import plotly.express as px\n",
    "import chart_studio.plotly as py\n",
    "%matplotlib inline\n",
    "\n",
    "from plotly.offline import download_plotlyjs, init_notebook_mode, plot, iplot\n",
    "init_notebook_mode(connected=True)\n",
    "cf.go_offline()\n",
    "\n",
    "\n",
    "def scale_axis(data: pd.DataFrame, scale:dict) -> pd.DataFrame:\n",
    "    # scale = {\"Sun\": 10e6, \"Mercury\": 10e8, \"Venus\":10e8, \"Earth\":10e8, \"Mars\":10e8, \"Jupiter\":10e10, \"Saturn\":10e10, \"Uranus\":10e10, \"Neptune\": 10e10}\n",
    "    data = data.copy()\n",
    "    new_list = []\n",
    "    for key in data[\"name\"].to_list():\n",
    "        new_list.append(scale[key])\n",
    "    data[\"scale\"] = new_list\n",
    "    data[\"x\"] = data[\"x\"] / data[\"scale\"]\n",
    "    data[\"y\"] = data[\"y\"] / data[\"scale\"]\n",
    "    data[\"z\"] = data[\"z\"] / data[\"scale\"]\n",
    "    return data"
   ]
  },
  {
   "cell_type": "code",
   "execution_count": 127,
   "id": "polar-thriller",
   "metadata": {},
   "outputs": [
    {
     "data": {
      "text/html": [
       "<div>\n",
       "<style scoped>\n",
       "    .dataframe tbody tr th:only-of-type {\n",
       "        vertical-align: middle;\n",
       "    }\n",
       "\n",
       "    .dataframe tbody tr th {\n",
       "        vertical-align: top;\n",
       "    }\n",
       "\n",
       "    .dataframe thead th {\n",
       "        text-align: right;\n",
       "    }\n",
       "</style>\n",
       "<table border=\"1\" class=\"dataframe\">\n",
       "  <thead>\n",
       "    <tr style=\"text-align: right;\">\n",
       "      <th></th>\n",
       "      <th>index</th>\n",
       "      <th>time</th>\n",
       "      <th>x</th>\n",
       "      <th>y</th>\n",
       "      <th>z</th>\n",
       "      <th>name</th>\n",
       "      <th>radius</th>\n",
       "      <th>mass</th>\n",
       "      <th>scale</th>\n",
       "    </tr>\n",
       "  </thead>\n",
       "  <tbody>\n",
       "    <tr>\n",
       "      <th>2890</th>\n",
       "      <td>361</td>\n",
       "      <td>2022:05:14</td>\n",
       "      <td>-217.115090</td>\n",
       "      <td>-95.616470</td>\n",
       "      <td>-38.012116</td>\n",
       "      <td>Mars</td>\n",
       "      <td>58.219413</td>\n",
       "      <td>6.390000e+23</td>\n",
       "      <td>1.000000e+09</td>\n",
       "    </tr>\n",
       "    <tr>\n",
       "      <th>2891</th>\n",
       "      <td>361</td>\n",
       "      <td>2022:05:14</td>\n",
       "      <td>6.618293</td>\n",
       "      <td>11.102365</td>\n",
       "      <td>4.301388</td>\n",
       "      <td>Saturn</td>\n",
       "      <td>241.313075</td>\n",
       "      <td>5.683000e+26</td>\n",
       "      <td>1.000000e+11</td>\n",
       "    </tr>\n",
       "    <tr>\n",
       "      <th>2892</th>\n",
       "      <td>361</td>\n",
       "      <td>2022:05:14</td>\n",
       "      <td>23.187207</td>\n",
       "      <td>-17.117675</td>\n",
       "      <td>-7.825241</td>\n",
       "      <td>Uranus</td>\n",
       "      <td>159.254513</td>\n",
       "      <td>8.681000e+25</td>\n",
       "      <td>1.000000e+11</td>\n",
       "    </tr>\n",
       "    <tr>\n",
       "      <th>2893</th>\n",
       "      <td>361</td>\n",
       "      <td>2022:05:14</td>\n",
       "      <td>26.725978</td>\n",
       "      <td>-33.310592</td>\n",
       "      <td>-14.298041</td>\n",
       "      <td>Neptune</td>\n",
       "      <td>160.068735</td>\n",
       "      <td>1.024000e+26</td>\n",
       "      <td>1.000000e+11</td>\n",
       "    </tr>\n",
       "    <tr>\n",
       "      <th>2894</th>\n",
       "      <td>361</td>\n",
       "      <td>2022:05:14</td>\n",
       "      <td>-57.605254</td>\n",
       "      <td>-0.181063</td>\n",
       "      <td>5.845969</td>\n",
       "      <td>Mercury</td>\n",
       "      <td>49.393319</td>\n",
       "      <td>3.285000e+23</td>\n",
       "      <td>1.000000e+09</td>\n",
       "    </tr>\n",
       "    <tr>\n",
       "      <th>2895</th>\n",
       "      <td>361</td>\n",
       "      <td>2022:05:14</td>\n",
       "      <td>2.134799</td>\n",
       "      <td>6.696331</td>\n",
       "      <td>2.817999</td>\n",
       "      <td>Jupiter</td>\n",
       "      <td>264.406883</td>\n",
       "      <td>1.898000e+27</td>\n",
       "      <td>1.000000e+11</td>\n",
       "    </tr>\n",
       "    <tr>\n",
       "      <th>2896</th>\n",
       "      <td>362</td>\n",
       "      <td>2022:05:15</td>\n",
       "      <td>6.610550</td>\n",
       "      <td>11.105983</td>\n",
       "      <td>4.303215</td>\n",
       "      <td>Saturn</td>\n",
       "      <td>241.313075</td>\n",
       "      <td>5.683000e+26</td>\n",
       "      <td>1.000000e+11</td>\n",
       "    </tr>\n",
       "    <tr>\n",
       "      <th>2897</th>\n",
       "      <td>362</td>\n",
       "      <td>2022:05:15</td>\n",
       "      <td>26.729719</td>\n",
       "      <td>-33.307943</td>\n",
       "      <td>-14.297050</td>\n",
       "      <td>Neptune</td>\n",
       "      <td>160.068735</td>\n",
       "      <td>1.024000e+26</td>\n",
       "      <td>1.000000e+11</td>\n",
       "    </tr>\n",
       "    <tr>\n",
       "      <th>2898</th>\n",
       "      <td>362</td>\n",
       "      <td>2022:05:15</td>\n",
       "      <td>2.123814</td>\n",
       "      <td>6.699648</td>\n",
       "      <td>2.819689</td>\n",
       "      <td>Jupiter</td>\n",
       "      <td>264.406883</td>\n",
       "      <td>1.898000e+27</td>\n",
       "      <td>1.000000e+11</td>\n",
       "    </tr>\n",
       "    <tr>\n",
       "      <th>2899</th>\n",
       "      <td>362</td>\n",
       "      <td>2022:05:15</td>\n",
       "      <td>11.416520</td>\n",
       "      <td>12.083497</td>\n",
       "      <td>2.386305</td>\n",
       "      <td>Sun</td>\n",
       "      <td>26388.254963</td>\n",
       "      <td>1.988470e+30</td>\n",
       "      <td>1.000000e+07</td>\n",
       "    </tr>\n",
       "    <tr>\n",
       "      <th>2900</th>\n",
       "      <td>362</td>\n",
       "      <td>2022:05:15</td>\n",
       "      <td>23.190864</td>\n",
       "      <td>-17.113712</td>\n",
       "      <td>-7.823558</td>\n",
       "      <td>Uranus</td>\n",
       "      <td>159.254513</td>\n",
       "      <td>8.681000e+25</td>\n",
       "      <td>1.000000e+11</td>\n",
       "    </tr>\n",
       "    <tr>\n",
       "      <th>2901</th>\n",
       "      <td>362</td>\n",
       "      <td>2022:05:15</td>\n",
       "      <td>-216.131187</td>\n",
       "      <td>-97.161160</td>\n",
       "      <td>-38.747551</td>\n",
       "      <td>Mars</td>\n",
       "      <td>58.219413</td>\n",
       "      <td>6.390000e+23</td>\n",
       "      <td>1.000000e+09</td>\n",
       "    </tr>\n",
       "    <tr>\n",
       "      <th>2902</th>\n",
       "      <td>362</td>\n",
       "      <td>2022:05:15</td>\n",
       "      <td>-131.917145</td>\n",
       "      <td>61.423806</td>\n",
       "      <td>26.601351</td>\n",
       "      <td>Earth</td>\n",
       "      <td>79.818544</td>\n",
       "      <td>6.046000e+24</td>\n",
       "      <td>1.000000e+09</td>\n",
       "    </tr>\n",
       "    <tr>\n",
       "      <th>2903</th>\n",
       "      <td>362</td>\n",
       "      <td>2022:05:15</td>\n",
       "      <td>-58.479598</td>\n",
       "      <td>-3.751539</td>\n",
       "      <td>4.029296</td>\n",
       "      <td>Mercury</td>\n",
       "      <td>49.393319</td>\n",
       "      <td>3.285000e+23</td>\n",
       "      <td>1.000000e+09</td>\n",
       "    </tr>\n",
       "    <tr>\n",
       "      <th>2904</th>\n",
       "      <td>363</td>\n",
       "      <td>2022:05:16</td>\n",
       "      <td>6.602805</td>\n",
       "      <td>11.109597</td>\n",
       "      <td>4.305040</td>\n",
       "      <td>Saturn</td>\n",
       "      <td>241.313075</td>\n",
       "      <td>5.683000e+26</td>\n",
       "      <td>1.000000e+11</td>\n",
       "    </tr>\n",
       "    <tr>\n",
       "      <th>2905</th>\n",
       "      <td>363</td>\n",
       "      <td>2022:05:16</td>\n",
       "      <td>-133.100591</td>\n",
       "      <td>59.298652</td>\n",
       "      <td>25.680183</td>\n",
       "      <td>Earth</td>\n",
       "      <td>79.818544</td>\n",
       "      <td>6.046000e+24</td>\n",
       "      <td>1.000000e+09</td>\n",
       "    </tr>\n",
       "    <tr>\n",
       "      <th>2906</th>\n",
       "      <td>363</td>\n",
       "      <td>2022:05:16</td>\n",
       "      <td>2.112825</td>\n",
       "      <td>6.702951</td>\n",
       "      <td>2.821373</td>\n",
       "      <td>Jupiter</td>\n",
       "      <td>264.406883</td>\n",
       "      <td>1.898000e+27</td>\n",
       "      <td>1.000000e+11</td>\n",
       "    </tr>\n",
       "    <tr>\n",
       "      <th>2907</th>\n",
       "      <td>363</td>\n",
       "      <td>2022:05:16</td>\n",
       "      <td>-59.069242</td>\n",
       "      <td>-7.303197</td>\n",
       "      <td>2.193162</td>\n",
       "      <td>Mercury</td>\n",
       "      <td>49.393319</td>\n",
       "      <td>3.285000e+23</td>\n",
       "      <td>1.000000e+09</td>\n",
       "    </tr>\n",
       "    <tr>\n",
       "      <th>2908</th>\n",
       "      <td>363</td>\n",
       "      <td>2022:05:16</td>\n",
       "      <td>26.733460</td>\n",
       "      <td>-33.305294</td>\n",
       "      <td>-14.296059</td>\n",
       "      <td>Neptune</td>\n",
       "      <td>160.068735</td>\n",
       "      <td>1.024000e+26</td>\n",
       "      <td>1.000000e+11</td>\n",
       "    </tr>\n",
       "    <tr>\n",
       "      <th>2909</th>\n",
       "      <td>363</td>\n",
       "      <td>2022:05:16</td>\n",
       "      <td>-215.131838</td>\n",
       "      <td>-98.698901</td>\n",
       "      <td>-39.480215</td>\n",
       "      <td>Mars</td>\n",
       "      <td>58.219413</td>\n",
       "      <td>6.390000e+23</td>\n",
       "      <td>1.000000e+09</td>\n",
       "    </tr>\n",
       "    <tr>\n",
       "      <th>2910</th>\n",
       "      <td>363</td>\n",
       "      <td>2022:05:16</td>\n",
       "      <td>11.465104</td>\n",
       "      <td>12.145711</td>\n",
       "      <td>2.403936</td>\n",
       "      <td>Sun</td>\n",
       "      <td>26388.254963</td>\n",
       "      <td>1.988470e+30</td>\n",
       "      <td>1.000000e+07</td>\n",
       "    </tr>\n",
       "    <tr>\n",
       "      <th>2911</th>\n",
       "      <td>363</td>\n",
       "      <td>2022:05:16</td>\n",
       "      <td>23.194521</td>\n",
       "      <td>-17.109749</td>\n",
       "      <td>-7.821874</td>\n",
       "      <td>Uranus</td>\n",
       "      <td>159.254513</td>\n",
       "      <td>8.681000e+25</td>\n",
       "      <td>1.000000e+11</td>\n",
       "    </tr>\n",
       "    <tr>\n",
       "      <th>2912</th>\n",
       "      <td>364</td>\n",
       "      <td>2022:05:17</td>\n",
       "      <td>-214.117085</td>\n",
       "      <td>-100.229568</td>\n",
       "      <td>-40.210052</td>\n",
       "      <td>Mars</td>\n",
       "      <td>58.219413</td>\n",
       "      <td>6.390000e+23</td>\n",
       "      <td>1.000000e+09</td>\n",
       "    </tr>\n",
       "    <tr>\n",
       "      <th>2913</th>\n",
       "      <td>364</td>\n",
       "      <td>2022:05:17</td>\n",
       "      <td>6.595057</td>\n",
       "      <td>11.113206</td>\n",
       "      <td>4.306864</td>\n",
       "      <td>Saturn</td>\n",
       "      <td>241.313075</td>\n",
       "      <td>5.683000e+26</td>\n",
       "      <td>1.000000e+11</td>\n",
       "    </tr>\n",
       "    <tr>\n",
       "      <th>2914</th>\n",
       "      <td>364</td>\n",
       "      <td>2022:05:17</td>\n",
       "      <td>2.101830</td>\n",
       "      <td>6.706238</td>\n",
       "      <td>2.823050</td>\n",
       "      <td>Jupiter</td>\n",
       "      <td>264.406883</td>\n",
       "      <td>1.898000e+27</td>\n",
       "      <td>1.000000e+11</td>\n",
       "    </tr>\n",
       "    <tr>\n",
       "      <th>2915</th>\n",
       "      <td>364</td>\n",
       "      <td>2022:05:17</td>\n",
       "      <td>-134.243331</td>\n",
       "      <td>57.155418</td>\n",
       "      <td>24.751176</td>\n",
       "      <td>Earth</td>\n",
       "      <td>79.818544</td>\n",
       "      <td>6.046000e+24</td>\n",
       "      <td>1.000000e+09</td>\n",
       "    </tr>\n",
       "    <tr>\n",
       "      <th>2916</th>\n",
       "      <td>364</td>\n",
       "      <td>2022:05:17</td>\n",
       "      <td>-59.383138</td>\n",
       "      <td>-10.820262</td>\n",
       "      <td>0.346923</td>\n",
       "      <td>Mercury</td>\n",
       "      <td>49.393319</td>\n",
       "      <td>3.285000e+23</td>\n",
       "      <td>1.000000e+09</td>\n",
       "    </tr>\n",
       "    <tr>\n",
       "      <th>2917</th>\n",
       "      <td>364</td>\n",
       "      <td>2022:05:17</td>\n",
       "      <td>11.513725</td>\n",
       "      <td>12.208087</td>\n",
       "      <td>2.421635</td>\n",
       "      <td>Sun</td>\n",
       "      <td>26388.254963</td>\n",
       "      <td>1.988470e+30</td>\n",
       "      <td>1.000000e+07</td>\n",
       "    </tr>\n",
       "    <tr>\n",
       "      <th>2918</th>\n",
       "      <td>364</td>\n",
       "      <td>2022:05:17</td>\n",
       "      <td>23.198177</td>\n",
       "      <td>-17.105785</td>\n",
       "      <td>-7.820190</td>\n",
       "      <td>Uranus</td>\n",
       "      <td>159.254513</td>\n",
       "      <td>8.681000e+25</td>\n",
       "      <td>1.000000e+11</td>\n",
       "    </tr>\n",
       "    <tr>\n",
       "      <th>2919</th>\n",
       "      <td>364</td>\n",
       "      <td>2022:05:17</td>\n",
       "      <td>26.737200</td>\n",
       "      <td>-33.302645</td>\n",
       "      <td>-14.295067</td>\n",
       "      <td>Neptune</td>\n",
       "      <td>160.068735</td>\n",
       "      <td>1.024000e+26</td>\n",
       "      <td>1.000000e+11</td>\n",
       "    </tr>\n",
       "  </tbody>\n",
       "</table>\n",
       "</div>"
      ],
      "text/plain": [
       "      index        time           x           y          z     name  \\\n",
       "2890    361  2022:05:14 -217.115090  -95.616470 -38.012116     Mars   \n",
       "2891    361  2022:05:14    6.618293   11.102365   4.301388   Saturn   \n",
       "2892    361  2022:05:14   23.187207  -17.117675  -7.825241   Uranus   \n",
       "2893    361  2022:05:14   26.725978  -33.310592 -14.298041  Neptune   \n",
       "2894    361  2022:05:14  -57.605254   -0.181063   5.845969  Mercury   \n",
       "2895    361  2022:05:14    2.134799    6.696331   2.817999  Jupiter   \n",
       "2896    362  2022:05:15    6.610550   11.105983   4.303215   Saturn   \n",
       "2897    362  2022:05:15   26.729719  -33.307943 -14.297050  Neptune   \n",
       "2898    362  2022:05:15    2.123814    6.699648   2.819689  Jupiter   \n",
       "2899    362  2022:05:15   11.416520   12.083497   2.386305      Sun   \n",
       "2900    362  2022:05:15   23.190864  -17.113712  -7.823558   Uranus   \n",
       "2901    362  2022:05:15 -216.131187  -97.161160 -38.747551     Mars   \n",
       "2902    362  2022:05:15 -131.917145   61.423806  26.601351    Earth   \n",
       "2903    362  2022:05:15  -58.479598   -3.751539   4.029296  Mercury   \n",
       "2904    363  2022:05:16    6.602805   11.109597   4.305040   Saturn   \n",
       "2905    363  2022:05:16 -133.100591   59.298652  25.680183    Earth   \n",
       "2906    363  2022:05:16    2.112825    6.702951   2.821373  Jupiter   \n",
       "2907    363  2022:05:16  -59.069242   -7.303197   2.193162  Mercury   \n",
       "2908    363  2022:05:16   26.733460  -33.305294 -14.296059  Neptune   \n",
       "2909    363  2022:05:16 -215.131838  -98.698901 -39.480215     Mars   \n",
       "2910    363  2022:05:16   11.465104   12.145711   2.403936      Sun   \n",
       "2911    363  2022:05:16   23.194521  -17.109749  -7.821874   Uranus   \n",
       "2912    364  2022:05:17 -214.117085 -100.229568 -40.210052     Mars   \n",
       "2913    364  2022:05:17    6.595057   11.113206   4.306864   Saturn   \n",
       "2914    364  2022:05:17    2.101830    6.706238   2.823050  Jupiter   \n",
       "2915    364  2022:05:17 -134.243331   57.155418  24.751176    Earth   \n",
       "2916    364  2022:05:17  -59.383138  -10.820262   0.346923  Mercury   \n",
       "2917    364  2022:05:17   11.513725   12.208087   2.421635      Sun   \n",
       "2918    364  2022:05:17   23.198177  -17.105785  -7.820190   Uranus   \n",
       "2919    364  2022:05:17   26.737200  -33.302645 -14.295067  Neptune   \n",
       "\n",
       "            radius          mass         scale  \n",
       "2890     58.219413  6.390000e+23  1.000000e+09  \n",
       "2891    241.313075  5.683000e+26  1.000000e+11  \n",
       "2892    159.254513  8.681000e+25  1.000000e+11  \n",
       "2893    160.068735  1.024000e+26  1.000000e+11  \n",
       "2894     49.393319  3.285000e+23  1.000000e+09  \n",
       "2895    264.406883  1.898000e+27  1.000000e+11  \n",
       "2896    241.313075  5.683000e+26  1.000000e+11  \n",
       "2897    160.068735  1.024000e+26  1.000000e+11  \n",
       "2898    264.406883  1.898000e+27  1.000000e+11  \n",
       "2899  26388.254963  1.988470e+30  1.000000e+07  \n",
       "2900    159.254513  8.681000e+25  1.000000e+11  \n",
       "2901     58.219413  6.390000e+23  1.000000e+09  \n",
       "2902     79.818544  6.046000e+24  1.000000e+09  \n",
       "2903     49.393319  3.285000e+23  1.000000e+09  \n",
       "2904    241.313075  5.683000e+26  1.000000e+11  \n",
       "2905     79.818544  6.046000e+24  1.000000e+09  \n",
       "2906    264.406883  1.898000e+27  1.000000e+11  \n",
       "2907     49.393319  3.285000e+23  1.000000e+09  \n",
       "2908    160.068735  1.024000e+26  1.000000e+11  \n",
       "2909     58.219413  6.390000e+23  1.000000e+09  \n",
       "2910  26388.254963  1.988470e+30  1.000000e+07  \n",
       "2911    159.254513  8.681000e+25  1.000000e+11  \n",
       "2912     58.219413  6.390000e+23  1.000000e+09  \n",
       "2913    241.313075  5.683000e+26  1.000000e+11  \n",
       "2914    264.406883  1.898000e+27  1.000000e+11  \n",
       "2915     79.818544  6.046000e+24  1.000000e+09  \n",
       "2916     49.393319  3.285000e+23  1.000000e+09  \n",
       "2917  26388.254963  1.988470e+30  1.000000e+07  \n",
       "2918    159.254513  8.681000e+25  1.000000e+11  \n",
       "2919    160.068735  1.024000e+26  1.000000e+11  "
      ]
     },
     "execution_count": 127,
     "metadata": {},
     "output_type": "execute_result"
    }
   ],
   "source": [
    "new = scale_axis(position_history)\n",
    "new.tail(30)"
   ]
  },
  {
   "cell_type": "code",
   "execution_count": 2,
   "id": "beginning-chess",
   "metadata": {},
   "outputs": [
    {
     "data": {
      "text/html": [
       "<div>\n",
       "<style scoped>\n",
       "    .dataframe tbody tr th:only-of-type {\n",
       "        vertical-align: middle;\n",
       "    }\n",
       "\n",
       "    .dataframe tbody tr th {\n",
       "        vertical-align: top;\n",
       "    }\n",
       "\n",
       "    .dataframe thead th {\n",
       "        text-align: right;\n",
       "    }\n",
       "</style>\n",
       "<table border=\"1\" class=\"dataframe\">\n",
       "  <thead>\n",
       "    <tr style=\"text-align: right;\">\n",
       "      <th></th>\n",
       "      <th>name</th>\n",
       "      <th>mass</th>\n",
       "      <th>color</th>\n",
       "      <th>radius</th>\n",
       "    </tr>\n",
       "  </thead>\n",
       "  <tbody>\n",
       "    <tr>\n",
       "      <th>0</th>\n",
       "      <td>Sun</td>\n",
       "      <td>1.988470e+30</td>\n",
       "      <td>yellow</td>\n",
       "      <td>696340000.0</td>\n",
       "    </tr>\n",
       "    <tr>\n",
       "      <th>1</th>\n",
       "      <td>Mercury</td>\n",
       "      <td>3.285000e+23</td>\n",
       "      <td>orange</td>\n",
       "      <td>2439.7</td>\n",
       "    </tr>\n",
       "    <tr>\n",
       "      <th>3</th>\n",
       "      <td>Earth</td>\n",
       "      <td>6.046000e+24</td>\n",
       "      <td>blue</td>\n",
       "      <td>6371.0</td>\n",
       "    </tr>\n",
       "    <tr>\n",
       "      <th>4</th>\n",
       "      <td>Mars</td>\n",
       "      <td>6.390000e+23</td>\n",
       "      <td>red</td>\n",
       "      <td>3389.5</td>\n",
       "    </tr>\n",
       "    <tr>\n",
       "      <th>5</th>\n",
       "      <td>Jupiter</td>\n",
       "      <td>1.898000e+27</td>\n",
       "      <td>orange</td>\n",
       "      <td>69911.0</td>\n",
       "    </tr>\n",
       "    <tr>\n",
       "      <th>6</th>\n",
       "      <td>Saturn</td>\n",
       "      <td>5.683000e+26</td>\n",
       "      <td>brown</td>\n",
       "      <td>58232.0</td>\n",
       "    </tr>\n",
       "    <tr>\n",
       "      <th>7</th>\n",
       "      <td>Uranus</td>\n",
       "      <td>8.681000e+25</td>\n",
       "      <td>purple</td>\n",
       "      <td>25362.0</td>\n",
       "    </tr>\n",
       "    <tr>\n",
       "      <th>8</th>\n",
       "      <td>Neptune</td>\n",
       "      <td>1.024000e+26</td>\n",
       "      <td>cyan</td>\n",
       "      <td>25622.0</td>\n",
       "    </tr>\n",
       "  </tbody>\n",
       "</table>\n",
       "</div>"
      ],
      "text/plain": [
       "      name          mass   color       radius\n",
       "0      Sun  1.988470e+30  yellow  696340000.0\n",
       "1  Mercury  3.285000e+23  orange       2439.7\n",
       "3    Earth  6.046000e+24    blue       6371.0\n",
       "4     Mars  6.390000e+23     red       3389.5\n",
       "5  Jupiter  1.898000e+27  orange      69911.0\n",
       "6   Saturn  5.683000e+26   brown      58232.0\n",
       "7   Uranus  8.681000e+25  purple      25362.0\n",
       "8  Neptune  1.024000e+26    cyan      25622.0"
      ]
     },
     "execution_count": 2,
     "metadata": {},
     "output_type": "execute_result"
    }
   ],
   "source": [
    "planets_data = pd.read_csv(\"planets_data.csv\", index_col=0)\n",
    "planets_data = planets_data[planets_data.name != \"Venus\"]\n",
    "number_of_planets = planets_data.shape[0]\n",
    "planets_data"
   ]
  },
  {
   "cell_type": "code",
   "execution_count": 168,
   "id": "identified-electron",
   "metadata": {
    "scrolled": true
   },
   "outputs": [
    {
     "data": {
      "text/html": [
       "<div>\n",
       "<style scoped>\n",
       "    .dataframe tbody tr th:only-of-type {\n",
       "        vertical-align: middle;\n",
       "    }\n",
       "\n",
       "    .dataframe tbody tr th {\n",
       "        vertical-align: top;\n",
       "    }\n",
       "\n",
       "    .dataframe thead th {\n",
       "        text-align: right;\n",
       "    }\n",
       "</style>\n",
       "<table border=\"1\" class=\"dataframe\">\n",
       "  <thead>\n",
       "    <tr style=\"text-align: right;\">\n",
       "      <th></th>\n",
       "      <th>index</th>\n",
       "      <th>time</th>\n",
       "      <th>x</th>\n",
       "      <th>y</th>\n",
       "      <th>z</th>\n",
       "      <th>name</th>\n",
       "      <th>radius</th>\n",
       "      <th>mass</th>\n",
       "      <th>scale</th>\n",
       "    </tr>\n",
       "  </thead>\n",
       "  <tbody>\n",
       "    <tr>\n",
       "      <th>0</th>\n",
       "      <td>0</td>\n",
       "      <td>2021:05:18</td>\n",
       "      <td>0.000000</td>\n",
       "      <td>0.000000</td>\n",
       "      <td>0.000000</td>\n",
       "      <td>Sun</td>\n",
       "      <td>20.361349</td>\n",
       "      <td>1.988470e+30</td>\n",
       "      <td>1.000000e+07</td>\n",
       "    </tr>\n",
       "    <tr>\n",
       "      <th>1</th>\n",
       "      <td>0</td>\n",
       "      <td>2021:05:18</td>\n",
       "      <td>59.988746</td>\n",
       "      <td>36.257537</td>\n",
       "      <td>15.009653</td>\n",
       "      <td>Mars</td>\n",
       "      <td>8.128438</td>\n",
       "      <td>6.390000e+23</td>\n",
       "      <td>3.000000e+09</td>\n",
       "    </tr>\n",
       "    <tr>\n",
       "      <th>2</th>\n",
       "      <td>0</td>\n",
       "      <td>2021:05:18</td>\n",
       "      <td>-37.444347</td>\n",
       "      <td>28.019681</td>\n",
       "      <td>18.849332</td>\n",
       "      <td>Mercury</td>\n",
       "      <td>7.799630</td>\n",
       "      <td>3.285000e+23</td>\n",
       "      <td>1.000000e+09</td>\n",
       "    </tr>\n",
       "    <tr>\n",
       "      <th>3</th>\n",
       "      <td>0</td>\n",
       "      <td>2021:05:18</td>\n",
       "      <td>253.568391</td>\n",
       "      <td>-342.429526</td>\n",
       "      <td>-146.456315</td>\n",
       "      <td>Neptune</td>\n",
       "      <td>10.151207</td>\n",
       "      <td>1.024000e+26</td>\n",
       "      <td>1.000000e+10</td>\n",
       "    </tr>\n",
       "    <tr>\n",
       "      <th>4</th>\n",
       "      <td>0</td>\n",
       "      <td>2021:05:18</td>\n",
       "      <td>92.212127</td>\n",
       "      <td>95.248964</td>\n",
       "      <td>35.379896</td>\n",
       "      <td>Saturn</td>\n",
       "      <td>10.972190</td>\n",
       "      <td>5.683000e+26</td>\n",
       "      <td>1.000000e+10</td>\n",
       "    </tr>\n",
       "    <tr>\n",
       "      <th>5</th>\n",
       "      <td>0</td>\n",
       "      <td>2021:05:18</td>\n",
       "      <td>218.113695</td>\n",
       "      <td>-185.052566</td>\n",
       "      <td>-84.133842</td>\n",
       "      <td>Uranus</td>\n",
       "      <td>10.141007</td>\n",
       "      <td>8.681000e+25</td>\n",
       "      <td>1.000000e+10</td>\n",
       "    </tr>\n",
       "    <tr>\n",
       "      <th>6</th>\n",
       "      <td>0</td>\n",
       "      <td>2021:05:18</td>\n",
       "      <td>55.844885</td>\n",
       "      <td>45.657270</td>\n",
       "      <td>18.206061</td>\n",
       "      <td>Jupiter</td>\n",
       "      <td>11.154978</td>\n",
       "      <td>1.898000e+27</td>\n",
       "      <td>1.000000e+10</td>\n",
       "    </tr>\n",
       "    <tr>\n",
       "      <th>7</th>\n",
       "      <td>0</td>\n",
       "      <td>2021:05:18</td>\n",
       "      <td>-136.014384</td>\n",
       "      <td>53.750515</td>\n",
       "      <td>23.307348</td>\n",
       "      <td>Earth</td>\n",
       "      <td>8.759512</td>\n",
       "      <td>6.046000e+24</td>\n",
       "      <td>1.000000e+09</td>\n",
       "    </tr>\n",
       "  </tbody>\n",
       "</table>\n",
       "</div>"
      ],
      "text/plain": [
       "   index        time           x           y           z     name     radius  \\\n",
       "0      0  2021:05:18    0.000000    0.000000    0.000000      Sun  20.361349   \n",
       "1      0  2021:05:18   59.988746   36.257537   15.009653     Mars   8.128438   \n",
       "2      0  2021:05:18  -37.444347   28.019681   18.849332  Mercury   7.799630   \n",
       "3      0  2021:05:18  253.568391 -342.429526 -146.456315  Neptune  10.151207   \n",
       "4      0  2021:05:18   92.212127   95.248964   35.379896   Saturn  10.972190   \n",
       "5      0  2021:05:18  218.113695 -185.052566  -84.133842   Uranus  10.141007   \n",
       "6      0  2021:05:18   55.844885   45.657270   18.206061  Jupiter  11.154978   \n",
       "7      0  2021:05:18 -136.014384   53.750515   23.307348    Earth   8.759512   \n",
       "\n",
       "           mass         scale  \n",
       "0  1.988470e+30  1.000000e+07  \n",
       "1  6.390000e+23  3.000000e+09  \n",
       "2  3.285000e+23  1.000000e+09  \n",
       "3  1.024000e+26  1.000000e+10  \n",
       "4  5.683000e+26  1.000000e+10  \n",
       "5  8.681000e+25  1.000000e+10  \n",
       "6  1.898000e+27  1.000000e+10  \n",
       "7  6.046000e+24  1.000000e+09  "
      ]
     },
     "execution_count": 168,
     "metadata": {},
     "output_type": "execute_result"
    }
   ],
   "source": [
    "import datetime\n",
    "scale = {\"Sun\": 10e6, \"Mercury\": 10e8, \"Venus\":10e8, \"Earth\":10e8, \"Mars\":3*10e8,\n",
    "         \"Jupiter\":10e9, \"Saturn\":10e9, \"Uranus\":10e9, \"Neptune\": 10e9}\n",
    "\n",
    "position_history = pd.read_csv(\"position_history.csv\", index_col=0)\n",
    "position_history[\"time\"] = pd.to_datetime(position_history[\"time\"]).astype(\"datetime64[D]\")\n",
    "position_history = scale_axis(position_history, scale=scale)\n",
    "position_history = position_history[position_history.name != \"Venus\"]\n",
    "position_history[\"radius\"] = np.log(position_history[\"radius\"])\n",
    "position_history = position_history.sort_values(\"time\")\n",
    "\n",
    "start_time = min(position_history[\"time\"])\n",
    "end_time = max(position_history[\"time\"])\n",
    "\n",
    "position_history[\"time\"] = position_history[\"time\"].dt.strftime(\"%Y:%m:%d\")\n",
    "\n",
    "x_limit = position_history[\"x\"].abs().max()\n",
    "y_limit = position_history[\"y\"].abs().max()\n",
    "z_limit = position_history[\"z\"].abs().max()\n",
    "\n",
    "position_history = position_history.reset_index()\n",
    "position_history.head(number_of_planets)"
   ]
  },
  {
   "cell_type": "code",
   "execution_count": 151,
   "id": "molecular-catholic",
   "metadata": {
    "scrolled": false
   },
   "outputs": [
    {
     "data": {
      "text/html": [
       "<div>\n",
       "<style scoped>\n",
       "    .dataframe tbody tr th:only-of-type {\n",
       "        vertical-align: middle;\n",
       "    }\n",
       "\n",
       "    .dataframe tbody tr th {\n",
       "        vertical-align: top;\n",
       "    }\n",
       "\n",
       "    .dataframe thead th {\n",
       "        text-align: right;\n",
       "    }\n",
       "</style>\n",
       "<table border=\"1\" class=\"dataframe\">\n",
       "  <thead>\n",
       "    <tr style=\"text-align: right;\">\n",
       "      <th></th>\n",
       "      <th>index</th>\n",
       "      <th>time</th>\n",
       "      <th>x</th>\n",
       "      <th>y</th>\n",
       "      <th>z</th>\n",
       "      <th>name</th>\n",
       "      <th>radius</th>\n",
       "      <th>mass</th>\n",
       "      <th>scale</th>\n",
       "    </tr>\n",
       "  </thead>\n",
       "  <tbody>\n",
       "    <tr>\n",
       "      <th>0</th>\n",
       "      <td>0</td>\n",
       "      <td>2021:05:18</td>\n",
       "      <td>0.000000</td>\n",
       "      <td>0.000000</td>\n",
       "      <td>0.000000</td>\n",
       "      <td>Sun</td>\n",
       "      <td>20.361349</td>\n",
       "      <td>1.988470e+30</td>\n",
       "      <td>1.000000e+07</td>\n",
       "    </tr>\n",
       "    <tr>\n",
       "      <th>1</th>\n",
       "      <td>0</td>\n",
       "      <td>2021:05:18</td>\n",
       "      <td>59.988746</td>\n",
       "      <td>36.257537</td>\n",
       "      <td>15.009653</td>\n",
       "      <td>Mars</td>\n",
       "      <td>8.128438</td>\n",
       "      <td>6.390000e+23</td>\n",
       "      <td>3.000000e+09</td>\n",
       "    </tr>\n",
       "    <tr>\n",
       "      <th>2</th>\n",
       "      <td>0</td>\n",
       "      <td>2021:05:18</td>\n",
       "      <td>-37.444347</td>\n",
       "      <td>28.019681</td>\n",
       "      <td>18.849332</td>\n",
       "      <td>Mercury</td>\n",
       "      <td>7.799630</td>\n",
       "      <td>3.285000e+23</td>\n",
       "      <td>1.000000e+09</td>\n",
       "    </tr>\n",
       "    <tr>\n",
       "      <th>3</th>\n",
       "      <td>0</td>\n",
       "      <td>2021:05:18</td>\n",
       "      <td>253.568391</td>\n",
       "      <td>-342.429526</td>\n",
       "      <td>-146.456315</td>\n",
       "      <td>Neptune</td>\n",
       "      <td>10.151207</td>\n",
       "      <td>1.024000e+26</td>\n",
       "      <td>1.000000e+10</td>\n",
       "    </tr>\n",
       "    <tr>\n",
       "      <th>4</th>\n",
       "      <td>0</td>\n",
       "      <td>2021:05:18</td>\n",
       "      <td>92.212127</td>\n",
       "      <td>95.248964</td>\n",
       "      <td>35.379896</td>\n",
       "      <td>Saturn</td>\n",
       "      <td>10.972190</td>\n",
       "      <td>5.683000e+26</td>\n",
       "      <td>1.000000e+10</td>\n",
       "    </tr>\n",
       "    <tr>\n",
       "      <th>5</th>\n",
       "      <td>0</td>\n",
       "      <td>2021:05:18</td>\n",
       "      <td>218.113695</td>\n",
       "      <td>-185.052566</td>\n",
       "      <td>-84.133842</td>\n",
       "      <td>Uranus</td>\n",
       "      <td>10.141007</td>\n",
       "      <td>8.681000e+25</td>\n",
       "      <td>1.000000e+10</td>\n",
       "    </tr>\n",
       "    <tr>\n",
       "      <th>6</th>\n",
       "      <td>0</td>\n",
       "      <td>2021:05:18</td>\n",
       "      <td>55.844885</td>\n",
       "      <td>45.657270</td>\n",
       "      <td>18.206061</td>\n",
       "      <td>Jupiter</td>\n",
       "      <td>11.154978</td>\n",
       "      <td>1.898000e+27</td>\n",
       "      <td>1.000000e+10</td>\n",
       "    </tr>\n",
       "    <tr>\n",
       "      <th>7</th>\n",
       "      <td>0</td>\n",
       "      <td>2021:05:18</td>\n",
       "      <td>-136.014384</td>\n",
       "      <td>53.750515</td>\n",
       "      <td>23.307348</td>\n",
       "      <td>Earth</td>\n",
       "      <td>8.759512</td>\n",
       "      <td>6.046000e+24</td>\n",
       "      <td>1.000000e+09</td>\n",
       "    </tr>\n",
       "    <tr>\n",
       "      <th>56</th>\n",
       "      <td>7</td>\n",
       "      <td>2021:05:25</td>\n",
       "      <td>55.308902</td>\n",
       "      <td>46.229893</td>\n",
       "      <td>18.464581</td>\n",
       "      <td>Jupiter</td>\n",
       "      <td>11.154978</td>\n",
       "      <td>1.898000e+27</td>\n",
       "      <td>1.000000e+10</td>\n",
       "    </tr>\n",
       "    <tr>\n",
       "      <th>57</th>\n",
       "      <td>7</td>\n",
       "      <td>2021:05:25</td>\n",
       "      <td>91.747670</td>\n",
       "      <td>95.603478</td>\n",
       "      <td>35.546274</td>\n",
       "      <td>Saturn</td>\n",
       "      <td>10.972190</td>\n",
       "      <td>5.683000e+26</td>\n",
       "      <td>1.000000e+10</td>\n",
       "    </tr>\n",
       "    <tr>\n",
       "      <th>58</th>\n",
       "      <td>7</td>\n",
       "      <td>2021:05:25</td>\n",
       "      <td>218.390790</td>\n",
       "      <td>-184.791857</td>\n",
       "      <td>-84.023602</td>\n",
       "      <td>Uranus</td>\n",
       "      <td>10.141007</td>\n",
       "      <td>8.681000e+25</td>\n",
       "      <td>1.000000e+10</td>\n",
       "    </tr>\n",
       "    <tr>\n",
       "      <th>59</th>\n",
       "      <td>7</td>\n",
       "      <td>2021:05:25</td>\n",
       "      <td>0.002980</td>\n",
       "      <td>0.002737</td>\n",
       "      <td>0.001095</td>\n",
       "      <td>Sun</td>\n",
       "      <td>20.361349</td>\n",
       "      <td>1.988470e+30</td>\n",
       "      <td>1.000000e+07</td>\n",
       "    </tr>\n",
       "    <tr>\n",
       "      <th>60</th>\n",
       "      <td>7</td>\n",
       "      <td>2021:05:25</td>\n",
       "      <td>253.837345</td>\n",
       "      <td>-342.253298</td>\n",
       "      <td>-146.390869</td>\n",
       "      <td>Neptune</td>\n",
       "      <td>10.151207</td>\n",
       "      <td>1.024000e+26</td>\n",
       "      <td>1.000000e+10</td>\n",
       "    </tr>\n",
       "    <tr>\n",
       "      <th>61</th>\n",
       "      <td>7</td>\n",
       "      <td>2021:05:25</td>\n",
       "      <td>57.358436</td>\n",
       "      <td>40.236409</td>\n",
       "      <td>16.906206</td>\n",
       "      <td>Mars</td>\n",
       "      <td>8.128438</td>\n",
       "      <td>6.390000e+23</td>\n",
       "      <td>3.000000e+09</td>\n",
       "    </tr>\n",
       "    <tr>\n",
       "      <th>62</th>\n",
       "      <td>7</td>\n",
       "      <td>2021:05:25</td>\n",
       "      <td>-55.442391</td>\n",
       "      <td>4.995930</td>\n",
       "      <td>8.417185</td>\n",
       "      <td>Mercury</td>\n",
       "      <td>7.799630</td>\n",
       "      <td>3.285000e+23</td>\n",
       "      <td>1.000000e+09</td>\n",
       "    </tr>\n",
       "    <tr>\n",
       "      <th>63</th>\n",
       "      <td>7</td>\n",
       "      <td>2021:05:25</td>\n",
       "      <td>-142.403115</td>\n",
       "      <td>38.140071</td>\n",
       "      <td>16.540966</td>\n",
       "      <td>Earth</td>\n",
       "      <td>8.759512</td>\n",
       "      <td>6.046000e+24</td>\n",
       "      <td>1.000000e+09</td>\n",
       "    </tr>\n",
       "    <tr>\n",
       "      <th>112</th>\n",
       "      <td>14</td>\n",
       "      <td>2021:06:01</td>\n",
       "      <td>54.766405</td>\n",
       "      <td>46.797072</td>\n",
       "      <td>18.720926</td>\n",
       "      <td>Jupiter</td>\n",
       "      <td>11.154978</td>\n",
       "      <td>1.898000e+27</td>\n",
       "      <td>1.000000e+10</td>\n",
       "    </tr>\n",
       "    <tr>\n",
       "      <th>113</th>\n",
       "      <td>14</td>\n",
       "      <td>2021:06:01</td>\n",
       "      <td>54.452803</td>\n",
       "      <td>44.022229</td>\n",
       "      <td>18.721646</td>\n",
       "      <td>Mars</td>\n",
       "      <td>8.128438</td>\n",
       "      <td>6.390000e+23</td>\n",
       "      <td>3.000000e+09</td>\n",
       "    </tr>\n",
       "    <tr>\n",
       "      <th>114</th>\n",
       "      <td>14</td>\n",
       "      <td>2021:06:01</td>\n",
       "      <td>254.106165</td>\n",
       "      <td>-342.076889</td>\n",
       "      <td>-146.325345</td>\n",
       "      <td>Neptune</td>\n",
       "      <td>10.151207</td>\n",
       "      <td>1.024000e+26</td>\n",
       "      <td>1.000000e+10</td>\n",
       "    </tr>\n",
       "    <tr>\n",
       "      <th>115</th>\n",
       "      <td>14</td>\n",
       "      <td>2021:06:01</td>\n",
       "      <td>-146.676952</td>\n",
       "      <td>21.963023</td>\n",
       "      <td>9.528851</td>\n",
       "      <td>Earth</td>\n",
       "      <td>8.759512</td>\n",
       "      <td>6.046000e+24</td>\n",
       "      <td>1.000000e+09</td>\n",
       "    </tr>\n",
       "  </tbody>\n",
       "</table>\n",
       "</div>"
      ],
      "text/plain": [
       "     index        time           x           y           z     name  \\\n",
       "0        0  2021:05:18    0.000000    0.000000    0.000000      Sun   \n",
       "1        0  2021:05:18   59.988746   36.257537   15.009653     Mars   \n",
       "2        0  2021:05:18  -37.444347   28.019681   18.849332  Mercury   \n",
       "3        0  2021:05:18  253.568391 -342.429526 -146.456315  Neptune   \n",
       "4        0  2021:05:18   92.212127   95.248964   35.379896   Saturn   \n",
       "5        0  2021:05:18  218.113695 -185.052566  -84.133842   Uranus   \n",
       "6        0  2021:05:18   55.844885   45.657270   18.206061  Jupiter   \n",
       "7        0  2021:05:18 -136.014384   53.750515   23.307348    Earth   \n",
       "56       7  2021:05:25   55.308902   46.229893   18.464581  Jupiter   \n",
       "57       7  2021:05:25   91.747670   95.603478   35.546274   Saturn   \n",
       "58       7  2021:05:25  218.390790 -184.791857  -84.023602   Uranus   \n",
       "59       7  2021:05:25    0.002980    0.002737    0.001095      Sun   \n",
       "60       7  2021:05:25  253.837345 -342.253298 -146.390869  Neptune   \n",
       "61       7  2021:05:25   57.358436   40.236409   16.906206     Mars   \n",
       "62       7  2021:05:25  -55.442391    4.995930    8.417185  Mercury   \n",
       "63       7  2021:05:25 -142.403115   38.140071   16.540966    Earth   \n",
       "112     14  2021:06:01   54.766405   46.797072   18.720926  Jupiter   \n",
       "113     14  2021:06:01   54.452803   44.022229   18.721646     Mars   \n",
       "114     14  2021:06:01  254.106165 -342.076889 -146.325345  Neptune   \n",
       "115     14  2021:06:01 -146.676952   21.963023    9.528851    Earth   \n",
       "\n",
       "        radius          mass         scale  \n",
       "0    20.361349  1.988470e+30  1.000000e+07  \n",
       "1     8.128438  6.390000e+23  3.000000e+09  \n",
       "2     7.799630  3.285000e+23  1.000000e+09  \n",
       "3    10.151207  1.024000e+26  1.000000e+10  \n",
       "4    10.972190  5.683000e+26  1.000000e+10  \n",
       "5    10.141007  8.681000e+25  1.000000e+10  \n",
       "6    11.154978  1.898000e+27  1.000000e+10  \n",
       "7     8.759512  6.046000e+24  1.000000e+09  \n",
       "56   11.154978  1.898000e+27  1.000000e+10  \n",
       "57   10.972190  5.683000e+26  1.000000e+10  \n",
       "58   10.141007  8.681000e+25  1.000000e+10  \n",
       "59   20.361349  1.988470e+30  1.000000e+07  \n",
       "60   10.151207  1.024000e+26  1.000000e+10  \n",
       "61    8.128438  6.390000e+23  3.000000e+09  \n",
       "62    7.799630  3.285000e+23  1.000000e+09  \n",
       "63    8.759512  6.046000e+24  1.000000e+09  \n",
       "112  11.154978  1.898000e+27  1.000000e+10  \n",
       "113   8.128438  6.390000e+23  3.000000e+09  \n",
       "114  10.151207  1.024000e+26  1.000000e+10  \n",
       "115   8.759512  6.046000e+24  1.000000e+09  "
      ]
     },
     "execution_count": 151,
     "metadata": {},
     "output_type": "execute_result"
    }
   ],
   "source": [
    "steps = 50\n",
    "time_step = ((end_time - start_time) / steps).days\n",
    "\n",
    "downsampled_position_history = position_history[0:number_of_planets]\n",
    "for index in range(number_of_planets*time_step, position_history.shape[0], number_of_planets*time_step):\n",
    "    downsampled_position_history = downsampled_position_history.append(position_history[index:index+number_of_planets])\n",
    "\n",
    "pd.options.display.max_rows = 300\n",
    "downsampled_position_history.head(20)"
   ]
  },
  {
   "cell_type": "code",
   "execution_count": 152,
   "id": "oriented-commercial",
   "metadata": {
    "scrolled": true
   },
   "outputs": [],
   "source": [
    "steps = []\n",
    "slider_range = int(downsampled_position_history.shape[0]/8)\n",
    "for i in range(slider_range):\n",
    "    step = dict(\n",
    "        method=\"update\",\n",
    "        visible=False,\n",
    "    )\n",
    "    steps.append(step)\n",
    "\n",
    "for step in steps[::3]:\n",
    "    step[\"visible\"]=True\n",
    "    \n",
    "\n",
    "sliders = [dict(\n",
    "    steps=steps\n",
    ")]"
   ]
  },
  {
   "cell_type": "code",
   "execution_count": 178,
   "id": "breathing-equivalent",
   "metadata": {
    "scrolled": false
   },
   "outputs": [
    {
     "data": {
      "application/vnd.plotly.v1+json": {
       "config": {
        "plotlyServerURL": "https://plot.ly"
       },
       "data": [
        {
         "hovertemplate": "name=Sun<br>index=0<br>x=%{x}<br>y=%{y}<br>z=%{z}<br>radius=%{marker.size}<extra></extra>",
         "ids": [
          "Sun"
         ],
         "legendgroup": "Sun",
         "marker": {
          "color": "orange",
          "size": [
           20.36134860476573
          ],
          "sizemode": "area",
          "sizeref": 0.050903371511914326,
          "symbol": "circle"
         },
         "mode": "markers",
         "name": "Sun",
         "scene": "scene",
         "showlegend": true,
         "type": "scatter3d",
         "x": [
          0
         ],
         "y": [
          0
         ],
         "z": [
          0
         ]
        },
        {
         "hovertemplate": "name=Mars<br>index=0<br>x=%{x}<br>y=%{y}<br>z=%{z}<br>radius=%{marker.size}<extra></extra>",
         "ids": [
          "Mars"
         ],
         "legendgroup": "Mars",
         "marker": {
          "color": "crimson",
          "size": [
           8.12843769687102
          ],
          "sizemode": "area",
          "sizeref": 0.050903371511914326,
          "symbol": "circle"
         },
         "mode": "markers",
         "name": "Mars",
         "scene": "scene",
         "showlegend": true,
         "type": "scatter3d",
         "x": [
          59.9887461507
         ],
         "y": [
          36.25753726199
         ],
         "z": [
          15.009653026899999
         ]
        },
        {
         "hovertemplate": "name=Mercury<br>index=0<br>x=%{x}<br>y=%{y}<br>z=%{z}<br>radius=%{marker.size}<extra></extra>",
         "ids": [
          "Mercury"
         ],
         "legendgroup": "Mercury",
         "marker": {
          "color": "cornflowerblue",
          "size": [
           7.7996303599085035
          ],
          "sizemode": "area",
          "sizeref": 0.050903371511914326,
          "symbol": "circle"
         },
         "mode": "markers",
         "name": "Mercury",
         "scene": "scene",
         "showlegend": true,
         "type": "scatter3d",
         "x": [
          -37.444347036210004
         ],
         "y": [
          28.019681182110002
         ],
         "z": [
          18.8493317082
         ]
        },
        {
         "hovertemplate": "name=Neptune<br>index=0<br>x=%{x}<br>y=%{y}<br>z=%{z}<br>radius=%{marker.size}<extra></extra>",
         "ids": [
          "Neptune"
         ],
         "legendgroup": "Neptune",
         "marker": {
          "color": "cyan",
          "size": [
           10.15120663641638
          ],
          "sizemode": "area",
          "sizeref": 0.050903371511914326,
          "symbol": "circle"
         },
         "mode": "markers",
         "name": "Neptune",
         "scene": "scene",
         "showlegend": true,
         "type": "scatter3d",
         "x": [
          253.5683908365
         ],
         "y": [
          -342.4295260323
         ],
         "z": [
          -146.45631541529997
         ]
        },
        {
         "hovertemplate": "name=Saturn<br>index=0<br>x=%{x}<br>y=%{y}<br>z=%{z}<br>radius=%{marker.size}<extra></extra>",
         "ids": [
          "Saturn"
         ],
         "legendgroup": "Saturn",
         "marker": {
          "color": "khaki",
          "size": [
           10.972190310798094
          ],
          "sizemode": "area",
          "sizeref": 0.050903371511914326,
          "symbol": "circle"
         },
         "mode": "markers",
         "name": "Saturn",
         "scene": "scene",
         "showlegend": true,
         "type": "scatter3d",
         "x": [
          92.21212749948
         ],
         "y": [
          95.24896427469
         ],
         "z": [
          35.379896420550004
         ]
        },
        {
         "hovertemplate": "name=Uranus<br>index=0<br>x=%{x}<br>y=%{y}<br>z=%{z}<br>radius=%{marker.size}<extra></extra>",
         "ids": [
          "Uranus"
         ],
         "legendgroup": "Uranus",
         "marker": {
          "color": "lightcyan",
          "size": [
           10.141007269794844
          ],
          "sizemode": "area",
          "sizeref": 0.050903371511914326,
          "symbol": "circle"
         },
         "mode": "markers",
         "name": "Uranus",
         "scene": "scene",
         "showlegend": true,
         "type": "scatter3d",
         "x": [
          218.1136954806
         ],
         "y": [
          -185.0525660559
         ],
         "z": [
          -84.13384248167999
         ]
        },
        {
         "hovertemplate": "name=Jupiter<br>index=0<br>x=%{x}<br>y=%{y}<br>z=%{z}<br>radius=%{marker.size}<extra></extra>",
         "ids": [
          "Jupiter"
         ],
         "legendgroup": "Jupiter",
         "marker": {
          "color": "chocolate",
          "size": [
           11.154978283509006
          ],
          "sizemode": "area",
          "sizeref": 0.050903371511914326,
          "symbol": "circle"
         },
         "mode": "markers",
         "name": "Jupiter",
         "scene": "scene",
         "showlegend": true,
         "type": "scatter3d",
         "x": [
          55.84488513231
         ],
         "y": [
          45.657270137640005
         ],
         "z": [
          18.20606086419
         ]
        },
        {
         "hovertemplate": "name=Earth<br>index=0<br>x=%{x}<br>y=%{y}<br>z=%{z}<br>radius=%{marker.size}<extra></extra>",
         "ids": [
          "Earth"
         ],
         "legendgroup": "Earth",
         "marker": {
          "color": "green",
          "size": [
           8.759511722116487
          ],
          "sizemode": "area",
          "sizeref": 0.050903371511914326,
          "symbol": "circle"
         },
         "mode": "markers",
         "name": "Earth",
         "scene": "scene",
         "showlegend": true,
         "type": "scatter3d",
         "x": [
          -136.01438404044
         ],
         "y": [
          53.75051494251
         ],
         "z": [
          23.307348255060003
         ]
        }
       ],
       "frames": [
        {
         "data": [
          {
           "hovertemplate": "name=Sun<br>index=0<br>x=%{x}<br>y=%{y}<br>z=%{z}<br>radius=%{marker.size}<extra></extra>",
           "ids": [
            "Sun"
           ],
           "legendgroup": "Sun",
           "marker": {
            "color": "orange",
            "size": [
             20.36134860476573
            ],
            "sizemode": "area",
            "sizeref": 0.050903371511914326,
            "symbol": "circle"
           },
           "mode": "markers",
           "name": "Sun",
           "scene": "scene",
           "showlegend": true,
           "type": "scatter3d",
           "x": [
            0
           ],
           "y": [
            0
           ],
           "z": [
            0
           ]
          },
          {
           "hovertemplate": "name=Mars<br>index=0<br>x=%{x}<br>y=%{y}<br>z=%{z}<br>radius=%{marker.size}<extra></extra>",
           "ids": [
            "Mars"
           ],
           "legendgroup": "Mars",
           "marker": {
            "color": "crimson",
            "size": [
             8.12843769687102
            ],
            "sizemode": "area",
            "sizeref": 0.050903371511914326,
            "symbol": "circle"
           },
           "mode": "markers",
           "name": "Mars",
           "scene": "scene",
           "showlegend": true,
           "type": "scatter3d",
           "x": [
            59.9887461507
           ],
           "y": [
            36.25753726199
           ],
           "z": [
            15.009653026899999
           ]
          },
          {
           "hovertemplate": "name=Mercury<br>index=0<br>x=%{x}<br>y=%{y}<br>z=%{z}<br>radius=%{marker.size}<extra></extra>",
           "ids": [
            "Mercury"
           ],
           "legendgroup": "Mercury",
           "marker": {
            "color": "cornflowerblue",
            "size": [
             7.7996303599085035
            ],
            "sizemode": "area",
            "sizeref": 0.050903371511914326,
            "symbol": "circle"
           },
           "mode": "markers",
           "name": "Mercury",
           "scene": "scene",
           "showlegend": true,
           "type": "scatter3d",
           "x": [
            -37.444347036210004
           ],
           "y": [
            28.019681182110002
           ],
           "z": [
            18.8493317082
           ]
          },
          {
           "hovertemplate": "name=Neptune<br>index=0<br>x=%{x}<br>y=%{y}<br>z=%{z}<br>radius=%{marker.size}<extra></extra>",
           "ids": [
            "Neptune"
           ],
           "legendgroup": "Neptune",
           "marker": {
            "color": "cyan",
            "size": [
             10.15120663641638
            ],
            "sizemode": "area",
            "sizeref": 0.050903371511914326,
            "symbol": "circle"
           },
           "mode": "markers",
           "name": "Neptune",
           "scene": "scene",
           "showlegend": true,
           "type": "scatter3d",
           "x": [
            253.5683908365
           ],
           "y": [
            -342.4295260323
           ],
           "z": [
            -146.45631541529997
           ]
          },
          {
           "hovertemplate": "name=Saturn<br>index=0<br>x=%{x}<br>y=%{y}<br>z=%{z}<br>radius=%{marker.size}<extra></extra>",
           "ids": [
            "Saturn"
           ],
           "legendgroup": "Saturn",
           "marker": {
            "color": "khaki",
            "size": [
             10.972190310798094
            ],
            "sizemode": "area",
            "sizeref": 0.050903371511914326,
            "symbol": "circle"
           },
           "mode": "markers",
           "name": "Saturn",
           "scene": "scene",
           "showlegend": true,
           "type": "scatter3d",
           "x": [
            92.21212749948
           ],
           "y": [
            95.24896427469
           ],
           "z": [
            35.379896420550004
           ]
          },
          {
           "hovertemplate": "name=Uranus<br>index=0<br>x=%{x}<br>y=%{y}<br>z=%{z}<br>radius=%{marker.size}<extra></extra>",
           "ids": [
            "Uranus"
           ],
           "legendgroup": "Uranus",
           "marker": {
            "color": "lightcyan",
            "size": [
             10.141007269794844
            ],
            "sizemode": "area",
            "sizeref": 0.050903371511914326,
            "symbol": "circle"
           },
           "mode": "markers",
           "name": "Uranus",
           "scene": "scene",
           "showlegend": true,
           "type": "scatter3d",
           "x": [
            218.1136954806
           ],
           "y": [
            -185.0525660559
           ],
           "z": [
            -84.13384248167999
           ]
          },
          {
           "hovertemplate": "name=Jupiter<br>index=0<br>x=%{x}<br>y=%{y}<br>z=%{z}<br>radius=%{marker.size}<extra></extra>",
           "ids": [
            "Jupiter"
           ],
           "legendgroup": "Jupiter",
           "marker": {
            "color": "chocolate",
            "size": [
             11.154978283509006
            ],
            "sizemode": "area",
            "sizeref": 0.050903371511914326,
            "symbol": "circle"
           },
           "mode": "markers",
           "name": "Jupiter",
           "scene": "scene",
           "showlegend": true,
           "type": "scatter3d",
           "x": [
            55.84488513231
           ],
           "y": [
            45.657270137640005
           ],
           "z": [
            18.20606086419
           ]
          },
          {
           "hovertemplate": "name=Earth<br>index=0<br>x=%{x}<br>y=%{y}<br>z=%{z}<br>radius=%{marker.size}<extra></extra>",
           "ids": [
            "Earth"
           ],
           "legendgroup": "Earth",
           "marker": {
            "color": "green",
            "size": [
             8.759511722116487
            ],
            "sizemode": "area",
            "sizeref": 0.050903371511914326,
            "symbol": "circle"
           },
           "mode": "markers",
           "name": "Earth",
           "scene": "scene",
           "showlegend": true,
           "type": "scatter3d",
           "x": [
            -136.01438404044
           ],
           "y": [
            53.75051494251
           ],
           "z": [
            23.307348255060003
           ]
          }
         ],
         "name": "0"
        },
        {
         "data": [
          {
           "hovertemplate": "name=Sun<br>index=7<br>x=%{x}<br>y=%{y}<br>z=%{z}<br>radius=%{marker.size}<extra></extra>",
           "ids": [
            "Sun"
           ],
           "legendgroup": "Sun",
           "marker": {
            "color": "orange",
            "size": [
             20.36134860476573
            ],
            "sizemode": "area",
            "sizeref": 0.050903371511914326,
            "symbol": "circle"
           },
           "mode": "markers",
           "name": "Sun",
           "scene": "scene",
           "showlegend": true,
           "type": "scatter3d",
           "x": [
            0.0029795455389006313
           ],
           "y": [
            0.002736944651650392
           ],
           "z": [
            0.0010947503514489004
           ]
          },
          {
           "hovertemplate": "name=Mars<br>index=7<br>x=%{x}<br>y=%{y}<br>z=%{z}<br>radius=%{marker.size}<extra></extra>",
           "ids": [
            "Mars"
           ],
           "legendgroup": "Mars",
           "marker": {
            "color": "crimson",
            "size": [
             8.12843769687102
            ],
            "sizemode": "area",
            "sizeref": 0.050903371511914326,
            "symbol": "circle"
           },
           "mode": "markers",
           "name": "Mars",
           "scene": "scene",
           "showlegend": true,
           "type": "scatter3d",
           "x": [
            57.35843633915326
           ],
           "y": [
            40.23640949435805
           ],
           "z": [
            16.90620620509538
           ]
          },
          {
           "hovertemplate": "name=Mercury<br>index=7<br>x=%{x}<br>y=%{y}<br>z=%{z}<br>radius=%{marker.size}<extra></extra>",
           "ids": [
            "Mercury"
           ],
           "legendgroup": "Mercury",
           "marker": {
            "color": "cornflowerblue",
            "size": [
             7.7996303599085035
            ],
            "sizemode": "area",
            "sizeref": 0.050903371511914326,
            "symbol": "circle"
           },
           "mode": "markers",
           "name": "Mercury",
           "scene": "scene",
           "showlegend": true,
           "type": "scatter3d",
           "x": [
            -55.44239053064009
           ],
           "y": [
            4.995929800923401
           ],
           "z": [
            8.417185335719978
           ]
          },
          {
           "hovertemplate": "name=Neptune<br>index=7<br>x=%{x}<br>y=%{y}<br>z=%{z}<br>radius=%{marker.size}<extra></extra>",
           "ids": [
            "Neptune"
           ],
           "legendgroup": "Neptune",
           "marker": {
            "color": "cyan",
            "size": [
             10.15120663641638
            ],
            "sizemode": "area",
            "sizeref": 0.050903371511914326,
            "symbol": "circle"
           },
           "mode": "markers",
           "name": "Neptune",
           "scene": "scene",
           "showlegend": true,
           "type": "scatter3d",
           "x": [
            253.8373453108908
           ],
           "y": [
            -342.2532984957804
           ],
           "z": [
            -146.3908693130188
           ]
          },
          {
           "hovertemplate": "name=Saturn<br>index=7<br>x=%{x}<br>y=%{y}<br>z=%{z}<br>radius=%{marker.size}<extra></extra>",
           "ids": [
            "Saturn"
           ],
           "legendgroup": "Saturn",
           "marker": {
            "color": "khaki",
            "size": [
             10.972190310798094
            ],
            "sizemode": "area",
            "sizeref": 0.050903371511914326,
            "symbol": "circle"
           },
           "mode": "markers",
           "name": "Saturn",
           "scene": "scene",
           "showlegend": true,
           "type": "scatter3d",
           "x": [
            91.74767028140805
           ],
           "y": [
            95.6034782784691
           ],
           "z": [
            35.54627376089362
           ]
          },
          {
           "hovertemplate": "name=Uranus<br>index=7<br>x=%{x}<br>y=%{y}<br>z=%{z}<br>radius=%{marker.size}<extra></extra>",
           "ids": [
            "Uranus"
           ],
           "legendgroup": "Uranus",
           "marker": {
            "color": "lightcyan",
            "size": [
             10.141007269794844
            ],
            "sizemode": "area",
            "sizeref": 0.050903371511914326,
            "symbol": "circle"
           },
           "mode": "markers",
           "name": "Uranus",
           "scene": "scene",
           "showlegend": true,
           "type": "scatter3d",
           "x": [
            218.39079011746992
           ],
           "y": [
            -184.7918568059572
           ],
           "z": [
            -84.02360150110205
           ]
          },
          {
           "hovertemplate": "name=Jupiter<br>index=7<br>x=%{x}<br>y=%{y}<br>z=%{z}<br>radius=%{marker.size}<extra></extra>",
           "ids": [
            "Jupiter"
           ],
           "legendgroup": "Jupiter",
           "marker": {
            "color": "chocolate",
            "size": [
             11.154978283509006
            ],
            "sizemode": "area",
            "sizeref": 0.050903371511914326,
            "symbol": "circle"
           },
           "mode": "markers",
           "name": "Jupiter",
           "scene": "scene",
           "showlegend": true,
           "type": "scatter3d",
           "x": [
            55.30890204505596
           ],
           "y": [
            46.22989302168565
           ],
           "z": [
            18.46458051795403
           ]
          },
          {
           "hovertemplate": "name=Earth<br>index=7<br>x=%{x}<br>y=%{y}<br>z=%{z}<br>radius=%{marker.size}<extra></extra>",
           "ids": [
            "Earth"
           ],
           "legendgroup": "Earth",
           "marker": {
            "color": "green",
            "size": [
             8.759511722116487
            ],
            "sizemode": "area",
            "sizeref": 0.050903371511914326,
            "symbol": "circle"
           },
           "mode": "markers",
           "name": "Earth",
           "scene": "scene",
           "showlegend": true,
           "type": "scatter3d",
           "x": [
            -142.40311465780152
           ],
           "y": [
            38.14007104892567
           ],
           "z": [
            16.540965536626448
           ]
          }
         ],
         "name": "7"
        },
        {
         "data": [
          {
           "hovertemplate": "name=Sun<br>index=14<br>x=%{x}<br>y=%{y}<br>z=%{z}<br>radius=%{marker.size}<extra></extra>",
           "ids": [
            "Sun"
           ],
           "legendgroup": "Sun",
           "marker": {
            "color": "orange",
            "size": [
             20.36134860476573
            ],
            "sizemode": "area",
            "sizeref": 0.050903371511914326,
            "symbol": "circle"
           },
           "mode": "markers",
           "name": "Sun",
           "scene": "scene",
           "showlegend": true,
           "type": "scatter3d",
           "x": [
            0.011867212464054781
           ],
           "y": [
            0.010829142688839955
           ],
           "z": [
            0.004313233285742795
           ]
          },
          {
           "hovertemplate": "name=Mars<br>index=14<br>x=%{x}<br>y=%{y}<br>z=%{z}<br>radius=%{marker.size}<extra></extra>",
           "ids": [
            "Mars"
           ],
           "legendgroup": "Mars",
           "marker": {
            "color": "crimson",
            "size": [
             8.12843769687102
            ],
            "sizemode": "area",
            "sizeref": 0.050903371511914326,
            "symbol": "circle"
           },
           "mode": "markers",
           "name": "Mars",
           "scene": "scene",
           "showlegend": true,
           "type": "scatter3d",
           "x": [
            54.452803251863564
           ],
           "y": [
            44.02222945852996
           ],
           "z": [
            18.721646039395587
           ]
          },
          {
           "hovertemplate": "name=Mercury<br>index=14<br>x=%{x}<br>y=%{y}<br>z=%{z}<br>radius=%{marker.size}<extra></extra>",
           "ids": [
            "Mercury"
           ],
           "legendgroup": "Mercury",
           "marker": {
            "color": "cornflowerblue",
            "size": [
             7.7996303599085035
            ],
            "sizemode": "area",
            "sizeref": 0.050903371511914326,
            "symbol": "circle"
           },
           "mode": "markers",
           "name": "Mercury",
           "scene": "scene",
           "showlegend": true,
           "type": "scatter3d",
           "x": [
            -58.669426785041864
           ],
           "y": [
            -19.72343955348106
           ],
           "z": [
            -4.452230808482105
           ]
          },
          {
           "hovertemplate": "name=Neptune<br>index=14<br>x=%{x}<br>y=%{y}<br>z=%{z}<br>radius=%{marker.size}<extra></extra>",
           "ids": [
            "Neptune"
           ],
           "legendgroup": "Neptune",
           "marker": {
            "color": "cyan",
            "size": [
             10.15120663641638
            ],
            "sizemode": "area",
            "sizeref": 0.050903371511914326,
            "symbol": "circle"
           },
           "mode": "markers",
           "name": "Neptune",
           "scene": "scene",
           "showlegend": true,
           "type": "scatter3d",
           "x": [
            254.10616493396407
           ],
           "y": [
            -342.076889012683
           ],
           "z": [
            -146.3253453905571
           ]
          },
          {
           "hovertemplate": "name=Saturn<br>index=14<br>x=%{x}<br>y=%{y}<br>z=%{z}<br>radius=%{marker.size}<extra></extra>",
           "ids": [
            "Saturn"
           ],
           "legendgroup": "Saturn",
           "marker": {
            "color": "khaki",
            "size": [
             10.972190310798094
            ],
            "sizemode": "area",
            "sizeref": 0.050903371511914326,
            "symbol": "circle"
           },
           "mode": "markers",
           "name": "Saturn",
           "scene": "scene",
           "showlegend": true,
           "type": "scatter3d",
           "x": [
            91.28148160188272
           ],
           "y": [
            95.95618597262258
           ],
           "z": [
            35.71197972572271
           ]
          },
          {
           "hovertemplate": "name=Uranus<br>index=14<br>x=%{x}<br>y=%{y}<br>z=%{z}<br>radius=%{marker.size}<extra></extra>",
           "ids": [
            "Uranus"
           ],
           "legendgroup": "Uranus",
           "marker": {
            "color": "lightcyan",
            "size": [
             10.141007269794844
            ],
            "sizemode": "area",
            "sizeref": 0.050903371511914326,
            "symbol": "circle"
           },
           "mode": "markers",
           "name": "Uranus",
           "scene": "scene",
           "showlegend": true,
           "type": "scatter3d",
           "x": [
            218.66748448771136
           ],
           "y": [
            -184.53080870580865
           ],
           "z": [
            -83.91320645059503
           ]
          },
          {
           "hovertemplate": "name=Jupiter<br>index=14<br>x=%{x}<br>y=%{y}<br>z=%{z}<br>radius=%{marker.size}<extra></extra>",
           "ids": [
            "Jupiter"
           ],
           "legendgroup": "Jupiter",
           "marker": {
            "color": "chocolate",
            "size": [
             11.154978283509006
            ],
            "sizemode": "area",
            "sizeref": 0.050903371511914326,
            "symbol": "circle"
           },
           "mode": "markers",
           "name": "Jupiter",
           "scene": "scene",
           "showlegend": true,
           "type": "scatter3d",
           "x": [
            54.766404594185964
           ],
           "y": [
            46.797071867810466
           ],
           "z": [
            18.72092563802036
           ]
          },
          {
           "hovertemplate": "name=Earth<br>index=14<br>x=%{x}<br>y=%{y}<br>z=%{z}<br>radius=%{marker.size}<extra></extra>",
           "ids": [
            "Earth"
           ],
           "legendgroup": "Earth",
           "marker": {
            "color": "green",
            "size": [
             8.759511722116487
            ],
            "sizemode": "area",
            "sizeref": 0.050903371511914326,
            "symbol": "circle"
           },
           "mode": "markers",
           "name": "Earth",
           "scene": "scene",
           "showlegend": true,
           "type": "scatter3d",
           "x": [
            -146.67695228509783
           ],
           "y": [
            21.96302325912585
           ],
           "z": [
            9.528850916498738
           ]
          }
         ],
         "name": "14"
        },
        {
         "data": [
          {
           "hovertemplate": "name=Sun<br>index=21<br>x=%{x}<br>y=%{y}<br>z=%{z}<br>radius=%{marker.size}<extra></extra>",
           "ids": [
            "Sun"
           ],
           "legendgroup": "Sun",
           "marker": {
            "color": "orange",
            "size": [
             20.36134860476573
            ],
            "sizemode": "area",
            "sizeref": 0.050903371511914326,
            "symbol": "circle"
           },
           "mode": "markers",
           "name": "Sun",
           "scene": "scene",
           "showlegend": true,
           "type": "scatter3d",
           "x": [
            0.0266413602263311
           ],
           "y": [
            0.02410046015973277
           ],
           "z": [
            0.009554306010181014
           ]
          },
          {
           "hovertemplate": "name=Mars<br>index=21<br>x=%{x}<br>y=%{y}<br>z=%{z}<br>radius=%{marker.size}<extra></extra>",
           "ids": [
            "Mars"
           ],
           "legendgroup": "Mars",
           "marker": {
            "color": "crimson",
            "size": [
             8.12843769687102
            ],
            "sizemode": "area",
            "sizeref": 0.050903371511914326,
            "symbol": "circle"
           },
           "mode": "markers",
           "name": "Mars",
           "scene": "scene",
           "showlegend": true,
           "type": "scatter3d",
           "x": [
            51.29016167576581
           ],
           "y": [
            47.60035574693171
           ],
           "z": [
            20.448759811328582
           ]
          },
          {
           "hovertemplate": "name=Mercury<br>index=21<br>x=%{x}<br>y=%{y}<br>z=%{z}<br>radius=%{marker.size}<extra></extra>",
           "ids": [
            "Mercury"
           ],
           "legendgroup": "Mercury",
           "marker": {
            "color": "cornflowerblue",
            "size": [
             7.7996303599085035
            ],
            "sizemode": "area",
            "sizeref": 0.050903371511914326,
            "symbol": "circle"
           },
           "mode": "markers",
           "name": "Mercury",
           "scene": "scene",
           "showlegend": true,
           "type": "scatter3d",
           "x": [
            -50.00898106302939
           ],
           "y": [
            -40.6523167777222
           ],
           "z": [
            -16.52949475906392
           ]
          },
          {
           "hovertemplate": "name=Neptune<br>index=21<br>x=%{x}<br>y=%{y}<br>z=%{z}<br>radius=%{marker.size}<extra></extra>",
           "ids": [
            "Neptune"
           ],
           "legendgroup": "Neptune",
           "marker": {
            "color": "cyan",
            "size": [
             10.15120663641638
            ],
            "sizemode": "area",
            "sizeref": 0.050903371511914326,
            "symbol": "circle"
           },
           "mode": "markers",
           "name": "Neptune",
           "scene": "scene",
           "showlegend": true,
           "type": "scatter3d",
           "x": [
            254.37484955974912
           ],
           "y": [
            -341.900297672968
           ],
           "z": [
            -146.25974368109758
           ]
          },
          {
           "hovertemplate": "name=Saturn<br>index=21<br>x=%{x}<br>y=%{y}<br>z=%{z}<br>radius=%{marker.size}<extra></extra>",
           "ids": [
            "Saturn"
           ],
           "legendgroup": "Saturn",
           "marker": {
            "color": "khaki",
            "size": [
             10.972190310798094
            ],
            "sizemode": "area",
            "sizeref": 0.050903371511914326,
            "symbol": "circle"
           },
           "mode": "markers",
           "name": "Saturn",
           "scene": "scene",
           "showlegend": true,
           "type": "scatter3d",
           "x": [
            90.81356935179295
           ],
           "y": [
            96.3070798466932
           ],
           "z": [
            35.87701087595228
           ]
          },
          {
           "hovertemplate": "name=Uranus<br>index=21<br>x=%{x}<br>y=%{y}<br>z=%{z}<br>radius=%{marker.size}<extra></extra>",
           "ids": [
            "Uranus"
           ],
           "legendgroup": "Uranus",
           "marker": {
            "color": "lightcyan",
            "size": [
             10.141007269794844
            ],
            "sizemode": "area",
            "sizeref": 0.050903371511914326,
            "symbol": "circle"
           },
           "mode": "markers",
           "name": "Uranus",
           "scene": "scene",
           "showlegend": true,
           "type": "scatter3d",
           "x": [
            218.94377812548566
           ],
           "y": [
            -184.26942227021127
           ],
           "z": [
            -83.80265754896571
           ]
          },
          {
           "hovertemplate": "name=Jupiter<br>index=21<br>x=%{x}<br>y=%{y}<br>z=%{z}<br>radius=%{marker.size}<extra></extra>",
           "ids": [
            "Jupiter"
           ],
           "legendgroup": "Jupiter",
           "marker": {
            "color": "chocolate",
            "size": [
             11.154978283509006
            ],
            "sizemode": "area",
            "sizeref": 0.050903371511914326,
            "symbol": "circle"
           },
           "mode": "markers",
           "name": "Jupiter",
           "scene": "scene",
           "showlegend": true,
           "type": "scatter3d",
           "x": [
            54.21746121716496
           ],
           "y": [
            47.35874370856209
           ],
           "z": [
            18.97506756382237
           ]
          },
          {
           "hovertemplate": "name=Earth<br>index=21<br>x=%{x}<br>y=%{y}<br>z=%{z}<br>radius=%{marker.size}<extra></extra>",
           "ids": [
            "Earth"
           ],
           "legendgroup": "Earth",
           "marker": {
            "color": "green",
            "size": [
             8.759511722116487
            ],
            "sizemode": "area",
            "sizeref": 0.050903371511914326,
            "symbol": "circle"
           },
           "mode": "markers",
           "name": "Earth",
           "scene": "scene",
           "showlegend": true,
           "type": "scatter3d",
           "x": [
            -148.78425488932018
           ],
           "y": [
            5.4613835645828965
           ],
           "z": [
            2.37590777944652
           ]
          }
         ],
         "name": "21"
        },
        {
         "data": [
          {
           "hovertemplate": "name=Sun<br>index=28<br>x=%{x}<br>y=%{y}<br>z=%{z}<br>radius=%{marker.size}<extra></extra>",
           "ids": [
            "Sun"
           ],
           "legendgroup": "Sun",
           "marker": {
            "color": "orange",
            "size": [
             20.36134860476573
            ],
            "sizemode": "area",
            "sizeref": 0.050903371511914326,
            "symbol": "circle"
           },
           "mode": "markers",
           "name": "Sun",
           "scene": "scene",
           "showlegend": true,
           "type": "scatter3d",
           "x": [
            0.04732230315440952
           ],
           "y": [
            0.04231978287541257
           ],
           "z": [
            0.016684692935553497
           ]
          },
          {
           "hovertemplate": "name=Mars<br>index=28<br>x=%{x}<br>y=%{y}<br>z=%{z}<br>radius=%{marker.size}<extra></extra>",
           "ids": [
            "Mars"
           ],
           "legendgroup": "Mars",
           "marker": {
            "color": "crimson",
            "size": [
             8.12843769687102
            ],
            "sizemode": "area",
            "sizeref": 0.050903371511914326,
            "symbol": "circle"
           },
           "mode": "markers",
           "name": "Mars",
           "scene": "scene",
           "showlegend": true,
           "type": "scatter3d",
           "x": [
            47.88959199717594
           ],
           "y": [
            50.95775399363091
           ],
           "z": [
            22.081051337442076
           ]
          },
          {
           "hovertemplate": "name=Mercury<br>index=28<br>x=%{x}<br>y=%{y}<br>z=%{z}<br>radius=%{marker.size}<extra></extra>",
           "ids": [
            "Mercury"
           ],
           "legendgroup": "Mercury",
           "marker": {
            "color": "cornflowerblue",
            "size": [
             7.7996303599085035
            ],
            "sizemode": "area",
            "sizeref": 0.050903371511914326,
            "symbol": "circle"
           },
           "mode": "markers",
           "name": "Mercury",
           "scene": "scene",
           "showlegend": true,
           "type": "scatter3d",
           "x": [
            -33.08030190411444
           ],
           "y": [
            -54.98747500330035
           ],
           "z": [
            -25.941979304678426
           ]
          },
          {
           "hovertemplate": "name=Neptune<br>index=28<br>x=%{x}<br>y=%{y}<br>z=%{z}<br>radius=%{marker.size}<extra></extra>",
           "ids": [
            "Neptune"
           ],
           "legendgroup": "Neptune",
           "marker": {
            "color": "cyan",
            "size": [
             10.15120663641638
            ],
            "sizemode": "area",
            "sizeref": 0.050903371511914326,
            "symbol": "circle"
           },
           "mode": "markers",
           "name": "Neptune",
           "scene": "scene",
           "showlegend": true,
           "type": "scatter3d",
           "x": [
            254.64339904234066
           ],
           "y": [
            -341.72352456669097
           ],
           "z": [
            -146.1940642178638
           ]
          },
          {
           "hovertemplate": "name=Saturn<br>index=28<br>x=%{x}<br>y=%{y}<br>z=%{z}<br>radius=%{marker.size}<extra></extra>",
           "ids": [
            "Saturn"
           ],
           "legendgroup": "Saturn",
           "marker": {
            "color": "khaki",
            "size": [
             10.972190310798094
            ],
            "sizemode": "area",
            "sizeref": 0.050903371511914326,
            "symbol": "circle"
           },
           "mode": "markers",
           "name": "Saturn",
           "scene": "scene",
           "showlegend": true,
           "type": "scatter3d",
           "x": [
            90.34394146628792
           ],
           "y": [
            96.65615242318552
           ],
           "z": [
            36.04136378408878
           ]
          },
          {
           "hovertemplate": "name=Uranus<br>index=28<br>x=%{x}<br>y=%{y}<br>z=%{z}<br>radius=%{marker.size}<extra></extra>",
           "ids": [
            "Uranus"
           ],
           "legendgroup": "Uranus",
           "marker": {
            "color": "lightcyan",
            "size": [
             10.141007269794844
            ],
            "sizemode": "area",
            "sizeref": 0.050903371511914326,
            "symbol": "circle"
           },
           "mode": "markers",
           "name": "Uranus",
           "scene": "scene",
           "showlegend": true,
           "type": "scatter3d",
           "x": [
            219.21967056569838
           ],
           "y": [
            -184.00769801434174
           ],
           "z": [
            -83.69195501521533
           ]
          },
          {
           "hovertemplate": "name=Jupiter<br>index=28<br>x=%{x}<br>y=%{y}<br>z=%{z}<br>radius=%{marker.size}<extra></extra>",
           "ids": [
            "Jupiter"
           ],
           "legendgroup": "Jupiter",
           "marker": {
            "color": "chocolate",
            "size": [
             11.154978283509006
            ],
            "sizemode": "area",
            "sizeref": 0.050903371511914326,
            "symbol": "circle"
           },
           "mode": "markers",
           "name": "Jupiter",
           "scene": "scene",
           "showlegend": true,
           "type": "scatter3d",
           "x": [
            53.66214111581625
           ],
           "y": [
            47.91484640042382
           ],
           "z": [
            19.226977969349186
           ]
          },
          {
           "hovertemplate": "name=Earth<br>index=28<br>x=%{x}<br>y=%{y}<br>z=%{z}<br>radius=%{marker.size}<extra></extra>",
           "ids": [
            "Earth"
           ],
           "legendgroup": "Earth",
           "marker": {
            "color": "green",
            "size": [
             8.759511722116487
            ],
            "sizemode": "area",
            "sizeref": 0.050903371511914326,
            "symbol": "circle"
           },
           "mode": "markers",
           "name": "Earth",
           "scene": "scene",
           "showlegend": true,
           "type": "scatter3d",
           "x": [
            -148.7064569619362
           ],
           "y": [
            -11.120654592421895
           ],
           "z": [
            -4.81201301450484
           ]
          }
         ],
         "name": "28"
        },
        {
         "data": [
          {
           "hovertemplate": "name=Sun<br>index=35<br>x=%{x}<br>y=%{y}<br>z=%{z}<br>radius=%{marker.size}<extra></extra>",
           "ids": [
            "Sun"
           ],
           "legendgroup": "Sun",
           "marker": {
            "color": "orange",
            "size": [
             20.36134860476573
            ],
            "sizemode": "area",
            "sizeref": 0.050903371511914326,
            "symbol": "circle"
           },
           "mode": "markers",
           "name": "Sun",
           "scene": "scene",
           "showlegend": true,
           "type": "scatter3d",
           "x": [
            0.07400988979291745
           ],
           "y": [
            0.06497426571521815
           ],
           "z": [
            0.025405293655932745
           ]
          },
          {
           "hovertemplate": "name=Mars<br>index=35<br>x=%{x}<br>y=%{y}<br>z=%{z}<br>radius=%{marker.size}<extra></extra>",
           "ids": [
            "Mars"
           ],
           "legendgroup": "Mars",
           "marker": {
            "color": "crimson",
            "size": [
             8.12843769687102
            ],
            "sizemode": "area",
            "sizeref": 0.050903371511914326,
            "symbol": "circle"
           },
           "mode": "markers",
           "name": "Mars",
           "scene": "scene",
           "showlegend": true,
           "type": "scatter3d",
           "x": [
            44.27075822142055
           ],
           "y": [
            54.08298712802067
           ],
           "z": [
            23.612741424018605
           ]
          },
          {
           "hovertemplate": "name=Mercury<br>index=35<br>x=%{x}<br>y=%{y}<br>z=%{z}<br>radius=%{marker.size}<extra></extra>",
           "ids": [
            "Mercury"
           ],
           "legendgroup": "Mercury",
           "marker": {
            "color": "cornflowerblue",
            "size": [
             7.7996303599085035
            ],
            "sizemode": "area",
            "sizeref": 0.050903371511914326,
            "symbol": "circle"
           },
           "mode": "markers",
           "name": "Mercury",
           "scene": "scene",
           "showlegend": true,
           "type": "scatter3d",
           "x": [
            -11.294816802857076
           ],
           "y": [
            -61.32682826738712
           ],
           "z": [
            -31.587034017802843
           ]
          },
          {
           "hovertemplate": "name=Neptune<br>index=35<br>x=%{x}<br>y=%{y}<br>z=%{z}<br>radius=%{marker.size}<extra></extra>",
           "ids": [
            "Neptune"
           ],
           "legendgroup": "Neptune",
           "marker": {
            "color": "cyan",
            "size": [
             10.15120663641638
            ],
            "sizemode": "area",
            "sizeref": 0.050903371511914326,
            "symbol": "circle"
           },
           "mode": "markers",
           "name": "Neptune",
           "scene": "scene",
           "showlegend": true,
           "type": "scatter3d",
           "x": [
            254.91181323589907
           ],
           "y": [
            -341.5465697840026
           ],
           "z": [
            -146.12830703411984
           ]
          },
          {
           "hovertemplate": "name=Saturn<br>index=35<br>x=%{x}<br>y=%{y}<br>z=%{z}<br>radius=%{marker.size}<extra></extra>",
           "ids": [
            "Saturn"
           ],
           "legendgroup": "Saturn",
           "marker": {
            "color": "khaki",
            "size": [
             10.972190310798094
            ],
            "sizemode": "area",
            "sizeref": 0.050903371511914326,
            "symbol": "circle"
           },
           "mode": "markers",
           "name": "Saturn",
           "scene": "scene",
           "showlegend": true,
           "type": "scatter3d",
           "x": [
            89.87260592471709
           ],
           "y": [
            97.00339625784044
           ],
           "z": [
            36.20503503434238
           ]
          },
          {
           "hovertemplate": "name=Uranus<br>index=35<br>x=%{x}<br>y=%{y}<br>z=%{z}<br>radius=%{marker.size}<extra></extra>",
           "ids": [
            "Uranus"
           ],
           "legendgroup": "Uranus",
           "marker": {
            "color": "lightcyan",
            "size": [
             10.141007269794844
            ],
            "sizemode": "area",
            "sizeref": 0.050903371511914326,
            "symbol": "circle"
           },
           "mode": "markers",
           "name": "Uranus",
           "scene": "scene",
           "showlegend": true,
           "type": "scatter3d",
           "x": [
            219.495161344
           ],
           "y": [
            -183.74563645379564
           ],
           "z": [
            -83.58109906853946
           ]
          },
          {
           "hovertemplate": "name=Jupiter<br>index=35<br>x=%{x}<br>y=%{y}<br>z=%{z}<br>radius=%{marker.size}<extra></extra>",
           "ids": [
            "Jupiter"
           ],
           "legendgroup": "Jupiter",
           "marker": {
            "color": "chocolate",
            "size": [
             11.154978283509006
            ],
            "sizemode": "area",
            "sizeref": 0.050903371511914326,
            "symbol": "circle"
           },
           "mode": "markers",
           "name": "Jupiter",
           "scene": "scene",
           "showlegend": true,
           "type": "scatter3d",
           "x": [
            53.10051424280838
           ],
           "y": [
            48.46531863190293
           ],
           "z": [
            19.476628866942065
           ]
          },
          {
           "hovertemplate": "name=Earth<br>index=35<br>x=%{x}<br>y=%{y}<br>z=%{z}<br>radius=%{marker.size}<extra></extra>",
           "ids": [
            "Earth"
           ],
           "legendgroup": "Earth",
           "marker": {
            "color": "green",
            "size": [
             8.759511722116487
            ],
            "sizemode": "area",
            "sizeref": 0.050903371511914326,
            "symbol": "circle"
           },
           "mode": "markers",
           "name": "Earth",
           "scene": "scene",
           "showlegend": true,
           "type": "scatter3d",
           "x": [
            -146.45761627839687
           ],
           "y": [
            -27.540535754120164
           ],
           "z": [
            -11.929768776299445
           ]
          }
         ],
         "name": "35"
        },
        {
         "data": [
          {
           "hovertemplate": "name=Sun<br>index=42<br>x=%{x}<br>y=%{y}<br>z=%{z}<br>radius=%{marker.size}<extra></extra>",
           "ids": [
            "Sun"
           ],
           "legendgroup": "Sun",
           "marker": {
            "color": "orange",
            "size": [
             20.36134860476573
            ],
            "sizemode": "area",
            "sizeref": 0.050903371511914326,
            "symbol": "circle"
           },
           "mode": "markers",
           "name": "Sun",
           "scene": "scene",
           "showlegend": true,
           "type": "scatter3d",
           "x": [
            0.1268109660576099
           ],
           "y": [
            0.10798950260018096
           ],
           "z": [
            0.030038096406704
           ]
          },
          {
           "hovertemplate": "name=Mars<br>index=42<br>x=%{x}<br>y=%{y}<br>z=%{z}<br>radius=%{marker.size}<extra></extra>",
           "ids": [
            "Mars"
           ],
           "legendgroup": "Mars",
           "marker": {
            "color": "crimson",
            "size": [
             8.12843769687102
            ],
            "sizemode": "area",
            "sizeref": 0.050903371511914326,
            "symbol": "circle"
           },
           "mode": "markers",
           "name": "Mars",
           "scene": "scene",
           "showlegend": true,
           "type": "scatter3d",
           "x": [
            40.45373810643843
           ],
           "y": [
            56.96618900677119
           ],
           "z": [
            25.038760367437305
           ]
          },
          {
           "hovertemplate": "name=Mercury<br>index=42<br>x=%{x}<br>y=%{y}<br>z=%{z}<br>radius=%{marker.size}<extra></extra>",
           "ids": [
            "Mercury"
           ],
           "legendgroup": "Mercury",
           "marker": {
            "color": "cornflowerblue",
            "size": [
             7.7996303599085035
            ],
            "sizemode": "area",
            "sizeref": 0.050903371511914326,
            "symbol": "circle"
           },
           "mode": "markers",
           "name": "Mercury",
           "scene": "scene",
           "showlegend": true,
           "type": "scatter3d",
           "x": [
            12.081061805064651
           ],
           "y": [
            -58.988700856755756
           ],
           "z": [
            -32.761858898168335
           ]
          },
          {
           "hovertemplate": "name=Neptune<br>index=42<br>x=%{x}<br>y=%{y}<br>z=%{z}<br>radius=%{marker.size}<extra></extra>",
           "ids": [
            "Neptune"
           ],
           "legendgroup": "Neptune",
           "marker": {
            "color": "cyan",
            "size": [
             10.15120663641638
            ],
            "sizemode": "area",
            "sizeref": 0.050903371511914326,
            "symbol": "circle"
           },
           "mode": "markers",
           "name": "Neptune",
           "scene": "scene",
           "showlegend": true,
           "type": "scatter3d",
           "x": [
            255.1800919946499
           ],
           "y": [
            -341.36943341514905
           ],
           "z": [
            -146.06247216317044
           ]
          },
          {
           "hovertemplate": "name=Saturn<br>index=42<br>x=%{x}<br>y=%{y}<br>z=%{z}<br>radius=%{marker.size}<extra></extra>",
           "ids": [
            "Saturn"
           ],
           "legendgroup": "Saturn",
           "marker": {
            "color": "khaki",
            "size": [
             10.972190310798094
            ],
            "sizemode": "area",
            "sizeref": 0.050903371511914326,
            "symbol": "circle"
           },
           "mode": "markers",
           "name": "Saturn",
           "scene": "scene",
           "showlegend": true,
           "type": "scatter3d",
           "x": [
            89.39957075056894
           ],
           "y": [
            97.34880393990849
           ],
           "z": [
            36.36802122274024
           ]
          },
          {
           "hovertemplate": "name=Uranus<br>index=42<br>x=%{x}<br>y=%{y}<br>z=%{z}<br>radius=%{marker.size}<extra></extra>",
           "ids": [
            "Uranus"
           ],
           "legendgroup": "Uranus",
           "marker": {
            "color": "lightcyan",
            "size": [
             10.141007269794844
            ],
            "sizemode": "area",
            "sizeref": 0.050903371511914326,
            "symbol": "circle"
           },
           "mode": "markers",
           "name": "Uranus",
           "scene": "scene",
           "showlegend": true,
           "type": "scatter3d",
           "x": [
            219.77024999678636
           ],
           "y": [
            -183.48323810458703
           ],
           "z": [
            -83.47008992832751
           ]
          },
          {
           "hovertemplate": "name=Jupiter<br>index=42<br>x=%{x}<br>y=%{y}<br>z=%{z}<br>radius=%{marker.size}<extra></extra>",
           "ids": [
            "Jupiter"
           ],
           "legendgroup": "Jupiter",
           "marker": {
            "color": "chocolate",
            "size": [
             11.154978283509006
            ],
            "sizemode": "area",
            "sizeref": 0.050903371511914326,
            "symbol": "circle"
           },
           "mode": "markers",
           "name": "Jupiter",
           "scene": "scene",
           "showlegend": true,
           "type": "scatter3d",
           "x": [
            52.53265128802227
           ],
           "y": [
            49.01009993140365
           ],
           "z": [
            19.723992611006086
           ]
          },
          {
           "hovertemplate": "name=Earth<br>index=42<br>x=%{x}<br>y=%{y}<br>z=%{z}<br>radius=%{marker.size}<extra></extra>",
           "ids": [
            "Earth"
           ],
           "legendgroup": "Earth",
           "marker": {
            "color": "green",
            "size": [
             8.759511722116487
            ],
            "sizemode": "area",
            "sizeref": 0.050903371511914326,
            "symbol": "circle"
           },
           "mode": "markers",
           "name": "Earth",
           "scene": "scene",
           "showlegend": true,
           "type": "scatter3d",
           "x": [
            -142.08344445925894
           ],
           "y": [
            -43.56096771842485
           ],
           "z": [
            -18.874496339783192
           ]
          }
         ],
         "name": "42"
        },
        {
         "data": [
          {
           "hovertemplate": "name=Sun<br>index=49<br>x=%{x}<br>y=%{y}<br>z=%{z}<br>radius=%{marker.size}<extra></extra>",
           "ids": [
            "Sun"
           ],
           "legendgroup": "Sun",
           "marker": {
            "color": "orange",
            "size": [
             20.36134860476573
            ],
            "sizemode": "area",
            "sizeref": 0.050903371511914326,
            "symbol": "circle"
           },
           "mode": "markers",
           "name": "Sun",
           "scene": "scene",
           "showlegend": true,
           "type": "scatter3d",
           "x": [
            0.2555618150189926
           ],
           "y": [
            0.2239344299163051
           ],
           "z": [
            0.022225951117792922
           ]
          },
          {
           "hovertemplate": "name=Mars<br>index=49<br>x=%{x}<br>y=%{y}<br>z=%{z}<br>radius=%{marker.size}<extra></extra>",
           "ids": [
            "Mars"
           ],
           "legendgroup": "Mars",
           "marker": {
            "color": "crimson",
            "size": [
             8.12843769687102
            ],
            "sizemode": "area",
            "sizeref": 0.050903371511914326,
            "symbol": "circle"
           },
           "mode": "markers",
           "name": "Mars",
           "scene": "scene",
           "showlegend": true,
           "type": "scatter3d",
           "x": [
            36.45886665048363
           ],
           "y": [
            59.59902364762937
           ],
           "z": [
            26.354733266735703
           ]
          },
          {
           "hovertemplate": "name=Mercury<br>index=49<br>x=%{x}<br>y=%{y}<br>z=%{z}<br>radius=%{marker.size}<extra></extra>",
           "ids": [
            "Mercury"
           ],
           "legendgroup": "Mercury",
           "marker": {
            "color": "cornflowerblue",
            "size": [
             7.7996303599085035
            ],
            "sizemode": "area",
            "sizeref": 0.050903371511914326,
            "symbol": "circle"
           },
           "mode": "markers",
           "name": "Mercury",
           "scene": "scene",
           "showlegend": true,
           "type": "scatter3d",
           "x": [
            33.58551020631866
           ],
           "y": [
            -47.81565779519416
           ],
           "z": [
            -29.023442434101444
           ]
          },
          {
           "hovertemplate": "name=Neptune<br>index=49<br>x=%{x}<br>y=%{y}<br>z=%{z}<br>radius=%{marker.size}<extra></extra>",
           "ids": [
            "Neptune"
           ],
           "legendgroup": "Neptune",
           "marker": {
            "color": "cyan",
            "size": [
             10.15120663641638
            ],
            "sizemode": "area",
            "sizeref": 0.050903371511914326,
            "symbol": "circle"
           },
           "mode": "markers",
           "name": "Neptune",
           "scene": "scene",
           "showlegend": true,
           "type": "scatter3d",
           "x": [
            255.4482351728846
           ],
           "y": [
            -341.19211555047605
           ],
           "z": [
            -145.9965596383617
           ]
          },
          {
           "hovertemplate": "name=Saturn<br>index=49<br>x=%{x}<br>y=%{y}<br>z=%{z}<br>radius=%{marker.size}<extra></extra>",
           "ids": [
            "Saturn"
           ],
           "legendgroup": "Saturn",
           "marker": {
            "color": "khaki",
            "size": [
             10.972190310798094
            ],
            "sizemode": "area",
            "sizeref": 0.050903371511914326,
            "symbol": "circle"
           },
           "mode": "markers",
           "name": "Saturn",
           "scene": "scene",
           "showlegend": true,
           "type": "scatter3d",
           "x": [
            88.9248440112983
           ],
           "y": [
            97.692368092235
           ],
           "z": [
            36.53031895702086
           ]
          },
          {
           "hovertemplate": "name=Uranus<br>index=49<br>x=%{x}<br>y=%{y}<br>z=%{z}<br>radius=%{marker.size}<extra></extra>",
           "ids": [
            "Uranus"
           ],
           "legendgroup": "Uranus",
           "marker": {
            "color": "lightcyan",
            "size": [
             10.141007269794844
            ],
            "sizemode": "area",
            "sizeref": 0.050903371511914326,
            "symbol": "circle"
           },
           "mode": "markers",
           "name": "Uranus",
           "scene": "scene",
           "showlegend": true,
           "type": "scatter3d",
           "x": [
            220.04493606121147
           ],
           "y": [
            -183.22050348315824
           ],
           "z": [
            -83.35892781416771
           ]
          },
          {
           "hovertemplate": "name=Jupiter<br>index=49<br>x=%{x}<br>y=%{y}<br>z=%{z}<br>radius=%{marker.size}<extra></extra>",
           "ids": [
            "Jupiter"
           ],
           "legendgroup": "Jupiter",
           "marker": {
            "color": "chocolate",
            "size": [
             11.154978283509006
            ],
            "sizemode": "area",
            "sizeref": 0.050903371511914326,
            "symbol": "circle"
           },
           "mode": "markers",
           "name": "Jupiter",
           "scene": "scene",
           "showlegend": true,
           "type": "scatter3d",
           "x": [
            51.95862366310024
           ],
           "y": [
            49.54913067307198
           ],
           "z": [
            19.969041899576826
           ]
          },
          {
           "hovertemplate": "name=Earth<br>index=49<br>x=%{x}<br>y=%{y}<br>z=%{z}<br>radius=%{marker.size}<extra></extra>",
           "ids": [
            "Earth"
           ],
           "legendgroup": "Earth",
           "marker": {
            "color": "green",
            "size": [
             8.759511722116487
            ],
            "sizemode": "area",
            "sizeref": 0.050903371511914326,
            "symbol": "circle"
           },
           "mode": "markers",
           "name": "Earth",
           "scene": "scene",
           "showlegend": true,
           "type": "scatter3d",
           "x": [
            -135.65989250916684
           ],
           "y": [
            -58.95330165580373
           ],
           "z": [
            -25.54707850133969
           ]
          }
         ],
         "name": "49"
        },
        {
         "data": [
          {
           "hovertemplate": "name=Sun<br>index=56<br>x=%{x}<br>y=%{y}<br>z=%{z}<br>radius=%{marker.size}<extra></extra>",
           "ids": [
            "Sun"
           ],
           "legendgroup": "Sun",
           "marker": {
            "color": "orange",
            "size": [
             20.36134860476573
            ],
            "sizemode": "area",
            "sizeref": 0.050903371511914326,
            "symbol": "circle"
           },
           "mode": "markers",
           "name": "Sun",
           "scene": "scene",
           "showlegend": true,
           "type": "scatter3d",
           "x": [
            0.3901448824718173
           ],
           "y": [
            0.3455529505825166
           ],
           "z": [
            0.016654540253150364
           ]
          },
          {
           "hovertemplate": "name=Mars<br>index=56<br>x=%{x}<br>y=%{y}<br>z=%{z}<br>radius=%{marker.size}<extra></extra>",
           "ids": [
            "Mars"
           ],
           "legendgroup": "Mars",
           "marker": {
            "color": "crimson",
            "size": [
             8.12843769687102
            ],
            "sizemode": "area",
            "sizeref": 0.050903371511914326,
            "symbol": "circle"
           },
           "mode": "markers",
           "name": "Mars",
           "scene": "scene",
           "showlegend": true,
           "type": "scatter3d",
           "x": [
            32.306593901189146
           ],
           "y": [
            61.97463261074883
           ],
           "z": [
            27.556959436913782
           ]
          },
          {
           "hovertemplate": "name=Mercury<br>index=56<br>x=%{x}<br>y=%{y}<br>z=%{z}<br>radius=%{marker.size}<extra></extra>",
           "ids": [
            "Mercury"
           ],
           "legendgroup": "Mercury",
           "marker": {
            "color": "cornflowerblue",
            "size": [
             7.7996303599085035
            ],
            "sizemode": "area",
            "sizeref": 0.050903371511914326,
            "symbol": "circle"
           },
           "mode": "markers",
           "name": "Mercury",
           "scene": "scene",
           "showlegend": true,
           "type": "scatter3d",
           "x": [
            49.13713141303349
           ],
           "y": [
            -28.40427373396446
           ],
           "z": [
            -20.26735668888954
           ]
          },
          {
           "hovertemplate": "name=Neptune<br>index=56<br>x=%{x}<br>y=%{y}<br>z=%{z}<br>radius=%{marker.size}<extra></extra>",
           "ids": [
            "Neptune"
           ],
           "legendgroup": "Neptune",
           "marker": {
            "color": "cyan",
            "size": [
             10.15120663641638
            ],
            "sizemode": "area",
            "sizeref": 0.050903371511914326,
            "symbol": "circle"
           },
           "mode": "markers",
           "name": "Neptune",
           "scene": "scene",
           "showlegend": true,
           "type": "scatter3d",
           "x": [
            255.7162426249793
           ],
           "y": [
            -341.0146162804354
           ],
           "z": [
            -145.93056949308908
           ]
          },
          {
           "hovertemplate": "name=Saturn<br>index=56<br>x=%{x}<br>y=%{y}<br>z=%{z}<br>radius=%{marker.size}<extra></extra>",
           "ids": [
            "Saturn"
           ],
           "legendgroup": "Saturn",
           "marker": {
            "color": "khaki",
            "size": [
             10.972190310798094
            ],
            "sizemode": "area",
            "sizeref": 0.050903371511914326,
            "symbol": "circle"
           },
           "mode": "markers",
           "name": "Saturn",
           "scene": "scene",
           "showlegend": true,
           "type": "scatter3d",
           "x": [
            88.44843381733715
           ],
           "y": [
            98.03408137029336
           ],
           "z": [
            36.69192485576537
           ]
          },
          {
           "hovertemplate": "name=Uranus<br>index=56<br>x=%{x}<br>y=%{y}<br>z=%{z}<br>radius=%{marker.size}<extra></extra>",
           "ids": [
            "Uranus"
           ],
           "legendgroup": "Uranus",
           "marker": {
            "color": "lightcyan",
            "size": [
             10.141007269794844
            ],
            "sizemode": "area",
            "sizeref": 0.050903371511914326,
            "symbol": "circle"
           },
           "mode": "markers",
           "name": "Uranus",
           "scene": "scene",
           "showlegend": true,
           "type": "scatter3d",
           "x": [
            220.31921907526367
           ],
           "y": [
            -182.95743310633944
           ],
           "z": [
            -83.24761294586725
           ]
          },
          {
           "hovertemplate": "name=Jupiter<br>index=56<br>x=%{x}<br>y=%{y}<br>z=%{z}<br>radius=%{marker.size}<extra></extra>",
           "ids": [
            "Jupiter"
           ],
           "legendgroup": "Jupiter",
           "marker": {
            "color": "chocolate",
            "size": [
             11.154978283509006
            ],
            "sizemode": "area",
            "sizeref": 0.050903371511914326,
            "symbol": "circle"
           },
           "mode": "markers",
           "name": "Jupiter",
           "scene": "scene",
           "showlegend": true,
           "type": "scatter3d",
           "x": [
            51.37850348016614
           ],
           "y": [
            50.08235207646999
           ],
           "z": [
            20.21174977157758
           ]
          },
          {
           "hovertemplate": "name=Earth<br>index=56<br>x=%{x}<br>y=%{y}<br>z=%{z}<br>radius=%{marker.size}<extra></extra>",
           "ids": [
            "Earth"
           ],
           "legendgroup": "Earth",
           "marker": {
            "color": "green",
            "size": [
             8.759511722116487
            ],
            "sizemode": "area",
            "sizeref": 0.050903371511914326,
            "symbol": "circle"
           },
           "mode": "markers",
           "name": "Earth",
           "scene": "scene",
           "showlegend": true,
           "type": "scatter3d",
           "x": [
            -127.29134268353071
           ],
           "y": [
            -73.50062326949686
           ],
           "z": [
            -31.853491288372364
           ]
          }
         ],
         "name": "56"
        },
        {
         "data": [
          {
           "hovertemplate": "name=Sun<br>index=63<br>x=%{x}<br>y=%{y}<br>z=%{z}<br>radius=%{marker.size}<extra></extra>",
           "ids": [
            "Sun"
           ],
           "legendgroup": "Sun",
           "marker": {
            "color": "orange",
            "size": [
             20.36134860476573
            ],
            "sizemode": "area",
            "sizeref": 0.050903371511914326,
            "symbol": "circle"
           },
           "mode": "markers",
           "name": "Sun",
           "scene": "scene",
           "showlegend": true,
           "type": "scatter3d",
           "x": [
            0.5306138196181959
           ],
           "y": [
            0.4728808950693163
           ],
           "z": [
            0.013331677733415133
           ]
          },
          {
           "hovertemplate": "name=Mars<br>index=63<br>x=%{x}<br>y=%{y}<br>z=%{z}<br>radius=%{marker.size}<extra></extra>",
           "ids": [
            "Mars"
           ],
           "legendgroup": "Mars",
           "marker": {
            "color": "crimson",
            "size": [
             8.12843769687102
            ],
            "sizemode": "area",
            "sizeref": 0.050903371511914326,
            "symbol": "circle"
           },
           "mode": "markers",
           "name": "Mars",
           "scene": "scene",
           "showlegend": true,
           "type": "scatter3d",
           "x": [
            28.017358524325775
           ],
           "y": [
            64.08757579097183
           ],
           "z": [
            28.64238915798129
           ]
          },
          {
           "hovertemplate": "name=Mercury<br>index=63<br>x=%{x}<br>y=%{y}<br>z=%{z}<br>radius=%{marker.size}<extra></extra>",
           "ids": [
            "Mercury"
           ],
           "legendgroup": "Mercury",
           "marker": {
            "color": "cornflowerblue",
            "size": [
             7.7996303599085035
            ],
            "sizemode": "area",
            "sizeref": 0.050903371511914326,
            "symbol": "circle"
           },
           "mode": "markers",
           "name": "Mercury",
           "scene": "scene",
           "showlegend": true,
           "type": "scatter3d",
           "x": [
            53.74584324386572
           ],
           "y": [
            -2.961587636508121
           ],
           "z": [
            -7.155228028074396
           ]
          },
          {
           "hovertemplate": "name=Neptune<br>index=63<br>x=%{x}<br>y=%{y}<br>z=%{z}<br>radius=%{marker.size}<extra></extra>",
           "ids": [
            "Neptune"
           ],
           "legendgroup": "Neptune",
           "marker": {
            "color": "cyan",
            "size": [
             10.15120663641638
            ],
            "sizemode": "area",
            "sizeref": 0.050903371511914326,
            "symbol": "circle"
           },
           "mode": "markers",
           "name": "Neptune",
           "scene": "scene",
           "showlegend": true,
           "type": "scatter3d",
           "x": [
            255.98411420540376
           ],
           "y": [
            -340.83693569557823
           ],
           "z": [
            -145.8645017607997
           ]
          },
          {
           "hovertemplate": "name=Saturn<br>index=63<br>x=%{x}<br>y=%{y}<br>z=%{z}<br>radius=%{marker.size}<extra></extra>",
           "ids": [
            "Saturn"
           ],
           "legendgroup": "Saturn",
           "marker": {
            "color": "khaki",
            "size": [
             10.972190310798094
            ],
            "sizemode": "area",
            "sizeref": 0.050903371511914326,
            "symbol": "circle"
           },
           "mode": "markers",
           "name": "Saturn",
           "scene": "scene",
           "showlegend": true,
           "type": "scatter3d",
           "x": [
            87.97034832237784
           ],
           "y": [
            98.37393646295905
           ],
           "z": [
            36.85283554913394
           ]
          },
          {
           "hovertemplate": "name=Uranus<br>index=63<br>x=%{x}<br>y=%{y}<br>z=%{z}<br>radius=%{marker.size}<extra></extra>",
           "ids": [
            "Uranus"
           ],
           "legendgroup": "Uranus",
           "marker": {
            "color": "lightcyan",
            "size": [
             10.141007269794844
            ],
            "sizemode": "area",
            "sizeref": 0.050903371511914326,
            "symbol": "circle"
           },
           "mode": "markers",
           "name": "Uranus",
           "scene": "scene",
           "showlegend": true,
           "type": "scatter3d",
           "x": [
            220.59309857774196
           ],
           "y": [
            -182.69402749130163
           ],
           "z": [
            -83.13614554344073
           ]
          },
          {
           "hovertemplate": "name=Jupiter<br>index=63<br>x=%{x}<br>y=%{y}<br>z=%{z}<br>radius=%{marker.size}<extra></extra>",
           "ids": [
            "Jupiter"
           ],
           "legendgroup": "Jupiter",
           "marker": {
            "color": "chocolate",
            "size": [
             11.154978283509006
            ],
            "sizemode": "area",
            "sizeref": 0.050903371511914326,
            "symbol": "circle"
           },
           "mode": "markers",
           "name": "Jupiter",
           "scene": "scene",
           "showlegend": true,
           "type": "scatter3d",
           "x": [
            50.79236354345832
           ],
           "y": [
            50.60970621881011
           ],
           "z": [
            20.45208961588378
           ]
          },
          {
           "hovertemplate": "name=Earth<br>index=63<br>x=%{x}<br>y=%{y}<br>z=%{z}<br>radius=%{marker.size}<extra></extra>",
           "ids": [
            "Earth"
           ],
           "legendgroup": "Earth",
           "marker": {
            "color": "green",
            "size": [
             8.759511722116487
            ],
            "sizemode": "area",
            "sizeref": 0.050903371511914326,
            "symbol": "circle"
           },
           "mode": "markers",
           "name": "Earth",
           "scene": "scene",
           "showlegend": true,
           "type": "scatter3d",
           "x": [
            -117.10844485131089
           ],
           "y": [
            -87.00053331738793
           ],
           "z": [
            -37.70600002274196
           ]
          }
         ],
         "name": "63"
        },
        {
         "data": [
          {
           "hovertemplate": "name=Sun<br>index=70<br>x=%{x}<br>y=%{y}<br>z=%{z}<br>radius=%{marker.size}<extra></extra>",
           "ids": [
            "Sun"
           ],
           "legendgroup": "Sun",
           "marker": {
            "color": "orange",
            "size": [
             20.36134860476573
            ],
            "sizemode": "area",
            "sizeref": 0.050903371511914326,
            "symbol": "circle"
           },
           "mode": "markers",
           "name": "Sun",
           "scene": "scene",
           "showlegend": true,
           "type": "scatter3d",
           "x": [
            0.6770264584579054
           ],
           "y": [
            0.6060063841441856
           ],
           "z": [
            0.012296531856276037
           ]
          },
          {
           "hovertemplate": "name=Mars<br>index=70<br>x=%{x}<br>y=%{y}<br>z=%{z}<br>radius=%{marker.size}<extra></extra>",
           "ids": [
            "Mars"
           ],
           "legendgroup": "Mars",
           "marker": {
            "color": "crimson",
            "size": [
             8.12843769687102
            ],
            "sizemode": "area",
            "sizeref": 0.050903371511914326,
            "symbol": "circle"
           },
           "mode": "markers",
           "name": "Mars",
           "scene": "scene",
           "showlegend": true,
           "type": "scatter3d",
           "x": [
            23.611475415418965
           ],
           "y": [
            65.93376484685615
           ],
           "z": [
            29.608596244580532
           ]
          },
          {
           "hovertemplate": "name=Mercury<br>index=70<br>x=%{x}<br>y=%{y}<br>z=%{z}<br>radius=%{marker.size}<extra></extra>",
           "ids": [
            "Mercury"
           ],
           "legendgroup": "Mercury",
           "marker": {
            "color": "cornflowerblue",
            "size": [
             7.7996303599085035
            ],
            "sizemode": "area",
            "sizeref": 0.050903371511914326,
            "symbol": "circle"
           },
           "mode": "markers",
           "name": "Mercury",
           "scene": "scene",
           "showlegend": true,
           "type": "scatter3d",
           "x": [
            42.35327266118469
           ],
           "y": [
            22.93725976749136
           ],
           "z": [
            7.859293542370502
           ]
          },
          {
           "hovertemplate": "name=Neptune<br>index=70<br>x=%{x}<br>y=%{y}<br>z=%{z}<br>radius=%{marker.size}<extra></extra>",
           "ids": [
            "Neptune"
           ],
           "legendgroup": "Neptune",
           "marker": {
            "color": "cyan",
            "size": [
             10.15120663641638
            ],
            "sizemode": "area",
            "sizeref": 0.050903371511914326,
            "symbol": "circle"
           },
           "mode": "markers",
           "name": "Neptune",
           "scene": "scene",
           "showlegend": true,
           "type": "scatter3d",
           "x": [
            256.2518497687135
           ],
           "y": [
            -340.6590738865419
           ],
           "z": [
            -145.79835647498726
           ]
          },
          {
           "hovertemplate": "name=Saturn<br>index=70<br>x=%{x}<br>y=%{y}<br>z=%{z}<br>radius=%{marker.size}<extra></extra>",
           "ids": [
            "Saturn"
           ],
           "legendgroup": "Saturn",
           "marker": {
            "color": "khaki",
            "size": [
             10.972190310798094
            ],
            "sizemode": "area",
            "sizeref": 0.050903371511914326,
            "symbol": "circle"
           },
           "mode": "markers",
           "name": "Saturn",
           "scene": "scene",
           "showlegend": true,
           "type": "scatter3d",
           "x": [
            87.4905957238121
           ],
           "y": [
            98.71192609339653
           ],
           "z": [
            37.01304767943889
           ]
          },
          {
           "hovertemplate": "name=Uranus<br>index=70<br>x=%{x}<br>y=%{y}<br>z=%{z}<br>radius=%{marker.size}<extra></extra>",
           "ids": [
            "Uranus"
           ],
           "legendgroup": "Uranus",
           "marker": {
            "color": "lightcyan",
            "size": [
             10.141007269794844
            ],
            "sizemode": "area",
            "sizeref": 0.050903371511914326,
            "symbol": "circle"
           },
           "mode": "markers",
           "name": "Uranus",
           "scene": "scene",
           "showlegend": true,
           "type": "scatter3d",
           "x": [
            220.8665741081917
           ],
           "y": [
            -182.430287155564
           ],
           "z": [
            -83.02452582709009
           ]
          },
          {
           "hovertemplate": "name=Jupiter<br>index=70<br>x=%{x}<br>y=%{y}<br>z=%{z}<br>radius=%{marker.size}<extra></extra>",
           "ids": [
            "Jupiter"
           ],
           "legendgroup": "Jupiter",
           "marker": {
            "color": "chocolate",
            "size": [
             11.154978283509006
            ],
            "sizemode": "area",
            "sizeref": 0.050903371511914326,
            "symbol": "circle"
           },
           "mode": "markers",
           "name": "Jupiter",
           "scene": "scene",
           "showlegend": true,
           "type": "scatter3d",
           "x": [
            50.20027733897069
           ],
           "y": [
            51.13113604534515
           ],
           "z": [
            20.690035177000066
           ]
          },
          {
           "hovertemplate": "name=Earth<br>index=70<br>x=%{x}<br>y=%{y}<br>z=%{z}<br>radius=%{marker.size}<extra></extra>",
           "ids": [
            "Earth"
           ],
           "legendgroup": "Earth",
           "marker": {
            "color": "green",
            "size": [
             8.759511722116487
            ],
            "sizemode": "area",
            "sizeref": 0.050903371511914326,
            "symbol": "circle"
           },
           "mode": "markers",
           "name": "Earth",
           "scene": "scene",
           "showlegend": true,
           "type": "scatter3d",
           "x": [
            -105.2657092285714
           ],
           "y": [
            -99.26758999074583
           ],
           "z": [
            -43.02421890603826
           ]
          }
         ],
         "name": "70"
        },
        {
         "data": [
          {
           "hovertemplate": "name=Sun<br>index=77<br>x=%{x}<br>y=%{y}<br>z=%{z}<br>radius=%{marker.size}<extra></extra>",
           "ids": [
            "Sun"
           ],
           "legendgroup": "Sun",
           "marker": {
            "color": "orange",
            "size": [
             20.36134860476573
            ],
            "sizemode": "area",
            "sizeref": 0.050903371511914326,
            "symbol": "circle"
           },
           "mode": "markers",
           "name": "Sun",
           "scene": "scene",
           "showlegend": true,
           "type": "scatter3d",
           "x": [
            0.8293807546991354
           ],
           "y": [
            0.7450964353130808
           ],
           "z": [
            0.013637134864454368
           ]
          },
          {
           "hovertemplate": "name=Mars<br>index=77<br>x=%{x}<br>y=%{y}<br>z=%{z}<br>radius=%{marker.size}<extra></extra>",
           "ids": [
            "Mars"
           ],
           "legendgroup": "Mars",
           "marker": {
            "color": "crimson",
            "size": [
             8.12843769687102
            ],
            "sizemode": "area",
            "sizeref": 0.050903371511914326,
            "symbol": "circle"
           },
           "mode": "markers",
           "name": "Mars",
           "scene": "scene",
           "showlegend": true,
           "type": "scatter3d",
           "x": [
            19.10903741327744
           ],
           "y": [
            67.51039185044858
           ],
           "z": [
            30.453747971924233
           ]
          },
          {
           "hovertemplate": "name=Mercury<br>index=77<br>x=%{x}<br>y=%{y}<br>z=%{z}<br>radius=%{marker.size}<extra></extra>",
           "ids": [
            "Mercury"
           ],
           "legendgroup": "Mercury",
           "marker": {
            "color": "cornflowerblue",
            "size": [
             7.7996303599085035
            ],
            "sizemode": "area",
            "sizeref": 0.050903371511914326,
            "symbol": "circle"
           },
           "mode": "markers",
           "name": "Mercury",
           "scene": "scene",
           "showlegend": true,
           "type": "scatter3d",
           "x": [
            14.313885181058051
           ],
           "y": [
            39.242406557109994
           ],
           "z": [
            19.47489860212788
           ]
          },
          {
           "hovertemplate": "name=Neptune<br>index=77<br>x=%{x}<br>y=%{y}<br>z=%{z}<br>radius=%{marker.size}<extra></extra>",
           "ids": [
            "Neptune"
           ],
           "legendgroup": "Neptune",
           "marker": {
            "color": "cyan",
            "size": [
             10.15120663641638
            ],
            "sizemode": "area",
            "sizeref": 0.050903371511914326,
            "symbol": "circle"
           },
           "mode": "markers",
           "name": "Neptune",
           "scene": "scene",
           "showlegend": true,
           "type": "scatter3d",
           "x": [
            256.5194491695396
           ],
           "y": [
            -340.48103094404485
           ],
           "z": [
            -145.73213366918765
           ]
          },
          {
           "hovertemplate": "name=Saturn<br>index=77<br>x=%{x}<br>y=%{y}<br>z=%{z}<br>radius=%{marker.size}<extra></extra>",
           "ids": [
            "Saturn"
           ],
           "legendgroup": "Saturn",
           "marker": {
            "color": "khaki",
            "size": [
             10.972190310798094
            ],
            "sizemode": "area",
            "sizeref": 0.050903371511914326,
            "symbol": "circle"
           },
           "mode": "markers",
           "name": "Saturn",
           "scene": "scene",
           "showlegend": true,
           "type": "scatter3d",
           "x": [
            87.00918426279706
           ],
           "y": [
            99.04804301946437
           ],
           "z": [
            37.17255790131568
           ]
          },
          {
           "hovertemplate": "name=Uranus<br>index=77<br>x=%{x}<br>y=%{y}<br>z=%{z}<br>radius=%{marker.size}<extra></extra>",
           "ids": [
            "Uranus"
           ],
           "legendgroup": "Uranus",
           "marker": {
            "color": "lightcyan",
            "size": [
             10.141007269794844
            ],
            "sizemode": "area",
            "sizeref": 0.050903371511914326,
            "symbol": "circle"
           },
           "mode": "markers",
           "name": "Uranus",
           "scene": "scene",
           "showlegend": true,
           "type": "scatter3d",
           "x": [
            221.13964520688302
           ],
           "y": [
            -182.16621261701988
           ],
           "z": [
            -82.91275401719935
           ]
          },
          {
           "hovertemplate": "name=Jupiter<br>index=77<br>x=%{x}<br>y=%{y}<br>z=%{z}<br>radius=%{marker.size}<extra></extra>",
           "ids": [
            "Jupiter"
           ],
           "legendgroup": "Jupiter",
           "marker": {
            "color": "chocolate",
            "size": [
             11.154978283509006
            ],
            "sizemode": "area",
            "sizeref": 0.050903371511914326,
            "symbol": "circle"
           },
           "mode": "markers",
           "name": "Jupiter",
           "scene": "scene",
           "showlegend": true,
           "type": "scatter3d",
           "x": [
            49.602319020844774
           ],
           "y": [
            51.64658537655848
           ],
           "z": [
            20.925560558408105
           ]
          },
          {
           "hovertemplate": "name=Earth<br>index=77<br>x=%{x}<br>y=%{y}<br>z=%{z}<br>radius=%{marker.size}<extra></extra>",
           "ids": [
            "Earth"
           ],
           "legendgroup": "Earth",
           "marker": {
            "color": "green",
            "size": [
             8.759511722116487
            ],
            "sizemode": "area",
            "sizeref": 0.050903371511914326,
            "symbol": "circle"
           },
           "mode": "markers",
           "name": "Earth",
           "scene": "scene",
           "showlegend": true,
           "type": "scatter3d",
           "x": [
            -91.93889748738808
           ],
           "y": [
            -110.13541633284376
           ],
           "z": [
            -47.73602464732001
           ]
          }
         ],
         "name": "77"
        },
        {
         "data": [
          {
           "hovertemplate": "name=Sun<br>index=84<br>x=%{x}<br>y=%{y}<br>z=%{z}<br>radius=%{marker.size}<extra></extra>",
           "ids": [
            "Sun"
           ],
           "legendgroup": "Sun",
           "marker": {
            "color": "orange",
            "size": [
             20.36134860476573
            ],
            "sizemode": "area",
            "sizeref": 0.050903371511914326,
            "symbol": "circle"
           },
           "mode": "markers",
           "name": "Sun",
           "scene": "scene",
           "showlegend": true,
           "type": "scatter3d",
           "x": [
            0.9875067754233013
           ],
           "y": [
            0.8903129005639944
           ],
           "z": [
            0.017456272733859888
           ]
          },
          {
           "hovertemplate": "name=Mars<br>index=84<br>x=%{x}<br>y=%{y}<br>z=%{z}<br>radius=%{marker.size}<extra></extra>",
           "ids": [
            "Mars"
           ],
           "legendgroup": "Mars",
           "marker": {
            "color": "crimson",
            "size": [
             8.12843769687102
            ],
            "sizemode": "area",
            "sizeref": 0.050903371511914326,
            "symbol": "circle"
           },
           "mode": "markers",
           "name": "Mars",
           "scene": "scene",
           "showlegend": true,
           "type": "scatter3d",
           "x": [
            14.529830682150363
           ],
           "y": [
            68.8158552899829
           ],
           "z": [
            31.176573418819448
           ]
          },
          {
           "hovertemplate": "name=Mercury<br>index=84<br>x=%{x}<br>y=%{y}<br>z=%{z}<br>radius=%{marker.size}<extra></extra>",
           "ids": [
            "Mercury"
           ],
           "legendgroup": "Mercury",
           "marker": {
            "color": "cornflowerblue",
            "size": [
             7.7996303599085035
            ],
            "sizemode": "area",
            "sizeref": 0.050903371511914326,
            "symbol": "circle"
           },
           "mode": "markers",
           "name": "Mercury",
           "scene": "scene",
           "showlegend": true,
           "type": "scatter3d",
           "x": [
            -20.30497578114208
           ],
           "y": [
            37.24354231676793
           ],
           "z": [
            21.995288675957852
           ]
          },
          {
           "hovertemplate": "name=Neptune<br>index=84<br>x=%{x}<br>y=%{y}<br>z=%{z}<br>radius=%{marker.size}<extra></extra>",
           "ids": [
            "Neptune"
           ],
           "legendgroup": "Neptune",
           "marker": {
            "color": "cyan",
            "size": [
             10.15120663641638
            ],
            "sizemode": "area",
            "sizeref": 0.050903371511914326,
            "symbol": "circle"
           },
           "mode": "markers",
           "name": "Neptune",
           "scene": "scene",
           "showlegend": true,
           "type": "scatter3d",
           "x": [
            256.7869122625811
           ],
           "y": [
            -340.3028069588871
           ],
           "z": [
            -145.66583337697594
           ]
          },
          {
           "hovertemplate": "name=Saturn<br>index=84<br>x=%{x}<br>y=%{y}<br>z=%{z}<br>radius=%{marker.size}<extra></extra>",
           "ids": [
            "Saturn"
           ],
           "legendgroup": "Saturn",
           "marker": {
            "color": "khaki",
            "size": [
             10.972190310798094
            ],
            "sizemode": "area",
            "sizeref": 0.050903371511914326,
            "symbol": "circle"
           },
           "mode": "markers",
           "name": "Saturn",
           "scene": "scene",
           "showlegend": true,
           "type": "scatter3d",
           "x": [
            86.52612222423015
           ],
           "y": [
            99.38228003401395
           ],
           "z": [
            37.331362881840015
           ]
          },
          {
           "hovertemplate": "name=Uranus<br>index=84<br>x=%{x}<br>y=%{y}<br>z=%{z}<br>radius=%{marker.size}<extra></extra>",
           "ids": [
            "Uranus"
           ],
           "legendgroup": "Uranus",
           "marker": {
            "color": "lightcyan",
            "size": [
             10.141007269794844
            ],
            "sizemode": "area",
            "sizeref": 0.050903371511914326,
            "symbol": "circle"
           },
           "mode": "markers",
           "name": "Uranus",
           "scene": "scene",
           "showlegend": true,
           "type": "scatter3d",
           "x": [
            221.41231141481026
           ],
           "y": [
            -181.90180439395613
           ],
           "z": [
            -82.80083033433569
           ]
          },
          {
           "hovertemplate": "name=Jupiter<br>index=84<br>x=%{x}<br>y=%{y}<br>z=%{z}<br>radius=%{marker.size}<extra></extra>",
           "ids": [
            "Jupiter"
           ],
           "legendgroup": "Jupiter",
           "marker": {
            "color": "chocolate",
            "size": [
             11.154978283509006
            ],
            "sizemode": "area",
            "sizeref": 0.050903371511914326,
            "symbol": "circle"
           },
           "mode": "markers",
           "name": "Jupiter",
           "scene": "scene",
           "showlegend": true,
           "type": "scatter3d",
           "x": [
            48.998563397324716
           ],
           "y": [
            52.15599891477736
           ],
           "z": [
            21.15864022571174
           ]
          },
          {
           "hovertemplate": "name=Earth<br>index=84<br>x=%{x}<br>y=%{y}<br>z=%{z}<br>radius=%{marker.size}<extra></extra>",
           "ids": [
            "Earth"
           ],
           "legendgroup": "Earth",
           "marker": {
            "color": "green",
            "size": [
             8.759511722116487
            ],
            "sizemode": "area",
            "sizeref": 0.050903371511914326,
            "symbol": "circle"
           },
           "mode": "markers",
           "name": "Earth",
           "scene": "scene",
           "showlegend": true,
           "type": "scatter3d",
           "x": [
            -77.3222653922581
           ],
           "y": [
            -119.45847553324573
           ],
           "z": [
            -51.7783260846994
           ]
          }
         ],
         "name": "84"
        },
        {
         "data": [
          {
           "hovertemplate": "name=Sun<br>index=91<br>x=%{x}<br>y=%{y}<br>z=%{z}<br>radius=%{marker.size}<extra></extra>",
           "ids": [
            "Sun"
           ],
           "legendgroup": "Sun",
           "marker": {
            "color": "orange",
            "size": [
             20.36134860476573
            ],
            "sizemode": "area",
            "sizeref": 0.050903371511914326,
            "symbol": "circle"
           },
           "mode": "markers",
           "name": "Sun",
           "scene": "scene",
           "showlegend": true,
           "type": "scatter3d",
           "x": [
            1.1511466341188272
           ],
           "y": [
            1.0416476760246116
           ],
           "z": [
            0.02377497817046826
           ]
          },
          {
           "hovertemplate": "name=Mars<br>index=91<br>x=%{x}<br>y=%{y}<br>z=%{z}<br>radius=%{marker.size}<extra></extra>",
           "ids": [
            "Mars"
           ],
           "legendgroup": "Mars",
           "marker": {
            "color": "crimson",
            "size": [
             8.12843769687102
            ],
            "sizemode": "area",
            "sizeref": 0.050903371511914326,
            "symbol": "circle"
           },
           "mode": "markers",
           "name": "Mars",
           "scene": "scene",
           "showlegend": true,
           "type": "scatter3d",
           "x": [
            9.89326294742471
           ],
           "y": [
            69.84968499701614
           ],
           "z": [
            31.776330968146688
           ]
          },
          {
           "hovertemplate": "name=Mercury<br>index=91<br>x=%{x}<br>y=%{y}<br>z=%{z}<br>radius=%{marker.size}<extra></extra>",
           "ids": [
            "Mercury"
           ],
           "legendgroup": "Mercury",
           "marker": {
            "color": "cornflowerblue",
            "size": [
             7.7996303599085035
            ],
            "sizemode": "area",
            "sizeref": 0.050903371511914326,
            "symbol": "circle"
           },
           "mode": "markers",
           "name": "Mercury",
           "scene": "scene",
           "showlegend": true,
           "type": "scatter3d",
           "x": [
            -46.79521189215041
           ],
           "y": [
            19.27614319375964
           ],
           "z": [
            15.143302789629024
           ]
          },
          {
           "hovertemplate": "name=Neptune<br>index=91<br>x=%{x}<br>y=%{y}<br>z=%{z}<br>radius=%{marker.size}<extra></extra>",
           "ids": [
            "Neptune"
           ],
           "legendgroup": "Neptune",
           "marker": {
            "color": "cyan",
            "size": [
             10.15120663641638
            ],
            "sizemode": "area",
            "sizeref": 0.050903371511914326,
            "symbol": "circle"
           },
           "mode": "markers",
           "name": "Neptune",
           "scene": "scene",
           "showlegend": true,
           "type": "scatter3d",
           "x": [
            257.0542389026009
           ],
           "y": [
            -340.1244020219543
           ],
           "z": [
            -145.59945563196533
           ]
          },
          {
           "hovertemplate": "name=Saturn<br>index=91<br>x=%{x}<br>y=%{y}<br>z=%{z}<br>radius=%{marker.size}<extra></extra>",
           "ids": [
            "Saturn"
           ],
           "legendgroup": "Saturn",
           "marker": {
            "color": "khaki",
            "size": [
             10.972190310798094
            ],
            "sizemode": "area",
            "sizeref": 0.050903371511914326,
            "symbol": "circle"
           },
           "mode": "markers",
           "name": "Saturn",
           "scene": "scene",
           "showlegend": true,
           "type": "scatter3d",
           "x": [
            86.0414179366927
           ],
           "y": [
            99.71462996515154
           ],
           "z": [
            37.48945930063292
           ]
          },
          {
           "hovertemplate": "name=Uranus<br>index=91<br>x=%{x}<br>y=%{y}<br>z=%{z}<br>radius=%{marker.size}<extra></extra>",
           "ids": [
            "Uranus"
           ],
           "legendgroup": "Uranus",
           "marker": {
            "color": "lightcyan",
            "size": [
             10.141007269794844
            ],
            "sizemode": "area",
            "sizeref": 0.050903371511914326,
            "symbol": "circle"
           },
           "mode": "markers",
           "name": "Uranus",
           "scene": "scene",
           "showlegend": true,
           "type": "scatter3d",
           "x": [
            221.68457227369794
           ],
           "y": [
            -181.63706300506283
           ],
           "z": [
            -82.68875499925146
           ]
          },
          {
           "hovertemplate": "name=Jupiter<br>index=91<br>x=%{x}<br>y=%{y}<br>z=%{z}<br>radius=%{marker.size}<extra></extra>",
           "ids": [
            "Jupiter"
           ],
           "legendgroup": "Jupiter",
           "marker": {
            "color": "chocolate",
            "size": [
             11.154978283509006
            ],
            "sizemode": "area",
            "sizeref": 0.050903371511914326,
            "symbol": "circle"
           },
           "mode": "markers",
           "name": "Jupiter",
           "scene": "scene",
           "showlegend": true,
           "type": "scatter3d",
           "x": [
            48.38908591654871
           ],
           "y": [
            52.65932225045887
           ],
           "z": [
            21.389249009664212
           ]
          },
          {
           "hovertemplate": "name=Earth<br>index=91<br>x=%{x}<br>y=%{y}<br>z=%{z}<br>radius=%{marker.size}<extra></extra>",
           "ids": [
            "Earth"
           ],
           "legendgroup": "Earth",
           "marker": {
            "color": "green",
            "size": [
             8.759511722116487
            ],
            "sizemode": "area",
            "sizeref": 0.050903371511914326,
            "symbol": "circle"
           },
           "mode": "markers",
           "name": "Earth",
           "scene": "scene",
           "showlegend": true,
           "type": "scatter3d",
           "x": [
            -61.625703667484444
           ],
           "y": [
            -127.1135236834931
           ],
           "z": [
            -55.09769400506098
           ]
          }
         ],
         "name": "91"
        },
        {
         "data": [
          {
           "hovertemplate": "name=Sun<br>index=98<br>x=%{x}<br>y=%{y}<br>z=%{z}<br>radius=%{marker.size}<extra></extra>",
           "ids": [
            "Sun"
           ],
           "legendgroup": "Sun",
           "marker": {
            "color": "orange",
            "size": [
             20.36134860476573
            ],
            "sizemode": "area",
            "sizeref": 0.050903371511914326,
            "symbol": "circle"
           },
           "mode": "markers",
           "name": "Sun",
           "scene": "scene",
           "showlegend": true,
           "type": "scatter3d",
           "x": [
            1.3201694854089812
           ],
           "y": [
            1.198971139843358
           ],
           "z": [
            0.03253596970154707
           ]
          },
          {
           "hovertemplate": "name=Mars<br>index=98<br>x=%{x}<br>y=%{y}<br>z=%{z}<br>radius=%{marker.size}<extra></extra>",
           "ids": [
            "Mars"
           ],
           "legendgroup": "Mars",
           "marker": {
            "color": "crimson",
            "size": [
             8.12843769687102
            ],
            "sizemode": "area",
            "sizeref": 0.050903371511914326,
            "symbol": "circle"
           },
           "mode": "markers",
           "name": "Mars",
           "scene": "scene",
           "showlegend": true,
           "type": "scatter3d",
           "x": [
            5.218303614829677
           ],
           "y": [
            70.6124673108286
           ],
           "z": [
            32.252775594791295
           ]
          },
          {
           "hovertemplate": "name=Mercury<br>index=98<br>x=%{x}<br>y=%{y}<br>z=%{z}<br>radius=%{marker.size}<extra></extra>",
           "ids": [
            "Mercury"
           ],
           "legendgroup": "Mercury",
           "marker": {
            "color": "cornflowerblue",
            "size": [
             7.7996303599085035
            ],
            "sizemode": "area",
            "sizeref": 0.050903371511914326,
            "symbol": "circle"
           },
           "mode": "markers",
           "name": "Mercury",
           "scene": "scene",
           "showlegend": true,
           "type": "scatter3d",
           "x": [
            -58.51869520196427
           ],
           "y": [
            -5.295231303821717
           ],
           "z": [
            3.23298289357658
           ]
          },
          {
           "hovertemplate": "name=Neptune<br>index=98<br>x=%{x}<br>y=%{y}<br>z=%{z}<br>radius=%{marker.size}<extra></extra>",
           "ids": [
            "Neptune"
           ],
           "legendgroup": "Neptune",
           "marker": {
            "color": "cyan",
            "size": [
             10.15120663641638
            ],
            "sizemode": "area",
            "sizeref": 0.050903371511914326,
            "symbol": "circle"
           },
           "mode": "markers",
           "name": "Neptune",
           "scene": "scene",
           "showlegend": true,
           "type": "scatter3d",
           "x": [
            257.3214289444245
           ],
           "y": [
            -339.94581622422055
           ],
           "z": [
            -145.5330004678071
           ]
          },
          {
           "hovertemplate": "name=Saturn<br>index=98<br>x=%{x}<br>y=%{y}<br>z=%{z}<br>radius=%{marker.size}<extra></extra>",
           "ids": [
            "Saturn"
           ],
           "legendgroup": "Saturn",
           "marker": {
            "color": "khaki",
            "size": [
             10.972190310798094
            ],
            "sizemode": "area",
            "sizeref": 0.050903371511914326,
            "symbol": "circle"
           },
           "mode": "markers",
           "name": "Saturn",
           "scene": "scene",
           "showlegend": true,
           "type": "scatter3d",
           "x": [
            85.55507977237767
           ],
           "y": [
            100.04508567648608
           ],
           "z": [
            37.646843849962295
           ]
          },
          {
           "hovertemplate": "name=Uranus<br>index=98<br>x=%{x}<br>y=%{y}<br>z=%{z}<br>radius=%{marker.size}<extra></extra>",
           "ids": [
            "Uranus"
           ],
           "legendgroup": "Uranus",
           "marker": {
            "color": "lightcyan",
            "size": [
             10.141007269794844
            ],
            "sizemode": "area",
            "sizeref": 0.050903371511914326,
            "symbol": "circle"
           },
           "mode": "markers",
           "name": "Uranus",
           "scene": "scene",
           "showlegend": true,
           "type": "scatter3d",
           "x": [
            221.9564273260065
           ],
           "y": [
            -181.3719889694374
           ],
           "z": [
            -82.57652823288598
           ]
          },
          {
           "hovertemplate": "name=Jupiter<br>index=98<br>x=%{x}<br>y=%{y}<br>z=%{z}<br>radius=%{marker.size}<extra></extra>",
           "ids": [
            "Jupiter"
           ],
           "legendgroup": "Jupiter",
           "marker": {
            "color": "chocolate",
            "size": [
             11.154978283509006
            ],
            "sizemode": "area",
            "sizeref": 0.050903371511914326,
            "symbol": "circle"
           },
           "mode": "markers",
           "name": "Jupiter",
           "scene": "scene",
           "showlegend": true,
           "type": "scatter3d",
           "x": [
            47.77396265222108
           ],
           "y": [
            53.156501868220225
           ],
           "z": [
            21.61736210909876
           ]
          },
          {
           "hovertemplate": "name=Earth<br>index=98<br>x=%{x}<br>y=%{y}<br>z=%{z}<br>radius=%{marker.size}<extra></extra>",
           "ids": [
            "Earth"
           ],
           "legendgroup": "Earth",
           "marker": {
            "color": "green",
            "size": [
             8.759511722116487
            ],
            "sizemode": "area",
            "sizeref": 0.050903371511914326,
            "symbol": "circle"
           },
           "mode": "markers",
           "name": "Earth",
           "scene": "scene",
           "showlegend": true,
           "type": "scatter3d",
           "x": [
            -45.07181656208508
           ],
           "y": [
            -133.0007538788656
           ],
           "z": [
            -57.650857184056285
           ]
          }
         ],
         "name": "98"
        },
        {
         "data": [
          {
           "hovertemplate": "name=Sun<br>index=105<br>x=%{x}<br>y=%{y}<br>z=%{z}<br>radius=%{marker.size}<extra></extra>",
           "ids": [
            "Sun"
           ],
           "legendgroup": "Sun",
           "marker": {
            "color": "orange",
            "size": [
             20.36134860476573
            ],
            "sizemode": "area",
            "sizeref": 0.050903371511914326,
            "symbol": "circle"
           },
           "mode": "markers",
           "name": "Sun",
           "scene": "scene",
           "showlegend": true,
           "type": "scatter3d",
           "x": [
            1.4945787668936368
           ],
           "y": [
            1.362182797264413
           ],
           "z": [
            0.04368324229437234
           ]
          },
          {
           "hovertemplate": "name=Mars<br>index=105<br>x=%{x}<br>y=%{y}<br>z=%{z}<br>radius=%{marker.size}<extra></extra>",
           "ids": [
            "Mars"
           ],
           "legendgroup": "Mars",
           "marker": {
            "color": "crimson",
            "size": [
             8.12843769687102
            ],
            "sizemode": "area",
            "sizeref": 0.050903371511914326,
            "symbol": "circle"
           },
           "mode": "markers",
           "name": "Mars",
           "scene": "scene",
           "showlegend": true,
           "type": "scatter3d",
           "x": [
            0.5234347276452741
           ],
           "y": [
            71.10577158899791
           ],
           "z": [
            32.60612647850376
           ]
          },
          {
           "hovertemplate": "name=Mercury<br>index=105<br>x=%{x}<br>y=%{y}<br>z=%{z}<br>radius=%{marker.size}<extra></extra>",
           "ids": [
            "Mercury"
           ],
           "legendgroup": "Mercury",
           "marker": {
            "color": "cornflowerblue",
            "size": [
             7.7996303599085035
            ],
            "sizemode": "area",
            "sizeref": 0.050903371511914326,
            "symbol": "circle"
           },
           "mode": "markers",
           "name": "Mercury",
           "scene": "scene",
           "showlegend": true,
           "type": "scatter3d",
           "x": [
            -56.4600859368184
           ],
           "y": [
            -28.89921741758697
           ],
           "z": [
            -9.58928435558835
           ]
          },
          {
           "hovertemplate": "name=Neptune<br>index=105<br>x=%{x}<br>y=%{y}<br>z=%{z}<br>radius=%{marker.size}<extra></extra>",
           "ids": [
            "Neptune"
           ],
           "legendgroup": "Neptune",
           "marker": {
            "color": "cyan",
            "size": [
             10.15120663641638
            ],
            "sizemode": "area",
            "sizeref": 0.050903371511914326,
            "symbol": "circle"
           },
           "mode": "markers",
           "name": "Neptune",
           "scene": "scene",
           "showlegend": true,
           "type": "scatter3d",
           "x": [
            257.58848224294036
           ],
           "y": [
            -339.76704965675077
           ],
           "z": [
            -145.46646791819109
           ]
          },
          {
           "hovertemplate": "name=Saturn<br>index=105<br>x=%{x}<br>y=%{y}<br>z=%{z}<br>radius=%{marker.size}<extra></extra>",
           "ids": [
            "Saturn"
           ],
           "legendgroup": "Saturn",
           "marker": {
            "color": "khaki",
            "size": [
             10.972190310798094
            ],
            "sizemode": "area",
            "sizeref": 0.050903371511914326,
            "symbol": "circle"
           },
           "mode": "markers",
           "name": "Saturn",
           "scene": "scene",
           "showlegend": true,
           "type": "scatter3d",
           "x": [
            85.0671161470103
           ],
           "y": [
            100.3736400673702
           ],
           "z": [
            37.8035132348434
           ]
          },
          {
           "hovertemplate": "name=Uranus<br>index=105<br>x=%{x}<br>y=%{y}<br>z=%{z}<br>radius=%{marker.size}<extra></extra>",
           "ids": [
            "Uranus"
           ],
           "legendgroup": "Uranus",
           "marker": {
            "color": "lightcyan",
            "size": [
             10.141007269794844
            ],
            "sizemode": "area",
            "sizeref": 0.050903371511914326,
            "symbol": "circle"
           },
           "mode": "markers",
           "name": "Uranus",
           "scene": "scene",
           "showlegend": true,
           "type": "scatter3d",
           "x": [
            222.22787611493644
           ],
           "y": [
            -181.10658280658689
           ],
           "z": [
            -82.46415025636654
           ]
          },
          {
           "hovertemplate": "name=Jupiter<br>index=105<br>x=%{x}<br>y=%{y}<br>z=%{z}<br>radius=%{marker.size}<extra></extra>",
           "ids": [
            "Jupiter"
           ],
           "legendgroup": "Jupiter",
           "marker": {
            "color": "chocolate",
            "size": [
             11.154978283509006
            ],
            "sizemode": "area",
            "sizeref": 0.050903371511914326,
            "symbol": "circle"
           },
           "mode": "markers",
           "name": "Jupiter",
           "scene": "scene",
           "showlegend": true,
           "type": "scatter3d",
           "x": [
            47.15327028921871
           ],
           "y": [
            53.64748515265244
           ],
           "z": [
            21.842955093772147
           ]
          },
          {
           "hovertemplate": "name=Earth<br>index=105<br>x=%{x}<br>y=%{y}<br>z=%{z}<br>radius=%{marker.size}<extra></extra>",
           "ids": [
            "Earth"
           ],
           "legendgroup": "Earth",
           "marker": {
            "color": "green",
            "size": [
             8.759511722116487
            ],
            "sizemode": "area",
            "sizeref": 0.050903371511914326,
            "symbol": "circle"
           },
           "mode": "markers",
           "name": "Earth",
           "scene": "scene",
           "showlegend": true,
           "type": "scatter3d",
           "x": [
            -27.892970391423777
           ],
           "y": [
            -137.04464797188692
           ],
           "z": [
            -59.40507171553346
           ]
          }
         ],
         "name": "105"
        },
        {
         "data": [
          {
           "hovertemplate": "name=Sun<br>index=112<br>x=%{x}<br>y=%{y}<br>z=%{z}<br>radius=%{marker.size}<extra></extra>",
           "ids": [
            "Sun"
           ],
           "legendgroup": "Sun",
           "marker": {
            "color": "orange",
            "size": [
             20.36134860476573
            ],
            "sizemode": "area",
            "sizeref": 0.050903371511914326,
            "symbol": "circle"
           },
           "mode": "markers",
           "name": "Sun",
           "scene": "scene",
           "showlegend": true,
           "type": "scatter3d",
           "x": [
            1.6744242693430182
           ],
           "y": [
            1.531245424363574
           ],
           "z": [
            0.05718930628986841
           ]
          },
          {
           "hovertemplate": "name=Mars<br>index=112<br>x=%{x}<br>y=%{y}<br>z=%{z}<br>radius=%{marker.size}<extra></extra>",
           "ids": [
            "Mars"
           ],
           "legendgroup": "Mars",
           "marker": {
            "color": "crimson",
            "size": [
             8.12843769687102
            ],
            "sizemode": "area",
            "sizeref": 0.050903371511914326,
            "symbol": "circle"
           },
           "mode": "markers",
           "name": "Mars",
           "scene": "scene",
           "showlegend": true,
           "type": "scatter3d",
           "x": [
            -4.173388305520723
           ],
           "y": [
            71.3320789460312
           ],
           "z": [
            32.83703537382484
           ]
          },
          {
           "hovertemplate": "name=Mercury<br>index=112<br>x=%{x}<br>y=%{y}<br>z=%{z}<br>radius=%{marker.size}<extra></extra>",
           "ids": [
            "Mercury"
           ],
           "legendgroup": "Mercury",
           "marker": {
            "color": "cornflowerblue",
            "size": [
             7.7996303599085035
            ],
            "sizemode": "area",
            "sizeref": 0.050903371511914326,
            "symbol": "circle"
           },
           "mode": "markers",
           "name": "Mercury",
           "scene": "scene",
           "showlegend": true,
           "type": "scatter3d",
           "x": [
            -44.01741194878164
           ],
           "y": [
            -47.352366772997065
           ],
           "z": [
            -20.736623050421233
           ]
          },
          {
           "hovertemplate": "name=Neptune<br>index=112<br>x=%{x}<br>y=%{y}<br>z=%{z}<br>radius=%{marker.size}<extra></extra>",
           "ids": [
            "Neptune"
           ],
           "legendgroup": "Neptune",
           "marker": {
            "color": "cyan",
            "size": [
             10.15120663641638
            ],
            "sizemode": "area",
            "sizeref": 0.050903371511914326,
            "symbol": "circle"
           },
           "mode": "markers",
           "name": "Neptune",
           "scene": "scene",
           "showlegend": true,
           "type": "scatter3d",
           "x": [
            257.85539865310017
           ],
           "y": [
            -339.5881024107025
           ],
           "z": [
            -145.39985801684605
           ]
          },
          {
           "hovertemplate": "name=Saturn<br>index=112<br>x=%{x}<br>y=%{y}<br>z=%{z}<br>radius=%{marker.size}<extra></extra>",
           "ids": [
            "Saturn"
           ],
           "legendgroup": "Saturn",
           "marker": {
            "color": "khaki",
            "size": [
             10.972190310798094
            ],
            "sizemode": "area",
            "sizeref": 0.050903371511914326,
            "symbol": "circle"
           },
           "mode": "markers",
           "name": "Saturn",
           "scene": "scene",
           "showlegend": true,
           "type": "scatter3d",
           "x": [
            84.57753551976472
           ],
           "y": [
            100.70028607313637
           ],
           "z": [
            37.95946417313817
           ]
          },
          {
           "hovertemplate": "name=Uranus<br>index=112<br>x=%{x}<br>y=%{y}<br>z=%{z}<br>radius=%{marker.size}<extra></extra>",
           "ids": [
            "Uranus"
           ],
           "legendgroup": "Uranus",
           "marker": {
            "color": "lightcyan",
            "size": [
             10.141007269794844
            ],
            "sizemode": "area",
            "sizeref": 0.050903371511914326,
            "symbol": "circle"
           },
           "mode": "markers",
           "name": "Uranus",
           "scene": "scene",
           "showlegend": true,
           "type": "scatter3d",
           "x": [
            222.4989181844313
           ],
           "y": [
            -180.84084503642777
           ],
           "z": [
            -82.35162129100897
           ]
          },
          {
           "hovertemplate": "name=Jupiter<br>index=112<br>x=%{x}<br>y=%{y}<br>z=%{z}<br>radius=%{marker.size}<extra></extra>",
           "ids": [
            "Jupiter"
           ],
           "legendgroup": "Jupiter",
           "marker": {
            "color": "chocolate",
            "size": [
             11.154978283509006
            ],
            "sizemode": "area",
            "sizeref": 0.050903371511914326,
            "symbol": "circle"
           },
           "mode": "markers",
           "name": "Jupiter",
           "scene": "scene",
           "showlegend": true,
           "type": "scatter3d",
           "x": [
            46.527086109152364
           ],
           "y": [
            54.13222039390408
           ],
           "z": [
            22.066003907110883
           ]
          },
          {
           "hovertemplate": "name=Earth<br>index=112<br>x=%{x}<br>y=%{y}<br>z=%{z}<br>radius=%{marker.size}<extra></extra>",
           "ids": [
            "Earth"
           ],
           "legendgroup": "Earth",
           "marker": {
            "color": "green",
            "size": [
             8.759511722116487
            ],
            "sizemode": "area",
            "sizeref": 0.050903371511914326,
            "symbol": "circle"
           },
           "mode": "markers",
           "name": "Earth",
           "scene": "scene",
           "showlegend": true,
           "type": "scatter3d",
           "x": [
            -10.328337597418297
           ],
           "y": [
            -139.1945530505011
           ],
           "z": [
            -60.33837102858321
           ]
          }
         ],
         "name": "112"
        },
        {
         "data": [
          {
           "hovertemplate": "name=Sun<br>index=119<br>x=%{x}<br>y=%{y}<br>z=%{z}<br>radius=%{marker.size}<extra></extra>",
           "ids": [
            "Sun"
           ],
           "legendgroup": "Sun",
           "marker": {
            "color": "orange",
            "size": [
             20.36134860476573
            ],
            "sizemode": "area",
            "sizeref": 0.050903371511914326,
            "symbol": "circle"
           },
           "mode": "markers",
           "name": "Sun",
           "scene": "scene",
           "showlegend": true,
           "type": "scatter3d",
           "x": [
            1.859760139970512
           ],
           "y": [
            1.7061643502119526
           ],
           "z": [
            0.07304837034266552
           ]
          },
          {
           "hovertemplate": "name=Mars<br>index=119<br>x=%{x}<br>y=%{y}<br>z=%{z}<br>radius=%{marker.size}<extra></extra>",
           "ids": [
            "Mars"
           ],
           "legendgroup": "Mars",
           "marker": {
            "color": "crimson",
            "size": [
             8.12843769687102
            ],
            "sizemode": "area",
            "sizeref": 0.050903371511914326,
            "symbol": "circle"
           },
           "mode": "markers",
           "name": "Mars",
           "scene": "scene",
           "showlegend": true,
           "type": "scatter3d",
           "x": [
            -8.854767293866518
           ],
           "y": [
            71.29471389377228
           ],
           "z": [
            32.94655607559247
           ]
          },
          {
           "hovertemplate": "name=Mercury<br>index=119<br>x=%{x}<br>y=%{y}<br>z=%{z}<br>radius=%{marker.size}<extra></extra>",
           "ids": [
            "Mercury"
           ],
           "legendgroup": "Mercury",
           "marker": {
            "color": "cornflowerblue",
            "size": [
             7.7996303599085035
            ],
            "sizemode": "area",
            "sizeref": 0.050903371511914326,
            "symbol": "circle"
           },
           "mode": "markers",
           "name": "Mercury",
           "scene": "scene",
           "showlegend": true,
           "type": "scatter3d",
           "x": [
            -24.72763756044063
           ],
           "y": [
            -58.54413858273836
           ],
           "z": [
            -28.71501742818727
           ]
          },
          {
           "hovertemplate": "name=Neptune<br>index=119<br>x=%{x}<br>y=%{y}<br>z=%{z}<br>radius=%{marker.size}<extra></extra>",
           "ids": [
            "Neptune"
           ],
           "legendgroup": "Neptune",
           "marker": {
            "color": "cyan",
            "size": [
             10.15120663641638
            ],
            "sizemode": "area",
            "sizeref": 0.050903371511914326,
            "symbol": "circle"
           },
           "mode": "markers",
           "name": "Neptune",
           "scene": "scene",
           "showlegend": true,
           "type": "scatter3d",
           "x": [
            258.1221780299199
           ],
           "y": [
            -339.4089745773271
           ],
           "z": [
            -145.33317079754008
           ]
          },
          {
           "hovertemplate": "name=Saturn<br>index=119<br>x=%{x}<br>y=%{y}<br>z=%{z}<br>radius=%{marker.size}<extra></extra>",
           "ids": [
            "Saturn"
           ],
           "legendgroup": "Saturn",
           "marker": {
            "color": "khaki",
            "size": [
             10.972190310798094
            ],
            "sizemode": "area",
            "sizeref": 0.050903371511914326,
            "symbol": "circle"
           },
           "mode": "markers",
           "name": "Saturn",
           "scene": "scene",
           "showlegend": true,
           "type": "scatter3d",
           "x": [
            84.08634639317633
           ],
           "y": [
            101.02501666532687
           ],
           "z": [
            38.11469339565274
           ]
          },
          {
           "hovertemplate": "name=Uranus<br>index=119<br>x=%{x}<br>y=%{y}<br>z=%{z}<br>radius=%{marker.size}<extra></extra>",
           "ids": [
            "Uranus"
           ],
           "legendgroup": "Uranus",
           "marker": {
            "color": "lightcyan",
            "size": [
             10.141007269794844
            ],
            "sizemode": "area",
            "sizeref": 0.050903371511914326,
            "symbol": "circle"
           },
           "mode": "markers",
           "name": "Uranus",
           "scene": "scene",
           "showlegend": true,
           "type": "scatter3d",
           "x": [
            222.76955307918013
           ],
           "y": [
            -180.57477617928612
           ],
           "z": [
            -82.23894155831799
           ]
          },
          {
           "hovertemplate": "name=Jupiter<br>index=119<br>x=%{x}<br>y=%{y}<br>z=%{z}<br>radius=%{marker.size}<extra></extra>",
           "ids": [
            "Jupiter"
           ],
           "legendgroup": "Jupiter",
           "marker": {
            "color": "chocolate",
            "size": [
             11.154978283509006
            ],
            "sizemode": "area",
            "sizeref": 0.050903371511914326,
            "symbol": "circle"
           },
           "mode": "markers",
           "name": "Jupiter",
           "scene": "scene",
           "showlegend": true,
           "type": "scatter3d",
           "x": [
            45.895487975876286
           ],
           "y": [
            54.61065679302371
           ],
           "z": [
            22.28648486885479
           ]
          },
          {
           "hovertemplate": "name=Earth<br>index=119<br>x=%{x}<br>y=%{y}<br>z=%{z}<br>radius=%{marker.size}<extra></extra>",
           "ids": [
            "Earth"
           ],
           "legendgroup": "Earth",
           "marker": {
            "color": "green",
            "size": [
             8.759511722116487
            ],
            "sizemode": "area",
            "sizeref": 0.050903371511914326,
            "symbol": "circle"
           },
           "mode": "markers",
           "name": "Earth",
           "scene": "scene",
           "showlegend": true,
           "type": "scatter3d",
           "x": [
            7.379044112384518
           ],
           "y": [
            -139.42499910402395
           ],
           "z": [
            -60.43970372581932
           ]
          }
         ],
         "name": "119"
        },
        {
         "data": [
          {
           "hovertemplate": "name=Sun<br>index=126<br>x=%{x}<br>y=%{y}<br>z=%{z}<br>radius=%{marker.size}<extra></extra>",
           "ids": [
            "Sun"
           ],
           "legendgroup": "Sun",
           "marker": {
            "color": "orange",
            "size": [
             20.36134860476573
            ],
            "sizemode": "area",
            "sizeref": 0.050903371511914326,
            "symbol": "circle"
           },
           "mode": "markers",
           "name": "Sun",
           "scene": "scene",
           "showlegend": true,
           "type": "scatter3d",
           "x": [
            2.0506365494612893
           ],
           "y": [
            1.8869697141275235
           ],
           "z": [
            0.09126763321436222
           ]
          },
          {
           "hovertemplate": "name=Mars<br>index=126<br>x=%{x}<br>y=%{y}<br>z=%{z}<br>radius=%{marker.size}<extra></extra>",
           "ids": [
            "Mars"
           ],
           "legendgroup": "Mars",
           "marker": {
            "color": "crimson",
            "size": [
             8.12843769687102
            ],
            "sizemode": "area",
            "sizeref": 0.050903371511914326,
            "symbol": "circle"
           },
           "mode": "markers",
           "name": "Mars",
           "scene": "scene",
           "showlegend": true,
           "type": "scatter3d",
           "x": [
            -13.503884219149121
           ],
           "y": [
            70.99777938962328
           ],
           "z": [
            32.93611524124513
           ]
          },
          {
           "hovertemplate": "name=Mercury<br>index=126<br>x=%{x}<br>y=%{y}<br>z=%{z}<br>radius=%{marker.size}<extra></extra>",
           "ids": [
            "Mercury"
           ],
           "legendgroup": "Mercury",
           "marker": {
            "color": "cornflowerblue",
            "size": [
             7.7996303599085035
            ],
            "sizemode": "area",
            "sizeref": 0.050903371511914326,
            "symbol": "circle"
           },
           "mode": "markers",
           "name": "Mercury",
           "scene": "scene",
           "showlegend": true,
           "type": "scatter3d",
           "x": [
            -1.8967414215458742
           ],
           "y": [
            -61.405137322132006
           ],
           "z": [
            -32.61053355267676
           ]
          },
          {
           "hovertemplate": "name=Neptune<br>index=126<br>x=%{x}<br>y=%{y}<br>z=%{z}<br>radius=%{marker.size}<extra></extra>",
           "ids": [
            "Neptune"
           ],
           "legendgroup": "Neptune",
           "marker": {
            "color": "cyan",
            "size": [
             10.15120663641638
            ],
            "sizemode": "area",
            "sizeref": 0.050903371511914326,
            "symbol": "circle"
           },
           "mode": "markers",
           "name": "Neptune",
           "scene": "scene",
           "showlegend": true,
           "type": "scatter3d",
           "x": [
            258.38882022848054
           ],
           "y": [
            -339.22966624797004
           ],
           "z": [
            -145.26640629408075
           ]
          },
          {
           "hovertemplate": "name=Saturn<br>index=126<br>x=%{x}<br>y=%{y}<br>z=%{z}<br>radius=%{marker.size}<extra></extra>",
           "ids": [
            "Saturn"
           ],
           "legendgroup": "Saturn",
           "marker": {
            "color": "khaki",
            "size": [
             10.972190310798094
            ],
            "sizemode": "area",
            "sizeref": 0.050903371511914326,
            "symbol": "circle"
           },
           "mode": "markers",
           "name": "Saturn",
           "scene": "scene",
           "showlegend": true,
           "type": "scatter3d",
           "x": [
            83.5935573130495
           ],
           "y": [
            101.34782485191917
           ],
           "z": [
            38.26919764623351
           ]
          },
          {
           "hovertemplate": "name=Uranus<br>index=126<br>x=%{x}<br>y=%{y}<br>z=%{z}<br>radius=%{marker.size}<extra></extra>",
           "ids": [
            "Uranus"
           ],
           "legendgroup": "Uranus",
           "marker": {
            "color": "lightcyan",
            "size": [
             10.141007269794844
            ],
            "sizemode": "area",
            "sizeref": 0.050903371511914326,
            "symbol": "circle"
           },
           "mode": "markers",
           "name": "Uranus",
           "scene": "scene",
           "showlegend": true,
           "type": "scatter3d",
           "x": [
            223.0397803446192
           ],
           "y": [
            -180.30837675589692
           ],
           "z": [
            -82.12611127998728
           ]
          },
          {
           "hovertemplate": "name=Jupiter<br>index=126<br>x=%{x}<br>y=%{y}<br>z=%{z}<br>radius=%{marker.size}<extra></extra>",
           "ids": [
            "Jupiter"
           ],
           "legendgroup": "Jupiter",
           "marker": {
            "color": "chocolate",
            "size": [
             11.154978283509006
            ],
            "sizemode": "area",
            "sizeref": 0.050903371511914326,
            "symbol": "circle"
           },
           "mode": "markers",
           "name": "Jupiter",
           "scene": "scene",
           "showlegend": true,
           "type": "scatter3d",
           "x": [
            45.25855432094562
           ],
           "y": [
            55.08274446706212
           ],
           "z": [
            22.504374677599188
           ]
          },
          {
           "hovertemplate": "name=Earth<br>index=126<br>x=%{x}<br>y=%{y}<br>z=%{z}<br>radius=%{marker.size}<extra></extra>",
           "ids": [
            "Earth"
           ],
           "legendgroup": "Earth",
           "marker": {
            "color": "green",
            "size": [
             8.759511722116487
            ],
            "sizemode": "area",
            "sizeref": 0.050903371511914326,
            "symbol": "circle"
           },
           "mode": "markers",
           "name": "Earth",
           "scene": "scene",
           "showlegend": true,
           "type": "scatter3d",
           "x": [
            24.98518296773178
           ],
           "y": [
            -137.73577265968893
           ],
           "z": [
            -59.70896564612837
           ]
          }
         ],
         "name": "126"
        },
        {
         "data": [
          {
           "hovertemplate": "name=Sun<br>index=133<br>x=%{x}<br>y=%{y}<br>z=%{z}<br>radius=%{marker.size}<extra></extra>",
           "ids": [
            "Sun"
           ],
           "legendgroup": "Sun",
           "marker": {
            "color": "orange",
            "size": [
             20.36134860476573
            ],
            "sizemode": "area",
            "sizeref": 0.050903371511914326,
            "symbol": "circle"
           },
           "mode": "markers",
           "name": "Sun",
           "scene": "scene",
           "showlegend": true,
           "type": "scatter3d",
           "x": [
            2.247102097773197
           ],
           "y": [
            2.0737083132422542
           ],
           "z": [
            0.11186259397339991
           ]
          },
          {
           "hovertemplate": "name=Mars<br>index=133<br>x=%{x}<br>y=%{y}<br>z=%{z}<br>radius=%{marker.size}<extra></extra>",
           "ids": [
            "Mars"
           ],
           "legendgroup": "Mars",
           "marker": {
            "color": "crimson",
            "size": [
             8.12843769687102
            ],
            "sizemode": "area",
            "sizeref": 0.050903371511914326,
            "symbol": "circle"
           },
           "mode": "markers",
           "name": "Mars",
           "scene": "scene",
           "showlegend": true,
           "type": "scatter3d",
           "x": [
            -18.10451757811675
           ],
           "y": [
            70.44609565039296
           ],
           "z": [
            32.807484761674814
           ]
          },
          {
           "hovertemplate": "name=Mercury<br>index=133<br>x=%{x}<br>y=%{y}<br>z=%{z}<br>radius=%{marker.size}<extra></extra>",
           "ids": [
            "Mercury"
           ],
           "legendgroup": "Mercury",
           "marker": {
            "color": "cornflowerblue",
            "size": [
             7.7996303599085035
            ],
            "sizemode": "area",
            "sizeref": 0.050903371511914326,
            "symbol": "circle"
           },
           "mode": "markers",
           "name": "Mercury",
           "scene": "scene",
           "showlegend": true,
           "type": "scatter3d",
           "x": [
            21.180329269220238
           ],
           "y": [
            -55.45196667579598
           ],
           "z": [
            -31.823398376964168
           ]
          },
          {
           "hovertemplate": "name=Neptune<br>index=133<br>x=%{x}<br>y=%{y}<br>z=%{z}<br>radius=%{marker.size}<extra></extra>",
           "ids": [
            "Neptune"
           ],
           "legendgroup": "Neptune",
           "marker": {
            "color": "cyan",
            "size": [
             10.15120663641638
            ],
            "sizemode": "area",
            "sizeref": 0.050903371511914326,
            "symbol": "circle"
           },
           "mode": "markers",
           "name": "Neptune",
           "scene": "scene",
           "showlegend": true,
           "type": "scatter3d",
           "x": [
            258.65532510392853
           ],
           "y": [
            -339.0501775140718
           ],
           "z": [
            -145.1995645403157
           ]
          },
          {
           "hovertemplate": "name=Saturn<br>index=133<br>x=%{x}<br>y=%{y}<br>z=%{z}<br>radius=%{marker.size}<extra></extra>",
           "ids": [
            "Saturn"
           ],
           "legendgroup": "Saturn",
           "marker": {
            "color": "khaki",
            "size": [
             10.972190310798094
            ],
            "sizemode": "area",
            "sizeref": 0.050903371511914326,
            "symbol": "circle"
           },
           "mode": "markers",
           "name": "Saturn",
           "scene": "scene",
           "showlegend": true,
           "type": "scatter3d",
           "x": [
            83.09917686836064
           ],
           "y": [
            101.66870367754599
           ],
           "z": [
            38.42297368186184
           ]
          },
          {
           "hovertemplate": "name=Uranus<br>index=133<br>x=%{x}<br>y=%{y}<br>z=%{z}<br>radius=%{marker.size}<extra></extra>",
           "ids": [
            "Uranus"
           ],
           "legendgroup": "Uranus",
           "marker": {
            "color": "lightcyan",
            "size": [
             10.141007269794844
            ],
            "sizemode": "area",
            "sizeref": 0.050903371511914326,
            "symbol": "circle"
           },
           "mode": "markers",
           "name": "Uranus",
           "scene": "scene",
           "showlegend": true,
           "type": "scatter3d",
           "x": [
            223.3095995269331
           ],
           "y": [
            -180.0416472874037
           ],
           "z": [
            -82.01313067789941
           ]
          },
          {
           "hovertemplate": "name=Jupiter<br>index=133<br>x=%{x}<br>y=%{y}<br>z=%{z}<br>radius=%{marker.size}<extra></extra>",
           "ids": [
            "Jupiter"
           ],
           "legendgroup": "Jupiter",
           "marker": {
            "color": "chocolate",
            "size": [
             11.154978283509006
            ],
            "sizemode": "area",
            "sizeref": 0.050903371511914326,
            "symbol": "circle"
           },
           "mode": "markers",
           "name": "Jupiter",
           "scene": "scene",
           "showlegend": true,
           "type": "scatter3d",
           "x": [
            44.616364129026536
           ],
           "y": [
            55.54843445393812
           ],
           "z": [
            22.71965041323704
           ]
          },
          {
           "hovertemplate": "name=Earth<br>index=133<br>x=%{x}<br>y=%{y}<br>z=%{z}<br>radius=%{marker.size}<extra></extra>",
           "ids": [
            "Earth"
           ],
           "legendgroup": "Earth",
           "marker": {
            "color": "green",
            "size": [
             8.759511722116487
            ],
            "sizemode": "area",
            "sizeref": 0.050903371511914326,
            "symbol": "circle"
           },
           "mode": "markers",
           "name": "Earth",
           "scene": "scene",
           "showlegend": true,
           "type": "scatter3d",
           "x": [
            42.24800391506842
           ],
           "y": [
            -134.15175869283496
           ],
           "z": [
            -58.15693147158223
           ]
          }
         ],
         "name": "133"
        },
        {
         "data": [
          {
           "hovertemplate": "name=Sun<br>index=140<br>x=%{x}<br>y=%{y}<br>z=%{z}<br>radius=%{marker.size}<extra></extra>",
           "ids": [
            "Sun"
           ],
           "legendgroup": "Sun",
           "marker": {
            "color": "orange",
            "size": [
             20.36134860476573
            ],
            "sizemode": "area",
            "sizeref": 0.050903371511914326,
            "symbol": "circle"
           },
           "mode": "markers",
           "name": "Sun",
           "scene": "scene",
           "showlegend": true,
           "type": "scatter3d",
           "x": [
            2.4492092898577185
           ],
           "y": [
            2.266442618395189
           ],
           "z": [
            0.13485588159709871
           ]
          },
          {
           "hovertemplate": "name=Mars<br>index=140<br>x=%{x}<br>y=%{y}<br>z=%{z}<br>radius=%{marker.size}<extra></extra>",
           "ids": [
            "Mars"
           ],
           "legendgroup": "Mars",
           "marker": {
            "color": "crimson",
            "size": [
             8.12843769687102
            ],
            "sizemode": "area",
            "sizeref": 0.050903371511914326,
            "symbol": "circle"
           },
           "mode": "markers",
           "name": "Mars",
           "scene": "scene",
           "showlegend": true,
           "type": "scatter3d",
           "x": [
            -22.641053071301286
           ],
           "y": [
            69.64514296127192
           ],
           "z": [
            32.56275581189207
           ]
          },
          {
           "hovertemplate": "name=Mercury<br>index=140<br>x=%{x}<br>y=%{y}<br>z=%{z}<br>radius=%{marker.size}<extra></extra>",
           "ids": [
            "Mercury"
           ],
           "legendgroup": "Mercury",
           "marker": {
            "color": "cornflowerblue",
            "size": [
             7.7996303599085035
            ],
            "sizemode": "area",
            "sizeref": 0.050903371511914326,
            "symbol": "circle"
           },
           "mode": "markers",
           "name": "Mercury",
           "scene": "scene",
           "showlegend": true,
           "type": "scatter3d",
           "x": [
            40.829795462684274
           ],
           "y": [
            -40.763461683583635
           ],
           "z": [
            -26.014890782680883
           ]
          },
          {
           "hovertemplate": "name=Neptune<br>index=140<br>x=%{x}<br>y=%{y}<br>z=%{z}<br>radius=%{marker.size}<extra></extra>",
           "ids": [
            "Neptune"
           ],
           "legendgroup": "Neptune",
           "marker": {
            "color": "cyan",
            "size": [
             10.15120663641638
            ],
            "sizemode": "area",
            "sizeref": 0.050903371511914326,
            "symbol": "circle"
           },
           "mode": "markers",
           "name": "Neptune",
           "scene": "scene",
           "showlegend": true,
           "type": "scatter3d",
           "x": [
            258.92169251147646
           ],
           "y": [
            -338.8705084671672
           ],
           "z": [
            -145.13264557013258
           ]
          },
          {
           "hovertemplate": "name=Saturn<br>index=140<br>x=%{x}<br>y=%{y}<br>z=%{z}<br>radius=%{marker.size}<extra></extra>",
           "ids": [
            "Saturn"
           ],
           "legendgroup": "Saturn",
           "marker": {
            "color": "khaki",
            "size": [
             10.972190310798094
            ],
            "sizemode": "area",
            "sizeref": 0.050903371511914326,
            "symbol": "circle"
           },
           "mode": "markers",
           "name": "Saturn",
           "scene": "scene",
           "showlegend": true,
           "type": "scatter3d",
           "x": [
            82.60321369115626
           ],
           "y": [
            101.9876462237116
           ],
           "z": [
            38.57601827274763
           ]
          },
          {
           "hovertemplate": "name=Uranus<br>index=140<br>x=%{x}<br>y=%{y}<br>z=%{z}<br>radius=%{marker.size}<extra></extra>",
           "ids": [
            "Uranus"
           ],
           "legendgroup": "Uranus",
           "marker": {
            "color": "lightcyan",
            "size": [
             10.141007269794844
            ],
            "sizemode": "area",
            "sizeref": 0.050903371511914326,
            "symbol": "circle"
           },
           "mode": "markers",
           "name": "Uranus",
           "scene": "scene",
           "showlegend": true,
           "type": "scatter3d",
           "x": [
            223.57901017305636
           ],
           "y": [
            -179.7745882953577
           ],
           "z": [
            -81.89999997412592
           ]
          },
          {
           "hovertemplate": "name=Jupiter<br>index=140<br>x=%{x}<br>y=%{y}<br>z=%{z}<br>radius=%{marker.size}<extra></extra>",
           "ids": [
            "Jupiter"
           ],
           "legendgroup": "Jupiter",
           "marker": {
            "color": "chocolate",
            "size": [
             11.154978283509006
            ],
            "sizemode": "area",
            "sizeref": 0.050903371511914326,
            "symbol": "circle"
           },
           "mode": "markers",
           "name": "Jupiter",
           "scene": "scene",
           "showlegend": true,
           "type": "scatter3d",
           "x": [
            43.968996923265195
           ],
           "y": [
            56.00767871706936
           ],
           "z": [
            22.93228953930165
           ]
          },
          {
           "hovertemplate": "name=Earth<br>index=140<br>x=%{x}<br>y=%{y}<br>z=%{z}<br>radius=%{marker.size}<extra></extra>",
           "ids": [
            "Earth"
           ],
           "legendgroup": "Earth",
           "marker": {
            "color": "green",
            "size": [
             8.759511722116487
            ],
            "sizemode": "area",
            "sizeref": 0.050903371511914326,
            "symbol": "circle"
           },
           "mode": "markers",
           "name": "Earth",
           "scene": "scene",
           "showlegend": true,
           "type": "scatter3d",
           "x": [
            58.93017074188935
           ],
           "y": [
            -128.7225600345888
           ],
           "z": [
            -55.80508986813188
           ]
          }
         ],
         "name": "140"
        },
        {
         "data": [
          {
           "hovertemplate": "name=Sun<br>index=147<br>x=%{x}<br>y=%{y}<br>z=%{z}<br>radius=%{marker.size}<extra></extra>",
           "ids": [
            "Sun"
           ],
           "legendgroup": "Sun",
           "marker": {
            "color": "orange",
            "size": [
             20.36134860476573
            ],
            "sizemode": "area",
            "sizeref": 0.050903371511914326,
            "symbol": "circle"
           },
           "mode": "markers",
           "name": "Sun",
           "scene": "scene",
           "showlegend": true,
           "type": "scatter3d",
           "x": [
            2.657020696106485
           ],
           "y": [
            2.465257437720349
           ],
           "z": [
            0.16028010720619543
           ]
          },
          {
           "hovertemplate": "name=Mars<br>index=147<br>x=%{x}<br>y=%{y}<br>z=%{z}<br>radius=%{marker.size}<extra></extra>",
           "ids": [
            "Mars"
           ],
           "legendgroup": "Mars",
           "marker": {
            "color": "crimson",
            "size": [
             8.12843769687102
            ],
            "sizemode": "area",
            "sizeref": 0.050903371511914326,
            "symbol": "circle"
           },
           "mode": "markers",
           "name": "Mars",
           "scene": "scene",
           "showlegend": true,
           "type": "scatter3d",
           "x": [
            -27.098489531014433
           ],
           "y": [
            68.60100860174799
           ],
           "z": [
            32.20431466157267
           ]
          },
          {
           "hovertemplate": "name=Mercury<br>index=147<br>x=%{x}<br>y=%{y}<br>z=%{z}<br>radius=%{marker.size}<extra></extra>",
           "ids": [
            "Mercury"
           ],
           "legendgroup": "Mercury",
           "marker": {
            "color": "cornflowerblue",
            "size": [
             7.7996303599085035
            ],
            "sizemode": "area",
            "sizeref": 0.050903371511914326,
            "symbol": "circle"
           },
           "mode": "markers",
           "name": "Mercury",
           "scene": "scene",
           "showlegend": true,
           "type": "scatter3d",
           "x": [
            52.57983095950375
           ],
           "y": [
            -18.435541846251404
           ],
           "z": [
            -15.306849195411017
           ]
          },
          {
           "hovertemplate": "name=Neptune<br>index=147<br>x=%{x}<br>y=%{y}<br>z=%{z}<br>radius=%{marker.size}<extra></extra>",
           "ids": [
            "Neptune"
           ],
           "legendgroup": "Neptune",
           "marker": {
            "color": "cyan",
            "size": [
             10.15120663641638
            ],
            "sizemode": "area",
            "sizeref": 0.050903371511914326,
            "symbol": "circle"
           },
           "mode": "markers",
           "name": "Neptune",
           "scene": "scene",
           "showlegend": true,
           "type": "scatter3d",
           "x": [
            259.1879223064035
           ],
           "y": [
            -338.6906591988867
           ],
           "z": [
            -145.06564941745924
           ]
          },
          {
           "hovertemplate": "name=Saturn<br>index=147<br>x=%{x}<br>y=%{y}<br>z=%{z}<br>radius=%{marker.size}<extra></extra>",
           "ids": [
            "Saturn"
           ],
           "legendgroup": "Saturn",
           "marker": {
            "color": "khaki",
            "size": [
             10.972190310798094
            ],
            "sizemode": "area",
            "sizeref": 0.050903371511914326,
            "symbol": "circle"
           },
           "mode": "markers",
           "name": "Saturn",
           "scene": "scene",
           "showlegend": true,
           "type": "scatter3d",
           "x": [
            82.10567645644633
           ],
           "y": [
            102.30464560900376
           ],
           "z": [
            38.7283282024219
           ]
          },
          {
           "hovertemplate": "name=Uranus<br>index=147<br>x=%{x}<br>y=%{y}<br>z=%{z}<br>radius=%{marker.size}<extra></extra>",
           "ids": [
            "Uranus"
           ],
           "legendgroup": "Uranus",
           "marker": {
            "color": "lightcyan",
            "size": [
             10.141007269794844
            ],
            "sizemode": "area",
            "sizeref": 0.050903371511914326,
            "symbol": "circle"
           },
           "mode": "markers",
           "name": "Uranus",
           "scene": "scene",
           "showlegend": true,
           "type": "scatter3d",
           "x": [
            223.8480118306742
           ],
           "y": [
            -179.5072003017176
           ],
           "z": [
            -81.78671939092709
           ]
          },
          {
           "hovertemplate": "name=Jupiter<br>index=147<br>x=%{x}<br>y=%{y}<br>z=%{z}<br>radius=%{marker.size}<extra></extra>",
           "ids": [
            "Jupiter"
           ],
           "legendgroup": "Jupiter",
           "marker": {
            "color": "chocolate",
            "size": [
             11.154978283509006
            ],
            "sizemode": "area",
            "sizeref": 0.050903371511914326,
            "symbol": "circle"
           },
           "mode": "markers",
           "name": "Jupiter",
           "scene": "scene",
           "showlegend": true,
           "type": "scatter3d",
           "x": [
            43.31653275062061
           ],
           "y": [
            56.460430149770275
           ],
           "z": [
            23.14226990521085
           ]
          },
          {
           "hovertemplate": "name=Earth<br>index=147<br>x=%{x}<br>y=%{y}<br>z=%{z}<br>radius=%{marker.size}<extra></extra>",
           "ids": [
            "Earth"
           ],
           "legendgroup": "Earth",
           "marker": {
            "color": "green",
            "size": [
             8.759511722116487
            ],
            "sizemode": "area",
            "sizeref": 0.050903371511914326,
            "symbol": "circle"
           },
           "mode": "markers",
           "name": "Earth",
           "scene": "scene",
           "showlegend": true,
           "type": "scatter3d",
           "x": [
            74.80185264718881
           ],
           "y": [
            -121.52190004652316
           ],
           "z": [
            -52.685384694374534
           ]
          }
         ],
         "name": "147"
        },
        {
         "data": [
          {
           "hovertemplate": "name=Sun<br>index=154<br>x=%{x}<br>y=%{y}<br>z=%{z}<br>radius=%{marker.size}<extra></extra>",
           "ids": [
            "Sun"
           ],
           "legendgroup": "Sun",
           "marker": {
            "color": "orange",
            "size": [
             20.36134860476573
            ],
            "sizemode": "area",
            "sizeref": 0.050903371511914326,
            "symbol": "circle"
           },
           "mode": "markers",
           "name": "Sun",
           "scene": "scene",
           "showlegend": true,
           "type": "scatter3d",
           "x": [
            2.8706095431791323
           ],
           "y": [
            2.6702789818712502
           ],
           "z": [
            0.18818792669790296
           ]
          },
          {
           "hovertemplate": "name=Mars<br>index=154<br>x=%{x}<br>y=%{y}<br>z=%{z}<br>radius=%{marker.size}<extra></extra>",
           "ids": [
            "Mars"
           ],
           "legendgroup": "Mars",
           "marker": {
            "color": "crimson",
            "size": [
             8.12843769687102
            ],
            "sizemode": "area",
            "sizeref": 0.050903371511914326,
            "symbol": "circle"
           },
           "mode": "markers",
           "name": "Mars",
           "scene": "scene",
           "showlegend": true,
           "type": "scatter3d",
           "x": [
            -31.462440910722474
           ],
           "y": [
            67.32033792159413
           ],
           "z": [
            31.734820282968908
           ]
          },
          {
           "hovertemplate": "name=Mercury<br>index=154<br>x=%{x}<br>y=%{y}<br>z=%{z}<br>radius=%{marker.size}<extra></extra>",
           "ids": [
            "Mercury"
           ],
           "legendgroup": "Mercury",
           "marker": {
            "color": "cornflowerblue",
            "size": [
             7.7996303599085035
            ],
            "sizemode": "area",
            "sizeref": 0.050903371511914326,
            "symbol": "circle"
           },
           "mode": "markers",
           "name": "Mercury",
           "scene": "scene",
           "showlegend": true,
           "type": "scatter3d",
           "x": [
            51.133609946744926
           ],
           "y": [
            8.18332944121575
           ],
           "z": [
            -0.9388089923472042
           ]
          },
          {
           "hovertemplate": "name=Neptune<br>index=154<br>x=%{x}<br>y=%{y}<br>z=%{z}<br>radius=%{marker.size}<extra></extra>",
           "ids": [
            "Neptune"
           ],
           "legendgroup": "Neptune",
           "marker": {
            "color": "cyan",
            "size": [
             10.15120663641638
            ],
            "sizemode": "area",
            "sizeref": 0.050903371511914326,
            "symbol": "circle"
           },
           "mode": "markers",
           "name": "Neptune",
           "scene": "scene",
           "showlegend": true,
           "type": "scatter3d",
           "x": [
            259.4540143440557
           ],
           "y": [
            -338.5106298009557
           ],
           "z": [
            -144.99857611626393
           ]
          },
          {
           "hovertemplate": "name=Saturn<br>index=154<br>x=%{x}<br>y=%{y}<br>z=%{z}<br>radius=%{marker.size}<extra></extra>",
           "ids": [
            "Saturn"
           ],
           "legendgroup": "Saturn",
           "marker": {
            "color": "khaki",
            "size": [
             10.972190310798094
            ],
            "sizemode": "area",
            "sizeref": 0.050903371511914326,
            "symbol": "circle"
           },
           "mode": "markers",
           "name": "Saturn",
           "scene": "scene",
           "showlegend": true,
           "type": "scatter3d",
           "x": [
            81.60657388209285
           ],
           "y": [
            102.61969498930257
           ],
           "z": [
            38.87990026782832
           ]
          },
          {
           "hovertemplate": "name=Uranus<br>index=154<br>x=%{x}<br>y=%{y}<br>z=%{z}<br>radius=%{marker.size}<extra></extra>",
           "ids": [
            "Uranus"
           ],
           "legendgroup": "Uranus",
           "marker": {
            "color": "lightcyan",
            "size": [
             10.141007269794844
            ],
            "sizemode": "area",
            "sizeref": 0.050903371511914326,
            "symbol": "circle"
           },
           "mode": "markers",
           "name": "Uranus",
           "scene": "scene",
           "showlegend": true,
           "type": "scatter3d",
           "x": [
            224.1166040482232
           ],
           "y": [
            -179.23948382884882
           ],
           "z": [
            -81.67328915075188
           ]
          },
          {
           "hovertemplate": "name=Jupiter<br>index=154<br>x=%{x}<br>y=%{y}<br>z=%{z}<br>radius=%{marker.size}<extra></extra>",
           "ids": [
            "Jupiter"
           ],
           "legendgroup": "Jupiter",
           "marker": {
            "color": "chocolate",
            "size": [
             11.154978283509006
            ],
            "sizemode": "area",
            "sizeref": 0.050903371511914326,
            "symbol": "circle"
           },
           "mode": "markers",
           "name": "Jupiter",
           "scene": "scene",
           "showlegend": true,
           "type": "scatter3d",
           "x": [
            42.65905216716657
           ],
           "y": [
            56.906642579420236
           ],
           "z": [
            23.349569748413714
           ]
          },
          {
           "hovertemplate": "name=Earth<br>index=154<br>x=%{x}<br>y=%{y}<br>z=%{z}<br>radius=%{marker.size}<extra></extra>",
           "ids": [
            "Earth"
           ],
           "legendgroup": "Earth",
           "marker": {
            "color": "green",
            "size": [
             8.759511722116487
            ],
            "sizemode": "area",
            "sizeref": 0.050903371511914326,
            "symbol": "circle"
           },
           "mode": "markers",
           "name": "Earth",
           "scene": "scene",
           "showlegend": true,
           "type": "scatter3d",
           "x": [
            89.64342856862623
           ],
           "y": [
            -112.6468110452534
           ],
           "z": [
            -48.839863381573466
           ]
          }
         ],
         "name": "154"
        },
        {
         "data": [
          {
           "hovertemplate": "name=Sun<br>index=161<br>x=%{x}<br>y=%{y}<br>z=%{z}<br>radius=%{marker.size}<extra></extra>",
           "ids": [
            "Sun"
           ],
           "legendgroup": "Sun",
           "marker": {
            "color": "orange",
            "size": [
             20.36134860476573
            ],
            "sizemode": "area",
            "sizeref": 0.050903371511914326,
            "symbol": "circle"
           },
           "mode": "markers",
           "name": "Sun",
           "scene": "scene",
           "showlegend": true,
           "type": "scatter3d",
           "x": [
            3.090029202830659
           ],
           "y": [
            2.881706591442121
           ],
           "z": [
            0.21867209991278336
           ]
          },
          {
           "hovertemplate": "name=Mars<br>index=161<br>x=%{x}<br>y=%{y}<br>z=%{z}<br>radius=%{marker.size}<extra></extra>",
           "ids": [
            "Mars"
           ],
           "legendgroup": "Mars",
           "marker": {
            "color": "crimson",
            "size": [
             8.12843769687102
            ],
            "sizemode": "area",
            "sizeref": 0.050903371511914326,
            "symbol": "circle"
           },
           "mode": "markers",
           "name": "Mars",
           "scene": "scene",
           "showlegend": true,
           "type": "scatter3d",
           "x": [
            -35.71913508567203
           ],
           "y": [
            65.81028952820519
           ],
           "z": [
            31.157183758781816
           ]
          },
          {
           "hovertemplate": "name=Mercury<br>index=161<br>x=%{x}<br>y=%{y}<br>z=%{z}<br>radius=%{marker.size}<extra></extra>",
           "ids": [
            "Mercury"
           ],
           "legendgroup": "Mercury",
           "marker": {
            "color": "cornflowerblue",
            "size": [
             7.7996303599085035
            ],
            "sizemode": "area",
            "sizeref": 0.050903371511914326,
            "symbol": "circle"
           },
           "mode": "markers",
           "name": "Mercury",
           "scene": "scene",
           "showlegend": true,
           "type": "scatter3d",
           "x": [
            32.402706561060526
           ],
           "y": [
            31.54452838302334
           ],
           "z": [
            13.480874904644399
           ]
          },
          {
           "hovertemplate": "name=Neptune<br>index=161<br>x=%{x}<br>y=%{y}<br>z=%{z}<br>radius=%{marker.size}<extra></extra>",
           "ids": [
            "Neptune"
           ],
           "legendgroup": "Neptune",
           "marker": {
            "color": "cyan",
            "size": [
             10.15120663641638
            ],
            "sizemode": "area",
            "sizeref": 0.050903371511914326,
            "symbol": "circle"
           },
           "mode": "markers",
           "name": "Neptune",
           "scene": "scene",
           "showlegend": true,
           "type": "scatter3d",
           "x": [
            259.71996847984633
           ],
           "y": [
            -338.33042036519504
           ],
           "z": [
            -144.93142570055528
           ]
          },
          {
           "hovertemplate": "name=Saturn<br>index=161<br>x=%{x}<br>y=%{y}<br>z=%{z}<br>radius=%{marker.size}<extra></extra>",
           "ids": [
            "Saturn"
           ],
           "legendgroup": "Saturn",
           "marker": {
            "color": "khaki",
            "size": [
             10.972190310798094
            ],
            "sizemode": "area",
            "sizeref": 0.050903371511914326,
            "symbol": "circle"
           },
           "mode": "markers",
           "name": "Saturn",
           "scene": "scene",
           "showlegend": true,
           "type": "scatter3d",
           "x": [
            81.10591472869379
           ],
           "y": [
            102.93278755798656
           ],
           "z": [
            39.03073127941429
           ]
          },
          {
           "hovertemplate": "name=Uranus<br>index=161<br>x=%{x}<br>y=%{y}<br>z=%{z}<br>radius=%{marker.size}<extra></extra>",
           "ids": [
            "Uranus"
           ],
           "legendgroup": "Uranus",
           "marker": {
            "color": "lightcyan",
            "size": [
             10.141007269794844
            ],
            "sizemode": "area",
            "sizeref": 0.050903371511914326,
            "symbol": "circle"
           },
           "mode": "markers",
           "name": "Uranus",
           "scene": "scene",
           "showlegend": true,
           "type": "scatter3d",
           "x": [
            224.38478637489243
           ],
           "y": [
            -178.97143939952318
           ],
           "z": [
            -81.55970947623776
           ]
          },
          {
           "hovertemplate": "name=Jupiter<br>index=161<br>x=%{x}<br>y=%{y}<br>z=%{z}<br>radius=%{marker.size}<extra></extra>",
           "ids": [
            "Jupiter"
           ],
           "legendgroup": "Jupiter",
           "marker": {
            "color": "chocolate",
            "size": [
             11.154978283509006
            ],
            "sizemode": "area",
            "sizeref": 0.050903371511914326,
            "symbol": "circle"
           },
           "mode": "markers",
           "name": "Jupiter",
           "scene": "scene",
           "showlegend": true,
           "type": "scatter3d",
           "x": [
            41.99663622337088
           ],
           "y": [
            57.34627077140884
           ],
           "z": [
            23.5541676964428
           ]
          },
          {
           "hovertemplate": "name=Earth<br>index=161<br>x=%{x}<br>y=%{y}<br>z=%{z}<br>radius=%{marker.size}<extra></extra>",
           "ids": [
            "Earth"
           ],
           "legendgroup": "Earth",
           "marker": {
            "color": "green",
            "size": [
             8.759511722116487
            ],
            "sizemode": "area",
            "sizeref": 0.050903371511914326,
            "symbol": "circle"
           },
           "mode": "markers",
           "name": "Earth",
           "scene": "scene",
           "showlegend": true,
           "type": "scatter3d",
           "x": [
            103.24812138101875
           ],
           "y": [
            -102.2166080391806
           ],
           "z": [
            -44.320232258410215
           ]
          }
         ],
         "name": "161"
        },
        {
         "data": [
          {
           "hovertemplate": "name=Sun<br>index=168<br>x=%{x}<br>y=%{y}<br>z=%{z}<br>radius=%{marker.size}<extra></extra>",
           "ids": [
            "Sun"
           ],
           "legendgroup": "Sun",
           "marker": {
            "color": "orange",
            "size": [
             20.36134860476573
            ],
            "sizemode": "area",
            "sizeref": 0.050903371511914326,
            "symbol": "circle"
           },
           "mode": "markers",
           "name": "Sun",
           "scene": "scene",
           "showlegend": true,
           "type": "scatter3d",
           "x": [
            3.3152128841235187
           ],
           "y": [
            3.099804121081462
           ],
           "z": [
            0.25187124447929987
           ]
          },
          {
           "hovertemplate": "name=Mars<br>index=168<br>x=%{x}<br>y=%{y}<br>z=%{z}<br>radius=%{marker.size}<extra></extra>",
           "ids": [
            "Mars"
           ],
           "legendgroup": "Mars",
           "marker": {
            "color": "crimson",
            "size": [
             8.12843769687102
            ],
            "sizemode": "area",
            "sizeref": 0.050903371511914326,
            "symbol": "circle"
           },
           "mode": "markers",
           "name": "Mars",
           "scene": "scene",
           "showlegend": true,
           "type": "scatter3d",
           "x": [
            -39.85541014388221
           ],
           "y": [
            64.07849448962217
           ],
           "z": [
            30.474549464598113
           ]
          },
          {
           "hovertemplate": "name=Mercury<br>index=168<br>x=%{x}<br>y=%{y}<br>z=%{z}<br>radius=%{marker.size}<extra></extra>",
           "ids": [
            "Mercury"
           ],
           "legendgroup": "Mercury",
           "marker": {
            "color": "cornflowerblue",
            "size": [
             7.7996303599085035
            ],
            "sizemode": "area",
            "sizeref": 0.050903371511914326,
            "symbol": "circle"
           },
           "mode": "markers",
           "name": "Mercury",
           "scene": "scene",
           "showlegend": true,
           "type": "scatter3d",
           "x": [
            -0.19972361192510701
           ],
           "y": [
            40.828500294621485
           ],
           "z": [
            21.81902228438965
           ]
          },
          {
           "hovertemplate": "name=Neptune<br>index=168<br>x=%{x}<br>y=%{y}<br>z=%{z}<br>radius=%{marker.size}<extra></extra>",
           "ids": [
            "Neptune"
           ],
           "legendgroup": "Neptune",
           "marker": {
            "color": "cyan",
            "size": [
             10.15120663641638
            ],
            "sizemode": "area",
            "sizeref": 0.050903371511914326,
            "symbol": "circle"
           },
           "mode": "markers",
           "name": "Neptune",
           "scene": "scene",
           "showlegend": true,
           "type": "scatter3d",
           "x": [
            259.9857845692561
           ],
           "y": [
            -338.1500309835208
           ],
           "z": [
            -144.86419820438243
           ]
          },
          {
           "hovertemplate": "name=Saturn<br>index=168<br>x=%{x}<br>y=%{y}<br>z=%{z}<br>radius=%{marker.size}<extra></extra>",
           "ids": [
            "Saturn"
           ],
           "legendgroup": "Saturn",
           "marker": {
            "color": "khaki",
            "size": [
             10.972190310798094
            ],
            "sizemode": "area",
            "sizeref": 0.050903371511914326,
            "symbol": "circle"
           },
           "mode": "markers",
           "name": "Saturn",
           "scene": "scene",
           "showlegend": true,
           "type": "scatter3d",
           "x": [
            80.60370779946358
           ],
           "y": [
            103.24391654613599
           ],
           "z": [
            39.180818061221274
           ]
          },
          {
           "hovertemplate": "name=Uranus<br>index=168<br>x=%{x}<br>y=%{y}<br>z=%{z}<br>radius=%{marker.size}<extra></extra>",
           "ids": [
            "Uranus"
           ],
           "legendgroup": "Uranus",
           "marker": {
            "color": "lightcyan",
            "size": [
             10.141007269794844
            ],
            "sizemode": "area",
            "sizeref": 0.050903371511914326,
            "symbol": "circle"
           },
           "mode": "markers",
           "name": "Uranus",
           "scene": "scene",
           "showlegend": true,
           "type": "scatter3d",
           "x": [
            224.65255836062357
           ],
           "y": [
            -178.70306753691793
           ],
           "z": [
            -81.44598059021047
           ]
          },
          {
           "hovertemplate": "name=Jupiter<br>index=168<br>x=%{x}<br>y=%{y}<br>z=%{z}<br>radius=%{marker.size}<extra></extra>",
           "ids": [
            "Jupiter"
           ],
           "legendgroup": "Jupiter",
           "marker": {
            "color": "chocolate",
            "size": [
             11.154978283509006
            ],
            "sizemode": "area",
            "sizeref": 0.050903371511914326,
            "symbol": "circle"
           },
           "mode": "markers",
           "name": "Jupiter",
           "scene": "scene",
           "showlegend": true,
           "type": "scatter3d",
           "x": [
            41.32936644936809
           ],
           "y": [
            57.77927043286278
           ],
           "z": [
            23.756042768872142
           ]
          },
          {
           "hovertemplate": "name=Earth<br>index=168<br>x=%{x}<br>y=%{y}<br>z=%{z}<br>radius=%{marker.size}<extra></extra>",
           "ids": [
            "Earth"
           ],
           "legendgroup": "Earth",
           "marker": {
            "color": "green",
            "size": [
             8.759511722116487
            ],
            "sizemode": "area",
            "sizeref": 0.050903371511914326,
            "symbol": "circle"
           },
           "mode": "markers",
           "name": "Earth",
           "scene": "scene",
           "showlegend": true,
           "type": "scatter3d",
           "x": [
            115.4245516313333
           ],
           "y": [
            -90.37164460574445
           ],
           "z": [
            -39.187317421424716
           ]
          }
         ],
         "name": "168"
        },
        {
         "data": [
          {
           "hovertemplate": "name=Sun<br>index=175<br>x=%{x}<br>y=%{y}<br>z=%{z}<br>radius=%{marker.size}<extra></extra>",
           "ids": [
            "Sun"
           ],
           "legendgroup": "Sun",
           "marker": {
            "color": "orange",
            "size": [
             20.36134860476573
            ],
            "sizemode": "area",
            "sizeref": 0.050903371511914326,
            "symbol": "circle"
           },
           "mode": "markers",
           "name": "Sun",
           "scene": "scene",
           "showlegend": true,
           "type": "scatter3d",
           "x": [
            3.5459130878228025
           ],
           "y": [
            3.324753573810384
           ],
           "z": [
            0.2878978972346809
           ]
          },
          {
           "hovertemplate": "name=Mars<br>index=175<br>x=%{x}<br>y=%{y}<br>z=%{z}<br>radius=%{marker.size}<extra></extra>",
           "ids": [
            "Mars"
           ],
           "legendgroup": "Mars",
           "marker": {
            "color": "crimson",
            "size": [
             8.12843769687102
            ],
            "sizemode": "area",
            "sizeref": 0.050903371511914326,
            "symbol": "circle"
           },
           "mode": "markers",
           "name": "Mars",
           "scene": "scene",
           "showlegend": true,
           "type": "scatter3d",
           "x": [
            -43.85870878043151
           ],
           "y": [
            62.13301941621725
           ],
           "z": [
            29.690277979475074
           ]
          },
          {
           "hovertemplate": "name=Mercury<br>index=175<br>x=%{x}<br>y=%{y}<br>z=%{z}<br>radius=%{marker.size}<extra></extra>",
           "ids": [
            "Mercury"
           ],
           "legendgroup": "Mercury",
           "marker": {
            "color": "cornflowerblue",
            "size": [
             7.7996303599085035
            ],
            "sizemode": "area",
            "sizeref": 0.050903371511914326,
            "symbol": "circle"
           },
           "mode": "markers",
           "name": "Mercury",
           "scene": "scene",
           "showlegend": true,
           "type": "scatter3d",
           "x": [
            -32.91776860129381
           ],
           "y": [
            31.29207137296609
           ],
           "z": [
            20.116059778575863
           ]
          },
          {
           "hovertemplate": "name=Neptune<br>index=175<br>x=%{x}<br>y=%{y}<br>z=%{z}<br>radius=%{marker.size}<extra></extra>",
           "ids": [
            "Neptune"
           ],
           "legendgroup": "Neptune",
           "marker": {
            "color": "cyan",
            "size": [
             10.15120663641638
            ],
            "sizemode": "area",
            "sizeref": 0.050903371511914326,
            "symbol": "circle"
           },
           "mode": "markers",
           "name": "Neptune",
           "scene": "scene",
           "showlegend": true,
           "type": "scatter3d",
           "x": [
            260.25146246783356
           ],
           "y": [
            -337.9694617479447
           ],
           "z": [
            -144.79689366183518
           ]
          },
          {
           "hovertemplate": "name=Saturn<br>index=175<br>x=%{x}<br>y=%{y}<br>z=%{z}<br>radius=%{marker.size}<extra></extra>",
           "ids": [
            "Saturn"
           ],
           "legendgroup": "Saturn",
           "marker": {
            "color": "khaki",
            "size": [
             10.972190310798094
            ],
            "sizemode": "area",
            "sizeref": 0.050903371511914326,
            "symbol": "circle"
           },
           "mode": "markers",
           "name": "Saturn",
           "scene": "scene",
           "showlegend": true,
           "type": "scatter3d",
           "x": [
            80.0999619401097
           ],
           "y": [
            103.55307522273228
           ],
           "z": [
            39.33015745097352
           ]
          },
          {
           "hovertemplate": "name=Uranus<br>index=175<br>x=%{x}<br>y=%{y}<br>z=%{z}<br>radius=%{marker.size}<extra></extra>",
           "ids": [
            "Uranus"
           ],
           "legendgroup": "Uranus",
           "marker": {
            "color": "lightcyan",
            "size": [
             10.141007269794844
            ],
            "sizemode": "area",
            "sizeref": 0.050903371511914326,
            "symbol": "circle"
           },
           "mode": "markers",
           "name": "Uranus",
           "scene": "scene",
           "showlegend": true,
           "type": "scatter3d",
           "x": [
            224.91991955611172
           ],
           "y": [
            -178.43436876461536
           ],
           "z": [
            -81.3321027156839
           ]
          },
          {
           "hovertemplate": "name=Jupiter<br>index=175<br>x=%{x}<br>y=%{y}<br>z=%{z}<br>radius=%{marker.size}<extra></extra>",
           "ids": [
            "Jupiter"
           ],
           "legendgroup": "Jupiter",
           "marker": {
            "color": "chocolate",
            "size": [
             11.154978283509006
            ],
            "sizemode": "area",
            "sizeref": 0.050903371511914326,
            "symbol": "circle"
           },
           "mode": "markers",
           "name": "Jupiter",
           "scene": "scene",
           "showlegend": true,
           "type": "scatter3d",
           "x": [
            40.657324840234246
           ],
           "y": [
            58.205598216137474
           ],
           "z": [
            23.95517437917201
           ]
          },
          {
           "hovertemplate": "name=Earth<br>index=175<br>x=%{x}<br>y=%{y}<br>z=%{z}<br>radius=%{marker.size}<extra></extra>",
           "ids": [
            "Earth"
           ],
           "legendgroup": "Earth",
           "marker": {
            "color": "green",
            "size": [
             8.759511722116487
            ],
            "sizemode": "area",
            "sizeref": 0.050903371511914326,
            "symbol": "circle"
           },
           "mode": "markers",
           "name": "Earth",
           "scene": "scene",
           "showlegend": true,
           "type": "scatter3d",
           "x": [
            125.99919712108498
           ],
           "y": [
            -77.27184564099157
           ],
           "z": [
            -33.51042887612379
           ]
          }
         ],
         "name": "175"
        },
        {
         "data": [
          {
           "hovertemplate": "name=Sun<br>index=182<br>x=%{x}<br>y=%{y}<br>z=%{z}<br>radius=%{marker.size}<extra></extra>",
           "ids": [
            "Sun"
           ],
           "legendgroup": "Sun",
           "marker": {
            "color": "orange",
            "size": [
             20.36134860476573
            ],
            "sizemode": "area",
            "sizeref": 0.050903371511914326,
            "symbol": "circle"
           },
           "mode": "markers",
           "name": "Sun",
           "scene": "scene",
           "showlegend": true,
           "type": "scatter3d",
           "x": [
            3.7818837136293286
           ],
           "y": [
            3.556552385130196
           ],
           "z": [
            0.32676474829497765
           ]
          },
          {
           "hovertemplate": "name=Mars<br>index=182<br>x=%{x}<br>y=%{y}<br>z=%{z}<br>radius=%{marker.size}<extra></extra>",
           "ids": [
            "Mars"
           ],
           "legendgroup": "Mars",
           "marker": {
            "color": "crimson",
            "size": [
             8.12843769687102
            ],
            "sizemode": "area",
            "sizeref": 0.050903371511914326,
            "symbol": "circle"
           },
           "mode": "markers",
           "name": "Mars",
           "scene": "scene",
           "showlegend": true,
           "type": "scatter3d",
           "x": [
            -47.71707134000647
           ],
           "y": [
            59.98233325594532
           ],
           "z": [
            28.8079306629673
           ]
          },
          {
           "hovertemplate": "name=Mercury<br>index=182<br>x=%{x}<br>y=%{y}<br>z=%{z}<br>radius=%{marker.size}<extra></extra>",
           "ids": [
            "Mercury"
           ],
           "legendgroup": "Mercury",
           "marker": {
            "color": "cornflowerblue",
            "size": [
             7.7996303599085035
            ],
            "sizemode": "area",
            "sizeref": 0.050903371511914326,
            "symbol": "circle"
           },
           "mode": "markers",
           "name": "Mercury",
           "scene": "scene",
           "showlegend": true,
           "type": "scatter3d",
           "x": [
            -53.528352805279425
           ],
           "y": [
            9.493754251987902
           ],
           "z": [
            10.60821170884338
           ]
          },
          {
           "hovertemplate": "name=Neptune<br>index=182<br>x=%{x}<br>y=%{y}<br>z=%{z}<br>radius=%{marker.size}<extra></extra>",
           "ids": [
            "Neptune"
           ],
           "legendgroup": "Neptune",
           "marker": {
            "color": "cyan",
            "size": [
             10.15120663641638
            ],
            "sizemode": "area",
            "sizeref": 0.050903371511914326,
            "symbol": "circle"
           },
           "mode": "markers",
           "name": "Neptune",
           "scene": "scene",
           "showlegend": true,
           "type": "scatter3d",
           "x": [
            260.51700203119503
           ],
           "y": [
            -337.7887127505733
           ],
           "z": [
            -144.7295121070437
           ]
          },
          {
           "hovertemplate": "name=Saturn<br>index=182<br>x=%{x}<br>y=%{y}<br>z=%{z}<br>radius=%{marker.size}<extra></extra>",
           "ids": [
            "Saturn"
           ],
           "legendgroup": "Saturn",
           "marker": {
            "color": "khaki",
            "size": [
             10.972190310798094
            ],
            "sizemode": "area",
            "sizeref": 0.050903371511914326,
            "symbol": "circle"
           },
           "mode": "markers",
           "name": "Saturn",
           "scene": "scene",
           "showlegend": true,
           "type": "scatter3d",
           "x": [
            79.5946860387027
           ],
           "y": [
            103.86025689485176
           ],
           "z": [
            39.478746300165405
           ]
          },
          {
           "hovertemplate": "name=Uranus<br>index=182<br>x=%{x}<br>y=%{y}<br>z=%{z}<br>radius=%{marker.size}<extra></extra>",
           "ids": [
            "Uranus"
           ],
           "legendgroup": "Uranus",
           "marker": {
            "color": "lightcyan",
            "size": [
             10.141007269794844
            ],
            "sizemode": "area",
            "sizeref": 0.050903371511914326,
            "symbol": "circle"
           },
           "mode": "markers",
           "name": "Uranus",
           "scene": "scene",
           "showlegend": true,
           "type": "scatter3d",
           "x": [
            225.18686951280577
           ],
           "y": [
            -178.16534360660222
           ],
           "z": [
            -81.21807607585971
           ]
          },
          {
           "hovertemplate": "name=Jupiter<br>index=182<br>x=%{x}<br>y=%{y}<br>z=%{z}<br>radius=%{marker.size}<extra></extra>",
           "ids": [
            "Jupiter"
           ],
           "legendgroup": "Jupiter",
           "marker": {
            "color": "chocolate",
            "size": [
             11.154978283509006
            ],
            "sizemode": "area",
            "sizeref": 0.050903371511914326,
            "symbol": "circle"
           },
           "mode": "markers",
           "name": "Jupiter",
           "scene": "scene",
           "showlegend": true,
           "type": "scatter3d",
           "x": [
            39.98059384123949
           ],
           "y": [
            58.62521172205428
           ],
           "z": [
            24.151542336455424
           ]
          },
          {
           "hovertemplate": "name=Earth<br>index=182<br>x=%{x}<br>y=%{y}<br>z=%{z}<br>radius=%{marker.size}<extra></extra>",
           "ids": [
            "Earth"
           ],
           "legendgroup": "Earth",
           "marker": {
            "color": "green",
            "size": [
             8.759511722116487
            ],
            "sizemode": "area",
            "sizeref": 0.050903371511914326,
            "symbol": "circle"
           },
           "mode": "markers",
           "name": "Earth",
           "scene": "scene",
           "showlegend": true,
           "type": "scatter3d",
           "x": [
            134.81874039953695
           ],
           "y": [
            -63.095010622890356
           ],
           "z": [
            -27.36662520219908
           ]
          }
         ],
         "name": "182"
        },
        {
         "data": [
          {
           "hovertemplate": "name=Sun<br>index=189<br>x=%{x}<br>y=%{y}<br>z=%{z}<br>radius=%{marker.size}<extra></extra>",
           "ids": [
            "Sun"
           ],
           "legendgroup": "Sun",
           "marker": {
            "color": "orange",
            "size": [
             20.36134860476573
            ],
            "sizemode": "area",
            "sizeref": 0.050903371511914326,
            "symbol": "circle"
           },
           "mode": "markers",
           "name": "Sun",
           "scene": "scene",
           "showlegend": true,
           "type": "scatter3d",
           "x": [
            4.02302629398718
           ],
           "y": [
            3.7951457894078016
           ],
           "z": [
            0.36844017671786944
           ]
          },
          {
           "hovertemplate": "name=Mars<br>index=189<br>x=%{x}<br>y=%{y}<br>z=%{z}<br>radius=%{marker.size}<extra></extra>",
           "ids": [
            "Mars"
           ],
           "legendgroup": "Mars",
           "marker": {
            "color": "crimson",
            "size": [
             8.12843769687102
            ],
            "sizemode": "area",
            "sizeref": 0.050903371511914326,
            "symbol": "circle"
           },
           "mode": "markers",
           "name": "Mars",
           "scene": "scene",
           "showlegend": true,
           "type": "scatter3d",
           "x": [
            -51.41912798177494
           ],
           "y": [
            57.635277602264516
           ],
           "z": [
            27.831255819818583
           ]
          },
          {
           "hovertemplate": "name=Mercury<br>index=189<br>x=%{x}<br>y=%{y}<br>z=%{z}<br>radius=%{marker.size}<extra></extra>",
           "ids": [
            "Mercury"
           ],
           "legendgroup": "Mercury",
           "marker": {
            "color": "cornflowerblue",
            "size": [
             7.7996303599085035
            ],
            "sizemode": "area",
            "sizeref": 0.050903371511914326,
            "symbol": "circle"
           },
           "mode": "markers",
           "name": "Mercury",
           "scene": "scene",
           "showlegend": true,
           "type": "scatter3d",
           "x": [
            -59.250756515594
           ],
           "y": [
            -15.333963975817644
           ],
           "z": [
            -2.061157503720311
           ]
          },
          {
           "hovertemplate": "name=Neptune<br>index=189<br>x=%{x}<br>y=%{y}<br>z=%{z}<br>radius=%{marker.size}<extra></extra>",
           "ids": [
            "Neptune"
           ],
           "legendgroup": "Neptune",
           "marker": {
            "color": "cyan",
            "size": [
             10.15120663641638
            ],
            "sizemode": "area",
            "sizeref": 0.050903371511914326,
            "symbol": "circle"
           },
           "mode": "markers",
           "name": "Neptune",
           "scene": "scene",
           "showlegend": true,
           "type": "scatter3d",
           "x": [
            260.7824031150249
           ],
           "y": [
            -337.6077840836092
           ],
           "z": [
            -144.66205357417897
           ]
          },
          {
           "hovertemplate": "name=Saturn<br>index=189<br>x=%{x}<br>y=%{y}<br>z=%{z}<br>radius=%{marker.size}<extra></extra>",
           "ids": [
            "Saturn"
           ],
           "legendgroup": "Saturn",
           "marker": {
            "color": "khaki",
            "size": [
             10.972190310798094
            ],
            "sizemode": "area",
            "sizeref": 0.050903371511914326,
            "symbol": "circle"
           },
           "mode": "markers",
           "name": "Saturn",
           "scene": "scene",
           "showlegend": true,
           "type": "scatter3d",
           "x": [
            79.0878890255398
           ],
           "y": [
            104.16545490785772
           ],
           "z": [
            39.626581474148544
           ]
          },
          {
           "hovertemplate": "name=Uranus<br>index=189<br>x=%{x}<br>y=%{y}<br>z=%{z}<br>radius=%{marker.size}<extra></extra>",
           "ids": [
            "Uranus"
           ],
           "legendgroup": "Uranus",
           "marker": {
            "color": "lightcyan",
            "size": [
             10.141007269794844
            ],
            "sizemode": "area",
            "sizeref": 0.050903371511914326,
            "symbol": "circle"
           },
           "mode": "markers",
           "name": "Uranus",
           "scene": "scene",
           "showlegend": true,
           "type": "scatter3d",
           "x": [
            225.45340778290898
           ],
           "y": [
            -177.895992587269
           ],
           "z": [
            -81.10390089412729
           ]
          },
          {
           "hovertemplate": "name=Jupiter<br>index=189<br>x=%{x}<br>y=%{y}<br>z=%{z}<br>radius=%{marker.size}<extra></extra>",
           "ids": [
            "Jupiter"
           ],
           "legendgroup": "Jupiter",
           "marker": {
            "color": "chocolate",
            "size": [
             11.154978283509006
            ],
            "sizemode": "area",
            "sizeref": 0.050903371511914326,
            "symbol": "circle"
           },
           "mode": "markers",
           "name": "Jupiter",
           "scene": "scene",
           "showlegend": true,
           "type": "scatter3d",
           "x": [
            39.2992563330761
           ],
           "y": [
            59.03806950291663
           ],
           "z": [
            24.345126847132924
           ]
          },
          {
           "hovertemplate": "name=Earth<br>index=189<br>x=%{x}<br>y=%{y}<br>z=%{z}<br>radius=%{marker.size}<extra></extra>",
           "ids": [
            "Earth"
           ],
           "legendgroup": "Earth",
           "marker": {
            "color": "green",
            "size": [
             8.759511722116487
            ],
            "sizemode": "area",
            "sizeref": 0.050903371511914326,
            "symbol": "circle"
           },
           "mode": "markers",
           "name": "Earth",
           "scene": "scene",
           "showlegend": true,
           "type": "scatter3d",
           "x": [
            141.75228124388025
           ],
           "y": [
            -48.034881065863935
           ],
           "z": [
            -20.83987600678685
           ]
          }
         ],
         "name": "189"
        },
        {
         "data": [
          {
           "hovertemplate": "name=Sun<br>index=196<br>x=%{x}<br>y=%{y}<br>z=%{z}<br>radius=%{marker.size}<extra></extra>",
           "ids": [
            "Sun"
           ],
           "legendgroup": "Sun",
           "marker": {
            "color": "orange",
            "size": [
             20.36134860476573
            ],
            "sizemode": "area",
            "sizeref": 0.050903371511914326,
            "symbol": "circle"
           },
           "mode": "markers",
           "name": "Sun",
           "scene": "scene",
           "showlegend": true,
           "type": "scatter3d",
           "x": [
            4.269327597102605
           ],
           "y": [
            4.040532424039826
           ],
           "z": [
            0.4129111303650566
           ]
          },
          {
           "hovertemplate": "name=Mars<br>index=196<br>x=%{x}<br>y=%{y}<br>z=%{z}<br>radius=%{marker.size}<extra></extra>",
           "ids": [
            "Mars"
           ],
           "legendgroup": "Mars",
           "marker": {
            "color": "crimson",
            "size": [
             8.12843769687102
            ],
            "sizemode": "area",
            "sizeref": 0.050903371511914326,
            "symbol": "circle"
           },
           "mode": "markers",
           "name": "Mars",
           "scene": "scene",
           "showlegend": true,
           "type": "scatter3d",
           "x": [
            -54.954090399245544
           ],
           "y": [
            55.10104029137801
           ],
           "z": [
            26.764176362671915
           ]
          },
          {
           "hovertemplate": "name=Mercury<br>index=196<br>x=%{x}<br>y=%{y}<br>z=%{z}<br>radius=%{marker.size}<extra></extra>",
           "ids": [
            "Mercury"
           ],
           "legendgroup": "Mercury",
           "marker": {
            "color": "cornflowerblue",
            "size": [
             7.7996303599085035
            ],
            "sizemode": "area",
            "sizeref": 0.050903371511914326,
            "symbol": "circle"
           },
           "mode": "markers",
           "name": "Mercury",
           "scene": "scene",
           "showlegend": true,
           "type": "scatter3d",
           "x": [
            -52.52555880085224
           ],
           "y": [
            -37.15571399452579
           ],
           "z": [
            -14.415204362974924
           ]
          },
          {
           "hovertemplate": "name=Neptune<br>index=196<br>x=%{x}<br>y=%{y}<br>z=%{z}<br>radius=%{marker.size}<extra></extra>",
           "ids": [
            "Neptune"
           ],
           "legendgroup": "Neptune",
           "marker": {
            "color": "cyan",
            "size": [
             10.15120663641638
            ],
            "sizemode": "area",
            "sizeref": 0.050903371511914326,
            "symbol": "circle"
           },
           "mode": "markers",
           "name": "Neptune",
           "scene": "scene",
           "showlegend": true,
           "type": "scatter3d",
           "x": [
            261.047665575076
           ],
           "y": [
            -337.42667583934997
           ],
           "z": [
            -144.59451809745266
           ]
          },
          {
           "hovertemplate": "name=Saturn<br>index=196<br>x=%{x}<br>y=%{y}<br>z=%{z}<br>radius=%{marker.size}<extra></extra>",
           "ids": [
            "Saturn"
           ],
           "legendgroup": "Saturn",
           "marker": {
            "color": "khaki",
            "size": [
             10.972190310798094
            ],
            "sizemode": "area",
            "sizeref": 0.050903371511914326,
            "symbol": "circle"
           },
           "mode": "markers",
           "name": "Saturn",
           "scene": "scene",
           "showlegend": true,
           "type": "scatter3d",
           "x": [
            78.57957987300423
           ],
           "y": [
            104.46866264559176
           ],
           "z": [
            39.773659852219104
           ]
          },
          {
           "hovertemplate": "name=Uranus<br>index=196<br>x=%{x}<br>y=%{y}<br>z=%{z}<br>radius=%{marker.size}<extra></extra>",
           "ids": [
            "Uranus"
           ],
           "legendgroup": "Uranus",
           "marker": {
            "color": "lightcyan",
            "size": [
             10.141007269794844
            ],
            "sizemode": "area",
            "sizeref": 0.050903371511914326,
            "symbol": "circle"
           },
           "mode": "markers",
           "name": "Uranus",
           "scene": "scene",
           "showlegend": true,
           "type": "scatter3d",
           "x": [
            225.71953391937973
           ],
           "y": [
            -177.6263162314096
           ],
           "z": [
            -80.98957739406345
           ]
          },
          {
           "hovertemplate": "name=Jupiter<br>index=196<br>x=%{x}<br>y=%{y}<br>z=%{z}<br>radius=%{marker.size}<extra></extra>",
           "ids": [
            "Jupiter"
           ],
           "legendgroup": "Jupiter",
           "marker": {
            "color": "chocolate",
            "size": [
             11.154978283509006
            ],
            "sizemode": "area",
            "sizeref": 0.050903371511914326,
            "symbol": "circle"
           },
           "mode": "markers",
           "name": "Jupiter",
           "scene": "scene",
           "showlegend": true,
           "type": "scatter3d",
           "x": [
            38.61339561709812
           ],
           "y": [
            59.44413106532506
           ],
           "z": [
            24.535908516480916
           ]
          },
          {
           "hovertemplate": "name=Earth<br>index=196<br>x=%{x}<br>y=%{y}<br>z=%{z}<br>radius=%{marker.size}<extra></extra>",
           "ids": [
            "Earth"
           ],
           "legendgroup": "Earth",
           "marker": {
            "color": "green",
            "size": [
             8.759511722116487
            ],
            "sizemode": "area",
            "sizeref": 0.050903371511914326,
            "symbol": "circle"
           },
           "mode": "markers",
           "name": "Earth",
           "scene": "scene",
           "showlegend": true,
           "type": "scatter3d",
           "x": [
            146.69338577648935
           ],
           "y": [
            -32.29896720529329
           ],
           "z": [
            -14.020120013876117
           ]
          }
         ],
         "name": "196"
        },
        {
         "data": [
          {
           "hovertemplate": "name=Sun<br>index=203<br>x=%{x}<br>y=%{y}<br>z=%{z}<br>radius=%{marker.size}<extra></extra>",
           "ids": [
            "Sun"
           ],
           "legendgroup": "Sun",
           "marker": {
            "color": "orange",
            "size": [
             20.36134860476573
            ],
            "sizemode": "area",
            "sizeref": 0.050903371511914326,
            "symbol": "circle"
           },
           "mode": "markers",
           "name": "Sun",
           "scene": "scene",
           "showlegend": true,
           "type": "scatter3d",
           "x": [
            4.520787465229666
           ],
           "y": [
            4.292762582314863
           ],
           "z": [
            0.4601896888352747
           ]
          },
          {
           "hovertemplate": "name=Mars<br>index=203<br>x=%{x}<br>y=%{y}<br>z=%{z}<br>radius=%{marker.size}<extra></extra>",
           "ids": [
            "Mars"
           ],
           "legendgroup": "Mars",
           "marker": {
            "color": "crimson",
            "size": [
             8.12843769687102
            ],
            "sizemode": "area",
            "sizeref": 0.050903371511914326,
            "symbol": "circle"
           },
           "mode": "markers",
           "name": "Mars",
           "scene": "scene",
           "showlegend": true,
           "type": "scatter3d",
           "x": [
            -58.311743483275734
           ],
           "y": [
            52.38913207308785
           ],
           "z": [
            25.610778883401803
           ]
          },
          {
           "hovertemplate": "name=Mercury<br>index=203<br>x=%{x}<br>y=%{y}<br>z=%{z}<br>radius=%{marker.size}<extra></extra>",
           "ids": [
            "Mercury"
           ],
           "legendgroup": "Mercury",
           "marker": {
            "color": "cornflowerblue",
            "size": [
             7.7996303599085035
            ],
            "sizemode": "area",
            "sizeref": 0.050903371511914326,
            "symbol": "circle"
           },
           "mode": "markers",
           "name": "Mercury",
           "scene": "scene",
           "showlegend": true,
           "type": "scatter3d",
           "x": [
            -36.89908275636458
           ],
           "y": [
            -52.813332474685005
           ],
           "z": [
            -24.39934835163006
           ]
          },
          {
           "hovertemplate": "name=Neptune<br>index=203<br>x=%{x}<br>y=%{y}<br>z=%{z}<br>radius=%{marker.size}<extra></extra>",
           "ids": [
            "Neptune"
           ],
           "legendgroup": "Neptune",
           "marker": {
            "color": "cyan",
            "size": [
             10.15120663641638
            ],
            "sizemode": "area",
            "sizeref": 0.050903371511914326,
            "symbol": "circle"
           },
           "mode": "markers",
           "name": "Neptune",
           "scene": "scene",
           "showlegend": true,
           "type": "scatter3d",
           "x": [
            261.3127892671693
           ],
           "y": [
            -337.2453881101888
           ],
           "z": [
            -144.526905711117
           ]
          },
          {
           "hovertemplate": "name=Saturn<br>index=203<br>x=%{x}<br>y=%{y}<br>z=%{z}<br>radius=%{marker.size}<extra></extra>",
           "ids": [
            "Saturn"
           ],
           "legendgroup": "Saturn",
           "marker": {
            "color": "khaki",
            "size": [
             10.972190310798094
            ],
            "sizemode": "area",
            "sizeref": 0.050903371511914326,
            "symbol": "circle"
           },
           "mode": "markers",
           "name": "Saturn",
           "scene": "scene",
           "showlegend": true,
           "type": "scatter3d",
           "x": [
            78.06976759542155
           ],
           "y": [
            104.7698735305631
           ],
           "z": [
            39.91997832770451
           ]
          },
          {
           "hovertemplate": "name=Uranus<br>index=203<br>x=%{x}<br>y=%{y}<br>z=%{z}<br>radius=%{marker.size}<extra></extra>",
           "ids": [
            "Uranus"
           ],
           "legendgroup": "Uranus",
           "marker": {
            "color": "lightcyan",
            "size": [
             10.141007269794844
            ],
            "sizemode": "area",
            "sizeref": 0.050903371511914326,
            "symbol": "circle"
           },
           "mode": "markers",
           "name": "Uranus",
           "scene": "scene",
           "showlegend": true,
           "type": "scatter3d",
           "x": [
            225.9852474759313
           ],
           "y": [
            -177.35631506422047
           ],
           "z": [
            -80.87510579943212
           ]
          },
          {
           "hovertemplate": "name=Jupiter<br>index=203<br>x=%{x}<br>y=%{y}<br>z=%{z}<br>radius=%{marker.size}<extra></extra>",
           "ids": [
            "Jupiter"
           ],
           "legendgroup": "Jupiter",
           "marker": {
            "color": "chocolate",
            "size": [
             11.154978283509006
            ],
            "sizemode": "area",
            "sizeref": 0.050903371511914326,
            "symbol": "circle"
           },
           "mode": "markers",
           "name": "Jupiter",
           "scene": "scene",
           "showlegend": true,
           "type": "scatter3d",
           "x": [
            37.923095400581765
           ],
           "y": [
            59.843356872775146
           ],
           "z": [
            24.723868350114678
           ]
          },
          {
           "hovertemplate": "name=Earth<br>index=203<br>x=%{x}<br>y=%{y}<br>z=%{z}<br>radius=%{marker.size}<extra></extra>",
           "ids": [
            "Earth"
           ],
           "legendgroup": "Earth",
           "marker": {
            "color": "green",
            "size": [
             8.759511722116487
            ],
            "sizemode": "area",
            "sizeref": 0.050903371511914326,
            "symbol": "circle"
           },
           "mode": "markers",
           "name": "Earth",
           "scene": "scene",
           "showlegend": true,
           "type": "scatter3d",
           "x": [
            149.56193828424102
           ],
           "y": [
            -16.106131787059372
           ],
           "z": [
            -7.002217864391783
           ]
          }
         ],
         "name": "203"
        },
        {
         "data": [
          {
           "hovertemplate": "name=Sun<br>index=210<br>x=%{x}<br>y=%{y}<br>z=%{z}<br>radius=%{marker.size}<extra></extra>",
           "ids": [
            "Sun"
           ],
           "legendgroup": "Sun",
           "marker": {
            "color": "orange",
            "size": [
             20.36134860476573
            ],
            "sizemode": "area",
            "sizeref": 0.050903371511914326,
            "symbol": "circle"
           },
           "mode": "markers",
           "name": "Sun",
           "scene": "scene",
           "showlegend": true,
           "type": "scatter3d",
           "x": [
            4.7773953338322706
           ],
           "y": [
            4.551915299417421
           ],
           "z": [
            0.5103032883089639
           ]
          },
          {
           "hovertemplate": "name=Mars<br>index=210<br>x=%{x}<br>y=%{y}<br>z=%{z}<br>radius=%{marker.size}<extra></extra>",
           "ids": [
            "Mars"
           ],
           "legendgroup": "Mars",
           "marker": {
            "color": "crimson",
            "size": [
             8.12843769687102
            ],
            "sizemode": "area",
            "sizeref": 0.050903371511914326,
            "symbol": "circle"
           },
           "mode": "markers",
           "name": "Mars",
           "scene": "scene",
           "showlegend": true,
           "type": "scatter3d",
           "x": [
            -61.48243725985586
           ],
           "y": [
            49.50936612920347
           ],
           "z": [
            24.37530403792753
           ]
          },
          {
           "hovertemplate": "name=Mercury<br>index=210<br>x=%{x}<br>y=%{y}<br>z=%{z}<br>radius=%{marker.size}<extra></extra>",
           "ids": [
            "Mercury"
           ],
           "legendgroup": "Mercury",
           "marker": {
            "color": "cornflowerblue",
            "size": [
             7.7996303599085035
            ],
            "sizemode": "area",
            "sizeref": 0.050903371511914326,
            "symbol": "circle"
           },
           "mode": "markers",
           "name": "Mercury",
           "scene": "scene",
           "showlegend": true,
           "type": "scatter3d",
           "x": [
            -15.785339274600094
           ],
           "y": [
            -60.70243229313077
           ],
           "z": [
            -30.80268878621432
           ]
          },
          {
           "hovertemplate": "name=Neptune<br>index=210<br>x=%{x}<br>y=%{y}<br>z=%{z}<br>radius=%{marker.size}<extra></extra>",
           "ids": [
            "Neptune"
           ],
           "legendgroup": "Neptune",
           "marker": {
            "color": "cyan",
            "size": [
             10.15120663641638
            ],
            "sizemode": "area",
            "sizeref": 0.050903371511914326,
            "symbol": "circle"
           },
           "mode": "markers",
           "name": "Neptune",
           "scene": "scene",
           "showlegend": true,
           "type": "scatter3d",
           "x": [
            261.5777740471947
           ],
           "y": [
            -337.0639209886144
           ],
           "z": [
            -144.45921644946498
           ]
          },
          {
           "hovertemplate": "name=Saturn<br>index=210<br>x=%{x}<br>y=%{y}<br>z=%{z}<br>radius=%{marker.size}<extra></extra>",
           "ids": [
            "Saturn"
           ],
           "legendgroup": "Saturn",
           "marker": {
            "color": "khaki",
            "size": [
             10.972190310798094
            ],
            "sizemode": "area",
            "sizeref": 0.050903371511914326,
            "symbol": "circle"
           },
           "mode": "markers",
           "name": "Saturn",
           "scene": "scene",
           "showlegend": true,
           "type": "scatter3d",
           "x": [
            77.55846124891106
           ],
           "y": [
            105.06908102413485
           ],
           "z": [
            40.06553380804922
           ]
          },
          {
           "hovertemplate": "name=Uranus<br>index=210<br>x=%{x}<br>y=%{y}<br>z=%{z}<br>radius=%{marker.size}<extra></extra>",
           "ids": [
            "Uranus"
           ],
           "legendgroup": "Uranus",
           "marker": {
            "color": "lightcyan",
            "size": [
             10.141007269794844
            ],
            "sizemode": "area",
            "sizeref": 0.050903371511914326,
            "symbol": "circle"
           },
           "mode": "markers",
           "name": "Uranus",
           "scene": "scene",
           "showlegend": true,
           "type": "scatter3d",
           "x": [
            226.25054800703256
           ],
           "y": [
            -177.08598961129996
           ],
           "z": [
            -80.76048633418418
           ]
          },
          {
           "hovertemplate": "name=Jupiter<br>index=210<br>x=%{x}<br>y=%{y}<br>z=%{z}<br>radius=%{marker.size}<extra></extra>",
           "ids": [
            "Jupiter"
           ],
           "legendgroup": "Jupiter",
           "marker": {
            "color": "chocolate",
            "size": [
             11.154978283509006
            ],
            "sizemode": "area",
            "sizeref": 0.050903371511914326,
            "symbol": "circle"
           },
           "mode": "markers",
           "name": "Jupiter",
           "scene": "scene",
           "showlegend": true,
           "type": "scatter3d",
           "x": [
            37.2284397820011
           ],
           "y": [
            60.235708348029945
           ],
           "z": [
            24.908987755363597
           ]
          },
          {
           "hovertemplate": "name=Earth<br>index=210<br>x=%{x}<br>y=%{y}<br>z=%{z}<br>radius=%{marker.size}<extra></extra>",
           "ids": [
            "Earth"
           ],
           "legendgroup": "Earth",
           "marker": {
            "color": "green",
            "size": [
             8.759511722116487
            ],
            "sizemode": "area",
            "sizeref": 0.050903371511914326,
            "symbol": "circle"
           },
           "mode": "markers",
           "name": "Earth",
           "scene": "scene",
           "showlegend": true,
           "type": "scatter3d",
           "x": [
            150.30575641792157
           ],
           "y": [
            0.31606674697707127
           ],
           "z": [
            0.11519938347246005
           ]
          }
         ],
         "name": "210"
        },
        {
         "data": [
          {
           "hovertemplate": "name=Sun<br>index=217<br>x=%{x}<br>y=%{y}<br>z=%{z}<br>radius=%{marker.size}<extra></extra>",
           "ids": [
            "Sun"
           ],
           "legendgroup": "Sun",
           "marker": {
            "color": "orange",
            "size": [
             20.36134860476573
            ],
            "sizemode": "area",
            "sizeref": 0.050903371511914326,
            "symbol": "circle"
           },
           "mode": "markers",
           "name": "Sun",
           "scene": "scene",
           "showlegend": true,
           "type": "scatter3d",
           "x": [
            5.039128527751126
           ],
           "y": [
            4.81808411322816
           ],
           "z": [
            0.5632873385550305
           ]
          },
          {
           "hovertemplate": "name=Mars<br>index=217<br>x=%{x}<br>y=%{y}<br>z=%{z}<br>radius=%{marker.size}<extra></extra>",
           "ids": [
            "Mars"
           ],
           "legendgroup": "Mars",
           "marker": {
            "color": "crimson",
            "size": [
             8.12843769687102
            ],
            "sizemode": "area",
            "sizeref": 0.050903371511914326,
            "symbol": "circle"
           },
           "mode": "markers",
           "name": "Mars",
           "scene": "scene",
           "showlegend": true,
           "type": "scatter3d",
           "x": [
            -64.45707939557776
           ],
           "y": [
            46.47184020324544
           ],
           "z": [
            23.062138144326674
           ]
          },
          {
           "hovertemplate": "name=Mercury<br>index=217<br>x=%{x}<br>y=%{y}<br>z=%{z}<br>radius=%{marker.size}<extra></extra>",
           "ids": [
            "Mercury"
           ],
           "legendgroup": "Mercury",
           "marker": {
            "color": "cornflowerblue",
            "size": [
             7.7996303599085035
            ],
            "sizemode": "area",
            "sizeref": 0.050903371511914326,
            "symbol": "circle"
           },
           "mode": "markers",
           "name": "Mercury",
           "scene": "scene",
           "showlegend": true,
           "type": "scatter3d",
           "x": [
            7.565010417393774
           ],
           "y": [
            -60.006437776576846
           ],
           "z": [
            -32.852075044240785
           ]
          },
          {
           "hovertemplate": "name=Neptune<br>index=217<br>x=%{x}<br>y=%{y}<br>z=%{z}<br>radius=%{marker.size}<extra></extra>",
           "ids": [
            "Neptune"
           ],
           "legendgroup": "Neptune",
           "marker": {
            "color": "cyan",
            "size": [
             10.15120663641638
            ],
            "sizemode": "area",
            "sizeref": 0.050903371511914326,
            "symbol": "circle"
           },
           "mode": "markers",
           "name": "Neptune",
           "scene": "scene",
           "showlegend": true,
           "type": "scatter3d",
           "x": [
            261.8426197711105
           ],
           "y": [
            -336.88227456721063
           ],
           "z": [
            -144.39145034683028
           ]
          },
          {
           "hovertemplate": "name=Saturn<br>index=217<br>x=%{x}<br>y=%{y}<br>z=%{z}<br>radius=%{marker.size}<extra></extra>",
           "ids": [
            "Saturn"
           ],
           "legendgroup": "Saturn",
           "marker": {
            "color": "khaki",
            "size": [
             10.972190310798094
            ],
            "sizemode": "area",
            "sizeref": 0.050903371511914326,
            "symbol": "circle"
           },
           "mode": "markers",
           "name": "Saturn",
           "scene": "scene",
           "showlegend": true,
           "type": "scatter3d",
           "x": [
            77.04566993123228
           ],
           "y": [
            105.36627862670792
           ],
           "z": [
            40.210323214899844
           ]
          },
          {
           "hovertemplate": "name=Uranus<br>index=217<br>x=%{x}<br>y=%{y}<br>z=%{z}<br>radius=%{marker.size}<extra></extra>",
           "ids": [
            "Uranus"
           ],
           "legendgroup": "Uranus",
           "marker": {
            "color": "lightcyan",
            "size": [
             10.141007269794844
            ],
            "sizemode": "area",
            "sizeref": 0.050903371511914326,
            "symbol": "circle"
           },
           "mode": "markers",
           "name": "Uranus",
           "scene": "scene",
           "showlegend": true,
           "type": "scatter3d",
           "x": [
            226.51543506790836
           ],
           "y": [
            -176.81534039864775
           ],
           "z": [
            -80.64571922245707
           ]
          },
          {
           "hovertemplate": "name=Jupiter<br>index=217<br>x=%{x}<br>y=%{y}<br>z=%{z}<br>radius=%{marker.size}<extra></extra>",
           "ids": [
            "Jupiter"
           ],
           "legendgroup": "Jupiter",
           "marker": {
            "color": "chocolate",
            "size": [
             11.154978283509006
            ],
            "sizemode": "area",
            "sizeref": 0.050903371511914326,
            "symbol": "circle"
           },
           "mode": "markers",
           "name": "Jupiter",
           "scene": "scene",
           "showlegend": true,
           "type": "scatter3d",
           "x": [
            36.52951323632008
           ],
           "y": [
            60.62114787527058
           ],
           "z": [
            25.09124854255054
           ]
          },
          {
           "hovertemplate": "name=Earth<br>index=217<br>x=%{x}<br>y=%{y}<br>z=%{z}<br>radius=%{marker.size}<extra></extra>",
           "ids": [
            "Earth"
           ],
           "legendgroup": "Earth",
           "marker": {
            "color": "green",
            "size": [
             8.759511722116487
            ],
            "sizemode": "area",
            "sizeref": 0.050903371511914326,
            "symbol": "circle"
           },
           "mode": "markers",
           "name": "Earth",
           "scene": "scene",
           "showlegend": true,
           "type": "scatter3d",
           "x": [
            148.9019257137209
           ],
           "y": [
            16.734263311186638
           ],
           "z": [
            7.230982429712476
           ]
          }
         ],
         "name": "217"
        },
        {
         "data": [
          {
           "hovertemplate": "name=Sun<br>index=224<br>x=%{x}<br>y=%{y}<br>z=%{z}<br>radius=%{marker.size}<extra></extra>",
           "ids": [
            "Sun"
           ],
           "legendgroup": "Sun",
           "marker": {
            "color": "orange",
            "size": [
             20.36134860476573
            ],
            "sizemode": "area",
            "sizeref": 0.050903371511914326,
            "symbol": "circle"
           },
           "mode": "markers",
           "name": "Sun",
           "scene": "scene",
           "showlegend": true,
           "type": "scatter3d",
           "x": [
            5.305956903039298
           ],
           "y": [
            5.091371274995278
           ],
           "z": [
            0.6191817126151692
           ]
          },
          {
           "hovertemplate": "name=Mars<br>index=224<br>x=%{x}<br>y=%{y}<br>z=%{z}<br>radius=%{marker.size}<extra></extra>",
           "ids": [
            "Mars"
           ],
           "legendgroup": "Mars",
           "marker": {
            "color": "crimson",
            "size": [
             8.12843769687102
            ],
            "sizemode": "area",
            "sizeref": 0.050903371511914326,
            "symbol": "circle"
           },
           "mode": "markers",
           "name": "Mars",
           "scene": "scene",
           "showlegend": true,
           "type": "scatter3d",
           "x": [
            -67.2271285317083
           ],
           "y": [
            43.286921104937925
           ],
           "z": [
            21.675805892939948
           ]
          },
          {
           "hovertemplate": "name=Mercury<br>index=224<br>x=%{x}<br>y=%{y}<br>z=%{z}<br>radius=%{marker.size}<extra></extra>",
           "ids": [
            "Mercury"
           ],
           "legendgroup": "Mercury",
           "marker": {
            "color": "cornflowerblue",
            "size": [
             7.7996303599085035
            ],
            "sizemode": "area",
            "sizeref": 0.050903371511914326,
            "symbol": "circle"
           },
           "mode": "markers",
           "name": "Mercury",
           "scene": "scene",
           "showlegend": true,
           "type": "scatter3d",
           "x": [
            29.75185277037635
           ],
           "y": [
            -50.43411589360465
           ],
           "z": [
            -30.039480824608393
           ]
          },
          {
           "hovertemplate": "name=Neptune<br>index=224<br>x=%{x}<br>y=%{y}<br>z=%{z}<br>radius=%{marker.size}<extra></extra>",
           "ids": [
            "Neptune"
           ],
           "legendgroup": "Neptune",
           "marker": {
            "color": "cyan",
            "size": [
             10.15120663641638
            ],
            "sizemode": "area",
            "sizeref": 0.050903371511914326,
            "symbol": "circle"
           },
           "mode": "markers",
           "name": "Neptune",
           "scene": "scene",
           "showlegend": true,
           "type": "scatter3d",
           "x": [
            262.107326294944
           ],
           "y": [
            -336.70044893865696
           ],
           "z": [
            -144.32360743758733
           ]
          },
          {
           "hovertemplate": "name=Saturn<br>index=224<br>x=%{x}<br>y=%{y}<br>z=%{z}<br>radius=%{marker.size}<extra></extra>",
           "ids": [
            "Saturn"
           ],
           "legendgroup": "Saturn",
           "marker": {
            "color": "khaki",
            "size": [
             10.972190310798094
            ],
            "sizemode": "area",
            "sizeref": 0.050903371511914326,
            "symbol": "circle"
           },
           "mode": "markers",
           "name": "Saturn",
           "scene": "scene",
           "showlegend": true,
           "type": "scatter3d",
           "x": [
            76.53140278162651
           ],
           "y": [
            105.66145987790203
           ],
           "z": [
            40.3543434841897
           ]
          },
          {
           "hovertemplate": "name=Uranus<br>index=224<br>x=%{x}<br>y=%{y}<br>z=%{z}<br>radius=%{marker.size}<extra></extra>",
           "ids": [
            "Uranus"
           ],
           "legendgroup": "Uranus",
           "marker": {
            "color": "lightcyan",
            "size": [
             10.141007269794844
            ],
            "sizemode": "area",
            "sizeref": 0.050903371511914326,
            "symbol": "circle"
           },
           "mode": "markers",
           "name": "Uranus",
           "scene": "scene",
           "showlegend": true,
           "type": "scatter3d",
           "x": [
            226.77990821453955
           ],
           "y": [
            -176.54436795266392
           ],
           "z": [
            -80.53080468857453
           ]
          },
          {
           "hovertemplate": "name=Jupiter<br>index=224<br>x=%{x}<br>y=%{y}<br>z=%{z}<br>radius=%{marker.size}<extra></extra>",
           "ids": [
            "Jupiter"
           ],
           "legendgroup": "Jupiter",
           "marker": {
            "color": "chocolate",
            "size": [
             11.154978283509006
            ],
            "sizemode": "area",
            "sizeref": 0.050903371511914326,
            "symbol": "circle"
           },
           "mode": "markers",
           "name": "Jupiter",
           "scene": "scene",
           "showlegend": true,
           "type": "scatter3d",
           "x": [
            35.82640060030531
           ],
           "y": [
            60.99963880202876
           ],
           "z": [
            25.2706329261772
           ]
          },
          {
           "hovertemplate": "name=Earth<br>index=224<br>x=%{x}<br>y=%{y}<br>z=%{z}<br>radius=%{marker.size}<extra></extra>",
           "ids": [
            "Earth"
           ],
           "legendgroup": "Earth",
           "marker": {
            "color": "green",
            "size": [
             8.759511722116487
            ],
            "sizemode": "area",
            "sizeref": 0.050903371511914326,
            "symbol": "circle"
           },
           "mode": "markers",
           "name": "Earth",
           "scene": "scene",
           "showlegend": true,
           "type": "scatter3d",
           "x": [
            145.357805783005
           ],
           "y": [
            32.9123913848805
           ],
           "z": [
            14.242809615693192
           ]
          }
         ],
         "name": "224"
        },
        {
         "data": [
          {
           "hovertemplate": "name=Sun<br>index=231<br>x=%{x}<br>y=%{y}<br>z=%{z}<br>radius=%{marker.size}<extra></extra>",
           "ids": [
            "Sun"
           ],
           "legendgroup": "Sun",
           "marker": {
            "color": "orange",
            "size": [
             20.36134860476573
            ],
            "sizemode": "area",
            "sizeref": 0.050903371511914326,
            "symbol": "circle"
           },
           "mode": "markers",
           "name": "Sun",
           "scene": "scene",
           "showlegend": true,
           "type": "scatter3d",
           "x": [
            5.57784956989652
           ],
           "y": [
            5.371888809599599
           ],
           "z": [
            0.6780306972413417
           ]
          },
          {
           "hovertemplate": "name=Mars<br>index=231<br>x=%{x}<br>y=%{y}<br>z=%{z}<br>radius=%{marker.size}<extra></extra>",
           "ids": [
            "Mars"
           ],
           "legendgroup": "Mars",
           "marker": {
            "color": "crimson",
            "size": [
             8.12843769687102
            ],
            "sizemode": "area",
            "sizeref": 0.050903371511914326,
            "symbol": "circle"
           },
           "mode": "markers",
           "name": "Mars",
           "scene": "scene",
           "showlegend": true,
           "type": "scatter3d",
           "x": [
            -69.78458867809744
           ],
           "y": [
            39.965231354285876
           ],
           "z": [
            20.220964066836597
           ]
          },
          {
           "hovertemplate": "name=Mercury<br>index=231<br>x=%{x}<br>y=%{y}<br>z=%{z}<br>radius=%{marker.size}<extra></extra>",
           "ids": [
            "Mercury"
           ],
           "legendgroup": "Mercury",
           "marker": {
            "color": "cornflowerblue",
            "size": [
             7.7996303599085035
            ],
            "sizemode": "area",
            "sizeref": 0.050903371511914326,
            "symbol": "circle"
           },
           "mode": "markers",
           "name": "Mercury",
           "scene": "scene",
           "showlegend": true,
           "type": "scatter3d",
           "x": [
            46.802983184973
           ],
           "y": [
            -32.37587128797044
           ],
           "z": [
            -22.161679145443824
           ]
          },
          {
           "hovertemplate": "name=Neptune<br>index=231<br>x=%{x}<br>y=%{y}<br>z=%{z}<br>radius=%{marker.size}<extra></extra>",
           "ids": [
            "Neptune"
           ],
           "legendgroup": "Neptune",
           "marker": {
            "color": "cyan",
            "size": [
             10.15120663641638
            ],
            "sizemode": "area",
            "sizeref": 0.050903371511914326,
            "symbol": "circle"
           },
           "mode": "markers",
           "name": "Neptune",
           "scene": "scene",
           "showlegend": true,
           "type": "scatter3d",
           "x": [
            262.3718934747916
           ],
           "y": [
            -336.51844419572825
           ],
           "z": [
            -144.25568775615122
           ]
          },
          {
           "hovertemplate": "name=Saturn<br>index=231<br>x=%{x}<br>y=%{y}<br>z=%{z}<br>radius=%{marker.size}<extra></extra>",
           "ids": [
            "Saturn"
           ],
           "legendgroup": "Saturn",
           "marker": {
            "color": "khaki",
            "size": [
             10.972190310798094
            ],
            "sizemode": "area",
            "sizeref": 0.050903371511914326,
            "symbol": "circle"
           },
           "mode": "markers",
           "name": "Saturn",
           "scene": "scene",
           "showlegend": true,
           "type": "scatter3d",
           "x": [
            76.01566898065327
           ],
           "y": [
            105.95461835673504
           ],
           "z": [
            40.49759156622288
           ]
          },
          {
           "hovertemplate": "name=Uranus<br>index=231<br>x=%{x}<br>y=%{y}<br>z=%{z}<br>radius=%{marker.size}<extra></extra>",
           "ids": [
            "Uranus"
           ],
           "legendgroup": "Uranus",
           "marker": {
            "color": "lightcyan",
            "size": [
             10.141007269794844
            ],
            "sizemode": "area",
            "sizeref": 0.050903371511914326,
            "symbol": "circle"
           },
           "mode": "markers",
           "name": "Uranus",
           "scene": "scene",
           "showlegend": true,
           "type": "scatter3d",
           "x": [
            227.0439670036637
           ],
           "y": [
            -176.27307280014833
           ],
           "z": [
            -80.41574295704628
           ]
          },
          {
           "hovertemplate": "name=Jupiter<br>index=231<br>x=%{x}<br>y=%{y}<br>z=%{z}<br>radius=%{marker.size}<extra></extra>",
           "ids": [
            "Jupiter"
           ],
           "legendgroup": "Jupiter",
           "marker": {
            "color": "chocolate",
            "size": [
             11.154978283509006
            ],
            "sizemode": "area",
            "sizeref": 0.050903371511914326,
            "symbol": "circle"
           },
           "mode": "markers",
           "name": "Jupiter",
           "scene": "scene",
           "showlegend": true,
           "type": "scatter3d",
           "x": [
            35.11918705786584
           ],
           "y": [
            61.37114544090487
           ],
           "z": [
            25.447123526016842
           ]
          },
          {
           "hovertemplate": "name=Earth<br>index=231<br>x=%{x}<br>y=%{y}<br>z=%{z}<br>radius=%{marker.size}<extra></extra>",
           "ids": [
            "Earth"
           ],
           "legendgroup": "Earth",
           "marker": {
            "color": "green",
            "size": [
             8.759511722116487
            ],
            "sizemode": "area",
            "sizeref": 0.050903371511914326,
            "symbol": "circle"
           },
           "mode": "markers",
           "name": "Earth",
           "scene": "scene",
           "showlegend": true,
           "type": "scatter3d",
           "x": [
            139.71165857967918
           ],
           "y": [
            48.61497908483488
           ],
           "z": [
            21.04861555447348
           ]
          }
         ],
         "name": "231"
        },
        {
         "data": [
          {
           "hovertemplate": "name=Sun<br>index=238<br>x=%{x}<br>y=%{y}<br>z=%{z}<br>radius=%{marker.size}<extra></extra>",
           "ids": [
            "Sun"
           ],
           "legendgroup": "Sun",
           "marker": {
            "color": "orange",
            "size": [
             20.36134860476573
            ],
            "sizemode": "area",
            "sizeref": 0.050903371511914326,
            "symbol": "circle"
           },
           "mode": "markers",
           "name": "Sun",
           "scene": "scene",
           "showlegend": true,
           "type": "scatter3d",
           "x": [
            5.8547809665014485
           ],
           "y": [
            5.659768834696838
           ],
           "z": [
            0.7398879745313086
           ]
          },
          {
           "hovertemplate": "name=Mars<br>index=238<br>x=%{x}<br>y=%{y}<br>z=%{z}<br>radius=%{marker.size}<extra></extra>",
           "ids": [
            "Mars"
           ],
           "legendgroup": "Mars",
           "marker": {
            "color": "crimson",
            "size": [
             8.12843769687102
            ],
            "sizemode": "area",
            "sizeref": 0.050903371511914326,
            "symbol": "circle"
           },
           "mode": "markers",
           "name": "Mars",
           "scene": "scene",
           "showlegend": true,
           "type": "scatter3d",
           "x": [
            -72.12200487207642
           ],
           "y": [
            36.51763773119733
           ],
           "z": [
            18.702396170819245
           ]
          },
          {
           "hovertemplate": "name=Mercury<br>index=238<br>x=%{x}<br>y=%{y}<br>z=%{z}<br>radius=%{marker.size}<extra></extra>",
           "ids": [
            "Mercury"
           ],
           "legendgroup": "Mercury",
           "marker": {
            "color": "cornflowerblue",
            "size": [
             7.7996303599085035
            ],
            "sizemode": "area",
            "sizeref": 0.050903371511914326,
            "symbol": "circle"
           },
           "mode": "markers",
           "name": "Mercury",
           "scene": "scene",
           "showlegend": true,
           "type": "scatter3d",
           "x": [
            53.819777916593274
           ],
           "y": [
            -7.643715101319734
           ],
           "z": [
            -9.678773318279998
           ]
          },
          {
           "hovertemplate": "name=Neptune<br>index=238<br>x=%{x}<br>y=%{y}<br>z=%{z}<br>radius=%{marker.size}<extra></extra>",
           "ids": [
            "Neptune"
           ],
           "legendgroup": "Neptune",
           "marker": {
            "color": "cyan",
            "size": [
             10.15120663641638
            ],
            "sizemode": "area",
            "sizeref": 0.050903371511914326,
            "symbol": "circle"
           },
           "mode": "markers",
           "name": "Neptune",
           "scene": "scene",
           "showlegend": true,
           "type": "scatter3d",
           "x": [
            262.6363211668187
           ],
           "y": [
            -336.33626043129465
           ],
           "z": [
            -144.18769133697782
           ]
          },
          {
           "hovertemplate": "name=Saturn<br>index=238<br>x=%{x}<br>y=%{y}<br>z=%{z}<br>radius=%{marker.size}<extra></extra>",
           "ids": [
            "Saturn"
           ],
           "legendgroup": "Saturn",
           "marker": {
            "color": "khaki",
            "size": [
             10.972190310798094
            ],
            "sizemode": "area",
            "sizeref": 0.050903371511914326,
            "symbol": "circle"
           },
           "mode": "markers",
           "name": "Saturn",
           "scene": "scene",
           "showlegend": true,
           "type": "scatter3d",
           "x": [
            75.49847775002193
           ],
           "y": [
            106.24574768179984
           ],
           "z": [
            40.640064425757984
           ]
          },
          {
           "hovertemplate": "name=Uranus<br>index=238<br>x=%{x}<br>y=%{y}<br>z=%{z}<br>radius=%{marker.size}<extra></extra>",
           "ids": [
            "Uranus"
           ],
           "legendgroup": "Uranus",
           "marker": {
            "color": "lightcyan",
            "size": [
             10.141007269794844
            ],
            "sizemode": "area",
            "sizeref": 0.050903371511914326,
            "symbol": "circle"
           },
           "mode": "markers",
           "name": "Uranus",
           "scene": "scene",
           "showlegend": true,
           "type": "scatter3d",
           "x": [
            227.30761099277544
           ],
           "y": [
            -176.00145546829992
           ],
           "z": [
            -80.30053425256772
           ]
          },
          {
           "hovertemplate": "name=Jupiter<br>index=238<br>x=%{x}<br>y=%{y}<br>z=%{z}<br>radius=%{marker.size}<extra></extra>",
           "ids": [
            "Jupiter"
           ],
           "legendgroup": "Jupiter",
           "marker": {
            "color": "chocolate",
            "size": [
             11.154978283509006
            ],
            "sizemode": "area",
            "sizeref": 0.050903371511914326,
            "symbol": "circle"
           },
           "mode": "markers",
           "name": "Jupiter",
           "scene": "scene",
           "showlegend": true,
           "type": "scatter3d",
           "x": [
            34.40795812542534
           ],
           "y": [
            61.73563307107403
           ],
           "z": [
            25.62070336811568
           ]
          },
          {
           "hovertemplate": "name=Earth<br>index=238<br>x=%{x}<br>y=%{y}<br>z=%{z}<br>radius=%{marker.size}<extra></extra>",
           "ids": [
            "Earth"
           ],
           "legendgroup": "Earth",
           "marker": {
            "color": "green",
            "size": [
             8.759511722116487
            ],
            "sizemode": "area",
            "sizeref": 0.050903371511914326,
            "symbol": "circle"
           },
           "mode": "markers",
           "name": "Earth",
           "scene": "scene",
           "showlegend": true,
           "type": "scatter3d",
           "x": [
            132.0328494031473
           ],
           "y": [
            63.610600378980074
           ],
           "z": [
            27.54808702767125
           ]
          }
         ],
         "name": "238"
        },
        {
         "data": [
          {
           "hovertemplate": "name=Sun<br>index=245<br>x=%{x}<br>y=%{y}<br>z=%{z}<br>radius=%{marker.size}<extra></extra>",
           "ids": [
            "Sun"
           ],
           "legendgroup": "Sun",
           "marker": {
            "color": "orange",
            "size": [
             20.36134860476573
            ],
            "sizemode": "area",
            "sizeref": 0.050903371511914326,
            "symbol": "circle"
           },
           "mode": "markers",
           "name": "Sun",
           "scene": "scene",
           "showlegend": true,
           "type": "scatter3d",
           "x": [
            6.136724235635853
           ],
           "y": [
            5.9551886057110615
           ],
           "z": [
            0.8048308039811168
           ]
          },
          {
           "hovertemplate": "name=Mars<br>index=245<br>x=%{x}<br>y=%{y}<br>z=%{z}<br>radius=%{marker.size}<extra></extra>",
           "ids": [
            "Mars"
           ],
           "legendgroup": "Mars",
           "marker": {
            "color": "crimson",
            "size": [
             8.12843769687102
            ],
            "sizemode": "area",
            "sizeref": 0.050903371511914326,
            "symbol": "circle"
           },
           "mode": "markers",
           "name": "Mars",
           "scene": "scene",
           "showlegend": true,
           "type": "scatter3d",
           "x": [
            -74.23246028500091
           ],
           "y": [
            32.95524149758336
           ],
           "z": [
            17.125007866996327
           ]
          },
          {
           "hovertemplate": "name=Mercury<br>index=245<br>x=%{x}<br>y=%{y}<br>z=%{z}<br>radius=%{marker.size}<extra></extra>",
           "ids": [
            "Mercury"
           ],
           "legendgroup": "Mercury",
           "marker": {
            "color": "cornflowerblue",
            "size": [
             7.7996303599085035
            ],
            "sizemode": "area",
            "sizeref": 0.050903371511914326,
            "symbol": "circle"
           },
           "mode": "markers",
           "name": "Mercury",
           "scene": "scene",
           "showlegend": true,
           "type": "scatter3d",
           "x": [
            45.49824571507288
           ],
           "y": [
            18.87982729131377
           ],
           "z": [
            5.351010573305334
           ]
          },
          {
           "hovertemplate": "name=Neptune<br>index=245<br>x=%{x}<br>y=%{y}<br>z=%{z}<br>radius=%{marker.size}<extra></extra>",
           "ids": [
            "Neptune"
           ],
           "legendgroup": "Neptune",
           "marker": {
            "color": "cyan",
            "size": [
             10.15120663641638
            ],
            "sizemode": "area",
            "sizeref": 0.050903371511914326,
            "symbol": "circle"
           },
           "mode": "markers",
           "name": "Neptune",
           "scene": "scene",
           "showlegend": true,
           "type": "scatter3d",
           "x": [
            262.9006092272598
           ],
           "y": [
            -336.1538977383218
           ],
           "z": [
            -144.11961821456373
           ]
          },
          {
           "hovertemplate": "name=Saturn<br>index=245<br>x=%{x}<br>y=%{y}<br>z=%{z}<br>radius=%{marker.size}<extra></extra>",
           "ids": [
            "Saturn"
           ],
           "legendgroup": "Saturn",
           "marker": {
            "color": "khaki",
            "size": [
             10.972190310798094
            ],
            "sizemode": "area",
            "sizeref": 0.050903371511914326,
            "symbol": "circle"
           },
           "mode": "markers",
           "name": "Saturn",
           "scene": "scene",
           "showlegend": true,
           "type": "scatter3d",
           "x": [
            74.97983835241851
           ],
           "y": [
            106.53484151144
           ],
           "z": [
            40.78175904209157
           ]
          },
          {
           "hovertemplate": "name=Uranus<br>index=245<br>x=%{x}<br>y=%{y}<br>z=%{z}<br>radius=%{marker.size}<extra></extra>",
           "ids": [
            "Uranus"
           ],
           "legendgroup": "Uranus",
           "marker": {
            "color": "lightcyan",
            "size": [
             10.141007269794844
            ],
            "sizemode": "area",
            "sizeref": 0.050903371511914326,
            "symbol": "circle"
           },
           "mode": "markers",
           "name": "Uranus",
           "scene": "scene",
           "showlegend": true,
           "type": "scatter3d",
           "x": [
            227.57083974012681
           ],
           "y": [
            -175.7295164847161
           ],
           "z": [
            -80.18517880001967
           ]
          },
          {
           "hovertemplate": "name=Jupiter<br>index=245<br>x=%{x}<br>y=%{y}<br>z=%{z}<br>radius=%{marker.size}<extra></extra>",
           "ids": [
            "Jupiter"
           ],
           "legendgroup": "Jupiter",
           "marker": {
            "color": "chocolate",
            "size": [
             11.154978283509006
            ],
            "sizemode": "area",
            "sizeref": 0.050903371511914326,
            "symbol": "circle"
           },
           "mode": "markers",
           "name": "Jupiter",
           "scene": "scene",
           "showlegend": true,
           "type": "scatter3d",
           "x": [
            33.69279963733232
           ],
           "y": [
            62.09306793958432
           ],
           "z": [
            25.791355885704622
           ]
          },
          {
           "hovertemplate": "name=Earth<br>index=245<br>x=%{x}<br>y=%{y}<br>z=%{z}<br>radius=%{marker.size}<extra></extra>",
           "ids": [
            "Earth"
           ],
           "legendgroup": "Earth",
           "marker": {
            "color": "green",
            "size": [
             8.759511722116487
            ],
            "sizemode": "area",
            "sizeref": 0.050903371511914326,
            "symbol": "circle"
           },
           "mode": "markers",
           "name": "Earth",
           "scene": "scene",
           "showlegend": true,
           "type": "scatter3d",
           "x": [
            122.421574228797
           ],
           "y": [
            77.67543450896957
           ],
           "z": [
            33.644205812954525
           ]
          }
         ],
         "name": "245"
        },
        {
         "data": [
          {
           "hovertemplate": "name=Sun<br>index=252<br>x=%{x}<br>y=%{y}<br>z=%{z}<br>radius=%{marker.size}<extra></extra>",
           "ids": [
            "Sun"
           ],
           "legendgroup": "Sun",
           "marker": {
            "color": "orange",
            "size": [
             20.36134860476573
            ],
            "sizemode": "area",
            "sizeref": 0.050903371511914326,
            "symbol": "circle"
           },
           "mode": "markers",
           "name": "Sun",
           "scene": "scene",
           "showlegend": true,
           "type": "scatter3d",
           "x": [
            6.423594308513135
           ],
           "y": [
            6.2583970032619
           ],
           "z": [
            0.8729802062297689
           ]
          },
          {
           "hovertemplate": "name=Mars<br>index=252<br>x=%{x}<br>y=%{y}<br>z=%{z}<br>radius=%{marker.size}<extra></extra>",
           "ids": [
            "Mars"
           ],
           "legendgroup": "Mars",
           "marker": {
            "color": "crimson",
            "size": [
             8.12843769687102
            ],
            "sizemode": "area",
            "sizeref": 0.050903371511914326,
            "symbol": "circle"
           },
           "mode": "markers",
           "name": "Mars",
           "scene": "scene",
           "showlegend": true,
           "type": "scatter3d",
           "x": [
            -76.10957493954102
           ],
           "y": [
            29.289370059226673
           ],
           "z": [
            15.49382311461981
           ]
          },
          {
           "hovertemplate": "name=Mercury<br>index=252<br>x=%{x}<br>y=%{y}<br>z=%{z}<br>radius=%{marker.size}<extra></extra>",
           "ids": [
            "Mercury"
           ],
           "legendgroup": "Mercury",
           "marker": {
            "color": "cornflowerblue",
            "size": [
             7.7996303599085035
            ],
            "sizemode": "area",
            "sizeref": 0.050903371511914326,
            "symbol": "circle"
           },
           "mode": "markers",
           "name": "Mercury",
           "scene": "scene",
           "showlegend": true,
           "type": "scatter3d",
           "x": [
            19.909934429616506
           ],
           "y": [
            37.69154221602029
           ],
           "z": [
            18.051348673052345
           ]
          },
          {
           "hovertemplate": "name=Neptune<br>index=252<br>x=%{x}<br>y=%{y}<br>z=%{z}<br>radius=%{marker.size}<extra></extra>",
           "ids": [
            "Neptune"
           ],
           "legendgroup": "Neptune",
           "marker": {
            "color": "cyan",
            "size": [
             10.15120663641638
            ],
            "sizemode": "area",
            "sizeref": 0.050903371511914326,
            "symbol": "circle"
           },
           "mode": "markers",
           "name": "Neptune",
           "scene": "scene",
           "showlegend": true,
           "type": "scatter3d",
           "x": [
            263.1647575124194
           ],
           "y": [
            -335.97135620987063
           ],
           "z": [
            -144.05146842344624
           ]
          },
          {
           "hovertemplate": "name=Saturn<br>index=252<br>x=%{x}<br>y=%{y}<br>z=%{z}<br>radius=%{marker.size}<extra></extra>",
           "ids": [
            "Saturn"
           ],
           "legendgroup": "Saturn",
           "marker": {
            "color": "khaki",
            "size": [
             10.972190310798094
            ],
            "sizemode": "area",
            "sizeref": 0.050903371511914326,
            "symbol": "circle"
           },
           "mode": "markers",
           "name": "Saturn",
           "scene": "scene",
           "showlegend": true,
           "type": "scatter3d",
           "x": [
            74.45976009132823
           ],
           "y": [
            106.82189354392428
           ],
           "z": [
            40.92267240914152
           ]
          },
          {
           "hovertemplate": "name=Uranus<br>index=252<br>x=%{x}<br>y=%{y}<br>z=%{z}<br>radius=%{marker.size}<extra></extra>",
           "ids": [
            "Uranus"
           ],
           "legendgroup": "Uranus",
           "marker": {
            "color": "lightcyan",
            "size": [
             10.141007269794844
            ],
            "sizemode": "area",
            "sizeref": 0.050903371511914326,
            "symbol": "circle"
           },
           "mode": "markers",
           "name": "Uranus",
           "scene": "scene",
           "showlegend": true,
           "type": "scatter3d",
           "x": [
            227.83365280472748
           ],
           "y": [
            -175.45725637739193
           ],
           "z": [
            -80.06967682446799
           ]
          },
          {
           "hovertemplate": "name=Jupiter<br>index=252<br>x=%{x}<br>y=%{y}<br>z=%{z}<br>radius=%{marker.size}<extra></extra>",
           "ids": [
            "Jupiter"
           ],
           "legendgroup": "Jupiter",
           "marker": {
            "color": "chocolate",
            "size": [
             11.154978283509006
            ],
            "sizemode": "area",
            "sizeref": 0.050903371511914326,
            "symbol": "circle"
           },
           "mode": "markers",
           "name": "Jupiter",
           "scene": "scene",
           "showlegend": true,
           "type": "scatter3d",
           "x": [
            32.97379773131775
           ],
           "y": [
            62.44341726245515
           ],
           "z": [
            25.959064920024367
           ]
          },
          {
           "hovertemplate": "name=Earth<br>index=252<br>x=%{x}<br>y=%{y}<br>z=%{z}<br>radius=%{marker.size}<extra></extra>",
           "ids": [
            "Earth"
           ],
           "legendgroup": "Earth",
           "marker": {
            "color": "green",
            "size": [
             8.759511722116487
            ],
            "sizemode": "area",
            "sizeref": 0.050903371511914326,
            "symbol": "circle"
           },
           "mode": "markers",
           "name": "Earth",
           "scene": "scene",
           "showlegend": true,
           "type": "scatter3d",
           "x": [
            111.00807303985027
           ],
           "y": [
            90.59687529158542
           ],
           "z": [
            39.244813166830234
           ]
          }
         ],
         "name": "252"
        },
        {
         "data": [
          {
           "hovertemplate": "name=Sun<br>index=259<br>x=%{x}<br>y=%{y}<br>z=%{z}<br>radius=%{marker.size}<extra></extra>",
           "ids": [
            "Sun"
           ],
           "legendgroup": "Sun",
           "marker": {
            "color": "orange",
            "size": [
             20.36134860476573
            ],
            "sizemode": "area",
            "sizeref": 0.050903371511914326,
            "symbol": "circle"
           },
           "mode": "markers",
           "name": "Sun",
           "scene": "scene",
           "showlegend": true,
           "type": "scatter3d",
           "x": [
            6.715135074974295
           ],
           "y": [
            6.569651969959967
           ],
           "z": [
            0.9444793923177411
           ]
          },
          {
           "hovertemplate": "name=Mars<br>index=259<br>x=%{x}<br>y=%{y}<br>z=%{z}<br>radius=%{marker.size}<extra></extra>",
           "ids": [
            "Mars"
           ],
           "legendgroup": "Mars",
           "marker": {
            "color": "crimson",
            "size": [
             8.12843769687102
            ],
            "sizemode": "area",
            "sizeref": 0.050903371511914326,
            "symbol": "circle"
           },
           "mode": "markers",
           "name": "Mars",
           "scene": "scene",
           "showlegend": true,
           "type": "scatter3d",
           "x": [
            -77.74750618391684
           ],
           "y": [
            25.53156983374072
           ],
           "z": [
            13.813980911017302
           ]
          },
          {
           "hovertemplate": "name=Mercury<br>index=259<br>x=%{x}<br>y=%{y}<br>z=%{z}<br>radius=%{marker.size}<extra></extra>",
           "ids": [
            "Mercury"
           ],
           "legendgroup": "Mercury",
           "marker": {
            "color": "cornflowerblue",
            "size": [
             7.7996303599085035
            ],
            "sizemode": "area",
            "sizeref": 0.050903371511914326,
            "symbol": "circle"
           },
           "mode": "markers",
           "name": "Mercury",
           "scene": "scene",
           "showlegend": true,
           "type": "scatter3d",
           "x": [
            -14.681834028115343
           ],
           "y": [
            39.03258532630579
           ],
           "z": [
            22.352873441577596
           ]
          },
          {
           "hovertemplate": "name=Neptune<br>index=259<br>x=%{x}<br>y=%{y}<br>z=%{z}<br>radius=%{marker.size}<extra></extra>",
           "ids": [
            "Neptune"
           ],
           "legendgroup": "Neptune",
           "marker": {
            "color": "cyan",
            "size": [
             10.15120663641638
            ],
            "sizemode": "area",
            "sizeref": 0.050903371511914326,
            "symbol": "circle"
           },
           "mode": "markers",
           "name": "Neptune",
           "scene": "scene",
           "showlegend": true,
           "type": "scatter3d",
           "x": [
            263.4287658786711
           ],
           "y": [
            -335.78863593909773
           ],
           "z": [
            -143.98324199820343
           ]
          },
          {
           "hovertemplate": "name=Saturn<br>index=259<br>x=%{x}<br>y=%{y}<br>z=%{z}<br>radius=%{marker.size}<extra></extra>",
           "ids": [
            "Saturn"
           ],
           "legendgroup": "Saturn",
           "marker": {
            "color": "khaki",
            "size": [
             10.972190310798094
            ],
            "sizemode": "area",
            "sizeref": 0.050903371511914326,
            "symbol": "circle"
           },
           "mode": "markers",
           "name": "Saturn",
           "scene": "scene",
           "showlegend": true,
           "type": "scatter3d",
           "x": [
            73.93825231085478
           ],
           "y": [
            107.10689751761933
           ],
           "z": [
            41.0628015355299
           ]
          },
          {
           "hovertemplate": "name=Uranus<br>index=259<br>x=%{x}<br>y=%{y}<br>z=%{z}<br>radius=%{marker.size}<extra></extra>",
           "ids": [
            "Uranus"
           ],
           "legendgroup": "Uranus",
           "marker": {
            "color": "lightcyan",
            "size": [
             10.141007269794844
            ],
            "sizemode": "area",
            "sizeref": 0.050903371511914326,
            "symbol": "circle"
           },
           "mode": "markers",
           "name": "Uranus",
           "scene": "scene",
           "showlegend": true,
           "type": "scatter3d",
           "x": [
            228.09604974634547
           ],
           "y": [
            -175.18467567471913
           ],
           "z": [
            -79.95402855116335
           ]
          },
          {
           "hovertemplate": "name=Jupiter<br>index=259<br>x=%{x}<br>y=%{y}<br>z=%{z}<br>radius=%{marker.size}<extra></extra>",
           "ids": [
            "Jupiter"
           ],
           "legendgroup": "Jupiter",
           "marker": {
            "color": "chocolate",
            "size": [
             11.154978283509006
            ],
            "sizemode": "area",
            "sizeref": 0.050903371511914326,
            "symbol": "circle"
           },
           "mode": "markers",
           "name": "Jupiter",
           "scene": "scene",
           "showlegend": true,
           "type": "scatter3d",
           "x": [
            32.251038834018324
           ],
           "y": [
            62.78664922557688
           ],
           "z": [
            26.123814721062747
           ]
          },
          {
           "hovertemplate": "name=Earth<br>index=259<br>x=%{x}<br>y=%{y}<br>z=%{z}<br>radius=%{marker.size}<extra></extra>",
           "ids": [
            "Earth"
           ],
           "legendgroup": "Earth",
           "marker": {
            "color": "green",
            "size": [
             8.759511722116487
            ],
            "sizemode": "area",
            "sizeref": 0.050903371511914326,
            "symbol": "circle"
           },
           "mode": "markers",
           "name": "Earth",
           "scene": "scene",
           "showlegend": true,
           "type": "scatter3d",
           "x": [
            97.95129822853164
           ],
           "y": [
            102.17712091446731
           ],
           "z": [
            44.26416585913001
           ]
          }
         ],
         "name": "259"
        },
        {
         "data": [
          {
           "hovertemplate": "name=Sun<br>index=266<br>x=%{x}<br>y=%{y}<br>z=%{z}<br>radius=%{marker.size}<extra></extra>",
           "ids": [
            "Sun"
           ],
           "legendgroup": "Sun",
           "marker": {
            "color": "orange",
            "size": [
             20.36134860476573
            ],
            "sizemode": "area",
            "sizeref": 0.050903371511914326,
            "symbol": "circle"
           },
           "mode": "markers",
           "name": "Sun",
           "scene": "scene",
           "showlegend": true,
           "type": "scatter3d",
           "x": [
            7.010957961659098
           ],
           "y": [
            6.889047389002609
           ],
           "z": [
            1.0193974569084792
           ]
          },
          {
           "hovertemplate": "name=Mars<br>index=266<br>x=%{x}<br>y=%{y}<br>z=%{z}<br>radius=%{marker.size}<extra></extra>",
           "ids": [
            "Mars"
           ],
           "legendgroup": "Mars",
           "marker": {
            "color": "crimson",
            "size": [
             8.12843769687102
            ],
            "sizemode": "area",
            "sizeref": 0.050903371511914326,
            "symbol": "circle"
           },
           "mode": "markers",
           "name": "Mars",
           "scene": "scene",
           "showlegend": true,
           "type": "scatter3d",
           "x": [
            -79.14095105682613
           ],
           "y": [
            21.693600088619508
           ],
           "z": [
            12.090732528879018
           ]
          },
          {
           "hovertemplate": "name=Mercury<br>index=266<br>x=%{x}<br>y=%{y}<br>z=%{z}<br>radius=%{marker.size}<extra></extra>",
           "ids": [
            "Mercury"
           ],
           "legendgroup": "Mercury",
           "marker": {
            "color": "cornflowerblue",
            "size": [
             7.7996303599085035
            ],
            "sizemode": "area",
            "sizeref": 0.050903371511914326,
            "symbol": "circle"
           },
           "mode": "markers",
           "name": "Mercury",
           "scene": "scene",
           "showlegend": true,
           "type": "scatter3d",
           "x": [
            -43.29431827087679
           ],
           "y": [
            23.265790846009004
           ],
           "z": [
            16.896260396084273
           ]
          },
          {
           "hovertemplate": "name=Neptune<br>index=266<br>x=%{x}<br>y=%{y}<br>z=%{z}<br>radius=%{marker.size}<extra></extra>",
           "ids": [
            "Neptune"
           ],
           "legendgroup": "Neptune",
           "marker": {
            "color": "cyan",
            "size": [
             10.15120663641638
            ],
            "sizemode": "area",
            "sizeref": 0.050903371511914326,
            "symbol": "circle"
           },
           "mode": "markers",
           "name": "Neptune",
           "scene": "scene",
           "showlegend": true,
           "type": "scatter3d",
           "x": [
            263.6926341824582
           ],
           "y": [
            -335.605737019255
           ],
           "z": [
            -143.91493897345416
           ]
          },
          {
           "hovertemplate": "name=Saturn<br>index=266<br>x=%{x}<br>y=%{y}<br>z=%{z}<br>radius=%{marker.size}<extra></extra>",
           "ids": [
            "Saturn"
           ],
           "legendgroup": "Saturn",
           "marker": {
            "color": "khaki",
            "size": [
             10.972190310798094
            ],
            "sizemode": "area",
            "sizeref": 0.050903371511914326,
            "symbol": "circle"
           },
           "mode": "markers",
           "name": "Saturn",
           "scene": "scene",
           "showlegend": true,
           "type": "scatter3d",
           "x": [
            73.41532439553505
           ],
           "y": [
            107.38984721115837
           ],
           "z": [
            41.20214344466435
           ]
          },
          {
           "hovertemplate": "name=Uranus<br>index=266<br>x=%{x}<br>y=%{y}<br>z=%{z}<br>radius=%{marker.size}<extra></extra>",
           "ids": [
            "Uranus"
           ],
           "legendgroup": "Uranus",
           "marker": {
            "color": "lightcyan",
            "size": [
             10.141007269794844
            ],
            "sizemode": "area",
            "sizeref": 0.050903371511914326,
            "symbol": "circle"
           },
           "mode": "markers",
           "name": "Uranus",
           "scene": "scene",
           "showlegend": true,
           "type": "scatter3d",
           "x": [
            228.35803012550718
           ],
           "y": [
            -174.91177490548583
           ],
           "z": [
            -79.8382342055408
           ]
          },
          {
           "hovertemplate": "name=Jupiter<br>index=266<br>x=%{x}<br>y=%{y}<br>z=%{z}<br>radius=%{marker.size}<extra></extra>",
           "ids": [
            "Jupiter"
           ],
           "legendgroup": "Jupiter",
           "marker": {
            "color": "chocolate",
            "size": [
             11.154978283509006
            ],
            "sizemode": "area",
            "sizeref": 0.050903371511914326,
            "symbol": "circle"
           },
           "mode": "markers",
           "name": "Jupiter",
           "scene": "scene",
           "showlegend": true,
           "type": "scatter3d",
           "x": [
            31.52460964657024
           ],
           "y": [
            63.122732985385305
           ],
           "z": [
            26.285589948191976
           ]
          },
          {
           "hovertemplate": "name=Earth<br>index=266<br>x=%{x}<br>y=%{y}<br>z=%{z}<br>radius=%{marker.size}<extra></extra>",
           "ids": [
            "Earth"
           ],
           "legendgroup": "Earth",
           "marker": {
            "color": "green",
            "size": [
             8.759511722116487
            ],
            "sizemode": "area",
            "sizeref": 0.050903371511914326,
            "symbol": "circle"
           },
           "mode": "markers",
           "name": "Earth",
           "scene": "scene",
           "showlegend": true,
           "type": "scatter3d",
           "x": [
            83.43701946516802
           ],
           "y": [
            112.23666516194616
           ],
           "z": [
            48.6244494835258
           ]
          }
         ],
         "name": "266"
        },
        {
         "data": [
          {
           "hovertemplate": "name=Sun<br>index=273<br>x=%{x}<br>y=%{y}<br>z=%{z}<br>radius=%{marker.size}<extra></extra>",
           "ids": [
            "Sun"
           ],
           "legendgroup": "Sun",
           "marker": {
            "color": "orange",
            "size": [
             20.36134860476573
            ],
            "sizemode": "area",
            "sizeref": 0.050903371511914326,
            "symbol": "circle"
           },
           "mode": "markers",
           "name": "Sun",
           "scene": "scene",
           "showlegend": true,
           "type": "scatter3d",
           "x": [
            7.310765252176055
           ],
           "y": [
            7.21651864900094
           ],
           "z": [
            1.0977093802145488
           ]
          },
          {
           "hovertemplate": "name=Mars<br>index=273<br>x=%{x}<br>y=%{y}<br>z=%{z}<br>radius=%{marker.size}<extra></extra>",
           "ids": [
            "Mars"
           ],
           "legendgroup": "Mars",
           "marker": {
            "color": "crimson",
            "size": [
             8.12843769687102
            ],
            "sizemode": "area",
            "sizeref": 0.050903371511914326,
            "symbol": "circle"
           },
           "mode": "markers",
           "name": "Mars",
           "scene": "scene",
           "showlegend": true,
           "type": "scatter3d",
           "x": [
            -80.28515066874645
           ],
           "y": [
            17.7874275125575
           ],
           "z": [
            10.329439144153461
           ]
          },
          {
           "hovertemplate": "name=Mercury<br>index=273<br>x=%{x}<br>y=%{y}<br>z=%{z}<br>radius=%{marker.size}<extra></extra>",
           "ids": [
            "Mercury"
           ],
           "legendgroup": "Mercury",
           "marker": {
            "color": "cornflowerblue",
            "size": [
             7.7996303599085035
            ],
            "sizemode": "area",
            "sizeref": 0.050903371511914326,
            "symbol": "circle"
           },
           "mode": "markers",
           "name": "Mercury",
           "scene": "scene",
           "showlegend": true,
           "type": "scatter3d",
           "x": [
            -57.66715578397125
           ],
           "y": [
            -0.7024872793132095
           ],
           "z": [
            5.582638750230562
           ]
          },
          {
           "hovertemplate": "name=Neptune<br>index=273<br>x=%{x}<br>y=%{y}<br>z=%{z}<br>radius=%{marker.size}<extra></extra>",
           "ids": [
            "Neptune"
           ],
           "legendgroup": "Neptune",
           "marker": {
            "color": "cyan",
            "size": [
             10.15120663641638
            ],
            "sizemode": "area",
            "sizeref": 0.050903371511914326,
            "symbol": "circle"
           },
           "mode": "markers",
           "name": "Neptune",
           "scene": "scene",
           "showlegend": true,
           "type": "scatter3d",
           "x": [
            263.95636228029434
           ],
           "y": [
            -335.42265954368946
           ],
           "z": [
            -143.84655938385808
           ]
          },
          {
           "hovertemplate": "name=Saturn<br>index=273<br>x=%{x}<br>y=%{y}<br>z=%{z}<br>radius=%{marker.size}<extra></extra>",
           "ids": [
            "Saturn"
           ],
           "legendgroup": "Saturn",
           "marker": {
            "color": "khaki",
            "size": [
             10.972190310798094
            ],
            "sizemode": "area",
            "sizeref": 0.050903371511914326,
            "symbol": "circle"
           },
           "mode": "markers",
           "name": "Saturn",
           "scene": "scene",
           "showlegend": true,
           "type": "scatter3d",
           "x": [
            72.89098577014676
           ],
           "y": [
            107.67073644360566
           ],
           "z": [
            41.34069517481851
           ]
          },
          {
           "hovertemplate": "name=Uranus<br>index=273<br>x=%{x}<br>y=%{y}<br>z=%{z}<br>radius=%{marker.size}<extra></extra>",
           "ids": [
            "Uranus"
           ],
           "legendgroup": "Uranus",
           "marker": {
            "color": "lightcyan",
            "size": [
             10.141007269794844
            ],
            "sizemode": "area",
            "sizeref": 0.050903371511914326,
            "symbol": "circle"
           },
           "mode": "markers",
           "name": "Uranus",
           "scene": "scene",
           "showlegend": true,
           "type": "scatter3d",
           "x": [
            228.61959350349835
           ],
           "y": [
            -174.6385545988754
           ],
           "z": [
            -79.72229401321954
           ]
          },
          {
           "hovertemplate": "name=Jupiter<br>index=273<br>x=%{x}<br>y=%{y}<br>z=%{z}<br>radius=%{marker.size}<extra></extra>",
           "ids": [
            "Jupiter"
           ],
           "legendgroup": "Jupiter",
           "marker": {
            "color": "chocolate",
            "size": [
             11.154978283509006
            ],
            "sizemode": "area",
            "sizeref": 0.050903371511914326,
            "symbol": "circle"
           },
           "mode": "markers",
           "name": "Jupiter",
           "scene": "scene",
           "showlegend": true,
           "type": "scatter3d",
           "x": [
            30.794597130246046
           ],
           "y": [
            63.451638669293615
           ],
           "z": [
            26.44437567070281
           ]
          },
          {
           "hovertemplate": "name=Earth<br>index=273<br>x=%{x}<br>y=%{y}<br>z=%{z}<br>radius=%{marker.size}<extra></extra>",
           "ids": [
            "Earth"
           ],
           "legendgroup": "Earth",
           "marker": {
            "color": "green",
            "size": [
             8.759511722116487
            ],
            "sizemode": "area",
            "sizeref": 0.050903371511914326,
            "symbol": "circle"
           },
           "mode": "markers",
           "name": "Earth",
           "scene": "scene",
           "showlegend": true,
           "type": "scatter3d",
           "x": [
            67.67536262923402
           ],
           "y": [
            120.61760414321324
           ],
           "z": [
            52.25721186229582
           ]
          }
         ],
         "name": "273"
        },
        {
         "data": [
          {
           "hovertemplate": "name=Sun<br>index=280<br>x=%{x}<br>y=%{y}<br>z=%{z}<br>radius=%{marker.size}<extra></extra>",
           "ids": [
            "Sun"
           ],
           "legendgroup": "Sun",
           "marker": {
            "color": "orange",
            "size": [
             20.36134860476573
            ],
            "sizemode": "area",
            "sizeref": 0.050903371511914326,
            "symbol": "circle"
           },
           "mode": "markers",
           "name": "Sun",
           "scene": "scene",
           "showlegend": true,
           "type": "scatter3d",
           "x": [
            7.614395021931139
           ],
           "y": [
            7.55199783502955
           ],
           "z": [
            1.179374455087021
           ]
          },
          {
           "hovertemplate": "name=Mars<br>index=280<br>x=%{x}<br>y=%{y}<br>z=%{z}<br>radius=%{marker.size}<extra></extra>",
           "ids": [
            "Mars"
           ],
           "legendgroup": "Mars",
           "marker": {
            "color": "crimson",
            "size": [
             8.12843769687102
            ],
            "sizemode": "area",
            "sizeref": 0.050903371511914326,
            "symbol": "circle"
           },
           "mode": "markers",
           "name": "Mars",
           "scene": "scene",
           "showlegend": true,
           "type": "scatter3d",
           "x": [
            -81.1758967083798
           ],
           "y": [
            13.82522128201623
           ],
           "z": [
            8.535569748315126
           ]
          },
          {
           "hovertemplate": "name=Mercury<br>index=280<br>x=%{x}<br>y=%{y}<br>z=%{z}<br>radius=%{marker.size}<extra></extra>",
           "ids": [
            "Mercury"
           ],
           "legendgroup": "Mercury",
           "marker": {
            "color": "cornflowerblue",
            "size": [
             7.7996303599085035
            ],
            "sizemode": "area",
            "sizeref": 0.050903371511914326,
            "symbol": "circle"
           },
           "mode": "markers",
           "name": "Mercury",
           "scene": "scene",
           "showlegend": true,
           "type": "scatter3d",
           "x": [
            -57.888058296675844
           ],
           "y": [
            -24.78820638309821
           ],
           "z": [
            -7.260732419562451
           ]
          },
          {
           "hovertemplate": "name=Neptune<br>index=280<br>x=%{x}<br>y=%{y}<br>z=%{z}<br>radius=%{marker.size}<extra></extra>",
           "ids": [
            "Neptune"
           ],
           "legendgroup": "Neptune",
           "marker": {
            "color": "cyan",
            "size": [
             10.15120663641638
            ],
            "sizemode": "area",
            "sizeref": 0.050903371511914326,
            "symbol": "circle"
           },
           "mode": "markers",
           "name": "Neptune",
           "scene": "scene",
           "showlegend": true,
           "type": "scatter3d",
           "x": [
            264.21995002876264
           ],
           "y": [
            -335.23940360584385
           ],
           "z": [
            -143.77810326411554
           ]
          },
          {
           "hovertemplate": "name=Saturn<br>index=280<br>x=%{x}<br>y=%{y}<br>z=%{z}<br>radius=%{marker.size}<extra></extra>",
           "ids": [
            "Saturn"
           ],
           "legendgroup": "Saturn",
           "marker": {
            "color": "khaki",
            "size": [
             10.972190310798094
            ],
            "sizemode": "area",
            "sizeref": 0.050903371511914326,
            "symbol": "circle"
           },
           "mode": "markers",
           "name": "Saturn",
           "scene": "scene",
           "showlegend": true,
           "type": "scatter3d",
           "x": [
            72.3652458995095
           ],
           "y": [
            107.94955907462096
           ],
           "z": [
            41.47845377921278
           ]
          },
          {
           "hovertemplate": "name=Uranus<br>index=280<br>x=%{x}<br>y=%{y}<br>z=%{z}<br>radius=%{marker.size}<extra></extra>",
           "ids": [
            "Uranus"
           ],
           "legendgroup": "Uranus",
           "marker": {
            "color": "lightcyan",
            "size": [
             10.141007269794844
            ],
            "sizemode": "area",
            "sizeref": 0.050903371511914326,
            "symbol": "circle"
           },
           "mode": "markers",
           "name": "Uranus",
           "scene": "scene",
           "showlegend": true,
           "type": "scatter3d",
           "x": [
            228.8807394423646
           ],
           "y": [
            -174.36501528446612
           ],
           "z": [
            -79.60620820000274
           ]
          },
          {
           "hovertemplate": "name=Jupiter<br>index=280<br>x=%{x}<br>y=%{y}<br>z=%{z}<br>radius=%{marker.size}<extra></extra>",
           "ids": [
            "Jupiter"
           ],
           "legendgroup": "Jupiter",
           "marker": {
            "color": "chocolate",
            "size": [
             11.154978283509006
            ],
            "sizemode": "area",
            "sizeref": 0.050903371511914326,
            "symbol": "circle"
           },
           "mode": "markers",
           "name": "Jupiter",
           "scene": "scene",
           "showlegend": true,
           "type": "scatter3d",
           "x": [
            30.06108849213495
           ],
           "y": [
            63.7733373759163
           ],
           "z": [
            26.600157368250926
           ]
          },
          {
           "hovertemplate": "name=Earth<br>index=280<br>x=%{x}<br>y=%{y}<br>z=%{z}<br>radius=%{marker.size}<extra></extra>",
           "ids": [
            "Earth"
           ],
           "legendgroup": "Earth",
           "marker": {
            "color": "green",
            "size": [
             8.759511722116487
            ],
            "sizemode": "area",
            "sizeref": 0.050903371511914326,
            "symbol": "circle"
           },
           "mode": "markers",
           "name": "Earth",
           "scene": "scene",
           "showlegend": true,
           "type": "scatter3d",
           "x": [
            50.89779923376627
           ],
           "y": [
            127.18666816638091
           ],
           "z": [
            55.10467734711776
           ]
          }
         ],
         "name": "280"
        },
        {
         "data": [
          {
           "hovertemplate": "name=Sun<br>index=287<br>x=%{x}<br>y=%{y}<br>z=%{z}<br>radius=%{marker.size}<extra></extra>",
           "ids": [
            "Sun"
           ],
           "legendgroup": "Sun",
           "marker": {
            "color": "orange",
            "size": [
             20.36134860476573
            ],
            "sizemode": "area",
            "sizeref": 0.050903371511914326,
            "symbol": "circle"
           },
           "mode": "markers",
           "name": "Sun",
           "scene": "scene",
           "showlegend": true,
           "type": "scatter3d",
           "x": [
            7.921735976849958
           ],
           "y": [
            7.895464540887561
           ],
           "z": [
            1.264372450400941
           ]
          },
          {
           "hovertemplate": "name=Mars<br>index=287<br>x=%{x}<br>y=%{y}<br>z=%{z}<br>radius=%{marker.size}<extra></extra>",
           "ids": [
            "Mars"
           ],
           "legendgroup": "Mars",
           "marker": {
            "color": "crimson",
            "size": [
             8.12843769687102
            ],
            "sizemode": "area",
            "sizeref": 0.050903371511914326,
            "symbol": "circle"
           },
           "mode": "markers",
           "name": "Mars",
           "scene": "scene",
           "showlegend": true,
           "type": "scatter3d",
           "x": [
            -81.80954016132384
           ],
           "y": [
            9.819348371566123
           ],
           "z": [
            6.7146992330054465
           ]
          },
          {
           "hovertemplate": "name=Mercury<br>index=287<br>x=%{x}<br>y=%{y}<br>z=%{z}<br>radius=%{marker.size}<extra></extra>",
           "ids": [
            "Mercury"
           ],
           "legendgroup": "Mercury",
           "marker": {
            "color": "cornflowerblue",
            "size": [
             7.7996303599085035
            ],
            "sizemode": "area",
            "sizeref": 0.050903371511914326,
            "symbol": "circle"
           },
           "mode": "markers",
           "name": "Mercury",
           "scene": "scene",
           "showlegend": true,
           "type": "scatter3d",
           "x": [
            -47.1206503753416
           ],
           "y": [
            -44.336471638609105
           ],
           "z": [
            -18.81945122909384
           ]
          },
          {
           "hovertemplate": "name=Neptune<br>index=287<br>x=%{x}<br>y=%{y}<br>z=%{z}<br>radius=%{marker.size}<extra></extra>",
           "ids": [
            "Neptune"
           ],
           "legendgroup": "Neptune",
           "marker": {
            "color": "cyan",
            "size": [
             10.15120663641638
            ],
            "sizemode": "area",
            "sizeref": 0.050903371511914326,
            "symbol": "circle"
           },
           "mode": "markers",
           "name": "Neptune",
           "scene": "scene",
           "showlegend": true,
           "type": "scatter3d",
           "x": [
            264.4833972845169
           ],
           "y": [
            -335.0559692992565
           ],
           "z": [
            -143.70957064896774
           ]
          },
          {
           "hovertemplate": "name=Saturn<br>index=287<br>x=%{x}<br>y=%{y}<br>z=%{z}<br>radius=%{marker.size}<extra></extra>",
           "ids": [
            "Saturn"
           ],
           "legendgroup": "Saturn",
           "marker": {
            "color": "khaki",
            "size": [
             10.972190310798094
            ],
            "sizemode": "area",
            "sizeref": 0.050903371511914326,
            "symbol": "circle"
           },
           "mode": "markers",
           "name": "Saturn",
           "scene": "scene",
           "showlegend": true,
           "type": "scatter3d",
           "x": [
            71.83811428828213
           ],
           "y": [
            108.22630900462302
           ],
           "z": [
            41.61541632609516
           ]
          },
          {
           "hovertemplate": "name=Uranus<br>index=287<br>x=%{x}<br>y=%{y}<br>z=%{z}<br>radius=%{marker.size}<extra></extra>",
           "ids": [
            "Uranus"
           ],
           "legendgroup": "Uranus",
           "marker": {
            "color": "lightcyan",
            "size": [
             10.141007269794844
            ],
            "sizemode": "area",
            "sizeref": 0.050903371511914326,
            "symbol": "circle"
           },
           "mode": "markers",
           "name": "Uranus",
           "scene": "scene",
           "showlegend": true,
           "type": "scatter3d",
           "x": [
            229.14146750491162
           ],
           "y": [
            -174.09115749223065
           ],
           "z": [
            -79.48997699187714
           ]
          },
          {
           "hovertemplate": "name=Jupiter<br>index=287<br>x=%{x}<br>y=%{y}<br>z=%{z}<br>radius=%{marker.size}<extra></extra>",
           "ids": [
            "Jupiter"
           ],
           "legendgroup": "Jupiter",
           "marker": {
            "color": "chocolate",
            "size": [
             11.154978283509006
            ],
            "sizemode": "area",
            "sizeref": 0.050903371511914326,
            "symbol": "circle"
           },
           "mode": "markers",
           "name": "Jupiter",
           "scene": "scene",
           "showlegend": true,
           "type": "scatter3d",
           "x": [
            29.32417117089223
           ],
           "y": [
            64.087801175094
           ],
           "z": [
            26.75292093121593
           ]
          },
          {
           "hovertemplate": "name=Earth<br>index=287<br>x=%{x}<br>y=%{y}<br>z=%{z}<br>radius=%{marker.size}<extra></extra>",
           "ids": [
            "Earth"
           ],
           "legendgroup": "Earth",
           "marker": {
            "color": "green",
            "size": [
             8.759511722116487
            ],
            "sizemode": "area",
            "sizeref": 0.050903371511914326,
            "symbol": "circle"
           },
           "mode": "markers",
           "name": "Earth",
           "scene": "scene",
           "showlegend": true,
           "type": "scatter3d",
           "x": [
            33.35362270110622
           ],
           "y": [
            131.8378879470126
           ],
           "z": [
            57.12090263433402
           ]
          }
         ],
         "name": "287"
        },
        {
         "data": [
          {
           "hovertemplate": "name=Sun<br>index=294<br>x=%{x}<br>y=%{y}<br>z=%{z}<br>radius=%{marker.size}<extra></extra>",
           "ids": [
            "Sun"
           ],
           "legendgroup": "Sun",
           "marker": {
            "color": "orange",
            "size": [
             20.36134860476573
            ],
            "sizemode": "area",
            "sizeref": 0.050903371511914326,
            "symbol": "circle"
           },
           "mode": "markers",
           "name": "Sun",
           "scene": "scene",
           "showlegend": true,
           "type": "scatter3d",
           "x": [
            8.232679854878441
           ],
           "y": [
            8.246927573444184
           ],
           "z": [
            1.3526989667884093
           ]
          },
          {
           "hovertemplate": "name=Mars<br>index=294<br>x=%{x}<br>y=%{y}<br>z=%{z}<br>radius=%{marker.size}<extra></extra>",
           "ids": [
            "Mars"
           ],
           "legendgroup": "Mars",
           "marker": {
            "color": "crimson",
            "size": [
             8.12843769687102
            ],
            "sizemode": "area",
            "sizeref": 0.050903371511914326,
            "symbol": "circle"
           },
           "mode": "markers",
           "name": "Mars",
           "scene": "scene",
           "showlegend": true,
           "type": "scatter3d",
           "x": [
            -82.18300232692911
           ],
           "y": [
            5.782368842166991
           ],
           "z": [
            4.8725065273402555
           ]
          },
          {
           "hovertemplate": "name=Mercury<br>index=294<br>x=%{x}<br>y=%{y}<br>z=%{z}<br>radius=%{marker.size}<extra></extra>",
           "ids": [
            "Mercury"
           ],
           "legendgroup": "Mercury",
           "marker": {
            "color": "cornflowerblue",
            "size": [
             7.7996303599085035
            ],
            "sizemode": "area",
            "sizeref": 0.050903371511914326,
            "symbol": "circle"
           },
           "mode": "markers",
           "name": "Mercury",
           "scene": "scene",
           "showlegend": true,
           "type": "scatter3d",
           "x": [
            -28.877299854254392
           ],
           "y": [
            -56.95892141209698
           ],
           "z": [
            -27.453654476059327
           ]
          },
          {
           "hovertemplate": "name=Neptune<br>index=294<br>x=%{x}<br>y=%{y}<br>z=%{z}<br>radius=%{marker.size}<extra></extra>",
           "ids": [
            "Neptune"
           ],
           "legendgroup": "Neptune",
           "marker": {
            "color": "cyan",
            "size": [
             10.15120663641638
            ],
            "sizemode": "area",
            "sizeref": 0.050903371511914326,
            "symbol": "circle"
           },
           "mode": "markers",
           "name": "Neptune",
           "scene": "scene",
           "showlegend": true,
           "type": "scatter3d",
           "x": [
            264.74670390428093
           ],
           "y": [
            -334.8723567175611
           ],
           "z": [
            -143.64096157319673
           ]
          },
          {
           "hovertemplate": "name=Saturn<br>index=294<br>x=%{x}<br>y=%{y}<br>z=%{z}<br>radius=%{marker.size}<extra></extra>",
           "ids": [
            "Saturn"
           ],
           "legendgroup": "Saturn",
           "marker": {
            "color": "khaki",
            "size": [
             10.972190310798094
            ],
            "sizemode": "area",
            "sizeref": 0.050903371511914326,
            "symbol": "circle"
           },
           "mode": "markers",
           "name": "Saturn",
           "scene": "scene",
           "showlegend": true,
           "type": "scatter3d",
           "x": [
            71.30960048075507
           ],
           "y": [
            108.50098017495169
           ],
           "z": [
            41.75157989882158
           ]
          },
          {
           "hovertemplate": "name=Uranus<br>index=294<br>x=%{x}<br>y=%{y}<br>z=%{z}<br>radius=%{marker.size}<extra></extra>",
           "ids": [
            "Uranus"
           ],
           "legendgroup": "Uranus",
           "marker": {
            "color": "lightcyan",
            "size": [
             10.141007269794844
            ],
            "sizemode": "area",
            "sizeref": 0.050903371511914326,
            "symbol": "circle"
           },
           "mode": "markers",
           "name": "Uranus",
           "scene": "scene",
           "showlegend": true,
           "type": "scatter3d",
           "x": [
            229.40177725470576
           ],
           "y": [
            -173.81698175253507
           ],
           "z": [
            -79.37360061501292
           ]
          },
          {
           "hovertemplate": "name=Jupiter<br>index=294<br>x=%{x}<br>y=%{y}<br>z=%{z}<br>radius=%{marker.size}<extra></extra>",
           "ids": [
            "Jupiter"
           ],
           "legendgroup": "Jupiter",
           "marker": {
            "color": "chocolate",
            "size": [
             11.154978283509006
            ],
            "sizemode": "area",
            "sizeref": 0.050903371511914326,
            "symbol": "circle"
           },
           "mode": "markers",
           "name": "Jupiter",
           "scene": "scene",
           "showlegend": true,
           "type": "scatter3d",
           "x": [
            28.58393282255754
           ],
           "y": [
            64.39500310770352
           ],
           "z": [
            26.902652660965643
           ]
          },
          {
           "hovertemplate": "name=Earth<br>index=294<br>x=%{x}<br>y=%{y}<br>z=%{z}<br>radius=%{marker.size}<extra></extra>",
           "ids": [
            "Earth"
           ],
           "legendgroup": "Earth",
           "marker": {
            "color": "green",
            "size": [
             8.759511722116487
            ],
            "sizemode": "area",
            "sizeref": 0.050903371511914326,
            "symbol": "circle"
           },
           "mode": "markers",
           "name": "Earth",
           "scene": "scene",
           "showlegend": true,
           "type": "scatter3d",
           "x": [
            15.305968904707584
           ],
           "y": [
            134.49480864943948
           ],
           "z": [
            58.272736608015045
           ]
          }
         ],
         "name": "294"
        },
        {
         "data": [
          {
           "hovertemplate": "name=Sun<br>index=301<br>x=%{x}<br>y=%{y}<br>z=%{z}<br>radius=%{marker.size}<extra></extra>",
           "ids": [
            "Sun"
           ],
           "legendgroup": "Sun",
           "marker": {
            "color": "orange",
            "size": [
             20.36134860476573
            ],
            "sizemode": "area",
            "sizeref": 0.050903371511914326,
            "symbol": "circle"
           },
           "mode": "markers",
           "name": "Sun",
           "scene": "scene",
           "showlegend": true,
           "type": "scatter3d",
           "x": [
            8.547111938935252
           ],
           "y": [
            8.606405394008945
           ],
           "z": [
            1.4443561630671131
           ]
          },
          {
           "hovertemplate": "name=Mars<br>index=301<br>x=%{x}<br>y=%{y}<br>z=%{z}<br>radius=%{marker.size}<extra></extra>",
           "ids": [
            "Mars"
           ],
           "legendgroup": "Mars",
           "marker": {
            "color": "crimson",
            "size": [
             8.12843769687102
            ],
            "sizemode": "area",
            "sizeref": 0.050903371511914326,
            "symbol": "circle"
           },
           "mode": "markers",
           "name": "Mars",
           "scene": "scene",
           "showlegend": true,
           "type": "scatter3d",
           "x": [
            -82.29378821539876
           ],
           "y": [
            1.7270308373199148
           ],
           "z": [
            3.014772665429065
           ]
          },
          {
           "hovertemplate": "name=Mercury<br>index=301<br>x=%{x}<br>y=%{y}<br>z=%{z}<br>radius=%{marker.size}<extra></extra>",
           "ids": [
            "Mercury"
           ],
           "legendgroup": "Mercury",
           "marker": {
            "color": "cornflowerblue",
            "size": [
             7.7996303599085035
            ],
            "sizemode": "area",
            "sizeref": 0.050903371511914326,
            "symbol": "circle"
           },
           "mode": "markers",
           "name": "Mercury",
           "scene": "scene",
           "showlegend": true,
           "type": "scatter3d",
           "x": [
            -6.462220103354061
           ],
           "y": [
            -61.42143965576283
           ],
           "z": [
            -32.16160783195328
           ]
          },
          {
           "hovertemplate": "name=Neptune<br>index=301<br>x=%{x}<br>y=%{y}<br>z=%{z}<br>radius=%{marker.size}<extra></extra>",
           "ids": [
            "Neptune"
           ],
           "legendgroup": "Neptune",
           "marker": {
            "color": "cyan",
            "size": [
             10.15120663641638
            ],
            "sizemode": "area",
            "sizeref": 0.050903371511914326,
            "symbol": "circle"
           },
           "mode": "markers",
           "name": "Neptune",
           "scene": "scene",
           "showlegend": true,
           "type": "scatter3d",
           "x": [
            265.00986974484914
           ],
           "y": [
            -334.6885659544869
           ],
           "z": [
            -143.5722760716254
           ]
          },
          {
           "hovertemplate": "name=Saturn<br>index=301<br>x=%{x}<br>y=%{y}<br>z=%{z}<br>radius=%{marker.size}<extra></extra>",
           "ids": [
            "Saturn"
           ],
           "legendgroup": "Saturn",
           "marker": {
            "color": "khaki",
            "size": [
             10.972190310798094
            ],
            "sizemode": "area",
            "sizeref": 0.050903371511914326,
            "symbol": "circle"
           },
           "mode": "markers",
           "name": "Saturn",
           "scene": "scene",
           "showlegend": true,
           "type": "scatter3d",
           "x": [
            70.77971406063733
           ],
           "y": [
            108.773566568028
           ],
           "z": [
            41.88694159593562
           ]
          },
          {
           "hovertemplate": "name=Uranus<br>index=301<br>x=%{x}<br>y=%{y}<br>z=%{z}<br>radius=%{marker.size}<extra></extra>",
           "ids": [
            "Uranus"
           ],
           "legendgroup": "Uranus",
           "marker": {
            "color": "lightcyan",
            "size": [
             10.141007269794844
            ],
            "sizemode": "area",
            "sizeref": 0.050903371511914326,
            "symbol": "circle"
           },
           "mode": "markers",
           "name": "Uranus",
           "scene": "scene",
           "showlegend": true,
           "type": "scatter3d",
           "x": [
            229.66166825607482
           ],
           "y": [
            -173.5424885961387
           ],
           "z": [
            -79.25707929576329
           ]
          },
          {
           "hovertemplate": "name=Jupiter<br>index=301<br>x=%{x}<br>y=%{y}<br>z=%{z}<br>radius=%{marker.size}<extra></extra>",
           "ids": [
            "Jupiter"
           ],
           "legendgroup": "Jupiter",
           "marker": {
            "color": "chocolate",
            "size": [
             11.154978283509006
            ],
            "sizemode": "area",
            "sizeref": 0.050903371511914326,
            "symbol": "circle"
           },
           "mode": "markers",
           "name": "Jupiter",
           "scene": "scene",
           "showlegend": true,
           "type": "scatter3d",
           "x": [
            27.840461306434
           ],
           "y": [
            64.69491718524966
           ],
           "z": [
            27.049339270025165
           ]
          },
          {
           "hovertemplate": "name=Earth<br>index=301<br>x=%{x}<br>y=%{y}<br>z=%{z}<br>radius=%{marker.size}<extra></extra>",
           "ids": [
            "Earth"
           ],
           "legendgroup": "Earth",
           "marker": {
            "color": "green",
            "size": [
             8.759511722116487
            ],
            "sizemode": "area",
            "sizeref": 0.050903371511914326,
            "symbol": "circle"
           },
           "mode": "markers",
           "name": "Earth",
           "scene": "scene",
           "showlegend": true,
           "type": "scatter3d",
           "x": [
            -2.9725411541917226
           ],
           "y": [
            135.11217418707312
           ],
           "z": [
            58.54055058685172
           ]
          }
         ],
         "name": "301"
        },
        {
         "data": [
          {
           "hovertemplate": "name=Sun<br>index=308<br>x=%{x}<br>y=%{y}<br>z=%{z}<br>radius=%{marker.size}<extra></extra>",
           "ids": [
            "Sun"
           ],
           "legendgroup": "Sun",
           "marker": {
            "color": "orange",
            "size": [
             20.36134860476573
            ],
            "sizemode": "area",
            "sizeref": 0.050903371511914326,
            "symbol": "circle"
           },
           "mode": "markers",
           "name": "Sun",
           "scene": "scene",
           "showlegend": true,
           "type": "scatter3d",
           "x": [
            8.864914725105525
           ],
           "y": [
            8.973916396087686
           ],
           "z": [
            1.5393473642113757
           ]
          },
          {
           "hovertemplate": "name=Mars<br>index=308<br>x=%{x}<br>y=%{y}<br>z=%{z}<br>radius=%{marker.size}<extra></extra>",
           "ids": [
            "Mars"
           ],
           "legendgroup": "Mars",
           "marker": {
            "color": "crimson",
            "size": [
             8.12843769687102
            ],
            "sizemode": "area",
            "sizeref": 0.050903371511914326,
            "symbol": "circle"
           },
           "mode": "markers",
           "name": "Mars",
           "scene": "scene",
           "showlegend": true,
           "type": "scatter3d",
           "x": [
            -82.1400023876638
           ],
           "y": [
            -2.3337349947809787
           ],
           "z": [
            1.1473786564527733
           ]
          },
          {
           "hovertemplate": "name=Mercury<br>index=308<br>x=%{x}<br>y=%{y}<br>z=%{z}<br>radius=%{marker.size}<extra></extra>",
           "ids": [
            "Mercury"
           ],
           "legendgroup": "Mercury",
           "marker": {
            "color": "cornflowerblue",
            "size": [
             7.7996303599085035
            ],
            "sizemode": "area",
            "sizeref": 0.050903371511914326,
            "symbol": "circle"
           },
           "mode": "markers",
           "name": "Mercury",
           "scene": "scene",
           "showlegend": true,
           "type": "scatter3d",
           "x": [
            16.864690879725117
           ],
           "y": [
            -57.11387819432549
           ],
           "z": [
            -32.27946929040325
           ]
          },
          {
           "hovertemplate": "name=Neptune<br>index=308<br>x=%{x}<br>y=%{y}<br>z=%{z}<br>radius=%{marker.size}<extra></extra>",
           "ids": [
            "Neptune"
           ],
           "legendgroup": "Neptune",
           "marker": {
            "color": "cyan",
            "size": [
             10.15120663641638
            ],
            "sizemode": "area",
            "sizeref": 0.050903371511914326,
            "symbol": "circle"
           },
           "mode": "markers",
           "name": "Neptune",
           "scene": "scene",
           "showlegend": true,
           "type": "scatter3d",
           "x": [
            265.27289466308645
           ],
           "y": [
            -334.5045971038587
           ],
           "z": [
            -143.50351417911742
           ]
          },
          {
           "hovertemplate": "name=Saturn<br>index=308<br>x=%{x}<br>y=%{y}<br>z=%{z}<br>radius=%{marker.size}<extra></extra>",
           "ids": [
            "Saturn"
           ],
           "legendgroup": "Saturn",
           "marker": {
            "color": "khaki",
            "size": [
             10.972190310798094
            ],
            "sizemode": "area",
            "sizeref": 0.050903371511914326,
            "symbol": "circle"
           },
           "mode": "markers",
           "name": "Saturn",
           "scene": "scene",
           "showlegend": true,
           "type": "scatter3d",
           "x": [
            70.2484646508377
           ],
           "y": [
            109.0440622075126
           ],
           "z": [
            42.02149853124798
           ]
          },
          {
           "hovertemplate": "name=Uranus<br>index=308<br>x=%{x}<br>y=%{y}<br>z=%{z}<br>radius=%{marker.size}<extra></extra>",
           "ids": [
            "Uranus"
           ],
           "legendgroup": "Uranus",
           "marker": {
            "color": "lightcyan",
            "size": [
             10.141007269794844
            ],
            "sizemode": "area",
            "sizeref": 0.050903371511914326,
            "symbol": "circle"
           },
           "mode": "markers",
           "name": "Uranus",
           "scene": "scene",
           "showlegend": true,
           "type": "scatter3d",
           "x": [
            229.9211400741079
           ],
           "y": [
            -173.26767855419308
           ],
           "z": [
            -79.14041326066442
           ]
          },
          {
           "hovertemplate": "name=Jupiter<br>index=308<br>x=%{x}<br>y=%{y}<br>z=%{z}<br>radius=%{marker.size}<extra></extra>",
           "ids": [
            "Jupiter"
           ],
           "legendgroup": "Jupiter",
           "marker": {
            "color": "chocolate",
            "size": [
             11.154978283509006
            ],
            "sizemode": "area",
            "sizeref": 0.050903371511914326,
            "symbol": "circle"
           },
           "mode": "markers",
           "name": "Jupiter",
           "scene": "scene",
           "showlegend": true,
           "type": "scatter3d",
           "x": [
            27.093844671025746
           ],
           "y": [
            64.98751838924595
           ],
           "z": [
            27.19296788215388
           ]
          },
          {
           "hovertemplate": "name=Earth<br>index=308<br>x=%{x}<br>y=%{y}<br>z=%{z}<br>radius=%{marker.size}<extra></extra>",
           "ids": [
            "Earth"
           ],
           "legendgroup": "Earth",
           "marker": {
            "color": "green",
            "size": [
             8.759511722116487
            ],
            "sizemode": "area",
            "sizeref": 0.050903371511914326,
            "symbol": "circle"
           },
           "mode": "markers",
           "name": "Earth",
           "scene": "scene",
           "showlegend": true,
           "type": "scatter3d",
           "x": [
            -21.20444033912894
           ],
           "y": [
            133.6770177404729
           ],
           "z": [
            57.91871121285784
           ]
          }
         ],
         "name": "308"
        },
        {
         "data": [
          {
           "hovertemplate": "name=Sun<br>index=315<br>x=%{x}<br>y=%{y}<br>z=%{z}<br>radius=%{marker.size}<extra></extra>",
           "ids": [
            "Sun"
           ],
           "legendgroup": "Sun",
           "marker": {
            "color": "orange",
            "size": [
             20.36134860476573
            ],
            "sizemode": "area",
            "sizeref": 0.050903371511914326,
            "symbol": "circle"
           },
           "mode": "markers",
           "name": "Sun",
           "scene": "scene",
           "showlegend": true,
           "type": "scatter3d",
           "x": [
            9.185975409420363
           ],
           "y": [
            9.349476814832942
           ],
           "z": [
            1.6376753361288754
           ]
          },
          {
           "hovertemplate": "name=Mars<br>index=315<br>x=%{x}<br>y=%{y}<br>z=%{z}<br>radius=%{marker.size}<extra></extra>",
           "ids": [
            "Mars"
           ],
           "legendgroup": "Mars",
           "marker": {
            "color": "crimson",
            "size": [
             8.12843769687102
            ],
            "sizemode": "area",
            "sizeref": 0.050903371511914326,
            "symbol": "circle"
           },
           "mode": "markers",
           "name": "Mars",
           "scene": "scene",
           "showlegend": true,
           "type": "scatter3d",
           "x": [
            -81.72036728234174
           ],
           "y": [
            -6.386821954061297
           ],
           "z": [
            -0.7236969793542903
           ]
          },
          {
           "hovertemplate": "name=Mercury<br>index=315<br>x=%{x}<br>y=%{y}<br>z=%{z}<br>radius=%{marker.size}<extra></extra>",
           "ids": [
            "Mercury"
           ],
           "legendgroup": "Mercury",
           "marker": {
            "color": "cornflowerblue",
            "size": [
             7.7996303599085035
            ],
            "sizemode": "area",
            "sizeref": 0.050903371511914326,
            "symbol": "circle"
           },
           "mode": "markers",
           "name": "Mercury",
           "scene": "scene",
           "showlegend": true,
           "type": "scatter3d",
           "x": [
            37.514850420852326
           ],
           "y": [
            -43.96161087450676
           ],
           "z": [
            -27.3953792790522
           ]
          },
          {
           "hovertemplate": "name=Neptune<br>index=315<br>x=%{x}<br>y=%{y}<br>z=%{z}<br>radius=%{marker.size}<extra></extra>",
           "ids": [
            "Neptune"
           ],
           "legendgroup": "Neptune",
           "marker": {
            "color": "cyan",
            "size": [
             10.15120663641638
            ],
            "sizemode": "area",
            "sizeref": 0.050903371511914326,
            "symbol": "circle"
           },
           "mode": "markers",
           "name": "Neptune",
           "scene": "scene",
           "showlegend": true,
           "type": "scatter3d",
           "x": [
            265.53577851592865
           ],
           "y": [
            -334.3204502595971
           ],
           "z": [
            -143.4346759305774
           ]
          },
          {
           "hovertemplate": "name=Saturn<br>index=315<br>x=%{x}<br>y=%{y}<br>z=%{z}<br>radius=%{marker.size}<extra></extra>",
           "ids": [
            "Saturn"
           ],
           "legendgroup": "Saturn",
           "marker": {
            "color": "khaki",
            "size": [
             10.972190310798094
            ],
            "sizemode": "area",
            "sizeref": 0.050903371511914326,
            "symbol": "circle"
           },
           "mode": "markers",
           "name": "Saturn",
           "scene": "scene",
           "showlegend": true,
           "type": "scatter3d",
           "x": [
            69.71586191324
           ],
           "y": [
            109.3124611584636
           ],
           "z": [
            42.155247833916015
           ]
          },
          {
           "hovertemplate": "name=Uranus<br>index=315<br>x=%{x}<br>y=%{y}<br>z=%{z}<br>radius=%{marker.size}<extra></extra>",
           "ids": [
            "Uranus"
           ],
           "legendgroup": "Uranus",
           "marker": {
            "color": "lightcyan",
            "size": [
             10.141007269794844
            ],
            "sizemode": "area",
            "sizeref": 0.050903371511914326,
            "symbol": "circle"
           },
           "mode": "markers",
           "name": "Uranus",
           "scene": "scene",
           "showlegend": true,
           "type": "scatter3d",
           "x": [
            230.18019227465683
           ],
           "y": [
            -172.99255215824175
           ],
           "z": [
            -79.02360273643505
           ]
          },
          {
           "hovertemplate": "name=Jupiter<br>index=315<br>x=%{x}<br>y=%{y}<br>z=%{z}<br>radius=%{marker.size}<extra></extra>",
           "ids": [
            "Jupiter"
           ],
           "legendgroup": "Jupiter",
           "marker": {
            "color": "chocolate",
            "size": [
             11.154978283509006
            ],
            "sizemode": "area",
            "sizeref": 0.050903371511914326,
            "symbol": "circle"
           },
           "mode": "markers",
           "name": "Jupiter",
           "scene": "scene",
           "showlegend": true,
           "type": "scatter3d",
           "x": [
            26.34417114003613
           ],
           "y": [
            65.27278267039271
           ],
           "z": [
            27.333526032334245
           ]
          },
          {
           "hovertemplate": "name=Earth<br>index=315<br>x=%{x}<br>y=%{y}<br>z=%{z}<br>radius=%{marker.size}<extra></extra>",
           "ids": [
            "Earth"
           ],
           "legendgroup": "Earth",
           "marker": {
            "color": "green",
            "size": [
             8.759511722116487
            ],
            "sizemode": "area",
            "sizeref": 0.050903371511914326,
            "symbol": "circle"
           },
           "mode": "markers",
           "name": "Earth",
           "scene": "scene",
           "showlegend": true,
           "type": "scatter3d",
           "x": [
            -39.11222497158142
           ],
           "y": [
            130.2091121180162
           ],
           "z": [
            56.41577587617179
           ]
          }
         ],
         "name": "315"
        },
        {
         "data": [
          {
           "hovertemplate": "name=Sun<br>index=322<br>x=%{x}<br>y=%{y}<br>z=%{z}<br>radius=%{marker.size}<extra></extra>",
           "ids": [
            "Sun"
           ],
           "legendgroup": "Sun",
           "marker": {
            "color": "orange",
            "size": [
             20.36134860476573
            ],
            "sizemode": "area",
            "sizeref": 0.050903371511914326,
            "symbol": "circle"
           },
           "mode": "markers",
           "name": "Sun",
           "scene": "scene",
           "showlegend": true,
           "type": "scatter3d",
           "x": [
            9.510194555004974
           ],
           "y": [
            9.733106203195225
           ],
           "z": [
            1.7393444613747346
           ]
          },
          {
           "hovertemplate": "name=Mars<br>index=322<br>x=%{x}<br>y=%{y}<br>z=%{z}<br>radius=%{marker.size}<extra></extra>",
           "ids": [
            "Mars"
           ],
           "legendgroup": "Mars",
           "marker": {
            "color": "crimson",
            "size": [
             8.12843769687102
            ],
            "sizemode": "area",
            "sizeref": 0.050903371511914326,
            "symbol": "circle"
           },
           "mode": "markers",
           "name": "Mars",
           "scene": "scene",
           "showlegend": true,
           "type": "scatter3d",
           "x": [
            -81.03424405689648
           ],
           "y": [
            -10.418954936943253
           ],
           "z": [
            -2.592381155080866
           ]
          },
          {
           "hovertemplate": "name=Mercury<br>index=322<br>x=%{x}<br>y=%{y}<br>z=%{z}<br>radius=%{marker.size}<extra></extra>",
           "ids": [
            "Mercury"
           ],
           "legendgroup": "Mercury",
           "marker": {
            "color": "cornflowerblue",
            "size": [
             7.7996303599085035
            ],
            "sizemode": "area",
            "sizeref": 0.050903371511914326,
            "symbol": "circle"
           },
           "mode": "markers",
           "name": "Mercury",
           "scene": "scene",
           "showlegend": true,
           "type": "scatter3d",
           "x": [
            51.13698734085475
           ],
           "y": [
            -22.79180781672431
           ],
           "z": [
            -17.500120006763236
           ]
          },
          {
           "hovertemplate": "name=Neptune<br>index=322<br>x=%{x}<br>y=%{y}<br>z=%{z}<br>radius=%{marker.size}<extra></extra>",
           "ids": [
            "Neptune"
           ],
           "legendgroup": "Neptune",
           "marker": {
            "color": "cyan",
            "size": [
             10.15120663641638
            ],
            "sizemode": "area",
            "sizeref": 0.050903371511914326,
            "symbol": "circle"
           },
           "mode": "markers",
           "name": "Neptune",
           "scene": "scene",
           "showlegend": true,
           "type": "scatter3d",
           "x": [
            265.79852116038245
           ],
           "y": [
            -334.1361255157181
           ],
           "z": [
            -143.3657613609509
           ]
          },
          {
           "hovertemplate": "name=Saturn<br>index=322<br>x=%{x}<br>y=%{y}<br>z=%{z}<br>radius=%{marker.size}<extra></extra>",
           "ids": [
            "Saturn"
           ],
           "legendgroup": "Saturn",
           "marker": {
            "color": "khaki",
            "size": [
             10.972190310798094
            ],
            "sizemode": "area",
            "sizeref": 0.050903371511914326,
            "symbol": "circle"
           },
           "mode": "markers",
           "name": "Saturn",
           "scene": "scene",
           "showlegend": true,
           "type": "scatter3d",
           "x": [
            69.18191554847321
           ],
           "y": [
            109.57875752749416
           ],
           "z": [
            42.2881866485233
           ]
          },
          {
           "hovertemplate": "name=Uranus<br>index=322<br>x=%{x}<br>y=%{y}<br>z=%{z}<br>radius=%{marker.size}<extra></extra>",
           "ids": [
            "Uranus"
           ],
           "legendgroup": "Uranus",
           "marker": {
            "color": "lightcyan",
            "size": [
             10.141007269794844
            ],
            "sizemode": "area",
            "sizeref": 0.050903371511914326,
            "symbol": "circle"
           },
           "mode": "markers",
           "name": "Uranus",
           "scene": "scene",
           "showlegend": true,
           "type": "scatter3d",
           "x": [
            230.438824424336
           ],
           "y": [
            -172.7171099402196
           ],
           "z": [
            -78.90664794997639
           ]
          },
          {
           "hovertemplate": "name=Jupiter<br>index=322<br>x=%{x}<br>y=%{y}<br>z=%{z}<br>radius=%{marker.size}<extra></extra>",
           "ids": [
            "Jupiter"
           ],
           "legendgroup": "Jupiter",
           "marker": {
            "color": "chocolate",
            "size": [
             11.154978283509006
            ],
            "sizemode": "area",
            "sizeref": 0.050903371511914326,
            "symbol": "circle"
           },
           "mode": "markers",
           "name": "Jupiter",
           "scene": "scene",
           "showlegend": true,
           "type": "scatter3d",
           "x": [
            25.591529098431185
           ],
           "y": [
            65.5506869475613
           ],
           "z": [
            27.4710016666758
           ]
          },
          {
           "hovertemplate": "name=Earth<br>index=322<br>x=%{x}<br>y=%{y}<br>z=%{z}<br>radius=%{marker.size}<extra></extra>",
           "ids": [
            "Earth"
           ],
           "legendgroup": "Earth",
           "marker": {
            "color": "green",
            "size": [
             8.759511722116487
            ],
            "sizemode": "area",
            "sizeref": 0.050903371511914326,
            "symbol": "circle"
           },
           "mode": "markers",
           "name": "Earth",
           "scene": "scene",
           "showlegend": true,
           "type": "scatter3d",
           "x": [
            -56.42321373896956
           ],
           "y": [
            124.76075449288692
           ],
           "z": [
            54.05439963265982
           ]
          }
         ],
         "name": "322"
        },
        {
         "data": [
          {
           "hovertemplate": "name=Sun<br>index=329<br>x=%{x}<br>y=%{y}<br>z=%{z}<br>radius=%{marker.size}<extra></extra>",
           "ids": [
            "Sun"
           ],
           "legendgroup": "Sun",
           "marker": {
            "color": "orange",
            "size": [
             20.36134860476573
            ],
            "sizemode": "area",
            "sizeref": 0.050903371511914326,
            "symbol": "circle"
           },
           "mode": "markers",
           "name": "Sun",
           "scene": "scene",
           "showlegend": true,
           "type": "scatter3d",
           "x": [
            9.837491006304713
           ],
           "y": [
            10.124844795192088
           ],
           "z": [
            1.8443696308909945
           ]
          },
          {
           "hovertemplate": "name=Mars<br>index=329<br>x=%{x}<br>y=%{y}<br>z=%{z}<br>radius=%{marker.size}<extra></extra>",
           "ids": [
            "Mars"
           ],
           "legendgroup": "Mars",
           "marker": {
            "color": "crimson",
            "size": [
             8.12843769687102
            ],
            "sizemode": "area",
            "sizeref": 0.050903371511914326,
            "symbol": "circle"
           },
           "mode": "markers",
           "name": "Mars",
           "scene": "scene",
           "showlegend": true,
           "type": "scatter3d",
           "x": [
            -80.0816559491273
           ],
           "y": [
            -14.416699621570155
           ],
           "z": [
            -4.452509798270684
           ]
          },
          {
           "hovertemplate": "name=Mercury<br>index=329<br>x=%{x}<br>y=%{y}<br>z=%{z}<br>radius=%{marker.size}<extra></extra>",
           "ids": [
            "Mercury"
           ],
           "legendgroup": "Mercury",
           "marker": {
            "color": "cornflowerblue",
            "size": [
             7.7996303599085035
            ],
            "sizemode": "area",
            "sizeref": 0.050903371511914326,
            "symbol": "circle"
           },
           "mode": "markers",
           "name": "Mercury",
           "scene": "scene",
           "showlegend": true,
           "type": "scatter3d",
           "x": [
            52.45179013309844
           ],
           "y": [
            3.5665688690844304
           ],
           "z": [
            -3.5575477391923194
           ]
          },
          {
           "hovertemplate": "name=Neptune<br>index=329<br>x=%{x}<br>y=%{y}<br>z=%{z}<br>radius=%{marker.size}<extra></extra>",
           "ids": [
            "Neptune"
           ],
           "legendgroup": "Neptune",
           "marker": {
            "color": "cyan",
            "size": [
             10.15120663641638
            ],
            "sizemode": "area",
            "sizeref": 0.050903371511914326,
            "symbol": "circle"
           },
           "mode": "markers",
           "name": "Neptune",
           "scene": "scene",
           "showlegend": true,
           "type": "scatter3d",
           "x": [
            266.0611224535252
           ],
           "y": [
            -333.9516229663336
           ],
           "z": [
            -143.2967705052243
           ]
          },
          {
           "hovertemplate": "name=Saturn<br>index=329<br>x=%{x}<br>y=%{y}<br>z=%{z}<br>radius=%{marker.size}<extra></extra>",
           "ids": [
            "Saturn"
           ],
           "legendgroup": "Saturn",
           "marker": {
            "color": "khaki",
            "size": [
             10.972190310798094
            ],
            "sizemode": "area",
            "sizeref": 0.050903371511914326,
            "symbol": "circle"
           },
           "mode": "markers",
           "name": "Saturn",
           "scene": "scene",
           "showlegend": true,
           "type": "scatter3d",
           "x": [
            68.64663529567625
           ],
           "y": [
            109.84294546293023
           ],
           "z": [
            42.4203121351597
           ]
          },
          {
           "hovertemplate": "name=Uranus<br>index=329<br>x=%{x}<br>y=%{y}<br>z=%{z}<br>radius=%{marker.size}<extra></extra>",
           "ids": [
            "Uranus"
           ],
           "legendgroup": "Uranus",
           "marker": {
            "color": "lightcyan",
            "size": [
             10.141007269794844
            ],
            "sizemode": "area",
            "sizeref": 0.050903371511914326,
            "symbol": "circle"
           },
           "mode": "markers",
           "name": "Uranus",
           "scene": "scene",
           "showlegend": true,
           "type": "scatter3d",
           "x": [
            230.69703609052306
           ],
           "y": [
            -172.44135243245213
           ],
           "z": [
            -78.7895491283718
           ]
          },
          {
           "hovertemplate": "name=Jupiter<br>index=329<br>x=%{x}<br>y=%{y}<br>z=%{z}<br>radius=%{marker.size}<extra></extra>",
           "ids": [
            "Jupiter"
           ],
           "legendgroup": "Jupiter",
           "marker": {
            "color": "chocolate",
            "size": [
             11.154978283509006
            ],
            "sizemode": "area",
            "sizeref": 0.050903371511914326,
            "symbol": "circle"
           },
           "mode": "markers",
           "name": "Jupiter",
           "scene": "scene",
           "showlegend": true,
           "type": "scatter3d",
           "x": [
            24.836007078573413
           ],
           "y": [
            65.8212091065916
           ],
           "z": [
            27.605383142237557
           ]
          },
          {
           "hovertemplate": "name=Earth<br>index=329<br>x=%{x}<br>y=%{y}<br>z=%{z}<br>radius=%{marker.size}<extra></extra>",
           "ids": [
            "Earth"
           ],
           "legendgroup": "Earth",
           "marker": {
            "color": "green",
            "size": [
             8.759511722116487
            ],
            "sizemode": "area",
            "sizeref": 0.050903371511914326,
            "symbol": "circle"
           },
           "mode": "markers",
           "name": "Earth",
           "scene": "scene",
           "showlegend": true,
           "type": "scatter3d",
           "x": [
            -72.87432996587968
           ],
           "y": [
            117.41588298783428
           ],
           "z": [
            50.87095251310855
           ]
          }
         ],
         "name": "329"
        },
        {
         "data": [
          {
           "hovertemplate": "name=Sun<br>index=336<br>x=%{x}<br>y=%{y}<br>z=%{z}<br>radius=%{marker.size}<extra></extra>",
           "ids": [
            "Sun"
           ],
           "legendgroup": "Sun",
           "marker": {
            "color": "orange",
            "size": [
             20.36134860476573
            ],
            "sizemode": "area",
            "sizeref": 0.050903371511914326,
            "symbol": "circle"
           },
           "mode": "markers",
           "name": "Sun",
           "scene": "scene",
           "showlegend": true,
           "type": "scatter3d",
           "x": [
            10.167781466644104
           ],
           "y": [
            10.524785695290964
           ],
           "z": [
            1.9527956557146822
           ]
          },
          {
           "hovertemplate": "name=Mars<br>index=336<br>x=%{x}<br>y=%{y}<br>z=%{z}<br>radius=%{marker.size}<extra></extra>",
           "ids": [
            "Mars"
           ],
           "legendgroup": "Mars",
           "marker": {
            "color": "crimson",
            "size": [
             8.12843769687102
            ],
            "sizemode": "area",
            "sizeref": 0.050903371511914326,
            "symbol": "circle"
           },
           "mode": "markers",
           "name": "Mars",
           "scene": "scene",
           "showlegend": true,
           "type": "scatter3d",
           "x": [
            -78.86331413896795
           ],
           "y": [
            -18.366473553658032
           ],
           "z": [
            -6.297832236236851
           ]
          },
          {
           "hovertemplate": "name=Mercury<br>index=336<br>x=%{x}<br>y=%{y}<br>z=%{z}<br>radius=%{marker.size}<extra></extra>",
           "ids": [
            "Mercury"
           ],
           "legendgroup": "Mercury",
           "marker": {
            "color": "cornflowerblue",
            "size": [
             7.7996303599085035
            ],
            "sizemode": "area",
            "sizeref": 0.050903371511914326,
            "symbol": "circle"
           },
           "mode": "markers",
           "name": "Mercury",
           "scene": "scene",
           "showlegend": true,
           "type": "scatter3d",
           "x": [
            36.774311583907114
           ],
           "y": [
            28.32556343619373
           ],
           "z": [
            11.292135459570735
           ]
          },
          {
           "hovertemplate": "name=Neptune<br>index=336<br>x=%{x}<br>y=%{y}<br>z=%{z}<br>radius=%{marker.size}<extra></extra>",
           "ids": [
            "Neptune"
           ],
           "legendgroup": "Neptune",
           "marker": {
            "color": "cyan",
            "size": [
             10.15120663641638
            ],
            "sizemode": "area",
            "sizeref": 0.050903371511914326,
            "symbol": "circle"
           },
           "mode": "markers",
           "name": "Neptune",
           "scene": "scene",
           "showlegend": true,
           "type": "scatter3d",
           "x": [
            266.32358225250573
           ],
           "y": [
            -333.7669427056514
           ],
           "z": [
            -143.22770339842495
           ]
          },
          {
           "hovertemplate": "name=Saturn<br>index=336<br>x=%{x}<br>y=%{y}<br>z=%{z}<br>radius=%{marker.size}<extra></extra>",
           "ids": [
            "Saturn"
           ],
           "legendgroup": "Saturn",
           "marker": {
            "color": "khaki",
            "size": [
             10.972190310798094
            ],
            "sizemode": "area",
            "sizeref": 0.050903371511914326,
            "symbol": "circle"
           },
           "mode": "markers",
           "name": "Saturn",
           "scene": "scene",
           "showlegend": true,
           "type": "scatter3d",
           "x": [
            68.11003093225817
           ],
           "y": [
            110.10501915496982
           ],
           "z": [
            42.55162146950214
           ]
          },
          {
           "hovertemplate": "name=Uranus<br>index=336<br>x=%{x}<br>y=%{y}<br>z=%{z}<br>radius=%{marker.size}<extra></extra>",
           "ids": [
            "Uranus"
           ],
           "legendgroup": "Uranus",
           "marker": {
            "color": "lightcyan",
            "size": [
             10.141007269794844
            ],
            "sizemode": "area",
            "sizeref": 0.050903371511914326,
            "symbol": "circle"
           },
           "mode": "markers",
           "name": "Uranus",
           "scene": "scene",
           "showlegend": true,
           "type": "scatter3d",
           "x": [
            230.9548268413592
           ],
           "y": [
            -172.1652801676556
           ],
           "z": [
            -78.67230649888664
           ]
          },
          {
           "hovertemplate": "name=Jupiter<br>index=336<br>x=%{x}<br>y=%{y}<br>z=%{z}<br>radius=%{marker.size}<extra></extra>",
           "ids": [
            "Jupiter"
           ],
           "legendgroup": "Jupiter",
           "marker": {
            "color": "chocolate",
            "size": [
             11.154978283509006
            ],
            "sizemode": "area",
            "sizeref": 0.050903371511914326,
            "symbol": "circle"
           },
           "mode": "markers",
           "name": "Jupiter",
           "scene": "scene",
           "showlegend": true,
           "type": "scatter3d",
           "x": [
            24.077693746431404
           ],
           "y": [
            66.08432799891261
           ],
           "z": [
            27.736659226772918
           ]
          },
          {
           "hovertemplate": "name=Earth<br>index=336<br>x=%{x}<br>y=%{y}<br>z=%{z}<br>radius=%{marker.size}<extra></extra>",
           "ids": [
            "Earth"
           ],
           "legendgroup": "Earth",
           "marker": {
            "color": "green",
            "size": [
             8.759511722116487
            ],
            "sizemode": "area",
            "sizeref": 0.050903371511914326,
            "symbol": "circle"
           },
           "mode": "markers",
           "name": "Earth",
           "scene": "scene",
           "showlegend": true,
           "type": "scatter3d",
           "x": [
            -88.21668265516017
           ],
           "y": [
            108.28854611487183
           ],
           "z": [
            46.914856324648994
           ]
          }
         ],
         "name": "336"
        },
        {
         "data": [
          {
           "hovertemplate": "name=Sun<br>index=343<br>x=%{x}<br>y=%{y}<br>z=%{z}<br>radius=%{marker.size}<extra></extra>",
           "ids": [
            "Sun"
           ],
           "legendgroup": "Sun",
           "marker": {
            "color": "orange",
            "size": [
             20.36134860476573
            ],
            "sizemode": "area",
            "sizeref": 0.050903371511914326,
            "symbol": "circle"
           },
           "mode": "markers",
           "name": "Sun",
           "scene": "scene",
           "showlegend": true,
           "type": "scatter3d",
           "x": [
            10.500892073120944
           ],
           "y": [
            10.933081565099718
           ],
           "z": [
            2.064710077012092
           ]
          },
          {
           "hovertemplate": "name=Mars<br>index=343<br>x=%{x}<br>y=%{y}<br>z=%{z}<br>radius=%{marker.size}<extra></extra>",
           "ids": [
            "Mars"
           ],
           "legendgroup": "Mars",
           "marker": {
            "color": "crimson",
            "size": [
             8.12843769687102
            ],
            "sizemode": "area",
            "sizeref": 0.050903371511914326,
            "symbol": "circle"
           },
           "mode": "markers",
           "name": "Mars",
           "scene": "scene",
           "showlegend": true,
           "type": "scatter3d",
           "x": [
            -77.38064605835392
           ],
           "y": [
            -22.254559520722356
           ],
           "z": [
            -8.122016564817576
           ]
          },
          {
           "hovertemplate": "name=Mercury<br>index=343<br>x=%{x}<br>y=%{y}<br>z=%{z}<br>radius=%{marker.size}<extra></extra>",
           "ids": [
            "Mercury"
           ],
           "legendgroup": "Mercury",
           "marker": {
            "color": "cornflowerblue",
            "size": [
             7.7996303599085035
            ],
            "sizemode": "area",
            "sizeref": 0.050903371511914326,
            "symbol": "circle"
           },
           "mode": "markers",
           "name": "Mercury",
           "scene": "scene",
           "showlegend": true,
           "type": "scatter3d",
           "x": [
            5.765669139625642
           ],
           "y": [
            40.71163234584277
           ],
           "z": [
            21.12194759552705
           ]
          },
          {
           "hovertemplate": "name=Neptune<br>index=343<br>x=%{x}<br>y=%{y}<br>z=%{z}<br>radius=%{marker.size}<extra></extra>",
           "ids": [
            "Neptune"
           ],
           "legendgroup": "Neptune",
           "marker": {
            "color": "cyan",
            "size": [
             10.15120663641638
            ],
            "sizemode": "area",
            "sizeref": 0.050903371511914326,
            "symbol": "circle"
           },
           "mode": "markers",
           "name": "Neptune",
           "scene": "scene",
           "showlegend": true,
           "type": "scatter3d",
           "x": [
            266.58590041454397
           ],
           "y": [
            -333.5820848279745
           ],
           "z": [
            -143.15856007562118
           ]
          },
          {
           "hovertemplate": "name=Saturn<br>index=343<br>x=%{x}<br>y=%{y}<br>z=%{z}<br>radius=%{marker.size}<extra></extra>",
           "ids": [
            "Saturn"
           ],
           "legendgroup": "Saturn",
           "marker": {
            "color": "khaki",
            "size": [
             10.972190310798094
            ],
            "sizemode": "area",
            "sizeref": 0.050903371511914326,
            "symbol": "circle"
           },
           "mode": "markers",
           "name": "Saturn",
           "scene": "scene",
           "showlegend": true,
           "type": "scatter3d",
           "x": [
            67.5721122736552
           ],
           "y": [
            110.36497283584397
           ],
           "z": [
            42.68211184289607
           ]
          },
          {
           "hovertemplate": "name=Uranus<br>index=343<br>x=%{x}<br>y=%{y}<br>z=%{z}<br>radius=%{marker.size}<extra></extra>",
           "ids": [
            "Uranus"
           ],
           "legendgroup": "Uranus",
           "marker": {
            "color": "lightcyan",
            "size": [
             10.141007269794844
            ],
            "sizemode": "area",
            "sizeref": 0.050903371511914326,
            "symbol": "circle"
           },
           "mode": "markers",
           "name": "Uranus",
           "scene": "scene",
           "showlegend": true,
           "type": "scatter3d",
           "x": [
            231.2121962457497
           ],
           "y": [
            -171.88889367893563
           ],
           "z": [
            -78.55492028896805
           ]
          },
          {
           "hovertemplate": "name=Jupiter<br>index=343<br>x=%{x}<br>y=%{y}<br>z=%{z}<br>radius=%{marker.size}<extra></extra>",
           "ids": [
            "Jupiter"
           ],
           "legendgroup": "Jupiter",
           "marker": {
            "color": "chocolate",
            "size": [
             11.154978283509006
            ],
            "sizemode": "area",
            "sizeref": 0.050903371511914326,
            "symbol": "circle"
           },
           "mode": "markers",
           "name": "Jupiter",
           "scene": "scene",
           "showlegend": true,
           "type": "scatter3d",
           "x": [
            23.31667788787573
           ],
           "y": [
            66.34002343999963
           ],
           "z": [
            27.864819098402247
           ]
          },
          {
           "hovertemplate": "name=Earth<br>index=343<br>x=%{x}<br>y=%{y}<br>z=%{z}<br>radius=%{marker.size}<extra></extra>",
           "ids": [
            "Earth"
           ],
           "legendgroup": "Earth",
           "marker": {
            "color": "green",
            "size": [
             8.759511722116487
            ],
            "sizemode": "area",
            "sizeref": 0.050903371511914326,
            "symbol": "circle"
           },
           "mode": "markers",
           "name": "Earth",
           "scene": "scene",
           "showlegend": true,
           "type": "scatter3d",
           "x": [
            -102.21982907809551
           ],
           "y": [
            97.52076869788425
           ],
           "z": [
            42.24765985160814
           ]
          }
         ],
         "name": "343"
        },
        {
         "data": [
          {
           "hovertemplate": "name=Sun<br>index=350<br>x=%{x}<br>y=%{y}<br>z=%{z}<br>radius=%{marker.size}<extra></extra>",
           "ids": [
            "Sun"
           ],
           "legendgroup": "Sun",
           "marker": {
            "color": "orange",
            "size": [
             20.36134860476573
            ],
            "sizemode": "area",
            "sizeref": 0.050903371511914326,
            "symbol": "circle"
           },
           "mode": "markers",
           "name": "Sun",
           "scene": "scene",
           "showlegend": true,
           "type": "scatter3d",
           "x": [
            10.836474617658439
           ],
           "y": [
            11.349819422592393
           ],
           "z": [
            2.180185015716089
           ]
          },
          {
           "hovertemplate": "name=Mars<br>index=350<br>x=%{x}<br>y=%{y}<br>z=%{z}<br>radius=%{marker.size}<extra></extra>",
           "ids": [
            "Mars"
           ],
           "legendgroup": "Mars",
           "marker": {
            "color": "crimson",
            "size": [
             8.12843769687102
            ],
            "sizemode": "area",
            "sizeref": 0.050903371511914326,
            "symbol": "circle"
           },
           "mode": "markers",
           "name": "Mars",
           "scene": "scene",
           "showlegend": true,
           "type": "scatter3d",
           "x": [
            -75.63582605736242
           ],
           "y": [
            -26.067121627476563
           ],
           "z": [
            -9.918656192377988
           ]
          },
          {
           "hovertemplate": "name=Mercury<br>index=350<br>x=%{x}<br>y=%{y}<br>z=%{z}<br>radius=%{marker.size}<extra></extra>",
           "ids": [
            "Mercury"
           ],
           "legendgroup": "Mercury",
           "marker": {
            "color": "cornflowerblue",
            "size": [
             7.7996303599085035
            ],
            "sizemode": "area",
            "sizeref": 0.050903371511914326,
            "symbol": "circle"
           },
           "mode": "markers",
           "name": "Mercury",
           "scene": "scene",
           "showlegend": true,
           "type": "scatter3d",
           "x": [
            -27.99709283253315
           ],
           "y": [
            34.21606924400409
           ],
           "z": [
            21.151449679519317
           ]
          },
          {
           "hovertemplate": "name=Neptune<br>index=350<br>x=%{x}<br>y=%{y}<br>z=%{z}<br>radius=%{marker.size}<extra></extra>",
           "ids": [
            "Neptune"
           ],
           "legendgroup": "Neptune",
           "marker": {
            "color": "cyan",
            "size": [
             10.15120663641638
            ],
            "sizemode": "area",
            "sizeref": 0.050903371511914326,
            "symbol": "circle"
           },
           "mode": "markers",
           "name": "Neptune",
           "scene": "scene",
           "showlegend": true,
           "type": "scatter3d",
           "x": [
            266.84807679693125
           ],
           "y": [
            -333.3970494277022
           ],
           "z": [
            -143.08934057192232
           ]
          },
          {
           "hovertemplate": "name=Saturn<br>index=350<br>x=%{x}<br>y=%{y}<br>z=%{z}<br>radius=%{marker.size}<extra></extra>",
           "ids": [
            "Saturn"
           ],
           "legendgroup": "Saturn",
           "marker": {
            "color": "khaki",
            "size": [
             10.972190310798094
            ],
            "sizemode": "area",
            "sizeref": 0.050903371511914326,
            "symbol": "circle"
           },
           "mode": "markers",
           "name": "Saturn",
           "scene": "scene",
           "showlegend": true,
           "type": "scatter3d",
           "x": [
            67.03288917308531
           ],
           "y": [
            110.62280077997825
           ],
           "z": [
            42.811780462437284
           ]
          },
          {
           "hovertemplate": "name=Uranus<br>index=350<br>x=%{x}<br>y=%{y}<br>z=%{z}<br>radius=%{marker.size}<extra></extra>",
           "ids": [
            "Uranus"
           ],
           "legendgroup": "Uranus",
           "marker": {
            "color": "lightcyan",
            "size": [
             10.141007269794844
            ],
            "sizemode": "area",
            "sizeref": 0.050903371511914326,
            "symbol": "circle"
           },
           "mode": "markers",
           "name": "Uranus",
           "scene": "scene",
           "showlegend": true,
           "type": "scatter3d",
           "x": [
            231.46914387336432
           ],
           "y": [
            -171.61219349978725
           ],
           "z": [
            -78.4373907262446
           ]
          },
          {
           "hovertemplate": "name=Jupiter<br>index=350<br>x=%{x}<br>y=%{y}<br>z=%{z}<br>radius=%{marker.size}<extra></extra>",
           "ids": [
            "Jupiter"
           ],
           "legendgroup": "Jupiter",
           "marker": {
            "color": "chocolate",
            "size": [
             11.154978283509006
            ],
            "sizemode": "area",
            "sizeref": 0.050903371511914326,
            "symbol": "circle"
           },
           "mode": "markers",
           "name": "Jupiter",
           "scene": "scene",
           "showlegend": true,
           "type": "scatter3d",
           "x": [
            22.55304839508138
           ],
           "y": [
            66.58827620767141
           ],
           "z": [
            27.989852345212263
           ]
          },
          {
           "hovertemplate": "name=Earth<br>index=350<br>x=%{x}<br>y=%{y}<br>z=%{z}<br>radius=%{marker.size}<extra></extra>",
           "ids": [
            "Earth"
           ],
           "legendgroup": "Earth",
           "marker": {
            "color": "green",
            "size": [
             8.759511722116487
            ],
            "sizemode": "area",
            "sizeref": 0.050903371511914326,
            "symbol": "circle"
           },
           "mode": "markers",
           "name": "Earth",
           "scene": "scene",
           "showlegend": true,
           "type": "scatter3d",
           "x": [
            -114.67561460185055
           ],
           "y": [
            85.27987817221214
           ],
           "z": [
            36.94188014868963
           ]
          }
         ],
         "name": "350"
        },
        {
         "data": [
          {
           "hovertemplate": "name=Sun<br>index=357<br>x=%{x}<br>y=%{y}<br>z=%{z}<br>radius=%{marker.size}<extra></extra>",
           "ids": [
            "Sun"
           ],
           "legendgroup": "Sun",
           "marker": {
            "color": "orange",
            "size": [
             20.36134860476573
            ],
            "sizemode": "area",
            "sizeref": 0.050903371511914326,
            "symbol": "circle"
           },
           "mode": "markers",
           "name": "Sun",
           "scene": "scene",
           "showlegend": true,
           "type": "scatter3d",
           "x": [
            11.174157426386696
           ],
           "y": [
            11.77488817478344
           ],
           "z": [
            2.2991907855383924
           ]
          },
          {
           "hovertemplate": "name=Mars<br>index=357<br>x=%{x}<br>y=%{y}<br>z=%{z}<br>radius=%{marker.size}<extra></extra>",
           "ids": [
            "Mars"
           ],
           "legendgroup": "Mars",
           "marker": {
            "color": "crimson",
            "size": [
             8.12843769687102
            ],
            "sizemode": "area",
            "sizeref": 0.050903371511914326,
            "symbol": "circle"
           },
           "mode": "markers",
           "name": "Mars",
           "scene": "scene",
           "showlegend": true,
           "type": "scatter3d",
           "x": [
            -73.63180828851026
           ],
           "y": [
            -29.790224511618323
           ],
           "z": [
            -11.681277764405584
           ]
          },
          {
           "hovertemplate": "name=Mercury<br>index=357<br>x=%{x}<br>y=%{y}<br>z=%{z}<br>radius=%{marker.size}<extra></extra>",
           "ids": [
            "Mercury"
           ],
           "legendgroup": "Mercury",
           "marker": {
            "color": "cornflowerblue",
            "size": [
             7.7996303599085035
            ],
            "sizemode": "area",
            "sizeref": 0.050903371511914326,
            "symbol": "circle"
           },
           "mode": "markers",
           "name": "Mercury",
           "scene": "scene",
           "showlegend": true,
           "type": "scatter3d",
           "x": [
            -51.11373046022535
           ],
           "y": [
            13.918831001499909
           ],
           "z": [
            12.705060392353518
           ]
          },
          {
           "hovertemplate": "name=Neptune<br>index=357<br>x=%{x}<br>y=%{y}<br>z=%{z}<br>radius=%{marker.size}<extra></extra>",
           "ids": [
            "Neptune"
           ],
           "legendgroup": "Neptune",
           "marker": {
            "color": "cyan",
            "size": [
             10.15120663641638
            ],
            "sizemode": "area",
            "sizeref": 0.050903371511914326,
            "symbol": "circle"
           },
           "mode": "markers",
           "name": "Neptune",
           "scene": "scene",
           "showlegend": true,
           "type": "scatter3d",
           "x": [
            267.11011125703004
           ],
           "y": [
            -333.2118365993293
           ],
           "z": [
            -143.0200449224785
           ]
          },
          {
           "hovertemplate": "name=Saturn<br>index=357<br>x=%{x}<br>y=%{y}<br>z=%{z}<br>radius=%{marker.size}<extra></extra>",
           "ids": [
            "Saturn"
           ],
           "legendgroup": "Saturn",
           "marker": {
            "color": "khaki",
            "size": [
             10.972190310798094
            ],
            "sizemode": "area",
            "sizeref": 0.050903371511914326,
            "symbol": "circle"
           },
           "mode": "markers",
           "name": "Saturn",
           "scene": "scene",
           "showlegend": true,
           "type": "scatter3d",
           "x": [
            66.49237152129898
           ],
           "y": [
            110.8784973041531
           ],
           "z": [
            42.940624551053055
           ]
          },
          {
           "hovertemplate": "name=Uranus<br>index=357<br>x=%{x}<br>y=%{y}<br>z=%{z}<br>radius=%{marker.size}<extra></extra>",
           "ids": [
            "Uranus"
           ],
           "legendgroup": "Uranus",
           "marker": {
            "color": "lightcyan",
            "size": [
             10.141007269794844
            ],
            "sizemode": "area",
            "sizeref": 0.050903371511914326,
            "symbol": "circle"
           },
           "mode": "markers",
           "name": "Uranus",
           "scene": "scene",
           "showlegend": true,
           "type": "scatter3d",
           "x": [
            231.7256692946373
           ],
           "y": [
            -171.33518016409397
           ],
           "z": [
            -78.31971803852615
           ]
          },
          {
           "hovertemplate": "name=Jupiter<br>index=357<br>x=%{x}<br>y=%{y}<br>z=%{z}<br>radius=%{marker.size}<extra></extra>",
           "ids": [
            "Jupiter"
           ],
           "legendgroup": "Jupiter",
           "marker": {
            "color": "chocolate",
            "size": [
             11.154978283509006
            ],
            "sizemode": "area",
            "sizeref": 0.050903371511914326,
            "symbol": "circle"
           },
           "mode": "markers",
           "name": "Jupiter",
           "scene": "scene",
           "showlegend": true,
           "type": "scatter3d",
           "x": [
            21.786894253039186
           ],
           "y": [
            66.8290680401988
           ],
           "z": [
            28.111748964770662
           ]
          },
          {
           "hovertemplate": "name=Earth<br>index=357<br>x=%{x}<br>y=%{y}<br>z=%{z}<br>radius=%{marker.size}<extra></extra>",
           "ids": [
            "Earth"
           ],
           "legendgroup": "Earth",
           "marker": {
            "color": "green",
            "size": [
             8.759511722116487
            ],
            "sizemode": "area",
            "sizeref": 0.050903371511914326,
            "symbol": "circle"
           },
           "mode": "markers",
           "name": "Earth",
           "scene": "scene",
           "showlegend": true,
           "type": "scatter3d",
           "x": [
            -125.40150301585511
           ],
           "y": [
            71.7553718921124
           ],
           "z": [
            31.079644859364773
           ]
          }
         ],
         "name": "357"
        },
        {
         "data": [
          {
           "hovertemplate": "name=Sun<br>index=364<br>x=%{x}<br>y=%{y}<br>z=%{z}<br>radius=%{marker.size}<extra></extra>",
           "ids": [
            "Sun"
           ],
           "legendgroup": "Sun",
           "marker": {
            "color": "orange",
            "size": [
             20.36134860476573
            ],
            "sizemode": "area",
            "sizeref": 0.050903371511914326,
            "symbol": "circle"
           },
           "mode": "markers",
           "name": "Sun",
           "scene": "scene",
           "showlegend": true,
           "type": "scatter3d",
           "x": [
            11.513725174871144
           ],
           "y": [
            12.208087017878775
           ],
           "z": [
            2.4216351386869905
           ]
          },
          {
           "hovertemplate": "name=Mars<br>index=364<br>x=%{x}<br>y=%{y}<br>z=%{z}<br>radius=%{marker.size}<extra></extra>",
           "ids": [
            "Mars"
           ],
           "legendgroup": "Mars",
           "marker": {
            "color": "crimson",
            "size": [
             8.12843769687102
            ],
            "sizemode": "area",
            "sizeref": 0.050903371511914326,
            "symbol": "circle"
           },
           "mode": "markers",
           "name": "Mars",
           "scene": "scene",
           "showlegend": true,
           "type": "scatter3d",
           "x": [
            -71.37236161973296
           ],
           "y": [
            -33.40985616556288
           ],
           "z": [
            -13.403350687765869
           ]
          },
          {
           "hovertemplate": "name=Mercury<br>index=364<br>x=%{x}<br>y=%{y}<br>z=%{z}<br>radius=%{marker.size}<extra></extra>",
           "ids": [
            "Mercury"
           ],
           "legendgroup": "Mercury",
           "marker": {
            "color": "cornflowerblue",
            "size": [
             7.7996303599085035
            ],
            "sizemode": "area",
            "sizeref": 0.050903371511914326,
            "symbol": "circle"
           },
           "mode": "markers",
           "name": "Mercury",
           "scene": "scene",
           "showlegend": true,
           "type": "scatter3d",
           "x": [
            -59.38313756695807
           ],
           "y": [
            -10.820261569954368
           ],
           "z": [
            0.3469227401338875
           ]
          },
          {
           "hovertemplate": "name=Neptune<br>index=364<br>x=%{x}<br>y=%{y}<br>z=%{z}<br>radius=%{marker.size}<extra></extra>",
           "ids": [
            "Neptune"
           ],
           "legendgroup": "Neptune",
           "marker": {
            "color": "cyan",
            "size": [
             10.15120663641638
            ],
            "sizemode": "area",
            "sizeref": 0.050903371511914326,
            "symbol": "circle"
           },
           "mode": "markers",
           "name": "Neptune",
           "scene": "scene",
           "showlegend": true,
           "type": "scatter3d",
           "x": [
            267.37200365227454
           ],
           "y": [
            -333.0264464374466
           ],
           "z": [
            -142.9506731624809
           ]
          },
          {
           "hovertemplate": "name=Saturn<br>index=364<br>x=%{x}<br>y=%{y}<br>z=%{z}<br>radius=%{marker.size}<extra></extra>",
           "ids": [
            "Saturn"
           ],
           "legendgroup": "Saturn",
           "marker": {
            "color": "khaki",
            "size": [
             10.972190310798094
            ],
            "sizemode": "area",
            "sizeref": 0.050903371511914326,
            "symbol": "circle"
           },
           "mode": "markers",
           "name": "Saturn",
           "scene": "scene",
           "showlegend": true,
           "type": "scatter3d",
           "x": [
            65.9505692463245
           ],
           "y": [
            111.13205676766408
           ],
           "z": [
            43.068641347583856
           ]
          },
          {
           "hovertemplate": "name=Uranus<br>index=364<br>x=%{x}<br>y=%{y}<br>z=%{z}<br>radius=%{marker.size}<extra></extra>",
           "ids": [
            "Uranus"
           ],
           "legendgroup": "Uranus",
           "marker": {
            "color": "lightcyan",
            "size": [
             10.141007269794844
            ],
            "sizemode": "area",
            "sizeref": 0.050903371511914326,
            "symbol": "circle"
           },
           "mode": "markers",
           "name": "Uranus",
           "scene": "scene",
           "showlegend": true,
           "type": "scatter3d",
           "x": [
            231.9817720807685
           ],
           "y": [
            -171.05785420612727
           ],
           "z": [
            -78.20190245380354
           ]
          },
          {
           "hovertemplate": "name=Jupiter<br>index=364<br>x=%{x}<br>y=%{y}<br>z=%{z}<br>radius=%{marker.size}<extra></extra>",
           "ids": [
            "Jupiter"
           ],
           "legendgroup": "Jupiter",
           "marker": {
            "color": "chocolate",
            "size": [
             11.154978283509006
            ],
            "sizemode": "area",
            "sizeref": 0.050903371511914326,
            "symbol": "circle"
           },
           "mode": "markers",
           "name": "Jupiter",
           "scene": "scene",
           "showlegend": true,
           "type": "scatter3d",
           "x": [
            21.01830452615093
           ],
           "y": [
            67.06238163422152
           ],
           "z": [
            28.230499363558796
           ]
          },
          {
           "hovertemplate": "name=Earth<br>index=364<br>x=%{x}<br>y=%{y}<br>z=%{z}<br>radius=%{marker.size}<extra></extra>",
           "ids": [
            "Earth"
           ],
           "legendgroup": "Earth",
           "marker": {
            "color": "green",
            "size": [
             8.759511722116487
            ],
            "sizemode": "area",
            "sizeref": 0.050903371511914326,
            "symbol": "circle"
           },
           "mode": "markers",
           "name": "Earth",
           "scene": "scene",
           "showlegend": true,
           "type": "scatter3d",
           "x": [
            -134.24333138902105
           ],
           "y": [
            57.155418422342166
           ],
           "z": [
            24.751175826884648
           ]
          }
         ],
         "name": "364"
        }
       ],
       "layout": {
        "legend": {
         "itemsizing": "constant",
         "title": {
          "text": "name"
         },
         "tracegroupgap": 0
        },
        "margin": {
         "t": 60
        },
        "scene": {
         "aspectmode": "cube",
         "domain": {
          "x": [
           0,
           1
          ],
          "y": [
           0,
           1
          ]
         },
         "xaxis": {
          "nticks": 3,
          "range": [
           -267.37200365227454,
           267.37200365227454
          ],
          "title": {
           "text": "x"
          }
         },
         "yaxis": {
          "nticks": 3,
          "range": [
           -342.4295260323,
           342.4295260323
          ],
          "title": {
           "text": "y"
          }
         },
         "zaxis": {
          "nticks": 3,
          "range": [
           -146.45631541529997,
           146.45631541529997
          ],
          "title": {
           "text": "z"
          }
         }
        },
        "sliders": [
         {
          "active": 0,
          "currentvalue": {
           "prefix": "index="
          },
          "len": 0.9,
          "pad": {
           "b": 10,
           "t": 60
          },
          "steps": [
           {
            "args": [
             [
              "0"
             ],
             {
              "frame": {
               "duration": 0,
               "redraw": true
              },
              "fromcurrent": true,
              "mode": "immediate",
              "transition": {
               "duration": 0,
               "easing": "linear"
              }
             }
            ],
            "label": "0",
            "method": "animate"
           },
           {
            "args": [
             [
              "7"
             ],
             {
              "frame": {
               "duration": 0,
               "redraw": true
              },
              "fromcurrent": true,
              "mode": "immediate",
              "transition": {
               "duration": 0,
               "easing": "linear"
              }
             }
            ],
            "label": "7",
            "method": "animate"
           },
           {
            "args": [
             [
              "14"
             ],
             {
              "frame": {
               "duration": 0,
               "redraw": true
              },
              "fromcurrent": true,
              "mode": "immediate",
              "transition": {
               "duration": 0,
               "easing": "linear"
              }
             }
            ],
            "label": "14",
            "method": "animate"
           },
           {
            "args": [
             [
              "21"
             ],
             {
              "frame": {
               "duration": 0,
               "redraw": true
              },
              "fromcurrent": true,
              "mode": "immediate",
              "transition": {
               "duration": 0,
               "easing": "linear"
              }
             }
            ],
            "label": "21",
            "method": "animate"
           },
           {
            "args": [
             [
              "28"
             ],
             {
              "frame": {
               "duration": 0,
               "redraw": true
              },
              "fromcurrent": true,
              "mode": "immediate",
              "transition": {
               "duration": 0,
               "easing": "linear"
              }
             }
            ],
            "label": "28",
            "method": "animate"
           },
           {
            "args": [
             [
              "35"
             ],
             {
              "frame": {
               "duration": 0,
               "redraw": true
              },
              "fromcurrent": true,
              "mode": "immediate",
              "transition": {
               "duration": 0,
               "easing": "linear"
              }
             }
            ],
            "label": "35",
            "method": "animate"
           },
           {
            "args": [
             [
              "42"
             ],
             {
              "frame": {
               "duration": 0,
               "redraw": true
              },
              "fromcurrent": true,
              "mode": "immediate",
              "transition": {
               "duration": 0,
               "easing": "linear"
              }
             }
            ],
            "label": "42",
            "method": "animate"
           },
           {
            "args": [
             [
              "49"
             ],
             {
              "frame": {
               "duration": 0,
               "redraw": true
              },
              "fromcurrent": true,
              "mode": "immediate",
              "transition": {
               "duration": 0,
               "easing": "linear"
              }
             }
            ],
            "label": "49",
            "method": "animate"
           },
           {
            "args": [
             [
              "56"
             ],
             {
              "frame": {
               "duration": 0,
               "redraw": true
              },
              "fromcurrent": true,
              "mode": "immediate",
              "transition": {
               "duration": 0,
               "easing": "linear"
              }
             }
            ],
            "label": "56",
            "method": "animate"
           },
           {
            "args": [
             [
              "63"
             ],
             {
              "frame": {
               "duration": 0,
               "redraw": true
              },
              "fromcurrent": true,
              "mode": "immediate",
              "transition": {
               "duration": 0,
               "easing": "linear"
              }
             }
            ],
            "label": "63",
            "method": "animate"
           },
           {
            "args": [
             [
              "70"
             ],
             {
              "frame": {
               "duration": 0,
               "redraw": true
              },
              "fromcurrent": true,
              "mode": "immediate",
              "transition": {
               "duration": 0,
               "easing": "linear"
              }
             }
            ],
            "label": "70",
            "method": "animate"
           },
           {
            "args": [
             [
              "77"
             ],
             {
              "frame": {
               "duration": 0,
               "redraw": true
              },
              "fromcurrent": true,
              "mode": "immediate",
              "transition": {
               "duration": 0,
               "easing": "linear"
              }
             }
            ],
            "label": "77",
            "method": "animate"
           },
           {
            "args": [
             [
              "84"
             ],
             {
              "frame": {
               "duration": 0,
               "redraw": true
              },
              "fromcurrent": true,
              "mode": "immediate",
              "transition": {
               "duration": 0,
               "easing": "linear"
              }
             }
            ],
            "label": "84",
            "method": "animate"
           },
           {
            "args": [
             [
              "91"
             ],
             {
              "frame": {
               "duration": 0,
               "redraw": true
              },
              "fromcurrent": true,
              "mode": "immediate",
              "transition": {
               "duration": 0,
               "easing": "linear"
              }
             }
            ],
            "label": "91",
            "method": "animate"
           },
           {
            "args": [
             [
              "98"
             ],
             {
              "frame": {
               "duration": 0,
               "redraw": true
              },
              "fromcurrent": true,
              "mode": "immediate",
              "transition": {
               "duration": 0,
               "easing": "linear"
              }
             }
            ],
            "label": "98",
            "method": "animate"
           },
           {
            "args": [
             [
              "105"
             ],
             {
              "frame": {
               "duration": 0,
               "redraw": true
              },
              "fromcurrent": true,
              "mode": "immediate",
              "transition": {
               "duration": 0,
               "easing": "linear"
              }
             }
            ],
            "label": "105",
            "method": "animate"
           },
           {
            "args": [
             [
              "112"
             ],
             {
              "frame": {
               "duration": 0,
               "redraw": true
              },
              "fromcurrent": true,
              "mode": "immediate",
              "transition": {
               "duration": 0,
               "easing": "linear"
              }
             }
            ],
            "label": "112",
            "method": "animate"
           },
           {
            "args": [
             [
              "119"
             ],
             {
              "frame": {
               "duration": 0,
               "redraw": true
              },
              "fromcurrent": true,
              "mode": "immediate",
              "transition": {
               "duration": 0,
               "easing": "linear"
              }
             }
            ],
            "label": "119",
            "method": "animate"
           },
           {
            "args": [
             [
              "126"
             ],
             {
              "frame": {
               "duration": 0,
               "redraw": true
              },
              "fromcurrent": true,
              "mode": "immediate",
              "transition": {
               "duration": 0,
               "easing": "linear"
              }
             }
            ],
            "label": "126",
            "method": "animate"
           },
           {
            "args": [
             [
              "133"
             ],
             {
              "frame": {
               "duration": 0,
               "redraw": true
              },
              "fromcurrent": true,
              "mode": "immediate",
              "transition": {
               "duration": 0,
               "easing": "linear"
              }
             }
            ],
            "label": "133",
            "method": "animate"
           },
           {
            "args": [
             [
              "140"
             ],
             {
              "frame": {
               "duration": 0,
               "redraw": true
              },
              "fromcurrent": true,
              "mode": "immediate",
              "transition": {
               "duration": 0,
               "easing": "linear"
              }
             }
            ],
            "label": "140",
            "method": "animate"
           },
           {
            "args": [
             [
              "147"
             ],
             {
              "frame": {
               "duration": 0,
               "redraw": true
              },
              "fromcurrent": true,
              "mode": "immediate",
              "transition": {
               "duration": 0,
               "easing": "linear"
              }
             }
            ],
            "label": "147",
            "method": "animate"
           },
           {
            "args": [
             [
              "154"
             ],
             {
              "frame": {
               "duration": 0,
               "redraw": true
              },
              "fromcurrent": true,
              "mode": "immediate",
              "transition": {
               "duration": 0,
               "easing": "linear"
              }
             }
            ],
            "label": "154",
            "method": "animate"
           },
           {
            "args": [
             [
              "161"
             ],
             {
              "frame": {
               "duration": 0,
               "redraw": true
              },
              "fromcurrent": true,
              "mode": "immediate",
              "transition": {
               "duration": 0,
               "easing": "linear"
              }
             }
            ],
            "label": "161",
            "method": "animate"
           },
           {
            "args": [
             [
              "168"
             ],
             {
              "frame": {
               "duration": 0,
               "redraw": true
              },
              "fromcurrent": true,
              "mode": "immediate",
              "transition": {
               "duration": 0,
               "easing": "linear"
              }
             }
            ],
            "label": "168",
            "method": "animate"
           },
           {
            "args": [
             [
              "175"
             ],
             {
              "frame": {
               "duration": 0,
               "redraw": true
              },
              "fromcurrent": true,
              "mode": "immediate",
              "transition": {
               "duration": 0,
               "easing": "linear"
              }
             }
            ],
            "label": "175",
            "method": "animate"
           },
           {
            "args": [
             [
              "182"
             ],
             {
              "frame": {
               "duration": 0,
               "redraw": true
              },
              "fromcurrent": true,
              "mode": "immediate",
              "transition": {
               "duration": 0,
               "easing": "linear"
              }
             }
            ],
            "label": "182",
            "method": "animate"
           },
           {
            "args": [
             [
              "189"
             ],
             {
              "frame": {
               "duration": 0,
               "redraw": true
              },
              "fromcurrent": true,
              "mode": "immediate",
              "transition": {
               "duration": 0,
               "easing": "linear"
              }
             }
            ],
            "label": "189",
            "method": "animate"
           },
           {
            "args": [
             [
              "196"
             ],
             {
              "frame": {
               "duration": 0,
               "redraw": true
              },
              "fromcurrent": true,
              "mode": "immediate",
              "transition": {
               "duration": 0,
               "easing": "linear"
              }
             }
            ],
            "label": "196",
            "method": "animate"
           },
           {
            "args": [
             [
              "203"
             ],
             {
              "frame": {
               "duration": 0,
               "redraw": true
              },
              "fromcurrent": true,
              "mode": "immediate",
              "transition": {
               "duration": 0,
               "easing": "linear"
              }
             }
            ],
            "label": "203",
            "method": "animate"
           },
           {
            "args": [
             [
              "210"
             ],
             {
              "frame": {
               "duration": 0,
               "redraw": true
              },
              "fromcurrent": true,
              "mode": "immediate",
              "transition": {
               "duration": 0,
               "easing": "linear"
              }
             }
            ],
            "label": "210",
            "method": "animate"
           },
           {
            "args": [
             [
              "217"
             ],
             {
              "frame": {
               "duration": 0,
               "redraw": true
              },
              "fromcurrent": true,
              "mode": "immediate",
              "transition": {
               "duration": 0,
               "easing": "linear"
              }
             }
            ],
            "label": "217",
            "method": "animate"
           },
           {
            "args": [
             [
              "224"
             ],
             {
              "frame": {
               "duration": 0,
               "redraw": true
              },
              "fromcurrent": true,
              "mode": "immediate",
              "transition": {
               "duration": 0,
               "easing": "linear"
              }
             }
            ],
            "label": "224",
            "method": "animate"
           },
           {
            "args": [
             [
              "231"
             ],
             {
              "frame": {
               "duration": 0,
               "redraw": true
              },
              "fromcurrent": true,
              "mode": "immediate",
              "transition": {
               "duration": 0,
               "easing": "linear"
              }
             }
            ],
            "label": "231",
            "method": "animate"
           },
           {
            "args": [
             [
              "238"
             ],
             {
              "frame": {
               "duration": 0,
               "redraw": true
              },
              "fromcurrent": true,
              "mode": "immediate",
              "transition": {
               "duration": 0,
               "easing": "linear"
              }
             }
            ],
            "label": "238",
            "method": "animate"
           },
           {
            "args": [
             [
              "245"
             ],
             {
              "frame": {
               "duration": 0,
               "redraw": true
              },
              "fromcurrent": true,
              "mode": "immediate",
              "transition": {
               "duration": 0,
               "easing": "linear"
              }
             }
            ],
            "label": "245",
            "method": "animate"
           },
           {
            "args": [
             [
              "252"
             ],
             {
              "frame": {
               "duration": 0,
               "redraw": true
              },
              "fromcurrent": true,
              "mode": "immediate",
              "transition": {
               "duration": 0,
               "easing": "linear"
              }
             }
            ],
            "label": "252",
            "method": "animate"
           },
           {
            "args": [
             [
              "259"
             ],
             {
              "frame": {
               "duration": 0,
               "redraw": true
              },
              "fromcurrent": true,
              "mode": "immediate",
              "transition": {
               "duration": 0,
               "easing": "linear"
              }
             }
            ],
            "label": "259",
            "method": "animate"
           },
           {
            "args": [
             [
              "266"
             ],
             {
              "frame": {
               "duration": 0,
               "redraw": true
              },
              "fromcurrent": true,
              "mode": "immediate",
              "transition": {
               "duration": 0,
               "easing": "linear"
              }
             }
            ],
            "label": "266",
            "method": "animate"
           },
           {
            "args": [
             [
              "273"
             ],
             {
              "frame": {
               "duration": 0,
               "redraw": true
              },
              "fromcurrent": true,
              "mode": "immediate",
              "transition": {
               "duration": 0,
               "easing": "linear"
              }
             }
            ],
            "label": "273",
            "method": "animate"
           },
           {
            "args": [
             [
              "280"
             ],
             {
              "frame": {
               "duration": 0,
               "redraw": true
              },
              "fromcurrent": true,
              "mode": "immediate",
              "transition": {
               "duration": 0,
               "easing": "linear"
              }
             }
            ],
            "label": "280",
            "method": "animate"
           },
           {
            "args": [
             [
              "287"
             ],
             {
              "frame": {
               "duration": 0,
               "redraw": true
              },
              "fromcurrent": true,
              "mode": "immediate",
              "transition": {
               "duration": 0,
               "easing": "linear"
              }
             }
            ],
            "label": "287",
            "method": "animate"
           },
           {
            "args": [
             [
              "294"
             ],
             {
              "frame": {
               "duration": 0,
               "redraw": true
              },
              "fromcurrent": true,
              "mode": "immediate",
              "transition": {
               "duration": 0,
               "easing": "linear"
              }
             }
            ],
            "label": "294",
            "method": "animate"
           },
           {
            "args": [
             [
              "301"
             ],
             {
              "frame": {
               "duration": 0,
               "redraw": true
              },
              "fromcurrent": true,
              "mode": "immediate",
              "transition": {
               "duration": 0,
               "easing": "linear"
              }
             }
            ],
            "label": "301",
            "method": "animate"
           },
           {
            "args": [
             [
              "308"
             ],
             {
              "frame": {
               "duration": 0,
               "redraw": true
              },
              "fromcurrent": true,
              "mode": "immediate",
              "transition": {
               "duration": 0,
               "easing": "linear"
              }
             }
            ],
            "label": "308",
            "method": "animate"
           },
           {
            "args": [
             [
              "315"
             ],
             {
              "frame": {
               "duration": 0,
               "redraw": true
              },
              "fromcurrent": true,
              "mode": "immediate",
              "transition": {
               "duration": 0,
               "easing": "linear"
              }
             }
            ],
            "label": "315",
            "method": "animate"
           },
           {
            "args": [
             [
              "322"
             ],
             {
              "frame": {
               "duration": 0,
               "redraw": true
              },
              "fromcurrent": true,
              "mode": "immediate",
              "transition": {
               "duration": 0,
               "easing": "linear"
              }
             }
            ],
            "label": "322",
            "method": "animate"
           },
           {
            "args": [
             [
              "329"
             ],
             {
              "frame": {
               "duration": 0,
               "redraw": true
              },
              "fromcurrent": true,
              "mode": "immediate",
              "transition": {
               "duration": 0,
               "easing": "linear"
              }
             }
            ],
            "label": "329",
            "method": "animate"
           },
           {
            "args": [
             [
              "336"
             ],
             {
              "frame": {
               "duration": 0,
               "redraw": true
              },
              "fromcurrent": true,
              "mode": "immediate",
              "transition": {
               "duration": 0,
               "easing": "linear"
              }
             }
            ],
            "label": "336",
            "method": "animate"
           },
           {
            "args": [
             [
              "343"
             ],
             {
              "frame": {
               "duration": 0,
               "redraw": true
              },
              "fromcurrent": true,
              "mode": "immediate",
              "transition": {
               "duration": 0,
               "easing": "linear"
              }
             }
            ],
            "label": "343",
            "method": "animate"
           },
           {
            "args": [
             [
              "350"
             ],
             {
              "frame": {
               "duration": 0,
               "redraw": true
              },
              "fromcurrent": true,
              "mode": "immediate",
              "transition": {
               "duration": 0,
               "easing": "linear"
              }
             }
            ],
            "label": "350",
            "method": "animate"
           },
           {
            "args": [
             [
              "357"
             ],
             {
              "frame": {
               "duration": 0,
               "redraw": true
              },
              "fromcurrent": true,
              "mode": "immediate",
              "transition": {
               "duration": 0,
               "easing": "linear"
              }
             }
            ],
            "label": "357",
            "method": "animate"
           },
           {
            "args": [
             [
              "364"
             ],
             {
              "frame": {
               "duration": 0,
               "redraw": true
              },
              "fromcurrent": true,
              "mode": "immediate",
              "transition": {
               "duration": 0,
               "easing": "linear"
              }
             }
            ],
            "label": "364",
            "method": "animate"
           }
          ],
          "x": 0.1,
          "xanchor": "left",
          "y": 0,
          "yanchor": "top"
         }
        ],
        "template": {
         "data": {
          "bar": [
           {
            "error_x": {
             "color": "#f2f5fa"
            },
            "error_y": {
             "color": "#f2f5fa"
            },
            "marker": {
             "line": {
              "color": "rgb(17,17,17)",
              "width": 0.5
             }
            },
            "type": "bar"
           }
          ],
          "barpolar": [
           {
            "marker": {
             "line": {
              "color": "rgb(17,17,17)",
              "width": 0.5
             }
            },
            "type": "barpolar"
           }
          ],
          "carpet": [
           {
            "aaxis": {
             "endlinecolor": "#A2B1C6",
             "gridcolor": "#506784",
             "linecolor": "#506784",
             "minorgridcolor": "#506784",
             "startlinecolor": "#A2B1C6"
            },
            "baxis": {
             "endlinecolor": "#A2B1C6",
             "gridcolor": "#506784",
             "linecolor": "#506784",
             "minorgridcolor": "#506784",
             "startlinecolor": "#A2B1C6"
            },
            "type": "carpet"
           }
          ],
          "choropleth": [
           {
            "colorbar": {
             "outlinewidth": 0,
             "ticks": ""
            },
            "type": "choropleth"
           }
          ],
          "contour": [
           {
            "colorbar": {
             "outlinewidth": 0,
             "ticks": ""
            },
            "colorscale": [
             [
              0,
              "#0d0887"
             ],
             [
              0.1111111111111111,
              "#46039f"
             ],
             [
              0.2222222222222222,
              "#7201a8"
             ],
             [
              0.3333333333333333,
              "#9c179e"
             ],
             [
              0.4444444444444444,
              "#bd3786"
             ],
             [
              0.5555555555555556,
              "#d8576b"
             ],
             [
              0.6666666666666666,
              "#ed7953"
             ],
             [
              0.7777777777777778,
              "#fb9f3a"
             ],
             [
              0.8888888888888888,
              "#fdca26"
             ],
             [
              1,
              "#f0f921"
             ]
            ],
            "type": "contour"
           }
          ],
          "contourcarpet": [
           {
            "colorbar": {
             "outlinewidth": 0,
             "ticks": ""
            },
            "type": "contourcarpet"
           }
          ],
          "heatmap": [
           {
            "colorbar": {
             "outlinewidth": 0,
             "ticks": ""
            },
            "colorscale": [
             [
              0,
              "#0d0887"
             ],
             [
              0.1111111111111111,
              "#46039f"
             ],
             [
              0.2222222222222222,
              "#7201a8"
             ],
             [
              0.3333333333333333,
              "#9c179e"
             ],
             [
              0.4444444444444444,
              "#bd3786"
             ],
             [
              0.5555555555555556,
              "#d8576b"
             ],
             [
              0.6666666666666666,
              "#ed7953"
             ],
             [
              0.7777777777777778,
              "#fb9f3a"
             ],
             [
              0.8888888888888888,
              "#fdca26"
             ],
             [
              1,
              "#f0f921"
             ]
            ],
            "type": "heatmap"
           }
          ],
          "heatmapgl": [
           {
            "colorbar": {
             "outlinewidth": 0,
             "ticks": ""
            },
            "colorscale": [
             [
              0,
              "#0d0887"
             ],
             [
              0.1111111111111111,
              "#46039f"
             ],
             [
              0.2222222222222222,
              "#7201a8"
             ],
             [
              0.3333333333333333,
              "#9c179e"
             ],
             [
              0.4444444444444444,
              "#bd3786"
             ],
             [
              0.5555555555555556,
              "#d8576b"
             ],
             [
              0.6666666666666666,
              "#ed7953"
             ],
             [
              0.7777777777777778,
              "#fb9f3a"
             ],
             [
              0.8888888888888888,
              "#fdca26"
             ],
             [
              1,
              "#f0f921"
             ]
            ],
            "type": "heatmapgl"
           }
          ],
          "histogram": [
           {
            "marker": {
             "colorbar": {
              "outlinewidth": 0,
              "ticks": ""
             }
            },
            "type": "histogram"
           }
          ],
          "histogram2d": [
           {
            "colorbar": {
             "outlinewidth": 0,
             "ticks": ""
            },
            "colorscale": [
             [
              0,
              "#0d0887"
             ],
             [
              0.1111111111111111,
              "#46039f"
             ],
             [
              0.2222222222222222,
              "#7201a8"
             ],
             [
              0.3333333333333333,
              "#9c179e"
             ],
             [
              0.4444444444444444,
              "#bd3786"
             ],
             [
              0.5555555555555556,
              "#d8576b"
             ],
             [
              0.6666666666666666,
              "#ed7953"
             ],
             [
              0.7777777777777778,
              "#fb9f3a"
             ],
             [
              0.8888888888888888,
              "#fdca26"
             ],
             [
              1,
              "#f0f921"
             ]
            ],
            "type": "histogram2d"
           }
          ],
          "histogram2dcontour": [
           {
            "colorbar": {
             "outlinewidth": 0,
             "ticks": ""
            },
            "colorscale": [
             [
              0,
              "#0d0887"
             ],
             [
              0.1111111111111111,
              "#46039f"
             ],
             [
              0.2222222222222222,
              "#7201a8"
             ],
             [
              0.3333333333333333,
              "#9c179e"
             ],
             [
              0.4444444444444444,
              "#bd3786"
             ],
             [
              0.5555555555555556,
              "#d8576b"
             ],
             [
              0.6666666666666666,
              "#ed7953"
             ],
             [
              0.7777777777777778,
              "#fb9f3a"
             ],
             [
              0.8888888888888888,
              "#fdca26"
             ],
             [
              1,
              "#f0f921"
             ]
            ],
            "type": "histogram2dcontour"
           }
          ],
          "mesh3d": [
           {
            "colorbar": {
             "outlinewidth": 0,
             "ticks": ""
            },
            "type": "mesh3d"
           }
          ],
          "parcoords": [
           {
            "line": {
             "colorbar": {
              "outlinewidth": 0,
              "ticks": ""
             }
            },
            "type": "parcoords"
           }
          ],
          "pie": [
           {
            "automargin": true,
            "type": "pie"
           }
          ],
          "scatter": [
           {
            "marker": {
             "line": {
              "color": "#283442"
             }
            },
            "type": "scatter"
           }
          ],
          "scatter3d": [
           {
            "line": {
             "colorbar": {
              "outlinewidth": 0,
              "ticks": ""
             }
            },
            "marker": {
             "colorbar": {
              "outlinewidth": 0,
              "ticks": ""
             }
            },
            "type": "scatter3d"
           }
          ],
          "scattercarpet": [
           {
            "marker": {
             "colorbar": {
              "outlinewidth": 0,
              "ticks": ""
             }
            },
            "type": "scattercarpet"
           }
          ],
          "scattergeo": [
           {
            "marker": {
             "colorbar": {
              "outlinewidth": 0,
              "ticks": ""
             }
            },
            "type": "scattergeo"
           }
          ],
          "scattergl": [
           {
            "marker": {
             "line": {
              "color": "#283442"
             }
            },
            "type": "scattergl"
           }
          ],
          "scattermapbox": [
           {
            "marker": {
             "colorbar": {
              "outlinewidth": 0,
              "ticks": ""
             }
            },
            "type": "scattermapbox"
           }
          ],
          "scatterpolar": [
           {
            "marker": {
             "colorbar": {
              "outlinewidth": 0,
              "ticks": ""
             }
            },
            "type": "scatterpolar"
           }
          ],
          "scatterpolargl": [
           {
            "marker": {
             "colorbar": {
              "outlinewidth": 0,
              "ticks": ""
             }
            },
            "type": "scatterpolargl"
           }
          ],
          "scatterternary": [
           {
            "marker": {
             "colorbar": {
              "outlinewidth": 0,
              "ticks": ""
             }
            },
            "type": "scatterternary"
           }
          ],
          "surface": [
           {
            "colorbar": {
             "outlinewidth": 0,
             "ticks": ""
            },
            "colorscale": [
             [
              0,
              "#0d0887"
             ],
             [
              0.1111111111111111,
              "#46039f"
             ],
             [
              0.2222222222222222,
              "#7201a8"
             ],
             [
              0.3333333333333333,
              "#9c179e"
             ],
             [
              0.4444444444444444,
              "#bd3786"
             ],
             [
              0.5555555555555556,
              "#d8576b"
             ],
             [
              0.6666666666666666,
              "#ed7953"
             ],
             [
              0.7777777777777778,
              "#fb9f3a"
             ],
             [
              0.8888888888888888,
              "#fdca26"
             ],
             [
              1,
              "#f0f921"
             ]
            ],
            "type": "surface"
           }
          ],
          "table": [
           {
            "cells": {
             "fill": {
              "color": "#506784"
             },
             "line": {
              "color": "rgb(17,17,17)"
             }
            },
            "header": {
             "fill": {
              "color": "#2a3f5f"
             },
             "line": {
              "color": "rgb(17,17,17)"
             }
            },
            "type": "table"
           }
          ]
         },
         "layout": {
          "annotationdefaults": {
           "arrowcolor": "#f2f5fa",
           "arrowhead": 0,
           "arrowwidth": 1
          },
          "autotypenumbers": "strict",
          "coloraxis": {
           "colorbar": {
            "outlinewidth": 0,
            "ticks": ""
           }
          },
          "colorscale": {
           "diverging": [
            [
             0,
             "#8e0152"
            ],
            [
             0.1,
             "#c51b7d"
            ],
            [
             0.2,
             "#de77ae"
            ],
            [
             0.3,
             "#f1b6da"
            ],
            [
             0.4,
             "#fde0ef"
            ],
            [
             0.5,
             "#f7f7f7"
            ],
            [
             0.6,
             "#e6f5d0"
            ],
            [
             0.7,
             "#b8e186"
            ],
            [
             0.8,
             "#7fbc41"
            ],
            [
             0.9,
             "#4d9221"
            ],
            [
             1,
             "#276419"
            ]
           ],
           "sequential": [
            [
             0,
             "#0d0887"
            ],
            [
             0.1111111111111111,
             "#46039f"
            ],
            [
             0.2222222222222222,
             "#7201a8"
            ],
            [
             0.3333333333333333,
             "#9c179e"
            ],
            [
             0.4444444444444444,
             "#bd3786"
            ],
            [
             0.5555555555555556,
             "#d8576b"
            ],
            [
             0.6666666666666666,
             "#ed7953"
            ],
            [
             0.7777777777777778,
             "#fb9f3a"
            ],
            [
             0.8888888888888888,
             "#fdca26"
            ],
            [
             1,
             "#f0f921"
            ]
           ],
           "sequentialminus": [
            [
             0,
             "#0d0887"
            ],
            [
             0.1111111111111111,
             "#46039f"
            ],
            [
             0.2222222222222222,
             "#7201a8"
            ],
            [
             0.3333333333333333,
             "#9c179e"
            ],
            [
             0.4444444444444444,
             "#bd3786"
            ],
            [
             0.5555555555555556,
             "#d8576b"
            ],
            [
             0.6666666666666666,
             "#ed7953"
            ],
            [
             0.7777777777777778,
             "#fb9f3a"
            ],
            [
             0.8888888888888888,
             "#fdca26"
            ],
            [
             1,
             "#f0f921"
            ]
           ]
          },
          "colorway": [
           "#636efa",
           "#EF553B",
           "#00cc96",
           "#ab63fa",
           "#FFA15A",
           "#19d3f3",
           "#FF6692",
           "#B6E880",
           "#FF97FF",
           "#FECB52"
          ],
          "font": {
           "color": "#f2f5fa"
          },
          "geo": {
           "bgcolor": "rgb(17,17,17)",
           "lakecolor": "rgb(17,17,17)",
           "landcolor": "rgb(17,17,17)",
           "showlakes": true,
           "showland": true,
           "subunitcolor": "#506784"
          },
          "hoverlabel": {
           "align": "left"
          },
          "hovermode": "closest",
          "mapbox": {
           "style": "dark"
          },
          "paper_bgcolor": "rgb(17,17,17)",
          "plot_bgcolor": "rgb(17,17,17)",
          "polar": {
           "angularaxis": {
            "gridcolor": "#506784",
            "linecolor": "#506784",
            "ticks": ""
           },
           "bgcolor": "rgb(17,17,17)",
           "radialaxis": {
            "gridcolor": "#506784",
            "linecolor": "#506784",
            "ticks": ""
           }
          },
          "scene": {
           "xaxis": {
            "backgroundcolor": "rgb(17,17,17)",
            "gridcolor": "#506784",
            "gridwidth": 2,
            "linecolor": "#506784",
            "showbackground": true,
            "ticks": "",
            "zerolinecolor": "#C8D4E3"
           },
           "yaxis": {
            "backgroundcolor": "rgb(17,17,17)",
            "gridcolor": "#506784",
            "gridwidth": 2,
            "linecolor": "#506784",
            "showbackground": true,
            "ticks": "",
            "zerolinecolor": "#C8D4E3"
           },
           "zaxis": {
            "backgroundcolor": "rgb(17,17,17)",
            "gridcolor": "#506784",
            "gridwidth": 2,
            "linecolor": "#506784",
            "showbackground": true,
            "ticks": "",
            "zerolinecolor": "#C8D4E3"
           }
          },
          "shapedefaults": {
           "line": {
            "color": "#f2f5fa"
           }
          },
          "sliderdefaults": {
           "bgcolor": "#C8D4E3",
           "bordercolor": "rgb(17,17,17)",
           "borderwidth": 1,
           "tickwidth": 0
          },
          "ternary": {
           "aaxis": {
            "gridcolor": "#506784",
            "linecolor": "#506784",
            "ticks": ""
           },
           "baxis": {
            "gridcolor": "#506784",
            "linecolor": "#506784",
            "ticks": ""
           },
           "bgcolor": "rgb(17,17,17)",
           "caxis": {
            "gridcolor": "#506784",
            "linecolor": "#506784",
            "ticks": ""
           }
          },
          "title": {
           "x": 0.05
          },
          "updatemenudefaults": {
           "bgcolor": "#506784",
           "borderwidth": 0
          },
          "xaxis": {
           "automargin": true,
           "gridcolor": "#283442",
           "linecolor": "#506784",
           "ticks": "",
           "title": {
            "standoff": 15
           },
           "zerolinecolor": "#283442",
           "zerolinewidth": 2
          },
          "yaxis": {
           "automargin": true,
           "gridcolor": "#283442",
           "linecolor": "#506784",
           "ticks": "",
           "title": {
            "standoff": 15
           },
           "zerolinecolor": "#283442",
           "zerolinewidth": 2
          }
         }
        },
        "updatemenus": [
         {
          "buttons": [
           {
            "args": [
             null,
             {
              "frame": {
               "duration": 500,
               "redraw": true
              },
              "fromcurrent": true,
              "mode": "immediate",
              "transition": {
               "duration": 500,
               "easing": "linear"
              }
             }
            ],
            "label": "&#9654;",
            "method": "animate"
           },
           {
            "args": [
             [
              null
             ],
             {
              "frame": {
               "duration": 0,
               "redraw": true
              },
              "fromcurrent": true,
              "mode": "immediate",
              "transition": {
               "duration": 0,
               "easing": "linear"
              }
             }
            ],
            "label": "&#9724;",
            "method": "animate"
           }
          ],
          "direction": "left",
          "pad": {
           "r": 10,
           "t": 70
          },
          "showactive": false,
          "type": "buttons",
          "x": 0.1,
          "xanchor": "right",
          "y": 0,
          "yanchor": "top"
         }
        ],
        "width": 700
       }
      },
      "text/html": [
       "<div>                            <div id=\"aeb823a2-1ecc-4c0e-b770-375eb222e58c\" class=\"plotly-graph-div\" style=\"height:525px; width:700px;\"></div>            <script type=\"text/javascript\">                require([\"plotly\"], function(Plotly) {                    window.PLOTLYENV=window.PLOTLYENV || {};                                    if (document.getElementById(\"aeb823a2-1ecc-4c0e-b770-375eb222e58c\")) {                    Plotly.newPlot(                        \"aeb823a2-1ecc-4c0e-b770-375eb222e58c\",                        [{\"hovertemplate\": \"name=Sun<br>index=0<br>x=%{x}<br>y=%{y}<br>z=%{z}<br>radius=%{marker.size}<extra></extra>\", \"ids\": [\"Sun\"], \"legendgroup\": \"Sun\", \"marker\": {\"color\": \"orange\", \"size\": [20.36134860476573], \"sizemode\": \"area\", \"sizeref\": 0.050903371511914326, \"symbol\": \"circle\"}, \"mode\": \"markers\", \"name\": \"Sun\", \"scene\": \"scene\", \"showlegend\": true, \"type\": \"scatter3d\", \"x\": [0.0], \"y\": [0.0], \"z\": [0.0]}, {\"hovertemplate\": \"name=Mars<br>index=0<br>x=%{x}<br>y=%{y}<br>z=%{z}<br>radius=%{marker.size}<extra></extra>\", \"ids\": [\"Mars\"], \"legendgroup\": \"Mars\", \"marker\": {\"color\": \"crimson\", \"size\": [8.12843769687102], \"sizemode\": \"area\", \"sizeref\": 0.050903371511914326, \"symbol\": \"circle\"}, \"mode\": \"markers\", \"name\": \"Mars\", \"scene\": \"scene\", \"showlegend\": true, \"type\": \"scatter3d\", \"x\": [59.9887461507], \"y\": [36.25753726199], \"z\": [15.009653026899999]}, {\"hovertemplate\": \"name=Mercury<br>index=0<br>x=%{x}<br>y=%{y}<br>z=%{z}<br>radius=%{marker.size}<extra></extra>\", \"ids\": [\"Mercury\"], \"legendgroup\": \"Mercury\", \"marker\": {\"color\": \"cornflowerblue\", \"size\": [7.7996303599085035], \"sizemode\": \"area\", \"sizeref\": 0.050903371511914326, \"symbol\": \"circle\"}, \"mode\": \"markers\", \"name\": \"Mercury\", \"scene\": \"scene\", \"showlegend\": true, \"type\": \"scatter3d\", \"x\": [-37.444347036210004], \"y\": [28.019681182110002], \"z\": [18.8493317082]}, {\"hovertemplate\": \"name=Neptune<br>index=0<br>x=%{x}<br>y=%{y}<br>z=%{z}<br>radius=%{marker.size}<extra></extra>\", \"ids\": [\"Neptune\"], \"legendgroup\": \"Neptune\", \"marker\": {\"color\": \"cyan\", \"size\": [10.15120663641638], \"sizemode\": \"area\", \"sizeref\": 0.050903371511914326, \"symbol\": \"circle\"}, \"mode\": \"markers\", \"name\": \"Neptune\", \"scene\": \"scene\", \"showlegend\": true, \"type\": \"scatter3d\", \"x\": [253.5683908365], \"y\": [-342.4295260323], \"z\": [-146.45631541529997]}, {\"hovertemplate\": \"name=Saturn<br>index=0<br>x=%{x}<br>y=%{y}<br>z=%{z}<br>radius=%{marker.size}<extra></extra>\", \"ids\": [\"Saturn\"], \"legendgroup\": \"Saturn\", \"marker\": {\"color\": \"khaki\", \"size\": [10.972190310798094], \"sizemode\": \"area\", \"sizeref\": 0.050903371511914326, \"symbol\": \"circle\"}, \"mode\": \"markers\", \"name\": \"Saturn\", \"scene\": \"scene\", \"showlegend\": true, \"type\": \"scatter3d\", \"x\": [92.21212749948], \"y\": [95.24896427469], \"z\": [35.379896420550004]}, {\"hovertemplate\": \"name=Uranus<br>index=0<br>x=%{x}<br>y=%{y}<br>z=%{z}<br>radius=%{marker.size}<extra></extra>\", \"ids\": [\"Uranus\"], \"legendgroup\": \"Uranus\", \"marker\": {\"color\": \"lightcyan\", \"size\": [10.141007269794844], \"sizemode\": \"area\", \"sizeref\": 0.050903371511914326, \"symbol\": \"circle\"}, \"mode\": \"markers\", \"name\": \"Uranus\", \"scene\": \"scene\", \"showlegend\": true, \"type\": \"scatter3d\", \"x\": [218.1136954806], \"y\": [-185.0525660559], \"z\": [-84.13384248167999]}, {\"hovertemplate\": \"name=Jupiter<br>index=0<br>x=%{x}<br>y=%{y}<br>z=%{z}<br>radius=%{marker.size}<extra></extra>\", \"ids\": [\"Jupiter\"], \"legendgroup\": \"Jupiter\", \"marker\": {\"color\": \"chocolate\", \"size\": [11.154978283509006], \"sizemode\": \"area\", \"sizeref\": 0.050903371511914326, \"symbol\": \"circle\"}, \"mode\": \"markers\", \"name\": \"Jupiter\", \"scene\": \"scene\", \"showlegend\": true, \"type\": \"scatter3d\", \"x\": [55.84488513231], \"y\": [45.657270137640005], \"z\": [18.20606086419]}, {\"hovertemplate\": \"name=Earth<br>index=0<br>x=%{x}<br>y=%{y}<br>z=%{z}<br>radius=%{marker.size}<extra></extra>\", \"ids\": [\"Earth\"], \"legendgroup\": \"Earth\", \"marker\": {\"color\": \"green\", \"size\": [8.759511722116487], \"sizemode\": \"area\", \"sizeref\": 0.050903371511914326, \"symbol\": \"circle\"}, \"mode\": \"markers\", \"name\": \"Earth\", \"scene\": \"scene\", \"showlegend\": true, \"type\": \"scatter3d\", \"x\": [-136.01438404044], \"y\": [53.75051494251], \"z\": [23.307348255060003]}],                        {\"legend\": {\"itemsizing\": \"constant\", \"title\": {\"text\": \"name\"}, \"tracegroupgap\": 0}, \"margin\": {\"t\": 60}, \"scene\": {\"aspectmode\": \"cube\", \"domain\": {\"x\": [0.0, 1.0], \"y\": [0.0, 1.0]}, \"xaxis\": {\"nticks\": 3, \"range\": [-267.37200365227454, 267.37200365227454], \"title\": {\"text\": \"x\"}}, \"yaxis\": {\"nticks\": 3, \"range\": [-342.4295260323, 342.4295260323], \"title\": {\"text\": \"y\"}}, \"zaxis\": {\"nticks\": 3, \"range\": [-146.45631541529997, 146.45631541529997], \"title\": {\"text\": \"z\"}}}, \"sliders\": [{\"active\": 0, \"currentvalue\": {\"prefix\": \"index=\"}, \"len\": 0.9, \"pad\": {\"b\": 10, \"t\": 60}, \"steps\": [{\"args\": [[\"0\"], {\"frame\": {\"duration\": 0, \"redraw\": true}, \"fromcurrent\": true, \"mode\": \"immediate\", \"transition\": {\"duration\": 0, \"easing\": \"linear\"}}], \"label\": \"0\", \"method\": \"animate\"}, {\"args\": [[\"7\"], {\"frame\": {\"duration\": 0, \"redraw\": true}, \"fromcurrent\": true, \"mode\": \"immediate\", \"transition\": {\"duration\": 0, \"easing\": \"linear\"}}], \"label\": \"7\", \"method\": \"animate\"}, {\"args\": [[\"14\"], {\"frame\": {\"duration\": 0, \"redraw\": true}, \"fromcurrent\": true, \"mode\": \"immediate\", \"transition\": {\"duration\": 0, \"easing\": \"linear\"}}], \"label\": \"14\", \"method\": \"animate\"}, {\"args\": [[\"21\"], {\"frame\": {\"duration\": 0, \"redraw\": true}, \"fromcurrent\": true, \"mode\": \"immediate\", \"transition\": {\"duration\": 0, \"easing\": \"linear\"}}], \"label\": \"21\", \"method\": \"animate\"}, {\"args\": [[\"28\"], {\"frame\": {\"duration\": 0, \"redraw\": true}, \"fromcurrent\": true, \"mode\": \"immediate\", \"transition\": {\"duration\": 0, \"easing\": \"linear\"}}], \"label\": \"28\", \"method\": \"animate\"}, {\"args\": [[\"35\"], {\"frame\": {\"duration\": 0, \"redraw\": true}, \"fromcurrent\": true, \"mode\": \"immediate\", \"transition\": {\"duration\": 0, \"easing\": \"linear\"}}], \"label\": \"35\", \"method\": \"animate\"}, {\"args\": [[\"42\"], {\"frame\": {\"duration\": 0, \"redraw\": true}, \"fromcurrent\": true, \"mode\": \"immediate\", \"transition\": {\"duration\": 0, \"easing\": \"linear\"}}], \"label\": \"42\", \"method\": \"animate\"}, {\"args\": [[\"49\"], {\"frame\": {\"duration\": 0, \"redraw\": true}, \"fromcurrent\": true, \"mode\": \"immediate\", \"transition\": {\"duration\": 0, \"easing\": \"linear\"}}], \"label\": \"49\", \"method\": \"animate\"}, {\"args\": [[\"56\"], {\"frame\": {\"duration\": 0, \"redraw\": true}, \"fromcurrent\": true, \"mode\": \"immediate\", \"transition\": {\"duration\": 0, \"easing\": \"linear\"}}], \"label\": \"56\", \"method\": \"animate\"}, {\"args\": [[\"63\"], {\"frame\": {\"duration\": 0, \"redraw\": true}, \"fromcurrent\": true, \"mode\": \"immediate\", \"transition\": {\"duration\": 0, \"easing\": \"linear\"}}], \"label\": \"63\", \"method\": \"animate\"}, {\"args\": [[\"70\"], {\"frame\": {\"duration\": 0, \"redraw\": true}, \"fromcurrent\": true, \"mode\": \"immediate\", \"transition\": {\"duration\": 0, \"easing\": \"linear\"}}], \"label\": \"70\", \"method\": \"animate\"}, {\"args\": [[\"77\"], {\"frame\": {\"duration\": 0, \"redraw\": true}, \"fromcurrent\": true, \"mode\": \"immediate\", \"transition\": {\"duration\": 0, \"easing\": \"linear\"}}], \"label\": \"77\", \"method\": \"animate\"}, {\"args\": [[\"84\"], {\"frame\": {\"duration\": 0, \"redraw\": true}, \"fromcurrent\": true, \"mode\": \"immediate\", \"transition\": {\"duration\": 0, \"easing\": \"linear\"}}], \"label\": \"84\", \"method\": \"animate\"}, {\"args\": [[\"91\"], {\"frame\": {\"duration\": 0, \"redraw\": true}, \"fromcurrent\": true, \"mode\": \"immediate\", \"transition\": {\"duration\": 0, \"easing\": \"linear\"}}], \"label\": \"91\", \"method\": \"animate\"}, {\"args\": [[\"98\"], {\"frame\": {\"duration\": 0, \"redraw\": true}, \"fromcurrent\": true, \"mode\": \"immediate\", \"transition\": {\"duration\": 0, \"easing\": \"linear\"}}], \"label\": \"98\", \"method\": \"animate\"}, {\"args\": [[\"105\"], {\"frame\": {\"duration\": 0, \"redraw\": true}, \"fromcurrent\": true, \"mode\": \"immediate\", \"transition\": {\"duration\": 0, \"easing\": \"linear\"}}], \"label\": \"105\", \"method\": \"animate\"}, {\"args\": [[\"112\"], {\"frame\": {\"duration\": 0, \"redraw\": true}, \"fromcurrent\": true, \"mode\": \"immediate\", \"transition\": {\"duration\": 0, \"easing\": \"linear\"}}], \"label\": \"112\", \"method\": \"animate\"}, {\"args\": [[\"119\"], {\"frame\": {\"duration\": 0, \"redraw\": true}, \"fromcurrent\": true, \"mode\": \"immediate\", \"transition\": {\"duration\": 0, \"easing\": \"linear\"}}], \"label\": \"119\", \"method\": \"animate\"}, {\"args\": [[\"126\"], {\"frame\": {\"duration\": 0, \"redraw\": true}, \"fromcurrent\": true, \"mode\": \"immediate\", \"transition\": {\"duration\": 0, \"easing\": \"linear\"}}], \"label\": \"126\", \"method\": \"animate\"}, {\"args\": [[\"133\"], {\"frame\": {\"duration\": 0, \"redraw\": true}, \"fromcurrent\": true, \"mode\": \"immediate\", \"transition\": {\"duration\": 0, \"easing\": \"linear\"}}], \"label\": \"133\", \"method\": \"animate\"}, {\"args\": [[\"140\"], {\"frame\": {\"duration\": 0, \"redraw\": true}, \"fromcurrent\": true, \"mode\": \"immediate\", \"transition\": {\"duration\": 0, \"easing\": \"linear\"}}], \"label\": \"140\", \"method\": \"animate\"}, {\"args\": [[\"147\"], {\"frame\": {\"duration\": 0, \"redraw\": true}, \"fromcurrent\": true, \"mode\": \"immediate\", \"transition\": {\"duration\": 0, \"easing\": \"linear\"}}], \"label\": \"147\", \"method\": \"animate\"}, {\"args\": [[\"154\"], {\"frame\": {\"duration\": 0, \"redraw\": true}, \"fromcurrent\": true, \"mode\": \"immediate\", \"transition\": {\"duration\": 0, \"easing\": \"linear\"}}], \"label\": \"154\", \"method\": \"animate\"}, {\"args\": [[\"161\"], {\"frame\": {\"duration\": 0, \"redraw\": true}, \"fromcurrent\": true, \"mode\": \"immediate\", \"transition\": {\"duration\": 0, \"easing\": \"linear\"}}], \"label\": \"161\", \"method\": \"animate\"}, {\"args\": [[\"168\"], {\"frame\": {\"duration\": 0, \"redraw\": true}, \"fromcurrent\": true, \"mode\": \"immediate\", \"transition\": {\"duration\": 0, \"easing\": \"linear\"}}], \"label\": \"168\", \"method\": \"animate\"}, {\"args\": [[\"175\"], {\"frame\": {\"duration\": 0, \"redraw\": true}, \"fromcurrent\": true, \"mode\": \"immediate\", \"transition\": {\"duration\": 0, \"easing\": \"linear\"}}], \"label\": \"175\", \"method\": \"animate\"}, {\"args\": [[\"182\"], {\"frame\": {\"duration\": 0, \"redraw\": true}, \"fromcurrent\": true, \"mode\": \"immediate\", \"transition\": {\"duration\": 0, \"easing\": \"linear\"}}], \"label\": \"182\", \"method\": \"animate\"}, {\"args\": [[\"189\"], {\"frame\": {\"duration\": 0, \"redraw\": true}, \"fromcurrent\": true, \"mode\": \"immediate\", \"transition\": {\"duration\": 0, \"easing\": \"linear\"}}], \"label\": \"189\", \"method\": \"animate\"}, {\"args\": [[\"196\"], {\"frame\": {\"duration\": 0, \"redraw\": true}, \"fromcurrent\": true, \"mode\": \"immediate\", \"transition\": {\"duration\": 0, \"easing\": \"linear\"}}], \"label\": \"196\", \"method\": \"animate\"}, {\"args\": [[\"203\"], {\"frame\": {\"duration\": 0, \"redraw\": true}, \"fromcurrent\": true, \"mode\": \"immediate\", \"transition\": {\"duration\": 0, \"easing\": \"linear\"}}], \"label\": \"203\", \"method\": \"animate\"}, {\"args\": [[\"210\"], {\"frame\": {\"duration\": 0, \"redraw\": true}, \"fromcurrent\": true, \"mode\": \"immediate\", \"transition\": {\"duration\": 0, \"easing\": \"linear\"}}], \"label\": \"210\", \"method\": \"animate\"}, {\"args\": [[\"217\"], {\"frame\": {\"duration\": 0, \"redraw\": true}, \"fromcurrent\": true, \"mode\": \"immediate\", \"transition\": {\"duration\": 0, \"easing\": \"linear\"}}], \"label\": \"217\", \"method\": \"animate\"}, {\"args\": [[\"224\"], {\"frame\": {\"duration\": 0, \"redraw\": true}, \"fromcurrent\": true, \"mode\": \"immediate\", \"transition\": {\"duration\": 0, \"easing\": \"linear\"}}], \"label\": \"224\", \"method\": \"animate\"}, {\"args\": [[\"231\"], {\"frame\": {\"duration\": 0, \"redraw\": true}, \"fromcurrent\": true, \"mode\": \"immediate\", \"transition\": {\"duration\": 0, \"easing\": \"linear\"}}], \"label\": \"231\", \"method\": \"animate\"}, {\"args\": [[\"238\"], {\"frame\": {\"duration\": 0, \"redraw\": true}, \"fromcurrent\": true, \"mode\": \"immediate\", \"transition\": {\"duration\": 0, \"easing\": \"linear\"}}], \"label\": \"238\", \"method\": \"animate\"}, {\"args\": [[\"245\"], {\"frame\": {\"duration\": 0, \"redraw\": true}, \"fromcurrent\": true, \"mode\": \"immediate\", \"transition\": {\"duration\": 0, \"easing\": \"linear\"}}], \"label\": \"245\", \"method\": \"animate\"}, {\"args\": [[\"252\"], {\"frame\": {\"duration\": 0, \"redraw\": true}, \"fromcurrent\": true, \"mode\": \"immediate\", \"transition\": {\"duration\": 0, \"easing\": \"linear\"}}], \"label\": \"252\", \"method\": \"animate\"}, {\"args\": [[\"259\"], {\"frame\": {\"duration\": 0, \"redraw\": true}, \"fromcurrent\": true, \"mode\": \"immediate\", \"transition\": {\"duration\": 0, \"easing\": \"linear\"}}], \"label\": \"259\", \"method\": \"animate\"}, {\"args\": [[\"266\"], {\"frame\": {\"duration\": 0, \"redraw\": true}, \"fromcurrent\": true, \"mode\": \"immediate\", \"transition\": {\"duration\": 0, \"easing\": \"linear\"}}], \"label\": \"266\", \"method\": \"animate\"}, {\"args\": [[\"273\"], {\"frame\": {\"duration\": 0, \"redraw\": true}, \"fromcurrent\": true, \"mode\": \"immediate\", \"transition\": {\"duration\": 0, \"easing\": \"linear\"}}], \"label\": \"273\", \"method\": \"animate\"}, {\"args\": [[\"280\"], {\"frame\": {\"duration\": 0, \"redraw\": true}, \"fromcurrent\": true, \"mode\": \"immediate\", \"transition\": {\"duration\": 0, \"easing\": \"linear\"}}], \"label\": \"280\", \"method\": \"animate\"}, {\"args\": [[\"287\"], {\"frame\": {\"duration\": 0, \"redraw\": true}, \"fromcurrent\": true, \"mode\": \"immediate\", \"transition\": {\"duration\": 0, \"easing\": \"linear\"}}], \"label\": \"287\", \"method\": \"animate\"}, {\"args\": [[\"294\"], {\"frame\": {\"duration\": 0, \"redraw\": true}, \"fromcurrent\": true, \"mode\": \"immediate\", \"transition\": {\"duration\": 0, \"easing\": \"linear\"}}], \"label\": \"294\", \"method\": \"animate\"}, {\"args\": [[\"301\"], {\"frame\": {\"duration\": 0, \"redraw\": true}, \"fromcurrent\": true, \"mode\": \"immediate\", \"transition\": {\"duration\": 0, \"easing\": \"linear\"}}], \"label\": \"301\", \"method\": \"animate\"}, {\"args\": [[\"308\"], {\"frame\": {\"duration\": 0, \"redraw\": true}, \"fromcurrent\": true, \"mode\": \"immediate\", \"transition\": {\"duration\": 0, \"easing\": \"linear\"}}], \"label\": \"308\", \"method\": \"animate\"}, {\"args\": [[\"315\"], {\"frame\": {\"duration\": 0, \"redraw\": true}, \"fromcurrent\": true, \"mode\": \"immediate\", \"transition\": {\"duration\": 0, \"easing\": \"linear\"}}], \"label\": \"315\", \"method\": \"animate\"}, {\"args\": [[\"322\"], {\"frame\": {\"duration\": 0, \"redraw\": true}, \"fromcurrent\": true, \"mode\": \"immediate\", \"transition\": {\"duration\": 0, \"easing\": \"linear\"}}], \"label\": \"322\", \"method\": \"animate\"}, {\"args\": [[\"329\"], {\"frame\": {\"duration\": 0, \"redraw\": true}, \"fromcurrent\": true, \"mode\": \"immediate\", \"transition\": {\"duration\": 0, \"easing\": \"linear\"}}], \"label\": \"329\", \"method\": \"animate\"}, {\"args\": [[\"336\"], {\"frame\": {\"duration\": 0, \"redraw\": true}, \"fromcurrent\": true, \"mode\": \"immediate\", \"transition\": {\"duration\": 0, \"easing\": \"linear\"}}], \"label\": \"336\", \"method\": \"animate\"}, {\"args\": [[\"343\"], {\"frame\": {\"duration\": 0, \"redraw\": true}, \"fromcurrent\": true, \"mode\": \"immediate\", \"transition\": {\"duration\": 0, \"easing\": \"linear\"}}], \"label\": \"343\", \"method\": \"animate\"}, {\"args\": [[\"350\"], {\"frame\": {\"duration\": 0, \"redraw\": true}, \"fromcurrent\": true, \"mode\": \"immediate\", \"transition\": {\"duration\": 0, \"easing\": \"linear\"}}], \"label\": \"350\", \"method\": \"animate\"}, {\"args\": [[\"357\"], {\"frame\": {\"duration\": 0, \"redraw\": true}, \"fromcurrent\": true, \"mode\": \"immediate\", \"transition\": {\"duration\": 0, \"easing\": \"linear\"}}], \"label\": \"357\", \"method\": \"animate\"}, {\"args\": [[\"364\"], {\"frame\": {\"duration\": 0, \"redraw\": true}, \"fromcurrent\": true, \"mode\": \"immediate\", \"transition\": {\"duration\": 0, \"easing\": \"linear\"}}], \"label\": \"364\", \"method\": \"animate\"}], \"x\": 0.1, \"xanchor\": \"left\", \"y\": 0, \"yanchor\": \"top\"}], \"template\": {\"data\": {\"bar\": [{\"error_x\": {\"color\": \"#f2f5fa\"}, \"error_y\": {\"color\": \"#f2f5fa\"}, \"marker\": {\"line\": {\"color\": \"rgb(17,17,17)\", \"width\": 0.5}}, \"type\": \"bar\"}], \"barpolar\": [{\"marker\": {\"line\": {\"color\": \"rgb(17,17,17)\", \"width\": 0.5}}, \"type\": \"barpolar\"}], \"carpet\": [{\"aaxis\": {\"endlinecolor\": \"#A2B1C6\", \"gridcolor\": \"#506784\", \"linecolor\": \"#506784\", \"minorgridcolor\": \"#506784\", \"startlinecolor\": \"#A2B1C6\"}, \"baxis\": {\"endlinecolor\": \"#A2B1C6\", \"gridcolor\": \"#506784\", \"linecolor\": \"#506784\", \"minorgridcolor\": \"#506784\", \"startlinecolor\": \"#A2B1C6\"}, \"type\": \"carpet\"}], \"choropleth\": [{\"colorbar\": {\"outlinewidth\": 0, \"ticks\": \"\"}, \"type\": \"choropleth\"}], \"contour\": [{\"colorbar\": {\"outlinewidth\": 0, \"ticks\": \"\"}, \"colorscale\": [[0.0, \"#0d0887\"], [0.1111111111111111, \"#46039f\"], [0.2222222222222222, \"#7201a8\"], [0.3333333333333333, \"#9c179e\"], [0.4444444444444444, \"#bd3786\"], [0.5555555555555556, \"#d8576b\"], [0.6666666666666666, \"#ed7953\"], [0.7777777777777778, \"#fb9f3a\"], [0.8888888888888888, \"#fdca26\"], [1.0, \"#f0f921\"]], \"type\": \"contour\"}], \"contourcarpet\": [{\"colorbar\": {\"outlinewidth\": 0, \"ticks\": \"\"}, \"type\": \"contourcarpet\"}], \"heatmap\": [{\"colorbar\": {\"outlinewidth\": 0, \"ticks\": \"\"}, \"colorscale\": [[0.0, \"#0d0887\"], [0.1111111111111111, \"#46039f\"], [0.2222222222222222, \"#7201a8\"], [0.3333333333333333, \"#9c179e\"], [0.4444444444444444, \"#bd3786\"], [0.5555555555555556, \"#d8576b\"], [0.6666666666666666, \"#ed7953\"], [0.7777777777777778, \"#fb9f3a\"], [0.8888888888888888, \"#fdca26\"], [1.0, \"#f0f921\"]], \"type\": \"heatmap\"}], \"heatmapgl\": [{\"colorbar\": {\"outlinewidth\": 0, \"ticks\": \"\"}, \"colorscale\": [[0.0, \"#0d0887\"], [0.1111111111111111, \"#46039f\"], [0.2222222222222222, \"#7201a8\"], [0.3333333333333333, \"#9c179e\"], [0.4444444444444444, \"#bd3786\"], [0.5555555555555556, \"#d8576b\"], [0.6666666666666666, \"#ed7953\"], [0.7777777777777778, \"#fb9f3a\"], [0.8888888888888888, \"#fdca26\"], [1.0, \"#f0f921\"]], \"type\": \"heatmapgl\"}], \"histogram\": [{\"marker\": {\"colorbar\": {\"outlinewidth\": 0, \"ticks\": \"\"}}, \"type\": \"histogram\"}], \"histogram2d\": [{\"colorbar\": {\"outlinewidth\": 0, \"ticks\": \"\"}, \"colorscale\": [[0.0, \"#0d0887\"], [0.1111111111111111, \"#46039f\"], [0.2222222222222222, \"#7201a8\"], [0.3333333333333333, \"#9c179e\"], [0.4444444444444444, \"#bd3786\"], [0.5555555555555556, \"#d8576b\"], [0.6666666666666666, \"#ed7953\"], [0.7777777777777778, \"#fb9f3a\"], [0.8888888888888888, \"#fdca26\"], [1.0, \"#f0f921\"]], \"type\": \"histogram2d\"}], \"histogram2dcontour\": [{\"colorbar\": {\"outlinewidth\": 0, \"ticks\": \"\"}, \"colorscale\": [[0.0, \"#0d0887\"], [0.1111111111111111, \"#46039f\"], [0.2222222222222222, \"#7201a8\"], [0.3333333333333333, \"#9c179e\"], [0.4444444444444444, \"#bd3786\"], [0.5555555555555556, \"#d8576b\"], [0.6666666666666666, \"#ed7953\"], [0.7777777777777778, \"#fb9f3a\"], [0.8888888888888888, \"#fdca26\"], [1.0, \"#f0f921\"]], \"type\": \"histogram2dcontour\"}], \"mesh3d\": [{\"colorbar\": {\"outlinewidth\": 0, \"ticks\": \"\"}, \"type\": \"mesh3d\"}], \"parcoords\": [{\"line\": {\"colorbar\": {\"outlinewidth\": 0, \"ticks\": \"\"}}, \"type\": \"parcoords\"}], \"pie\": [{\"automargin\": true, \"type\": \"pie\"}], \"scatter\": [{\"marker\": {\"line\": {\"color\": \"#283442\"}}, \"type\": \"scatter\"}], \"scatter3d\": [{\"line\": {\"colorbar\": {\"outlinewidth\": 0, \"ticks\": \"\"}}, \"marker\": {\"colorbar\": {\"outlinewidth\": 0, \"ticks\": \"\"}}, \"type\": \"scatter3d\"}], \"scattercarpet\": [{\"marker\": {\"colorbar\": {\"outlinewidth\": 0, \"ticks\": \"\"}}, \"type\": \"scattercarpet\"}], \"scattergeo\": [{\"marker\": {\"colorbar\": {\"outlinewidth\": 0, \"ticks\": \"\"}}, \"type\": \"scattergeo\"}], \"scattergl\": [{\"marker\": {\"line\": {\"color\": \"#283442\"}}, \"type\": \"scattergl\"}], \"scattermapbox\": [{\"marker\": {\"colorbar\": {\"outlinewidth\": 0, \"ticks\": \"\"}}, \"type\": \"scattermapbox\"}], \"scatterpolar\": [{\"marker\": {\"colorbar\": {\"outlinewidth\": 0, \"ticks\": \"\"}}, \"type\": \"scatterpolar\"}], \"scatterpolargl\": [{\"marker\": {\"colorbar\": {\"outlinewidth\": 0, \"ticks\": \"\"}}, \"type\": \"scatterpolargl\"}], \"scatterternary\": [{\"marker\": {\"colorbar\": {\"outlinewidth\": 0, \"ticks\": \"\"}}, \"type\": \"scatterternary\"}], \"surface\": [{\"colorbar\": {\"outlinewidth\": 0, \"ticks\": \"\"}, \"colorscale\": [[0.0, \"#0d0887\"], [0.1111111111111111, \"#46039f\"], [0.2222222222222222, \"#7201a8\"], [0.3333333333333333, \"#9c179e\"], [0.4444444444444444, \"#bd3786\"], [0.5555555555555556, \"#d8576b\"], [0.6666666666666666, \"#ed7953\"], [0.7777777777777778, \"#fb9f3a\"], [0.8888888888888888, \"#fdca26\"], [1.0, \"#f0f921\"]], \"type\": \"surface\"}], \"table\": [{\"cells\": {\"fill\": {\"color\": \"#506784\"}, \"line\": {\"color\": \"rgb(17,17,17)\"}}, \"header\": {\"fill\": {\"color\": \"#2a3f5f\"}, \"line\": {\"color\": \"rgb(17,17,17)\"}}, \"type\": \"table\"}]}, \"layout\": {\"annotationdefaults\": {\"arrowcolor\": \"#f2f5fa\", \"arrowhead\": 0, \"arrowwidth\": 1}, \"autotypenumbers\": \"strict\", \"coloraxis\": {\"colorbar\": {\"outlinewidth\": 0, \"ticks\": \"\"}}, \"colorscale\": {\"diverging\": [[0, \"#8e0152\"], [0.1, \"#c51b7d\"], [0.2, \"#de77ae\"], [0.3, \"#f1b6da\"], [0.4, \"#fde0ef\"], [0.5, \"#f7f7f7\"], [0.6, \"#e6f5d0\"], [0.7, \"#b8e186\"], [0.8, \"#7fbc41\"], [0.9, \"#4d9221\"], [1, \"#276419\"]], \"sequential\": [[0.0, \"#0d0887\"], [0.1111111111111111, \"#46039f\"], [0.2222222222222222, \"#7201a8\"], [0.3333333333333333, \"#9c179e\"], [0.4444444444444444, \"#bd3786\"], [0.5555555555555556, \"#d8576b\"], [0.6666666666666666, \"#ed7953\"], [0.7777777777777778, \"#fb9f3a\"], [0.8888888888888888, \"#fdca26\"], [1.0, \"#f0f921\"]], \"sequentialminus\": [[0.0, \"#0d0887\"], [0.1111111111111111, \"#46039f\"], [0.2222222222222222, \"#7201a8\"], [0.3333333333333333, \"#9c179e\"], [0.4444444444444444, \"#bd3786\"], [0.5555555555555556, \"#d8576b\"], [0.6666666666666666, \"#ed7953\"], [0.7777777777777778, \"#fb9f3a\"], [0.8888888888888888, \"#fdca26\"], [1.0, \"#f0f921\"]]}, \"colorway\": [\"#636efa\", \"#EF553B\", \"#00cc96\", \"#ab63fa\", \"#FFA15A\", \"#19d3f3\", \"#FF6692\", \"#B6E880\", \"#FF97FF\", \"#FECB52\"], \"font\": {\"color\": \"#f2f5fa\"}, \"geo\": {\"bgcolor\": \"rgb(17,17,17)\", \"lakecolor\": \"rgb(17,17,17)\", \"landcolor\": \"rgb(17,17,17)\", \"showlakes\": true, \"showland\": true, \"subunitcolor\": \"#506784\"}, \"hoverlabel\": {\"align\": \"left\"}, \"hovermode\": \"closest\", \"mapbox\": {\"style\": \"dark\"}, \"paper_bgcolor\": \"rgb(17,17,17)\", \"plot_bgcolor\": \"rgb(17,17,17)\", \"polar\": {\"angularaxis\": {\"gridcolor\": \"#506784\", \"linecolor\": \"#506784\", \"ticks\": \"\"}, \"bgcolor\": \"rgb(17,17,17)\", \"radialaxis\": {\"gridcolor\": \"#506784\", \"linecolor\": \"#506784\", \"ticks\": \"\"}}, \"scene\": {\"xaxis\": {\"backgroundcolor\": \"rgb(17,17,17)\", \"gridcolor\": \"#506784\", \"gridwidth\": 2, \"linecolor\": \"#506784\", \"showbackground\": true, \"ticks\": \"\", \"zerolinecolor\": \"#C8D4E3\"}, \"yaxis\": {\"backgroundcolor\": \"rgb(17,17,17)\", \"gridcolor\": \"#506784\", \"gridwidth\": 2, \"linecolor\": \"#506784\", \"showbackground\": true, \"ticks\": \"\", \"zerolinecolor\": \"#C8D4E3\"}, \"zaxis\": {\"backgroundcolor\": \"rgb(17,17,17)\", \"gridcolor\": \"#506784\", \"gridwidth\": 2, \"linecolor\": \"#506784\", \"showbackground\": true, \"ticks\": \"\", \"zerolinecolor\": \"#C8D4E3\"}}, \"shapedefaults\": {\"line\": {\"color\": \"#f2f5fa\"}}, \"sliderdefaults\": {\"bgcolor\": \"#C8D4E3\", \"bordercolor\": \"rgb(17,17,17)\", \"borderwidth\": 1, \"tickwidth\": 0}, \"ternary\": {\"aaxis\": {\"gridcolor\": \"#506784\", \"linecolor\": \"#506784\", \"ticks\": \"\"}, \"baxis\": {\"gridcolor\": \"#506784\", \"linecolor\": \"#506784\", \"ticks\": \"\"}, \"bgcolor\": \"rgb(17,17,17)\", \"caxis\": {\"gridcolor\": \"#506784\", \"linecolor\": \"#506784\", \"ticks\": \"\"}}, \"title\": {\"x\": 0.05}, \"updatemenudefaults\": {\"bgcolor\": \"#506784\", \"borderwidth\": 0}, \"xaxis\": {\"automargin\": true, \"gridcolor\": \"#283442\", \"linecolor\": \"#506784\", \"ticks\": \"\", \"title\": {\"standoff\": 15}, \"zerolinecolor\": \"#283442\", \"zerolinewidth\": 2}, \"yaxis\": {\"automargin\": true, \"gridcolor\": \"#283442\", \"linecolor\": \"#506784\", \"ticks\": \"\", \"title\": {\"standoff\": 15}, \"zerolinecolor\": \"#283442\", \"zerolinewidth\": 2}}}, \"updatemenus\": [{\"buttons\": [{\"args\": [null, {\"frame\": {\"duration\": 500, \"redraw\": true}, \"fromcurrent\": true, \"mode\": \"immediate\", \"transition\": {\"duration\": 500, \"easing\": \"linear\"}}], \"label\": \"&#9654;\", \"method\": \"animate\"}, {\"args\": [[null], {\"frame\": {\"duration\": 0, \"redraw\": true}, \"fromcurrent\": true, \"mode\": \"immediate\", \"transition\": {\"duration\": 0, \"easing\": \"linear\"}}], \"label\": \"&#9724;\", \"method\": \"animate\"}], \"direction\": \"left\", \"pad\": {\"r\": 10, \"t\": 70}, \"showactive\": false, \"type\": \"buttons\", \"x\": 0.1, \"xanchor\": \"right\", \"y\": 0, \"yanchor\": \"top\"}], \"width\": 700},                        {\"responsive\": true}                    ).then(function(){\n",
       "                            Plotly.addFrames('aeb823a2-1ecc-4c0e-b770-375eb222e58c', [{\"data\": [{\"hovertemplate\": \"name=Sun<br>index=0<br>x=%{x}<br>y=%{y}<br>z=%{z}<br>radius=%{marker.size}<extra></extra>\", \"ids\": [\"Sun\"], \"legendgroup\": \"Sun\", \"marker\": {\"color\": \"orange\", \"size\": [20.36134860476573], \"sizemode\": \"area\", \"sizeref\": 0.050903371511914326, \"symbol\": \"circle\"}, \"mode\": \"markers\", \"name\": \"Sun\", \"scene\": \"scene\", \"showlegend\": true, \"x\": [0.0], \"y\": [0.0], \"z\": [0.0], \"type\": \"scatter3d\"}, {\"hovertemplate\": \"name=Mars<br>index=0<br>x=%{x}<br>y=%{y}<br>z=%{z}<br>radius=%{marker.size}<extra></extra>\", \"ids\": [\"Mars\"], \"legendgroup\": \"Mars\", \"marker\": {\"color\": \"crimson\", \"size\": [8.12843769687102], \"sizemode\": \"area\", \"sizeref\": 0.050903371511914326, \"symbol\": \"circle\"}, \"mode\": \"markers\", \"name\": \"Mars\", \"scene\": \"scene\", \"showlegend\": true, \"x\": [59.9887461507], \"y\": [36.25753726199], \"z\": [15.009653026899999], \"type\": \"scatter3d\"}, {\"hovertemplate\": \"name=Mercury<br>index=0<br>x=%{x}<br>y=%{y}<br>z=%{z}<br>radius=%{marker.size}<extra></extra>\", \"ids\": [\"Mercury\"], \"legendgroup\": \"Mercury\", \"marker\": {\"color\": \"cornflowerblue\", \"size\": [7.7996303599085035], \"sizemode\": \"area\", \"sizeref\": 0.050903371511914326, \"symbol\": \"circle\"}, \"mode\": \"markers\", \"name\": \"Mercury\", \"scene\": \"scene\", \"showlegend\": true, \"x\": [-37.444347036210004], \"y\": [28.019681182110002], \"z\": [18.8493317082], \"type\": \"scatter3d\"}, {\"hovertemplate\": \"name=Neptune<br>index=0<br>x=%{x}<br>y=%{y}<br>z=%{z}<br>radius=%{marker.size}<extra></extra>\", \"ids\": [\"Neptune\"], \"legendgroup\": \"Neptune\", \"marker\": {\"color\": \"cyan\", \"size\": [10.15120663641638], \"sizemode\": \"area\", \"sizeref\": 0.050903371511914326, \"symbol\": \"circle\"}, \"mode\": \"markers\", \"name\": \"Neptune\", \"scene\": \"scene\", \"showlegend\": true, \"x\": [253.5683908365], \"y\": [-342.4295260323], \"z\": [-146.45631541529997], \"type\": \"scatter3d\"}, {\"hovertemplate\": \"name=Saturn<br>index=0<br>x=%{x}<br>y=%{y}<br>z=%{z}<br>radius=%{marker.size}<extra></extra>\", \"ids\": [\"Saturn\"], \"legendgroup\": \"Saturn\", \"marker\": {\"color\": \"khaki\", \"size\": [10.972190310798094], \"sizemode\": \"area\", \"sizeref\": 0.050903371511914326, \"symbol\": \"circle\"}, \"mode\": \"markers\", \"name\": \"Saturn\", \"scene\": \"scene\", \"showlegend\": true, \"x\": [92.21212749948], \"y\": [95.24896427469], \"z\": [35.379896420550004], \"type\": \"scatter3d\"}, {\"hovertemplate\": \"name=Uranus<br>index=0<br>x=%{x}<br>y=%{y}<br>z=%{z}<br>radius=%{marker.size}<extra></extra>\", \"ids\": [\"Uranus\"], \"legendgroup\": \"Uranus\", \"marker\": {\"color\": \"lightcyan\", \"size\": [10.141007269794844], \"sizemode\": \"area\", \"sizeref\": 0.050903371511914326, \"symbol\": \"circle\"}, \"mode\": \"markers\", \"name\": \"Uranus\", \"scene\": \"scene\", \"showlegend\": true, \"x\": [218.1136954806], \"y\": [-185.0525660559], \"z\": [-84.13384248167999], \"type\": \"scatter3d\"}, {\"hovertemplate\": \"name=Jupiter<br>index=0<br>x=%{x}<br>y=%{y}<br>z=%{z}<br>radius=%{marker.size}<extra></extra>\", \"ids\": [\"Jupiter\"], \"legendgroup\": \"Jupiter\", \"marker\": {\"color\": \"chocolate\", \"size\": [11.154978283509006], \"sizemode\": \"area\", \"sizeref\": 0.050903371511914326, \"symbol\": \"circle\"}, \"mode\": \"markers\", \"name\": \"Jupiter\", \"scene\": \"scene\", \"showlegend\": true, \"x\": [55.84488513231], \"y\": [45.657270137640005], \"z\": [18.20606086419], \"type\": \"scatter3d\"}, {\"hovertemplate\": \"name=Earth<br>index=0<br>x=%{x}<br>y=%{y}<br>z=%{z}<br>radius=%{marker.size}<extra></extra>\", \"ids\": [\"Earth\"], \"legendgroup\": \"Earth\", \"marker\": {\"color\": \"green\", \"size\": [8.759511722116487], \"sizemode\": \"area\", \"sizeref\": 0.050903371511914326, \"symbol\": \"circle\"}, \"mode\": \"markers\", \"name\": \"Earth\", \"scene\": \"scene\", \"showlegend\": true, \"x\": [-136.01438404044], \"y\": [53.75051494251], \"z\": [23.307348255060003], \"type\": \"scatter3d\"}], \"name\": \"0\"}, {\"data\": [{\"hovertemplate\": \"name=Sun<br>index=7<br>x=%{x}<br>y=%{y}<br>z=%{z}<br>radius=%{marker.size}<extra></extra>\", \"ids\": [\"Sun\"], \"legendgroup\": \"Sun\", \"marker\": {\"color\": \"orange\", \"size\": [20.36134860476573], \"sizemode\": \"area\", \"sizeref\": 0.050903371511914326, \"symbol\": \"circle\"}, \"mode\": \"markers\", \"name\": \"Sun\", \"scene\": \"scene\", \"showlegend\": true, \"x\": [0.0029795455389006313], \"y\": [0.002736944651650392], \"z\": [0.0010947503514489004], \"type\": \"scatter3d\"}, {\"hovertemplate\": \"name=Mars<br>index=7<br>x=%{x}<br>y=%{y}<br>z=%{z}<br>radius=%{marker.size}<extra></extra>\", \"ids\": [\"Mars\"], \"legendgroup\": \"Mars\", \"marker\": {\"color\": \"crimson\", \"size\": [8.12843769687102], \"sizemode\": \"area\", \"sizeref\": 0.050903371511914326, \"symbol\": \"circle\"}, \"mode\": \"markers\", \"name\": \"Mars\", \"scene\": \"scene\", \"showlegend\": true, \"x\": [57.35843633915326], \"y\": [40.23640949435805], \"z\": [16.90620620509538], \"type\": \"scatter3d\"}, {\"hovertemplate\": \"name=Mercury<br>index=7<br>x=%{x}<br>y=%{y}<br>z=%{z}<br>radius=%{marker.size}<extra></extra>\", \"ids\": [\"Mercury\"], \"legendgroup\": \"Mercury\", \"marker\": {\"color\": \"cornflowerblue\", \"size\": [7.7996303599085035], \"sizemode\": \"area\", \"sizeref\": 0.050903371511914326, \"symbol\": \"circle\"}, \"mode\": \"markers\", \"name\": \"Mercury\", \"scene\": \"scene\", \"showlegend\": true, \"x\": [-55.44239053064009], \"y\": [4.995929800923401], \"z\": [8.417185335719978], \"type\": \"scatter3d\"}, {\"hovertemplate\": \"name=Neptune<br>index=7<br>x=%{x}<br>y=%{y}<br>z=%{z}<br>radius=%{marker.size}<extra></extra>\", \"ids\": [\"Neptune\"], \"legendgroup\": \"Neptune\", \"marker\": {\"color\": \"cyan\", \"size\": [10.15120663641638], \"sizemode\": \"area\", \"sizeref\": 0.050903371511914326, \"symbol\": \"circle\"}, \"mode\": \"markers\", \"name\": \"Neptune\", \"scene\": \"scene\", \"showlegend\": true, \"x\": [253.8373453108908], \"y\": [-342.2532984957804], \"z\": [-146.3908693130188], \"type\": \"scatter3d\"}, {\"hovertemplate\": \"name=Saturn<br>index=7<br>x=%{x}<br>y=%{y}<br>z=%{z}<br>radius=%{marker.size}<extra></extra>\", \"ids\": [\"Saturn\"], \"legendgroup\": \"Saturn\", \"marker\": {\"color\": \"khaki\", \"size\": [10.972190310798094], \"sizemode\": \"area\", \"sizeref\": 0.050903371511914326, \"symbol\": \"circle\"}, \"mode\": \"markers\", \"name\": \"Saturn\", \"scene\": \"scene\", \"showlegend\": true, \"x\": [91.74767028140805], \"y\": [95.6034782784691], \"z\": [35.54627376089362], \"type\": \"scatter3d\"}, {\"hovertemplate\": \"name=Uranus<br>index=7<br>x=%{x}<br>y=%{y}<br>z=%{z}<br>radius=%{marker.size}<extra></extra>\", \"ids\": [\"Uranus\"], \"legendgroup\": \"Uranus\", \"marker\": {\"color\": \"lightcyan\", \"size\": [10.141007269794844], \"sizemode\": \"area\", \"sizeref\": 0.050903371511914326, \"symbol\": \"circle\"}, \"mode\": \"markers\", \"name\": \"Uranus\", \"scene\": \"scene\", \"showlegend\": true, \"x\": [218.39079011746992], \"y\": [-184.7918568059572], \"z\": [-84.02360150110205], \"type\": \"scatter3d\"}, {\"hovertemplate\": \"name=Jupiter<br>index=7<br>x=%{x}<br>y=%{y}<br>z=%{z}<br>radius=%{marker.size}<extra></extra>\", \"ids\": [\"Jupiter\"], \"legendgroup\": \"Jupiter\", \"marker\": {\"color\": \"chocolate\", \"size\": [11.154978283509006], \"sizemode\": \"area\", \"sizeref\": 0.050903371511914326, \"symbol\": \"circle\"}, \"mode\": \"markers\", \"name\": \"Jupiter\", \"scene\": \"scene\", \"showlegend\": true, \"x\": [55.30890204505596], \"y\": [46.22989302168565], \"z\": [18.46458051795403], \"type\": \"scatter3d\"}, {\"hovertemplate\": \"name=Earth<br>index=7<br>x=%{x}<br>y=%{y}<br>z=%{z}<br>radius=%{marker.size}<extra></extra>\", \"ids\": [\"Earth\"], \"legendgroup\": \"Earth\", \"marker\": {\"color\": \"green\", \"size\": [8.759511722116487], \"sizemode\": \"area\", \"sizeref\": 0.050903371511914326, \"symbol\": \"circle\"}, \"mode\": \"markers\", \"name\": \"Earth\", \"scene\": \"scene\", \"showlegend\": true, \"x\": [-142.40311465780152], \"y\": [38.14007104892567], \"z\": [16.540965536626448], \"type\": \"scatter3d\"}], \"name\": \"7\"}, {\"data\": [{\"hovertemplate\": \"name=Sun<br>index=14<br>x=%{x}<br>y=%{y}<br>z=%{z}<br>radius=%{marker.size}<extra></extra>\", \"ids\": [\"Sun\"], \"legendgroup\": \"Sun\", \"marker\": {\"color\": \"orange\", \"size\": [20.36134860476573], \"sizemode\": \"area\", \"sizeref\": 0.050903371511914326, \"symbol\": \"circle\"}, \"mode\": \"markers\", \"name\": \"Sun\", \"scene\": \"scene\", \"showlegend\": true, \"x\": [0.011867212464054781], \"y\": [0.010829142688839955], \"z\": [0.004313233285742795], \"type\": \"scatter3d\"}, {\"hovertemplate\": \"name=Mars<br>index=14<br>x=%{x}<br>y=%{y}<br>z=%{z}<br>radius=%{marker.size}<extra></extra>\", \"ids\": [\"Mars\"], \"legendgroup\": \"Mars\", \"marker\": {\"color\": \"crimson\", \"size\": [8.12843769687102], \"sizemode\": \"area\", \"sizeref\": 0.050903371511914326, \"symbol\": \"circle\"}, \"mode\": \"markers\", \"name\": \"Mars\", \"scene\": \"scene\", \"showlegend\": true, \"x\": [54.452803251863564], \"y\": [44.02222945852996], \"z\": [18.721646039395587], \"type\": \"scatter3d\"}, {\"hovertemplate\": \"name=Mercury<br>index=14<br>x=%{x}<br>y=%{y}<br>z=%{z}<br>radius=%{marker.size}<extra></extra>\", \"ids\": [\"Mercury\"], \"legendgroup\": \"Mercury\", \"marker\": {\"color\": \"cornflowerblue\", \"size\": [7.7996303599085035], \"sizemode\": \"area\", \"sizeref\": 0.050903371511914326, \"symbol\": \"circle\"}, \"mode\": \"markers\", \"name\": \"Mercury\", \"scene\": \"scene\", \"showlegend\": true, \"x\": [-58.669426785041864], \"y\": [-19.72343955348106], \"z\": [-4.452230808482105], \"type\": \"scatter3d\"}, {\"hovertemplate\": \"name=Neptune<br>index=14<br>x=%{x}<br>y=%{y}<br>z=%{z}<br>radius=%{marker.size}<extra></extra>\", \"ids\": [\"Neptune\"], \"legendgroup\": \"Neptune\", \"marker\": {\"color\": \"cyan\", \"size\": [10.15120663641638], \"sizemode\": \"area\", \"sizeref\": 0.050903371511914326, \"symbol\": \"circle\"}, \"mode\": \"markers\", \"name\": \"Neptune\", \"scene\": \"scene\", \"showlegend\": true, \"x\": [254.10616493396407], \"y\": [-342.076889012683], \"z\": [-146.3253453905571], \"type\": \"scatter3d\"}, {\"hovertemplate\": \"name=Saturn<br>index=14<br>x=%{x}<br>y=%{y}<br>z=%{z}<br>radius=%{marker.size}<extra></extra>\", \"ids\": [\"Saturn\"], \"legendgroup\": \"Saturn\", \"marker\": {\"color\": \"khaki\", \"size\": [10.972190310798094], \"sizemode\": \"area\", \"sizeref\": 0.050903371511914326, \"symbol\": \"circle\"}, \"mode\": \"markers\", \"name\": \"Saturn\", \"scene\": \"scene\", \"showlegend\": true, \"x\": [91.28148160188272], \"y\": [95.95618597262258], \"z\": [35.71197972572271], \"type\": \"scatter3d\"}, {\"hovertemplate\": \"name=Uranus<br>index=14<br>x=%{x}<br>y=%{y}<br>z=%{z}<br>radius=%{marker.size}<extra></extra>\", \"ids\": [\"Uranus\"], \"legendgroup\": \"Uranus\", \"marker\": {\"color\": \"lightcyan\", \"size\": [10.141007269794844], \"sizemode\": \"area\", \"sizeref\": 0.050903371511914326, \"symbol\": \"circle\"}, \"mode\": \"markers\", \"name\": \"Uranus\", \"scene\": \"scene\", \"showlegend\": true, \"x\": [218.66748448771136], \"y\": [-184.53080870580865], \"z\": [-83.91320645059503], \"type\": \"scatter3d\"}, {\"hovertemplate\": \"name=Jupiter<br>index=14<br>x=%{x}<br>y=%{y}<br>z=%{z}<br>radius=%{marker.size}<extra></extra>\", \"ids\": [\"Jupiter\"], \"legendgroup\": \"Jupiter\", \"marker\": {\"color\": \"chocolate\", \"size\": [11.154978283509006], \"sizemode\": \"area\", \"sizeref\": 0.050903371511914326, \"symbol\": \"circle\"}, \"mode\": \"markers\", \"name\": \"Jupiter\", \"scene\": \"scene\", \"showlegend\": true, \"x\": [54.766404594185964], \"y\": [46.797071867810466], \"z\": [18.72092563802036], \"type\": \"scatter3d\"}, {\"hovertemplate\": \"name=Earth<br>index=14<br>x=%{x}<br>y=%{y}<br>z=%{z}<br>radius=%{marker.size}<extra></extra>\", \"ids\": [\"Earth\"], \"legendgroup\": \"Earth\", \"marker\": {\"color\": \"green\", \"size\": [8.759511722116487], \"sizemode\": \"area\", \"sizeref\": 0.050903371511914326, \"symbol\": \"circle\"}, \"mode\": \"markers\", \"name\": \"Earth\", \"scene\": \"scene\", \"showlegend\": true, \"x\": [-146.67695228509783], \"y\": [21.96302325912585], \"z\": [9.528850916498738], \"type\": \"scatter3d\"}], \"name\": \"14\"}, {\"data\": [{\"hovertemplate\": \"name=Sun<br>index=21<br>x=%{x}<br>y=%{y}<br>z=%{z}<br>radius=%{marker.size}<extra></extra>\", \"ids\": [\"Sun\"], \"legendgroup\": \"Sun\", \"marker\": {\"color\": \"orange\", \"size\": [20.36134860476573], \"sizemode\": \"area\", \"sizeref\": 0.050903371511914326, \"symbol\": \"circle\"}, \"mode\": \"markers\", \"name\": \"Sun\", \"scene\": \"scene\", \"showlegend\": true, \"x\": [0.0266413602263311], \"y\": [0.02410046015973277], \"z\": [0.009554306010181014], \"type\": \"scatter3d\"}, {\"hovertemplate\": \"name=Mars<br>index=21<br>x=%{x}<br>y=%{y}<br>z=%{z}<br>radius=%{marker.size}<extra></extra>\", \"ids\": [\"Mars\"], \"legendgroup\": \"Mars\", \"marker\": {\"color\": \"crimson\", \"size\": [8.12843769687102], \"sizemode\": \"area\", \"sizeref\": 0.050903371511914326, \"symbol\": \"circle\"}, \"mode\": \"markers\", \"name\": \"Mars\", \"scene\": \"scene\", \"showlegend\": true, \"x\": [51.29016167576581], \"y\": [47.60035574693171], \"z\": [20.448759811328582], \"type\": \"scatter3d\"}, {\"hovertemplate\": \"name=Mercury<br>index=21<br>x=%{x}<br>y=%{y}<br>z=%{z}<br>radius=%{marker.size}<extra></extra>\", \"ids\": [\"Mercury\"], \"legendgroup\": \"Mercury\", \"marker\": {\"color\": \"cornflowerblue\", \"size\": [7.7996303599085035], \"sizemode\": \"area\", \"sizeref\": 0.050903371511914326, \"symbol\": \"circle\"}, \"mode\": \"markers\", \"name\": \"Mercury\", \"scene\": \"scene\", \"showlegend\": true, \"x\": [-50.00898106302939], \"y\": [-40.6523167777222], \"z\": [-16.52949475906392], \"type\": \"scatter3d\"}, {\"hovertemplate\": \"name=Neptune<br>index=21<br>x=%{x}<br>y=%{y}<br>z=%{z}<br>radius=%{marker.size}<extra></extra>\", \"ids\": [\"Neptune\"], \"legendgroup\": \"Neptune\", \"marker\": {\"color\": \"cyan\", \"size\": [10.15120663641638], \"sizemode\": \"area\", \"sizeref\": 0.050903371511914326, \"symbol\": \"circle\"}, \"mode\": \"markers\", \"name\": \"Neptune\", \"scene\": \"scene\", \"showlegend\": true, \"x\": [254.37484955974912], \"y\": [-341.900297672968], \"z\": [-146.25974368109758], \"type\": \"scatter3d\"}, {\"hovertemplate\": \"name=Saturn<br>index=21<br>x=%{x}<br>y=%{y}<br>z=%{z}<br>radius=%{marker.size}<extra></extra>\", \"ids\": [\"Saturn\"], \"legendgroup\": \"Saturn\", \"marker\": {\"color\": \"khaki\", \"size\": [10.972190310798094], \"sizemode\": \"area\", \"sizeref\": 0.050903371511914326, \"symbol\": \"circle\"}, \"mode\": \"markers\", \"name\": \"Saturn\", \"scene\": \"scene\", \"showlegend\": true, \"x\": [90.81356935179295], \"y\": [96.3070798466932], \"z\": [35.87701087595228], \"type\": \"scatter3d\"}, {\"hovertemplate\": \"name=Uranus<br>index=21<br>x=%{x}<br>y=%{y}<br>z=%{z}<br>radius=%{marker.size}<extra></extra>\", \"ids\": [\"Uranus\"], \"legendgroup\": \"Uranus\", \"marker\": {\"color\": \"lightcyan\", \"size\": [10.141007269794844], \"sizemode\": \"area\", \"sizeref\": 0.050903371511914326, \"symbol\": \"circle\"}, \"mode\": \"markers\", \"name\": \"Uranus\", \"scene\": \"scene\", \"showlegend\": true, \"x\": [218.94377812548566], \"y\": [-184.26942227021127], \"z\": [-83.80265754896571], \"type\": \"scatter3d\"}, {\"hovertemplate\": \"name=Jupiter<br>index=21<br>x=%{x}<br>y=%{y}<br>z=%{z}<br>radius=%{marker.size}<extra></extra>\", \"ids\": [\"Jupiter\"], \"legendgroup\": \"Jupiter\", \"marker\": {\"color\": \"chocolate\", \"size\": [11.154978283509006], \"sizemode\": \"area\", \"sizeref\": 0.050903371511914326, \"symbol\": \"circle\"}, \"mode\": \"markers\", \"name\": \"Jupiter\", \"scene\": \"scene\", \"showlegend\": true, \"x\": [54.21746121716496], \"y\": [47.35874370856209], \"z\": [18.97506756382237], \"type\": \"scatter3d\"}, {\"hovertemplate\": \"name=Earth<br>index=21<br>x=%{x}<br>y=%{y}<br>z=%{z}<br>radius=%{marker.size}<extra></extra>\", \"ids\": [\"Earth\"], \"legendgroup\": \"Earth\", \"marker\": {\"color\": \"green\", \"size\": [8.759511722116487], \"sizemode\": \"area\", \"sizeref\": 0.050903371511914326, \"symbol\": \"circle\"}, \"mode\": \"markers\", \"name\": \"Earth\", \"scene\": \"scene\", \"showlegend\": true, \"x\": [-148.78425488932018], \"y\": [5.4613835645828965], \"z\": [2.37590777944652], \"type\": \"scatter3d\"}], \"name\": \"21\"}, {\"data\": [{\"hovertemplate\": \"name=Sun<br>index=28<br>x=%{x}<br>y=%{y}<br>z=%{z}<br>radius=%{marker.size}<extra></extra>\", \"ids\": [\"Sun\"], \"legendgroup\": \"Sun\", \"marker\": {\"color\": \"orange\", \"size\": [20.36134860476573], \"sizemode\": \"area\", \"sizeref\": 0.050903371511914326, \"symbol\": \"circle\"}, \"mode\": \"markers\", \"name\": \"Sun\", \"scene\": \"scene\", \"showlegend\": true, \"x\": [0.04732230315440952], \"y\": [0.04231978287541257], \"z\": [0.016684692935553497], \"type\": \"scatter3d\"}, {\"hovertemplate\": \"name=Mars<br>index=28<br>x=%{x}<br>y=%{y}<br>z=%{z}<br>radius=%{marker.size}<extra></extra>\", \"ids\": [\"Mars\"], \"legendgroup\": \"Mars\", \"marker\": {\"color\": \"crimson\", \"size\": [8.12843769687102], \"sizemode\": \"area\", \"sizeref\": 0.050903371511914326, \"symbol\": \"circle\"}, \"mode\": \"markers\", \"name\": \"Mars\", \"scene\": \"scene\", \"showlegend\": true, \"x\": [47.88959199717594], \"y\": [50.95775399363091], \"z\": [22.081051337442076], \"type\": \"scatter3d\"}, {\"hovertemplate\": \"name=Mercury<br>index=28<br>x=%{x}<br>y=%{y}<br>z=%{z}<br>radius=%{marker.size}<extra></extra>\", \"ids\": [\"Mercury\"], \"legendgroup\": \"Mercury\", \"marker\": {\"color\": \"cornflowerblue\", \"size\": [7.7996303599085035], \"sizemode\": \"area\", \"sizeref\": 0.050903371511914326, \"symbol\": \"circle\"}, \"mode\": \"markers\", \"name\": \"Mercury\", \"scene\": \"scene\", \"showlegend\": true, \"x\": [-33.08030190411444], \"y\": [-54.98747500330035], \"z\": [-25.941979304678426], \"type\": \"scatter3d\"}, {\"hovertemplate\": \"name=Neptune<br>index=28<br>x=%{x}<br>y=%{y}<br>z=%{z}<br>radius=%{marker.size}<extra></extra>\", \"ids\": [\"Neptune\"], \"legendgroup\": \"Neptune\", \"marker\": {\"color\": \"cyan\", \"size\": [10.15120663641638], \"sizemode\": \"area\", \"sizeref\": 0.050903371511914326, \"symbol\": \"circle\"}, \"mode\": \"markers\", \"name\": \"Neptune\", \"scene\": \"scene\", \"showlegend\": true, \"x\": [254.64339904234066], \"y\": [-341.72352456669097], \"z\": [-146.1940642178638], \"type\": \"scatter3d\"}, {\"hovertemplate\": \"name=Saturn<br>index=28<br>x=%{x}<br>y=%{y}<br>z=%{z}<br>radius=%{marker.size}<extra></extra>\", \"ids\": [\"Saturn\"], \"legendgroup\": \"Saturn\", \"marker\": {\"color\": \"khaki\", \"size\": [10.972190310798094], \"sizemode\": \"area\", \"sizeref\": 0.050903371511914326, \"symbol\": \"circle\"}, \"mode\": \"markers\", \"name\": \"Saturn\", \"scene\": \"scene\", \"showlegend\": true, \"x\": [90.34394146628792], \"y\": [96.65615242318552], \"z\": [36.04136378408878], \"type\": \"scatter3d\"}, {\"hovertemplate\": \"name=Uranus<br>index=28<br>x=%{x}<br>y=%{y}<br>z=%{z}<br>radius=%{marker.size}<extra></extra>\", \"ids\": [\"Uranus\"], \"legendgroup\": \"Uranus\", \"marker\": {\"color\": \"lightcyan\", \"size\": [10.141007269794844], \"sizemode\": \"area\", \"sizeref\": 0.050903371511914326, \"symbol\": \"circle\"}, \"mode\": \"markers\", \"name\": \"Uranus\", \"scene\": \"scene\", \"showlegend\": true, \"x\": [219.21967056569838], \"y\": [-184.00769801434174], \"z\": [-83.69195501521533], \"type\": \"scatter3d\"}, {\"hovertemplate\": \"name=Jupiter<br>index=28<br>x=%{x}<br>y=%{y}<br>z=%{z}<br>radius=%{marker.size}<extra></extra>\", \"ids\": [\"Jupiter\"], \"legendgroup\": \"Jupiter\", \"marker\": {\"color\": \"chocolate\", \"size\": [11.154978283509006], \"sizemode\": \"area\", \"sizeref\": 0.050903371511914326, \"symbol\": \"circle\"}, \"mode\": \"markers\", \"name\": \"Jupiter\", \"scene\": \"scene\", \"showlegend\": true, \"x\": [53.66214111581625], \"y\": [47.91484640042382], \"z\": [19.226977969349186], \"type\": \"scatter3d\"}, {\"hovertemplate\": \"name=Earth<br>index=28<br>x=%{x}<br>y=%{y}<br>z=%{z}<br>radius=%{marker.size}<extra></extra>\", \"ids\": [\"Earth\"], \"legendgroup\": \"Earth\", \"marker\": {\"color\": \"green\", \"size\": [8.759511722116487], \"sizemode\": \"area\", \"sizeref\": 0.050903371511914326, \"symbol\": \"circle\"}, \"mode\": \"markers\", \"name\": \"Earth\", \"scene\": \"scene\", \"showlegend\": true, \"x\": [-148.7064569619362], \"y\": [-11.120654592421895], \"z\": [-4.81201301450484], \"type\": \"scatter3d\"}], \"name\": \"28\"}, {\"data\": [{\"hovertemplate\": \"name=Sun<br>index=35<br>x=%{x}<br>y=%{y}<br>z=%{z}<br>radius=%{marker.size}<extra></extra>\", \"ids\": [\"Sun\"], \"legendgroup\": \"Sun\", \"marker\": {\"color\": \"orange\", \"size\": [20.36134860476573], \"sizemode\": \"area\", \"sizeref\": 0.050903371511914326, \"symbol\": \"circle\"}, \"mode\": \"markers\", \"name\": \"Sun\", \"scene\": \"scene\", \"showlegend\": true, \"x\": [0.07400988979291745], \"y\": [0.06497426571521815], \"z\": [0.025405293655932745], \"type\": \"scatter3d\"}, {\"hovertemplate\": \"name=Mars<br>index=35<br>x=%{x}<br>y=%{y}<br>z=%{z}<br>radius=%{marker.size}<extra></extra>\", \"ids\": [\"Mars\"], \"legendgroup\": \"Mars\", \"marker\": {\"color\": \"crimson\", \"size\": [8.12843769687102], \"sizemode\": \"area\", \"sizeref\": 0.050903371511914326, \"symbol\": \"circle\"}, \"mode\": \"markers\", \"name\": \"Mars\", \"scene\": \"scene\", \"showlegend\": true, \"x\": [44.27075822142055], \"y\": [54.08298712802067], \"z\": [23.612741424018605], \"type\": \"scatter3d\"}, {\"hovertemplate\": \"name=Mercury<br>index=35<br>x=%{x}<br>y=%{y}<br>z=%{z}<br>radius=%{marker.size}<extra></extra>\", \"ids\": [\"Mercury\"], \"legendgroup\": \"Mercury\", \"marker\": {\"color\": \"cornflowerblue\", \"size\": [7.7996303599085035], \"sizemode\": \"area\", \"sizeref\": 0.050903371511914326, \"symbol\": \"circle\"}, \"mode\": \"markers\", \"name\": \"Mercury\", \"scene\": \"scene\", \"showlegend\": true, \"x\": [-11.294816802857076], \"y\": [-61.32682826738712], \"z\": [-31.587034017802843], \"type\": \"scatter3d\"}, {\"hovertemplate\": \"name=Neptune<br>index=35<br>x=%{x}<br>y=%{y}<br>z=%{z}<br>radius=%{marker.size}<extra></extra>\", \"ids\": [\"Neptune\"], \"legendgroup\": \"Neptune\", \"marker\": {\"color\": \"cyan\", \"size\": [10.15120663641638], \"sizemode\": \"area\", \"sizeref\": 0.050903371511914326, \"symbol\": \"circle\"}, \"mode\": \"markers\", \"name\": \"Neptune\", \"scene\": \"scene\", \"showlegend\": true, \"x\": [254.91181323589907], \"y\": [-341.5465697840026], \"z\": [-146.12830703411984], \"type\": \"scatter3d\"}, {\"hovertemplate\": \"name=Saturn<br>index=35<br>x=%{x}<br>y=%{y}<br>z=%{z}<br>radius=%{marker.size}<extra></extra>\", \"ids\": [\"Saturn\"], \"legendgroup\": \"Saturn\", \"marker\": {\"color\": \"khaki\", \"size\": [10.972190310798094], \"sizemode\": \"area\", \"sizeref\": 0.050903371511914326, \"symbol\": \"circle\"}, \"mode\": \"markers\", \"name\": \"Saturn\", \"scene\": \"scene\", \"showlegend\": true, \"x\": [89.87260592471709], \"y\": [97.00339625784044], \"z\": [36.20503503434238], \"type\": \"scatter3d\"}, {\"hovertemplate\": \"name=Uranus<br>index=35<br>x=%{x}<br>y=%{y}<br>z=%{z}<br>radius=%{marker.size}<extra></extra>\", \"ids\": [\"Uranus\"], \"legendgroup\": \"Uranus\", \"marker\": {\"color\": \"lightcyan\", \"size\": [10.141007269794844], \"sizemode\": \"area\", \"sizeref\": 0.050903371511914326, \"symbol\": \"circle\"}, \"mode\": \"markers\", \"name\": \"Uranus\", \"scene\": \"scene\", \"showlegend\": true, \"x\": [219.495161344], \"y\": [-183.74563645379564], \"z\": [-83.58109906853946], \"type\": \"scatter3d\"}, {\"hovertemplate\": \"name=Jupiter<br>index=35<br>x=%{x}<br>y=%{y}<br>z=%{z}<br>radius=%{marker.size}<extra></extra>\", \"ids\": [\"Jupiter\"], \"legendgroup\": \"Jupiter\", \"marker\": {\"color\": \"chocolate\", \"size\": [11.154978283509006], \"sizemode\": \"area\", \"sizeref\": 0.050903371511914326, \"symbol\": \"circle\"}, \"mode\": \"markers\", \"name\": \"Jupiter\", \"scene\": \"scene\", \"showlegend\": true, \"x\": [53.10051424280838], \"y\": [48.46531863190293], \"z\": [19.476628866942065], \"type\": \"scatter3d\"}, {\"hovertemplate\": \"name=Earth<br>index=35<br>x=%{x}<br>y=%{y}<br>z=%{z}<br>radius=%{marker.size}<extra></extra>\", \"ids\": [\"Earth\"], \"legendgroup\": \"Earth\", \"marker\": {\"color\": \"green\", \"size\": [8.759511722116487], \"sizemode\": \"area\", \"sizeref\": 0.050903371511914326, \"symbol\": \"circle\"}, \"mode\": \"markers\", \"name\": \"Earth\", \"scene\": \"scene\", \"showlegend\": true, \"x\": [-146.45761627839687], \"y\": [-27.540535754120164], \"z\": [-11.929768776299445], \"type\": \"scatter3d\"}], \"name\": \"35\"}, {\"data\": [{\"hovertemplate\": \"name=Sun<br>index=42<br>x=%{x}<br>y=%{y}<br>z=%{z}<br>radius=%{marker.size}<extra></extra>\", \"ids\": [\"Sun\"], \"legendgroup\": \"Sun\", \"marker\": {\"color\": \"orange\", \"size\": [20.36134860476573], \"sizemode\": \"area\", \"sizeref\": 0.050903371511914326, \"symbol\": \"circle\"}, \"mode\": \"markers\", \"name\": \"Sun\", \"scene\": \"scene\", \"showlegend\": true, \"x\": [0.1268109660576099], \"y\": [0.10798950260018096], \"z\": [0.030038096406704], \"type\": \"scatter3d\"}, {\"hovertemplate\": \"name=Mars<br>index=42<br>x=%{x}<br>y=%{y}<br>z=%{z}<br>radius=%{marker.size}<extra></extra>\", \"ids\": [\"Mars\"], \"legendgroup\": \"Mars\", \"marker\": {\"color\": \"crimson\", \"size\": [8.12843769687102], \"sizemode\": \"area\", \"sizeref\": 0.050903371511914326, \"symbol\": \"circle\"}, \"mode\": \"markers\", \"name\": \"Mars\", \"scene\": \"scene\", \"showlegend\": true, \"x\": [40.45373810643843], \"y\": [56.96618900677119], \"z\": [25.038760367437305], \"type\": \"scatter3d\"}, {\"hovertemplate\": \"name=Mercury<br>index=42<br>x=%{x}<br>y=%{y}<br>z=%{z}<br>radius=%{marker.size}<extra></extra>\", \"ids\": [\"Mercury\"], \"legendgroup\": \"Mercury\", \"marker\": {\"color\": \"cornflowerblue\", \"size\": [7.7996303599085035], \"sizemode\": \"area\", \"sizeref\": 0.050903371511914326, \"symbol\": \"circle\"}, \"mode\": \"markers\", \"name\": \"Mercury\", \"scene\": \"scene\", \"showlegend\": true, \"x\": [12.081061805064651], \"y\": [-58.988700856755756], \"z\": [-32.761858898168335], \"type\": \"scatter3d\"}, {\"hovertemplate\": \"name=Neptune<br>index=42<br>x=%{x}<br>y=%{y}<br>z=%{z}<br>radius=%{marker.size}<extra></extra>\", \"ids\": [\"Neptune\"], \"legendgroup\": \"Neptune\", \"marker\": {\"color\": \"cyan\", \"size\": [10.15120663641638], \"sizemode\": \"area\", \"sizeref\": 0.050903371511914326, \"symbol\": \"circle\"}, \"mode\": \"markers\", \"name\": \"Neptune\", \"scene\": \"scene\", \"showlegend\": true, \"x\": [255.1800919946499], \"y\": [-341.36943341514905], \"z\": [-146.06247216317044], \"type\": \"scatter3d\"}, {\"hovertemplate\": \"name=Saturn<br>index=42<br>x=%{x}<br>y=%{y}<br>z=%{z}<br>radius=%{marker.size}<extra></extra>\", \"ids\": [\"Saturn\"], \"legendgroup\": \"Saturn\", \"marker\": {\"color\": \"khaki\", \"size\": [10.972190310798094], \"sizemode\": \"area\", \"sizeref\": 0.050903371511914326, \"symbol\": \"circle\"}, \"mode\": \"markers\", \"name\": \"Saturn\", \"scene\": \"scene\", \"showlegend\": true, \"x\": [89.39957075056894], \"y\": [97.34880393990849], \"z\": [36.36802122274024], \"type\": \"scatter3d\"}, {\"hovertemplate\": \"name=Uranus<br>index=42<br>x=%{x}<br>y=%{y}<br>z=%{z}<br>radius=%{marker.size}<extra></extra>\", \"ids\": [\"Uranus\"], \"legendgroup\": \"Uranus\", \"marker\": {\"color\": \"lightcyan\", \"size\": [10.141007269794844], \"sizemode\": \"area\", \"sizeref\": 0.050903371511914326, \"symbol\": \"circle\"}, \"mode\": \"markers\", \"name\": \"Uranus\", \"scene\": \"scene\", \"showlegend\": true, \"x\": [219.77024999678636], \"y\": [-183.48323810458703], \"z\": [-83.47008992832751], \"type\": \"scatter3d\"}, {\"hovertemplate\": \"name=Jupiter<br>index=42<br>x=%{x}<br>y=%{y}<br>z=%{z}<br>radius=%{marker.size}<extra></extra>\", \"ids\": [\"Jupiter\"], \"legendgroup\": \"Jupiter\", \"marker\": {\"color\": \"chocolate\", \"size\": [11.154978283509006], \"sizemode\": \"area\", \"sizeref\": 0.050903371511914326, \"symbol\": \"circle\"}, \"mode\": \"markers\", \"name\": \"Jupiter\", \"scene\": \"scene\", \"showlegend\": true, \"x\": [52.53265128802227], \"y\": [49.01009993140365], \"z\": [19.723992611006086], \"type\": \"scatter3d\"}, {\"hovertemplate\": \"name=Earth<br>index=42<br>x=%{x}<br>y=%{y}<br>z=%{z}<br>radius=%{marker.size}<extra></extra>\", \"ids\": [\"Earth\"], \"legendgroup\": \"Earth\", \"marker\": {\"color\": \"green\", \"size\": [8.759511722116487], \"sizemode\": \"area\", \"sizeref\": 0.050903371511914326, \"symbol\": \"circle\"}, \"mode\": \"markers\", \"name\": \"Earth\", \"scene\": \"scene\", \"showlegend\": true, \"x\": [-142.08344445925894], \"y\": [-43.56096771842485], \"z\": [-18.874496339783192], \"type\": \"scatter3d\"}], \"name\": \"42\"}, {\"data\": [{\"hovertemplate\": \"name=Sun<br>index=49<br>x=%{x}<br>y=%{y}<br>z=%{z}<br>radius=%{marker.size}<extra></extra>\", \"ids\": [\"Sun\"], \"legendgroup\": \"Sun\", \"marker\": {\"color\": \"orange\", \"size\": [20.36134860476573], \"sizemode\": \"area\", \"sizeref\": 0.050903371511914326, \"symbol\": \"circle\"}, \"mode\": \"markers\", \"name\": \"Sun\", \"scene\": \"scene\", \"showlegend\": true, \"x\": [0.2555618150189926], \"y\": [0.2239344299163051], \"z\": [0.022225951117792922], \"type\": \"scatter3d\"}, {\"hovertemplate\": \"name=Mars<br>index=49<br>x=%{x}<br>y=%{y}<br>z=%{z}<br>radius=%{marker.size}<extra></extra>\", \"ids\": [\"Mars\"], \"legendgroup\": \"Mars\", \"marker\": {\"color\": \"crimson\", \"size\": [8.12843769687102], \"sizemode\": \"area\", \"sizeref\": 0.050903371511914326, \"symbol\": \"circle\"}, \"mode\": \"markers\", \"name\": \"Mars\", \"scene\": \"scene\", \"showlegend\": true, \"x\": [36.45886665048363], \"y\": [59.59902364762937], \"z\": [26.354733266735703], \"type\": \"scatter3d\"}, {\"hovertemplate\": \"name=Mercury<br>index=49<br>x=%{x}<br>y=%{y}<br>z=%{z}<br>radius=%{marker.size}<extra></extra>\", \"ids\": [\"Mercury\"], \"legendgroup\": \"Mercury\", \"marker\": {\"color\": \"cornflowerblue\", \"size\": [7.7996303599085035], \"sizemode\": \"area\", \"sizeref\": 0.050903371511914326, \"symbol\": \"circle\"}, \"mode\": \"markers\", \"name\": \"Mercury\", \"scene\": \"scene\", \"showlegend\": true, \"x\": [33.58551020631866], \"y\": [-47.81565779519416], \"z\": [-29.023442434101444], \"type\": \"scatter3d\"}, {\"hovertemplate\": \"name=Neptune<br>index=49<br>x=%{x}<br>y=%{y}<br>z=%{z}<br>radius=%{marker.size}<extra></extra>\", \"ids\": [\"Neptune\"], \"legendgroup\": \"Neptune\", \"marker\": {\"color\": \"cyan\", \"size\": [10.15120663641638], \"sizemode\": \"area\", \"sizeref\": 0.050903371511914326, \"symbol\": \"circle\"}, \"mode\": \"markers\", \"name\": \"Neptune\", \"scene\": \"scene\", \"showlegend\": true, \"x\": [255.4482351728846], \"y\": [-341.19211555047605], \"z\": [-145.9965596383617], \"type\": \"scatter3d\"}, {\"hovertemplate\": \"name=Saturn<br>index=49<br>x=%{x}<br>y=%{y}<br>z=%{z}<br>radius=%{marker.size}<extra></extra>\", \"ids\": [\"Saturn\"], \"legendgroup\": \"Saturn\", \"marker\": {\"color\": \"khaki\", \"size\": [10.972190310798094], \"sizemode\": \"area\", \"sizeref\": 0.050903371511914326, \"symbol\": \"circle\"}, \"mode\": \"markers\", \"name\": \"Saturn\", \"scene\": \"scene\", \"showlegend\": true, \"x\": [88.9248440112983], \"y\": [97.692368092235], \"z\": [36.53031895702086], \"type\": \"scatter3d\"}, {\"hovertemplate\": \"name=Uranus<br>index=49<br>x=%{x}<br>y=%{y}<br>z=%{z}<br>radius=%{marker.size}<extra></extra>\", \"ids\": [\"Uranus\"], \"legendgroup\": \"Uranus\", \"marker\": {\"color\": \"lightcyan\", \"size\": [10.141007269794844], \"sizemode\": \"area\", \"sizeref\": 0.050903371511914326, \"symbol\": \"circle\"}, \"mode\": \"markers\", \"name\": \"Uranus\", \"scene\": \"scene\", \"showlegend\": true, \"x\": [220.04493606121147], \"y\": [-183.22050348315824], \"z\": [-83.35892781416771], \"type\": \"scatter3d\"}, {\"hovertemplate\": \"name=Jupiter<br>index=49<br>x=%{x}<br>y=%{y}<br>z=%{z}<br>radius=%{marker.size}<extra></extra>\", \"ids\": [\"Jupiter\"], \"legendgroup\": \"Jupiter\", \"marker\": {\"color\": \"chocolate\", \"size\": [11.154978283509006], \"sizemode\": \"area\", \"sizeref\": 0.050903371511914326, \"symbol\": \"circle\"}, \"mode\": \"markers\", \"name\": \"Jupiter\", \"scene\": \"scene\", \"showlegend\": true, \"x\": [51.95862366310024], \"y\": [49.54913067307198], \"z\": [19.969041899576826], \"type\": \"scatter3d\"}, {\"hovertemplate\": \"name=Earth<br>index=49<br>x=%{x}<br>y=%{y}<br>z=%{z}<br>radius=%{marker.size}<extra></extra>\", \"ids\": [\"Earth\"], \"legendgroup\": \"Earth\", \"marker\": {\"color\": \"green\", \"size\": [8.759511722116487], \"sizemode\": \"area\", \"sizeref\": 0.050903371511914326, \"symbol\": \"circle\"}, \"mode\": \"markers\", \"name\": \"Earth\", \"scene\": \"scene\", \"showlegend\": true, \"x\": [-135.65989250916684], \"y\": [-58.95330165580373], \"z\": [-25.54707850133969], \"type\": \"scatter3d\"}], \"name\": \"49\"}, {\"data\": [{\"hovertemplate\": \"name=Sun<br>index=56<br>x=%{x}<br>y=%{y}<br>z=%{z}<br>radius=%{marker.size}<extra></extra>\", \"ids\": [\"Sun\"], \"legendgroup\": \"Sun\", \"marker\": {\"color\": \"orange\", \"size\": [20.36134860476573], \"sizemode\": \"area\", \"sizeref\": 0.050903371511914326, \"symbol\": \"circle\"}, \"mode\": \"markers\", \"name\": \"Sun\", \"scene\": \"scene\", \"showlegend\": true, \"x\": [0.3901448824718173], \"y\": [0.3455529505825166], \"z\": [0.016654540253150364], \"type\": \"scatter3d\"}, {\"hovertemplate\": \"name=Mars<br>index=56<br>x=%{x}<br>y=%{y}<br>z=%{z}<br>radius=%{marker.size}<extra></extra>\", \"ids\": [\"Mars\"], \"legendgroup\": \"Mars\", \"marker\": {\"color\": \"crimson\", \"size\": [8.12843769687102], \"sizemode\": \"area\", \"sizeref\": 0.050903371511914326, \"symbol\": \"circle\"}, \"mode\": \"markers\", \"name\": \"Mars\", \"scene\": \"scene\", \"showlegend\": true, \"x\": [32.306593901189146], \"y\": [61.97463261074883], \"z\": [27.556959436913782], \"type\": \"scatter3d\"}, {\"hovertemplate\": \"name=Mercury<br>index=56<br>x=%{x}<br>y=%{y}<br>z=%{z}<br>radius=%{marker.size}<extra></extra>\", \"ids\": [\"Mercury\"], \"legendgroup\": \"Mercury\", \"marker\": {\"color\": \"cornflowerblue\", \"size\": [7.7996303599085035], \"sizemode\": \"area\", \"sizeref\": 0.050903371511914326, \"symbol\": \"circle\"}, \"mode\": \"markers\", \"name\": \"Mercury\", \"scene\": \"scene\", \"showlegend\": true, \"x\": [49.13713141303349], \"y\": [-28.40427373396446], \"z\": [-20.26735668888954], \"type\": \"scatter3d\"}, {\"hovertemplate\": \"name=Neptune<br>index=56<br>x=%{x}<br>y=%{y}<br>z=%{z}<br>radius=%{marker.size}<extra></extra>\", \"ids\": [\"Neptune\"], \"legendgroup\": \"Neptune\", \"marker\": {\"color\": \"cyan\", \"size\": [10.15120663641638], \"sizemode\": \"area\", \"sizeref\": 0.050903371511914326, \"symbol\": \"circle\"}, \"mode\": \"markers\", \"name\": \"Neptune\", \"scene\": \"scene\", \"showlegend\": true, \"x\": [255.7162426249793], \"y\": [-341.0146162804354], \"z\": [-145.93056949308908], \"type\": \"scatter3d\"}, {\"hovertemplate\": \"name=Saturn<br>index=56<br>x=%{x}<br>y=%{y}<br>z=%{z}<br>radius=%{marker.size}<extra></extra>\", \"ids\": [\"Saturn\"], \"legendgroup\": \"Saturn\", \"marker\": {\"color\": \"khaki\", \"size\": [10.972190310798094], \"sizemode\": \"area\", \"sizeref\": 0.050903371511914326, \"symbol\": \"circle\"}, \"mode\": \"markers\", \"name\": \"Saturn\", \"scene\": \"scene\", \"showlegend\": true, \"x\": [88.44843381733715], \"y\": [98.03408137029336], \"z\": [36.69192485576537], \"type\": \"scatter3d\"}, {\"hovertemplate\": \"name=Uranus<br>index=56<br>x=%{x}<br>y=%{y}<br>z=%{z}<br>radius=%{marker.size}<extra></extra>\", \"ids\": [\"Uranus\"], \"legendgroup\": \"Uranus\", \"marker\": {\"color\": \"lightcyan\", \"size\": [10.141007269794844], \"sizemode\": \"area\", \"sizeref\": 0.050903371511914326, \"symbol\": \"circle\"}, \"mode\": \"markers\", \"name\": \"Uranus\", \"scene\": \"scene\", \"showlegend\": true, \"x\": [220.31921907526367], \"y\": [-182.95743310633944], \"z\": [-83.24761294586725], \"type\": \"scatter3d\"}, {\"hovertemplate\": \"name=Jupiter<br>index=56<br>x=%{x}<br>y=%{y}<br>z=%{z}<br>radius=%{marker.size}<extra></extra>\", \"ids\": [\"Jupiter\"], \"legendgroup\": \"Jupiter\", \"marker\": {\"color\": \"chocolate\", \"size\": [11.154978283509006], \"sizemode\": \"area\", \"sizeref\": 0.050903371511914326, \"symbol\": \"circle\"}, \"mode\": \"markers\", \"name\": \"Jupiter\", \"scene\": \"scene\", \"showlegend\": true, \"x\": [51.37850348016614], \"y\": [50.08235207646999], \"z\": [20.21174977157758], \"type\": \"scatter3d\"}, {\"hovertemplate\": \"name=Earth<br>index=56<br>x=%{x}<br>y=%{y}<br>z=%{z}<br>radius=%{marker.size}<extra></extra>\", \"ids\": [\"Earth\"], \"legendgroup\": \"Earth\", \"marker\": {\"color\": \"green\", \"size\": [8.759511722116487], \"sizemode\": \"area\", \"sizeref\": 0.050903371511914326, \"symbol\": \"circle\"}, \"mode\": \"markers\", \"name\": \"Earth\", \"scene\": \"scene\", \"showlegend\": true, \"x\": [-127.29134268353071], \"y\": [-73.50062326949686], \"z\": [-31.853491288372364], \"type\": \"scatter3d\"}], \"name\": \"56\"}, {\"data\": [{\"hovertemplate\": \"name=Sun<br>index=63<br>x=%{x}<br>y=%{y}<br>z=%{z}<br>radius=%{marker.size}<extra></extra>\", \"ids\": [\"Sun\"], \"legendgroup\": \"Sun\", \"marker\": {\"color\": \"orange\", \"size\": [20.36134860476573], \"sizemode\": \"area\", \"sizeref\": 0.050903371511914326, \"symbol\": \"circle\"}, \"mode\": \"markers\", \"name\": \"Sun\", \"scene\": \"scene\", \"showlegend\": true, \"x\": [0.5306138196181959], \"y\": [0.4728808950693163], \"z\": [0.013331677733415133], \"type\": \"scatter3d\"}, {\"hovertemplate\": \"name=Mars<br>index=63<br>x=%{x}<br>y=%{y}<br>z=%{z}<br>radius=%{marker.size}<extra></extra>\", \"ids\": [\"Mars\"], \"legendgroup\": \"Mars\", \"marker\": {\"color\": \"crimson\", \"size\": [8.12843769687102], \"sizemode\": \"area\", \"sizeref\": 0.050903371511914326, \"symbol\": \"circle\"}, \"mode\": \"markers\", \"name\": \"Mars\", \"scene\": \"scene\", \"showlegend\": true, \"x\": [28.017358524325775], \"y\": [64.08757579097183], \"z\": [28.64238915798129], \"type\": \"scatter3d\"}, {\"hovertemplate\": \"name=Mercury<br>index=63<br>x=%{x}<br>y=%{y}<br>z=%{z}<br>radius=%{marker.size}<extra></extra>\", \"ids\": [\"Mercury\"], \"legendgroup\": \"Mercury\", \"marker\": {\"color\": \"cornflowerblue\", \"size\": [7.7996303599085035], \"sizemode\": \"area\", \"sizeref\": 0.050903371511914326, \"symbol\": \"circle\"}, \"mode\": \"markers\", \"name\": \"Mercury\", \"scene\": \"scene\", \"showlegend\": true, \"x\": [53.74584324386572], \"y\": [-2.961587636508121], \"z\": [-7.155228028074396], \"type\": \"scatter3d\"}, {\"hovertemplate\": \"name=Neptune<br>index=63<br>x=%{x}<br>y=%{y}<br>z=%{z}<br>radius=%{marker.size}<extra></extra>\", \"ids\": [\"Neptune\"], \"legendgroup\": \"Neptune\", \"marker\": {\"color\": \"cyan\", \"size\": [10.15120663641638], \"sizemode\": \"area\", \"sizeref\": 0.050903371511914326, \"symbol\": \"circle\"}, \"mode\": \"markers\", \"name\": \"Neptune\", \"scene\": \"scene\", \"showlegend\": true, \"x\": [255.98411420540376], \"y\": [-340.83693569557823], \"z\": [-145.8645017607997], \"type\": \"scatter3d\"}, {\"hovertemplate\": \"name=Saturn<br>index=63<br>x=%{x}<br>y=%{y}<br>z=%{z}<br>radius=%{marker.size}<extra></extra>\", \"ids\": [\"Saturn\"], \"legendgroup\": \"Saturn\", \"marker\": {\"color\": \"khaki\", \"size\": [10.972190310798094], \"sizemode\": \"area\", \"sizeref\": 0.050903371511914326, \"symbol\": \"circle\"}, \"mode\": \"markers\", \"name\": \"Saturn\", \"scene\": \"scene\", \"showlegend\": true, \"x\": [87.97034832237784], \"y\": [98.37393646295905], \"z\": [36.85283554913394], \"type\": \"scatter3d\"}, {\"hovertemplate\": \"name=Uranus<br>index=63<br>x=%{x}<br>y=%{y}<br>z=%{z}<br>radius=%{marker.size}<extra></extra>\", \"ids\": [\"Uranus\"], \"legendgroup\": \"Uranus\", \"marker\": {\"color\": \"lightcyan\", \"size\": [10.141007269794844], \"sizemode\": \"area\", \"sizeref\": 0.050903371511914326, \"symbol\": \"circle\"}, \"mode\": \"markers\", \"name\": \"Uranus\", \"scene\": \"scene\", \"showlegend\": true, \"x\": [220.59309857774196], \"y\": [-182.69402749130163], \"z\": [-83.13614554344073], \"type\": \"scatter3d\"}, {\"hovertemplate\": \"name=Jupiter<br>index=63<br>x=%{x}<br>y=%{y}<br>z=%{z}<br>radius=%{marker.size}<extra></extra>\", \"ids\": [\"Jupiter\"], \"legendgroup\": \"Jupiter\", \"marker\": {\"color\": \"chocolate\", \"size\": [11.154978283509006], \"sizemode\": \"area\", \"sizeref\": 0.050903371511914326, \"symbol\": \"circle\"}, \"mode\": \"markers\", \"name\": \"Jupiter\", \"scene\": \"scene\", \"showlegend\": true, \"x\": [50.79236354345832], \"y\": [50.60970621881011], \"z\": [20.45208961588378], \"type\": \"scatter3d\"}, {\"hovertemplate\": \"name=Earth<br>index=63<br>x=%{x}<br>y=%{y}<br>z=%{z}<br>radius=%{marker.size}<extra></extra>\", \"ids\": [\"Earth\"], \"legendgroup\": \"Earth\", \"marker\": {\"color\": \"green\", \"size\": [8.759511722116487], \"sizemode\": \"area\", \"sizeref\": 0.050903371511914326, \"symbol\": \"circle\"}, \"mode\": \"markers\", \"name\": \"Earth\", \"scene\": \"scene\", \"showlegend\": true, \"x\": [-117.10844485131089], \"y\": [-87.00053331738793], \"z\": [-37.70600002274196], \"type\": \"scatter3d\"}], \"name\": \"63\"}, {\"data\": [{\"hovertemplate\": \"name=Sun<br>index=70<br>x=%{x}<br>y=%{y}<br>z=%{z}<br>radius=%{marker.size}<extra></extra>\", \"ids\": [\"Sun\"], \"legendgroup\": \"Sun\", \"marker\": {\"color\": \"orange\", \"size\": [20.36134860476573], \"sizemode\": \"area\", \"sizeref\": 0.050903371511914326, \"symbol\": \"circle\"}, \"mode\": \"markers\", \"name\": \"Sun\", \"scene\": \"scene\", \"showlegend\": true, \"x\": [0.6770264584579054], \"y\": [0.6060063841441856], \"z\": [0.012296531856276037], \"type\": \"scatter3d\"}, {\"hovertemplate\": \"name=Mars<br>index=70<br>x=%{x}<br>y=%{y}<br>z=%{z}<br>radius=%{marker.size}<extra></extra>\", \"ids\": [\"Mars\"], \"legendgroup\": \"Mars\", \"marker\": {\"color\": \"crimson\", \"size\": [8.12843769687102], \"sizemode\": \"area\", \"sizeref\": 0.050903371511914326, \"symbol\": \"circle\"}, \"mode\": \"markers\", \"name\": \"Mars\", \"scene\": \"scene\", \"showlegend\": true, \"x\": [23.611475415418965], \"y\": [65.93376484685615], \"z\": [29.608596244580532], \"type\": \"scatter3d\"}, {\"hovertemplate\": \"name=Mercury<br>index=70<br>x=%{x}<br>y=%{y}<br>z=%{z}<br>radius=%{marker.size}<extra></extra>\", \"ids\": [\"Mercury\"], \"legendgroup\": \"Mercury\", \"marker\": {\"color\": \"cornflowerblue\", \"size\": [7.7996303599085035], \"sizemode\": \"area\", \"sizeref\": 0.050903371511914326, \"symbol\": \"circle\"}, \"mode\": \"markers\", \"name\": \"Mercury\", \"scene\": \"scene\", \"showlegend\": true, \"x\": [42.35327266118469], \"y\": [22.93725976749136], \"z\": [7.859293542370502], \"type\": \"scatter3d\"}, {\"hovertemplate\": \"name=Neptune<br>index=70<br>x=%{x}<br>y=%{y}<br>z=%{z}<br>radius=%{marker.size}<extra></extra>\", \"ids\": [\"Neptune\"], \"legendgroup\": \"Neptune\", \"marker\": {\"color\": \"cyan\", \"size\": [10.15120663641638], \"sizemode\": \"area\", \"sizeref\": 0.050903371511914326, \"symbol\": \"circle\"}, \"mode\": \"markers\", \"name\": \"Neptune\", \"scene\": \"scene\", \"showlegend\": true, \"x\": [256.2518497687135], \"y\": [-340.6590738865419], \"z\": [-145.79835647498726], \"type\": \"scatter3d\"}, {\"hovertemplate\": \"name=Saturn<br>index=70<br>x=%{x}<br>y=%{y}<br>z=%{z}<br>radius=%{marker.size}<extra></extra>\", \"ids\": [\"Saturn\"], \"legendgroup\": \"Saturn\", \"marker\": {\"color\": \"khaki\", \"size\": [10.972190310798094], \"sizemode\": \"area\", \"sizeref\": 0.050903371511914326, \"symbol\": \"circle\"}, \"mode\": \"markers\", \"name\": \"Saturn\", \"scene\": \"scene\", \"showlegend\": true, \"x\": [87.4905957238121], \"y\": [98.71192609339653], \"z\": [37.01304767943889], \"type\": \"scatter3d\"}, {\"hovertemplate\": \"name=Uranus<br>index=70<br>x=%{x}<br>y=%{y}<br>z=%{z}<br>radius=%{marker.size}<extra></extra>\", \"ids\": [\"Uranus\"], \"legendgroup\": \"Uranus\", \"marker\": {\"color\": \"lightcyan\", \"size\": [10.141007269794844], \"sizemode\": \"area\", \"sizeref\": 0.050903371511914326, \"symbol\": \"circle\"}, \"mode\": \"markers\", \"name\": \"Uranus\", \"scene\": \"scene\", \"showlegend\": true, \"x\": [220.8665741081917], \"y\": [-182.430287155564], \"z\": [-83.02452582709009], \"type\": \"scatter3d\"}, {\"hovertemplate\": \"name=Jupiter<br>index=70<br>x=%{x}<br>y=%{y}<br>z=%{z}<br>radius=%{marker.size}<extra></extra>\", \"ids\": [\"Jupiter\"], \"legendgroup\": \"Jupiter\", \"marker\": {\"color\": \"chocolate\", \"size\": [11.154978283509006], \"sizemode\": \"area\", \"sizeref\": 0.050903371511914326, \"symbol\": \"circle\"}, \"mode\": \"markers\", \"name\": \"Jupiter\", \"scene\": \"scene\", \"showlegend\": true, \"x\": [50.20027733897069], \"y\": [51.13113604534515], \"z\": [20.690035177000066], \"type\": \"scatter3d\"}, {\"hovertemplate\": \"name=Earth<br>index=70<br>x=%{x}<br>y=%{y}<br>z=%{z}<br>radius=%{marker.size}<extra></extra>\", \"ids\": [\"Earth\"], \"legendgroup\": \"Earth\", \"marker\": {\"color\": \"green\", \"size\": [8.759511722116487], \"sizemode\": \"area\", \"sizeref\": 0.050903371511914326, \"symbol\": \"circle\"}, \"mode\": \"markers\", \"name\": \"Earth\", \"scene\": \"scene\", \"showlegend\": true, \"x\": [-105.2657092285714], \"y\": [-99.26758999074583], \"z\": [-43.02421890603826], \"type\": \"scatter3d\"}], \"name\": \"70\"}, {\"data\": [{\"hovertemplate\": \"name=Sun<br>index=77<br>x=%{x}<br>y=%{y}<br>z=%{z}<br>radius=%{marker.size}<extra></extra>\", \"ids\": [\"Sun\"], \"legendgroup\": \"Sun\", \"marker\": {\"color\": \"orange\", \"size\": [20.36134860476573], \"sizemode\": \"area\", \"sizeref\": 0.050903371511914326, \"symbol\": \"circle\"}, \"mode\": \"markers\", \"name\": \"Sun\", \"scene\": \"scene\", \"showlegend\": true, \"x\": [0.8293807546991354], \"y\": [0.7450964353130808], \"z\": [0.013637134864454368], \"type\": \"scatter3d\"}, {\"hovertemplate\": \"name=Mars<br>index=77<br>x=%{x}<br>y=%{y}<br>z=%{z}<br>radius=%{marker.size}<extra></extra>\", \"ids\": [\"Mars\"], \"legendgroup\": \"Mars\", \"marker\": {\"color\": \"crimson\", \"size\": [8.12843769687102], \"sizemode\": \"area\", \"sizeref\": 0.050903371511914326, \"symbol\": \"circle\"}, \"mode\": \"markers\", \"name\": \"Mars\", \"scene\": \"scene\", \"showlegend\": true, \"x\": [19.10903741327744], \"y\": [67.51039185044858], \"z\": [30.453747971924233], \"type\": \"scatter3d\"}, {\"hovertemplate\": \"name=Mercury<br>index=77<br>x=%{x}<br>y=%{y}<br>z=%{z}<br>radius=%{marker.size}<extra></extra>\", \"ids\": [\"Mercury\"], \"legendgroup\": \"Mercury\", \"marker\": {\"color\": \"cornflowerblue\", \"size\": [7.7996303599085035], \"sizemode\": \"area\", \"sizeref\": 0.050903371511914326, \"symbol\": \"circle\"}, \"mode\": \"markers\", \"name\": \"Mercury\", \"scene\": \"scene\", \"showlegend\": true, \"x\": [14.313885181058051], \"y\": [39.242406557109994], \"z\": [19.47489860212788], \"type\": \"scatter3d\"}, {\"hovertemplate\": \"name=Neptune<br>index=77<br>x=%{x}<br>y=%{y}<br>z=%{z}<br>radius=%{marker.size}<extra></extra>\", \"ids\": [\"Neptune\"], \"legendgroup\": \"Neptune\", \"marker\": {\"color\": \"cyan\", \"size\": [10.15120663641638], \"sizemode\": \"area\", \"sizeref\": 0.050903371511914326, \"symbol\": \"circle\"}, \"mode\": \"markers\", \"name\": \"Neptune\", \"scene\": \"scene\", \"showlegend\": true, \"x\": [256.5194491695396], \"y\": [-340.48103094404485], \"z\": [-145.73213366918765], \"type\": \"scatter3d\"}, {\"hovertemplate\": \"name=Saturn<br>index=77<br>x=%{x}<br>y=%{y}<br>z=%{z}<br>radius=%{marker.size}<extra></extra>\", \"ids\": [\"Saturn\"], \"legendgroup\": \"Saturn\", \"marker\": {\"color\": \"khaki\", \"size\": [10.972190310798094], \"sizemode\": \"area\", \"sizeref\": 0.050903371511914326, \"symbol\": \"circle\"}, \"mode\": \"markers\", \"name\": \"Saturn\", \"scene\": \"scene\", \"showlegend\": true, \"x\": [87.00918426279706], \"y\": [99.04804301946437], \"z\": [37.17255790131568], \"type\": \"scatter3d\"}, {\"hovertemplate\": \"name=Uranus<br>index=77<br>x=%{x}<br>y=%{y}<br>z=%{z}<br>radius=%{marker.size}<extra></extra>\", \"ids\": [\"Uranus\"], \"legendgroup\": \"Uranus\", \"marker\": {\"color\": \"lightcyan\", \"size\": [10.141007269794844], \"sizemode\": \"area\", \"sizeref\": 0.050903371511914326, \"symbol\": \"circle\"}, \"mode\": \"markers\", \"name\": \"Uranus\", \"scene\": \"scene\", \"showlegend\": true, \"x\": [221.13964520688302], \"y\": [-182.16621261701988], \"z\": [-82.91275401719935], \"type\": \"scatter3d\"}, {\"hovertemplate\": \"name=Jupiter<br>index=77<br>x=%{x}<br>y=%{y}<br>z=%{z}<br>radius=%{marker.size}<extra></extra>\", \"ids\": [\"Jupiter\"], \"legendgroup\": \"Jupiter\", \"marker\": {\"color\": \"chocolate\", \"size\": [11.154978283509006], \"sizemode\": \"area\", \"sizeref\": 0.050903371511914326, \"symbol\": \"circle\"}, \"mode\": \"markers\", \"name\": \"Jupiter\", \"scene\": \"scene\", \"showlegend\": true, \"x\": [49.602319020844774], \"y\": [51.64658537655848], \"z\": [20.925560558408105], \"type\": \"scatter3d\"}, {\"hovertemplate\": \"name=Earth<br>index=77<br>x=%{x}<br>y=%{y}<br>z=%{z}<br>radius=%{marker.size}<extra></extra>\", \"ids\": [\"Earth\"], \"legendgroup\": \"Earth\", \"marker\": {\"color\": \"green\", \"size\": [8.759511722116487], \"sizemode\": \"area\", \"sizeref\": 0.050903371511914326, \"symbol\": \"circle\"}, \"mode\": \"markers\", \"name\": \"Earth\", \"scene\": \"scene\", \"showlegend\": true, \"x\": [-91.93889748738808], \"y\": [-110.13541633284376], \"z\": [-47.73602464732001], \"type\": \"scatter3d\"}], \"name\": \"77\"}, {\"data\": [{\"hovertemplate\": \"name=Sun<br>index=84<br>x=%{x}<br>y=%{y}<br>z=%{z}<br>radius=%{marker.size}<extra></extra>\", \"ids\": [\"Sun\"], \"legendgroup\": \"Sun\", \"marker\": {\"color\": \"orange\", \"size\": [20.36134860476573], \"sizemode\": \"area\", \"sizeref\": 0.050903371511914326, \"symbol\": \"circle\"}, \"mode\": \"markers\", \"name\": \"Sun\", \"scene\": \"scene\", \"showlegend\": true, \"x\": [0.9875067754233013], \"y\": [0.8903129005639944], \"z\": [0.017456272733859888], \"type\": \"scatter3d\"}, {\"hovertemplate\": \"name=Mars<br>index=84<br>x=%{x}<br>y=%{y}<br>z=%{z}<br>radius=%{marker.size}<extra></extra>\", \"ids\": [\"Mars\"], \"legendgroup\": \"Mars\", \"marker\": {\"color\": \"crimson\", \"size\": [8.12843769687102], \"sizemode\": \"area\", \"sizeref\": 0.050903371511914326, \"symbol\": \"circle\"}, \"mode\": \"markers\", \"name\": \"Mars\", \"scene\": \"scene\", \"showlegend\": true, \"x\": [14.529830682150363], \"y\": [68.8158552899829], \"z\": [31.176573418819448], \"type\": \"scatter3d\"}, {\"hovertemplate\": \"name=Mercury<br>index=84<br>x=%{x}<br>y=%{y}<br>z=%{z}<br>radius=%{marker.size}<extra></extra>\", \"ids\": [\"Mercury\"], \"legendgroup\": \"Mercury\", \"marker\": {\"color\": \"cornflowerblue\", \"size\": [7.7996303599085035], \"sizemode\": \"area\", \"sizeref\": 0.050903371511914326, \"symbol\": \"circle\"}, \"mode\": \"markers\", \"name\": \"Mercury\", \"scene\": \"scene\", \"showlegend\": true, \"x\": [-20.30497578114208], \"y\": [37.24354231676793], \"z\": [21.995288675957852], \"type\": \"scatter3d\"}, {\"hovertemplate\": \"name=Neptune<br>index=84<br>x=%{x}<br>y=%{y}<br>z=%{z}<br>radius=%{marker.size}<extra></extra>\", \"ids\": [\"Neptune\"], \"legendgroup\": \"Neptune\", \"marker\": {\"color\": \"cyan\", \"size\": [10.15120663641638], \"sizemode\": \"area\", \"sizeref\": 0.050903371511914326, \"symbol\": \"circle\"}, \"mode\": \"markers\", \"name\": \"Neptune\", \"scene\": \"scene\", \"showlegend\": true, \"x\": [256.7869122625811], \"y\": [-340.3028069588871], \"z\": [-145.66583337697594], \"type\": \"scatter3d\"}, {\"hovertemplate\": \"name=Saturn<br>index=84<br>x=%{x}<br>y=%{y}<br>z=%{z}<br>radius=%{marker.size}<extra></extra>\", \"ids\": [\"Saturn\"], \"legendgroup\": \"Saturn\", \"marker\": {\"color\": \"khaki\", \"size\": [10.972190310798094], \"sizemode\": \"area\", \"sizeref\": 0.050903371511914326, \"symbol\": \"circle\"}, \"mode\": \"markers\", \"name\": \"Saturn\", \"scene\": \"scene\", \"showlegend\": true, \"x\": [86.52612222423015], \"y\": [99.38228003401395], \"z\": [37.331362881840015], \"type\": \"scatter3d\"}, {\"hovertemplate\": \"name=Uranus<br>index=84<br>x=%{x}<br>y=%{y}<br>z=%{z}<br>radius=%{marker.size}<extra></extra>\", \"ids\": [\"Uranus\"], \"legendgroup\": \"Uranus\", \"marker\": {\"color\": \"lightcyan\", \"size\": [10.141007269794844], \"sizemode\": \"area\", \"sizeref\": 0.050903371511914326, \"symbol\": \"circle\"}, \"mode\": \"markers\", \"name\": \"Uranus\", \"scene\": \"scene\", \"showlegend\": true, \"x\": [221.41231141481026], \"y\": [-181.90180439395613], \"z\": [-82.80083033433569], \"type\": \"scatter3d\"}, {\"hovertemplate\": \"name=Jupiter<br>index=84<br>x=%{x}<br>y=%{y}<br>z=%{z}<br>radius=%{marker.size}<extra></extra>\", \"ids\": [\"Jupiter\"], \"legendgroup\": \"Jupiter\", \"marker\": {\"color\": \"chocolate\", \"size\": [11.154978283509006], \"sizemode\": \"area\", \"sizeref\": 0.050903371511914326, \"symbol\": \"circle\"}, \"mode\": \"markers\", \"name\": \"Jupiter\", \"scene\": \"scene\", \"showlegend\": true, \"x\": [48.998563397324716], \"y\": [52.15599891477736], \"z\": [21.15864022571174], \"type\": \"scatter3d\"}, {\"hovertemplate\": \"name=Earth<br>index=84<br>x=%{x}<br>y=%{y}<br>z=%{z}<br>radius=%{marker.size}<extra></extra>\", \"ids\": [\"Earth\"], \"legendgroup\": \"Earth\", \"marker\": {\"color\": \"green\", \"size\": [8.759511722116487], \"sizemode\": \"area\", \"sizeref\": 0.050903371511914326, \"symbol\": \"circle\"}, \"mode\": \"markers\", \"name\": \"Earth\", \"scene\": \"scene\", \"showlegend\": true, \"x\": [-77.3222653922581], \"y\": [-119.45847553324573], \"z\": [-51.7783260846994], \"type\": \"scatter3d\"}], \"name\": \"84\"}, {\"data\": [{\"hovertemplate\": \"name=Sun<br>index=91<br>x=%{x}<br>y=%{y}<br>z=%{z}<br>radius=%{marker.size}<extra></extra>\", \"ids\": [\"Sun\"], \"legendgroup\": \"Sun\", \"marker\": {\"color\": \"orange\", \"size\": [20.36134860476573], \"sizemode\": \"area\", \"sizeref\": 0.050903371511914326, \"symbol\": \"circle\"}, \"mode\": \"markers\", \"name\": \"Sun\", \"scene\": \"scene\", \"showlegend\": true, \"x\": [1.1511466341188272], \"y\": [1.0416476760246116], \"z\": [0.02377497817046826], \"type\": \"scatter3d\"}, {\"hovertemplate\": \"name=Mars<br>index=91<br>x=%{x}<br>y=%{y}<br>z=%{z}<br>radius=%{marker.size}<extra></extra>\", \"ids\": [\"Mars\"], \"legendgroup\": \"Mars\", \"marker\": {\"color\": \"crimson\", \"size\": [8.12843769687102], \"sizemode\": \"area\", \"sizeref\": 0.050903371511914326, \"symbol\": \"circle\"}, \"mode\": \"markers\", \"name\": \"Mars\", \"scene\": \"scene\", \"showlegend\": true, \"x\": [9.89326294742471], \"y\": [69.84968499701614], \"z\": [31.776330968146688], \"type\": \"scatter3d\"}, {\"hovertemplate\": \"name=Mercury<br>index=91<br>x=%{x}<br>y=%{y}<br>z=%{z}<br>radius=%{marker.size}<extra></extra>\", \"ids\": [\"Mercury\"], \"legendgroup\": \"Mercury\", \"marker\": {\"color\": \"cornflowerblue\", \"size\": [7.7996303599085035], \"sizemode\": \"area\", \"sizeref\": 0.050903371511914326, \"symbol\": \"circle\"}, \"mode\": \"markers\", \"name\": \"Mercury\", \"scene\": \"scene\", \"showlegend\": true, \"x\": [-46.79521189215041], \"y\": [19.27614319375964], \"z\": [15.143302789629024], \"type\": \"scatter3d\"}, {\"hovertemplate\": \"name=Neptune<br>index=91<br>x=%{x}<br>y=%{y}<br>z=%{z}<br>radius=%{marker.size}<extra></extra>\", \"ids\": [\"Neptune\"], \"legendgroup\": \"Neptune\", \"marker\": {\"color\": \"cyan\", \"size\": [10.15120663641638], \"sizemode\": \"area\", \"sizeref\": 0.050903371511914326, \"symbol\": \"circle\"}, \"mode\": \"markers\", \"name\": \"Neptune\", \"scene\": \"scene\", \"showlegend\": true, \"x\": [257.0542389026009], \"y\": [-340.1244020219543], \"z\": [-145.59945563196533], \"type\": \"scatter3d\"}, {\"hovertemplate\": \"name=Saturn<br>index=91<br>x=%{x}<br>y=%{y}<br>z=%{z}<br>radius=%{marker.size}<extra></extra>\", \"ids\": [\"Saturn\"], \"legendgroup\": \"Saturn\", \"marker\": {\"color\": \"khaki\", \"size\": [10.972190310798094], \"sizemode\": \"area\", \"sizeref\": 0.050903371511914326, \"symbol\": \"circle\"}, \"mode\": \"markers\", \"name\": \"Saturn\", \"scene\": \"scene\", \"showlegend\": true, \"x\": [86.0414179366927], \"y\": [99.71462996515154], \"z\": [37.48945930063292], \"type\": \"scatter3d\"}, {\"hovertemplate\": \"name=Uranus<br>index=91<br>x=%{x}<br>y=%{y}<br>z=%{z}<br>radius=%{marker.size}<extra></extra>\", \"ids\": [\"Uranus\"], \"legendgroup\": \"Uranus\", \"marker\": {\"color\": \"lightcyan\", \"size\": [10.141007269794844], \"sizemode\": \"area\", \"sizeref\": 0.050903371511914326, \"symbol\": \"circle\"}, \"mode\": \"markers\", \"name\": \"Uranus\", \"scene\": \"scene\", \"showlegend\": true, \"x\": [221.68457227369794], \"y\": [-181.63706300506283], \"z\": [-82.68875499925146], \"type\": \"scatter3d\"}, {\"hovertemplate\": \"name=Jupiter<br>index=91<br>x=%{x}<br>y=%{y}<br>z=%{z}<br>radius=%{marker.size}<extra></extra>\", \"ids\": [\"Jupiter\"], \"legendgroup\": \"Jupiter\", \"marker\": {\"color\": \"chocolate\", \"size\": [11.154978283509006], \"sizemode\": \"area\", \"sizeref\": 0.050903371511914326, \"symbol\": \"circle\"}, \"mode\": \"markers\", \"name\": \"Jupiter\", \"scene\": \"scene\", \"showlegend\": true, \"x\": [48.38908591654871], \"y\": [52.65932225045887], \"z\": [21.389249009664212], \"type\": \"scatter3d\"}, {\"hovertemplate\": \"name=Earth<br>index=91<br>x=%{x}<br>y=%{y}<br>z=%{z}<br>radius=%{marker.size}<extra></extra>\", \"ids\": [\"Earth\"], \"legendgroup\": \"Earth\", \"marker\": {\"color\": \"green\", \"size\": [8.759511722116487], \"sizemode\": \"area\", \"sizeref\": 0.050903371511914326, \"symbol\": \"circle\"}, \"mode\": \"markers\", \"name\": \"Earth\", \"scene\": \"scene\", \"showlegend\": true, \"x\": [-61.625703667484444], \"y\": [-127.1135236834931], \"z\": [-55.09769400506098], \"type\": \"scatter3d\"}], \"name\": \"91\"}, {\"data\": [{\"hovertemplate\": \"name=Sun<br>index=98<br>x=%{x}<br>y=%{y}<br>z=%{z}<br>radius=%{marker.size}<extra></extra>\", \"ids\": [\"Sun\"], \"legendgroup\": \"Sun\", \"marker\": {\"color\": \"orange\", \"size\": [20.36134860476573], \"sizemode\": \"area\", \"sizeref\": 0.050903371511914326, \"symbol\": \"circle\"}, \"mode\": \"markers\", \"name\": \"Sun\", \"scene\": \"scene\", \"showlegend\": true, \"x\": [1.3201694854089812], \"y\": [1.198971139843358], \"z\": [0.03253596970154707], \"type\": \"scatter3d\"}, {\"hovertemplate\": \"name=Mars<br>index=98<br>x=%{x}<br>y=%{y}<br>z=%{z}<br>radius=%{marker.size}<extra></extra>\", \"ids\": [\"Mars\"], \"legendgroup\": \"Mars\", \"marker\": {\"color\": \"crimson\", \"size\": [8.12843769687102], \"sizemode\": \"area\", \"sizeref\": 0.050903371511914326, \"symbol\": \"circle\"}, \"mode\": \"markers\", \"name\": \"Mars\", \"scene\": \"scene\", \"showlegend\": true, \"x\": [5.218303614829677], \"y\": [70.6124673108286], \"z\": [32.252775594791295], \"type\": \"scatter3d\"}, {\"hovertemplate\": \"name=Mercury<br>index=98<br>x=%{x}<br>y=%{y}<br>z=%{z}<br>radius=%{marker.size}<extra></extra>\", \"ids\": [\"Mercury\"], \"legendgroup\": \"Mercury\", \"marker\": {\"color\": \"cornflowerblue\", \"size\": [7.7996303599085035], \"sizemode\": \"area\", \"sizeref\": 0.050903371511914326, \"symbol\": \"circle\"}, \"mode\": \"markers\", \"name\": \"Mercury\", \"scene\": \"scene\", \"showlegend\": true, \"x\": [-58.51869520196427], \"y\": [-5.295231303821717], \"z\": [3.23298289357658], \"type\": \"scatter3d\"}, {\"hovertemplate\": \"name=Neptune<br>index=98<br>x=%{x}<br>y=%{y}<br>z=%{z}<br>radius=%{marker.size}<extra></extra>\", \"ids\": [\"Neptune\"], \"legendgroup\": \"Neptune\", \"marker\": {\"color\": \"cyan\", \"size\": [10.15120663641638], \"sizemode\": \"area\", \"sizeref\": 0.050903371511914326, \"symbol\": \"circle\"}, \"mode\": \"markers\", \"name\": \"Neptune\", \"scene\": \"scene\", \"showlegend\": true, \"x\": [257.3214289444245], \"y\": [-339.94581622422055], \"z\": [-145.5330004678071], \"type\": \"scatter3d\"}, {\"hovertemplate\": \"name=Saturn<br>index=98<br>x=%{x}<br>y=%{y}<br>z=%{z}<br>radius=%{marker.size}<extra></extra>\", \"ids\": [\"Saturn\"], \"legendgroup\": \"Saturn\", \"marker\": {\"color\": \"khaki\", \"size\": [10.972190310798094], \"sizemode\": \"area\", \"sizeref\": 0.050903371511914326, \"symbol\": \"circle\"}, \"mode\": \"markers\", \"name\": \"Saturn\", \"scene\": \"scene\", \"showlegend\": true, \"x\": [85.55507977237767], \"y\": [100.04508567648608], \"z\": [37.646843849962295], \"type\": \"scatter3d\"}, {\"hovertemplate\": \"name=Uranus<br>index=98<br>x=%{x}<br>y=%{y}<br>z=%{z}<br>radius=%{marker.size}<extra></extra>\", \"ids\": [\"Uranus\"], \"legendgroup\": \"Uranus\", \"marker\": {\"color\": \"lightcyan\", \"size\": [10.141007269794844], \"sizemode\": \"area\", \"sizeref\": 0.050903371511914326, \"symbol\": \"circle\"}, \"mode\": \"markers\", \"name\": \"Uranus\", \"scene\": \"scene\", \"showlegend\": true, \"x\": [221.9564273260065], \"y\": [-181.3719889694374], \"z\": [-82.57652823288598], \"type\": \"scatter3d\"}, {\"hovertemplate\": \"name=Jupiter<br>index=98<br>x=%{x}<br>y=%{y}<br>z=%{z}<br>radius=%{marker.size}<extra></extra>\", \"ids\": [\"Jupiter\"], \"legendgroup\": \"Jupiter\", \"marker\": {\"color\": \"chocolate\", \"size\": [11.154978283509006], \"sizemode\": \"area\", \"sizeref\": 0.050903371511914326, \"symbol\": \"circle\"}, \"mode\": \"markers\", \"name\": \"Jupiter\", \"scene\": \"scene\", \"showlegend\": true, \"x\": [47.77396265222108], \"y\": [53.156501868220225], \"z\": [21.61736210909876], \"type\": \"scatter3d\"}, {\"hovertemplate\": \"name=Earth<br>index=98<br>x=%{x}<br>y=%{y}<br>z=%{z}<br>radius=%{marker.size}<extra></extra>\", \"ids\": [\"Earth\"], \"legendgroup\": \"Earth\", \"marker\": {\"color\": \"green\", \"size\": [8.759511722116487], \"sizemode\": \"area\", \"sizeref\": 0.050903371511914326, \"symbol\": \"circle\"}, \"mode\": \"markers\", \"name\": \"Earth\", \"scene\": \"scene\", \"showlegend\": true, \"x\": [-45.07181656208508], \"y\": [-133.0007538788656], \"z\": [-57.650857184056285], \"type\": \"scatter3d\"}], \"name\": \"98\"}, {\"data\": [{\"hovertemplate\": \"name=Sun<br>index=105<br>x=%{x}<br>y=%{y}<br>z=%{z}<br>radius=%{marker.size}<extra></extra>\", \"ids\": [\"Sun\"], \"legendgroup\": \"Sun\", \"marker\": {\"color\": \"orange\", \"size\": [20.36134860476573], \"sizemode\": \"area\", \"sizeref\": 0.050903371511914326, \"symbol\": \"circle\"}, \"mode\": \"markers\", \"name\": \"Sun\", \"scene\": \"scene\", \"showlegend\": true, \"x\": [1.4945787668936368], \"y\": [1.362182797264413], \"z\": [0.04368324229437234], \"type\": \"scatter3d\"}, {\"hovertemplate\": \"name=Mars<br>index=105<br>x=%{x}<br>y=%{y}<br>z=%{z}<br>radius=%{marker.size}<extra></extra>\", \"ids\": [\"Mars\"], \"legendgroup\": \"Mars\", \"marker\": {\"color\": \"crimson\", \"size\": [8.12843769687102], \"sizemode\": \"area\", \"sizeref\": 0.050903371511914326, \"symbol\": \"circle\"}, \"mode\": \"markers\", \"name\": \"Mars\", \"scene\": \"scene\", \"showlegend\": true, \"x\": [0.5234347276452741], \"y\": [71.10577158899791], \"z\": [32.60612647850376], \"type\": \"scatter3d\"}, {\"hovertemplate\": \"name=Mercury<br>index=105<br>x=%{x}<br>y=%{y}<br>z=%{z}<br>radius=%{marker.size}<extra></extra>\", \"ids\": [\"Mercury\"], \"legendgroup\": \"Mercury\", \"marker\": {\"color\": \"cornflowerblue\", \"size\": [7.7996303599085035], \"sizemode\": \"area\", \"sizeref\": 0.050903371511914326, \"symbol\": \"circle\"}, \"mode\": \"markers\", \"name\": \"Mercury\", \"scene\": \"scene\", \"showlegend\": true, \"x\": [-56.4600859368184], \"y\": [-28.89921741758697], \"z\": [-9.58928435558835], \"type\": \"scatter3d\"}, {\"hovertemplate\": \"name=Neptune<br>index=105<br>x=%{x}<br>y=%{y}<br>z=%{z}<br>radius=%{marker.size}<extra></extra>\", \"ids\": [\"Neptune\"], \"legendgroup\": \"Neptune\", \"marker\": {\"color\": \"cyan\", \"size\": [10.15120663641638], \"sizemode\": \"area\", \"sizeref\": 0.050903371511914326, \"symbol\": \"circle\"}, \"mode\": \"markers\", \"name\": \"Neptune\", \"scene\": \"scene\", \"showlegend\": true, \"x\": [257.58848224294036], \"y\": [-339.76704965675077], \"z\": [-145.46646791819109], \"type\": \"scatter3d\"}, {\"hovertemplate\": \"name=Saturn<br>index=105<br>x=%{x}<br>y=%{y}<br>z=%{z}<br>radius=%{marker.size}<extra></extra>\", \"ids\": [\"Saturn\"], \"legendgroup\": \"Saturn\", \"marker\": {\"color\": \"khaki\", \"size\": [10.972190310798094], \"sizemode\": \"area\", \"sizeref\": 0.050903371511914326, \"symbol\": \"circle\"}, \"mode\": \"markers\", \"name\": \"Saturn\", \"scene\": \"scene\", \"showlegend\": true, \"x\": [85.0671161470103], \"y\": [100.3736400673702], \"z\": [37.8035132348434], \"type\": \"scatter3d\"}, {\"hovertemplate\": \"name=Uranus<br>index=105<br>x=%{x}<br>y=%{y}<br>z=%{z}<br>radius=%{marker.size}<extra></extra>\", \"ids\": [\"Uranus\"], \"legendgroup\": \"Uranus\", \"marker\": {\"color\": \"lightcyan\", \"size\": [10.141007269794844], \"sizemode\": \"area\", \"sizeref\": 0.050903371511914326, \"symbol\": \"circle\"}, \"mode\": \"markers\", \"name\": \"Uranus\", \"scene\": \"scene\", \"showlegend\": true, \"x\": [222.22787611493644], \"y\": [-181.10658280658689], \"z\": [-82.46415025636654], \"type\": \"scatter3d\"}, {\"hovertemplate\": \"name=Jupiter<br>index=105<br>x=%{x}<br>y=%{y}<br>z=%{z}<br>radius=%{marker.size}<extra></extra>\", \"ids\": [\"Jupiter\"], \"legendgroup\": \"Jupiter\", \"marker\": {\"color\": \"chocolate\", \"size\": [11.154978283509006], \"sizemode\": \"area\", \"sizeref\": 0.050903371511914326, \"symbol\": \"circle\"}, \"mode\": \"markers\", \"name\": \"Jupiter\", \"scene\": \"scene\", \"showlegend\": true, \"x\": [47.15327028921871], \"y\": [53.64748515265244], \"z\": [21.842955093772147], \"type\": \"scatter3d\"}, {\"hovertemplate\": \"name=Earth<br>index=105<br>x=%{x}<br>y=%{y}<br>z=%{z}<br>radius=%{marker.size}<extra></extra>\", \"ids\": [\"Earth\"], \"legendgroup\": \"Earth\", \"marker\": {\"color\": \"green\", \"size\": [8.759511722116487], \"sizemode\": \"area\", \"sizeref\": 0.050903371511914326, \"symbol\": \"circle\"}, \"mode\": \"markers\", \"name\": \"Earth\", \"scene\": \"scene\", \"showlegend\": true, \"x\": [-27.892970391423777], \"y\": [-137.04464797188692], \"z\": [-59.40507171553346], \"type\": \"scatter3d\"}], \"name\": \"105\"}, {\"data\": [{\"hovertemplate\": \"name=Sun<br>index=112<br>x=%{x}<br>y=%{y}<br>z=%{z}<br>radius=%{marker.size}<extra></extra>\", \"ids\": [\"Sun\"], \"legendgroup\": \"Sun\", \"marker\": {\"color\": \"orange\", \"size\": [20.36134860476573], \"sizemode\": \"area\", \"sizeref\": 0.050903371511914326, \"symbol\": \"circle\"}, \"mode\": \"markers\", \"name\": \"Sun\", \"scene\": \"scene\", \"showlegend\": true, \"x\": [1.6744242693430182], \"y\": [1.531245424363574], \"z\": [0.05718930628986841], \"type\": \"scatter3d\"}, {\"hovertemplate\": \"name=Mars<br>index=112<br>x=%{x}<br>y=%{y}<br>z=%{z}<br>radius=%{marker.size}<extra></extra>\", \"ids\": [\"Mars\"], \"legendgroup\": \"Mars\", \"marker\": {\"color\": \"crimson\", \"size\": [8.12843769687102], \"sizemode\": \"area\", \"sizeref\": 0.050903371511914326, \"symbol\": \"circle\"}, \"mode\": \"markers\", \"name\": \"Mars\", \"scene\": \"scene\", \"showlegend\": true, \"x\": [-4.173388305520723], \"y\": [71.3320789460312], \"z\": [32.83703537382484], \"type\": \"scatter3d\"}, {\"hovertemplate\": \"name=Mercury<br>index=112<br>x=%{x}<br>y=%{y}<br>z=%{z}<br>radius=%{marker.size}<extra></extra>\", \"ids\": [\"Mercury\"], \"legendgroup\": \"Mercury\", \"marker\": {\"color\": \"cornflowerblue\", \"size\": [7.7996303599085035], \"sizemode\": \"area\", \"sizeref\": 0.050903371511914326, \"symbol\": \"circle\"}, \"mode\": \"markers\", \"name\": \"Mercury\", \"scene\": \"scene\", \"showlegend\": true, \"x\": [-44.01741194878164], \"y\": [-47.352366772997065], \"z\": [-20.736623050421233], \"type\": \"scatter3d\"}, {\"hovertemplate\": \"name=Neptune<br>index=112<br>x=%{x}<br>y=%{y}<br>z=%{z}<br>radius=%{marker.size}<extra></extra>\", \"ids\": [\"Neptune\"], \"legendgroup\": \"Neptune\", \"marker\": {\"color\": \"cyan\", \"size\": [10.15120663641638], \"sizemode\": \"area\", \"sizeref\": 0.050903371511914326, \"symbol\": \"circle\"}, \"mode\": \"markers\", \"name\": \"Neptune\", \"scene\": \"scene\", \"showlegend\": true, \"x\": [257.85539865310017], \"y\": [-339.5881024107025], \"z\": [-145.39985801684605], \"type\": \"scatter3d\"}, {\"hovertemplate\": \"name=Saturn<br>index=112<br>x=%{x}<br>y=%{y}<br>z=%{z}<br>radius=%{marker.size}<extra></extra>\", \"ids\": [\"Saturn\"], \"legendgroup\": \"Saturn\", \"marker\": {\"color\": \"khaki\", \"size\": [10.972190310798094], \"sizemode\": \"area\", \"sizeref\": 0.050903371511914326, \"symbol\": \"circle\"}, \"mode\": \"markers\", \"name\": \"Saturn\", \"scene\": \"scene\", \"showlegend\": true, \"x\": [84.57753551976472], \"y\": [100.70028607313637], \"z\": [37.95946417313817], \"type\": \"scatter3d\"}, {\"hovertemplate\": \"name=Uranus<br>index=112<br>x=%{x}<br>y=%{y}<br>z=%{z}<br>radius=%{marker.size}<extra></extra>\", \"ids\": [\"Uranus\"], \"legendgroup\": \"Uranus\", \"marker\": {\"color\": \"lightcyan\", \"size\": [10.141007269794844], \"sizemode\": \"area\", \"sizeref\": 0.050903371511914326, \"symbol\": \"circle\"}, \"mode\": \"markers\", \"name\": \"Uranus\", \"scene\": \"scene\", \"showlegend\": true, \"x\": [222.4989181844313], \"y\": [-180.84084503642777], \"z\": [-82.35162129100897], \"type\": \"scatter3d\"}, {\"hovertemplate\": \"name=Jupiter<br>index=112<br>x=%{x}<br>y=%{y}<br>z=%{z}<br>radius=%{marker.size}<extra></extra>\", \"ids\": [\"Jupiter\"], \"legendgroup\": \"Jupiter\", \"marker\": {\"color\": \"chocolate\", \"size\": [11.154978283509006], \"sizemode\": \"area\", \"sizeref\": 0.050903371511914326, \"symbol\": \"circle\"}, \"mode\": \"markers\", \"name\": \"Jupiter\", \"scene\": \"scene\", \"showlegend\": true, \"x\": [46.527086109152364], \"y\": [54.13222039390408], \"z\": [22.066003907110883], \"type\": \"scatter3d\"}, {\"hovertemplate\": \"name=Earth<br>index=112<br>x=%{x}<br>y=%{y}<br>z=%{z}<br>radius=%{marker.size}<extra></extra>\", \"ids\": [\"Earth\"], \"legendgroup\": \"Earth\", \"marker\": {\"color\": \"green\", \"size\": [8.759511722116487], \"sizemode\": \"area\", \"sizeref\": 0.050903371511914326, \"symbol\": \"circle\"}, \"mode\": \"markers\", \"name\": \"Earth\", \"scene\": \"scene\", \"showlegend\": true, \"x\": [-10.328337597418297], \"y\": [-139.1945530505011], \"z\": [-60.33837102858321], \"type\": \"scatter3d\"}], \"name\": \"112\"}, {\"data\": [{\"hovertemplate\": \"name=Sun<br>index=119<br>x=%{x}<br>y=%{y}<br>z=%{z}<br>radius=%{marker.size}<extra></extra>\", \"ids\": [\"Sun\"], \"legendgroup\": \"Sun\", \"marker\": {\"color\": \"orange\", \"size\": [20.36134860476573], \"sizemode\": \"area\", \"sizeref\": 0.050903371511914326, \"symbol\": \"circle\"}, \"mode\": \"markers\", \"name\": \"Sun\", \"scene\": \"scene\", \"showlegend\": true, \"x\": [1.859760139970512], \"y\": [1.7061643502119526], \"z\": [0.07304837034266552], \"type\": \"scatter3d\"}, {\"hovertemplate\": \"name=Mars<br>index=119<br>x=%{x}<br>y=%{y}<br>z=%{z}<br>radius=%{marker.size}<extra></extra>\", \"ids\": [\"Mars\"], \"legendgroup\": \"Mars\", \"marker\": {\"color\": \"crimson\", \"size\": [8.12843769687102], \"sizemode\": \"area\", \"sizeref\": 0.050903371511914326, \"symbol\": \"circle\"}, \"mode\": \"markers\", \"name\": \"Mars\", \"scene\": \"scene\", \"showlegend\": true, \"x\": [-8.854767293866518], \"y\": [71.29471389377228], \"z\": [32.94655607559247], \"type\": \"scatter3d\"}, {\"hovertemplate\": \"name=Mercury<br>index=119<br>x=%{x}<br>y=%{y}<br>z=%{z}<br>radius=%{marker.size}<extra></extra>\", \"ids\": [\"Mercury\"], \"legendgroup\": \"Mercury\", \"marker\": {\"color\": \"cornflowerblue\", \"size\": [7.7996303599085035], \"sizemode\": \"area\", \"sizeref\": 0.050903371511914326, \"symbol\": \"circle\"}, \"mode\": \"markers\", \"name\": \"Mercury\", \"scene\": \"scene\", \"showlegend\": true, \"x\": [-24.72763756044063], \"y\": [-58.54413858273836], \"z\": [-28.71501742818727], \"type\": \"scatter3d\"}, {\"hovertemplate\": \"name=Neptune<br>index=119<br>x=%{x}<br>y=%{y}<br>z=%{z}<br>radius=%{marker.size}<extra></extra>\", \"ids\": [\"Neptune\"], \"legendgroup\": \"Neptune\", \"marker\": {\"color\": \"cyan\", \"size\": [10.15120663641638], \"sizemode\": \"area\", \"sizeref\": 0.050903371511914326, \"symbol\": \"circle\"}, \"mode\": \"markers\", \"name\": \"Neptune\", \"scene\": \"scene\", \"showlegend\": true, \"x\": [258.1221780299199], \"y\": [-339.4089745773271], \"z\": [-145.33317079754008], \"type\": \"scatter3d\"}, {\"hovertemplate\": \"name=Saturn<br>index=119<br>x=%{x}<br>y=%{y}<br>z=%{z}<br>radius=%{marker.size}<extra></extra>\", \"ids\": [\"Saturn\"], \"legendgroup\": \"Saturn\", \"marker\": {\"color\": \"khaki\", \"size\": [10.972190310798094], \"sizemode\": \"area\", \"sizeref\": 0.050903371511914326, \"symbol\": \"circle\"}, \"mode\": \"markers\", \"name\": \"Saturn\", \"scene\": \"scene\", \"showlegend\": true, \"x\": [84.08634639317633], \"y\": [101.02501666532687], \"z\": [38.11469339565274], \"type\": \"scatter3d\"}, {\"hovertemplate\": \"name=Uranus<br>index=119<br>x=%{x}<br>y=%{y}<br>z=%{z}<br>radius=%{marker.size}<extra></extra>\", \"ids\": [\"Uranus\"], \"legendgroup\": \"Uranus\", \"marker\": {\"color\": \"lightcyan\", \"size\": [10.141007269794844], \"sizemode\": \"area\", \"sizeref\": 0.050903371511914326, \"symbol\": \"circle\"}, \"mode\": \"markers\", \"name\": \"Uranus\", \"scene\": \"scene\", \"showlegend\": true, \"x\": [222.76955307918013], \"y\": [-180.57477617928612], \"z\": [-82.23894155831799], \"type\": \"scatter3d\"}, {\"hovertemplate\": \"name=Jupiter<br>index=119<br>x=%{x}<br>y=%{y}<br>z=%{z}<br>radius=%{marker.size}<extra></extra>\", \"ids\": [\"Jupiter\"], \"legendgroup\": \"Jupiter\", \"marker\": {\"color\": \"chocolate\", \"size\": [11.154978283509006], \"sizemode\": \"area\", \"sizeref\": 0.050903371511914326, \"symbol\": \"circle\"}, \"mode\": \"markers\", \"name\": \"Jupiter\", \"scene\": \"scene\", \"showlegend\": true, \"x\": [45.895487975876286], \"y\": [54.61065679302371], \"z\": [22.28648486885479], \"type\": \"scatter3d\"}, {\"hovertemplate\": \"name=Earth<br>index=119<br>x=%{x}<br>y=%{y}<br>z=%{z}<br>radius=%{marker.size}<extra></extra>\", \"ids\": [\"Earth\"], \"legendgroup\": \"Earth\", \"marker\": {\"color\": \"green\", \"size\": [8.759511722116487], \"sizemode\": \"area\", \"sizeref\": 0.050903371511914326, \"symbol\": \"circle\"}, \"mode\": \"markers\", \"name\": \"Earth\", \"scene\": \"scene\", \"showlegend\": true, \"x\": [7.379044112384518], \"y\": [-139.42499910402395], \"z\": [-60.43970372581932], \"type\": \"scatter3d\"}], \"name\": \"119\"}, {\"data\": [{\"hovertemplate\": \"name=Sun<br>index=126<br>x=%{x}<br>y=%{y}<br>z=%{z}<br>radius=%{marker.size}<extra></extra>\", \"ids\": [\"Sun\"], \"legendgroup\": \"Sun\", \"marker\": {\"color\": \"orange\", \"size\": [20.36134860476573], \"sizemode\": \"area\", \"sizeref\": 0.050903371511914326, \"symbol\": \"circle\"}, \"mode\": \"markers\", \"name\": \"Sun\", \"scene\": \"scene\", \"showlegend\": true, \"x\": [2.0506365494612893], \"y\": [1.8869697141275235], \"z\": [0.09126763321436222], \"type\": \"scatter3d\"}, {\"hovertemplate\": \"name=Mars<br>index=126<br>x=%{x}<br>y=%{y}<br>z=%{z}<br>radius=%{marker.size}<extra></extra>\", \"ids\": [\"Mars\"], \"legendgroup\": \"Mars\", \"marker\": {\"color\": \"crimson\", \"size\": [8.12843769687102], \"sizemode\": \"area\", \"sizeref\": 0.050903371511914326, \"symbol\": \"circle\"}, \"mode\": \"markers\", \"name\": \"Mars\", \"scene\": \"scene\", \"showlegend\": true, \"x\": [-13.503884219149121], \"y\": [70.99777938962328], \"z\": [32.93611524124513], \"type\": \"scatter3d\"}, {\"hovertemplate\": \"name=Mercury<br>index=126<br>x=%{x}<br>y=%{y}<br>z=%{z}<br>radius=%{marker.size}<extra></extra>\", \"ids\": [\"Mercury\"], \"legendgroup\": \"Mercury\", \"marker\": {\"color\": \"cornflowerblue\", \"size\": [7.7996303599085035], \"sizemode\": \"area\", \"sizeref\": 0.050903371511914326, \"symbol\": \"circle\"}, \"mode\": \"markers\", \"name\": \"Mercury\", \"scene\": \"scene\", \"showlegend\": true, \"x\": [-1.8967414215458742], \"y\": [-61.405137322132006], \"z\": [-32.61053355267676], \"type\": \"scatter3d\"}, {\"hovertemplate\": \"name=Neptune<br>index=126<br>x=%{x}<br>y=%{y}<br>z=%{z}<br>radius=%{marker.size}<extra></extra>\", \"ids\": [\"Neptune\"], \"legendgroup\": \"Neptune\", \"marker\": {\"color\": \"cyan\", \"size\": [10.15120663641638], \"sizemode\": \"area\", \"sizeref\": 0.050903371511914326, \"symbol\": \"circle\"}, \"mode\": \"markers\", \"name\": \"Neptune\", \"scene\": \"scene\", \"showlegend\": true, \"x\": [258.38882022848054], \"y\": [-339.22966624797004], \"z\": [-145.26640629408075], \"type\": \"scatter3d\"}, {\"hovertemplate\": \"name=Saturn<br>index=126<br>x=%{x}<br>y=%{y}<br>z=%{z}<br>radius=%{marker.size}<extra></extra>\", \"ids\": [\"Saturn\"], \"legendgroup\": \"Saturn\", \"marker\": {\"color\": \"khaki\", \"size\": [10.972190310798094], \"sizemode\": \"area\", \"sizeref\": 0.050903371511914326, \"symbol\": \"circle\"}, \"mode\": \"markers\", \"name\": \"Saturn\", \"scene\": \"scene\", \"showlegend\": true, \"x\": [83.5935573130495], \"y\": [101.34782485191917], \"z\": [38.26919764623351], \"type\": \"scatter3d\"}, {\"hovertemplate\": \"name=Uranus<br>index=126<br>x=%{x}<br>y=%{y}<br>z=%{z}<br>radius=%{marker.size}<extra></extra>\", \"ids\": [\"Uranus\"], \"legendgroup\": \"Uranus\", \"marker\": {\"color\": \"lightcyan\", \"size\": [10.141007269794844], \"sizemode\": \"area\", \"sizeref\": 0.050903371511914326, \"symbol\": \"circle\"}, \"mode\": \"markers\", \"name\": \"Uranus\", \"scene\": \"scene\", \"showlegend\": true, \"x\": [223.0397803446192], \"y\": [-180.30837675589692], \"z\": [-82.12611127998728], \"type\": \"scatter3d\"}, {\"hovertemplate\": \"name=Jupiter<br>index=126<br>x=%{x}<br>y=%{y}<br>z=%{z}<br>radius=%{marker.size}<extra></extra>\", \"ids\": [\"Jupiter\"], \"legendgroup\": \"Jupiter\", \"marker\": {\"color\": \"chocolate\", \"size\": [11.154978283509006], \"sizemode\": \"area\", \"sizeref\": 0.050903371511914326, \"symbol\": \"circle\"}, \"mode\": \"markers\", \"name\": \"Jupiter\", \"scene\": \"scene\", \"showlegend\": true, \"x\": [45.25855432094562], \"y\": [55.08274446706212], \"z\": [22.504374677599188], \"type\": \"scatter3d\"}, {\"hovertemplate\": \"name=Earth<br>index=126<br>x=%{x}<br>y=%{y}<br>z=%{z}<br>radius=%{marker.size}<extra></extra>\", \"ids\": [\"Earth\"], \"legendgroup\": \"Earth\", \"marker\": {\"color\": \"green\", \"size\": [8.759511722116487], \"sizemode\": \"area\", \"sizeref\": 0.050903371511914326, \"symbol\": \"circle\"}, \"mode\": \"markers\", \"name\": \"Earth\", \"scene\": \"scene\", \"showlegend\": true, \"x\": [24.98518296773178], \"y\": [-137.73577265968893], \"z\": [-59.70896564612837], \"type\": \"scatter3d\"}], \"name\": \"126\"}, {\"data\": [{\"hovertemplate\": \"name=Sun<br>index=133<br>x=%{x}<br>y=%{y}<br>z=%{z}<br>radius=%{marker.size}<extra></extra>\", \"ids\": [\"Sun\"], \"legendgroup\": \"Sun\", \"marker\": {\"color\": \"orange\", \"size\": [20.36134860476573], \"sizemode\": \"area\", \"sizeref\": 0.050903371511914326, \"symbol\": \"circle\"}, \"mode\": \"markers\", \"name\": \"Sun\", \"scene\": \"scene\", \"showlegend\": true, \"x\": [2.247102097773197], \"y\": [2.0737083132422542], \"z\": [0.11186259397339991], \"type\": \"scatter3d\"}, {\"hovertemplate\": \"name=Mars<br>index=133<br>x=%{x}<br>y=%{y}<br>z=%{z}<br>radius=%{marker.size}<extra></extra>\", \"ids\": [\"Mars\"], \"legendgroup\": \"Mars\", \"marker\": {\"color\": \"crimson\", \"size\": [8.12843769687102], \"sizemode\": \"area\", \"sizeref\": 0.050903371511914326, \"symbol\": \"circle\"}, \"mode\": \"markers\", \"name\": \"Mars\", \"scene\": \"scene\", \"showlegend\": true, \"x\": [-18.10451757811675], \"y\": [70.44609565039296], \"z\": [32.807484761674814], \"type\": \"scatter3d\"}, {\"hovertemplate\": \"name=Mercury<br>index=133<br>x=%{x}<br>y=%{y}<br>z=%{z}<br>radius=%{marker.size}<extra></extra>\", \"ids\": [\"Mercury\"], \"legendgroup\": \"Mercury\", \"marker\": {\"color\": \"cornflowerblue\", \"size\": [7.7996303599085035], \"sizemode\": \"area\", \"sizeref\": 0.050903371511914326, \"symbol\": \"circle\"}, \"mode\": \"markers\", \"name\": \"Mercury\", \"scene\": \"scene\", \"showlegend\": true, \"x\": [21.180329269220238], \"y\": [-55.45196667579598], \"z\": [-31.823398376964168], \"type\": \"scatter3d\"}, {\"hovertemplate\": \"name=Neptune<br>index=133<br>x=%{x}<br>y=%{y}<br>z=%{z}<br>radius=%{marker.size}<extra></extra>\", \"ids\": [\"Neptune\"], \"legendgroup\": \"Neptune\", \"marker\": {\"color\": \"cyan\", \"size\": [10.15120663641638], \"sizemode\": \"area\", \"sizeref\": 0.050903371511914326, \"symbol\": \"circle\"}, \"mode\": \"markers\", \"name\": \"Neptune\", \"scene\": \"scene\", \"showlegend\": true, \"x\": [258.65532510392853], \"y\": [-339.0501775140718], \"z\": [-145.1995645403157], \"type\": \"scatter3d\"}, {\"hovertemplate\": \"name=Saturn<br>index=133<br>x=%{x}<br>y=%{y}<br>z=%{z}<br>radius=%{marker.size}<extra></extra>\", \"ids\": [\"Saturn\"], \"legendgroup\": \"Saturn\", \"marker\": {\"color\": \"khaki\", \"size\": [10.972190310798094], \"sizemode\": \"area\", \"sizeref\": 0.050903371511914326, \"symbol\": \"circle\"}, \"mode\": \"markers\", \"name\": \"Saturn\", \"scene\": \"scene\", \"showlegend\": true, \"x\": [83.09917686836064], \"y\": [101.66870367754599], \"z\": [38.42297368186184], \"type\": \"scatter3d\"}, {\"hovertemplate\": \"name=Uranus<br>index=133<br>x=%{x}<br>y=%{y}<br>z=%{z}<br>radius=%{marker.size}<extra></extra>\", \"ids\": [\"Uranus\"], \"legendgroup\": \"Uranus\", \"marker\": {\"color\": \"lightcyan\", \"size\": [10.141007269794844], \"sizemode\": \"area\", \"sizeref\": 0.050903371511914326, \"symbol\": \"circle\"}, \"mode\": \"markers\", \"name\": \"Uranus\", \"scene\": \"scene\", \"showlegend\": true, \"x\": [223.3095995269331], \"y\": [-180.0416472874037], \"z\": [-82.01313067789941], \"type\": \"scatter3d\"}, {\"hovertemplate\": \"name=Jupiter<br>index=133<br>x=%{x}<br>y=%{y}<br>z=%{z}<br>radius=%{marker.size}<extra></extra>\", \"ids\": [\"Jupiter\"], \"legendgroup\": \"Jupiter\", \"marker\": {\"color\": \"chocolate\", \"size\": [11.154978283509006], \"sizemode\": \"area\", \"sizeref\": 0.050903371511914326, \"symbol\": \"circle\"}, \"mode\": \"markers\", \"name\": \"Jupiter\", \"scene\": \"scene\", \"showlegend\": true, \"x\": [44.616364129026536], \"y\": [55.54843445393812], \"z\": [22.71965041323704], \"type\": \"scatter3d\"}, {\"hovertemplate\": \"name=Earth<br>index=133<br>x=%{x}<br>y=%{y}<br>z=%{z}<br>radius=%{marker.size}<extra></extra>\", \"ids\": [\"Earth\"], \"legendgroup\": \"Earth\", \"marker\": {\"color\": \"green\", \"size\": [8.759511722116487], \"sizemode\": \"area\", \"sizeref\": 0.050903371511914326, \"symbol\": \"circle\"}, \"mode\": \"markers\", \"name\": \"Earth\", \"scene\": \"scene\", \"showlegend\": true, \"x\": [42.24800391506842], \"y\": [-134.15175869283496], \"z\": [-58.15693147158223], \"type\": \"scatter3d\"}], \"name\": \"133\"}, {\"data\": [{\"hovertemplate\": \"name=Sun<br>index=140<br>x=%{x}<br>y=%{y}<br>z=%{z}<br>radius=%{marker.size}<extra></extra>\", \"ids\": [\"Sun\"], \"legendgroup\": \"Sun\", \"marker\": {\"color\": \"orange\", \"size\": [20.36134860476573], \"sizemode\": \"area\", \"sizeref\": 0.050903371511914326, \"symbol\": \"circle\"}, \"mode\": \"markers\", \"name\": \"Sun\", \"scene\": \"scene\", \"showlegend\": true, \"x\": [2.4492092898577185], \"y\": [2.266442618395189], \"z\": [0.13485588159709871], \"type\": \"scatter3d\"}, {\"hovertemplate\": \"name=Mars<br>index=140<br>x=%{x}<br>y=%{y}<br>z=%{z}<br>radius=%{marker.size}<extra></extra>\", \"ids\": [\"Mars\"], \"legendgroup\": \"Mars\", \"marker\": {\"color\": \"crimson\", \"size\": [8.12843769687102], \"sizemode\": \"area\", \"sizeref\": 0.050903371511914326, \"symbol\": \"circle\"}, \"mode\": \"markers\", \"name\": \"Mars\", \"scene\": \"scene\", \"showlegend\": true, \"x\": [-22.641053071301286], \"y\": [69.64514296127192], \"z\": [32.56275581189207], \"type\": \"scatter3d\"}, {\"hovertemplate\": \"name=Mercury<br>index=140<br>x=%{x}<br>y=%{y}<br>z=%{z}<br>radius=%{marker.size}<extra></extra>\", \"ids\": [\"Mercury\"], \"legendgroup\": \"Mercury\", \"marker\": {\"color\": \"cornflowerblue\", \"size\": [7.7996303599085035], \"sizemode\": \"area\", \"sizeref\": 0.050903371511914326, \"symbol\": \"circle\"}, \"mode\": \"markers\", \"name\": \"Mercury\", \"scene\": \"scene\", \"showlegend\": true, \"x\": [40.829795462684274], \"y\": [-40.763461683583635], \"z\": [-26.014890782680883], \"type\": \"scatter3d\"}, {\"hovertemplate\": \"name=Neptune<br>index=140<br>x=%{x}<br>y=%{y}<br>z=%{z}<br>radius=%{marker.size}<extra></extra>\", \"ids\": [\"Neptune\"], \"legendgroup\": \"Neptune\", \"marker\": {\"color\": \"cyan\", \"size\": [10.15120663641638], \"sizemode\": \"area\", \"sizeref\": 0.050903371511914326, \"symbol\": \"circle\"}, \"mode\": \"markers\", \"name\": \"Neptune\", \"scene\": \"scene\", \"showlegend\": true, \"x\": [258.92169251147646], \"y\": [-338.8705084671672], \"z\": [-145.13264557013258], \"type\": \"scatter3d\"}, {\"hovertemplate\": \"name=Saturn<br>index=140<br>x=%{x}<br>y=%{y}<br>z=%{z}<br>radius=%{marker.size}<extra></extra>\", \"ids\": [\"Saturn\"], \"legendgroup\": \"Saturn\", \"marker\": {\"color\": \"khaki\", \"size\": [10.972190310798094], \"sizemode\": \"area\", \"sizeref\": 0.050903371511914326, \"symbol\": \"circle\"}, \"mode\": \"markers\", \"name\": \"Saturn\", \"scene\": \"scene\", \"showlegend\": true, \"x\": [82.60321369115626], \"y\": [101.9876462237116], \"z\": [38.57601827274763], \"type\": \"scatter3d\"}, {\"hovertemplate\": \"name=Uranus<br>index=140<br>x=%{x}<br>y=%{y}<br>z=%{z}<br>radius=%{marker.size}<extra></extra>\", \"ids\": [\"Uranus\"], \"legendgroup\": \"Uranus\", \"marker\": {\"color\": \"lightcyan\", \"size\": [10.141007269794844], \"sizemode\": \"area\", \"sizeref\": 0.050903371511914326, \"symbol\": \"circle\"}, \"mode\": \"markers\", \"name\": \"Uranus\", \"scene\": \"scene\", \"showlegend\": true, \"x\": [223.57901017305636], \"y\": [-179.7745882953577], \"z\": [-81.89999997412592], \"type\": \"scatter3d\"}, {\"hovertemplate\": \"name=Jupiter<br>index=140<br>x=%{x}<br>y=%{y}<br>z=%{z}<br>radius=%{marker.size}<extra></extra>\", \"ids\": [\"Jupiter\"], \"legendgroup\": \"Jupiter\", \"marker\": {\"color\": \"chocolate\", \"size\": [11.154978283509006], \"sizemode\": \"area\", \"sizeref\": 0.050903371511914326, \"symbol\": \"circle\"}, \"mode\": \"markers\", \"name\": \"Jupiter\", \"scene\": \"scene\", \"showlegend\": true, \"x\": [43.968996923265195], \"y\": [56.00767871706936], \"z\": [22.93228953930165], \"type\": \"scatter3d\"}, {\"hovertemplate\": \"name=Earth<br>index=140<br>x=%{x}<br>y=%{y}<br>z=%{z}<br>radius=%{marker.size}<extra></extra>\", \"ids\": [\"Earth\"], \"legendgroup\": \"Earth\", \"marker\": {\"color\": \"green\", \"size\": [8.759511722116487], \"sizemode\": \"area\", \"sizeref\": 0.050903371511914326, \"symbol\": \"circle\"}, \"mode\": \"markers\", \"name\": \"Earth\", \"scene\": \"scene\", \"showlegend\": true, \"x\": [58.93017074188935], \"y\": [-128.7225600345888], \"z\": [-55.80508986813188], \"type\": \"scatter3d\"}], \"name\": \"140\"}, {\"data\": [{\"hovertemplate\": \"name=Sun<br>index=147<br>x=%{x}<br>y=%{y}<br>z=%{z}<br>radius=%{marker.size}<extra></extra>\", \"ids\": [\"Sun\"], \"legendgroup\": \"Sun\", \"marker\": {\"color\": \"orange\", \"size\": [20.36134860476573], \"sizemode\": \"area\", \"sizeref\": 0.050903371511914326, \"symbol\": \"circle\"}, \"mode\": \"markers\", \"name\": \"Sun\", \"scene\": \"scene\", \"showlegend\": true, \"x\": [2.657020696106485], \"y\": [2.465257437720349], \"z\": [0.16028010720619543], \"type\": \"scatter3d\"}, {\"hovertemplate\": \"name=Mars<br>index=147<br>x=%{x}<br>y=%{y}<br>z=%{z}<br>radius=%{marker.size}<extra></extra>\", \"ids\": [\"Mars\"], \"legendgroup\": \"Mars\", \"marker\": {\"color\": \"crimson\", \"size\": [8.12843769687102], \"sizemode\": \"area\", \"sizeref\": 0.050903371511914326, \"symbol\": \"circle\"}, \"mode\": \"markers\", \"name\": \"Mars\", \"scene\": \"scene\", \"showlegend\": true, \"x\": [-27.098489531014433], \"y\": [68.60100860174799], \"z\": [32.20431466157267], \"type\": \"scatter3d\"}, {\"hovertemplate\": \"name=Mercury<br>index=147<br>x=%{x}<br>y=%{y}<br>z=%{z}<br>radius=%{marker.size}<extra></extra>\", \"ids\": [\"Mercury\"], \"legendgroup\": \"Mercury\", \"marker\": {\"color\": \"cornflowerblue\", \"size\": [7.7996303599085035], \"sizemode\": \"area\", \"sizeref\": 0.050903371511914326, \"symbol\": \"circle\"}, \"mode\": \"markers\", \"name\": \"Mercury\", \"scene\": \"scene\", \"showlegend\": true, \"x\": [52.57983095950375], \"y\": [-18.435541846251404], \"z\": [-15.306849195411017], \"type\": \"scatter3d\"}, {\"hovertemplate\": \"name=Neptune<br>index=147<br>x=%{x}<br>y=%{y}<br>z=%{z}<br>radius=%{marker.size}<extra></extra>\", \"ids\": [\"Neptune\"], \"legendgroup\": \"Neptune\", \"marker\": {\"color\": \"cyan\", \"size\": [10.15120663641638], \"sizemode\": \"area\", \"sizeref\": 0.050903371511914326, \"symbol\": \"circle\"}, \"mode\": \"markers\", \"name\": \"Neptune\", \"scene\": \"scene\", \"showlegend\": true, \"x\": [259.1879223064035], \"y\": [-338.6906591988867], \"z\": [-145.06564941745924], \"type\": \"scatter3d\"}, {\"hovertemplate\": \"name=Saturn<br>index=147<br>x=%{x}<br>y=%{y}<br>z=%{z}<br>radius=%{marker.size}<extra></extra>\", \"ids\": [\"Saturn\"], \"legendgroup\": \"Saturn\", \"marker\": {\"color\": \"khaki\", \"size\": [10.972190310798094], \"sizemode\": \"area\", \"sizeref\": 0.050903371511914326, \"symbol\": \"circle\"}, \"mode\": \"markers\", \"name\": \"Saturn\", \"scene\": \"scene\", \"showlegend\": true, \"x\": [82.10567645644633], \"y\": [102.30464560900376], \"z\": [38.7283282024219], \"type\": \"scatter3d\"}, {\"hovertemplate\": \"name=Uranus<br>index=147<br>x=%{x}<br>y=%{y}<br>z=%{z}<br>radius=%{marker.size}<extra></extra>\", \"ids\": [\"Uranus\"], \"legendgroup\": \"Uranus\", \"marker\": {\"color\": \"lightcyan\", \"size\": [10.141007269794844], \"sizemode\": \"area\", \"sizeref\": 0.050903371511914326, \"symbol\": \"circle\"}, \"mode\": \"markers\", \"name\": \"Uranus\", \"scene\": \"scene\", \"showlegend\": true, \"x\": [223.8480118306742], \"y\": [-179.5072003017176], \"z\": [-81.78671939092709], \"type\": \"scatter3d\"}, {\"hovertemplate\": \"name=Jupiter<br>index=147<br>x=%{x}<br>y=%{y}<br>z=%{z}<br>radius=%{marker.size}<extra></extra>\", \"ids\": [\"Jupiter\"], \"legendgroup\": \"Jupiter\", \"marker\": {\"color\": \"chocolate\", \"size\": [11.154978283509006], \"sizemode\": \"area\", \"sizeref\": 0.050903371511914326, \"symbol\": \"circle\"}, \"mode\": \"markers\", \"name\": \"Jupiter\", \"scene\": \"scene\", \"showlegend\": true, \"x\": [43.31653275062061], \"y\": [56.460430149770275], \"z\": [23.14226990521085], \"type\": \"scatter3d\"}, {\"hovertemplate\": \"name=Earth<br>index=147<br>x=%{x}<br>y=%{y}<br>z=%{z}<br>radius=%{marker.size}<extra></extra>\", \"ids\": [\"Earth\"], \"legendgroup\": \"Earth\", \"marker\": {\"color\": \"green\", \"size\": [8.759511722116487], \"sizemode\": \"area\", \"sizeref\": 0.050903371511914326, \"symbol\": \"circle\"}, \"mode\": \"markers\", \"name\": \"Earth\", \"scene\": \"scene\", \"showlegend\": true, \"x\": [74.80185264718881], \"y\": [-121.52190004652316], \"z\": [-52.685384694374534], \"type\": \"scatter3d\"}], \"name\": \"147\"}, {\"data\": [{\"hovertemplate\": \"name=Sun<br>index=154<br>x=%{x}<br>y=%{y}<br>z=%{z}<br>radius=%{marker.size}<extra></extra>\", \"ids\": [\"Sun\"], \"legendgroup\": \"Sun\", \"marker\": {\"color\": \"orange\", \"size\": [20.36134860476573], \"sizemode\": \"area\", \"sizeref\": 0.050903371511914326, \"symbol\": \"circle\"}, \"mode\": \"markers\", \"name\": \"Sun\", \"scene\": \"scene\", \"showlegend\": true, \"x\": [2.8706095431791323], \"y\": [2.6702789818712502], \"z\": [0.18818792669790296], \"type\": \"scatter3d\"}, {\"hovertemplate\": \"name=Mars<br>index=154<br>x=%{x}<br>y=%{y}<br>z=%{z}<br>radius=%{marker.size}<extra></extra>\", \"ids\": [\"Mars\"], \"legendgroup\": \"Mars\", \"marker\": {\"color\": \"crimson\", \"size\": [8.12843769687102], \"sizemode\": \"area\", \"sizeref\": 0.050903371511914326, \"symbol\": \"circle\"}, \"mode\": \"markers\", \"name\": \"Mars\", \"scene\": \"scene\", \"showlegend\": true, \"x\": [-31.462440910722474], \"y\": [67.32033792159413], \"z\": [31.734820282968908], \"type\": \"scatter3d\"}, {\"hovertemplate\": \"name=Mercury<br>index=154<br>x=%{x}<br>y=%{y}<br>z=%{z}<br>radius=%{marker.size}<extra></extra>\", \"ids\": [\"Mercury\"], \"legendgroup\": \"Mercury\", \"marker\": {\"color\": \"cornflowerblue\", \"size\": [7.7996303599085035], \"sizemode\": \"area\", \"sizeref\": 0.050903371511914326, \"symbol\": \"circle\"}, \"mode\": \"markers\", \"name\": \"Mercury\", \"scene\": \"scene\", \"showlegend\": true, \"x\": [51.133609946744926], \"y\": [8.18332944121575], \"z\": [-0.9388089923472042], \"type\": \"scatter3d\"}, {\"hovertemplate\": \"name=Neptune<br>index=154<br>x=%{x}<br>y=%{y}<br>z=%{z}<br>radius=%{marker.size}<extra></extra>\", \"ids\": [\"Neptune\"], \"legendgroup\": \"Neptune\", \"marker\": {\"color\": \"cyan\", \"size\": [10.15120663641638], \"sizemode\": \"area\", \"sizeref\": 0.050903371511914326, \"symbol\": \"circle\"}, \"mode\": \"markers\", \"name\": \"Neptune\", \"scene\": \"scene\", \"showlegend\": true, \"x\": [259.4540143440557], \"y\": [-338.5106298009557], \"z\": [-144.99857611626393], \"type\": \"scatter3d\"}, {\"hovertemplate\": \"name=Saturn<br>index=154<br>x=%{x}<br>y=%{y}<br>z=%{z}<br>radius=%{marker.size}<extra></extra>\", \"ids\": [\"Saturn\"], \"legendgroup\": \"Saturn\", \"marker\": {\"color\": \"khaki\", \"size\": [10.972190310798094], \"sizemode\": \"area\", \"sizeref\": 0.050903371511914326, \"symbol\": \"circle\"}, \"mode\": \"markers\", \"name\": \"Saturn\", \"scene\": \"scene\", \"showlegend\": true, \"x\": [81.60657388209285], \"y\": [102.61969498930257], \"z\": [38.87990026782832], \"type\": \"scatter3d\"}, {\"hovertemplate\": \"name=Uranus<br>index=154<br>x=%{x}<br>y=%{y}<br>z=%{z}<br>radius=%{marker.size}<extra></extra>\", \"ids\": [\"Uranus\"], \"legendgroup\": \"Uranus\", \"marker\": {\"color\": \"lightcyan\", \"size\": [10.141007269794844], \"sizemode\": \"area\", \"sizeref\": 0.050903371511914326, \"symbol\": \"circle\"}, \"mode\": \"markers\", \"name\": \"Uranus\", \"scene\": \"scene\", \"showlegend\": true, \"x\": [224.1166040482232], \"y\": [-179.23948382884882], \"z\": [-81.67328915075188], \"type\": \"scatter3d\"}, {\"hovertemplate\": \"name=Jupiter<br>index=154<br>x=%{x}<br>y=%{y}<br>z=%{z}<br>radius=%{marker.size}<extra></extra>\", \"ids\": [\"Jupiter\"], \"legendgroup\": \"Jupiter\", \"marker\": {\"color\": \"chocolate\", \"size\": [11.154978283509006], \"sizemode\": \"area\", \"sizeref\": 0.050903371511914326, \"symbol\": \"circle\"}, \"mode\": \"markers\", \"name\": \"Jupiter\", \"scene\": \"scene\", \"showlegend\": true, \"x\": [42.65905216716657], \"y\": [56.906642579420236], \"z\": [23.349569748413714], \"type\": \"scatter3d\"}, {\"hovertemplate\": \"name=Earth<br>index=154<br>x=%{x}<br>y=%{y}<br>z=%{z}<br>radius=%{marker.size}<extra></extra>\", \"ids\": [\"Earth\"], \"legendgroup\": \"Earth\", \"marker\": {\"color\": \"green\", \"size\": [8.759511722116487], \"sizemode\": \"area\", \"sizeref\": 0.050903371511914326, \"symbol\": \"circle\"}, \"mode\": \"markers\", \"name\": \"Earth\", \"scene\": \"scene\", \"showlegend\": true, \"x\": [89.64342856862623], \"y\": [-112.6468110452534], \"z\": [-48.839863381573466], \"type\": \"scatter3d\"}], \"name\": \"154\"}, {\"data\": [{\"hovertemplate\": \"name=Sun<br>index=161<br>x=%{x}<br>y=%{y}<br>z=%{z}<br>radius=%{marker.size}<extra></extra>\", \"ids\": [\"Sun\"], \"legendgroup\": \"Sun\", \"marker\": {\"color\": \"orange\", \"size\": [20.36134860476573], \"sizemode\": \"area\", \"sizeref\": 0.050903371511914326, \"symbol\": \"circle\"}, \"mode\": \"markers\", \"name\": \"Sun\", \"scene\": \"scene\", \"showlegend\": true, \"x\": [3.090029202830659], \"y\": [2.881706591442121], \"z\": [0.21867209991278336], \"type\": \"scatter3d\"}, {\"hovertemplate\": \"name=Mars<br>index=161<br>x=%{x}<br>y=%{y}<br>z=%{z}<br>radius=%{marker.size}<extra></extra>\", \"ids\": [\"Mars\"], \"legendgroup\": \"Mars\", \"marker\": {\"color\": \"crimson\", \"size\": [8.12843769687102], \"sizemode\": \"area\", \"sizeref\": 0.050903371511914326, \"symbol\": \"circle\"}, \"mode\": \"markers\", \"name\": \"Mars\", \"scene\": \"scene\", \"showlegend\": true, \"x\": [-35.71913508567203], \"y\": [65.81028952820519], \"z\": [31.157183758781816], \"type\": \"scatter3d\"}, {\"hovertemplate\": \"name=Mercury<br>index=161<br>x=%{x}<br>y=%{y}<br>z=%{z}<br>radius=%{marker.size}<extra></extra>\", \"ids\": [\"Mercury\"], \"legendgroup\": \"Mercury\", \"marker\": {\"color\": \"cornflowerblue\", \"size\": [7.7996303599085035], \"sizemode\": \"area\", \"sizeref\": 0.050903371511914326, \"symbol\": \"circle\"}, \"mode\": \"markers\", \"name\": \"Mercury\", \"scene\": \"scene\", \"showlegend\": true, \"x\": [32.402706561060526], \"y\": [31.54452838302334], \"z\": [13.480874904644399], \"type\": \"scatter3d\"}, {\"hovertemplate\": \"name=Neptune<br>index=161<br>x=%{x}<br>y=%{y}<br>z=%{z}<br>radius=%{marker.size}<extra></extra>\", \"ids\": [\"Neptune\"], \"legendgroup\": \"Neptune\", \"marker\": {\"color\": \"cyan\", \"size\": [10.15120663641638], \"sizemode\": \"area\", \"sizeref\": 0.050903371511914326, \"symbol\": \"circle\"}, \"mode\": \"markers\", \"name\": \"Neptune\", \"scene\": \"scene\", \"showlegend\": true, \"x\": [259.71996847984633], \"y\": [-338.33042036519504], \"z\": [-144.93142570055528], \"type\": \"scatter3d\"}, {\"hovertemplate\": \"name=Saturn<br>index=161<br>x=%{x}<br>y=%{y}<br>z=%{z}<br>radius=%{marker.size}<extra></extra>\", \"ids\": [\"Saturn\"], \"legendgroup\": \"Saturn\", \"marker\": {\"color\": \"khaki\", \"size\": [10.972190310798094], \"sizemode\": \"area\", \"sizeref\": 0.050903371511914326, \"symbol\": \"circle\"}, \"mode\": \"markers\", \"name\": \"Saturn\", \"scene\": \"scene\", \"showlegend\": true, \"x\": [81.10591472869379], \"y\": [102.93278755798656], \"z\": [39.03073127941429], \"type\": \"scatter3d\"}, {\"hovertemplate\": \"name=Uranus<br>index=161<br>x=%{x}<br>y=%{y}<br>z=%{z}<br>radius=%{marker.size}<extra></extra>\", \"ids\": [\"Uranus\"], \"legendgroup\": \"Uranus\", \"marker\": {\"color\": \"lightcyan\", \"size\": [10.141007269794844], \"sizemode\": \"area\", \"sizeref\": 0.050903371511914326, \"symbol\": \"circle\"}, \"mode\": \"markers\", \"name\": \"Uranus\", \"scene\": \"scene\", \"showlegend\": true, \"x\": [224.38478637489243], \"y\": [-178.97143939952318], \"z\": [-81.55970947623776], \"type\": \"scatter3d\"}, {\"hovertemplate\": \"name=Jupiter<br>index=161<br>x=%{x}<br>y=%{y}<br>z=%{z}<br>radius=%{marker.size}<extra></extra>\", \"ids\": [\"Jupiter\"], \"legendgroup\": \"Jupiter\", \"marker\": {\"color\": \"chocolate\", \"size\": [11.154978283509006], \"sizemode\": \"area\", \"sizeref\": 0.050903371511914326, \"symbol\": \"circle\"}, \"mode\": \"markers\", \"name\": \"Jupiter\", \"scene\": \"scene\", \"showlegend\": true, \"x\": [41.99663622337088], \"y\": [57.34627077140884], \"z\": [23.5541676964428], \"type\": \"scatter3d\"}, {\"hovertemplate\": \"name=Earth<br>index=161<br>x=%{x}<br>y=%{y}<br>z=%{z}<br>radius=%{marker.size}<extra></extra>\", \"ids\": [\"Earth\"], \"legendgroup\": \"Earth\", \"marker\": {\"color\": \"green\", \"size\": [8.759511722116487], \"sizemode\": \"area\", \"sizeref\": 0.050903371511914326, \"symbol\": \"circle\"}, \"mode\": \"markers\", \"name\": \"Earth\", \"scene\": \"scene\", \"showlegend\": true, \"x\": [103.24812138101875], \"y\": [-102.2166080391806], \"z\": [-44.320232258410215], \"type\": \"scatter3d\"}], \"name\": \"161\"}, {\"data\": [{\"hovertemplate\": \"name=Sun<br>index=168<br>x=%{x}<br>y=%{y}<br>z=%{z}<br>radius=%{marker.size}<extra></extra>\", \"ids\": [\"Sun\"], \"legendgroup\": \"Sun\", \"marker\": {\"color\": \"orange\", \"size\": [20.36134860476573], \"sizemode\": \"area\", \"sizeref\": 0.050903371511914326, \"symbol\": \"circle\"}, \"mode\": \"markers\", \"name\": \"Sun\", \"scene\": \"scene\", \"showlegend\": true, \"x\": [3.3152128841235187], \"y\": [3.099804121081462], \"z\": [0.25187124447929987], \"type\": \"scatter3d\"}, {\"hovertemplate\": \"name=Mars<br>index=168<br>x=%{x}<br>y=%{y}<br>z=%{z}<br>radius=%{marker.size}<extra></extra>\", \"ids\": [\"Mars\"], \"legendgroup\": \"Mars\", \"marker\": {\"color\": \"crimson\", \"size\": [8.12843769687102], \"sizemode\": \"area\", \"sizeref\": 0.050903371511914326, \"symbol\": \"circle\"}, \"mode\": \"markers\", \"name\": \"Mars\", \"scene\": \"scene\", \"showlegend\": true, \"x\": [-39.85541014388221], \"y\": [64.07849448962217], \"z\": [30.474549464598113], \"type\": \"scatter3d\"}, {\"hovertemplate\": \"name=Mercury<br>index=168<br>x=%{x}<br>y=%{y}<br>z=%{z}<br>radius=%{marker.size}<extra></extra>\", \"ids\": [\"Mercury\"], \"legendgroup\": \"Mercury\", \"marker\": {\"color\": \"cornflowerblue\", \"size\": [7.7996303599085035], \"sizemode\": \"area\", \"sizeref\": 0.050903371511914326, \"symbol\": \"circle\"}, \"mode\": \"markers\", \"name\": \"Mercury\", \"scene\": \"scene\", \"showlegend\": true, \"x\": [-0.19972361192510701], \"y\": [40.828500294621485], \"z\": [21.81902228438965], \"type\": \"scatter3d\"}, {\"hovertemplate\": \"name=Neptune<br>index=168<br>x=%{x}<br>y=%{y}<br>z=%{z}<br>radius=%{marker.size}<extra></extra>\", \"ids\": [\"Neptune\"], \"legendgroup\": \"Neptune\", \"marker\": {\"color\": \"cyan\", \"size\": [10.15120663641638], \"sizemode\": \"area\", \"sizeref\": 0.050903371511914326, \"symbol\": \"circle\"}, \"mode\": \"markers\", \"name\": \"Neptune\", \"scene\": \"scene\", \"showlegend\": true, \"x\": [259.9857845692561], \"y\": [-338.1500309835208], \"z\": [-144.86419820438243], \"type\": \"scatter3d\"}, {\"hovertemplate\": \"name=Saturn<br>index=168<br>x=%{x}<br>y=%{y}<br>z=%{z}<br>radius=%{marker.size}<extra></extra>\", \"ids\": [\"Saturn\"], \"legendgroup\": \"Saturn\", \"marker\": {\"color\": \"khaki\", \"size\": [10.972190310798094], \"sizemode\": \"area\", \"sizeref\": 0.050903371511914326, \"symbol\": \"circle\"}, \"mode\": \"markers\", \"name\": \"Saturn\", \"scene\": \"scene\", \"showlegend\": true, \"x\": [80.60370779946358], \"y\": [103.24391654613599], \"z\": [39.180818061221274], \"type\": \"scatter3d\"}, {\"hovertemplate\": \"name=Uranus<br>index=168<br>x=%{x}<br>y=%{y}<br>z=%{z}<br>radius=%{marker.size}<extra></extra>\", \"ids\": [\"Uranus\"], \"legendgroup\": \"Uranus\", \"marker\": {\"color\": \"lightcyan\", \"size\": [10.141007269794844], \"sizemode\": \"area\", \"sizeref\": 0.050903371511914326, \"symbol\": \"circle\"}, \"mode\": \"markers\", \"name\": \"Uranus\", \"scene\": \"scene\", \"showlegend\": true, \"x\": [224.65255836062357], \"y\": [-178.70306753691793], \"z\": [-81.44598059021047], \"type\": \"scatter3d\"}, {\"hovertemplate\": \"name=Jupiter<br>index=168<br>x=%{x}<br>y=%{y}<br>z=%{z}<br>radius=%{marker.size}<extra></extra>\", \"ids\": [\"Jupiter\"], \"legendgroup\": \"Jupiter\", \"marker\": {\"color\": \"chocolate\", \"size\": [11.154978283509006], \"sizemode\": \"area\", \"sizeref\": 0.050903371511914326, \"symbol\": \"circle\"}, \"mode\": \"markers\", \"name\": \"Jupiter\", \"scene\": \"scene\", \"showlegend\": true, \"x\": [41.32936644936809], \"y\": [57.77927043286278], \"z\": [23.756042768872142], \"type\": \"scatter3d\"}, {\"hovertemplate\": \"name=Earth<br>index=168<br>x=%{x}<br>y=%{y}<br>z=%{z}<br>radius=%{marker.size}<extra></extra>\", \"ids\": [\"Earth\"], \"legendgroup\": \"Earth\", \"marker\": {\"color\": \"green\", \"size\": [8.759511722116487], \"sizemode\": \"area\", \"sizeref\": 0.050903371511914326, \"symbol\": \"circle\"}, \"mode\": \"markers\", \"name\": \"Earth\", \"scene\": \"scene\", \"showlegend\": true, \"x\": [115.4245516313333], \"y\": [-90.37164460574445], \"z\": [-39.187317421424716], \"type\": \"scatter3d\"}], \"name\": \"168\"}, {\"data\": [{\"hovertemplate\": \"name=Sun<br>index=175<br>x=%{x}<br>y=%{y}<br>z=%{z}<br>radius=%{marker.size}<extra></extra>\", \"ids\": [\"Sun\"], \"legendgroup\": \"Sun\", \"marker\": {\"color\": \"orange\", \"size\": [20.36134860476573], \"sizemode\": \"area\", \"sizeref\": 0.050903371511914326, \"symbol\": \"circle\"}, \"mode\": \"markers\", \"name\": \"Sun\", \"scene\": \"scene\", \"showlegend\": true, \"x\": [3.5459130878228025], \"y\": [3.324753573810384], \"z\": [0.2878978972346809], \"type\": \"scatter3d\"}, {\"hovertemplate\": \"name=Mars<br>index=175<br>x=%{x}<br>y=%{y}<br>z=%{z}<br>radius=%{marker.size}<extra></extra>\", \"ids\": [\"Mars\"], \"legendgroup\": \"Mars\", \"marker\": {\"color\": \"crimson\", \"size\": [8.12843769687102], \"sizemode\": \"area\", \"sizeref\": 0.050903371511914326, \"symbol\": \"circle\"}, \"mode\": \"markers\", \"name\": \"Mars\", \"scene\": \"scene\", \"showlegend\": true, \"x\": [-43.85870878043151], \"y\": [62.13301941621725], \"z\": [29.690277979475074], \"type\": \"scatter3d\"}, {\"hovertemplate\": \"name=Mercury<br>index=175<br>x=%{x}<br>y=%{y}<br>z=%{z}<br>radius=%{marker.size}<extra></extra>\", \"ids\": [\"Mercury\"], \"legendgroup\": \"Mercury\", \"marker\": {\"color\": \"cornflowerblue\", \"size\": [7.7996303599085035], \"sizemode\": \"area\", \"sizeref\": 0.050903371511914326, \"symbol\": \"circle\"}, \"mode\": \"markers\", \"name\": \"Mercury\", \"scene\": \"scene\", \"showlegend\": true, \"x\": [-32.91776860129381], \"y\": [31.29207137296609], \"z\": [20.116059778575863], \"type\": \"scatter3d\"}, {\"hovertemplate\": \"name=Neptune<br>index=175<br>x=%{x}<br>y=%{y}<br>z=%{z}<br>radius=%{marker.size}<extra></extra>\", \"ids\": [\"Neptune\"], \"legendgroup\": \"Neptune\", \"marker\": {\"color\": \"cyan\", \"size\": [10.15120663641638], \"sizemode\": \"area\", \"sizeref\": 0.050903371511914326, \"symbol\": \"circle\"}, \"mode\": \"markers\", \"name\": \"Neptune\", \"scene\": \"scene\", \"showlegend\": true, \"x\": [260.25146246783356], \"y\": [-337.9694617479447], \"z\": [-144.79689366183518], \"type\": \"scatter3d\"}, {\"hovertemplate\": \"name=Saturn<br>index=175<br>x=%{x}<br>y=%{y}<br>z=%{z}<br>radius=%{marker.size}<extra></extra>\", \"ids\": [\"Saturn\"], \"legendgroup\": \"Saturn\", \"marker\": {\"color\": \"khaki\", \"size\": [10.972190310798094], \"sizemode\": \"area\", \"sizeref\": 0.050903371511914326, \"symbol\": \"circle\"}, \"mode\": \"markers\", \"name\": \"Saturn\", \"scene\": \"scene\", \"showlegend\": true, \"x\": [80.0999619401097], \"y\": [103.55307522273228], \"z\": [39.33015745097352], \"type\": \"scatter3d\"}, {\"hovertemplate\": \"name=Uranus<br>index=175<br>x=%{x}<br>y=%{y}<br>z=%{z}<br>radius=%{marker.size}<extra></extra>\", \"ids\": [\"Uranus\"], \"legendgroup\": \"Uranus\", \"marker\": {\"color\": \"lightcyan\", \"size\": [10.141007269794844], \"sizemode\": \"area\", \"sizeref\": 0.050903371511914326, \"symbol\": \"circle\"}, \"mode\": \"markers\", \"name\": \"Uranus\", \"scene\": \"scene\", \"showlegend\": true, \"x\": [224.91991955611172], \"y\": [-178.43436876461536], \"z\": [-81.3321027156839], \"type\": \"scatter3d\"}, {\"hovertemplate\": \"name=Jupiter<br>index=175<br>x=%{x}<br>y=%{y}<br>z=%{z}<br>radius=%{marker.size}<extra></extra>\", \"ids\": [\"Jupiter\"], \"legendgroup\": \"Jupiter\", \"marker\": {\"color\": \"chocolate\", \"size\": [11.154978283509006], \"sizemode\": \"area\", \"sizeref\": 0.050903371511914326, \"symbol\": \"circle\"}, \"mode\": \"markers\", \"name\": \"Jupiter\", \"scene\": \"scene\", \"showlegend\": true, \"x\": [40.657324840234246], \"y\": [58.205598216137474], \"z\": [23.95517437917201], \"type\": \"scatter3d\"}, {\"hovertemplate\": \"name=Earth<br>index=175<br>x=%{x}<br>y=%{y}<br>z=%{z}<br>radius=%{marker.size}<extra></extra>\", \"ids\": [\"Earth\"], \"legendgroup\": \"Earth\", \"marker\": {\"color\": \"green\", \"size\": [8.759511722116487], \"sizemode\": \"area\", \"sizeref\": 0.050903371511914326, \"symbol\": \"circle\"}, \"mode\": \"markers\", \"name\": \"Earth\", \"scene\": \"scene\", \"showlegend\": true, \"x\": [125.99919712108498], \"y\": [-77.27184564099157], \"z\": [-33.51042887612379], \"type\": \"scatter3d\"}], \"name\": \"175\"}, {\"data\": [{\"hovertemplate\": \"name=Sun<br>index=182<br>x=%{x}<br>y=%{y}<br>z=%{z}<br>radius=%{marker.size}<extra></extra>\", \"ids\": [\"Sun\"], \"legendgroup\": \"Sun\", \"marker\": {\"color\": \"orange\", \"size\": [20.36134860476573], \"sizemode\": \"area\", \"sizeref\": 0.050903371511914326, \"symbol\": \"circle\"}, \"mode\": \"markers\", \"name\": \"Sun\", \"scene\": \"scene\", \"showlegend\": true, \"x\": [3.7818837136293286], \"y\": [3.556552385130196], \"z\": [0.32676474829497765], \"type\": \"scatter3d\"}, {\"hovertemplate\": \"name=Mars<br>index=182<br>x=%{x}<br>y=%{y}<br>z=%{z}<br>radius=%{marker.size}<extra></extra>\", \"ids\": [\"Mars\"], \"legendgroup\": \"Mars\", \"marker\": {\"color\": \"crimson\", \"size\": [8.12843769687102], \"sizemode\": \"area\", \"sizeref\": 0.050903371511914326, \"symbol\": \"circle\"}, \"mode\": \"markers\", \"name\": \"Mars\", \"scene\": \"scene\", \"showlegend\": true, \"x\": [-47.71707134000647], \"y\": [59.98233325594532], \"z\": [28.8079306629673], \"type\": \"scatter3d\"}, {\"hovertemplate\": \"name=Mercury<br>index=182<br>x=%{x}<br>y=%{y}<br>z=%{z}<br>radius=%{marker.size}<extra></extra>\", \"ids\": [\"Mercury\"], \"legendgroup\": \"Mercury\", \"marker\": {\"color\": \"cornflowerblue\", \"size\": [7.7996303599085035], \"sizemode\": \"area\", \"sizeref\": 0.050903371511914326, \"symbol\": \"circle\"}, \"mode\": \"markers\", \"name\": \"Mercury\", \"scene\": \"scene\", \"showlegend\": true, \"x\": [-53.528352805279425], \"y\": [9.493754251987902], \"z\": [10.60821170884338], \"type\": \"scatter3d\"}, {\"hovertemplate\": \"name=Neptune<br>index=182<br>x=%{x}<br>y=%{y}<br>z=%{z}<br>radius=%{marker.size}<extra></extra>\", \"ids\": [\"Neptune\"], \"legendgroup\": \"Neptune\", \"marker\": {\"color\": \"cyan\", \"size\": [10.15120663641638], \"sizemode\": \"area\", \"sizeref\": 0.050903371511914326, \"symbol\": \"circle\"}, \"mode\": \"markers\", \"name\": \"Neptune\", \"scene\": \"scene\", \"showlegend\": true, \"x\": [260.51700203119503], \"y\": [-337.7887127505733], \"z\": [-144.7295121070437], \"type\": \"scatter3d\"}, {\"hovertemplate\": \"name=Saturn<br>index=182<br>x=%{x}<br>y=%{y}<br>z=%{z}<br>radius=%{marker.size}<extra></extra>\", \"ids\": [\"Saturn\"], \"legendgroup\": \"Saturn\", \"marker\": {\"color\": \"khaki\", \"size\": [10.972190310798094], \"sizemode\": \"area\", \"sizeref\": 0.050903371511914326, \"symbol\": \"circle\"}, \"mode\": \"markers\", \"name\": \"Saturn\", \"scene\": \"scene\", \"showlegend\": true, \"x\": [79.5946860387027], \"y\": [103.86025689485176], \"z\": [39.478746300165405], \"type\": \"scatter3d\"}, {\"hovertemplate\": \"name=Uranus<br>index=182<br>x=%{x}<br>y=%{y}<br>z=%{z}<br>radius=%{marker.size}<extra></extra>\", \"ids\": [\"Uranus\"], \"legendgroup\": \"Uranus\", \"marker\": {\"color\": \"lightcyan\", \"size\": [10.141007269794844], \"sizemode\": \"area\", \"sizeref\": 0.050903371511914326, \"symbol\": \"circle\"}, \"mode\": \"markers\", \"name\": \"Uranus\", \"scene\": \"scene\", \"showlegend\": true, \"x\": [225.18686951280577], \"y\": [-178.16534360660222], \"z\": [-81.21807607585971], \"type\": \"scatter3d\"}, {\"hovertemplate\": \"name=Jupiter<br>index=182<br>x=%{x}<br>y=%{y}<br>z=%{z}<br>radius=%{marker.size}<extra></extra>\", \"ids\": [\"Jupiter\"], \"legendgroup\": \"Jupiter\", \"marker\": {\"color\": \"chocolate\", \"size\": [11.154978283509006], \"sizemode\": \"area\", \"sizeref\": 0.050903371511914326, \"symbol\": \"circle\"}, \"mode\": \"markers\", \"name\": \"Jupiter\", \"scene\": \"scene\", \"showlegend\": true, \"x\": [39.98059384123949], \"y\": [58.62521172205428], \"z\": [24.151542336455424], \"type\": \"scatter3d\"}, {\"hovertemplate\": \"name=Earth<br>index=182<br>x=%{x}<br>y=%{y}<br>z=%{z}<br>radius=%{marker.size}<extra></extra>\", \"ids\": [\"Earth\"], \"legendgroup\": \"Earth\", \"marker\": {\"color\": \"green\", \"size\": [8.759511722116487], \"sizemode\": \"area\", \"sizeref\": 0.050903371511914326, \"symbol\": \"circle\"}, \"mode\": \"markers\", \"name\": \"Earth\", \"scene\": \"scene\", \"showlegend\": true, \"x\": [134.81874039953695], \"y\": [-63.095010622890356], \"z\": [-27.36662520219908], \"type\": \"scatter3d\"}], \"name\": \"182\"}, {\"data\": [{\"hovertemplate\": \"name=Sun<br>index=189<br>x=%{x}<br>y=%{y}<br>z=%{z}<br>radius=%{marker.size}<extra></extra>\", \"ids\": [\"Sun\"], \"legendgroup\": \"Sun\", \"marker\": {\"color\": \"orange\", \"size\": [20.36134860476573], \"sizemode\": \"area\", \"sizeref\": 0.050903371511914326, \"symbol\": \"circle\"}, \"mode\": \"markers\", \"name\": \"Sun\", \"scene\": \"scene\", \"showlegend\": true, \"x\": [4.02302629398718], \"y\": [3.7951457894078016], \"z\": [0.36844017671786944], \"type\": \"scatter3d\"}, {\"hovertemplate\": \"name=Mars<br>index=189<br>x=%{x}<br>y=%{y}<br>z=%{z}<br>radius=%{marker.size}<extra></extra>\", \"ids\": [\"Mars\"], \"legendgroup\": \"Mars\", \"marker\": {\"color\": \"crimson\", \"size\": [8.12843769687102], \"sizemode\": \"area\", \"sizeref\": 0.050903371511914326, \"symbol\": \"circle\"}, \"mode\": \"markers\", \"name\": \"Mars\", \"scene\": \"scene\", \"showlegend\": true, \"x\": [-51.41912798177494], \"y\": [57.635277602264516], \"z\": [27.831255819818583], \"type\": \"scatter3d\"}, {\"hovertemplate\": \"name=Mercury<br>index=189<br>x=%{x}<br>y=%{y}<br>z=%{z}<br>radius=%{marker.size}<extra></extra>\", \"ids\": [\"Mercury\"], \"legendgroup\": \"Mercury\", \"marker\": {\"color\": \"cornflowerblue\", \"size\": [7.7996303599085035], \"sizemode\": \"area\", \"sizeref\": 0.050903371511914326, \"symbol\": \"circle\"}, \"mode\": \"markers\", \"name\": \"Mercury\", \"scene\": \"scene\", \"showlegend\": true, \"x\": [-59.250756515594], \"y\": [-15.333963975817644], \"z\": [-2.061157503720311], \"type\": \"scatter3d\"}, {\"hovertemplate\": \"name=Neptune<br>index=189<br>x=%{x}<br>y=%{y}<br>z=%{z}<br>radius=%{marker.size}<extra></extra>\", \"ids\": [\"Neptune\"], \"legendgroup\": \"Neptune\", \"marker\": {\"color\": \"cyan\", \"size\": [10.15120663641638], \"sizemode\": \"area\", \"sizeref\": 0.050903371511914326, \"symbol\": \"circle\"}, \"mode\": \"markers\", \"name\": \"Neptune\", \"scene\": \"scene\", \"showlegend\": true, \"x\": [260.7824031150249], \"y\": [-337.6077840836092], \"z\": [-144.66205357417897], \"type\": \"scatter3d\"}, {\"hovertemplate\": \"name=Saturn<br>index=189<br>x=%{x}<br>y=%{y}<br>z=%{z}<br>radius=%{marker.size}<extra></extra>\", \"ids\": [\"Saturn\"], \"legendgroup\": \"Saturn\", \"marker\": {\"color\": \"khaki\", \"size\": [10.972190310798094], \"sizemode\": \"area\", \"sizeref\": 0.050903371511914326, \"symbol\": \"circle\"}, \"mode\": \"markers\", \"name\": \"Saturn\", \"scene\": \"scene\", \"showlegend\": true, \"x\": [79.0878890255398], \"y\": [104.16545490785772], \"z\": [39.626581474148544], \"type\": \"scatter3d\"}, {\"hovertemplate\": \"name=Uranus<br>index=189<br>x=%{x}<br>y=%{y}<br>z=%{z}<br>radius=%{marker.size}<extra></extra>\", \"ids\": [\"Uranus\"], \"legendgroup\": \"Uranus\", \"marker\": {\"color\": \"lightcyan\", \"size\": [10.141007269794844], \"sizemode\": \"area\", \"sizeref\": 0.050903371511914326, \"symbol\": \"circle\"}, \"mode\": \"markers\", \"name\": \"Uranus\", \"scene\": \"scene\", \"showlegend\": true, \"x\": [225.45340778290898], \"y\": [-177.895992587269], \"z\": [-81.10390089412729], \"type\": \"scatter3d\"}, {\"hovertemplate\": \"name=Jupiter<br>index=189<br>x=%{x}<br>y=%{y}<br>z=%{z}<br>radius=%{marker.size}<extra></extra>\", \"ids\": [\"Jupiter\"], \"legendgroup\": \"Jupiter\", \"marker\": {\"color\": \"chocolate\", \"size\": [11.154978283509006], \"sizemode\": \"area\", \"sizeref\": 0.050903371511914326, \"symbol\": \"circle\"}, \"mode\": \"markers\", \"name\": \"Jupiter\", \"scene\": \"scene\", \"showlegend\": true, \"x\": [39.2992563330761], \"y\": [59.03806950291663], \"z\": [24.345126847132924], \"type\": \"scatter3d\"}, {\"hovertemplate\": \"name=Earth<br>index=189<br>x=%{x}<br>y=%{y}<br>z=%{z}<br>radius=%{marker.size}<extra></extra>\", \"ids\": [\"Earth\"], \"legendgroup\": \"Earth\", \"marker\": {\"color\": \"green\", \"size\": [8.759511722116487], \"sizemode\": \"area\", \"sizeref\": 0.050903371511914326, \"symbol\": \"circle\"}, \"mode\": \"markers\", \"name\": \"Earth\", \"scene\": \"scene\", \"showlegend\": true, \"x\": [141.75228124388025], \"y\": [-48.034881065863935], \"z\": [-20.83987600678685], \"type\": \"scatter3d\"}], \"name\": \"189\"}, {\"data\": [{\"hovertemplate\": \"name=Sun<br>index=196<br>x=%{x}<br>y=%{y}<br>z=%{z}<br>radius=%{marker.size}<extra></extra>\", \"ids\": [\"Sun\"], \"legendgroup\": \"Sun\", \"marker\": {\"color\": \"orange\", \"size\": [20.36134860476573], \"sizemode\": \"area\", \"sizeref\": 0.050903371511914326, \"symbol\": \"circle\"}, \"mode\": \"markers\", \"name\": \"Sun\", \"scene\": \"scene\", \"showlegend\": true, \"x\": [4.269327597102605], \"y\": [4.040532424039826], \"z\": [0.4129111303650566], \"type\": \"scatter3d\"}, {\"hovertemplate\": \"name=Mars<br>index=196<br>x=%{x}<br>y=%{y}<br>z=%{z}<br>radius=%{marker.size}<extra></extra>\", \"ids\": [\"Mars\"], \"legendgroup\": \"Mars\", \"marker\": {\"color\": \"crimson\", \"size\": [8.12843769687102], \"sizemode\": \"area\", \"sizeref\": 0.050903371511914326, \"symbol\": \"circle\"}, \"mode\": \"markers\", \"name\": \"Mars\", \"scene\": \"scene\", \"showlegend\": true, \"x\": [-54.954090399245544], \"y\": [55.10104029137801], \"z\": [26.764176362671915], \"type\": \"scatter3d\"}, {\"hovertemplate\": \"name=Mercury<br>index=196<br>x=%{x}<br>y=%{y}<br>z=%{z}<br>radius=%{marker.size}<extra></extra>\", \"ids\": [\"Mercury\"], \"legendgroup\": \"Mercury\", \"marker\": {\"color\": \"cornflowerblue\", \"size\": [7.7996303599085035], \"sizemode\": \"area\", \"sizeref\": 0.050903371511914326, \"symbol\": \"circle\"}, \"mode\": \"markers\", \"name\": \"Mercury\", \"scene\": \"scene\", \"showlegend\": true, \"x\": [-52.52555880085224], \"y\": [-37.15571399452579], \"z\": [-14.415204362974924], \"type\": \"scatter3d\"}, {\"hovertemplate\": \"name=Neptune<br>index=196<br>x=%{x}<br>y=%{y}<br>z=%{z}<br>radius=%{marker.size}<extra></extra>\", \"ids\": [\"Neptune\"], \"legendgroup\": \"Neptune\", \"marker\": {\"color\": \"cyan\", \"size\": [10.15120663641638], \"sizemode\": \"area\", \"sizeref\": 0.050903371511914326, \"symbol\": \"circle\"}, \"mode\": \"markers\", \"name\": \"Neptune\", \"scene\": \"scene\", \"showlegend\": true, \"x\": [261.047665575076], \"y\": [-337.42667583934997], \"z\": [-144.59451809745266], \"type\": \"scatter3d\"}, {\"hovertemplate\": \"name=Saturn<br>index=196<br>x=%{x}<br>y=%{y}<br>z=%{z}<br>radius=%{marker.size}<extra></extra>\", \"ids\": [\"Saturn\"], \"legendgroup\": \"Saturn\", \"marker\": {\"color\": \"khaki\", \"size\": [10.972190310798094], \"sizemode\": \"area\", \"sizeref\": 0.050903371511914326, \"symbol\": \"circle\"}, \"mode\": \"markers\", \"name\": \"Saturn\", \"scene\": \"scene\", \"showlegend\": true, \"x\": [78.57957987300423], \"y\": [104.46866264559176], \"z\": [39.773659852219104], \"type\": \"scatter3d\"}, {\"hovertemplate\": \"name=Uranus<br>index=196<br>x=%{x}<br>y=%{y}<br>z=%{z}<br>radius=%{marker.size}<extra></extra>\", \"ids\": [\"Uranus\"], \"legendgroup\": \"Uranus\", \"marker\": {\"color\": \"lightcyan\", \"size\": [10.141007269794844], \"sizemode\": \"area\", \"sizeref\": 0.050903371511914326, \"symbol\": \"circle\"}, \"mode\": \"markers\", \"name\": \"Uranus\", \"scene\": \"scene\", \"showlegend\": true, \"x\": [225.71953391937973], \"y\": [-177.6263162314096], \"z\": [-80.98957739406345], \"type\": \"scatter3d\"}, {\"hovertemplate\": \"name=Jupiter<br>index=196<br>x=%{x}<br>y=%{y}<br>z=%{z}<br>radius=%{marker.size}<extra></extra>\", \"ids\": [\"Jupiter\"], \"legendgroup\": \"Jupiter\", \"marker\": {\"color\": \"chocolate\", \"size\": [11.154978283509006], \"sizemode\": \"area\", \"sizeref\": 0.050903371511914326, \"symbol\": \"circle\"}, \"mode\": \"markers\", \"name\": \"Jupiter\", \"scene\": \"scene\", \"showlegend\": true, \"x\": [38.61339561709812], \"y\": [59.44413106532506], \"z\": [24.535908516480916], \"type\": \"scatter3d\"}, {\"hovertemplate\": \"name=Earth<br>index=196<br>x=%{x}<br>y=%{y}<br>z=%{z}<br>radius=%{marker.size}<extra></extra>\", \"ids\": [\"Earth\"], \"legendgroup\": \"Earth\", \"marker\": {\"color\": \"green\", \"size\": [8.759511722116487], \"sizemode\": \"area\", \"sizeref\": 0.050903371511914326, \"symbol\": \"circle\"}, \"mode\": \"markers\", \"name\": \"Earth\", \"scene\": \"scene\", \"showlegend\": true, \"x\": [146.69338577648935], \"y\": [-32.29896720529329], \"z\": [-14.020120013876117], \"type\": \"scatter3d\"}], \"name\": \"196\"}, {\"data\": [{\"hovertemplate\": \"name=Sun<br>index=203<br>x=%{x}<br>y=%{y}<br>z=%{z}<br>radius=%{marker.size}<extra></extra>\", \"ids\": [\"Sun\"], \"legendgroup\": \"Sun\", \"marker\": {\"color\": \"orange\", \"size\": [20.36134860476573], \"sizemode\": \"area\", \"sizeref\": 0.050903371511914326, \"symbol\": \"circle\"}, \"mode\": \"markers\", \"name\": \"Sun\", \"scene\": \"scene\", \"showlegend\": true, \"x\": [4.520787465229666], \"y\": [4.292762582314863], \"z\": [0.4601896888352747], \"type\": \"scatter3d\"}, {\"hovertemplate\": \"name=Mars<br>index=203<br>x=%{x}<br>y=%{y}<br>z=%{z}<br>radius=%{marker.size}<extra></extra>\", \"ids\": [\"Mars\"], \"legendgroup\": \"Mars\", \"marker\": {\"color\": \"crimson\", \"size\": [8.12843769687102], \"sizemode\": \"area\", \"sizeref\": 0.050903371511914326, \"symbol\": \"circle\"}, \"mode\": \"markers\", \"name\": \"Mars\", \"scene\": \"scene\", \"showlegend\": true, \"x\": [-58.311743483275734], \"y\": [52.38913207308785], \"z\": [25.610778883401803], \"type\": \"scatter3d\"}, {\"hovertemplate\": \"name=Mercury<br>index=203<br>x=%{x}<br>y=%{y}<br>z=%{z}<br>radius=%{marker.size}<extra></extra>\", \"ids\": [\"Mercury\"], \"legendgroup\": \"Mercury\", \"marker\": {\"color\": \"cornflowerblue\", \"size\": [7.7996303599085035], \"sizemode\": \"area\", \"sizeref\": 0.050903371511914326, \"symbol\": \"circle\"}, \"mode\": \"markers\", \"name\": \"Mercury\", \"scene\": \"scene\", \"showlegend\": true, \"x\": [-36.89908275636458], \"y\": [-52.813332474685005], \"z\": [-24.39934835163006], \"type\": \"scatter3d\"}, {\"hovertemplate\": \"name=Neptune<br>index=203<br>x=%{x}<br>y=%{y}<br>z=%{z}<br>radius=%{marker.size}<extra></extra>\", \"ids\": [\"Neptune\"], \"legendgroup\": \"Neptune\", \"marker\": {\"color\": \"cyan\", \"size\": [10.15120663641638], \"sizemode\": \"area\", \"sizeref\": 0.050903371511914326, \"symbol\": \"circle\"}, \"mode\": \"markers\", \"name\": \"Neptune\", \"scene\": \"scene\", \"showlegend\": true, \"x\": [261.3127892671693], \"y\": [-337.2453881101888], \"z\": [-144.526905711117], \"type\": \"scatter3d\"}, {\"hovertemplate\": \"name=Saturn<br>index=203<br>x=%{x}<br>y=%{y}<br>z=%{z}<br>radius=%{marker.size}<extra></extra>\", \"ids\": [\"Saturn\"], \"legendgroup\": \"Saturn\", \"marker\": {\"color\": \"khaki\", \"size\": [10.972190310798094], \"sizemode\": \"area\", \"sizeref\": 0.050903371511914326, \"symbol\": \"circle\"}, \"mode\": \"markers\", \"name\": \"Saturn\", \"scene\": \"scene\", \"showlegend\": true, \"x\": [78.06976759542155], \"y\": [104.7698735305631], \"z\": [39.91997832770451], \"type\": \"scatter3d\"}, {\"hovertemplate\": \"name=Uranus<br>index=203<br>x=%{x}<br>y=%{y}<br>z=%{z}<br>radius=%{marker.size}<extra></extra>\", \"ids\": [\"Uranus\"], \"legendgroup\": \"Uranus\", \"marker\": {\"color\": \"lightcyan\", \"size\": [10.141007269794844], \"sizemode\": \"area\", \"sizeref\": 0.050903371511914326, \"symbol\": \"circle\"}, \"mode\": \"markers\", \"name\": \"Uranus\", \"scene\": \"scene\", \"showlegend\": true, \"x\": [225.9852474759313], \"y\": [-177.35631506422047], \"z\": [-80.87510579943212], \"type\": \"scatter3d\"}, {\"hovertemplate\": \"name=Jupiter<br>index=203<br>x=%{x}<br>y=%{y}<br>z=%{z}<br>radius=%{marker.size}<extra></extra>\", \"ids\": [\"Jupiter\"], \"legendgroup\": \"Jupiter\", \"marker\": {\"color\": \"chocolate\", \"size\": [11.154978283509006], \"sizemode\": \"area\", \"sizeref\": 0.050903371511914326, \"symbol\": \"circle\"}, \"mode\": \"markers\", \"name\": \"Jupiter\", \"scene\": \"scene\", \"showlegend\": true, \"x\": [37.923095400581765], \"y\": [59.843356872775146], \"z\": [24.723868350114678], \"type\": \"scatter3d\"}, {\"hovertemplate\": \"name=Earth<br>index=203<br>x=%{x}<br>y=%{y}<br>z=%{z}<br>radius=%{marker.size}<extra></extra>\", \"ids\": [\"Earth\"], \"legendgroup\": \"Earth\", \"marker\": {\"color\": \"green\", \"size\": [8.759511722116487], \"sizemode\": \"area\", \"sizeref\": 0.050903371511914326, \"symbol\": \"circle\"}, \"mode\": \"markers\", \"name\": \"Earth\", \"scene\": \"scene\", \"showlegend\": true, \"x\": [149.56193828424102], \"y\": [-16.106131787059372], \"z\": [-7.002217864391783], \"type\": \"scatter3d\"}], \"name\": \"203\"}, {\"data\": [{\"hovertemplate\": \"name=Sun<br>index=210<br>x=%{x}<br>y=%{y}<br>z=%{z}<br>radius=%{marker.size}<extra></extra>\", \"ids\": [\"Sun\"], \"legendgroup\": \"Sun\", \"marker\": {\"color\": \"orange\", \"size\": [20.36134860476573], \"sizemode\": \"area\", \"sizeref\": 0.050903371511914326, \"symbol\": \"circle\"}, \"mode\": \"markers\", \"name\": \"Sun\", \"scene\": \"scene\", \"showlegend\": true, \"x\": [4.7773953338322706], \"y\": [4.551915299417421], \"z\": [0.5103032883089639], \"type\": \"scatter3d\"}, {\"hovertemplate\": \"name=Mars<br>index=210<br>x=%{x}<br>y=%{y}<br>z=%{z}<br>radius=%{marker.size}<extra></extra>\", \"ids\": [\"Mars\"], \"legendgroup\": \"Mars\", \"marker\": {\"color\": \"crimson\", \"size\": [8.12843769687102], \"sizemode\": \"area\", \"sizeref\": 0.050903371511914326, \"symbol\": \"circle\"}, \"mode\": \"markers\", \"name\": \"Mars\", \"scene\": \"scene\", \"showlegend\": true, \"x\": [-61.48243725985586], \"y\": [49.50936612920347], \"z\": [24.37530403792753], \"type\": \"scatter3d\"}, {\"hovertemplate\": \"name=Mercury<br>index=210<br>x=%{x}<br>y=%{y}<br>z=%{z}<br>radius=%{marker.size}<extra></extra>\", \"ids\": [\"Mercury\"], \"legendgroup\": \"Mercury\", \"marker\": {\"color\": \"cornflowerblue\", \"size\": [7.7996303599085035], \"sizemode\": \"area\", \"sizeref\": 0.050903371511914326, \"symbol\": \"circle\"}, \"mode\": \"markers\", \"name\": \"Mercury\", \"scene\": \"scene\", \"showlegend\": true, \"x\": [-15.785339274600094], \"y\": [-60.70243229313077], \"z\": [-30.80268878621432], \"type\": \"scatter3d\"}, {\"hovertemplate\": \"name=Neptune<br>index=210<br>x=%{x}<br>y=%{y}<br>z=%{z}<br>radius=%{marker.size}<extra></extra>\", \"ids\": [\"Neptune\"], \"legendgroup\": \"Neptune\", \"marker\": {\"color\": \"cyan\", \"size\": [10.15120663641638], \"sizemode\": \"area\", \"sizeref\": 0.050903371511914326, \"symbol\": \"circle\"}, \"mode\": \"markers\", \"name\": \"Neptune\", \"scene\": \"scene\", \"showlegend\": true, \"x\": [261.5777740471947], \"y\": [-337.0639209886144], \"z\": [-144.45921644946498], \"type\": \"scatter3d\"}, {\"hovertemplate\": \"name=Saturn<br>index=210<br>x=%{x}<br>y=%{y}<br>z=%{z}<br>radius=%{marker.size}<extra></extra>\", \"ids\": [\"Saturn\"], \"legendgroup\": \"Saturn\", \"marker\": {\"color\": \"khaki\", \"size\": [10.972190310798094], \"sizemode\": \"area\", \"sizeref\": 0.050903371511914326, \"symbol\": \"circle\"}, \"mode\": \"markers\", \"name\": \"Saturn\", \"scene\": \"scene\", \"showlegend\": true, \"x\": [77.55846124891106], \"y\": [105.06908102413485], \"z\": [40.06553380804922], \"type\": \"scatter3d\"}, {\"hovertemplate\": \"name=Uranus<br>index=210<br>x=%{x}<br>y=%{y}<br>z=%{z}<br>radius=%{marker.size}<extra></extra>\", \"ids\": [\"Uranus\"], \"legendgroup\": \"Uranus\", \"marker\": {\"color\": \"lightcyan\", \"size\": [10.141007269794844], \"sizemode\": \"area\", \"sizeref\": 0.050903371511914326, \"symbol\": \"circle\"}, \"mode\": \"markers\", \"name\": \"Uranus\", \"scene\": \"scene\", \"showlegend\": true, \"x\": [226.25054800703256], \"y\": [-177.08598961129996], \"z\": [-80.76048633418418], \"type\": \"scatter3d\"}, {\"hovertemplate\": \"name=Jupiter<br>index=210<br>x=%{x}<br>y=%{y}<br>z=%{z}<br>radius=%{marker.size}<extra></extra>\", \"ids\": [\"Jupiter\"], \"legendgroup\": \"Jupiter\", \"marker\": {\"color\": \"chocolate\", \"size\": [11.154978283509006], \"sizemode\": \"area\", \"sizeref\": 0.050903371511914326, \"symbol\": \"circle\"}, \"mode\": \"markers\", \"name\": \"Jupiter\", \"scene\": \"scene\", \"showlegend\": true, \"x\": [37.2284397820011], \"y\": [60.235708348029945], \"z\": [24.908987755363597], \"type\": \"scatter3d\"}, {\"hovertemplate\": \"name=Earth<br>index=210<br>x=%{x}<br>y=%{y}<br>z=%{z}<br>radius=%{marker.size}<extra></extra>\", \"ids\": [\"Earth\"], \"legendgroup\": \"Earth\", \"marker\": {\"color\": \"green\", \"size\": [8.759511722116487], \"sizemode\": \"area\", \"sizeref\": 0.050903371511914326, \"symbol\": \"circle\"}, \"mode\": \"markers\", \"name\": \"Earth\", \"scene\": \"scene\", \"showlegend\": true, \"x\": [150.30575641792157], \"y\": [0.31606674697707127], \"z\": [0.11519938347246005], \"type\": \"scatter3d\"}], \"name\": \"210\"}, {\"data\": [{\"hovertemplate\": \"name=Sun<br>index=217<br>x=%{x}<br>y=%{y}<br>z=%{z}<br>radius=%{marker.size}<extra></extra>\", \"ids\": [\"Sun\"], \"legendgroup\": \"Sun\", \"marker\": {\"color\": \"orange\", \"size\": [20.36134860476573], \"sizemode\": \"area\", \"sizeref\": 0.050903371511914326, \"symbol\": \"circle\"}, \"mode\": \"markers\", \"name\": \"Sun\", \"scene\": \"scene\", \"showlegend\": true, \"x\": [5.039128527751126], \"y\": [4.81808411322816], \"z\": [0.5632873385550305], \"type\": \"scatter3d\"}, {\"hovertemplate\": \"name=Mars<br>index=217<br>x=%{x}<br>y=%{y}<br>z=%{z}<br>radius=%{marker.size}<extra></extra>\", \"ids\": [\"Mars\"], \"legendgroup\": \"Mars\", \"marker\": {\"color\": \"crimson\", \"size\": [8.12843769687102], \"sizemode\": \"area\", \"sizeref\": 0.050903371511914326, \"symbol\": \"circle\"}, \"mode\": \"markers\", \"name\": \"Mars\", \"scene\": \"scene\", \"showlegend\": true, \"x\": [-64.45707939557776], \"y\": [46.47184020324544], \"z\": [23.062138144326674], \"type\": \"scatter3d\"}, {\"hovertemplate\": \"name=Mercury<br>index=217<br>x=%{x}<br>y=%{y}<br>z=%{z}<br>radius=%{marker.size}<extra></extra>\", \"ids\": [\"Mercury\"], \"legendgroup\": \"Mercury\", \"marker\": {\"color\": \"cornflowerblue\", \"size\": [7.7996303599085035], \"sizemode\": \"area\", \"sizeref\": 0.050903371511914326, \"symbol\": \"circle\"}, \"mode\": \"markers\", \"name\": \"Mercury\", \"scene\": \"scene\", \"showlegend\": true, \"x\": [7.565010417393774], \"y\": [-60.006437776576846], \"z\": [-32.852075044240785], \"type\": \"scatter3d\"}, {\"hovertemplate\": \"name=Neptune<br>index=217<br>x=%{x}<br>y=%{y}<br>z=%{z}<br>radius=%{marker.size}<extra></extra>\", \"ids\": [\"Neptune\"], \"legendgroup\": \"Neptune\", \"marker\": {\"color\": \"cyan\", \"size\": [10.15120663641638], \"sizemode\": \"area\", \"sizeref\": 0.050903371511914326, \"symbol\": \"circle\"}, \"mode\": \"markers\", \"name\": \"Neptune\", \"scene\": \"scene\", \"showlegend\": true, \"x\": [261.8426197711105], \"y\": [-336.88227456721063], \"z\": [-144.39145034683028], \"type\": \"scatter3d\"}, {\"hovertemplate\": \"name=Saturn<br>index=217<br>x=%{x}<br>y=%{y}<br>z=%{z}<br>radius=%{marker.size}<extra></extra>\", \"ids\": [\"Saturn\"], \"legendgroup\": \"Saturn\", \"marker\": {\"color\": \"khaki\", \"size\": [10.972190310798094], \"sizemode\": \"area\", \"sizeref\": 0.050903371511914326, \"symbol\": \"circle\"}, \"mode\": \"markers\", \"name\": \"Saturn\", \"scene\": \"scene\", \"showlegend\": true, \"x\": [77.04566993123228], \"y\": [105.36627862670792], \"z\": [40.210323214899844], \"type\": \"scatter3d\"}, {\"hovertemplate\": \"name=Uranus<br>index=217<br>x=%{x}<br>y=%{y}<br>z=%{z}<br>radius=%{marker.size}<extra></extra>\", \"ids\": [\"Uranus\"], \"legendgroup\": \"Uranus\", \"marker\": {\"color\": \"lightcyan\", \"size\": [10.141007269794844], \"sizemode\": \"area\", \"sizeref\": 0.050903371511914326, \"symbol\": \"circle\"}, \"mode\": \"markers\", \"name\": \"Uranus\", \"scene\": \"scene\", \"showlegend\": true, \"x\": [226.51543506790836], \"y\": [-176.81534039864775], \"z\": [-80.64571922245707], \"type\": \"scatter3d\"}, {\"hovertemplate\": \"name=Jupiter<br>index=217<br>x=%{x}<br>y=%{y}<br>z=%{z}<br>radius=%{marker.size}<extra></extra>\", \"ids\": [\"Jupiter\"], \"legendgroup\": \"Jupiter\", \"marker\": {\"color\": \"chocolate\", \"size\": [11.154978283509006], \"sizemode\": \"area\", \"sizeref\": 0.050903371511914326, \"symbol\": \"circle\"}, \"mode\": \"markers\", \"name\": \"Jupiter\", \"scene\": \"scene\", \"showlegend\": true, \"x\": [36.52951323632008], \"y\": [60.62114787527058], \"z\": [25.09124854255054], \"type\": \"scatter3d\"}, {\"hovertemplate\": \"name=Earth<br>index=217<br>x=%{x}<br>y=%{y}<br>z=%{z}<br>radius=%{marker.size}<extra></extra>\", \"ids\": [\"Earth\"], \"legendgroup\": \"Earth\", \"marker\": {\"color\": \"green\", \"size\": [8.759511722116487], \"sizemode\": \"area\", \"sizeref\": 0.050903371511914326, \"symbol\": \"circle\"}, \"mode\": \"markers\", \"name\": \"Earth\", \"scene\": \"scene\", \"showlegend\": true, \"x\": [148.9019257137209], \"y\": [16.734263311186638], \"z\": [7.230982429712476], \"type\": \"scatter3d\"}], \"name\": \"217\"}, {\"data\": [{\"hovertemplate\": \"name=Sun<br>index=224<br>x=%{x}<br>y=%{y}<br>z=%{z}<br>radius=%{marker.size}<extra></extra>\", \"ids\": [\"Sun\"], \"legendgroup\": \"Sun\", \"marker\": {\"color\": \"orange\", \"size\": [20.36134860476573], \"sizemode\": \"area\", \"sizeref\": 0.050903371511914326, \"symbol\": \"circle\"}, \"mode\": \"markers\", \"name\": \"Sun\", \"scene\": \"scene\", \"showlegend\": true, \"x\": [5.305956903039298], \"y\": [5.091371274995278], \"z\": [0.6191817126151692], \"type\": \"scatter3d\"}, {\"hovertemplate\": \"name=Mars<br>index=224<br>x=%{x}<br>y=%{y}<br>z=%{z}<br>radius=%{marker.size}<extra></extra>\", \"ids\": [\"Mars\"], \"legendgroup\": \"Mars\", \"marker\": {\"color\": \"crimson\", \"size\": [8.12843769687102], \"sizemode\": \"area\", \"sizeref\": 0.050903371511914326, \"symbol\": \"circle\"}, \"mode\": \"markers\", \"name\": \"Mars\", \"scene\": \"scene\", \"showlegend\": true, \"x\": [-67.2271285317083], \"y\": [43.286921104937925], \"z\": [21.675805892939948], \"type\": \"scatter3d\"}, {\"hovertemplate\": \"name=Mercury<br>index=224<br>x=%{x}<br>y=%{y}<br>z=%{z}<br>radius=%{marker.size}<extra></extra>\", \"ids\": [\"Mercury\"], \"legendgroup\": \"Mercury\", \"marker\": {\"color\": \"cornflowerblue\", \"size\": [7.7996303599085035], \"sizemode\": \"area\", \"sizeref\": 0.050903371511914326, \"symbol\": \"circle\"}, \"mode\": \"markers\", \"name\": \"Mercury\", \"scene\": \"scene\", \"showlegend\": true, \"x\": [29.75185277037635], \"y\": [-50.43411589360465], \"z\": [-30.039480824608393], \"type\": \"scatter3d\"}, {\"hovertemplate\": \"name=Neptune<br>index=224<br>x=%{x}<br>y=%{y}<br>z=%{z}<br>radius=%{marker.size}<extra></extra>\", \"ids\": [\"Neptune\"], \"legendgroup\": \"Neptune\", \"marker\": {\"color\": \"cyan\", \"size\": [10.15120663641638], \"sizemode\": \"area\", \"sizeref\": 0.050903371511914326, \"symbol\": \"circle\"}, \"mode\": \"markers\", \"name\": \"Neptune\", \"scene\": \"scene\", \"showlegend\": true, \"x\": [262.107326294944], \"y\": [-336.70044893865696], \"z\": [-144.32360743758733], \"type\": \"scatter3d\"}, {\"hovertemplate\": \"name=Saturn<br>index=224<br>x=%{x}<br>y=%{y}<br>z=%{z}<br>radius=%{marker.size}<extra></extra>\", \"ids\": [\"Saturn\"], \"legendgroup\": \"Saturn\", \"marker\": {\"color\": \"khaki\", \"size\": [10.972190310798094], \"sizemode\": \"area\", \"sizeref\": 0.050903371511914326, \"symbol\": \"circle\"}, \"mode\": \"markers\", \"name\": \"Saturn\", \"scene\": \"scene\", \"showlegend\": true, \"x\": [76.53140278162651], \"y\": [105.66145987790203], \"z\": [40.3543434841897], \"type\": \"scatter3d\"}, {\"hovertemplate\": \"name=Uranus<br>index=224<br>x=%{x}<br>y=%{y}<br>z=%{z}<br>radius=%{marker.size}<extra></extra>\", \"ids\": [\"Uranus\"], \"legendgroup\": \"Uranus\", \"marker\": {\"color\": \"lightcyan\", \"size\": [10.141007269794844], \"sizemode\": \"area\", \"sizeref\": 0.050903371511914326, \"symbol\": \"circle\"}, \"mode\": \"markers\", \"name\": \"Uranus\", \"scene\": \"scene\", \"showlegend\": true, \"x\": [226.77990821453955], \"y\": [-176.54436795266392], \"z\": [-80.53080468857453], \"type\": \"scatter3d\"}, {\"hovertemplate\": \"name=Jupiter<br>index=224<br>x=%{x}<br>y=%{y}<br>z=%{z}<br>radius=%{marker.size}<extra></extra>\", \"ids\": [\"Jupiter\"], \"legendgroup\": \"Jupiter\", \"marker\": {\"color\": \"chocolate\", \"size\": [11.154978283509006], \"sizemode\": \"area\", \"sizeref\": 0.050903371511914326, \"symbol\": \"circle\"}, \"mode\": \"markers\", \"name\": \"Jupiter\", \"scene\": \"scene\", \"showlegend\": true, \"x\": [35.82640060030531], \"y\": [60.99963880202876], \"z\": [25.2706329261772], \"type\": \"scatter3d\"}, {\"hovertemplate\": \"name=Earth<br>index=224<br>x=%{x}<br>y=%{y}<br>z=%{z}<br>radius=%{marker.size}<extra></extra>\", \"ids\": [\"Earth\"], \"legendgroup\": \"Earth\", \"marker\": {\"color\": \"green\", \"size\": [8.759511722116487], \"sizemode\": \"area\", \"sizeref\": 0.050903371511914326, \"symbol\": \"circle\"}, \"mode\": \"markers\", \"name\": \"Earth\", \"scene\": \"scene\", \"showlegend\": true, \"x\": [145.357805783005], \"y\": [32.9123913848805], \"z\": [14.242809615693192], \"type\": \"scatter3d\"}], \"name\": \"224\"}, {\"data\": [{\"hovertemplate\": \"name=Sun<br>index=231<br>x=%{x}<br>y=%{y}<br>z=%{z}<br>radius=%{marker.size}<extra></extra>\", \"ids\": [\"Sun\"], \"legendgroup\": \"Sun\", \"marker\": {\"color\": \"orange\", \"size\": [20.36134860476573], \"sizemode\": \"area\", \"sizeref\": 0.050903371511914326, \"symbol\": \"circle\"}, \"mode\": \"markers\", \"name\": \"Sun\", \"scene\": \"scene\", \"showlegend\": true, \"x\": [5.57784956989652], \"y\": [5.371888809599599], \"z\": [0.6780306972413417], \"type\": \"scatter3d\"}, {\"hovertemplate\": \"name=Mars<br>index=231<br>x=%{x}<br>y=%{y}<br>z=%{z}<br>radius=%{marker.size}<extra></extra>\", \"ids\": [\"Mars\"], \"legendgroup\": \"Mars\", \"marker\": {\"color\": \"crimson\", \"size\": [8.12843769687102], \"sizemode\": \"area\", \"sizeref\": 0.050903371511914326, \"symbol\": \"circle\"}, \"mode\": \"markers\", \"name\": \"Mars\", \"scene\": \"scene\", \"showlegend\": true, \"x\": [-69.78458867809744], \"y\": [39.965231354285876], \"z\": [20.220964066836597], \"type\": \"scatter3d\"}, {\"hovertemplate\": \"name=Mercury<br>index=231<br>x=%{x}<br>y=%{y}<br>z=%{z}<br>radius=%{marker.size}<extra></extra>\", \"ids\": [\"Mercury\"], \"legendgroup\": \"Mercury\", \"marker\": {\"color\": \"cornflowerblue\", \"size\": [7.7996303599085035], \"sizemode\": \"area\", \"sizeref\": 0.050903371511914326, \"symbol\": \"circle\"}, \"mode\": \"markers\", \"name\": \"Mercury\", \"scene\": \"scene\", \"showlegend\": true, \"x\": [46.802983184973], \"y\": [-32.37587128797044], \"z\": [-22.161679145443824], \"type\": \"scatter3d\"}, {\"hovertemplate\": \"name=Neptune<br>index=231<br>x=%{x}<br>y=%{y}<br>z=%{z}<br>radius=%{marker.size}<extra></extra>\", \"ids\": [\"Neptune\"], \"legendgroup\": \"Neptune\", \"marker\": {\"color\": \"cyan\", \"size\": [10.15120663641638], \"sizemode\": \"area\", \"sizeref\": 0.050903371511914326, \"symbol\": \"circle\"}, \"mode\": \"markers\", \"name\": \"Neptune\", \"scene\": \"scene\", \"showlegend\": true, \"x\": [262.3718934747916], \"y\": [-336.51844419572825], \"z\": [-144.25568775615122], \"type\": \"scatter3d\"}, {\"hovertemplate\": \"name=Saturn<br>index=231<br>x=%{x}<br>y=%{y}<br>z=%{z}<br>radius=%{marker.size}<extra></extra>\", \"ids\": [\"Saturn\"], \"legendgroup\": \"Saturn\", \"marker\": {\"color\": \"khaki\", \"size\": [10.972190310798094], \"sizemode\": \"area\", \"sizeref\": 0.050903371511914326, \"symbol\": \"circle\"}, \"mode\": \"markers\", \"name\": \"Saturn\", \"scene\": \"scene\", \"showlegend\": true, \"x\": [76.01566898065327], \"y\": [105.95461835673504], \"z\": [40.49759156622288], \"type\": \"scatter3d\"}, {\"hovertemplate\": \"name=Uranus<br>index=231<br>x=%{x}<br>y=%{y}<br>z=%{z}<br>radius=%{marker.size}<extra></extra>\", \"ids\": [\"Uranus\"], \"legendgroup\": \"Uranus\", \"marker\": {\"color\": \"lightcyan\", \"size\": [10.141007269794844], \"sizemode\": \"area\", \"sizeref\": 0.050903371511914326, \"symbol\": \"circle\"}, \"mode\": \"markers\", \"name\": \"Uranus\", \"scene\": \"scene\", \"showlegend\": true, \"x\": [227.0439670036637], \"y\": [-176.27307280014833], \"z\": [-80.41574295704628], \"type\": \"scatter3d\"}, {\"hovertemplate\": \"name=Jupiter<br>index=231<br>x=%{x}<br>y=%{y}<br>z=%{z}<br>radius=%{marker.size}<extra></extra>\", \"ids\": [\"Jupiter\"], \"legendgroup\": \"Jupiter\", \"marker\": {\"color\": \"chocolate\", \"size\": [11.154978283509006], \"sizemode\": \"area\", \"sizeref\": 0.050903371511914326, \"symbol\": \"circle\"}, \"mode\": \"markers\", \"name\": \"Jupiter\", \"scene\": \"scene\", \"showlegend\": true, \"x\": [35.11918705786584], \"y\": [61.37114544090487], \"z\": [25.447123526016842], \"type\": \"scatter3d\"}, {\"hovertemplate\": \"name=Earth<br>index=231<br>x=%{x}<br>y=%{y}<br>z=%{z}<br>radius=%{marker.size}<extra></extra>\", \"ids\": [\"Earth\"], \"legendgroup\": \"Earth\", \"marker\": {\"color\": \"green\", \"size\": [8.759511722116487], \"sizemode\": \"area\", \"sizeref\": 0.050903371511914326, \"symbol\": \"circle\"}, \"mode\": \"markers\", \"name\": \"Earth\", \"scene\": \"scene\", \"showlegend\": true, \"x\": [139.71165857967918], \"y\": [48.61497908483488], \"z\": [21.04861555447348], \"type\": \"scatter3d\"}], \"name\": \"231\"}, {\"data\": [{\"hovertemplate\": \"name=Sun<br>index=238<br>x=%{x}<br>y=%{y}<br>z=%{z}<br>radius=%{marker.size}<extra></extra>\", \"ids\": [\"Sun\"], \"legendgroup\": \"Sun\", \"marker\": {\"color\": \"orange\", \"size\": [20.36134860476573], \"sizemode\": \"area\", \"sizeref\": 0.050903371511914326, \"symbol\": \"circle\"}, \"mode\": \"markers\", \"name\": \"Sun\", \"scene\": \"scene\", \"showlegend\": true, \"x\": [5.8547809665014485], \"y\": [5.659768834696838], \"z\": [0.7398879745313086], \"type\": \"scatter3d\"}, {\"hovertemplate\": \"name=Mars<br>index=238<br>x=%{x}<br>y=%{y}<br>z=%{z}<br>radius=%{marker.size}<extra></extra>\", \"ids\": [\"Mars\"], \"legendgroup\": \"Mars\", \"marker\": {\"color\": \"crimson\", \"size\": [8.12843769687102], \"sizemode\": \"area\", \"sizeref\": 0.050903371511914326, \"symbol\": \"circle\"}, \"mode\": \"markers\", \"name\": \"Mars\", \"scene\": \"scene\", \"showlegend\": true, \"x\": [-72.12200487207642], \"y\": [36.51763773119733], \"z\": [18.702396170819245], \"type\": \"scatter3d\"}, {\"hovertemplate\": \"name=Mercury<br>index=238<br>x=%{x}<br>y=%{y}<br>z=%{z}<br>radius=%{marker.size}<extra></extra>\", \"ids\": [\"Mercury\"], \"legendgroup\": \"Mercury\", \"marker\": {\"color\": \"cornflowerblue\", \"size\": [7.7996303599085035], \"sizemode\": \"area\", \"sizeref\": 0.050903371511914326, \"symbol\": \"circle\"}, \"mode\": \"markers\", \"name\": \"Mercury\", \"scene\": \"scene\", \"showlegend\": true, \"x\": [53.819777916593274], \"y\": [-7.643715101319734], \"z\": [-9.678773318279998], \"type\": \"scatter3d\"}, {\"hovertemplate\": \"name=Neptune<br>index=238<br>x=%{x}<br>y=%{y}<br>z=%{z}<br>radius=%{marker.size}<extra></extra>\", \"ids\": [\"Neptune\"], \"legendgroup\": \"Neptune\", \"marker\": {\"color\": \"cyan\", \"size\": [10.15120663641638], \"sizemode\": \"area\", \"sizeref\": 0.050903371511914326, \"symbol\": \"circle\"}, \"mode\": \"markers\", \"name\": \"Neptune\", \"scene\": \"scene\", \"showlegend\": true, \"x\": [262.6363211668187], \"y\": [-336.33626043129465], \"z\": [-144.18769133697782], \"type\": \"scatter3d\"}, {\"hovertemplate\": \"name=Saturn<br>index=238<br>x=%{x}<br>y=%{y}<br>z=%{z}<br>radius=%{marker.size}<extra></extra>\", \"ids\": [\"Saturn\"], \"legendgroup\": \"Saturn\", \"marker\": {\"color\": \"khaki\", \"size\": [10.972190310798094], \"sizemode\": \"area\", \"sizeref\": 0.050903371511914326, \"symbol\": \"circle\"}, \"mode\": \"markers\", \"name\": \"Saturn\", \"scene\": \"scene\", \"showlegend\": true, \"x\": [75.49847775002193], \"y\": [106.24574768179984], \"z\": [40.640064425757984], \"type\": \"scatter3d\"}, {\"hovertemplate\": \"name=Uranus<br>index=238<br>x=%{x}<br>y=%{y}<br>z=%{z}<br>radius=%{marker.size}<extra></extra>\", \"ids\": [\"Uranus\"], \"legendgroup\": \"Uranus\", \"marker\": {\"color\": \"lightcyan\", \"size\": [10.141007269794844], \"sizemode\": \"area\", \"sizeref\": 0.050903371511914326, \"symbol\": \"circle\"}, \"mode\": \"markers\", \"name\": \"Uranus\", \"scene\": \"scene\", \"showlegend\": true, \"x\": [227.30761099277544], \"y\": [-176.00145546829992], \"z\": [-80.30053425256772], \"type\": \"scatter3d\"}, {\"hovertemplate\": \"name=Jupiter<br>index=238<br>x=%{x}<br>y=%{y}<br>z=%{z}<br>radius=%{marker.size}<extra></extra>\", \"ids\": [\"Jupiter\"], \"legendgroup\": \"Jupiter\", \"marker\": {\"color\": \"chocolate\", \"size\": [11.154978283509006], \"sizemode\": \"area\", \"sizeref\": 0.050903371511914326, \"symbol\": \"circle\"}, \"mode\": \"markers\", \"name\": \"Jupiter\", \"scene\": \"scene\", \"showlegend\": true, \"x\": [34.40795812542534], \"y\": [61.73563307107403], \"z\": [25.62070336811568], \"type\": \"scatter3d\"}, {\"hovertemplate\": \"name=Earth<br>index=238<br>x=%{x}<br>y=%{y}<br>z=%{z}<br>radius=%{marker.size}<extra></extra>\", \"ids\": [\"Earth\"], \"legendgroup\": \"Earth\", \"marker\": {\"color\": \"green\", \"size\": [8.759511722116487], \"sizemode\": \"area\", \"sizeref\": 0.050903371511914326, \"symbol\": \"circle\"}, \"mode\": \"markers\", \"name\": \"Earth\", \"scene\": \"scene\", \"showlegend\": true, \"x\": [132.0328494031473], \"y\": [63.610600378980074], \"z\": [27.54808702767125], \"type\": \"scatter3d\"}], \"name\": \"238\"}, {\"data\": [{\"hovertemplate\": \"name=Sun<br>index=245<br>x=%{x}<br>y=%{y}<br>z=%{z}<br>radius=%{marker.size}<extra></extra>\", \"ids\": [\"Sun\"], \"legendgroup\": \"Sun\", \"marker\": {\"color\": \"orange\", \"size\": [20.36134860476573], \"sizemode\": \"area\", \"sizeref\": 0.050903371511914326, \"symbol\": \"circle\"}, \"mode\": \"markers\", \"name\": \"Sun\", \"scene\": \"scene\", \"showlegend\": true, \"x\": [6.136724235635853], \"y\": [5.9551886057110615], \"z\": [0.8048308039811168], \"type\": \"scatter3d\"}, {\"hovertemplate\": \"name=Mars<br>index=245<br>x=%{x}<br>y=%{y}<br>z=%{z}<br>radius=%{marker.size}<extra></extra>\", \"ids\": [\"Mars\"], \"legendgroup\": \"Mars\", \"marker\": {\"color\": \"crimson\", \"size\": [8.12843769687102], \"sizemode\": \"area\", \"sizeref\": 0.050903371511914326, \"symbol\": \"circle\"}, \"mode\": \"markers\", \"name\": \"Mars\", \"scene\": \"scene\", \"showlegend\": true, \"x\": [-74.23246028500091], \"y\": [32.95524149758336], \"z\": [17.125007866996327], \"type\": \"scatter3d\"}, {\"hovertemplate\": \"name=Mercury<br>index=245<br>x=%{x}<br>y=%{y}<br>z=%{z}<br>radius=%{marker.size}<extra></extra>\", \"ids\": [\"Mercury\"], \"legendgroup\": \"Mercury\", \"marker\": {\"color\": \"cornflowerblue\", \"size\": [7.7996303599085035], \"sizemode\": \"area\", \"sizeref\": 0.050903371511914326, \"symbol\": \"circle\"}, \"mode\": \"markers\", \"name\": \"Mercury\", \"scene\": \"scene\", \"showlegend\": true, \"x\": [45.49824571507288], \"y\": [18.87982729131377], \"z\": [5.351010573305334], \"type\": \"scatter3d\"}, {\"hovertemplate\": \"name=Neptune<br>index=245<br>x=%{x}<br>y=%{y}<br>z=%{z}<br>radius=%{marker.size}<extra></extra>\", \"ids\": [\"Neptune\"], \"legendgroup\": \"Neptune\", \"marker\": {\"color\": \"cyan\", \"size\": [10.15120663641638], \"sizemode\": \"area\", \"sizeref\": 0.050903371511914326, \"symbol\": \"circle\"}, \"mode\": \"markers\", \"name\": \"Neptune\", \"scene\": \"scene\", \"showlegend\": true, \"x\": [262.9006092272598], \"y\": [-336.1538977383218], \"z\": [-144.11961821456373], \"type\": \"scatter3d\"}, {\"hovertemplate\": \"name=Saturn<br>index=245<br>x=%{x}<br>y=%{y}<br>z=%{z}<br>radius=%{marker.size}<extra></extra>\", \"ids\": [\"Saturn\"], \"legendgroup\": \"Saturn\", \"marker\": {\"color\": \"khaki\", \"size\": [10.972190310798094], \"sizemode\": \"area\", \"sizeref\": 0.050903371511914326, \"symbol\": \"circle\"}, \"mode\": \"markers\", \"name\": \"Saturn\", \"scene\": \"scene\", \"showlegend\": true, \"x\": [74.97983835241851], \"y\": [106.53484151144], \"z\": [40.78175904209157], \"type\": \"scatter3d\"}, {\"hovertemplate\": \"name=Uranus<br>index=245<br>x=%{x}<br>y=%{y}<br>z=%{z}<br>radius=%{marker.size}<extra></extra>\", \"ids\": [\"Uranus\"], \"legendgroup\": \"Uranus\", \"marker\": {\"color\": \"lightcyan\", \"size\": [10.141007269794844], \"sizemode\": \"area\", \"sizeref\": 0.050903371511914326, \"symbol\": \"circle\"}, \"mode\": \"markers\", \"name\": \"Uranus\", \"scene\": \"scene\", \"showlegend\": true, \"x\": [227.57083974012681], \"y\": [-175.7295164847161], \"z\": [-80.18517880001967], \"type\": \"scatter3d\"}, {\"hovertemplate\": \"name=Jupiter<br>index=245<br>x=%{x}<br>y=%{y}<br>z=%{z}<br>radius=%{marker.size}<extra></extra>\", \"ids\": [\"Jupiter\"], \"legendgroup\": \"Jupiter\", \"marker\": {\"color\": \"chocolate\", \"size\": [11.154978283509006], \"sizemode\": \"area\", \"sizeref\": 0.050903371511914326, \"symbol\": \"circle\"}, \"mode\": \"markers\", \"name\": \"Jupiter\", \"scene\": \"scene\", \"showlegend\": true, \"x\": [33.69279963733232], \"y\": [62.09306793958432], \"z\": [25.791355885704622], \"type\": \"scatter3d\"}, {\"hovertemplate\": \"name=Earth<br>index=245<br>x=%{x}<br>y=%{y}<br>z=%{z}<br>radius=%{marker.size}<extra></extra>\", \"ids\": [\"Earth\"], \"legendgroup\": \"Earth\", \"marker\": {\"color\": \"green\", \"size\": [8.759511722116487], \"sizemode\": \"area\", \"sizeref\": 0.050903371511914326, \"symbol\": \"circle\"}, \"mode\": \"markers\", \"name\": \"Earth\", \"scene\": \"scene\", \"showlegend\": true, \"x\": [122.421574228797], \"y\": [77.67543450896957], \"z\": [33.644205812954525], \"type\": \"scatter3d\"}], \"name\": \"245\"}, {\"data\": [{\"hovertemplate\": \"name=Sun<br>index=252<br>x=%{x}<br>y=%{y}<br>z=%{z}<br>radius=%{marker.size}<extra></extra>\", \"ids\": [\"Sun\"], \"legendgroup\": \"Sun\", \"marker\": {\"color\": \"orange\", \"size\": [20.36134860476573], \"sizemode\": \"area\", \"sizeref\": 0.050903371511914326, \"symbol\": \"circle\"}, \"mode\": \"markers\", \"name\": \"Sun\", \"scene\": \"scene\", \"showlegend\": true, \"x\": [6.423594308513135], \"y\": [6.2583970032619], \"z\": [0.8729802062297689], \"type\": \"scatter3d\"}, {\"hovertemplate\": \"name=Mars<br>index=252<br>x=%{x}<br>y=%{y}<br>z=%{z}<br>radius=%{marker.size}<extra></extra>\", \"ids\": [\"Mars\"], \"legendgroup\": \"Mars\", \"marker\": {\"color\": \"crimson\", \"size\": [8.12843769687102], \"sizemode\": \"area\", \"sizeref\": 0.050903371511914326, \"symbol\": \"circle\"}, \"mode\": \"markers\", \"name\": \"Mars\", \"scene\": \"scene\", \"showlegend\": true, \"x\": [-76.10957493954102], \"y\": [29.289370059226673], \"z\": [15.49382311461981], \"type\": \"scatter3d\"}, {\"hovertemplate\": \"name=Mercury<br>index=252<br>x=%{x}<br>y=%{y}<br>z=%{z}<br>radius=%{marker.size}<extra></extra>\", \"ids\": [\"Mercury\"], \"legendgroup\": \"Mercury\", \"marker\": {\"color\": \"cornflowerblue\", \"size\": [7.7996303599085035], \"sizemode\": \"area\", \"sizeref\": 0.050903371511914326, \"symbol\": \"circle\"}, \"mode\": \"markers\", \"name\": \"Mercury\", \"scene\": \"scene\", \"showlegend\": true, \"x\": [19.909934429616506], \"y\": [37.69154221602029], \"z\": [18.051348673052345], \"type\": \"scatter3d\"}, {\"hovertemplate\": \"name=Neptune<br>index=252<br>x=%{x}<br>y=%{y}<br>z=%{z}<br>radius=%{marker.size}<extra></extra>\", \"ids\": [\"Neptune\"], \"legendgroup\": \"Neptune\", \"marker\": {\"color\": \"cyan\", \"size\": [10.15120663641638], \"sizemode\": \"area\", \"sizeref\": 0.050903371511914326, \"symbol\": \"circle\"}, \"mode\": \"markers\", \"name\": \"Neptune\", \"scene\": \"scene\", \"showlegend\": true, \"x\": [263.1647575124194], \"y\": [-335.97135620987063], \"z\": [-144.05146842344624], \"type\": \"scatter3d\"}, {\"hovertemplate\": \"name=Saturn<br>index=252<br>x=%{x}<br>y=%{y}<br>z=%{z}<br>radius=%{marker.size}<extra></extra>\", \"ids\": [\"Saturn\"], \"legendgroup\": \"Saturn\", \"marker\": {\"color\": \"khaki\", \"size\": [10.972190310798094], \"sizemode\": \"area\", \"sizeref\": 0.050903371511914326, \"symbol\": \"circle\"}, \"mode\": \"markers\", \"name\": \"Saturn\", \"scene\": \"scene\", \"showlegend\": true, \"x\": [74.45976009132823], \"y\": [106.82189354392428], \"z\": [40.92267240914152], \"type\": \"scatter3d\"}, {\"hovertemplate\": \"name=Uranus<br>index=252<br>x=%{x}<br>y=%{y}<br>z=%{z}<br>radius=%{marker.size}<extra></extra>\", \"ids\": [\"Uranus\"], \"legendgroup\": \"Uranus\", \"marker\": {\"color\": \"lightcyan\", \"size\": [10.141007269794844], \"sizemode\": \"area\", \"sizeref\": 0.050903371511914326, \"symbol\": \"circle\"}, \"mode\": \"markers\", \"name\": \"Uranus\", \"scene\": \"scene\", \"showlegend\": true, \"x\": [227.83365280472748], \"y\": [-175.45725637739193], \"z\": [-80.06967682446799], \"type\": \"scatter3d\"}, {\"hovertemplate\": \"name=Jupiter<br>index=252<br>x=%{x}<br>y=%{y}<br>z=%{z}<br>radius=%{marker.size}<extra></extra>\", \"ids\": [\"Jupiter\"], \"legendgroup\": \"Jupiter\", \"marker\": {\"color\": \"chocolate\", \"size\": [11.154978283509006], \"sizemode\": \"area\", \"sizeref\": 0.050903371511914326, \"symbol\": \"circle\"}, \"mode\": \"markers\", \"name\": \"Jupiter\", \"scene\": \"scene\", \"showlegend\": true, \"x\": [32.97379773131775], \"y\": [62.44341726245515], \"z\": [25.959064920024367], \"type\": \"scatter3d\"}, {\"hovertemplate\": \"name=Earth<br>index=252<br>x=%{x}<br>y=%{y}<br>z=%{z}<br>radius=%{marker.size}<extra></extra>\", \"ids\": [\"Earth\"], \"legendgroup\": \"Earth\", \"marker\": {\"color\": \"green\", \"size\": [8.759511722116487], \"sizemode\": \"area\", \"sizeref\": 0.050903371511914326, \"symbol\": \"circle\"}, \"mode\": \"markers\", \"name\": \"Earth\", \"scene\": \"scene\", \"showlegend\": true, \"x\": [111.00807303985027], \"y\": [90.59687529158542], \"z\": [39.244813166830234], \"type\": \"scatter3d\"}], \"name\": \"252\"}, {\"data\": [{\"hovertemplate\": \"name=Sun<br>index=259<br>x=%{x}<br>y=%{y}<br>z=%{z}<br>radius=%{marker.size}<extra></extra>\", \"ids\": [\"Sun\"], \"legendgroup\": \"Sun\", \"marker\": {\"color\": \"orange\", \"size\": [20.36134860476573], \"sizemode\": \"area\", \"sizeref\": 0.050903371511914326, \"symbol\": \"circle\"}, \"mode\": \"markers\", \"name\": \"Sun\", \"scene\": \"scene\", \"showlegend\": true, \"x\": [6.715135074974295], \"y\": [6.569651969959967], \"z\": [0.9444793923177411], \"type\": \"scatter3d\"}, {\"hovertemplate\": \"name=Mars<br>index=259<br>x=%{x}<br>y=%{y}<br>z=%{z}<br>radius=%{marker.size}<extra></extra>\", \"ids\": [\"Mars\"], \"legendgroup\": \"Mars\", \"marker\": {\"color\": \"crimson\", \"size\": [8.12843769687102], \"sizemode\": \"area\", \"sizeref\": 0.050903371511914326, \"symbol\": \"circle\"}, \"mode\": \"markers\", \"name\": \"Mars\", \"scene\": \"scene\", \"showlegend\": true, \"x\": [-77.74750618391684], \"y\": [25.53156983374072], \"z\": [13.813980911017302], \"type\": \"scatter3d\"}, {\"hovertemplate\": \"name=Mercury<br>index=259<br>x=%{x}<br>y=%{y}<br>z=%{z}<br>radius=%{marker.size}<extra></extra>\", \"ids\": [\"Mercury\"], \"legendgroup\": \"Mercury\", \"marker\": {\"color\": \"cornflowerblue\", \"size\": [7.7996303599085035], \"sizemode\": \"area\", \"sizeref\": 0.050903371511914326, \"symbol\": \"circle\"}, \"mode\": \"markers\", \"name\": \"Mercury\", \"scene\": \"scene\", \"showlegend\": true, \"x\": [-14.681834028115343], \"y\": [39.03258532630579], \"z\": [22.352873441577596], \"type\": \"scatter3d\"}, {\"hovertemplate\": \"name=Neptune<br>index=259<br>x=%{x}<br>y=%{y}<br>z=%{z}<br>radius=%{marker.size}<extra></extra>\", \"ids\": [\"Neptune\"], \"legendgroup\": \"Neptune\", \"marker\": {\"color\": \"cyan\", \"size\": [10.15120663641638], \"sizemode\": \"area\", \"sizeref\": 0.050903371511914326, \"symbol\": \"circle\"}, \"mode\": \"markers\", \"name\": \"Neptune\", \"scene\": \"scene\", \"showlegend\": true, \"x\": [263.4287658786711], \"y\": [-335.78863593909773], \"z\": [-143.98324199820343], \"type\": \"scatter3d\"}, {\"hovertemplate\": \"name=Saturn<br>index=259<br>x=%{x}<br>y=%{y}<br>z=%{z}<br>radius=%{marker.size}<extra></extra>\", \"ids\": [\"Saturn\"], \"legendgroup\": \"Saturn\", \"marker\": {\"color\": \"khaki\", \"size\": [10.972190310798094], \"sizemode\": \"area\", \"sizeref\": 0.050903371511914326, \"symbol\": \"circle\"}, \"mode\": \"markers\", \"name\": \"Saturn\", \"scene\": \"scene\", \"showlegend\": true, \"x\": [73.93825231085478], \"y\": [107.10689751761933], \"z\": [41.0628015355299], \"type\": \"scatter3d\"}, {\"hovertemplate\": \"name=Uranus<br>index=259<br>x=%{x}<br>y=%{y}<br>z=%{z}<br>radius=%{marker.size}<extra></extra>\", \"ids\": [\"Uranus\"], \"legendgroup\": \"Uranus\", \"marker\": {\"color\": \"lightcyan\", \"size\": [10.141007269794844], \"sizemode\": \"area\", \"sizeref\": 0.050903371511914326, \"symbol\": \"circle\"}, \"mode\": \"markers\", \"name\": \"Uranus\", \"scene\": \"scene\", \"showlegend\": true, \"x\": [228.09604974634547], \"y\": [-175.18467567471913], \"z\": [-79.95402855116335], \"type\": \"scatter3d\"}, {\"hovertemplate\": \"name=Jupiter<br>index=259<br>x=%{x}<br>y=%{y}<br>z=%{z}<br>radius=%{marker.size}<extra></extra>\", \"ids\": [\"Jupiter\"], \"legendgroup\": \"Jupiter\", \"marker\": {\"color\": \"chocolate\", \"size\": [11.154978283509006], \"sizemode\": \"area\", \"sizeref\": 0.050903371511914326, \"symbol\": \"circle\"}, \"mode\": \"markers\", \"name\": \"Jupiter\", \"scene\": \"scene\", \"showlegend\": true, \"x\": [32.251038834018324], \"y\": [62.78664922557688], \"z\": [26.123814721062747], \"type\": \"scatter3d\"}, {\"hovertemplate\": \"name=Earth<br>index=259<br>x=%{x}<br>y=%{y}<br>z=%{z}<br>radius=%{marker.size}<extra></extra>\", \"ids\": [\"Earth\"], \"legendgroup\": \"Earth\", \"marker\": {\"color\": \"green\", \"size\": [8.759511722116487], \"sizemode\": \"area\", \"sizeref\": 0.050903371511914326, \"symbol\": \"circle\"}, \"mode\": \"markers\", \"name\": \"Earth\", \"scene\": \"scene\", \"showlegend\": true, \"x\": [97.95129822853164], \"y\": [102.17712091446731], \"z\": [44.26416585913001], \"type\": \"scatter3d\"}], \"name\": \"259\"}, {\"data\": [{\"hovertemplate\": \"name=Sun<br>index=266<br>x=%{x}<br>y=%{y}<br>z=%{z}<br>radius=%{marker.size}<extra></extra>\", \"ids\": [\"Sun\"], \"legendgroup\": \"Sun\", \"marker\": {\"color\": \"orange\", \"size\": [20.36134860476573], \"sizemode\": \"area\", \"sizeref\": 0.050903371511914326, \"symbol\": \"circle\"}, \"mode\": \"markers\", \"name\": \"Sun\", \"scene\": \"scene\", \"showlegend\": true, \"x\": [7.010957961659098], \"y\": [6.889047389002609], \"z\": [1.0193974569084792], \"type\": \"scatter3d\"}, {\"hovertemplate\": \"name=Mars<br>index=266<br>x=%{x}<br>y=%{y}<br>z=%{z}<br>radius=%{marker.size}<extra></extra>\", \"ids\": [\"Mars\"], \"legendgroup\": \"Mars\", \"marker\": {\"color\": \"crimson\", \"size\": [8.12843769687102], \"sizemode\": \"area\", \"sizeref\": 0.050903371511914326, \"symbol\": \"circle\"}, \"mode\": \"markers\", \"name\": \"Mars\", \"scene\": \"scene\", \"showlegend\": true, \"x\": [-79.14095105682613], \"y\": [21.693600088619508], \"z\": [12.090732528879018], \"type\": \"scatter3d\"}, {\"hovertemplate\": \"name=Mercury<br>index=266<br>x=%{x}<br>y=%{y}<br>z=%{z}<br>radius=%{marker.size}<extra></extra>\", \"ids\": [\"Mercury\"], \"legendgroup\": \"Mercury\", \"marker\": {\"color\": \"cornflowerblue\", \"size\": [7.7996303599085035], \"sizemode\": \"area\", \"sizeref\": 0.050903371511914326, \"symbol\": \"circle\"}, \"mode\": \"markers\", \"name\": \"Mercury\", \"scene\": \"scene\", \"showlegend\": true, \"x\": [-43.29431827087679], \"y\": [23.265790846009004], \"z\": [16.896260396084273], \"type\": \"scatter3d\"}, {\"hovertemplate\": \"name=Neptune<br>index=266<br>x=%{x}<br>y=%{y}<br>z=%{z}<br>radius=%{marker.size}<extra></extra>\", \"ids\": [\"Neptune\"], \"legendgroup\": \"Neptune\", \"marker\": {\"color\": \"cyan\", \"size\": [10.15120663641638], \"sizemode\": \"area\", \"sizeref\": 0.050903371511914326, \"symbol\": \"circle\"}, \"mode\": \"markers\", \"name\": \"Neptune\", \"scene\": \"scene\", \"showlegend\": true, \"x\": [263.6926341824582], \"y\": [-335.605737019255], \"z\": [-143.91493897345416], \"type\": \"scatter3d\"}, {\"hovertemplate\": \"name=Saturn<br>index=266<br>x=%{x}<br>y=%{y}<br>z=%{z}<br>radius=%{marker.size}<extra></extra>\", \"ids\": [\"Saturn\"], \"legendgroup\": \"Saturn\", \"marker\": {\"color\": \"khaki\", \"size\": [10.972190310798094], \"sizemode\": \"area\", \"sizeref\": 0.050903371511914326, \"symbol\": \"circle\"}, \"mode\": \"markers\", \"name\": \"Saturn\", \"scene\": \"scene\", \"showlegend\": true, \"x\": [73.41532439553505], \"y\": [107.38984721115837], \"z\": [41.20214344466435], \"type\": \"scatter3d\"}, {\"hovertemplate\": \"name=Uranus<br>index=266<br>x=%{x}<br>y=%{y}<br>z=%{z}<br>radius=%{marker.size}<extra></extra>\", \"ids\": [\"Uranus\"], \"legendgroup\": \"Uranus\", \"marker\": {\"color\": \"lightcyan\", \"size\": [10.141007269794844], \"sizemode\": \"area\", \"sizeref\": 0.050903371511914326, \"symbol\": \"circle\"}, \"mode\": \"markers\", \"name\": \"Uranus\", \"scene\": \"scene\", \"showlegend\": true, \"x\": [228.35803012550718], \"y\": [-174.91177490548583], \"z\": [-79.8382342055408], \"type\": \"scatter3d\"}, {\"hovertemplate\": \"name=Jupiter<br>index=266<br>x=%{x}<br>y=%{y}<br>z=%{z}<br>radius=%{marker.size}<extra></extra>\", \"ids\": [\"Jupiter\"], \"legendgroup\": \"Jupiter\", \"marker\": {\"color\": \"chocolate\", \"size\": [11.154978283509006], \"sizemode\": \"area\", \"sizeref\": 0.050903371511914326, \"symbol\": \"circle\"}, \"mode\": \"markers\", \"name\": \"Jupiter\", \"scene\": \"scene\", \"showlegend\": true, \"x\": [31.52460964657024], \"y\": [63.122732985385305], \"z\": [26.285589948191976], \"type\": \"scatter3d\"}, {\"hovertemplate\": \"name=Earth<br>index=266<br>x=%{x}<br>y=%{y}<br>z=%{z}<br>radius=%{marker.size}<extra></extra>\", \"ids\": [\"Earth\"], \"legendgroup\": \"Earth\", \"marker\": {\"color\": \"green\", \"size\": [8.759511722116487], \"sizemode\": \"area\", \"sizeref\": 0.050903371511914326, \"symbol\": \"circle\"}, \"mode\": \"markers\", \"name\": \"Earth\", \"scene\": \"scene\", \"showlegend\": true, \"x\": [83.43701946516802], \"y\": [112.23666516194616], \"z\": [48.6244494835258], \"type\": \"scatter3d\"}], \"name\": \"266\"}, {\"data\": [{\"hovertemplate\": \"name=Sun<br>index=273<br>x=%{x}<br>y=%{y}<br>z=%{z}<br>radius=%{marker.size}<extra></extra>\", \"ids\": [\"Sun\"], \"legendgroup\": \"Sun\", \"marker\": {\"color\": \"orange\", \"size\": [20.36134860476573], \"sizemode\": \"area\", \"sizeref\": 0.050903371511914326, \"symbol\": \"circle\"}, \"mode\": \"markers\", \"name\": \"Sun\", \"scene\": \"scene\", \"showlegend\": true, \"x\": [7.310765252176055], \"y\": [7.21651864900094], \"z\": [1.0977093802145488], \"type\": \"scatter3d\"}, {\"hovertemplate\": \"name=Mars<br>index=273<br>x=%{x}<br>y=%{y}<br>z=%{z}<br>radius=%{marker.size}<extra></extra>\", \"ids\": [\"Mars\"], \"legendgroup\": \"Mars\", \"marker\": {\"color\": \"crimson\", \"size\": [8.12843769687102], \"sizemode\": \"area\", \"sizeref\": 0.050903371511914326, \"symbol\": \"circle\"}, \"mode\": \"markers\", \"name\": \"Mars\", \"scene\": \"scene\", \"showlegend\": true, \"x\": [-80.28515066874645], \"y\": [17.7874275125575], \"z\": [10.329439144153461], \"type\": \"scatter3d\"}, {\"hovertemplate\": \"name=Mercury<br>index=273<br>x=%{x}<br>y=%{y}<br>z=%{z}<br>radius=%{marker.size}<extra></extra>\", \"ids\": [\"Mercury\"], \"legendgroup\": \"Mercury\", \"marker\": {\"color\": \"cornflowerblue\", \"size\": [7.7996303599085035], \"sizemode\": \"area\", \"sizeref\": 0.050903371511914326, \"symbol\": \"circle\"}, \"mode\": \"markers\", \"name\": \"Mercury\", \"scene\": \"scene\", \"showlegend\": true, \"x\": [-57.66715578397125], \"y\": [-0.7024872793132095], \"z\": [5.582638750230562], \"type\": \"scatter3d\"}, {\"hovertemplate\": \"name=Neptune<br>index=273<br>x=%{x}<br>y=%{y}<br>z=%{z}<br>radius=%{marker.size}<extra></extra>\", \"ids\": [\"Neptune\"], \"legendgroup\": \"Neptune\", \"marker\": {\"color\": \"cyan\", \"size\": [10.15120663641638], \"sizemode\": \"area\", \"sizeref\": 0.050903371511914326, \"symbol\": \"circle\"}, \"mode\": \"markers\", \"name\": \"Neptune\", \"scene\": \"scene\", \"showlegend\": true, \"x\": [263.95636228029434], \"y\": [-335.42265954368946], \"z\": [-143.84655938385808], \"type\": \"scatter3d\"}, {\"hovertemplate\": \"name=Saturn<br>index=273<br>x=%{x}<br>y=%{y}<br>z=%{z}<br>radius=%{marker.size}<extra></extra>\", \"ids\": [\"Saturn\"], \"legendgroup\": \"Saturn\", \"marker\": {\"color\": \"khaki\", \"size\": [10.972190310798094], \"sizemode\": \"area\", \"sizeref\": 0.050903371511914326, \"symbol\": \"circle\"}, \"mode\": \"markers\", \"name\": \"Saturn\", \"scene\": \"scene\", \"showlegend\": true, \"x\": [72.89098577014676], \"y\": [107.67073644360566], \"z\": [41.34069517481851], \"type\": \"scatter3d\"}, {\"hovertemplate\": \"name=Uranus<br>index=273<br>x=%{x}<br>y=%{y}<br>z=%{z}<br>radius=%{marker.size}<extra></extra>\", \"ids\": [\"Uranus\"], \"legendgroup\": \"Uranus\", \"marker\": {\"color\": \"lightcyan\", \"size\": [10.141007269794844], \"sizemode\": \"area\", \"sizeref\": 0.050903371511914326, \"symbol\": \"circle\"}, \"mode\": \"markers\", \"name\": \"Uranus\", \"scene\": \"scene\", \"showlegend\": true, \"x\": [228.61959350349835], \"y\": [-174.6385545988754], \"z\": [-79.72229401321954], \"type\": \"scatter3d\"}, {\"hovertemplate\": \"name=Jupiter<br>index=273<br>x=%{x}<br>y=%{y}<br>z=%{z}<br>radius=%{marker.size}<extra></extra>\", \"ids\": [\"Jupiter\"], \"legendgroup\": \"Jupiter\", \"marker\": {\"color\": \"chocolate\", \"size\": [11.154978283509006], \"sizemode\": \"area\", \"sizeref\": 0.050903371511914326, \"symbol\": \"circle\"}, \"mode\": \"markers\", \"name\": \"Jupiter\", \"scene\": \"scene\", \"showlegend\": true, \"x\": [30.794597130246046], \"y\": [63.451638669293615], \"z\": [26.44437567070281], \"type\": \"scatter3d\"}, {\"hovertemplate\": \"name=Earth<br>index=273<br>x=%{x}<br>y=%{y}<br>z=%{z}<br>radius=%{marker.size}<extra></extra>\", \"ids\": [\"Earth\"], \"legendgroup\": \"Earth\", \"marker\": {\"color\": \"green\", \"size\": [8.759511722116487], \"sizemode\": \"area\", \"sizeref\": 0.050903371511914326, \"symbol\": \"circle\"}, \"mode\": \"markers\", \"name\": \"Earth\", \"scene\": \"scene\", \"showlegend\": true, \"x\": [67.67536262923402], \"y\": [120.61760414321324], \"z\": [52.25721186229582], \"type\": \"scatter3d\"}], \"name\": \"273\"}, {\"data\": [{\"hovertemplate\": \"name=Sun<br>index=280<br>x=%{x}<br>y=%{y}<br>z=%{z}<br>radius=%{marker.size}<extra></extra>\", \"ids\": [\"Sun\"], \"legendgroup\": \"Sun\", \"marker\": {\"color\": \"orange\", \"size\": [20.36134860476573], \"sizemode\": \"area\", \"sizeref\": 0.050903371511914326, \"symbol\": \"circle\"}, \"mode\": \"markers\", \"name\": \"Sun\", \"scene\": \"scene\", \"showlegend\": true, \"x\": [7.614395021931139], \"y\": [7.55199783502955], \"z\": [1.179374455087021], \"type\": \"scatter3d\"}, {\"hovertemplate\": \"name=Mars<br>index=280<br>x=%{x}<br>y=%{y}<br>z=%{z}<br>radius=%{marker.size}<extra></extra>\", \"ids\": [\"Mars\"], \"legendgroup\": \"Mars\", \"marker\": {\"color\": \"crimson\", \"size\": [8.12843769687102], \"sizemode\": \"area\", \"sizeref\": 0.050903371511914326, \"symbol\": \"circle\"}, \"mode\": \"markers\", \"name\": \"Mars\", \"scene\": \"scene\", \"showlegend\": true, \"x\": [-81.1758967083798], \"y\": [13.82522128201623], \"z\": [8.535569748315126], \"type\": \"scatter3d\"}, {\"hovertemplate\": \"name=Mercury<br>index=280<br>x=%{x}<br>y=%{y}<br>z=%{z}<br>radius=%{marker.size}<extra></extra>\", \"ids\": [\"Mercury\"], \"legendgroup\": \"Mercury\", \"marker\": {\"color\": \"cornflowerblue\", \"size\": [7.7996303599085035], \"sizemode\": \"area\", \"sizeref\": 0.050903371511914326, \"symbol\": \"circle\"}, \"mode\": \"markers\", \"name\": \"Mercury\", \"scene\": \"scene\", \"showlegend\": true, \"x\": [-57.888058296675844], \"y\": [-24.78820638309821], \"z\": [-7.260732419562451], \"type\": \"scatter3d\"}, {\"hovertemplate\": \"name=Neptune<br>index=280<br>x=%{x}<br>y=%{y}<br>z=%{z}<br>radius=%{marker.size}<extra></extra>\", \"ids\": [\"Neptune\"], \"legendgroup\": \"Neptune\", \"marker\": {\"color\": \"cyan\", \"size\": [10.15120663641638], \"sizemode\": \"area\", \"sizeref\": 0.050903371511914326, \"symbol\": \"circle\"}, \"mode\": \"markers\", \"name\": \"Neptune\", \"scene\": \"scene\", \"showlegend\": true, \"x\": [264.21995002876264], \"y\": [-335.23940360584385], \"z\": [-143.77810326411554], \"type\": \"scatter3d\"}, {\"hovertemplate\": \"name=Saturn<br>index=280<br>x=%{x}<br>y=%{y}<br>z=%{z}<br>radius=%{marker.size}<extra></extra>\", \"ids\": [\"Saturn\"], \"legendgroup\": \"Saturn\", \"marker\": {\"color\": \"khaki\", \"size\": [10.972190310798094], \"sizemode\": \"area\", \"sizeref\": 0.050903371511914326, \"symbol\": \"circle\"}, \"mode\": \"markers\", \"name\": \"Saturn\", \"scene\": \"scene\", \"showlegend\": true, \"x\": [72.3652458995095], \"y\": [107.94955907462096], \"z\": [41.47845377921278], \"type\": \"scatter3d\"}, {\"hovertemplate\": \"name=Uranus<br>index=280<br>x=%{x}<br>y=%{y}<br>z=%{z}<br>radius=%{marker.size}<extra></extra>\", \"ids\": [\"Uranus\"], \"legendgroup\": \"Uranus\", \"marker\": {\"color\": \"lightcyan\", \"size\": [10.141007269794844], \"sizemode\": \"area\", \"sizeref\": 0.050903371511914326, \"symbol\": \"circle\"}, \"mode\": \"markers\", \"name\": \"Uranus\", \"scene\": \"scene\", \"showlegend\": true, \"x\": [228.8807394423646], \"y\": [-174.36501528446612], \"z\": [-79.60620820000274], \"type\": \"scatter3d\"}, {\"hovertemplate\": \"name=Jupiter<br>index=280<br>x=%{x}<br>y=%{y}<br>z=%{z}<br>radius=%{marker.size}<extra></extra>\", \"ids\": [\"Jupiter\"], \"legendgroup\": \"Jupiter\", \"marker\": {\"color\": \"chocolate\", \"size\": [11.154978283509006], \"sizemode\": \"area\", \"sizeref\": 0.050903371511914326, \"symbol\": \"circle\"}, \"mode\": \"markers\", \"name\": \"Jupiter\", \"scene\": \"scene\", \"showlegend\": true, \"x\": [30.06108849213495], \"y\": [63.7733373759163], \"z\": [26.600157368250926], \"type\": \"scatter3d\"}, {\"hovertemplate\": \"name=Earth<br>index=280<br>x=%{x}<br>y=%{y}<br>z=%{z}<br>radius=%{marker.size}<extra></extra>\", \"ids\": [\"Earth\"], \"legendgroup\": \"Earth\", \"marker\": {\"color\": \"green\", \"size\": [8.759511722116487], \"sizemode\": \"area\", \"sizeref\": 0.050903371511914326, \"symbol\": \"circle\"}, \"mode\": \"markers\", \"name\": \"Earth\", \"scene\": \"scene\", \"showlegend\": true, \"x\": [50.89779923376627], \"y\": [127.18666816638091], \"z\": [55.10467734711776], \"type\": \"scatter3d\"}], \"name\": \"280\"}, {\"data\": [{\"hovertemplate\": \"name=Sun<br>index=287<br>x=%{x}<br>y=%{y}<br>z=%{z}<br>radius=%{marker.size}<extra></extra>\", \"ids\": [\"Sun\"], \"legendgroup\": \"Sun\", \"marker\": {\"color\": \"orange\", \"size\": [20.36134860476573], \"sizemode\": \"area\", \"sizeref\": 0.050903371511914326, \"symbol\": \"circle\"}, \"mode\": \"markers\", \"name\": \"Sun\", \"scene\": \"scene\", \"showlegend\": true, \"x\": [7.921735976849958], \"y\": [7.895464540887561], \"z\": [1.264372450400941], \"type\": \"scatter3d\"}, {\"hovertemplate\": \"name=Mars<br>index=287<br>x=%{x}<br>y=%{y}<br>z=%{z}<br>radius=%{marker.size}<extra></extra>\", \"ids\": [\"Mars\"], \"legendgroup\": \"Mars\", \"marker\": {\"color\": \"crimson\", \"size\": [8.12843769687102], \"sizemode\": \"area\", \"sizeref\": 0.050903371511914326, \"symbol\": \"circle\"}, \"mode\": \"markers\", \"name\": \"Mars\", \"scene\": \"scene\", \"showlegend\": true, \"x\": [-81.80954016132384], \"y\": [9.819348371566123], \"z\": [6.7146992330054465], \"type\": \"scatter3d\"}, {\"hovertemplate\": \"name=Mercury<br>index=287<br>x=%{x}<br>y=%{y}<br>z=%{z}<br>radius=%{marker.size}<extra></extra>\", \"ids\": [\"Mercury\"], \"legendgroup\": \"Mercury\", \"marker\": {\"color\": \"cornflowerblue\", \"size\": [7.7996303599085035], \"sizemode\": \"area\", \"sizeref\": 0.050903371511914326, \"symbol\": \"circle\"}, \"mode\": \"markers\", \"name\": \"Mercury\", \"scene\": \"scene\", \"showlegend\": true, \"x\": [-47.1206503753416], \"y\": [-44.336471638609105], \"z\": [-18.81945122909384], \"type\": \"scatter3d\"}, {\"hovertemplate\": \"name=Neptune<br>index=287<br>x=%{x}<br>y=%{y}<br>z=%{z}<br>radius=%{marker.size}<extra></extra>\", \"ids\": [\"Neptune\"], \"legendgroup\": \"Neptune\", \"marker\": {\"color\": \"cyan\", \"size\": [10.15120663641638], \"sizemode\": \"area\", \"sizeref\": 0.050903371511914326, \"symbol\": \"circle\"}, \"mode\": \"markers\", \"name\": \"Neptune\", \"scene\": \"scene\", \"showlegend\": true, \"x\": [264.4833972845169], \"y\": [-335.0559692992565], \"z\": [-143.70957064896774], \"type\": \"scatter3d\"}, {\"hovertemplate\": \"name=Saturn<br>index=287<br>x=%{x}<br>y=%{y}<br>z=%{z}<br>radius=%{marker.size}<extra></extra>\", \"ids\": [\"Saturn\"], \"legendgroup\": \"Saturn\", \"marker\": {\"color\": \"khaki\", \"size\": [10.972190310798094], \"sizemode\": \"area\", \"sizeref\": 0.050903371511914326, \"symbol\": \"circle\"}, \"mode\": \"markers\", \"name\": \"Saturn\", \"scene\": \"scene\", \"showlegend\": true, \"x\": [71.83811428828213], \"y\": [108.22630900462302], \"z\": [41.61541632609516], \"type\": \"scatter3d\"}, {\"hovertemplate\": \"name=Uranus<br>index=287<br>x=%{x}<br>y=%{y}<br>z=%{z}<br>radius=%{marker.size}<extra></extra>\", \"ids\": [\"Uranus\"], \"legendgroup\": \"Uranus\", \"marker\": {\"color\": \"lightcyan\", \"size\": [10.141007269794844], \"sizemode\": \"area\", \"sizeref\": 0.050903371511914326, \"symbol\": \"circle\"}, \"mode\": \"markers\", \"name\": \"Uranus\", \"scene\": \"scene\", \"showlegend\": true, \"x\": [229.14146750491162], \"y\": [-174.09115749223065], \"z\": [-79.48997699187714], \"type\": \"scatter3d\"}, {\"hovertemplate\": \"name=Jupiter<br>index=287<br>x=%{x}<br>y=%{y}<br>z=%{z}<br>radius=%{marker.size}<extra></extra>\", \"ids\": [\"Jupiter\"], \"legendgroup\": \"Jupiter\", \"marker\": {\"color\": \"chocolate\", \"size\": [11.154978283509006], \"sizemode\": \"area\", \"sizeref\": 0.050903371511914326, \"symbol\": \"circle\"}, \"mode\": \"markers\", \"name\": \"Jupiter\", \"scene\": \"scene\", \"showlegend\": true, \"x\": [29.32417117089223], \"y\": [64.087801175094], \"z\": [26.75292093121593], \"type\": \"scatter3d\"}, {\"hovertemplate\": \"name=Earth<br>index=287<br>x=%{x}<br>y=%{y}<br>z=%{z}<br>radius=%{marker.size}<extra></extra>\", \"ids\": [\"Earth\"], \"legendgroup\": \"Earth\", \"marker\": {\"color\": \"green\", \"size\": [8.759511722116487], \"sizemode\": \"area\", \"sizeref\": 0.050903371511914326, \"symbol\": \"circle\"}, \"mode\": \"markers\", \"name\": \"Earth\", \"scene\": \"scene\", \"showlegend\": true, \"x\": [33.35362270110622], \"y\": [131.8378879470126], \"z\": [57.12090263433402], \"type\": \"scatter3d\"}], \"name\": \"287\"}, {\"data\": [{\"hovertemplate\": \"name=Sun<br>index=294<br>x=%{x}<br>y=%{y}<br>z=%{z}<br>radius=%{marker.size}<extra></extra>\", \"ids\": [\"Sun\"], \"legendgroup\": \"Sun\", \"marker\": {\"color\": \"orange\", \"size\": [20.36134860476573], \"sizemode\": \"area\", \"sizeref\": 0.050903371511914326, \"symbol\": \"circle\"}, \"mode\": \"markers\", \"name\": \"Sun\", \"scene\": \"scene\", \"showlegend\": true, \"x\": [8.232679854878441], \"y\": [8.246927573444184], \"z\": [1.3526989667884093], \"type\": \"scatter3d\"}, {\"hovertemplate\": \"name=Mars<br>index=294<br>x=%{x}<br>y=%{y}<br>z=%{z}<br>radius=%{marker.size}<extra></extra>\", \"ids\": [\"Mars\"], \"legendgroup\": \"Mars\", \"marker\": {\"color\": \"crimson\", \"size\": [8.12843769687102], \"sizemode\": \"area\", \"sizeref\": 0.050903371511914326, \"symbol\": \"circle\"}, \"mode\": \"markers\", \"name\": \"Mars\", \"scene\": \"scene\", \"showlegend\": true, \"x\": [-82.18300232692911], \"y\": [5.782368842166991], \"z\": [4.8725065273402555], \"type\": \"scatter3d\"}, {\"hovertemplate\": \"name=Mercury<br>index=294<br>x=%{x}<br>y=%{y}<br>z=%{z}<br>radius=%{marker.size}<extra></extra>\", \"ids\": [\"Mercury\"], \"legendgroup\": \"Mercury\", \"marker\": {\"color\": \"cornflowerblue\", \"size\": [7.7996303599085035], \"sizemode\": \"area\", \"sizeref\": 0.050903371511914326, \"symbol\": \"circle\"}, \"mode\": \"markers\", \"name\": \"Mercury\", \"scene\": \"scene\", \"showlegend\": true, \"x\": [-28.877299854254392], \"y\": [-56.95892141209698], \"z\": [-27.453654476059327], \"type\": \"scatter3d\"}, {\"hovertemplate\": \"name=Neptune<br>index=294<br>x=%{x}<br>y=%{y}<br>z=%{z}<br>radius=%{marker.size}<extra></extra>\", \"ids\": [\"Neptune\"], \"legendgroup\": \"Neptune\", \"marker\": {\"color\": \"cyan\", \"size\": [10.15120663641638], \"sizemode\": \"area\", \"sizeref\": 0.050903371511914326, \"symbol\": \"circle\"}, \"mode\": \"markers\", \"name\": \"Neptune\", \"scene\": \"scene\", \"showlegend\": true, \"x\": [264.74670390428093], \"y\": [-334.8723567175611], \"z\": [-143.64096157319673], \"type\": \"scatter3d\"}, {\"hovertemplate\": \"name=Saturn<br>index=294<br>x=%{x}<br>y=%{y}<br>z=%{z}<br>radius=%{marker.size}<extra></extra>\", \"ids\": [\"Saturn\"], \"legendgroup\": \"Saturn\", \"marker\": {\"color\": \"khaki\", \"size\": [10.972190310798094], \"sizemode\": \"area\", \"sizeref\": 0.050903371511914326, \"symbol\": \"circle\"}, \"mode\": \"markers\", \"name\": \"Saturn\", \"scene\": \"scene\", \"showlegend\": true, \"x\": [71.30960048075507], \"y\": [108.50098017495169], \"z\": [41.75157989882158], \"type\": \"scatter3d\"}, {\"hovertemplate\": \"name=Uranus<br>index=294<br>x=%{x}<br>y=%{y}<br>z=%{z}<br>radius=%{marker.size}<extra></extra>\", \"ids\": [\"Uranus\"], \"legendgroup\": \"Uranus\", \"marker\": {\"color\": \"lightcyan\", \"size\": [10.141007269794844], \"sizemode\": \"area\", \"sizeref\": 0.050903371511914326, \"symbol\": \"circle\"}, \"mode\": \"markers\", \"name\": \"Uranus\", \"scene\": \"scene\", \"showlegend\": true, \"x\": [229.40177725470576], \"y\": [-173.81698175253507], \"z\": [-79.37360061501292], \"type\": \"scatter3d\"}, {\"hovertemplate\": \"name=Jupiter<br>index=294<br>x=%{x}<br>y=%{y}<br>z=%{z}<br>radius=%{marker.size}<extra></extra>\", \"ids\": [\"Jupiter\"], \"legendgroup\": \"Jupiter\", \"marker\": {\"color\": \"chocolate\", \"size\": [11.154978283509006], \"sizemode\": \"area\", \"sizeref\": 0.050903371511914326, \"symbol\": \"circle\"}, \"mode\": \"markers\", \"name\": \"Jupiter\", \"scene\": \"scene\", \"showlegend\": true, \"x\": [28.58393282255754], \"y\": [64.39500310770352], \"z\": [26.902652660965643], \"type\": \"scatter3d\"}, {\"hovertemplate\": \"name=Earth<br>index=294<br>x=%{x}<br>y=%{y}<br>z=%{z}<br>radius=%{marker.size}<extra></extra>\", \"ids\": [\"Earth\"], \"legendgroup\": \"Earth\", \"marker\": {\"color\": \"green\", \"size\": [8.759511722116487], \"sizemode\": \"area\", \"sizeref\": 0.050903371511914326, \"symbol\": \"circle\"}, \"mode\": \"markers\", \"name\": \"Earth\", \"scene\": \"scene\", \"showlegend\": true, \"x\": [15.305968904707584], \"y\": [134.49480864943948], \"z\": [58.272736608015045], \"type\": \"scatter3d\"}], \"name\": \"294\"}, {\"data\": [{\"hovertemplate\": \"name=Sun<br>index=301<br>x=%{x}<br>y=%{y}<br>z=%{z}<br>radius=%{marker.size}<extra></extra>\", \"ids\": [\"Sun\"], \"legendgroup\": \"Sun\", \"marker\": {\"color\": \"orange\", \"size\": [20.36134860476573], \"sizemode\": \"area\", \"sizeref\": 0.050903371511914326, \"symbol\": \"circle\"}, \"mode\": \"markers\", \"name\": \"Sun\", \"scene\": \"scene\", \"showlegend\": true, \"x\": [8.547111938935252], \"y\": [8.606405394008945], \"z\": [1.4443561630671131], \"type\": \"scatter3d\"}, {\"hovertemplate\": \"name=Mars<br>index=301<br>x=%{x}<br>y=%{y}<br>z=%{z}<br>radius=%{marker.size}<extra></extra>\", \"ids\": [\"Mars\"], \"legendgroup\": \"Mars\", \"marker\": {\"color\": \"crimson\", \"size\": [8.12843769687102], \"sizemode\": \"area\", \"sizeref\": 0.050903371511914326, \"symbol\": \"circle\"}, \"mode\": \"markers\", \"name\": \"Mars\", \"scene\": \"scene\", \"showlegend\": true, \"x\": [-82.29378821539876], \"y\": [1.7270308373199148], \"z\": [3.014772665429065], \"type\": \"scatter3d\"}, {\"hovertemplate\": \"name=Mercury<br>index=301<br>x=%{x}<br>y=%{y}<br>z=%{z}<br>radius=%{marker.size}<extra></extra>\", \"ids\": [\"Mercury\"], \"legendgroup\": \"Mercury\", \"marker\": {\"color\": \"cornflowerblue\", \"size\": [7.7996303599085035], \"sizemode\": \"area\", \"sizeref\": 0.050903371511914326, \"symbol\": \"circle\"}, \"mode\": \"markers\", \"name\": \"Mercury\", \"scene\": \"scene\", \"showlegend\": true, \"x\": [-6.462220103354061], \"y\": [-61.42143965576283], \"z\": [-32.16160783195328], \"type\": \"scatter3d\"}, {\"hovertemplate\": \"name=Neptune<br>index=301<br>x=%{x}<br>y=%{y}<br>z=%{z}<br>radius=%{marker.size}<extra></extra>\", \"ids\": [\"Neptune\"], \"legendgroup\": \"Neptune\", \"marker\": {\"color\": \"cyan\", \"size\": [10.15120663641638], \"sizemode\": \"area\", \"sizeref\": 0.050903371511914326, \"symbol\": \"circle\"}, \"mode\": \"markers\", \"name\": \"Neptune\", \"scene\": \"scene\", \"showlegend\": true, \"x\": [265.00986974484914], \"y\": [-334.6885659544869], \"z\": [-143.5722760716254], \"type\": \"scatter3d\"}, {\"hovertemplate\": \"name=Saturn<br>index=301<br>x=%{x}<br>y=%{y}<br>z=%{z}<br>radius=%{marker.size}<extra></extra>\", \"ids\": [\"Saturn\"], \"legendgroup\": \"Saturn\", \"marker\": {\"color\": \"khaki\", \"size\": [10.972190310798094], \"sizemode\": \"area\", \"sizeref\": 0.050903371511914326, \"symbol\": \"circle\"}, \"mode\": \"markers\", \"name\": \"Saturn\", \"scene\": \"scene\", \"showlegend\": true, \"x\": [70.77971406063733], \"y\": [108.773566568028], \"z\": [41.88694159593562], \"type\": \"scatter3d\"}, {\"hovertemplate\": \"name=Uranus<br>index=301<br>x=%{x}<br>y=%{y}<br>z=%{z}<br>radius=%{marker.size}<extra></extra>\", \"ids\": [\"Uranus\"], \"legendgroup\": \"Uranus\", \"marker\": {\"color\": \"lightcyan\", \"size\": [10.141007269794844], \"sizemode\": \"area\", \"sizeref\": 0.050903371511914326, \"symbol\": \"circle\"}, \"mode\": \"markers\", \"name\": \"Uranus\", \"scene\": \"scene\", \"showlegend\": true, \"x\": [229.66166825607482], \"y\": [-173.5424885961387], \"z\": [-79.25707929576329], \"type\": \"scatter3d\"}, {\"hovertemplate\": \"name=Jupiter<br>index=301<br>x=%{x}<br>y=%{y}<br>z=%{z}<br>radius=%{marker.size}<extra></extra>\", \"ids\": [\"Jupiter\"], \"legendgroup\": \"Jupiter\", \"marker\": {\"color\": \"chocolate\", \"size\": [11.154978283509006], \"sizemode\": \"area\", \"sizeref\": 0.050903371511914326, \"symbol\": \"circle\"}, \"mode\": \"markers\", \"name\": \"Jupiter\", \"scene\": \"scene\", \"showlegend\": true, \"x\": [27.840461306434], \"y\": [64.69491718524966], \"z\": [27.049339270025165], \"type\": \"scatter3d\"}, {\"hovertemplate\": \"name=Earth<br>index=301<br>x=%{x}<br>y=%{y}<br>z=%{z}<br>radius=%{marker.size}<extra></extra>\", \"ids\": [\"Earth\"], \"legendgroup\": \"Earth\", \"marker\": {\"color\": \"green\", \"size\": [8.759511722116487], \"sizemode\": \"area\", \"sizeref\": 0.050903371511914326, \"symbol\": \"circle\"}, \"mode\": \"markers\", \"name\": \"Earth\", \"scene\": \"scene\", \"showlegend\": true, \"x\": [-2.9725411541917226], \"y\": [135.11217418707312], \"z\": [58.54055058685172], \"type\": \"scatter3d\"}], \"name\": \"301\"}, {\"data\": [{\"hovertemplate\": \"name=Sun<br>index=308<br>x=%{x}<br>y=%{y}<br>z=%{z}<br>radius=%{marker.size}<extra></extra>\", \"ids\": [\"Sun\"], \"legendgroup\": \"Sun\", \"marker\": {\"color\": \"orange\", \"size\": [20.36134860476573], \"sizemode\": \"area\", \"sizeref\": 0.050903371511914326, \"symbol\": \"circle\"}, \"mode\": \"markers\", \"name\": \"Sun\", \"scene\": \"scene\", \"showlegend\": true, \"x\": [8.864914725105525], \"y\": [8.973916396087686], \"z\": [1.5393473642113757], \"type\": \"scatter3d\"}, {\"hovertemplate\": \"name=Mars<br>index=308<br>x=%{x}<br>y=%{y}<br>z=%{z}<br>radius=%{marker.size}<extra></extra>\", \"ids\": [\"Mars\"], \"legendgroup\": \"Mars\", \"marker\": {\"color\": \"crimson\", \"size\": [8.12843769687102], \"sizemode\": \"area\", \"sizeref\": 0.050903371511914326, \"symbol\": \"circle\"}, \"mode\": \"markers\", \"name\": \"Mars\", \"scene\": \"scene\", \"showlegend\": true, \"x\": [-82.1400023876638], \"y\": [-2.3337349947809787], \"z\": [1.1473786564527733], \"type\": \"scatter3d\"}, {\"hovertemplate\": \"name=Mercury<br>index=308<br>x=%{x}<br>y=%{y}<br>z=%{z}<br>radius=%{marker.size}<extra></extra>\", \"ids\": [\"Mercury\"], \"legendgroup\": \"Mercury\", \"marker\": {\"color\": \"cornflowerblue\", \"size\": [7.7996303599085035], \"sizemode\": \"area\", \"sizeref\": 0.050903371511914326, \"symbol\": \"circle\"}, \"mode\": \"markers\", \"name\": \"Mercury\", \"scene\": \"scene\", \"showlegend\": true, \"x\": [16.864690879725117], \"y\": [-57.11387819432549], \"z\": [-32.27946929040325], \"type\": \"scatter3d\"}, {\"hovertemplate\": \"name=Neptune<br>index=308<br>x=%{x}<br>y=%{y}<br>z=%{z}<br>radius=%{marker.size}<extra></extra>\", \"ids\": [\"Neptune\"], \"legendgroup\": \"Neptune\", \"marker\": {\"color\": \"cyan\", \"size\": [10.15120663641638], \"sizemode\": \"area\", \"sizeref\": 0.050903371511914326, \"symbol\": \"circle\"}, \"mode\": \"markers\", \"name\": \"Neptune\", \"scene\": \"scene\", \"showlegend\": true, \"x\": [265.27289466308645], \"y\": [-334.5045971038587], \"z\": [-143.50351417911742], \"type\": \"scatter3d\"}, {\"hovertemplate\": \"name=Saturn<br>index=308<br>x=%{x}<br>y=%{y}<br>z=%{z}<br>radius=%{marker.size}<extra></extra>\", \"ids\": [\"Saturn\"], \"legendgroup\": \"Saturn\", \"marker\": {\"color\": \"khaki\", \"size\": [10.972190310798094], \"sizemode\": \"area\", \"sizeref\": 0.050903371511914326, \"symbol\": \"circle\"}, \"mode\": \"markers\", \"name\": \"Saturn\", \"scene\": \"scene\", \"showlegend\": true, \"x\": [70.2484646508377], \"y\": [109.0440622075126], \"z\": [42.02149853124798], \"type\": \"scatter3d\"}, {\"hovertemplate\": \"name=Uranus<br>index=308<br>x=%{x}<br>y=%{y}<br>z=%{z}<br>radius=%{marker.size}<extra></extra>\", \"ids\": [\"Uranus\"], \"legendgroup\": \"Uranus\", \"marker\": {\"color\": \"lightcyan\", \"size\": [10.141007269794844], \"sizemode\": \"area\", \"sizeref\": 0.050903371511914326, \"symbol\": \"circle\"}, \"mode\": \"markers\", \"name\": \"Uranus\", \"scene\": \"scene\", \"showlegend\": true, \"x\": [229.9211400741079], \"y\": [-173.26767855419308], \"z\": [-79.14041326066442], \"type\": \"scatter3d\"}, {\"hovertemplate\": \"name=Jupiter<br>index=308<br>x=%{x}<br>y=%{y}<br>z=%{z}<br>radius=%{marker.size}<extra></extra>\", \"ids\": [\"Jupiter\"], \"legendgroup\": \"Jupiter\", \"marker\": {\"color\": \"chocolate\", \"size\": [11.154978283509006], \"sizemode\": \"area\", \"sizeref\": 0.050903371511914326, \"symbol\": \"circle\"}, \"mode\": \"markers\", \"name\": \"Jupiter\", \"scene\": \"scene\", \"showlegend\": true, \"x\": [27.093844671025746], \"y\": [64.98751838924595], \"z\": [27.19296788215388], \"type\": \"scatter3d\"}, {\"hovertemplate\": \"name=Earth<br>index=308<br>x=%{x}<br>y=%{y}<br>z=%{z}<br>radius=%{marker.size}<extra></extra>\", \"ids\": [\"Earth\"], \"legendgroup\": \"Earth\", \"marker\": {\"color\": \"green\", \"size\": [8.759511722116487], \"sizemode\": \"area\", \"sizeref\": 0.050903371511914326, \"symbol\": \"circle\"}, \"mode\": \"markers\", \"name\": \"Earth\", \"scene\": \"scene\", \"showlegend\": true, \"x\": [-21.20444033912894], \"y\": [133.6770177404729], \"z\": [57.91871121285784], \"type\": \"scatter3d\"}], \"name\": \"308\"}, {\"data\": [{\"hovertemplate\": \"name=Sun<br>index=315<br>x=%{x}<br>y=%{y}<br>z=%{z}<br>radius=%{marker.size}<extra></extra>\", \"ids\": [\"Sun\"], \"legendgroup\": \"Sun\", \"marker\": {\"color\": \"orange\", \"size\": [20.36134860476573], \"sizemode\": \"area\", \"sizeref\": 0.050903371511914326, \"symbol\": \"circle\"}, \"mode\": \"markers\", \"name\": \"Sun\", \"scene\": \"scene\", \"showlegend\": true, \"x\": [9.185975409420363], \"y\": [9.349476814832942], \"z\": [1.6376753361288754], \"type\": \"scatter3d\"}, {\"hovertemplate\": \"name=Mars<br>index=315<br>x=%{x}<br>y=%{y}<br>z=%{z}<br>radius=%{marker.size}<extra></extra>\", \"ids\": [\"Mars\"], \"legendgroup\": \"Mars\", \"marker\": {\"color\": \"crimson\", \"size\": [8.12843769687102], \"sizemode\": \"area\", \"sizeref\": 0.050903371511914326, \"symbol\": \"circle\"}, \"mode\": \"markers\", \"name\": \"Mars\", \"scene\": \"scene\", \"showlegend\": true, \"x\": [-81.72036728234174], \"y\": [-6.386821954061297], \"z\": [-0.7236969793542903], \"type\": \"scatter3d\"}, {\"hovertemplate\": \"name=Mercury<br>index=315<br>x=%{x}<br>y=%{y}<br>z=%{z}<br>radius=%{marker.size}<extra></extra>\", \"ids\": [\"Mercury\"], \"legendgroup\": \"Mercury\", \"marker\": {\"color\": \"cornflowerblue\", \"size\": [7.7996303599085035], \"sizemode\": \"area\", \"sizeref\": 0.050903371511914326, \"symbol\": \"circle\"}, \"mode\": \"markers\", \"name\": \"Mercury\", \"scene\": \"scene\", \"showlegend\": true, \"x\": [37.514850420852326], \"y\": [-43.96161087450676], \"z\": [-27.3953792790522], \"type\": \"scatter3d\"}, {\"hovertemplate\": \"name=Neptune<br>index=315<br>x=%{x}<br>y=%{y}<br>z=%{z}<br>radius=%{marker.size}<extra></extra>\", \"ids\": [\"Neptune\"], \"legendgroup\": \"Neptune\", \"marker\": {\"color\": \"cyan\", \"size\": [10.15120663641638], \"sizemode\": \"area\", \"sizeref\": 0.050903371511914326, \"symbol\": \"circle\"}, \"mode\": \"markers\", \"name\": \"Neptune\", \"scene\": \"scene\", \"showlegend\": true, \"x\": [265.53577851592865], \"y\": [-334.3204502595971], \"z\": [-143.4346759305774], \"type\": \"scatter3d\"}, {\"hovertemplate\": \"name=Saturn<br>index=315<br>x=%{x}<br>y=%{y}<br>z=%{z}<br>radius=%{marker.size}<extra></extra>\", \"ids\": [\"Saturn\"], \"legendgroup\": \"Saturn\", \"marker\": {\"color\": \"khaki\", \"size\": [10.972190310798094], \"sizemode\": \"area\", \"sizeref\": 0.050903371511914326, \"symbol\": \"circle\"}, \"mode\": \"markers\", \"name\": \"Saturn\", \"scene\": \"scene\", \"showlegend\": true, \"x\": [69.71586191324], \"y\": [109.3124611584636], \"z\": [42.155247833916015], \"type\": \"scatter3d\"}, {\"hovertemplate\": \"name=Uranus<br>index=315<br>x=%{x}<br>y=%{y}<br>z=%{z}<br>radius=%{marker.size}<extra></extra>\", \"ids\": [\"Uranus\"], \"legendgroup\": \"Uranus\", \"marker\": {\"color\": \"lightcyan\", \"size\": [10.141007269794844], \"sizemode\": \"area\", \"sizeref\": 0.050903371511914326, \"symbol\": \"circle\"}, \"mode\": \"markers\", \"name\": \"Uranus\", \"scene\": \"scene\", \"showlegend\": true, \"x\": [230.18019227465683], \"y\": [-172.99255215824175], \"z\": [-79.02360273643505], \"type\": \"scatter3d\"}, {\"hovertemplate\": \"name=Jupiter<br>index=315<br>x=%{x}<br>y=%{y}<br>z=%{z}<br>radius=%{marker.size}<extra></extra>\", \"ids\": [\"Jupiter\"], \"legendgroup\": \"Jupiter\", \"marker\": {\"color\": \"chocolate\", \"size\": [11.154978283509006], \"sizemode\": \"area\", \"sizeref\": 0.050903371511914326, \"symbol\": \"circle\"}, \"mode\": \"markers\", \"name\": \"Jupiter\", \"scene\": \"scene\", \"showlegend\": true, \"x\": [26.34417114003613], \"y\": [65.27278267039271], \"z\": [27.333526032334245], \"type\": \"scatter3d\"}, {\"hovertemplate\": \"name=Earth<br>index=315<br>x=%{x}<br>y=%{y}<br>z=%{z}<br>radius=%{marker.size}<extra></extra>\", \"ids\": [\"Earth\"], \"legendgroup\": \"Earth\", \"marker\": {\"color\": \"green\", \"size\": [8.759511722116487], \"sizemode\": \"area\", \"sizeref\": 0.050903371511914326, \"symbol\": \"circle\"}, \"mode\": \"markers\", \"name\": \"Earth\", \"scene\": \"scene\", \"showlegend\": true, \"x\": [-39.11222497158142], \"y\": [130.2091121180162], \"z\": [56.41577587617179], \"type\": \"scatter3d\"}], \"name\": \"315\"}, {\"data\": [{\"hovertemplate\": \"name=Sun<br>index=322<br>x=%{x}<br>y=%{y}<br>z=%{z}<br>radius=%{marker.size}<extra></extra>\", \"ids\": [\"Sun\"], \"legendgroup\": \"Sun\", \"marker\": {\"color\": \"orange\", \"size\": [20.36134860476573], \"sizemode\": \"area\", \"sizeref\": 0.050903371511914326, \"symbol\": \"circle\"}, \"mode\": \"markers\", \"name\": \"Sun\", \"scene\": \"scene\", \"showlegend\": true, \"x\": [9.510194555004974], \"y\": [9.733106203195225], \"z\": [1.7393444613747346], \"type\": \"scatter3d\"}, {\"hovertemplate\": \"name=Mars<br>index=322<br>x=%{x}<br>y=%{y}<br>z=%{z}<br>radius=%{marker.size}<extra></extra>\", \"ids\": [\"Mars\"], \"legendgroup\": \"Mars\", \"marker\": {\"color\": \"crimson\", \"size\": [8.12843769687102], \"sizemode\": \"area\", \"sizeref\": 0.050903371511914326, \"symbol\": \"circle\"}, \"mode\": \"markers\", \"name\": \"Mars\", \"scene\": \"scene\", \"showlegend\": true, \"x\": [-81.03424405689648], \"y\": [-10.418954936943253], \"z\": [-2.592381155080866], \"type\": \"scatter3d\"}, {\"hovertemplate\": \"name=Mercury<br>index=322<br>x=%{x}<br>y=%{y}<br>z=%{z}<br>radius=%{marker.size}<extra></extra>\", \"ids\": [\"Mercury\"], \"legendgroup\": \"Mercury\", \"marker\": {\"color\": \"cornflowerblue\", \"size\": [7.7996303599085035], \"sizemode\": \"area\", \"sizeref\": 0.050903371511914326, \"symbol\": \"circle\"}, \"mode\": \"markers\", \"name\": \"Mercury\", \"scene\": \"scene\", \"showlegend\": true, \"x\": [51.13698734085475], \"y\": [-22.79180781672431], \"z\": [-17.500120006763236], \"type\": \"scatter3d\"}, {\"hovertemplate\": \"name=Neptune<br>index=322<br>x=%{x}<br>y=%{y}<br>z=%{z}<br>radius=%{marker.size}<extra></extra>\", \"ids\": [\"Neptune\"], \"legendgroup\": \"Neptune\", \"marker\": {\"color\": \"cyan\", \"size\": [10.15120663641638], \"sizemode\": \"area\", \"sizeref\": 0.050903371511914326, \"symbol\": \"circle\"}, \"mode\": \"markers\", \"name\": \"Neptune\", \"scene\": \"scene\", \"showlegend\": true, \"x\": [265.79852116038245], \"y\": [-334.1361255157181], \"z\": [-143.3657613609509], \"type\": \"scatter3d\"}, {\"hovertemplate\": \"name=Saturn<br>index=322<br>x=%{x}<br>y=%{y}<br>z=%{z}<br>radius=%{marker.size}<extra></extra>\", \"ids\": [\"Saturn\"], \"legendgroup\": \"Saturn\", \"marker\": {\"color\": \"khaki\", \"size\": [10.972190310798094], \"sizemode\": \"area\", \"sizeref\": 0.050903371511914326, \"symbol\": \"circle\"}, \"mode\": \"markers\", \"name\": \"Saturn\", \"scene\": \"scene\", \"showlegend\": true, \"x\": [69.18191554847321], \"y\": [109.57875752749416], \"z\": [42.2881866485233], \"type\": \"scatter3d\"}, {\"hovertemplate\": \"name=Uranus<br>index=322<br>x=%{x}<br>y=%{y}<br>z=%{z}<br>radius=%{marker.size}<extra></extra>\", \"ids\": [\"Uranus\"], \"legendgroup\": \"Uranus\", \"marker\": {\"color\": \"lightcyan\", \"size\": [10.141007269794844], \"sizemode\": \"area\", \"sizeref\": 0.050903371511914326, \"symbol\": \"circle\"}, \"mode\": \"markers\", \"name\": \"Uranus\", \"scene\": \"scene\", \"showlegend\": true, \"x\": [230.438824424336], \"y\": [-172.7171099402196], \"z\": [-78.90664794997639], \"type\": \"scatter3d\"}, {\"hovertemplate\": \"name=Jupiter<br>index=322<br>x=%{x}<br>y=%{y}<br>z=%{z}<br>radius=%{marker.size}<extra></extra>\", \"ids\": [\"Jupiter\"], \"legendgroup\": \"Jupiter\", \"marker\": {\"color\": \"chocolate\", \"size\": [11.154978283509006], \"sizemode\": \"area\", \"sizeref\": 0.050903371511914326, \"symbol\": \"circle\"}, \"mode\": \"markers\", \"name\": \"Jupiter\", \"scene\": \"scene\", \"showlegend\": true, \"x\": [25.591529098431185], \"y\": [65.5506869475613], \"z\": [27.4710016666758], \"type\": \"scatter3d\"}, {\"hovertemplate\": \"name=Earth<br>index=322<br>x=%{x}<br>y=%{y}<br>z=%{z}<br>radius=%{marker.size}<extra></extra>\", \"ids\": [\"Earth\"], \"legendgroup\": \"Earth\", \"marker\": {\"color\": \"green\", \"size\": [8.759511722116487], \"sizemode\": \"area\", \"sizeref\": 0.050903371511914326, \"symbol\": \"circle\"}, \"mode\": \"markers\", \"name\": \"Earth\", \"scene\": \"scene\", \"showlegend\": true, \"x\": [-56.42321373896956], \"y\": [124.76075449288692], \"z\": [54.05439963265982], \"type\": \"scatter3d\"}], \"name\": \"322\"}, {\"data\": [{\"hovertemplate\": \"name=Sun<br>index=329<br>x=%{x}<br>y=%{y}<br>z=%{z}<br>radius=%{marker.size}<extra></extra>\", \"ids\": [\"Sun\"], \"legendgroup\": \"Sun\", \"marker\": {\"color\": \"orange\", \"size\": [20.36134860476573], \"sizemode\": \"area\", \"sizeref\": 0.050903371511914326, \"symbol\": \"circle\"}, \"mode\": \"markers\", \"name\": \"Sun\", \"scene\": \"scene\", \"showlegend\": true, \"x\": [9.837491006304713], \"y\": [10.124844795192088], \"z\": [1.8443696308909945], \"type\": \"scatter3d\"}, {\"hovertemplate\": \"name=Mars<br>index=329<br>x=%{x}<br>y=%{y}<br>z=%{z}<br>radius=%{marker.size}<extra></extra>\", \"ids\": [\"Mars\"], \"legendgroup\": \"Mars\", \"marker\": {\"color\": \"crimson\", \"size\": [8.12843769687102], \"sizemode\": \"area\", \"sizeref\": 0.050903371511914326, \"symbol\": \"circle\"}, \"mode\": \"markers\", \"name\": \"Mars\", \"scene\": \"scene\", \"showlegend\": true, \"x\": [-80.0816559491273], \"y\": [-14.416699621570155], \"z\": [-4.452509798270684], \"type\": \"scatter3d\"}, {\"hovertemplate\": \"name=Mercury<br>index=329<br>x=%{x}<br>y=%{y}<br>z=%{z}<br>radius=%{marker.size}<extra></extra>\", \"ids\": [\"Mercury\"], \"legendgroup\": \"Mercury\", \"marker\": {\"color\": \"cornflowerblue\", \"size\": [7.7996303599085035], \"sizemode\": \"area\", \"sizeref\": 0.050903371511914326, \"symbol\": \"circle\"}, \"mode\": \"markers\", \"name\": \"Mercury\", \"scene\": \"scene\", \"showlegend\": true, \"x\": [52.45179013309844], \"y\": [3.5665688690844304], \"z\": [-3.5575477391923194], \"type\": \"scatter3d\"}, {\"hovertemplate\": \"name=Neptune<br>index=329<br>x=%{x}<br>y=%{y}<br>z=%{z}<br>radius=%{marker.size}<extra></extra>\", \"ids\": [\"Neptune\"], \"legendgroup\": \"Neptune\", \"marker\": {\"color\": \"cyan\", \"size\": [10.15120663641638], \"sizemode\": \"area\", \"sizeref\": 0.050903371511914326, \"symbol\": \"circle\"}, \"mode\": \"markers\", \"name\": \"Neptune\", \"scene\": \"scene\", \"showlegend\": true, \"x\": [266.0611224535252], \"y\": [-333.9516229663336], \"z\": [-143.2967705052243], \"type\": \"scatter3d\"}, {\"hovertemplate\": \"name=Saturn<br>index=329<br>x=%{x}<br>y=%{y}<br>z=%{z}<br>radius=%{marker.size}<extra></extra>\", \"ids\": [\"Saturn\"], \"legendgroup\": \"Saturn\", \"marker\": {\"color\": \"khaki\", \"size\": [10.972190310798094], \"sizemode\": \"area\", \"sizeref\": 0.050903371511914326, \"symbol\": \"circle\"}, \"mode\": \"markers\", \"name\": \"Saturn\", \"scene\": \"scene\", \"showlegend\": true, \"x\": [68.64663529567625], \"y\": [109.84294546293023], \"z\": [42.4203121351597], \"type\": \"scatter3d\"}, {\"hovertemplate\": \"name=Uranus<br>index=329<br>x=%{x}<br>y=%{y}<br>z=%{z}<br>radius=%{marker.size}<extra></extra>\", \"ids\": [\"Uranus\"], \"legendgroup\": \"Uranus\", \"marker\": {\"color\": \"lightcyan\", \"size\": [10.141007269794844], \"sizemode\": \"area\", \"sizeref\": 0.050903371511914326, \"symbol\": \"circle\"}, \"mode\": \"markers\", \"name\": \"Uranus\", \"scene\": \"scene\", \"showlegend\": true, \"x\": [230.69703609052306], \"y\": [-172.44135243245213], \"z\": [-78.7895491283718], \"type\": \"scatter3d\"}, {\"hovertemplate\": \"name=Jupiter<br>index=329<br>x=%{x}<br>y=%{y}<br>z=%{z}<br>radius=%{marker.size}<extra></extra>\", \"ids\": [\"Jupiter\"], \"legendgroup\": \"Jupiter\", \"marker\": {\"color\": \"chocolate\", \"size\": [11.154978283509006], \"sizemode\": \"area\", \"sizeref\": 0.050903371511914326, \"symbol\": \"circle\"}, \"mode\": \"markers\", \"name\": \"Jupiter\", \"scene\": \"scene\", \"showlegend\": true, \"x\": [24.836007078573413], \"y\": [65.8212091065916], \"z\": [27.605383142237557], \"type\": \"scatter3d\"}, {\"hovertemplate\": \"name=Earth<br>index=329<br>x=%{x}<br>y=%{y}<br>z=%{z}<br>radius=%{marker.size}<extra></extra>\", \"ids\": [\"Earth\"], \"legendgroup\": \"Earth\", \"marker\": {\"color\": \"green\", \"size\": [8.759511722116487], \"sizemode\": \"area\", \"sizeref\": 0.050903371511914326, \"symbol\": \"circle\"}, \"mode\": \"markers\", \"name\": \"Earth\", \"scene\": \"scene\", \"showlegend\": true, \"x\": [-72.87432996587968], \"y\": [117.41588298783428], \"z\": [50.87095251310855], \"type\": \"scatter3d\"}], \"name\": \"329\"}, {\"data\": [{\"hovertemplate\": \"name=Sun<br>index=336<br>x=%{x}<br>y=%{y}<br>z=%{z}<br>radius=%{marker.size}<extra></extra>\", \"ids\": [\"Sun\"], \"legendgroup\": \"Sun\", \"marker\": {\"color\": \"orange\", \"size\": [20.36134860476573], \"sizemode\": \"area\", \"sizeref\": 0.050903371511914326, \"symbol\": \"circle\"}, \"mode\": \"markers\", \"name\": \"Sun\", \"scene\": \"scene\", \"showlegend\": true, \"x\": [10.167781466644104], \"y\": [10.524785695290964], \"z\": [1.9527956557146822], \"type\": \"scatter3d\"}, {\"hovertemplate\": \"name=Mars<br>index=336<br>x=%{x}<br>y=%{y}<br>z=%{z}<br>radius=%{marker.size}<extra></extra>\", \"ids\": [\"Mars\"], \"legendgroup\": \"Mars\", \"marker\": {\"color\": \"crimson\", \"size\": [8.12843769687102], \"sizemode\": \"area\", \"sizeref\": 0.050903371511914326, \"symbol\": \"circle\"}, \"mode\": \"markers\", \"name\": \"Mars\", \"scene\": \"scene\", \"showlegend\": true, \"x\": [-78.86331413896795], \"y\": [-18.366473553658032], \"z\": [-6.297832236236851], \"type\": \"scatter3d\"}, {\"hovertemplate\": \"name=Mercury<br>index=336<br>x=%{x}<br>y=%{y}<br>z=%{z}<br>radius=%{marker.size}<extra></extra>\", \"ids\": [\"Mercury\"], \"legendgroup\": \"Mercury\", \"marker\": {\"color\": \"cornflowerblue\", \"size\": [7.7996303599085035], \"sizemode\": \"area\", \"sizeref\": 0.050903371511914326, \"symbol\": \"circle\"}, \"mode\": \"markers\", \"name\": \"Mercury\", \"scene\": \"scene\", \"showlegend\": true, \"x\": [36.774311583907114], \"y\": [28.32556343619373], \"z\": [11.292135459570735], \"type\": \"scatter3d\"}, {\"hovertemplate\": \"name=Neptune<br>index=336<br>x=%{x}<br>y=%{y}<br>z=%{z}<br>radius=%{marker.size}<extra></extra>\", \"ids\": [\"Neptune\"], \"legendgroup\": \"Neptune\", \"marker\": {\"color\": \"cyan\", \"size\": [10.15120663641638], \"sizemode\": \"area\", \"sizeref\": 0.050903371511914326, \"symbol\": \"circle\"}, \"mode\": \"markers\", \"name\": \"Neptune\", \"scene\": \"scene\", \"showlegend\": true, \"x\": [266.32358225250573], \"y\": [-333.7669427056514], \"z\": [-143.22770339842495], \"type\": \"scatter3d\"}, {\"hovertemplate\": \"name=Saturn<br>index=336<br>x=%{x}<br>y=%{y}<br>z=%{z}<br>radius=%{marker.size}<extra></extra>\", \"ids\": [\"Saturn\"], \"legendgroup\": \"Saturn\", \"marker\": {\"color\": \"khaki\", \"size\": [10.972190310798094], \"sizemode\": \"area\", \"sizeref\": 0.050903371511914326, \"symbol\": \"circle\"}, \"mode\": \"markers\", \"name\": \"Saturn\", \"scene\": \"scene\", \"showlegend\": true, \"x\": [68.11003093225817], \"y\": [110.10501915496982], \"z\": [42.55162146950214], \"type\": \"scatter3d\"}, {\"hovertemplate\": \"name=Uranus<br>index=336<br>x=%{x}<br>y=%{y}<br>z=%{z}<br>radius=%{marker.size}<extra></extra>\", \"ids\": [\"Uranus\"], \"legendgroup\": \"Uranus\", \"marker\": {\"color\": \"lightcyan\", \"size\": [10.141007269794844], \"sizemode\": \"area\", \"sizeref\": 0.050903371511914326, \"symbol\": \"circle\"}, \"mode\": \"markers\", \"name\": \"Uranus\", \"scene\": \"scene\", \"showlegend\": true, \"x\": [230.9548268413592], \"y\": [-172.1652801676556], \"z\": [-78.67230649888664], \"type\": \"scatter3d\"}, {\"hovertemplate\": \"name=Jupiter<br>index=336<br>x=%{x}<br>y=%{y}<br>z=%{z}<br>radius=%{marker.size}<extra></extra>\", \"ids\": [\"Jupiter\"], \"legendgroup\": \"Jupiter\", \"marker\": {\"color\": \"chocolate\", \"size\": [11.154978283509006], \"sizemode\": \"area\", \"sizeref\": 0.050903371511914326, \"symbol\": \"circle\"}, \"mode\": \"markers\", \"name\": \"Jupiter\", \"scene\": \"scene\", \"showlegend\": true, \"x\": [24.077693746431404], \"y\": [66.08432799891261], \"z\": [27.736659226772918], \"type\": \"scatter3d\"}, {\"hovertemplate\": \"name=Earth<br>index=336<br>x=%{x}<br>y=%{y}<br>z=%{z}<br>radius=%{marker.size}<extra></extra>\", \"ids\": [\"Earth\"], \"legendgroup\": \"Earth\", \"marker\": {\"color\": \"green\", \"size\": [8.759511722116487], \"sizemode\": \"area\", \"sizeref\": 0.050903371511914326, \"symbol\": \"circle\"}, \"mode\": \"markers\", \"name\": \"Earth\", \"scene\": \"scene\", \"showlegend\": true, \"x\": [-88.21668265516017], \"y\": [108.28854611487183], \"z\": [46.914856324648994], \"type\": \"scatter3d\"}], \"name\": \"336\"}, {\"data\": [{\"hovertemplate\": \"name=Sun<br>index=343<br>x=%{x}<br>y=%{y}<br>z=%{z}<br>radius=%{marker.size}<extra></extra>\", \"ids\": [\"Sun\"], \"legendgroup\": \"Sun\", \"marker\": {\"color\": \"orange\", \"size\": [20.36134860476573], \"sizemode\": \"area\", \"sizeref\": 0.050903371511914326, \"symbol\": \"circle\"}, \"mode\": \"markers\", \"name\": \"Sun\", \"scene\": \"scene\", \"showlegend\": true, \"x\": [10.500892073120944], \"y\": [10.933081565099718], \"z\": [2.064710077012092], \"type\": \"scatter3d\"}, {\"hovertemplate\": \"name=Mars<br>index=343<br>x=%{x}<br>y=%{y}<br>z=%{z}<br>radius=%{marker.size}<extra></extra>\", \"ids\": [\"Mars\"], \"legendgroup\": \"Mars\", \"marker\": {\"color\": \"crimson\", \"size\": [8.12843769687102], \"sizemode\": \"area\", \"sizeref\": 0.050903371511914326, \"symbol\": \"circle\"}, \"mode\": \"markers\", \"name\": \"Mars\", \"scene\": \"scene\", \"showlegend\": true, \"x\": [-77.38064605835392], \"y\": [-22.254559520722356], \"z\": [-8.122016564817576], \"type\": \"scatter3d\"}, {\"hovertemplate\": \"name=Mercury<br>index=343<br>x=%{x}<br>y=%{y}<br>z=%{z}<br>radius=%{marker.size}<extra></extra>\", \"ids\": [\"Mercury\"], \"legendgroup\": \"Mercury\", \"marker\": {\"color\": \"cornflowerblue\", \"size\": [7.7996303599085035], \"sizemode\": \"area\", \"sizeref\": 0.050903371511914326, \"symbol\": \"circle\"}, \"mode\": \"markers\", \"name\": \"Mercury\", \"scene\": \"scene\", \"showlegend\": true, \"x\": [5.765669139625642], \"y\": [40.71163234584277], \"z\": [21.12194759552705], \"type\": \"scatter3d\"}, {\"hovertemplate\": \"name=Neptune<br>index=343<br>x=%{x}<br>y=%{y}<br>z=%{z}<br>radius=%{marker.size}<extra></extra>\", \"ids\": [\"Neptune\"], \"legendgroup\": \"Neptune\", \"marker\": {\"color\": \"cyan\", \"size\": [10.15120663641638], \"sizemode\": \"area\", \"sizeref\": 0.050903371511914326, \"symbol\": \"circle\"}, \"mode\": \"markers\", \"name\": \"Neptune\", \"scene\": \"scene\", \"showlegend\": true, \"x\": [266.58590041454397], \"y\": [-333.5820848279745], \"z\": [-143.15856007562118], \"type\": \"scatter3d\"}, {\"hovertemplate\": \"name=Saturn<br>index=343<br>x=%{x}<br>y=%{y}<br>z=%{z}<br>radius=%{marker.size}<extra></extra>\", \"ids\": [\"Saturn\"], \"legendgroup\": \"Saturn\", \"marker\": {\"color\": \"khaki\", \"size\": [10.972190310798094], \"sizemode\": \"area\", \"sizeref\": 0.050903371511914326, \"symbol\": \"circle\"}, \"mode\": \"markers\", \"name\": \"Saturn\", \"scene\": \"scene\", \"showlegend\": true, \"x\": [67.5721122736552], \"y\": [110.36497283584397], \"z\": [42.68211184289607], \"type\": \"scatter3d\"}, {\"hovertemplate\": \"name=Uranus<br>index=343<br>x=%{x}<br>y=%{y}<br>z=%{z}<br>radius=%{marker.size}<extra></extra>\", \"ids\": [\"Uranus\"], \"legendgroup\": \"Uranus\", \"marker\": {\"color\": \"lightcyan\", \"size\": [10.141007269794844], \"sizemode\": \"area\", \"sizeref\": 0.050903371511914326, \"symbol\": \"circle\"}, \"mode\": \"markers\", \"name\": \"Uranus\", \"scene\": \"scene\", \"showlegend\": true, \"x\": [231.2121962457497], \"y\": [-171.88889367893563], \"z\": [-78.55492028896805], \"type\": \"scatter3d\"}, {\"hovertemplate\": \"name=Jupiter<br>index=343<br>x=%{x}<br>y=%{y}<br>z=%{z}<br>radius=%{marker.size}<extra></extra>\", \"ids\": [\"Jupiter\"], \"legendgroup\": \"Jupiter\", \"marker\": {\"color\": \"chocolate\", \"size\": [11.154978283509006], \"sizemode\": \"area\", \"sizeref\": 0.050903371511914326, \"symbol\": \"circle\"}, \"mode\": \"markers\", \"name\": \"Jupiter\", \"scene\": \"scene\", \"showlegend\": true, \"x\": [23.31667788787573], \"y\": [66.34002343999963], \"z\": [27.864819098402247], \"type\": \"scatter3d\"}, {\"hovertemplate\": \"name=Earth<br>index=343<br>x=%{x}<br>y=%{y}<br>z=%{z}<br>radius=%{marker.size}<extra></extra>\", \"ids\": [\"Earth\"], \"legendgroup\": \"Earth\", \"marker\": {\"color\": \"green\", \"size\": [8.759511722116487], \"sizemode\": \"area\", \"sizeref\": 0.050903371511914326, \"symbol\": \"circle\"}, \"mode\": \"markers\", \"name\": \"Earth\", \"scene\": \"scene\", \"showlegend\": true, \"x\": [-102.21982907809551], \"y\": [97.52076869788425], \"z\": [42.24765985160814], \"type\": \"scatter3d\"}], \"name\": \"343\"}, {\"data\": [{\"hovertemplate\": \"name=Sun<br>index=350<br>x=%{x}<br>y=%{y}<br>z=%{z}<br>radius=%{marker.size}<extra></extra>\", \"ids\": [\"Sun\"], \"legendgroup\": \"Sun\", \"marker\": {\"color\": \"orange\", \"size\": [20.36134860476573], \"sizemode\": \"area\", \"sizeref\": 0.050903371511914326, \"symbol\": \"circle\"}, \"mode\": \"markers\", \"name\": \"Sun\", \"scene\": \"scene\", \"showlegend\": true, \"x\": [10.836474617658439], \"y\": [11.349819422592393], \"z\": [2.180185015716089], \"type\": \"scatter3d\"}, {\"hovertemplate\": \"name=Mars<br>index=350<br>x=%{x}<br>y=%{y}<br>z=%{z}<br>radius=%{marker.size}<extra></extra>\", \"ids\": [\"Mars\"], \"legendgroup\": \"Mars\", \"marker\": {\"color\": \"crimson\", \"size\": [8.12843769687102], \"sizemode\": \"area\", \"sizeref\": 0.050903371511914326, \"symbol\": \"circle\"}, \"mode\": \"markers\", \"name\": \"Mars\", \"scene\": \"scene\", \"showlegend\": true, \"x\": [-75.63582605736242], \"y\": [-26.067121627476563], \"z\": [-9.918656192377988], \"type\": \"scatter3d\"}, {\"hovertemplate\": \"name=Mercury<br>index=350<br>x=%{x}<br>y=%{y}<br>z=%{z}<br>radius=%{marker.size}<extra></extra>\", \"ids\": [\"Mercury\"], \"legendgroup\": \"Mercury\", \"marker\": {\"color\": \"cornflowerblue\", \"size\": [7.7996303599085035], \"sizemode\": \"area\", \"sizeref\": 0.050903371511914326, \"symbol\": \"circle\"}, \"mode\": \"markers\", \"name\": \"Mercury\", \"scene\": \"scene\", \"showlegend\": true, \"x\": [-27.99709283253315], \"y\": [34.21606924400409], \"z\": [21.151449679519317], \"type\": \"scatter3d\"}, {\"hovertemplate\": \"name=Neptune<br>index=350<br>x=%{x}<br>y=%{y}<br>z=%{z}<br>radius=%{marker.size}<extra></extra>\", \"ids\": [\"Neptune\"], \"legendgroup\": \"Neptune\", \"marker\": {\"color\": \"cyan\", \"size\": [10.15120663641638], \"sizemode\": \"area\", \"sizeref\": 0.050903371511914326, \"symbol\": \"circle\"}, \"mode\": \"markers\", \"name\": \"Neptune\", \"scene\": \"scene\", \"showlegend\": true, \"x\": [266.84807679693125], \"y\": [-333.3970494277022], \"z\": [-143.08934057192232], \"type\": \"scatter3d\"}, {\"hovertemplate\": \"name=Saturn<br>index=350<br>x=%{x}<br>y=%{y}<br>z=%{z}<br>radius=%{marker.size}<extra></extra>\", \"ids\": [\"Saturn\"], \"legendgroup\": \"Saturn\", \"marker\": {\"color\": \"khaki\", \"size\": [10.972190310798094], \"sizemode\": \"area\", \"sizeref\": 0.050903371511914326, \"symbol\": \"circle\"}, \"mode\": \"markers\", \"name\": \"Saturn\", \"scene\": \"scene\", \"showlegend\": true, \"x\": [67.03288917308531], \"y\": [110.62280077997825], \"z\": [42.811780462437284], \"type\": \"scatter3d\"}, {\"hovertemplate\": \"name=Uranus<br>index=350<br>x=%{x}<br>y=%{y}<br>z=%{z}<br>radius=%{marker.size}<extra></extra>\", \"ids\": [\"Uranus\"], \"legendgroup\": \"Uranus\", \"marker\": {\"color\": \"lightcyan\", \"size\": [10.141007269794844], \"sizemode\": \"area\", \"sizeref\": 0.050903371511914326, \"symbol\": \"circle\"}, \"mode\": \"markers\", \"name\": \"Uranus\", \"scene\": \"scene\", \"showlegend\": true, \"x\": [231.46914387336432], \"y\": [-171.61219349978725], \"z\": [-78.4373907262446], \"type\": \"scatter3d\"}, {\"hovertemplate\": \"name=Jupiter<br>index=350<br>x=%{x}<br>y=%{y}<br>z=%{z}<br>radius=%{marker.size}<extra></extra>\", \"ids\": [\"Jupiter\"], \"legendgroup\": \"Jupiter\", \"marker\": {\"color\": \"chocolate\", \"size\": [11.154978283509006], \"sizemode\": \"area\", \"sizeref\": 0.050903371511914326, \"symbol\": \"circle\"}, \"mode\": \"markers\", \"name\": \"Jupiter\", \"scene\": \"scene\", \"showlegend\": true, \"x\": [22.55304839508138], \"y\": [66.58827620767141], \"z\": [27.989852345212263], \"type\": \"scatter3d\"}, {\"hovertemplate\": \"name=Earth<br>index=350<br>x=%{x}<br>y=%{y}<br>z=%{z}<br>radius=%{marker.size}<extra></extra>\", \"ids\": [\"Earth\"], \"legendgroup\": \"Earth\", \"marker\": {\"color\": \"green\", \"size\": [8.759511722116487], \"sizemode\": \"area\", \"sizeref\": 0.050903371511914326, \"symbol\": \"circle\"}, \"mode\": \"markers\", \"name\": \"Earth\", \"scene\": \"scene\", \"showlegend\": true, \"x\": [-114.67561460185055], \"y\": [85.27987817221214], \"z\": [36.94188014868963], \"type\": \"scatter3d\"}], \"name\": \"350\"}, {\"data\": [{\"hovertemplate\": \"name=Sun<br>index=357<br>x=%{x}<br>y=%{y}<br>z=%{z}<br>radius=%{marker.size}<extra></extra>\", \"ids\": [\"Sun\"], \"legendgroup\": \"Sun\", \"marker\": {\"color\": \"orange\", \"size\": [20.36134860476573], \"sizemode\": \"area\", \"sizeref\": 0.050903371511914326, \"symbol\": \"circle\"}, \"mode\": \"markers\", \"name\": \"Sun\", \"scene\": \"scene\", \"showlegend\": true, \"x\": [11.174157426386696], \"y\": [11.77488817478344], \"z\": [2.2991907855383924], \"type\": \"scatter3d\"}, {\"hovertemplate\": \"name=Mars<br>index=357<br>x=%{x}<br>y=%{y}<br>z=%{z}<br>radius=%{marker.size}<extra></extra>\", \"ids\": [\"Mars\"], \"legendgroup\": \"Mars\", \"marker\": {\"color\": \"crimson\", \"size\": [8.12843769687102], \"sizemode\": \"area\", \"sizeref\": 0.050903371511914326, \"symbol\": \"circle\"}, \"mode\": \"markers\", \"name\": \"Mars\", \"scene\": \"scene\", \"showlegend\": true, \"x\": [-73.63180828851026], \"y\": [-29.790224511618323], \"z\": [-11.681277764405584], \"type\": \"scatter3d\"}, {\"hovertemplate\": \"name=Mercury<br>index=357<br>x=%{x}<br>y=%{y}<br>z=%{z}<br>radius=%{marker.size}<extra></extra>\", \"ids\": [\"Mercury\"], \"legendgroup\": \"Mercury\", \"marker\": {\"color\": \"cornflowerblue\", \"size\": [7.7996303599085035], \"sizemode\": \"area\", \"sizeref\": 0.050903371511914326, \"symbol\": \"circle\"}, \"mode\": \"markers\", \"name\": \"Mercury\", \"scene\": \"scene\", \"showlegend\": true, \"x\": [-51.11373046022535], \"y\": [13.918831001499909], \"z\": [12.705060392353518], \"type\": \"scatter3d\"}, {\"hovertemplate\": \"name=Neptune<br>index=357<br>x=%{x}<br>y=%{y}<br>z=%{z}<br>radius=%{marker.size}<extra></extra>\", \"ids\": [\"Neptune\"], \"legendgroup\": \"Neptune\", \"marker\": {\"color\": \"cyan\", \"size\": [10.15120663641638], \"sizemode\": \"area\", \"sizeref\": 0.050903371511914326, \"symbol\": \"circle\"}, \"mode\": \"markers\", \"name\": \"Neptune\", \"scene\": \"scene\", \"showlegend\": true, \"x\": [267.11011125703004], \"y\": [-333.2118365993293], \"z\": [-143.0200449224785], \"type\": \"scatter3d\"}, {\"hovertemplate\": \"name=Saturn<br>index=357<br>x=%{x}<br>y=%{y}<br>z=%{z}<br>radius=%{marker.size}<extra></extra>\", \"ids\": [\"Saturn\"], \"legendgroup\": \"Saturn\", \"marker\": {\"color\": \"khaki\", \"size\": [10.972190310798094], \"sizemode\": \"area\", \"sizeref\": 0.050903371511914326, \"symbol\": \"circle\"}, \"mode\": \"markers\", \"name\": \"Saturn\", \"scene\": \"scene\", \"showlegend\": true, \"x\": [66.49237152129898], \"y\": [110.8784973041531], \"z\": [42.940624551053055], \"type\": \"scatter3d\"}, {\"hovertemplate\": \"name=Uranus<br>index=357<br>x=%{x}<br>y=%{y}<br>z=%{z}<br>radius=%{marker.size}<extra></extra>\", \"ids\": [\"Uranus\"], \"legendgroup\": \"Uranus\", \"marker\": {\"color\": \"lightcyan\", \"size\": [10.141007269794844], \"sizemode\": \"area\", \"sizeref\": 0.050903371511914326, \"symbol\": \"circle\"}, \"mode\": \"markers\", \"name\": \"Uranus\", \"scene\": \"scene\", \"showlegend\": true, \"x\": [231.7256692946373], \"y\": [-171.33518016409397], \"z\": [-78.31971803852615], \"type\": \"scatter3d\"}, {\"hovertemplate\": \"name=Jupiter<br>index=357<br>x=%{x}<br>y=%{y}<br>z=%{z}<br>radius=%{marker.size}<extra></extra>\", \"ids\": [\"Jupiter\"], \"legendgroup\": \"Jupiter\", \"marker\": {\"color\": \"chocolate\", \"size\": [11.154978283509006], \"sizemode\": \"area\", \"sizeref\": 0.050903371511914326, \"symbol\": \"circle\"}, \"mode\": \"markers\", \"name\": \"Jupiter\", \"scene\": \"scene\", \"showlegend\": true, \"x\": [21.786894253039186], \"y\": [66.8290680401988], \"z\": [28.111748964770662], \"type\": \"scatter3d\"}, {\"hovertemplate\": \"name=Earth<br>index=357<br>x=%{x}<br>y=%{y}<br>z=%{z}<br>radius=%{marker.size}<extra></extra>\", \"ids\": [\"Earth\"], \"legendgroup\": \"Earth\", \"marker\": {\"color\": \"green\", \"size\": [8.759511722116487], \"sizemode\": \"area\", \"sizeref\": 0.050903371511914326, \"symbol\": \"circle\"}, \"mode\": \"markers\", \"name\": \"Earth\", \"scene\": \"scene\", \"showlegend\": true, \"x\": [-125.40150301585511], \"y\": [71.7553718921124], \"z\": [31.079644859364773], \"type\": \"scatter3d\"}], \"name\": \"357\"}, {\"data\": [{\"hovertemplate\": \"name=Sun<br>index=364<br>x=%{x}<br>y=%{y}<br>z=%{z}<br>radius=%{marker.size}<extra></extra>\", \"ids\": [\"Sun\"], \"legendgroup\": \"Sun\", \"marker\": {\"color\": \"orange\", \"size\": [20.36134860476573], \"sizemode\": \"area\", \"sizeref\": 0.050903371511914326, \"symbol\": \"circle\"}, \"mode\": \"markers\", \"name\": \"Sun\", \"scene\": \"scene\", \"showlegend\": true, \"x\": [11.513725174871144], \"y\": [12.208087017878775], \"z\": [2.4216351386869905], \"type\": \"scatter3d\"}, {\"hovertemplate\": \"name=Mars<br>index=364<br>x=%{x}<br>y=%{y}<br>z=%{z}<br>radius=%{marker.size}<extra></extra>\", \"ids\": [\"Mars\"], \"legendgroup\": \"Mars\", \"marker\": {\"color\": \"crimson\", \"size\": [8.12843769687102], \"sizemode\": \"area\", \"sizeref\": 0.050903371511914326, \"symbol\": \"circle\"}, \"mode\": \"markers\", \"name\": \"Mars\", \"scene\": \"scene\", \"showlegend\": true, \"x\": [-71.37236161973296], \"y\": [-33.40985616556288], \"z\": [-13.403350687765869], \"type\": \"scatter3d\"}, {\"hovertemplate\": \"name=Mercury<br>index=364<br>x=%{x}<br>y=%{y}<br>z=%{z}<br>radius=%{marker.size}<extra></extra>\", \"ids\": [\"Mercury\"], \"legendgroup\": \"Mercury\", \"marker\": {\"color\": \"cornflowerblue\", \"size\": [7.7996303599085035], \"sizemode\": \"area\", \"sizeref\": 0.050903371511914326, \"symbol\": \"circle\"}, \"mode\": \"markers\", \"name\": \"Mercury\", \"scene\": \"scene\", \"showlegend\": true, \"x\": [-59.38313756695807], \"y\": [-10.820261569954368], \"z\": [0.3469227401338875], \"type\": \"scatter3d\"}, {\"hovertemplate\": \"name=Neptune<br>index=364<br>x=%{x}<br>y=%{y}<br>z=%{z}<br>radius=%{marker.size}<extra></extra>\", \"ids\": [\"Neptune\"], \"legendgroup\": \"Neptune\", \"marker\": {\"color\": \"cyan\", \"size\": [10.15120663641638], \"sizemode\": \"area\", \"sizeref\": 0.050903371511914326, \"symbol\": \"circle\"}, \"mode\": \"markers\", \"name\": \"Neptune\", \"scene\": \"scene\", \"showlegend\": true, \"x\": [267.37200365227454], \"y\": [-333.0264464374466], \"z\": [-142.9506731624809], \"type\": \"scatter3d\"}, {\"hovertemplate\": \"name=Saturn<br>index=364<br>x=%{x}<br>y=%{y}<br>z=%{z}<br>radius=%{marker.size}<extra></extra>\", \"ids\": [\"Saturn\"], \"legendgroup\": \"Saturn\", \"marker\": {\"color\": \"khaki\", \"size\": [10.972190310798094], \"sizemode\": \"area\", \"sizeref\": 0.050903371511914326, \"symbol\": \"circle\"}, \"mode\": \"markers\", \"name\": \"Saturn\", \"scene\": \"scene\", \"showlegend\": true, \"x\": [65.9505692463245], \"y\": [111.13205676766408], \"z\": [43.068641347583856], \"type\": \"scatter3d\"}, {\"hovertemplate\": \"name=Uranus<br>index=364<br>x=%{x}<br>y=%{y}<br>z=%{z}<br>radius=%{marker.size}<extra></extra>\", \"ids\": [\"Uranus\"], \"legendgroup\": \"Uranus\", \"marker\": {\"color\": \"lightcyan\", \"size\": [10.141007269794844], \"sizemode\": \"area\", \"sizeref\": 0.050903371511914326, \"symbol\": \"circle\"}, \"mode\": \"markers\", \"name\": \"Uranus\", \"scene\": \"scene\", \"showlegend\": true, \"x\": [231.9817720807685], \"y\": [-171.05785420612727], \"z\": [-78.20190245380354], \"type\": \"scatter3d\"}, {\"hovertemplate\": \"name=Jupiter<br>index=364<br>x=%{x}<br>y=%{y}<br>z=%{z}<br>radius=%{marker.size}<extra></extra>\", \"ids\": [\"Jupiter\"], \"legendgroup\": \"Jupiter\", \"marker\": {\"color\": \"chocolate\", \"size\": [11.154978283509006], \"sizemode\": \"area\", \"sizeref\": 0.050903371511914326, \"symbol\": \"circle\"}, \"mode\": \"markers\", \"name\": \"Jupiter\", \"scene\": \"scene\", \"showlegend\": true, \"x\": [21.01830452615093], \"y\": [67.06238163422152], \"z\": [28.230499363558796], \"type\": \"scatter3d\"}, {\"hovertemplate\": \"name=Earth<br>index=364<br>x=%{x}<br>y=%{y}<br>z=%{z}<br>radius=%{marker.size}<extra></extra>\", \"ids\": [\"Earth\"], \"legendgroup\": \"Earth\", \"marker\": {\"color\": \"green\", \"size\": [8.759511722116487], \"sizemode\": \"area\", \"sizeref\": 0.050903371511914326, \"symbol\": \"circle\"}, \"mode\": \"markers\", \"name\": \"Earth\", \"scene\": \"scene\", \"showlegend\": true, \"x\": [-134.24333138902105], \"y\": [57.155418422342166], \"z\": [24.751175826884648], \"type\": \"scatter3d\"}], \"name\": \"364\"}]);\n",
       "                        }).then(function(){\n",
       "                            \n",
       "var gd = document.getElementById('aeb823a2-1ecc-4c0e-b770-375eb222e58c');\n",
       "var x = new MutationObserver(function (mutations, observer) {{\n",
       "        var display = window.getComputedStyle(gd).display;\n",
       "        if (!display || display === 'none') {{\n",
       "            console.log([gd, 'removed!']);\n",
       "            Plotly.purge(gd);\n",
       "            observer.disconnect();\n",
       "        }}\n",
       "}});\n",
       "\n",
       "// Listen for the removal of the full notebook cells\n",
       "var notebookContainer = gd.closest('#notebook-container');\n",
       "if (notebookContainer) {{\n",
       "    x.observe(notebookContainer, {childList: true});\n",
       "}}\n",
       "\n",
       "// Listen for the clearing of the current output cell\n",
       "var outputEl = gd.closest('.output');\n",
       "if (outputEl) {{\n",
       "    x.observe(outputEl, {childList: true});\n",
       "}}\n",
       "\n",
       "                        })                };                });            </script>        </div>"
      ]
     },
     "metadata": {},
     "output_type": "display_data"
    }
   ],
   "source": [
    "fig = px.scatter_3d(downsampled_position_history, x=\"x\", y=\"y\", z=\"z\", color=\"name\", size=\"radius\",\n",
    "                    animation_frame=\"index\", animation_group=\"name\",\n",
    "                    template=\"plotly_dark\",\n",
    "                    color_discrete_sequence=[\"orange\", \"crimson\", \"cornflowerblue\", \"cyan\", \n",
    "                                             \"khaki\", \"lightcyan\", \"chocolate\", \"green\"],\n",
    "                   )\n",
    "\n",
    "# fig.update_layout(\n",
    "#     scene = dict(\n",
    "#         xaxis = dict(nticks=2, range=[-x_limit, x_limit],),\n",
    "#         yaxis = dict(nticks=2, range=[-y_limit, y_limit],),\n",
    "#         zaxis = dict(nticks=2, range=[-z_limit, z_limit],),),\n",
    "#     width=700,\n",
    "#     margin=dict(r=20, l=10, b=10, t=10))\n",
    "fig.update_layout(scene_aspectmode='cube', \n",
    "                  scene = dict(xaxis = dict(nticks=3, range=[-x_limit, x_limit],),\n",
    "                               yaxis = dict(nticks=3, range=[-y_limit, y_limit],),\n",
    "                               zaxis = dict(nticks=3, range=[-z_limit, z_limit],),\n",
    "                              ),\n",
    "                  width=700,)\n",
    "# fig.update_layout(sliders=sliders)\n",
    "fig"
   ]
  },
  {
   "cell_type": "code",
   "execution_count": null,
   "id": "answering-cartoon",
   "metadata": {},
   "outputs": [],
   "source": []
  }
 ],
 "metadata": {
  "kernelspec": {
   "display_name": "Python 3",
   "language": "python",
   "name": "python3"
  },
  "language_info": {
   "codemirror_mode": {
    "name": "ipython",
    "version": 3
   },
   "file_extension": ".py",
   "mimetype": "text/x-python",
   "name": "python",
   "nbconvert_exporter": "python",
   "pygments_lexer": "ipython3",
   "version": "3.8.8"
  }
 },
 "nbformat": 4,
 "nbformat_minor": 5
}
