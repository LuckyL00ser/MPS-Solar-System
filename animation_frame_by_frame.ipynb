{
 "cells": [
  {
   "cell_type": "code",
   "execution_count": 2,
   "id": "documentary-fitting",
   "metadata": {},
   "outputs": [
    {
     "data": {
      "text/html": [
       "        <script type=\"text/javascript\">\n",
       "        window.PlotlyConfig = {MathJaxConfig: 'local'};\n",
       "        if (window.MathJax) {MathJax.Hub.Config({SVG: {font: \"STIX-Web\"}});}\n",
       "        if (typeof require !== 'undefined') {\n",
       "        require.undef(\"plotly\");\n",
       "        requirejs.config({\n",
       "            paths: {\n",
       "                'plotly': ['https://cdn.plot.ly/plotly-latest.min']\n",
       "            }\n",
       "        });\n",
       "        require(['plotly'], function(Plotly) {\n",
       "            window._Plotly = Plotly;\n",
       "        });\n",
       "        }\n",
       "        </script>\n",
       "        "
      ]
     },
     "metadata": {},
     "output_type": "display_data"
    },
    {
     "data": {
      "text/html": [
       "        <script type=\"text/javascript\">\n",
       "        window.PlotlyConfig = {MathJaxConfig: 'local'};\n",
       "        if (window.MathJax) {MathJax.Hub.Config({SVG: {font: \"STIX-Web\"}});}\n",
       "        if (typeof require !== 'undefined') {\n",
       "        require.undef(\"plotly\");\n",
       "        requirejs.config({\n",
       "            paths: {\n",
       "                'plotly': ['https://cdn.plot.ly/plotly-latest.min']\n",
       "            }\n",
       "        });\n",
       "        require(['plotly'], function(Plotly) {\n",
       "            window._Plotly = Plotly;\n",
       "        });\n",
       "        }\n",
       "        </script>\n",
       "        "
      ]
     },
     "metadata": {},
     "output_type": "display_data"
    }
   ],
   "source": [
    "import numpy as np\n",
    "import pandas as pd\n",
    "import seaborn as sns\n",
    "import cufflinks as cf\n",
    "import plotly.express as px\n",
    "import chart_studio.plotly as py\n",
    "%matplotlib inline\n",
    "\n",
    "from plotly.offline import download_plotlyjs, init_notebook_mode, plot, iplot\n",
    "init_notebook_mode(connected=True)\n",
    "cf.go_offline()\n",
    "\n",
    "\n",
    "def scale_axis(data: pd.DataFrame, scale:dict) -> pd.DataFrame:\n",
    "    data = data.copy()\n",
    "    new_list = []\n",
    "    for key in data[\"name\"].to_list():\n",
    "        new_list.append(scale[key])\n",
    "    data[\"scale\"] = new_list\n",
    "    data[\"x\"] = data[\"x\"] / data[\"scale\"]\n",
    "    data[\"y\"] = data[\"y\"] / data[\"scale\"]\n",
    "    data[\"z\"] = data[\"z\"] / data[\"scale\"]\n",
    "    return data\n",
    "\n",
    "def frame_args(duration):\n",
    "    return {\n",
    "            \"frame\": {\"duration\": duration},\n",
    "            \"mode\": \"next\",\n",
    "            \"fromcurrent\": True,\n",
    "            \"transition\": {\"duration\": duration, \"easing\": \"linear\"},\n",
    "            }\n",
    "\n",
    "# def frame_args_hidden(frames, period):\n",
    "    "
   ]
  },
  {
   "cell_type": "code",
   "execution_count": 141,
   "id": "beginning-chess",
   "metadata": {},
   "outputs": [
    {
     "data": {
      "text/html": [
       "<div>\n",
       "<style scoped>\n",
       "    .dataframe tbody tr th:only-of-type {\n",
       "        vertical-align: middle;\n",
       "    }\n",
       "\n",
       "    .dataframe tbody tr th {\n",
       "        vertical-align: top;\n",
       "    }\n",
       "\n",
       "    .dataframe thead th {\n",
       "        text-align: right;\n",
       "    }\n",
       "</style>\n",
       "<table border=\"1\" class=\"dataframe\">\n",
       "  <thead>\n",
       "    <tr style=\"text-align: right;\">\n",
       "      <th></th>\n",
       "      <th>name</th>\n",
       "      <th>mass</th>\n",
       "      <th>color</th>\n",
       "      <th>radius</th>\n",
       "    </tr>\n",
       "  </thead>\n",
       "  <tbody>\n",
       "    <tr>\n",
       "      <th>0</th>\n",
       "      <td>Sun</td>\n",
       "      <td>1.988470e+30</td>\n",
       "      <td>yellow</td>\n",
       "      <td>17.033545</td>\n",
       "    </tr>\n",
       "    <tr>\n",
       "      <th>1</th>\n",
       "      <td>Mercury</td>\n",
       "      <td>3.285000e+23</td>\n",
       "      <td>orange</td>\n",
       "      <td>2.469666</td>\n",
       "    </tr>\n",
       "    <tr>\n",
       "      <th>3</th>\n",
       "      <td>Earth</td>\n",
       "      <td>6.046000e+24</td>\n",
       "      <td>blue</td>\n",
       "      <td>3.990927</td>\n",
       "    </tr>\n",
       "    <tr>\n",
       "      <th>4</th>\n",
       "      <td>Mars</td>\n",
       "      <td>6.390000e+23</td>\n",
       "      <td>red</td>\n",
       "      <td>2.910971</td>\n",
       "    </tr>\n",
       "    <tr>\n",
       "      <th>5</th>\n",
       "      <td>Jupiter</td>\n",
       "      <td>1.898000e+27</td>\n",
       "      <td>orange</td>\n",
       "      <td>13.220344</td>\n",
       "    </tr>\n",
       "    <tr>\n",
       "      <th>6</th>\n",
       "      <td>Saturn</td>\n",
       "      <td>5.683000e+26</td>\n",
       "      <td>brown</td>\n",
       "      <td>12.065654</td>\n",
       "    </tr>\n",
       "    <tr>\n",
       "      <th>7</th>\n",
       "      <td>Uranus</td>\n",
       "      <td>8.681000e+25</td>\n",
       "      <td>purple</td>\n",
       "      <td>7.962726</td>\n",
       "    </tr>\n",
       "    <tr>\n",
       "      <th>8</th>\n",
       "      <td>Neptune</td>\n",
       "      <td>1.024000e+26</td>\n",
       "      <td>cyan</td>\n",
       "      <td>8.003437</td>\n",
       "    </tr>\n",
       "  </tbody>\n",
       "</table>\n",
       "</div>"
      ],
      "text/plain": [
       "      name          mass   color     radius\n",
       "0      Sun  1.988470e+30  yellow  17.033545\n",
       "1  Mercury  3.285000e+23  orange   2.469666\n",
       "3    Earth  6.046000e+24    blue   3.990927\n",
       "4     Mars  6.390000e+23     red   2.910971\n",
       "5  Jupiter  1.898000e+27  orange  13.220344\n",
       "6   Saturn  5.683000e+26   brown  12.065654\n",
       "7   Uranus  8.681000e+25  purple   7.962726\n",
       "8  Neptune  1.024000e+26    cyan   8.003437"
      ]
     },
     "execution_count": 141,
     "metadata": {},
     "output_type": "execute_result"
    }
   ],
   "source": [
    "planets_data = pd.read_csv(\"planets_data.csv\", index_col=0)\n",
    "planets_data = planets_data[planets_data.name != \"Venus\"]\n",
    "number_of_planets = planets_data.shape[0]\n",
    "planets_data[\"radius\"][planets_data[\"name\"] == \"Sun\"] = \\\n",
    "    planets_data[\"radius\"][planets_data[\"name\"] == \"Sun\"]/6000\n",
    "max_radius = np.amax(planets_data[\"radius\"])\n",
    "planets_data[\"radius\"] = np.sqrt(planets_data[\"radius\"]) / 20#/ max_radius * 15\n",
    "planets_data"
   ]
  },
  {
   "cell_type": "code",
   "execution_count": 93,
   "id": "frozen-disclosure",
   "metadata": {},
   "outputs": [],
   "source": [
    "import datetime\n",
    "\n",
    "position_history = pd.read_csv(\"results_wide.csv\", index_col=0)"
   ]
  },
  {
   "cell_type": "code",
   "execution_count": 94,
   "id": "identified-electron",
   "metadata": {
    "scrolled": true
   },
   "outputs": [
    {
     "data": {
      "text/html": [
       "<div>\n",
       "<style scoped>\n",
       "    .dataframe tbody tr th:only-of-type {\n",
       "        vertical-align: middle;\n",
       "    }\n",
       "\n",
       "    .dataframe tbody tr th {\n",
       "        vertical-align: top;\n",
       "    }\n",
       "\n",
       "    .dataframe thead th {\n",
       "        text-align: right;\n",
       "    }\n",
       "</style>\n",
       "<table border=\"1\" class=\"dataframe\">\n",
       "  <thead>\n",
       "    <tr style=\"text-align: right;\">\n",
       "      <th></th>\n",
       "      <th>time</th>\n",
       "      <th>Sun_x</th>\n",
       "      <th>Sun_y</th>\n",
       "      <th>Sun_z</th>\n",
       "      <th>Mercury_x</th>\n",
       "      <th>Mercury_y</th>\n",
       "      <th>Mercury_z</th>\n",
       "      <th>Venus_x</th>\n",
       "      <th>Venus_y</th>\n",
       "      <th>Venus_z</th>\n",
       "      <th>...</th>\n",
       "      <th>Jupiter_z</th>\n",
       "      <th>Saturn_x</th>\n",
       "      <th>Saturn_y</th>\n",
       "      <th>Saturn_z</th>\n",
       "      <th>Uranus_x</th>\n",
       "      <th>Uranus_y</th>\n",
       "      <th>Uranus_z</th>\n",
       "      <th>Neptune_x</th>\n",
       "      <th>Neptune_y</th>\n",
       "      <th>Neptune_z</th>\n",
       "    </tr>\n",
       "  </thead>\n",
       "  <tbody>\n",
       "    <tr>\n",
       "      <th>0</th>\n",
       "      <td>2021:05:22</td>\n",
       "      <td>0.000000</td>\n",
       "      <td>0.000000</td>\n",
       "      <td>0.000000</td>\n",
       "      <td>-3.744435e+10</td>\n",
       "      <td>2.801968e+10</td>\n",
       "      <td>1.884933e+10</td>\n",
       "      <td>2.614971e+09</td>\n",
       "      <td>-9.909363e+10</td>\n",
       "      <td>-4.474472e+10</td>\n",
       "      <td>...</td>\n",
       "      <td>1.820606e+11</td>\n",
       "      <td>9.221213e+11</td>\n",
       "      <td>9.524896e+11</td>\n",
       "      <td>3.537990e+11</td>\n",
       "      <td>2.181137e+12</td>\n",
       "      <td>-1.850526e+12</td>\n",
       "      <td>-8.413384e+11</td>\n",
       "      <td>2.535684e+12</td>\n",
       "      <td>-3.424295e+12</td>\n",
       "      <td>-1.464563e+12</td>\n",
       "    </tr>\n",
       "    <tr>\n",
       "      <th>1</th>\n",
       "      <td>2021:05:23</td>\n",
       "      <td>611.652008</td>\n",
       "      <td>563.556898</td>\n",
       "      <td>226.075238</td>\n",
       "      <td>-4.094835e+10</td>\n",
       "      <td>2.514385e+10</td>\n",
       "      <td>1.767651e+10</td>\n",
       "      <td>2.914506e+09</td>\n",
       "      <td>-9.893033e+10</td>\n",
       "      <td>-4.486135e+10</td>\n",
       "      <td>...</td>\n",
       "      <td>1.824312e+11</td>\n",
       "      <td>9.214588e+11</td>\n",
       "      <td>9.529972e+11</td>\n",
       "      <td>3.540371e+11</td>\n",
       "      <td>2.181533e+12</td>\n",
       "      <td>-1.850153e+12</td>\n",
       "      <td>-8.411810e+11</td>\n",
       "      <td>2.536068e+12</td>\n",
       "      <td>-3.424044e+12</td>\n",
       "      <td>-1.464470e+12</td>\n",
       "    </tr>\n",
       "    <tr>\n",
       "      <th>2</th>\n",
       "      <td>2021:05:24</td>\n",
       "      <td>2444.283785</td>\n",
       "      <td>2251.538961</td>\n",
       "      <td>902.902288</td>\n",
       "      <td>-4.415010e+10</td>\n",
       "      <td>2.208243e+10</td>\n",
       "      <td>1.637320e+10</td>\n",
       "      <td>3.211793e+09</td>\n",
       "      <td>-9.869065e+10</td>\n",
       "      <td>-4.494335e+10</td>\n",
       "      <td>...</td>\n",
       "      <td>1.828014e+11</td>\n",
       "      <td>9.207960e+11</td>\n",
       "      <td>9.535044e+11</td>\n",
       "      <td>3.542750e+11</td>\n",
       "      <td>2.181929e+12</td>\n",
       "      <td>-1.849781e+12</td>\n",
       "      <td>-8.410236e+11</td>\n",
       "      <td>2.536452e+12</td>\n",
       "      <td>-3.423792e+12</td>\n",
       "      <td>-1.464376e+12</td>\n",
       "    </tr>\n",
       "    <tr>\n",
       "      <th>3</th>\n",
       "      <td>2021:05:25</td>\n",
       "      <td>5493.618719</td>\n",
       "      <td>5058.547568</td>\n",
       "      <td>2027.642987</td>\n",
       "      <td>-4.704093e+10</td>\n",
       "      <td>1.886549e+10</td>\n",
       "      <td>1.495459e+10</td>\n",
       "      <td>3.506588e+09</td>\n",
       "      <td>-9.837440e+10</td>\n",
       "      <td>-4.499047e+10</td>\n",
       "      <td>...</td>\n",
       "      <td>1.831712e+11</td>\n",
       "      <td>9.201329e+11</td>\n",
       "      <td>9.540112e+11</td>\n",
       "      <td>3.545128e+11</td>\n",
       "      <td>2.182325e+12</td>\n",
       "      <td>-1.849409e+12</td>\n",
       "      <td>-8.408662e+11</td>\n",
       "      <td>2.536837e+12</td>\n",
       "      <td>-3.423540e+12</td>\n",
       "      <td>-1.464283e+12</td>\n",
       "    </tr>\n",
       "    <tr>\n",
       "      <th>4</th>\n",
       "      <td>2021:05:26</td>\n",
       "      <td>9756.084699</td>\n",
       "      <td>8979.172834</td>\n",
       "      <td>3597.397893</td>\n",
       "      <td>-4.961592e+10</td>\n",
       "      <td>1.552189e+10</td>\n",
       "      <td>1.343558e+10</td>\n",
       "      <td>3.798645e+09</td>\n",
       "      <td>-9.798127e+10</td>\n",
       "      <td>-4.500243e+10</td>\n",
       "      <td>...</td>\n",
       "      <td>1.835405e+11</td>\n",
       "      <td>9.194694e+11</td>\n",
       "      <td>9.545176e+11</td>\n",
       "      <td>3.547505e+11</td>\n",
       "      <td>2.182721e+12</td>\n",
       "      <td>-1.849036e+12</td>\n",
       "      <td>-8.407087e+11</td>\n",
       "      <td>2.537221e+12</td>\n",
       "      <td>-3.423288e+12</td>\n",
       "      <td>-1.464189e+12</td>\n",
       "    </tr>\n",
       "  </tbody>\n",
       "</table>\n",
       "<p>5 rows × 28 columns</p>\n",
       "</div>"
      ],
      "text/plain": [
       "         time        Sun_x        Sun_y        Sun_z     Mercury_x  \\\n",
       "0  2021:05:22     0.000000     0.000000     0.000000 -3.744435e+10   \n",
       "1  2021:05:23   611.652008   563.556898   226.075238 -4.094835e+10   \n",
       "2  2021:05:24  2444.283785  2251.538961   902.902288 -4.415010e+10   \n",
       "3  2021:05:25  5493.618719  5058.547568  2027.642987 -4.704093e+10   \n",
       "4  2021:05:26  9756.084699  8979.172834  3597.397893 -4.961592e+10   \n",
       "\n",
       "      Mercury_y     Mercury_z       Venus_x       Venus_y       Venus_z  ...  \\\n",
       "0  2.801968e+10  1.884933e+10  2.614971e+09 -9.909363e+10 -4.474472e+10  ...   \n",
       "1  2.514385e+10  1.767651e+10  2.914506e+09 -9.893033e+10 -4.486135e+10  ...   \n",
       "2  2.208243e+10  1.637320e+10  3.211793e+09 -9.869065e+10 -4.494335e+10  ...   \n",
       "3  1.886549e+10  1.495459e+10  3.506588e+09 -9.837440e+10 -4.499047e+10  ...   \n",
       "4  1.552189e+10  1.343558e+10  3.798645e+09 -9.798127e+10 -4.500243e+10  ...   \n",
       "\n",
       "      Jupiter_z      Saturn_x      Saturn_y      Saturn_z      Uranus_x  \\\n",
       "0  1.820606e+11  9.221213e+11  9.524896e+11  3.537990e+11  2.181137e+12   \n",
       "1  1.824312e+11  9.214588e+11  9.529972e+11  3.540371e+11  2.181533e+12   \n",
       "2  1.828014e+11  9.207960e+11  9.535044e+11  3.542750e+11  2.181929e+12   \n",
       "3  1.831712e+11  9.201329e+11  9.540112e+11  3.545128e+11  2.182325e+12   \n",
       "4  1.835405e+11  9.194694e+11  9.545176e+11  3.547505e+11  2.182721e+12   \n",
       "\n",
       "       Uranus_y      Uranus_z     Neptune_x     Neptune_y     Neptune_z  \n",
       "0 -1.850526e+12 -8.413384e+11  2.535684e+12 -3.424295e+12 -1.464563e+12  \n",
       "1 -1.850153e+12 -8.411810e+11  2.536068e+12 -3.424044e+12 -1.464470e+12  \n",
       "2 -1.849781e+12 -8.410236e+11  2.536452e+12 -3.423792e+12 -1.464376e+12  \n",
       "3 -1.849409e+12 -8.408662e+11  2.536837e+12 -3.423540e+12 -1.464283e+12  \n",
       "4 -1.849036e+12 -8.407087e+11  2.537221e+12 -3.423288e+12 -1.464189e+12  \n",
       "\n",
       "[5 rows x 28 columns]"
      ]
     },
     "execution_count": 94,
     "metadata": {},
     "output_type": "execute_result"
    }
   ],
   "source": [
    "import datetime\n",
    "\n",
    "steps = 300\n",
    "scale = {\"Sun\": 1*10e6, \"Mercury\": 1*10e7, \"Venus\":1*10e7, \"Earth\":1*10e7, \"Mars\":1*10e7,\n",
    "         \"Jupiter\":3*10e7, \"Saturn\":1*10e7, \"Uranus\":1*10e7, \"Neptune\": 1*10e7}\n",
    "# scale = {\"Sun\": 1, \"Mercury\": 1, \"Venus\":1, \"Earth\":1, \"Mars\":1,\n",
    "#          \"Jupiter\":1, \"Saturn\":1, \"Uranus\":1, \"Neptune\": 1}\n",
    "\n",
    "position_history = pd.read_csv(\"results_wide.csv\", index_col=0)\n",
    "position_history[\"time\"] = pd.to_datetime(position_history[\"time\"]).astype(\"datetime64[D]\")\n",
    "time_step = ((max(position_history[\"time\"]) - min(position_history[\"time\"])) / steps).days\n",
    "position_history[\"time\"] = position_history[\"time\"].dt.strftime(\"%Y:%m:%d\")\n",
    "\n",
    "x_limit = position_history[\"Neptune_x\"].abs().max()\n",
    "y_limit = position_history[\"Neptune_y\"].abs().max()\n",
    "z_limit = position_history[\"Neptune_z\"].abs().max()\n",
    "\n",
    "\n",
    "\n",
    "position_history.head()\n",
    "\n",
    "\n",
    "# # position_history = scale_axis(position_history, scale=scale)\n",
    "# position_history[\"radius\"] = np.power(position_history[\"radius\"], 1/4) * 10e6\n",
    "\n",
    "# downsampled_position_history = position_history[0:number_of_planets]\n",
    "# for index in range(number_of_planets*time_step, position_history.shape[0], number_of_planets*time_step):\n",
    "#     downsampled_position_history = downsampled_position_history.append(position_history[index:index+number_of_planets])\n",
    "\n",
    "# print(f\"Data shape:{downsampled_position_history.shape}\")\n",
    "# downsampled_position_history.head(number_of_planets)"
   ]
  },
  {
   "cell_type": "markdown",
   "id": "fewer-float",
   "metadata": {},
   "source": [
    "# Creation of a single graph / frame\n",
    "Later on implement a way to generate multiple frames and show them as video"
   ]
  },
  {
   "cell_type": "code",
   "execution_count": 153,
   "id": "serial-deposit",
   "metadata": {},
   "outputs": [
    {
     "data": {
      "application/vnd.plotly.v1+json": {
       "config": {
        "plotlyServerURL": "https://plot.ly"
       },
       "data": [
        {
         "marker": {
          "color": "yellow",
          "size": 17.033545334623284
         },
         "mode": "markers",
         "name": "Sun",
         "type": "scatter3d",
         "x": [
          0
         ],
         "y": [
          0
         ],
         "z": [
          0
         ]
        },
        {
         "marker": {
          "color": "orange",
          "size": 2.4696659693164986
         },
         "mode": "markers",
         "name": "Mercury",
         "type": "scatter3d",
         "x": [
          -37444347036.21001
         ],
         "y": [
          28019681182.11
         ],
         "z": [
          18849331708.2
         ]
        },
        {
         "marker": {
          "color": "blue",
          "size": 3.9909272105614755
         },
         "mode": "markers",
         "name": "Earth",
         "type": "scatter3d",
         "x": [
          -136014384040.44
         ],
         "y": [
          53750514942.51
         ],
         "z": [
          23307348255.06
         ]
        },
        {
         "marker": {
          "color": "red",
          "size": 2.910970628501772
         },
         "mode": "markers",
         "name": "Mars",
         "type": "scatter3d",
         "x": [
          179966238452.1
         ],
         "y": [
          108772611785.97
         ],
         "z": [
          45028959080.7
         ]
        },
        {
         "marker": {
          "color": "orange",
          "size": 13.220344171011584
         },
         "mode": "markers",
         "name": "Jupiter",
         "type": "scatter3d",
         "x": [
          558448851323.1
         ],
         "y": [
          456572701376.4
         ],
         "z": [
          182060608641.9
         ]
        },
        {
         "marker": {
          "color": "brown",
          "size": 12.065653732807021
         },
         "mode": "markers",
         "name": "Saturn",
         "type": "scatter3d",
         "x": [
          922121274994.8
         ],
         "y": [
          952489642746.9
         ],
         "z": [
          353798964205.50006
         ]
        },
        {
         "marker": {
          "color": "purple",
          "size": 7.962725663992198
         },
         "mode": "markers",
         "name": "Uranus",
         "type": "scatter3d",
         "x": [
          2181136954806
         ],
         "y": [
          -1850525660559
         ],
         "z": [
          -841338424816.7999
         ]
        },
        {
         "marker": {
          "color": "cyan",
          "size": 8.003436761791773
         },
         "mode": "markers",
         "name": "Neptune",
         "type": "scatter3d",
         "x": [
          2535683908365
         ],
         "y": [
          -3424295260323
         ],
         "z": [
          -1464563154152.9998
         ]
        }
       ],
       "layout": {
        "scene": {
         "bgcolor": "black",
         "xaxis": {
          "autorange": false,
          "range": [
           -2537221000000,
           2537221000000
          ],
          "visible": false
         },
         "yaxis": {
          "autorange": false,
          "range": [
           -3423288000000,
           3423288000000
          ],
          "visible": false
         },
         "zaxis": {
          "autorange": false,
          "range": [
           -1464189000000,
           1464189000000
          ],
          "visible": false
         }
        },
        "template": {
         "data": {
          "bar": [
           {
            "error_x": {
             "color": "#2a3f5f"
            },
            "error_y": {
             "color": "#2a3f5f"
            },
            "marker": {
             "line": {
              "color": "#E5ECF6",
              "width": 0.5
             }
            },
            "type": "bar"
           }
          ],
          "barpolar": [
           {
            "marker": {
             "line": {
              "color": "#E5ECF6",
              "width": 0.5
             }
            },
            "type": "barpolar"
           }
          ],
          "carpet": [
           {
            "aaxis": {
             "endlinecolor": "#2a3f5f",
             "gridcolor": "white",
             "linecolor": "white",
             "minorgridcolor": "white",
             "startlinecolor": "#2a3f5f"
            },
            "baxis": {
             "endlinecolor": "#2a3f5f",
             "gridcolor": "white",
             "linecolor": "white",
             "minorgridcolor": "white",
             "startlinecolor": "#2a3f5f"
            },
            "type": "carpet"
           }
          ],
          "choropleth": [
           {
            "colorbar": {
             "outlinewidth": 0,
             "ticks": ""
            },
            "type": "choropleth"
           }
          ],
          "contour": [
           {
            "colorbar": {
             "outlinewidth": 0,
             "ticks": ""
            },
            "colorscale": [
             [
              0,
              "#0d0887"
             ],
             [
              0.1111111111111111,
              "#46039f"
             ],
             [
              0.2222222222222222,
              "#7201a8"
             ],
             [
              0.3333333333333333,
              "#9c179e"
             ],
             [
              0.4444444444444444,
              "#bd3786"
             ],
             [
              0.5555555555555556,
              "#d8576b"
             ],
             [
              0.6666666666666666,
              "#ed7953"
             ],
             [
              0.7777777777777778,
              "#fb9f3a"
             ],
             [
              0.8888888888888888,
              "#fdca26"
             ],
             [
              1,
              "#f0f921"
             ]
            ],
            "type": "contour"
           }
          ],
          "contourcarpet": [
           {
            "colorbar": {
             "outlinewidth": 0,
             "ticks": ""
            },
            "type": "contourcarpet"
           }
          ],
          "heatmap": [
           {
            "colorbar": {
             "outlinewidth": 0,
             "ticks": ""
            },
            "colorscale": [
             [
              0,
              "#0d0887"
             ],
             [
              0.1111111111111111,
              "#46039f"
             ],
             [
              0.2222222222222222,
              "#7201a8"
             ],
             [
              0.3333333333333333,
              "#9c179e"
             ],
             [
              0.4444444444444444,
              "#bd3786"
             ],
             [
              0.5555555555555556,
              "#d8576b"
             ],
             [
              0.6666666666666666,
              "#ed7953"
             ],
             [
              0.7777777777777778,
              "#fb9f3a"
             ],
             [
              0.8888888888888888,
              "#fdca26"
             ],
             [
              1,
              "#f0f921"
             ]
            ],
            "type": "heatmap"
           }
          ],
          "heatmapgl": [
           {
            "colorbar": {
             "outlinewidth": 0,
             "ticks": ""
            },
            "colorscale": [
             [
              0,
              "#0d0887"
             ],
             [
              0.1111111111111111,
              "#46039f"
             ],
             [
              0.2222222222222222,
              "#7201a8"
             ],
             [
              0.3333333333333333,
              "#9c179e"
             ],
             [
              0.4444444444444444,
              "#bd3786"
             ],
             [
              0.5555555555555556,
              "#d8576b"
             ],
             [
              0.6666666666666666,
              "#ed7953"
             ],
             [
              0.7777777777777778,
              "#fb9f3a"
             ],
             [
              0.8888888888888888,
              "#fdca26"
             ],
             [
              1,
              "#f0f921"
             ]
            ],
            "type": "heatmapgl"
           }
          ],
          "histogram": [
           {
            "marker": {
             "colorbar": {
              "outlinewidth": 0,
              "ticks": ""
             }
            },
            "type": "histogram"
           }
          ],
          "histogram2d": [
           {
            "colorbar": {
             "outlinewidth": 0,
             "ticks": ""
            },
            "colorscale": [
             [
              0,
              "#0d0887"
             ],
             [
              0.1111111111111111,
              "#46039f"
             ],
             [
              0.2222222222222222,
              "#7201a8"
             ],
             [
              0.3333333333333333,
              "#9c179e"
             ],
             [
              0.4444444444444444,
              "#bd3786"
             ],
             [
              0.5555555555555556,
              "#d8576b"
             ],
             [
              0.6666666666666666,
              "#ed7953"
             ],
             [
              0.7777777777777778,
              "#fb9f3a"
             ],
             [
              0.8888888888888888,
              "#fdca26"
             ],
             [
              1,
              "#f0f921"
             ]
            ],
            "type": "histogram2d"
           }
          ],
          "histogram2dcontour": [
           {
            "colorbar": {
             "outlinewidth": 0,
             "ticks": ""
            },
            "colorscale": [
             [
              0,
              "#0d0887"
             ],
             [
              0.1111111111111111,
              "#46039f"
             ],
             [
              0.2222222222222222,
              "#7201a8"
             ],
             [
              0.3333333333333333,
              "#9c179e"
             ],
             [
              0.4444444444444444,
              "#bd3786"
             ],
             [
              0.5555555555555556,
              "#d8576b"
             ],
             [
              0.6666666666666666,
              "#ed7953"
             ],
             [
              0.7777777777777778,
              "#fb9f3a"
             ],
             [
              0.8888888888888888,
              "#fdca26"
             ],
             [
              1,
              "#f0f921"
             ]
            ],
            "type": "histogram2dcontour"
           }
          ],
          "mesh3d": [
           {
            "colorbar": {
             "outlinewidth": 0,
             "ticks": ""
            },
            "type": "mesh3d"
           }
          ],
          "parcoords": [
           {
            "line": {
             "colorbar": {
              "outlinewidth": 0,
              "ticks": ""
             }
            },
            "type": "parcoords"
           }
          ],
          "pie": [
           {
            "automargin": true,
            "type": "pie"
           }
          ],
          "scatter": [
           {
            "marker": {
             "colorbar": {
              "outlinewidth": 0,
              "ticks": ""
             }
            },
            "type": "scatter"
           }
          ],
          "scatter3d": [
           {
            "line": {
             "colorbar": {
              "outlinewidth": 0,
              "ticks": ""
             }
            },
            "marker": {
             "colorbar": {
              "outlinewidth": 0,
              "ticks": ""
             }
            },
            "type": "scatter3d"
           }
          ],
          "scattercarpet": [
           {
            "marker": {
             "colorbar": {
              "outlinewidth": 0,
              "ticks": ""
             }
            },
            "type": "scattercarpet"
           }
          ],
          "scattergeo": [
           {
            "marker": {
             "colorbar": {
              "outlinewidth": 0,
              "ticks": ""
             }
            },
            "type": "scattergeo"
           }
          ],
          "scattergl": [
           {
            "marker": {
             "colorbar": {
              "outlinewidth": 0,
              "ticks": ""
             }
            },
            "type": "scattergl"
           }
          ],
          "scattermapbox": [
           {
            "marker": {
             "colorbar": {
              "outlinewidth": 0,
              "ticks": ""
             }
            },
            "type": "scattermapbox"
           }
          ],
          "scatterpolar": [
           {
            "marker": {
             "colorbar": {
              "outlinewidth": 0,
              "ticks": ""
             }
            },
            "type": "scatterpolar"
           }
          ],
          "scatterpolargl": [
           {
            "marker": {
             "colorbar": {
              "outlinewidth": 0,
              "ticks": ""
             }
            },
            "type": "scatterpolargl"
           }
          ],
          "scatterternary": [
           {
            "marker": {
             "colorbar": {
              "outlinewidth": 0,
              "ticks": ""
             }
            },
            "type": "scatterternary"
           }
          ],
          "surface": [
           {
            "colorbar": {
             "outlinewidth": 0,
             "ticks": ""
            },
            "colorscale": [
             [
              0,
              "#0d0887"
             ],
             [
              0.1111111111111111,
              "#46039f"
             ],
             [
              0.2222222222222222,
              "#7201a8"
             ],
             [
              0.3333333333333333,
              "#9c179e"
             ],
             [
              0.4444444444444444,
              "#bd3786"
             ],
             [
              0.5555555555555556,
              "#d8576b"
             ],
             [
              0.6666666666666666,
              "#ed7953"
             ],
             [
              0.7777777777777778,
              "#fb9f3a"
             ],
             [
              0.8888888888888888,
              "#fdca26"
             ],
             [
              1,
              "#f0f921"
             ]
            ],
            "type": "surface"
           }
          ],
          "table": [
           {
            "cells": {
             "fill": {
              "color": "#EBF0F8"
             },
             "line": {
              "color": "white"
             }
            },
            "header": {
             "fill": {
              "color": "#C8D4E3"
             },
             "line": {
              "color": "white"
             }
            },
            "type": "table"
           }
          ]
         },
         "layout": {
          "annotationdefaults": {
           "arrowcolor": "#2a3f5f",
           "arrowhead": 0,
           "arrowwidth": 1
          },
          "autotypenumbers": "strict",
          "coloraxis": {
           "colorbar": {
            "outlinewidth": 0,
            "ticks": ""
           }
          },
          "colorscale": {
           "diverging": [
            [
             0,
             "#8e0152"
            ],
            [
             0.1,
             "#c51b7d"
            ],
            [
             0.2,
             "#de77ae"
            ],
            [
             0.3,
             "#f1b6da"
            ],
            [
             0.4,
             "#fde0ef"
            ],
            [
             0.5,
             "#f7f7f7"
            ],
            [
             0.6,
             "#e6f5d0"
            ],
            [
             0.7,
             "#b8e186"
            ],
            [
             0.8,
             "#7fbc41"
            ],
            [
             0.9,
             "#4d9221"
            ],
            [
             1,
             "#276419"
            ]
           ],
           "sequential": [
            [
             0,
             "#0d0887"
            ],
            [
             0.1111111111111111,
             "#46039f"
            ],
            [
             0.2222222222222222,
             "#7201a8"
            ],
            [
             0.3333333333333333,
             "#9c179e"
            ],
            [
             0.4444444444444444,
             "#bd3786"
            ],
            [
             0.5555555555555556,
             "#d8576b"
            ],
            [
             0.6666666666666666,
             "#ed7953"
            ],
            [
             0.7777777777777778,
             "#fb9f3a"
            ],
            [
             0.8888888888888888,
             "#fdca26"
            ],
            [
             1,
             "#f0f921"
            ]
           ],
           "sequentialminus": [
            [
             0,
             "#0d0887"
            ],
            [
             0.1111111111111111,
             "#46039f"
            ],
            [
             0.2222222222222222,
             "#7201a8"
            ],
            [
             0.3333333333333333,
             "#9c179e"
            ],
            [
             0.4444444444444444,
             "#bd3786"
            ],
            [
             0.5555555555555556,
             "#d8576b"
            ],
            [
             0.6666666666666666,
             "#ed7953"
            ],
            [
             0.7777777777777778,
             "#fb9f3a"
            ],
            [
             0.8888888888888888,
             "#fdca26"
            ],
            [
             1,
             "#f0f921"
            ]
           ]
          },
          "colorway": [
           "#636efa",
           "#EF553B",
           "#00cc96",
           "#ab63fa",
           "#FFA15A",
           "#19d3f3",
           "#FF6692",
           "#B6E880",
           "#FF97FF",
           "#FECB52"
          ],
          "font": {
           "color": "#2a3f5f"
          },
          "geo": {
           "bgcolor": "white",
           "lakecolor": "white",
           "landcolor": "#E5ECF6",
           "showlakes": true,
           "showland": true,
           "subunitcolor": "white"
          },
          "hoverlabel": {
           "align": "left"
          },
          "hovermode": "closest",
          "mapbox": {
           "style": "light"
          },
          "paper_bgcolor": "white",
          "plot_bgcolor": "#E5ECF6",
          "polar": {
           "angularaxis": {
            "gridcolor": "white",
            "linecolor": "white",
            "ticks": ""
           },
           "bgcolor": "#E5ECF6",
           "radialaxis": {
            "gridcolor": "white",
            "linecolor": "white",
            "ticks": ""
           }
          },
          "scene": {
           "xaxis": {
            "backgroundcolor": "#E5ECF6",
            "gridcolor": "white",
            "gridwidth": 2,
            "linecolor": "white",
            "showbackground": true,
            "ticks": "",
            "zerolinecolor": "white"
           },
           "yaxis": {
            "backgroundcolor": "#E5ECF6",
            "gridcolor": "white",
            "gridwidth": 2,
            "linecolor": "white",
            "showbackground": true,
            "ticks": "",
            "zerolinecolor": "white"
           },
           "zaxis": {
            "backgroundcolor": "#E5ECF6",
            "gridcolor": "white",
            "gridwidth": 2,
            "linecolor": "white",
            "showbackground": true,
            "ticks": "",
            "zerolinecolor": "white"
           }
          },
          "shapedefaults": {
           "line": {
            "color": "#2a3f5f"
           }
          },
          "ternary": {
           "aaxis": {
            "gridcolor": "white",
            "linecolor": "white",
            "ticks": ""
           },
           "baxis": {
            "gridcolor": "white",
            "linecolor": "white",
            "ticks": ""
           },
           "bgcolor": "#E5ECF6",
           "caxis": {
            "gridcolor": "white",
            "linecolor": "white",
            "ticks": ""
           }
          },
          "title": {
           "x": 0.05
          },
          "xaxis": {
           "automargin": true,
           "gridcolor": "white",
           "linecolor": "white",
           "ticks": "",
           "title": {
            "standoff": 15
           },
           "zerolinecolor": "white",
           "zerolinewidth": 2
          },
          "yaxis": {
           "automargin": true,
           "gridcolor": "white",
           "linecolor": "white",
           "ticks": "",
           "title": {
            "standoff": 15
           },
           "zerolinecolor": "white",
           "zerolinewidth": 2
          }
         }
        }
       }
      },
      "text/html": [
       "<div>                            <div id=\"8d1ce105-f0fa-4b95-ab17-737600c61ff1\" class=\"plotly-graph-div\" style=\"height:525px; width:100%;\"></div>            <script type=\"text/javascript\">                require([\"plotly\"], function(Plotly) {                    window.PLOTLYENV=window.PLOTLYENV || {};                                    if (document.getElementById(\"8d1ce105-f0fa-4b95-ab17-737600c61ff1\")) {                    Plotly.newPlot(                        \"8d1ce105-f0fa-4b95-ab17-737600c61ff1\",                        [{\"marker\": {\"color\": \"yellow\", \"size\": 17.033545334623284}, \"mode\": \"markers\", \"name\": \"Sun\", \"type\": \"scatter3d\", \"x\": [0.0], \"y\": [0.0], \"z\": [0.0]}, {\"marker\": {\"color\": \"orange\", \"size\": 2.4696659693164986}, \"mode\": \"markers\", \"name\": \"Mercury\", \"type\": \"scatter3d\", \"x\": [-37444347036.21001], \"y\": [28019681182.11], \"z\": [18849331708.2]}, {\"marker\": {\"color\": \"blue\", \"size\": 3.9909272105614755}, \"mode\": \"markers\", \"name\": \"Earth\", \"type\": \"scatter3d\", \"x\": [-136014384040.44], \"y\": [53750514942.51], \"z\": [23307348255.06]}, {\"marker\": {\"color\": \"red\", \"size\": 2.910970628501772}, \"mode\": \"markers\", \"name\": \"Mars\", \"type\": \"scatter3d\", \"x\": [179966238452.1], \"y\": [108772611785.97], \"z\": [45028959080.7]}, {\"marker\": {\"color\": \"orange\", \"size\": 13.220344171011584}, \"mode\": \"markers\", \"name\": \"Jupiter\", \"type\": \"scatter3d\", \"x\": [558448851323.1], \"y\": [456572701376.4], \"z\": [182060608641.9]}, {\"marker\": {\"color\": \"brown\", \"size\": 12.065653732807021}, \"mode\": \"markers\", \"name\": \"Saturn\", \"type\": \"scatter3d\", \"x\": [922121274994.8], \"y\": [952489642746.9], \"z\": [353798964205.50006]}, {\"marker\": {\"color\": \"purple\", \"size\": 7.962725663992198}, \"mode\": \"markers\", \"name\": \"Uranus\", \"type\": \"scatter3d\", \"x\": [2181136954806.0], \"y\": [-1850525660559.0], \"z\": [-841338424816.7999]}, {\"marker\": {\"color\": \"cyan\", \"size\": 8.003436761791773}, \"mode\": \"markers\", \"name\": \"Neptune\", \"type\": \"scatter3d\", \"x\": [2535683908365.0], \"y\": [-3424295260323.0], \"z\": [-1464563154152.9998]}],                        {\"scene\": {\"bgcolor\": \"black\", \"xaxis\": {\"autorange\": false, \"range\": [-2537221000000.0, 2537221000000.0], \"visible\": false}, \"yaxis\": {\"autorange\": false, \"range\": [-3423288000000.0, 3423288000000.0], \"visible\": false}, \"zaxis\": {\"autorange\": false, \"range\": [-1464189000000.0, 1464189000000.0], \"visible\": false}}, \"template\": {\"data\": {\"bar\": [{\"error_x\": {\"color\": \"#2a3f5f\"}, \"error_y\": {\"color\": \"#2a3f5f\"}, \"marker\": {\"line\": {\"color\": \"#E5ECF6\", \"width\": 0.5}}, \"type\": \"bar\"}], \"barpolar\": [{\"marker\": {\"line\": {\"color\": \"#E5ECF6\", \"width\": 0.5}}, \"type\": \"barpolar\"}], \"carpet\": [{\"aaxis\": {\"endlinecolor\": \"#2a3f5f\", \"gridcolor\": \"white\", \"linecolor\": \"white\", \"minorgridcolor\": \"white\", \"startlinecolor\": \"#2a3f5f\"}, \"baxis\": {\"endlinecolor\": \"#2a3f5f\", \"gridcolor\": \"white\", \"linecolor\": \"white\", \"minorgridcolor\": \"white\", \"startlinecolor\": \"#2a3f5f\"}, \"type\": \"carpet\"}], \"choropleth\": [{\"colorbar\": {\"outlinewidth\": 0, \"ticks\": \"\"}, \"type\": \"choropleth\"}], \"contour\": [{\"colorbar\": {\"outlinewidth\": 0, \"ticks\": \"\"}, \"colorscale\": [[0.0, \"#0d0887\"], [0.1111111111111111, \"#46039f\"], [0.2222222222222222, \"#7201a8\"], [0.3333333333333333, \"#9c179e\"], [0.4444444444444444, \"#bd3786\"], [0.5555555555555556, \"#d8576b\"], [0.6666666666666666, \"#ed7953\"], [0.7777777777777778, \"#fb9f3a\"], [0.8888888888888888, \"#fdca26\"], [1.0, \"#f0f921\"]], \"type\": \"contour\"}], \"contourcarpet\": [{\"colorbar\": {\"outlinewidth\": 0, \"ticks\": \"\"}, \"type\": \"contourcarpet\"}], \"heatmap\": [{\"colorbar\": {\"outlinewidth\": 0, \"ticks\": \"\"}, \"colorscale\": [[0.0, \"#0d0887\"], [0.1111111111111111, \"#46039f\"], [0.2222222222222222, \"#7201a8\"], [0.3333333333333333, \"#9c179e\"], [0.4444444444444444, \"#bd3786\"], [0.5555555555555556, \"#d8576b\"], [0.6666666666666666, \"#ed7953\"], [0.7777777777777778, \"#fb9f3a\"], [0.8888888888888888, \"#fdca26\"], [1.0, \"#f0f921\"]], \"type\": \"heatmap\"}], \"heatmapgl\": [{\"colorbar\": {\"outlinewidth\": 0, \"ticks\": \"\"}, \"colorscale\": [[0.0, \"#0d0887\"], [0.1111111111111111, \"#46039f\"], [0.2222222222222222, \"#7201a8\"], [0.3333333333333333, \"#9c179e\"], [0.4444444444444444, \"#bd3786\"], [0.5555555555555556, \"#d8576b\"], [0.6666666666666666, \"#ed7953\"], [0.7777777777777778, \"#fb9f3a\"], [0.8888888888888888, \"#fdca26\"], [1.0, \"#f0f921\"]], \"type\": \"heatmapgl\"}], \"histogram\": [{\"marker\": {\"colorbar\": {\"outlinewidth\": 0, \"ticks\": \"\"}}, \"type\": \"histogram\"}], \"histogram2d\": [{\"colorbar\": {\"outlinewidth\": 0, \"ticks\": \"\"}, \"colorscale\": [[0.0, \"#0d0887\"], [0.1111111111111111, \"#46039f\"], [0.2222222222222222, \"#7201a8\"], [0.3333333333333333, \"#9c179e\"], [0.4444444444444444, \"#bd3786\"], [0.5555555555555556, \"#d8576b\"], [0.6666666666666666, \"#ed7953\"], [0.7777777777777778, \"#fb9f3a\"], [0.8888888888888888, \"#fdca26\"], [1.0, \"#f0f921\"]], \"type\": \"histogram2d\"}], \"histogram2dcontour\": [{\"colorbar\": {\"outlinewidth\": 0, \"ticks\": \"\"}, \"colorscale\": [[0.0, \"#0d0887\"], [0.1111111111111111, \"#46039f\"], [0.2222222222222222, \"#7201a8\"], [0.3333333333333333, \"#9c179e\"], [0.4444444444444444, \"#bd3786\"], [0.5555555555555556, \"#d8576b\"], [0.6666666666666666, \"#ed7953\"], [0.7777777777777778, \"#fb9f3a\"], [0.8888888888888888, \"#fdca26\"], [1.0, \"#f0f921\"]], \"type\": \"histogram2dcontour\"}], \"mesh3d\": [{\"colorbar\": {\"outlinewidth\": 0, \"ticks\": \"\"}, \"type\": \"mesh3d\"}], \"parcoords\": [{\"line\": {\"colorbar\": {\"outlinewidth\": 0, \"ticks\": \"\"}}, \"type\": \"parcoords\"}], \"pie\": [{\"automargin\": true, \"type\": \"pie\"}], \"scatter\": [{\"marker\": {\"colorbar\": {\"outlinewidth\": 0, \"ticks\": \"\"}}, \"type\": \"scatter\"}], \"scatter3d\": [{\"line\": {\"colorbar\": {\"outlinewidth\": 0, \"ticks\": \"\"}}, \"marker\": {\"colorbar\": {\"outlinewidth\": 0, \"ticks\": \"\"}}, \"type\": \"scatter3d\"}], \"scattercarpet\": [{\"marker\": {\"colorbar\": {\"outlinewidth\": 0, \"ticks\": \"\"}}, \"type\": \"scattercarpet\"}], \"scattergeo\": [{\"marker\": {\"colorbar\": {\"outlinewidth\": 0, \"ticks\": \"\"}}, \"type\": \"scattergeo\"}], \"scattergl\": [{\"marker\": {\"colorbar\": {\"outlinewidth\": 0, \"ticks\": \"\"}}, \"type\": \"scattergl\"}], \"scattermapbox\": [{\"marker\": {\"colorbar\": {\"outlinewidth\": 0, \"ticks\": \"\"}}, \"type\": \"scattermapbox\"}], \"scatterpolar\": [{\"marker\": {\"colorbar\": {\"outlinewidth\": 0, \"ticks\": \"\"}}, \"type\": \"scatterpolar\"}], \"scatterpolargl\": [{\"marker\": {\"colorbar\": {\"outlinewidth\": 0, \"ticks\": \"\"}}, \"type\": \"scatterpolargl\"}], \"scatterternary\": [{\"marker\": {\"colorbar\": {\"outlinewidth\": 0, \"ticks\": \"\"}}, \"type\": \"scatterternary\"}], \"surface\": [{\"colorbar\": {\"outlinewidth\": 0, \"ticks\": \"\"}, \"colorscale\": [[0.0, \"#0d0887\"], [0.1111111111111111, \"#46039f\"], [0.2222222222222222, \"#7201a8\"], [0.3333333333333333, \"#9c179e\"], [0.4444444444444444, \"#bd3786\"], [0.5555555555555556, \"#d8576b\"], [0.6666666666666666, \"#ed7953\"], [0.7777777777777778, \"#fb9f3a\"], [0.8888888888888888, \"#fdca26\"], [1.0, \"#f0f921\"]], \"type\": \"surface\"}], \"table\": [{\"cells\": {\"fill\": {\"color\": \"#EBF0F8\"}, \"line\": {\"color\": \"white\"}}, \"header\": {\"fill\": {\"color\": \"#C8D4E3\"}, \"line\": {\"color\": \"white\"}}, \"type\": \"table\"}]}, \"layout\": {\"annotationdefaults\": {\"arrowcolor\": \"#2a3f5f\", \"arrowhead\": 0, \"arrowwidth\": 1}, \"autotypenumbers\": \"strict\", \"coloraxis\": {\"colorbar\": {\"outlinewidth\": 0, \"ticks\": \"\"}}, \"colorscale\": {\"diverging\": [[0, \"#8e0152\"], [0.1, \"#c51b7d\"], [0.2, \"#de77ae\"], [0.3, \"#f1b6da\"], [0.4, \"#fde0ef\"], [0.5, \"#f7f7f7\"], [0.6, \"#e6f5d0\"], [0.7, \"#b8e186\"], [0.8, \"#7fbc41\"], [0.9, \"#4d9221\"], [1, \"#276419\"]], \"sequential\": [[0.0, \"#0d0887\"], [0.1111111111111111, \"#46039f\"], [0.2222222222222222, \"#7201a8\"], [0.3333333333333333, \"#9c179e\"], [0.4444444444444444, \"#bd3786\"], [0.5555555555555556, \"#d8576b\"], [0.6666666666666666, \"#ed7953\"], [0.7777777777777778, \"#fb9f3a\"], [0.8888888888888888, \"#fdca26\"], [1.0, \"#f0f921\"]], \"sequentialminus\": [[0.0, \"#0d0887\"], [0.1111111111111111, \"#46039f\"], [0.2222222222222222, \"#7201a8\"], [0.3333333333333333, \"#9c179e\"], [0.4444444444444444, \"#bd3786\"], [0.5555555555555556, \"#d8576b\"], [0.6666666666666666, \"#ed7953\"], [0.7777777777777778, \"#fb9f3a\"], [0.8888888888888888, \"#fdca26\"], [1.0, \"#f0f921\"]]}, \"colorway\": [\"#636efa\", \"#EF553B\", \"#00cc96\", \"#ab63fa\", \"#FFA15A\", \"#19d3f3\", \"#FF6692\", \"#B6E880\", \"#FF97FF\", \"#FECB52\"], \"font\": {\"color\": \"#2a3f5f\"}, \"geo\": {\"bgcolor\": \"white\", \"lakecolor\": \"white\", \"landcolor\": \"#E5ECF6\", \"showlakes\": true, \"showland\": true, \"subunitcolor\": \"white\"}, \"hoverlabel\": {\"align\": \"left\"}, \"hovermode\": \"closest\", \"mapbox\": {\"style\": \"light\"}, \"paper_bgcolor\": \"white\", \"plot_bgcolor\": \"#E5ECF6\", \"polar\": {\"angularaxis\": {\"gridcolor\": \"white\", \"linecolor\": \"white\", \"ticks\": \"\"}, \"bgcolor\": \"#E5ECF6\", \"radialaxis\": {\"gridcolor\": \"white\", \"linecolor\": \"white\", \"ticks\": \"\"}}, \"scene\": {\"xaxis\": {\"backgroundcolor\": \"#E5ECF6\", \"gridcolor\": \"white\", \"gridwidth\": 2, \"linecolor\": \"white\", \"showbackground\": true, \"ticks\": \"\", \"zerolinecolor\": \"white\"}, \"yaxis\": {\"backgroundcolor\": \"#E5ECF6\", \"gridcolor\": \"white\", \"gridwidth\": 2, \"linecolor\": \"white\", \"showbackground\": true, \"ticks\": \"\", \"zerolinecolor\": \"white\"}, \"zaxis\": {\"backgroundcolor\": \"#E5ECF6\", \"gridcolor\": \"white\", \"gridwidth\": 2, \"linecolor\": \"white\", \"showbackground\": true, \"ticks\": \"\", \"zerolinecolor\": \"white\"}}, \"shapedefaults\": {\"line\": {\"color\": \"#2a3f5f\"}}, \"ternary\": {\"aaxis\": {\"gridcolor\": \"white\", \"linecolor\": \"white\", \"ticks\": \"\"}, \"baxis\": {\"gridcolor\": \"white\", \"linecolor\": \"white\", \"ticks\": \"\"}, \"bgcolor\": \"#E5ECF6\", \"caxis\": {\"gridcolor\": \"white\", \"linecolor\": \"white\", \"ticks\": \"\"}}, \"title\": {\"x\": 0.05}, \"xaxis\": {\"automargin\": true, \"gridcolor\": \"white\", \"linecolor\": \"white\", \"ticks\": \"\", \"title\": {\"standoff\": 15}, \"zerolinecolor\": \"white\", \"zerolinewidth\": 2}, \"yaxis\": {\"automargin\": true, \"gridcolor\": \"white\", \"linecolor\": \"white\", \"ticks\": \"\", \"title\": {\"standoff\": 15}, \"zerolinecolor\": \"white\", \"zerolinewidth\": 2}}}},                        {\"responsive\": true}                    ).then(function(){\n",
       "                            \n",
       "var gd = document.getElementById('8d1ce105-f0fa-4b95-ab17-737600c61ff1');\n",
       "var x = new MutationObserver(function (mutations, observer) {{\n",
       "        var display = window.getComputedStyle(gd).display;\n",
       "        if (!display || display === 'none') {{\n",
       "            console.log([gd, 'removed!']);\n",
       "            Plotly.purge(gd);\n",
       "            observer.disconnect();\n",
       "        }}\n",
       "}});\n",
       "\n",
       "// Listen for the removal of the full notebook cells\n",
       "var notebookContainer = gd.closest('#notebook-container');\n",
       "if (notebookContainer) {{\n",
       "    x.observe(notebookContainer, {childList: true});\n",
       "}}\n",
       "\n",
       "// Listen for the clearing of the current output cell\n",
       "var outputEl = gd.closest('.output');\n",
       "if (outputEl) {{\n",
       "    x.observe(outputEl, {childList: true});\n",
       "}}\n",
       "\n",
       "                        })                };                });            </script>        </div>"
      ]
     },
     "metadata": {},
     "output_type": "display_data"
    }
   ],
   "source": [
    "# for name in planets_data[\"name\"].to_list():\n",
    "\n",
    "\n",
    "import plotly.graph_objects as go\n",
    "\n",
    "fig =  go.Figure()\n",
    "\n",
    "frame_number=0\n",
    "max_dim = [2.537221e+12, -3.423288e+12, -1.464189e+12]\n",
    "max_dim = tuple(abs(value) for value in max_dim)\n",
    "\n",
    "for planet_name in planets_data[\"name\"].to_list():\n",
    "    planets_data_row = np.dot(planets_data.index, planets_data[\"name\"] == planet_name)\n",
    "    fig.add_trace(go.Scatter3d(x=[position_history[planet_name+\"_x\"][frame_number]],\n",
    "                               y=[position_history[planet_name+\"_y\"][frame_number]],\n",
    "                               z=[position_history[planet_name+\"_z\"][frame_number]],\n",
    "                               name=planet_name,\n",
    "                               mode=\"markers\",\n",
    "                               marker=dict(color=planets_data[\"color\"][planets_data_row],\n",
    "                                           size=planets_data[\"radius\"][planets_data_row])))\n",
    "\n",
    "\n",
    "fig.update_layout(scene=dict(xaxis = dict(range=[-max_dim[0], max_dim[0]], autorange=False, visible=False),\n",
    "                             yaxis = dict(range=[-max_dim[1], max_dim[1]], autorange=False, visible=False),\n",
    "                             zaxis = dict(range=[-max_dim[2], max_dim[2]], autorange=False, visible=False),\n",
    "                             bgcolor=\"black\"))   \n",
    "fig"
   ]
  },
  {
   "cell_type": "code",
   "execution_count": 51,
   "id": "surgical-nursing",
   "metadata": {},
   "outputs": [
    {
     "data": {
      "text/plain": [
       "8"
      ]
     },
     "execution_count": 51,
     "metadata": {},
     "output_type": "execute_result"
    }
   ],
   "source": [
    "np.dot(planets_data.index, planets_data[\"name\"] == \"Neptune\")"
   ]
  },
  {
   "cell_type": "code",
   "execution_count": null,
   "id": "arabic-death",
   "metadata": {},
   "outputs": [],
   "source": [
    "fig = px.scatter_3d(downsampled_position_history, x=\"x\", y=\"y\", z=\"z\", color=\"name\", size=\"radius\",\n",
    "                    animation_frame=\"index\", animation_group=\"name\", template=\"plotly_dark\", opacity=0,\n",
    "                    color_discrete_sequence=[\"orange\", \"crimson\", \"cornflowerblue\", \"cyan\", \n",
    "                                             \"khaki\", \"lightcyan\", \"chocolate\", \"green\"],\n",
    "                   )\n",
    "# size=\"radius\",\n",
    "\n",
    "scene = dict(xaxis = dict(range=[-x_limit, x_limit], autorange=False, visible=False),\n",
    "             yaxis = dict(range=[-y_limit, y_limit], autorange=False, visible=False),\n",
    "             zaxis = dict(range=[-z_limit, z_limit], autorange=False, visible=False), \n",
    "             )\n",
    "\n",
    "updatemenus = [\n",
    "                {\n",
    "                \"buttons\": [\n",
    "                        {\n",
    "                        \"args\": [None, frame_args(30)],\n",
    "                        \"label\": \"&#9654;\", # play symbol\n",
    "                        \"method\": \"animate\",\n",
    "                        },\n",
    "                    \n",
    "                        {\n",
    "                        \"args\": [[None], frame_args(0)],\n",
    "                        \"label\": \"&#9724;\", # pause symbol\n",
    "                        \"method\": \"animate\",\n",
    "                        },\n",
    "                    ],\n",
    "                },\n",
    "            ]\n",
    "\n",
    "marker = dict(opacity=0)\n",
    "\n",
    "sliders = [\n",
    "            {\n",
    "            \"steps\": [\n",
    "                {\n",
    "                    \"args\": [[frame.name], frame_args(0)],\n",
    "                    \"label\": str(index),\n",
    "                    \"method\": \"animate\",\n",
    "                }\n",
    "                for index, frame in enumerate(fig.frames)\n",
    "            ],\n",
    "            }\n",
    "        ]\n",
    "               \n",
    "\n",
    "fig.update_layout(height=800 ,scene_aspectmode='cube', scene = scene, sliders=sliders, updatemenus=updatemenus)\n",
    "fig"
   ]
  },
  {
   "cell_type": "markdown",
   "id": "e04c7e51",
   "metadata": {},
   "source": [
    "## Before saving clear simulation (eg. turn cell to markdown) or the file will take 100mb"
   ]
  },
  {
   "cell_type": "code",
   "execution_count": null,
   "id": "further-culture",
   "metadata": {},
   "outputs": [],
   "source": [
    "# steps = []\n",
    "# slider_range = int(downsampled_position_history.shape[0]/8)\n",
    "# for i in range(slider_range):\n",
    "#     step = dict(\n",
    "#         method=\"update\",\n",
    "#         visible=False,\n",
    "#     )\n",
    "#     steps.append(step)\n",
    "\n",
    "# for step in steps[::3]:\n",
    "#     step[\"visible\"]=True\n",
    "    \n",
    "\n",
    "# sliders = [dict(\n",
    "#     steps=steps\n",
    "# )]\n",
    "\n",
    "\n",
    "# return {\n",
    "#             \"frame\": {\"duration\": duration},\n",
    "#             \"mode\": \"next\",\n",
    "#             \"fromcurrent\": True,\n",
    "#             \"transition\": {\"duration\": duration, \"easing\": \"linear\"},\n",
    "#             }"
   ]
  },
  {
   "cell_type": "code",
   "execution_count": null,
   "id": "professional-governor",
   "metadata": {},
   "outputs": [],
   "source": [
    "# Import data\n",
    "import time\n",
    "import numpy as np\n",
    "\n",
    "from skimage import io\n",
    "\n",
    "vol = io.imread(\"https://s3.amazonaws.com/assets.datacamp.com/blog_assets/attention-mri.tif\")\n",
    "volume = vol.T\n",
    "r, c = volume[0].shape\n",
    "\n",
    "# Define frames\n",
    "import plotly.graph_objects as go\n",
    "nb_frames = 68\n",
    "\n",
    "fig = go.Figure(frames=[go.Frame(data=go.Surface(\n",
    "    z=(6.7 - k * 0.1) * np.ones((r, c)),\n",
    "    surfacecolor=np.flipud(volume[67 - k]),\n",
    "    cmin=0, cmax=200\n",
    "    ),\n",
    "    name=str(k) # you need to name the frame for the animation to behave properly\n",
    "    )\n",
    "    for k in range(nb_frames)])\n",
    "\n",
    "# Add data to be displayed before animation starts\n",
    "fig.add_trace(go.Surface(\n",
    "    z=6.7 * np.ones((r, c)),\n",
    "    surfacecolor=np.flipud(volume[67]),\n",
    "    colorscale='Gray',\n",
    "    cmin=0, cmax=200,\n",
    "    colorbar=dict(thickness=20, ticklen=4)\n",
    "    ))\n",
    "\n",
    "\n",
    "def frame_args(duration):\n",
    "    return {\n",
    "            \"frame\": {\"duration\": duration},\n",
    "            \"mode\": \"immediate\",\n",
    "            \"fromcurrent\": True,\n",
    "            \"transition\": {\"duration\": duration, \"easing\": \"linear\"},\n",
    "        }\n",
    "\n",
    "sliders = [\n",
    "            {\n",
    "                \"pad\": {\"b\": 10, \"t\": 60},\n",
    "                \"len\": 0.9,\n",
    "                \"x\": 0.1,\n",
    "                \"y\": 0,\n",
    "                \"steps\": [\n",
    "                    {\n",
    "                        \"args\": [[f.name], frame_args(0)],\n",
    "                        \"label\": str(k),\n",
    "                        \"method\": \"animate\",\n",
    "                    }\n",
    "                    for k, f in enumerate(fig.frames)\n",
    "                ],\n",
    "            }\n",
    "        ]\n",
    "\n",
    "# Layout\n",
    "fig.update_layout(\n",
    "         title='Slices in volumetric data',\n",
    "         width=600,\n",
    "         height=600,\n",
    "         scene=dict(\n",
    "                    zaxis=dict(range=[-0.1, 6.8], autorange=False),\n",
    "                    aspectratio=dict(x=1, y=1, z=1),\n",
    "                    ),\n",
    "         updatemenus = [\n",
    "            {\n",
    "                \"buttons\": [\n",
    "                    {\n",
    "                        \"args\": [None, frame_args(50)],\n",
    "                        \"label\": \"&#9654;\", # play symbol\n",
    "                        \"method\": \"animate\",\n",
    "                    },\n",
    "                    {\n",
    "                        \"args\": [[None], frame_args(0)],\n",
    "                        \"label\": \"&#9724;\", # pause symbol\n",
    "                        \"method\": \"animate\",\n",
    "                    },\n",
    "                ],\n",
    "                \"direction\": \"left\",\n",
    "                \"pad\": {\"r\": 10, \"t\": 70},\n",
    "                \"type\": \"buttons\",\n",
    "                \"x\": 0.1,\n",
    "                \"y\": 0,\n",
    "            }\n",
    "         ],\n",
    "         sliders=sliders\n",
    ")\n",
    "\n",
    "fig.show()"
   ]
  }
 ],
 "metadata": {
  "kernelspec": {
   "display_name": "Python 3",
   "language": "python",
   "name": "python3"
  },
  "language_info": {
   "codemirror_mode": {
    "name": "ipython",
    "version": 3
   },
   "file_extension": ".py",
   "mimetype": "text/x-python",
   "name": "python",
   "nbconvert_exporter": "python",
   "pygments_lexer": "ipython3",
   "version": "3.8.8"
  }
 },
 "nbformat": 4,
 "nbformat_minor": 5
}
